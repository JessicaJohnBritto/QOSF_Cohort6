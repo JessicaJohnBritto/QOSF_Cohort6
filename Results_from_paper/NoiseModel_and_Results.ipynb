{
 "cells": [
  {
   "cell_type": "code",
   "execution_count": 1,
   "id": "0ec0e4e8-e771-44ca-9ebb-7f5c270bcd42",
   "metadata": {},
   "outputs": [
    {
     "name": "stdout",
     "output_type": "stream",
     "text": [
      "Requirement already satisfied: ipynb in /opt/conda/lib/python3.9/site-packages (0.5.1)\n",
      "Note: you may need to restart the kernel to use updated packages.\n"
     ]
    }
   ],
   "source": [
    "pip install ipynb"
   ]
  },
  {
   "cell_type": "code",
   "execution_count": 2,
   "id": "b5ae53ad-6a17-4430-b632-383d13316c64",
   "metadata": {},
   "outputs": [],
   "source": [
    "import ipynb"
   ]
  },
  {
   "cell_type": "code",
   "execution_count": 3,
   "id": "da9939c5-939d-4d6d-bbb0-7d33d8780ee6",
   "metadata": {},
   "outputs": [
    {
     "ename": "SyntaxError",
     "evalue": "invalid syntax (noise_model_ionq.ipynb, line 21)",
     "output_type": "error",
     "traceback": [
      "Traceback \u001b[0;36m(most recent call last)\u001b[0m:\n",
      "\u001b[0m  File \u001b[1;32m/opt/.qbraid/environments/qbraid_000000/pyenv/lib/python3.9/site-packages/IPython/core/interactiveshell.py:3460\u001b[0m in \u001b[1;35mrun_code\u001b[0m\n    exec(code_obj, self.user_global_ns, self.user_ns)\u001b[0m\n",
      "\u001b[0m  Cell \u001b[1;32mIn[3], line 1\u001b[0m\n    from ipynb.fs.full.noise_model_ionq import *\u001b[0m\n",
      "\u001b[0m  File \u001b[1;32m<frozen importlib._bootstrap>:1007\u001b[0m in \u001b[1;35m_find_and_load\u001b[0m\n",
      "\u001b[0m  File \u001b[1;32m<frozen importlib._bootstrap>:986\u001b[0m in \u001b[1;35m_find_and_load_unlocked\u001b[0m\n",
      "\u001b[0m  File \u001b[1;32m<frozen importlib._bootstrap>:680\u001b[0m in \u001b[1;35m_load_unlocked\u001b[0m\n",
      "\u001b[0m  File \u001b[1;32m<frozen importlib._bootstrap_external>:846\u001b[0m in \u001b[1;35mexec_module\u001b[0m\n",
      "\u001b[0;36m  File \u001b[0;32m/opt/conda/lib/python3.9/site-packages/ipynb/fs/full/__init__.py:43\u001b[0;36m in \u001b[0;35mget_code\u001b[0;36m\n\u001b[0;31m    return self.source_to_code(code_from_ipynb(nb), self.path)\u001b[0;36m\n",
      "\u001b[0;36m  File \u001b[0;32m~/QOSF_Cohort6/Results_from_paper/noise_model_ionq.ipynb:21\u001b[0;36m\u001b[0m\n\u001b[0;31m    \"output_type\": \"stream\",\u001b[0m\n\u001b[0m    ^\u001b[0m\n\u001b[0;31mSyntaxError\u001b[0m\u001b[0;31m:\u001b[0m invalid syntax\n"
     ]
    }
   ],
   "source": [
    "from ipynb.fs.full.noise_model_ionq import *"
   ]
  },
  {
   "cell_type": "code",
   "execution_count": null,
   "id": "2e0c5194-d80c-49f5-b766-065d1e985cd8",
   "metadata": {},
   "outputs": [],
   "source": [
    "qq = noise_model_ionq.wrapper(circ_markovian,'perfect',plot_title='Perfect',shots=1024,pump=zz_pump)\n",
    "#qq.draw('mpl')"
   ]
  }
 ],
 "metadata": {
  "kernelspec": {
   "display_name": "Python 3 [Default]",
   "language": "python",
   "name": "python3"
  },
  "language_info": {
   "codemirror_mode": {
    "name": "ipython",
    "version": 3
   },
   "file_extension": ".py",
   "mimetype": "text/x-python",
   "name": "python",
   "nbconvert_exporter": "python",
   "pygments_lexer": "ipython3",
   "version": "3.9.10"
  }
 },
 "nbformat": 4,
 "nbformat_minor": 5
}
