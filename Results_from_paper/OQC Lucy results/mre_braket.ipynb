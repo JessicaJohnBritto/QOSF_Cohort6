{
 "cells": [
  {
   "cell_type": "code",
   "execution_count": null,
   "id": "b5b5392c-945d-45a6-8607-6896773c12a0",
   "metadata": {
    "tags": []
   },
   "outputs": [],
   "source": [
    "%pip install --force-reinstall \"cirq==1.3.0\""
   ]
  },
  {
   "cell_type": "code",
   "execution_count": 1,
   "id": "3dbd2e1a-8c36-4c63-9db3-31bd681231cf",
   "metadata": {
    "tags": []
   },
   "outputs": [],
   "source": [
    "import numpy as np\n",
    "import matplotlib.pyplot as plt\n",
    "from braket.circuits import Circuit\n",
    "from braket.devices import LocalSimulator\n",
    "from mitiq.zne.scaling import fold_gates_at_random\n",
    "from mitiq.zne import inference\n",
    "from qbraid import device_wrapper, job_wrapper, get_jobs"
   ]
  },
  {
   "cell_type": "markdown",
   "id": "deea5ef5-933a-4fa2-af03-c91159ce9cc3",
   "metadata": {
    "tags": []
   },
   "source": [
    "<h2>Getting folded circuits:</h2>\n",
    "\n",
    "1. Create circuits using H and CNOT in Braket\n",
    "2. Fold circuits using Mitiq\n",
    "3. Decompose circuits in Braket"
   ]
  },
  {
   "cell_type": "code",
   "execution_count": 2,
   "id": "44b9af07-2bab-4421-899d-ea8dfcdb47bc",
   "metadata": {
    "tags": []
   },
   "outputs": [
    {
     "name": "stdout",
     "output_type": "stream",
     "text": [
      "   ┌──────┐\n",
      "q: ┤ √Xdg ├\n",
      "   └──────┘\n",
      "global phase: π/2\n",
      "   ┌────────┐┌────┐┌────────┐\n",
      "q: ┤ Rz(-π) ├┤ √X ├┤ Rz(-π) ├\n",
      "   └────────┘└────┘└────────┘\n"
     ]
    }
   ],
   "source": [
    "from qiskit import QuantumCircuit, transpile\n",
    "qc = QuantumCircuit(1)\n",
    "qc.sxdg(0)\n",
    "qc2 = transpile(qc,basis_gates=['ecr','id','rz','sx','x'],optimization_level=3)\n",
    "print(qc)\n",
    "print(qc2)"
   ]
  },
  {
   "cell_type": "code",
   "execution_count": 3,
   "id": "deb20235-1a38-422b-b260-4f651834f54b",
   "metadata": {
    "tags": []
   },
   "outputs": [],
   "source": [
    "def h(qc,q0):\n",
    "    qc.rz(q0,np.pi/2).v(q0).rz(q0,np.pi/2)\n",
    "\n",
    "def cnot(qc,q0,q1):\n",
    "    qc.rz(q0,-np.pi/2)\n",
    "    qc.rz(q1,-np.pi).v(q1).rz(q1,-np.pi)\n",
    "    qc.ecr(q0,q1)\n",
    "    qc.x(q0)\n",
    "\n",
    "def ry(qc,q0,theta):\n",
    "    qc.rz(q0,-np.pi).v(q0).rz(q0,np.pi-theta).v(q0)\n",
    "\n",
    "#RCNOT implements CNOT(control,target)\n",
    "#with 4 Hadamards and CNOT(target,control)\n",
    "def rcnot(qc,control,target):\n",
    "    h(qc,control)\n",
    "    h(qc,target)\n",
    "    qc.cnot(target,control)\n",
    "    h(qc,control)\n",
    "    h(qc,target)\n",
    "\n",
    "#Reference:\n",
    "#https://quantumcomputing.stackexchange.com/questions/9623/constructing-a-circuit-for-c1u-for-rotation-operators-with-two-single-qubit\n",
    "def cry(qc,control,target,theta):\n",
    "    qc.cnot(control,target)\n",
    "    ry(qc,target,-theta/2)\n",
    "    qc.cnot(control,target)\n",
    "    ry(qc,target,theta/2)\n",
    "\n",
    "def zz_xx_pump(sys,env,p,state):\n",
    "    qc = Circuit()\n",
    "    if state[0] == '1':\n",
    "        qc.x(sys[0])\n",
    "    if state[1] =='1':\n",
    "        qc.x(sys[1])\n",
    "    qc.cnot(sys[1],sys[0])\n",
    "    qc.x(env[0])\n",
    "    rcnot(qc,sys[0],env[0])\n",
    "    cry(qc,env[0],sys[0],2*np.arcsin(np.sqrt(p)))\n",
    "    rcnot(qc,sys[0],env[0])\n",
    "    h(qc,sys[1])\n",
    "    qc.x(env[1])\n",
    "    rcnot(qc,sys[1],env[1])\n",
    "    cry(qc,env[1],sys[1],2*np.arcsin(np.sqrt(p)))\n",
    "    rcnot(qc,sys[1],env[1])\n",
    "    return qc\n",
    "\n",
    "def decompose_circuit(qc):\n",
    "    qc2 = Circuit()\n",
    "    for instruction in qc.instructions:\n",
    "        if instruction.operator.name == 'CNot':\n",
    "            cnot(qc2,instruction.target[0],instruction.target[1])\n",
    "        elif instruction.operator.name == 'Z':\n",
    "            qc2.rz(instruction.target[0],np.pi)\n",
    "        elif instruction.operator.name == 'S':\n",
    "            qc2.rz(instruction.target[0],np.pi/2)\n",
    "        elif instruction.operator.name == 'Si':\n",
    "            qc2.rz(instruction.target[0],-np.pi/2)\n",
    "        elif instruction.operator.name == 'Vi':\n",
    "            qc2.rz(instruction.target[0],-np.pi)\n",
    "            qc2.v(instruction.target[0])\n",
    "            qc2.rz(instruction.target[0],-np.pi)\n",
    "        else:\n",
    "            qc2 = qc2.add_instruction(instruction)\n",
    "    return qc2\n",
    "\n",
    "def get_distinct_ops(qc):\n",
    "    distinct_ops = set()\n",
    "    for instruction in qc.instructions:\n",
    "        distinct_ops.add(instruction.operator.name)\n",
    "    return distinct_ops"
   ]
  },
  {
   "cell_type": "code",
   "execution_count": 4,
   "id": "b82b16da-9fae-43ed-b022-b1988e6ea409",
   "metadata": {
    "tags": []
   },
   "outputs": [],
   "source": [
    "env = [4,7]\n",
    "sys = [5,6]\n",
    "probs = np.linspace(0,1,num=5)\n",
    "repcnt = 1024"
   ]
  },
  {
   "cell_type": "markdown",
   "id": "28490455-ab18-425d-a225-d49ef38740a9",
   "metadata": {},
   "source": [
    "<h2>Simulation:</h2>"
   ]
  },
  {
   "cell_type": "code",
   "execution_count": 5,
   "id": "322e224a-2964-4a88-bb10-4a5a52e6aeda",
   "metadata": {
    "tags": []
   },
   "outputs": [],
   "source": [
    "local_sim = LocalSimulator()"
   ]
  },
  {
   "cell_type": "code",
   "execution_count": 6,
   "id": "474003cd-af58-4c63-b8f4-55d79dfe0b37",
   "metadata": {
    "tags": []
   },
   "outputs": [],
   "source": [
    "def simulate(probs,shots):\n",
    "    res = np.zeros(shape=(4,probs.shape[0]))\n",
    "    for i in range(probs.shape[0]):\n",
    "        probs_f = np.zeros(4)\n",
    "        for j in range(4):\n",
    "            j_str = bin(j)[2:].zfill(2)\n",
    "            qc = zz_xx_pump([1,2],[0,3],probs[i],j_str)\n",
    "            result = local_sim.run(qc,shots=shots).result()\n",
    "            counts = result.measurement_counts\n",
    "            for k in range(2**4):\n",
    "                k_str = bin(k)[2:].zfill(4)\n",
    "                probs_f[int(k_str[1:3],2)] += counts.get(k_str,0)/shots\n",
    "        res[:,i] = probs_f/4\n",
    "    return res"
   ]
  },
  {
   "cell_type": "code",
   "execution_count": 9,
   "id": "52ff5527-b738-492a-b3e1-403ac5c1e072",
   "metadata": {
    "tags": []
   },
   "outputs": [],
   "source": [
    "sim_probs = np.linspace(0,1,num=20)\n",
    "sim_res = simulate(sim_probs,20000)\n",
    "test_res = simulate(probs,4096)"
   ]
  },
  {
   "cell_type": "code",
   "execution_count": 10,
   "id": "3d166257-e1af-4a82-970a-8dcd1ba6740e",
   "metadata": {
    "tags": []
   },
   "outputs": [
    {
     "data": {
      "image/png": "[encoded data removed]",
      "text/plain": [
       "<Figure size 640x480 with 1 Axes>"
      ]
     },
     "metadata": {},
     "output_type": "display_data"
    }
   ],
   "source": [
    "plt.scatter(probs,test_res[0,:])\n",
    "plt.scatter(probs,test_res[1,:])\n",
    "plt.scatter(probs,test_res[2,:])\n",
    "plt.scatter(probs,test_res[3,:])\n",
    "plt.plot(sim_probs,sim_res[0,:],linestyle='--')\n",
    "plt.plot(sim_probs,sim_res[1,:],linestyle='--')\n",
    "plt.plot(sim_probs,sim_res[2,:],linestyle='--')\n",
    "plt.plot(sim_probs,sim_res[3,:],linestyle='--')\n",
    "plt.show()"
   ]
  },
  {
   "cell_type": "markdown",
   "id": "f7fc67c7-80fe-4b29-ab5b-0faa595c3d4c",
   "metadata": {
    "tags": []
   },
   "source": [
    "<h2>Running circuits on OQC Lucy:</h2>\n",
    "\n",
    "1. Get decomposed circuits\n",
    "2. Wrap in verbatim box\n",
    "3. Disable qubit rewiring\n",
    "4. Send"
   ]
  },
  {
   "cell_type": "code",
   "execution_count": 11,
   "id": "c69cd570-7109-4d2e-b7ba-194686fab812",
   "metadata": {
    "tags": []
   },
   "outputs": [],
   "source": [
    "scale_factors = [1,3,5,7]"
   ]
  },
  {
   "cell_type": "code",
   "execution_count": 12,
   "id": "0aa61fe6-8649-4e56-8745-387c5c17f836",
   "metadata": {
    "tags": []
   },
   "outputs": [
    {
     "name": "stdout",
     "output_type": "stream",
     "text": [
      "{'id': 'arn:aws:braket:eu-west-2::device/qpu/oqc/Lucy', 'name': 'Lucy', 'provider': 'Oxford', 'vendor': 'AWS', 'numQubits': 8, 'deviceType': 'QPU', 'status': 'OFFLINE', 'queueDepth': 10}\n"
     ]
    }
   ],
   "source": [
    "device_id = \"aws_oqc_lucy\"\n",
    "device = device_wrapper(device_id)\n",
    "print(device.metadata())"
   ]
  },
  {
   "cell_type": "markdown",
   "id": "e1b5a193-1197-4a30-986c-63340a8a5fb9",
   "metadata": {},
   "source": [
    "Generated circuits for scale factors [1,3,5,7] below"
   ]
  },
  {
   "cell_type": "code",
   "execution_count": 21,
   "id": "106e5b18-960e-4913-8fbc-aaac07978186",
   "metadata": {
    "tags": []
   },
   "outputs": [],
   "source": [
    "circs_list = []\n",
    "for sf in scale_factors:\n",
    "    for i in range(probs.shape[0]):\n",
    "        for j in range(4):\n",
    "            j_str = bin(j)[2:].zfill(2)\n",
    "            qc = zz_xx_pump(sys,env,probs[i],j_str)\n",
    "            qc2 = fold_gates_at_random(qc,sf)\n",
    "            qc3 = decompose_circuit(qc2)\n",
    "            verbatim_qc = Circuit().add_verbatim_box(qc3)\n",
    "            circs_list.append(verbatim_qc)"
   ]
  },
  {
   "cell_type": "code",
   "execution_count": 27,
   "id": "a64da148-d9fa-43a0-97c3-fb44c1689c49",
   "metadata": {
    "tags": []
   },
   "outputs": [
    {
     "name": "stdout",
     "output_type": "stream",
     "text": [
      "T  : |      0      |    1    |   2    |    3    |   4    |    5    |   6    |   7    |    8    |   9    |   10    |   11   |   12    |   13   |   14    |   15    |   16    |   17    |   18   |   19    |   20    |   21    |22 |   23    |   24    |   25    |26 |   27    |   28   |   29    |   30   |   31    |   32   |   33   |   34    |   35    |   36    |   37   |   38    |   39   |   40    |   41   |   42   |   43   |   44   |   45   |    46     |\n",
      "                                                                                                                                                                                                                                                                                                                                                                                                                                                                   \n",
      "q4 : -StartVerbatim-X---------Rz(1.57)-V---------Rz(1.57)-Rz(-1.57)------------------------------------------------ECR------X---------Rz(1.57)-V---------Rz(1.57)--Rz(-1.57)-----------ECR------X---------Rz(-1.57)---------------------------------------------ECR-X---------Rz(1.57)-V---------Rz(1.57)-Rz(-1.57)-------------------------------------------------ECR------X---------Rz(1.57)-V---------Rz(1.57)-------------------------------------EndVerbatim-\n",
      "      |                                                                                                            |                                                                   |                                                                        |                                                                                                   |                                                                                  |           \n",
      "q5 : -|-------------Rz(-3.14)-V--------Rz(-3.14)-ECR------Rz(1.57)--V--------Rz(1.57)-Rz(-3.14)-V--------Rz(-3.14)-ECR------Rz(1.57)--V--------Rz(1.57)--Rz(-3.14)-V---------Rz(-3.14)-ECR------Rz(3.14)--V---------Rz(3.14)--V---Rz(-3.14)-V---------Rz(-3.14)-ECR-Rz(3.14)--V--------Rz(3.14)--V--------Rz(1.57)--V--------Rz(1.57)-Rz(-3.14)-V---------Rz(-3.14)-ECR------Rz(1.57)--V--------Rz(1.57)-----------------------------------------------|-----------\n",
      "      |                                          |                                                                                                                                                                                                                                                                                                                                                                                                     |           \n",
      "q6 : -|-------------Rz(-1.57)--------------------ECR------X---------Rz(1.57)-V--------Rz(1.57)--Rz(1.57)-V---------Rz(1.57)-Rz(-3.14)-V--------Rz(-3.14)-ECR-------Rz(1.57)--V---------Rz(1.57)-Rz(-3.14)-V---------Rz(-3.14)-ECR-Rz(3.14)--V---------Rz(3.14)--V---Rz(-3.14)-V--------Rz(-3.14)-ECR------Rz(3.14)--V--------Rz(3.14)-V---------Rz(1.57)--V---------Rz(1.57)-Rz(-3.14)-V--------Rz(-3.14)-ECR------Rz(1.57)-V--------Rz(1.57)----------|-----------\n",
      "      |                                                                                                                                                  |                                                                    |                                                                  |                                                                                                        |                                            |           \n",
      "q7 : -*************-X---------Rz(1.57)-V---------Rz(1.57)-Rz(-1.57)--------------------------------------------------------------------------------------ECR-------X---------Rz(1.57)--V--------Rz(1.57)--Rz(-1.57)-----------ECR-X---------Rz(-1.57)--------------------------------------------ECR------X---------Rz(1.57)-V--------Rz(1.57)--Rz(-1.57)-------------------------------------------------ECR------X--------Rz(1.57)-V--------Rz(1.57)-***********-\n",
      "\n",
      "T  : |      0      |    1    |   2    |    3    |   4    |    5    |   6    |   7    |    8    |   9    |   10    |   11   |   12    |   13   |   14    |   15    |   16    |   17    |   18   |   19    |   20    |   21    |22 |   23    |   24    |   25    |26 |   27    |   28   |   29    |   30   |   31    |   32   |   33   |   34    |   35    |   36    |   37   |   38    |   39   |   40    |   41   |   42   |   43   |   44   |   45   |    46     |\n"
     ]
    }
   ],
   "source": [
    "print(circs_list[0])"
   ]
  },
  {
   "cell_type": "markdown",
   "id": "66af086f-59d8-495a-957f-3055cbc4d053",
   "metadata": {
    "tags": []
   },
   "source": [
    "<h3>Scale factor 1:</h3>"
   ]
  },
  {
   "cell_type": "code",
   "execution_count": null,
   "id": "3df3eb86-d7ed-4b94-b95c-65040b3ef6b7",
   "metadata": {
    "tags": []
   },
   "outputs": [],
   "source": [
    "jobs_1 = []"
   ]
  },
  {
   "cell_type": "code",
   "execution_count": null,
   "id": "0b03e337-7985-4216-b8f8-cbe444d4b4b4",
   "metadata": {
    "tags": []
   },
   "outputs": [],
   "source": [
    "for circ in circs_list[0:7]:\n",
    "    job = device.run(circ,shots=repcnt,disable_qubit_rewiring=True)\n",
    "    jobs_1.append(job.id)"
   ]
  },
  {
   "cell_type": "code",
   "execution_count": null,
   "id": "5309dc93-39ea-45d8-b3d0-bd2d2bbcc742",
   "metadata": {
    "tags": []
   },
   "outputs": [],
   "source": [
    "print(jobs_1)"
   ]
  },
  {
   "cell_type": "markdown",
   "id": "fbd22307-bd4e-4b7e-9764-6f01d1511355",
   "metadata": {
    "tags": []
   },
   "source": [
    "<h3>Scale factor 3:</h3>"
   ]
  },
  {
   "cell_type": "code",
   "execution_count": null,
   "id": "7da39ccc-97ce-4e7b-b084-e90510b478a3",
   "metadata": {},
   "outputs": [],
   "source": [
    "jobs_3 = []"
   ]
  },
  {
   "cell_type": "code",
   "execution_count": null,
   "id": "fa20c278-3a37-418c-8d16-88b16488cc7e",
   "metadata": {},
   "outputs": [],
   "source": [
    "for circ in circs_list[7:14]:\n",
    "    job = device.run(circ,shots=repcnt,disable_qubit_rewiring=True)\n",
    "    jobs_3.append(job.id)"
   ]
  },
  {
   "cell_type": "code",
   "execution_count": null,
   "id": "a728e40b-50c0-4ec9-8515-d0601e7971ae",
   "metadata": {},
   "outputs": [],
   "source": [
    "print(jobs_3)"
   ]
  },
  {
   "cell_type": "markdown",
   "id": "36b8e49a-c6cc-4422-a9fc-9128c8a47bd1",
   "metadata": {
    "tags": []
   },
   "source": [
    "<h3>Scale factor 5:</h3>"
   ]
  },
  {
   "cell_type": "code",
   "execution_count": null,
   "id": "e53c55be-ad76-4b88-b41a-1b86438c5216",
   "metadata": {},
   "outputs": [],
   "source": [
    "jobs_5 = []"
   ]
  },
  {
   "cell_type": "code",
   "execution_count": null,
   "id": "ec19d0e8-9b22-43f0-903d-1e69ade9a625",
   "metadata": {},
   "outputs": [],
   "source": [
    "for circ in circs_list[14:21]:\n",
    "    job = device.run(circ,shots=repcnt,disable_qubit_rewiring=True)\n",
    "    jobs_5.append(job.id)"
   ]
  },
  {
   "cell_type": "code",
   "execution_count": null,
   "id": "cc1df213-ef0f-4001-b5be-00c1fd32721f",
   "metadata": {},
   "outputs": [],
   "source": [
    "print(jobs_5)"
   ]
  },
  {
   "cell_type": "markdown",
   "id": "64517b32-b93b-476a-99e4-5c39638f3218",
   "metadata": {
    "tags": []
   },
   "source": [
    "<h3>Scale factor 7:</h3>"
   ]
  },
  {
   "cell_type": "code",
   "execution_count": null,
   "id": "f892a5d2-2f79-4017-93e6-ff3240822cd6",
   "metadata": {},
   "outputs": [],
   "source": [
    "jobs_7 = []"
   ]
  },
  {
   "cell_type": "code",
   "execution_count": null,
   "id": "23679b60-1ee5-4c9d-a4d8-c8cb1dc07573",
   "metadata": {},
   "outputs": [],
   "source": [
    "for circ in circs_list[21:28]:\n",
    "    job = device.run(circ,shots=repcnt,disable_qubit_rewiring=True)\n",
    "    jobs_7.append(job.id)"
   ]
  },
  {
   "cell_type": "code",
   "execution_count": null,
   "id": "a27138d9-b919-4185-aab3-3b7fed187652",
   "metadata": {},
   "outputs": [],
   "source": [
    "print(jobs_7)"
   ]
  },
  {
   "cell_type": "markdown",
   "id": "6dbd6120-0b84-4b88-9202-c65161ebdf4e",
   "metadata": {},
   "source": [
    "<h2>Analysis:</h2>"
   ]
  },
  {
   "cell_type": "code",
   "execution_count": null,
   "id": "767ff157-31f3-4eda-b92d-388c47e62dbc",
   "metadata": {
    "tags": []
   },
   "outputs": [],
   "source": [
    "res_1 = [job_wrapper(jobid).result()._result for jobid in jobs_1]"
   ]
  },
  {
   "cell_type": "code",
   "execution_count": null,
   "id": "90fb2340-1c22-486b-b2ee-bf20de3b778f",
   "metadata": {
    "tags": []
   },
   "outputs": [],
   "source": [
    "print(res_1[3].additional_metadata.oqcMetadata.compiledProgram)"
   ]
  },
  {
   "cell_type": "code",
   "execution_count": null,
   "id": "ba96a9d0-5ba0-4012-9a5c-7d4e9e3a7c83",
   "metadata": {
    "tags": []
   },
   "outputs": [],
   "source": [
    "out_1 = []\n",
    "for result in res_1:\n",
    "    counts = result.measurement_probabilities\n",
    "    print(counts)\n",
    "    cnts = [0,0]\n",
    "    for j in range(2**3):\n",
    "        j_str = bin(j)[2:].zfill(3)\n",
    "        if j_str[0] == '0':\n",
    "            cnts[0] += counts.get(j_str,0)\n",
    "        else:\n",
    "            cnts[1] += counts.get(j_str,0)\n",
    "    out_1.append(0.5-cnts[1])"
   ]
  },
  {
   "cell_type": "code",
   "execution_count": null,
   "id": "05fd792e-2e87-45d8-8ea4-97a5f5125471",
   "metadata": {
    "tags": []
   },
   "outputs": [],
   "source": [
    "plt.scatter(t,out_1)\n",
    "sim_t = np.linspace(0,t[-1],num=1000)\n",
    "plt.plot(sim_t,corrfunc(sim_t),linestyle='--')\n",
    "plt.show()"
   ]
  }
 ],
 "metadata": {
  "kernelspec": {
   "display_name": "Python 3 [Default]",
   "language": "python",
   "name": "python3"
  },
  "language_info": {
   "codemirror_mode": {
    "name": "ipython",
    "version": 3
   },
   "file_extension": ".py",
   "mimetype": "text/x-python",
   "name": "python",
   "nbconvert_exporter": "python",
   "pygments_lexer": "ipython3",
   "version": "3.11.6"
  }
 },
 "nbformat": 4,
 "nbformat_minor": 5
}
