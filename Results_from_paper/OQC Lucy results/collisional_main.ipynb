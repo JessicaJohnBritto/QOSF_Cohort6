{
 "cells": [
  {
   "cell_type": "code",
   "execution_count": 5,
   "id": "96b090f1-7886-45d1-b76b-86a5c88e535e",
   "metadata": {},
   "outputs": [],
   "source": [
    "import cirq\n",
    "import numpy as np\n",
    "from mitiq.zne.scaling import fold_gates_at_random\n",
    "from mitiq.zne import inference\n",
    "import json"
   ]
  },
  {
   "cell_type": "code",
   "execution_count": 2,
   "id": "5e91e1c1-22ff-475a-bfa6-13837b42f8d1",
   "metadata": {
    "tags": []
   },
   "outputs": [],
   "source": [
    "@cirq.transformer\n",
    "class SubstituteGate:\n",
    "    \"\"\"Transformer to substitute `source` gates with `target` in the input circuit.\"\"\"\n",
    "\n",
    "    def __init__(self, source, target):\n",
    "        self._source = source\n",
    "        self._target = target\n",
    "\n",
    "    def __call__(self, circuit, *, context=None):\n",
    "        batch_replace = []\n",
    "        for i, op in circuit.findall_operations(lambda op: op.gate == self._source):\n",
    "            batch_replace.append((i, op, self._target.on(*op.qubits)))\n",
    "        transformed_circuit = circuit.unfreeze(copy=True)\n",
    "        transformed_circuit.batch_replace(batch_replace)\n",
    "        return transformed_circuit\n",
    "\n",
    "substitute_h_inv = SubstituteGate(cirq.H**-1.0,cirq.H)\n",
    "substitute_cnot_inv = SubstituteGate(cirq.CNOT**-1.0,cirq.CNOT)"
   ]
  },
  {
   "cell_type": "code",
   "execution_count": 3,
   "id": "1bbf5c3e-2841-4d91-8e10-7a523b98e98b",
   "metadata": {
    "tags": []
   },
   "outputs": [],
   "source": [
    "def prepare_correlated(env):\n",
    "    yield cirq.H(env[1])\n",
    "    yield cirq.CNOT(env[1],env[0])\n",
    "    yield cirq.H(env[0])\n",
    "    yield cirq.H(env[1])\n",
    "\n",
    "def collide(env,sys,theta):\n",
    "    yield cirq.CNOT(env,sys)\n",
    "    yield cirq.rz(rads=2*theta).on(sys)\n",
    "    yield cirq.CNOT(env,sys)\n",
    "\n",
    "def collision_pattern_correlated(env,sys,n,theta):\n",
    "    for i in range(n):\n",
    "        yield from collide(env[1],sys,theta)\n",
    "\n",
    "def meas_coherence(sys):\n",
    "    yield cirq.H(sys)\n",
    "    yield cirq.measure(sys, key = 'answer')\n",
    "\n",
    "def collision_circuit(env,sys,n,theta):\n",
    "    yield cirq.H(sys)\n",
    "    yield from prepare_correlated(env)\n",
    "    yield from collision_pattern_correlated(env,sys,n,theta)\n",
    "    yield from meas_coherence(sys)"
   ]
  },
  {
   "cell_type": "code",
   "execution_count": 6,
   "id": "3696f981-cc37-47d2-85ad-2f2e0546cb8d",
   "metadata": {
    "tags": []
   },
   "outputs": [],
   "source": [
    "n = 7\n",
    "g = 1\n",
    "tau = np.pi/6\n",
    "t = np.array(list(range(1,n+1)))*tau\n",
    "theta = g*tau\n",
    "\n",
    "def corrfunc(time):\n",
    "    return (np.cos(time)**2-np.sin(time)**2)/2\n",
    "\n",
    "sys = cirq.LineQubit(0)\n",
    "env = cirq.LineQubit.range(1,3)\n",
    "repcnt = 1024"
   ]
  },
  {
   "cell_type": "markdown",
   "id": "a7979cf9-dac8-43f2-9fdf-75d1b9040f2b",
   "metadata": {},
   "source": [
    "<h2>Creating circuits:</h2>"
   ]
  },
  {
   "cell_type": "code",
   "execution_count": 8,
   "id": "49e81089-9869-46d7-ac46-04193aec64d7",
   "metadata": {},
   "outputs": [],
   "source": [
    "scale_factors = [1,3,5,7]"
   ]
  },
  {
   "cell_type": "code",
   "execution_count": 9,
   "id": "b054ec22-a04f-402f-aa8d-3568dfd553ad",
   "metadata": {},
   "outputs": [],
   "source": [
    "circs_json = []"
   ]
  },
  {
   "cell_type": "code",
   "execution_count": 10,
   "id": "fa513b04-8f9b-4752-b60f-73235d9b224e",
   "metadata": {},
   "outputs": [],
   "source": [
    "for scale_factor in scale_factors:\n",
    "    for i in range(1,n+1):\n",
    "        circ = cirq.Circuit(collision_circuit(env,sys,i,theta))\n",
    "        circ_f = fold_gates_at_random(circ,scale_factor)\n",
    "        circ_t = substitute_cnot_inv(substitute_h_inv(circ_f))\n",
    "        circs_json.append(cirq.to_json(circ_t))"
   ]
  },
  {
   "cell_type": "code",
   "execution_count": null,
   "id": "cdd2d0e7-a2a8-495a-848e-b515b9abfcd7",
   "metadata": {},
   "outputs": [],
   "source": [
    "with open('collisional_circuits_1.json','x') as file:\n",
    "    json.dump(circs_json,file)"
   ]
  }
 ],
 "metadata": {
  "kernelspec": {
   "display_name": "Python 3 (ipykernel)",
   "language": "python",
   "name": "python3"
  },
  "language_info": {
   "codemirror_mode": {
    "name": "ipython",
    "version": 3
   },
   "file_extension": ".py",
   "mimetype": "text/x-python",
   "name": "python",
   "nbconvert_exporter": "python",
   "pygments_lexer": "ipython3",
   "version": "3.9.1"
  }
 },
 "nbformat": 4,
 "nbformat_minor": 5
}
