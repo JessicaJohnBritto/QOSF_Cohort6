{
 "cells": [
  {
   "cell_type": "code",
   "execution_count": 1,
   "id": "b6353a06-4cd6-4ee5-95cf-e98aca7cabb6",
   "metadata": {
    "tags": []
   },
   "outputs": [
    {
     "ename": "ModuleNotFoundError",
     "evalue": "No module named 'mitiq'",
     "output_type": "error",
     "traceback": [
      "\u001b[0;31m---------------------------------------------------------------------------\u001b[0m",
      "\u001b[0;31mModuleNotFoundError\u001b[0m                       Traceback (most recent call last)",
      "Cell \u001b[0;32mIn[1], line 6\u001b[0m\n\u001b[1;32m      4\u001b[0m \u001b[38;5;28;01mfrom\u001b[39;00m \u001b[38;5;21;01mqbraid\u001b[39;00m \u001b[38;5;28;01mimport\u001b[39;00m device_wrapper, job_wrapper, get_jobs\n\u001b[1;32m      5\u001b[0m \u001b[38;5;28;01mfrom\u001b[39;00m \u001b[38;5;21;01mqiskit\u001b[39;00m \u001b[38;5;28;01mimport\u001b[39;00m QuantumCircuit, transpile\n\u001b[0;32m----> 6\u001b[0m \u001b[38;5;28;01mfrom\u001b[39;00m \u001b[38;5;21;01mmitiq\u001b[39;00m\u001b[38;5;21;01m.\u001b[39;00m\u001b[38;5;21;01mzne\u001b[39;00m\u001b[38;5;21;01m.\u001b[39;00m\u001b[38;5;21;01mscaling\u001b[39;00m \u001b[38;5;28;01mimport\u001b[39;00m fold_gates_at_random\n\u001b[1;32m      7\u001b[0m \u001b[38;5;28;01mfrom\u001b[39;00m \u001b[38;5;21;01mmitiq\u001b[39;00m\u001b[38;5;21;01m.\u001b[39;00m\u001b[38;5;21;01mzne\u001b[39;00m \u001b[38;5;28;01mimport\u001b[39;00m inference\n",
      "\u001b[0;31mModuleNotFoundError\u001b[0m: No module named 'mitiq'"
     ]
    }
   ],
   "source": [
    "import cirq\n",
    "import numpy as np\n",
    "import matplotlib.pyplot as plt\n",
    "from qbraid import device_wrapper, job_wrapper, get_jobs\n",
    "from qiskit import QuantumCircuit, transpile\n",
    "from mitiq.zne.scaling import fold_gates_at_random\n",
    "from mitiq.zne import inference"
   ]
  },
  {
   "cell_type": "code",
   "execution_count": null,
   "id": "9d0c2cb7-00ab-4156-8b4f-303b522f1da1",
   "metadata": {
    "tags": []
   },
   "outputs": [],
   "source": [
    "@cirq.transformer\n",
    "class SubstituteGate:\n",
    "    \"\"\"Transformer to substitute `source` gates with `target` in the input circuit.\"\"\"\n",
    "\n",
    "    def __init__(self, source, target):\n",
    "        self._source = source\n",
    "        self._target = target\n",
    "\n",
    "    def __call__(self, circuit, *, context=None):\n",
    "        batch_replace = []\n",
    "        for i, op in circuit.findall_operations(lambda op: op.gate == self._source):\n",
    "            batch_replace.append((i, op, self._target.on(*op.qubits)))\n",
    "        transformed_circuit = circuit.unfreeze(copy=True)\n",
    "        transformed_circuit.batch_replace(batch_replace)\n",
    "        return transformed_circuit\n",
    "\n",
    "substitute_h_inv = SubstituteGate(cirq.H**-1.0,cirq.H)\n",
    "substitute_cnot_inv = SubstituteGate(cirq.CNOT**-1.0,cirq.CNOT)"
   ]
  },
  {
   "cell_type": "code",
   "execution_count": null,
   "id": "7ca08565-6f36-466d-ad9f-08be0af3a4c2",
   "metadata": {
    "tags": []
   },
   "outputs": [],
   "source": [
    "def prepare_correlated(env,n=2):\n",
    "    # yield cirq.H(env[0])\n",
    "    # yield cirq.H(env[0])\n",
    "    yield cirq.H(env[1])\n",
    "    yield cirq.CNOT(env[1],env[0])\n",
    "    yield cirq.H(env[0])\n",
    "    yield cirq.H(env[1])\n",
    "\n",
    "def collide(env,sys,theta):\n",
    "    yield cirq.CNOT(env,sys)\n",
    "    yield cirq.rz(rads=2*theta).on(sys)\n",
    "    yield cirq.CNOT(env,sys)\n",
    "\n",
    "def collision_pattern_correlated(env,sys,n,theta):\n",
    "    for i in range(n):\n",
    "        yield from collide(env[1],sys,theta)\n",
    "\n",
    "def meas_coherence(sys):\n",
    "    yield cirq.H(sys)\n",
    "    yield cirq.measure(sys, key = 'answer')\n",
    "\n",
    "def collision_circuit(env,sys,n,theta):\n",
    "    yield cirq.H(sys)\n",
    "    yield from prepare_correlated(env,n)\n",
    "    yield from collision_pattern_correlated(env,sys,n,theta)\n",
    "    yield from meas_coherence(sys)"
   ]
  },
  {
   "cell_type": "code",
   "execution_count": null,
   "id": "b4844b75-81d7-47e1-ace6-3ba94d298987",
   "metadata": {
    "tags": []
   },
   "outputs": [],
   "source": [
    "n = 7\n",
    "g = 1\n",
    "tau = np.pi/6\n",
    "t = np.array(list(range(1,n+1)))*tau\n",
    "theta = g*tau\n",
    "\n",
    "def corrfunc(time):\n",
    "    return (np.cos(time)**2-np.sin(time)**2)/2\n",
    "\n",
    "sys = cirq.LineQubit(0)\n",
    "env = cirq.LineQubit.range(1,3)\n",
    "repcnt = 1024"
   ]
  },
  {
   "cell_type": "code",
   "execution_count": null,
   "id": "7350a7a2-d9d5-4f79-9161-d80b6413bdf3",
   "metadata": {
    "tags": []
   },
   "outputs": [],
   "source": [
    "device_id = \"aws_oqc_lucy\"\n",
    "device = device_wrapper(device_id)\n",
    "print(device.metadata())"
   ]
  },
  {
   "cell_type": "code",
   "execution_count": 123,
   "id": "33c135af-e4c6-4236-854f-1d26d88edad0",
   "metadata": {
    "tags": []
   },
   "outputs": [
    {
     "name": "stdout",
     "output_type": "stream",
     "text": [
      "T  : |0|1|2|3|   4    |5|6|   7    |8|9|Result Types|\n",
      "                                                     \n",
      "q0 : -H-----X-Rz(1.05)-X-X-Rz(1.05)-X-H-Probability--\n",
      "            |          | |          |                \n",
      "q1 : -H-C---|----------|-|----------|----------------\n",
      "        |   |          | |          |                \n",
      "q2 : ---X-C-C----------C-|----------|----------------\n",
      "          |              |          |                \n",
      "q3 : -----X--------------C----------C----------------\n",
      "\n",
      "T  : |0|1|2|3|   4    |5|6|   7    |8|9|Result Types|\n",
      "None\n"
     ]
    },
    {
     "name": "stderr",
     "output_type": "stream",
     "text": [
      "/opt/.qbraid/environments/qbraid_000000/pyenv/lib/python3.11/site-packages/qbraid/providers/device.py:158: UserWarning: Device is currently offline. Depending on the provider queueing system, submitting this job may result in an exception or a long wait time.\n",
      "  warnings.warn(\n"
     ]
    }
   ],
   "source": [
    "ctest = cirq.Circuit(collision_circuit(env,sys,2,theta))\n",
    "ctest_transpiled = device.transpile(ctest)\n",
    "ctest_transpiled.probability(target=0)\n",
    "print(ctest_transpiled)\n",
    "print(device.verify_run(ctest_transpiled))"
   ]
  },
  {
   "cell_type": "code",
   "execution_count": 4,
   "id": "89d3839a-1f4e-415c-b0fd-1a72f11c79e0",
   "metadata": {
    "tags": []
   },
   "outputs": [],
   "source": [
    "job_id_list = ['aws_oqc_lucy-contactmainakroy-qjob-cnyjtqb99ze6cgxh1i04', 'aws_oqc_lucy-contactmainakroy-qjob-bvpfi6ksfjmko64y9rw0', 'aws_oqc_lucy-contactmainakroy-qjob-4cpfspya341fgdoiav6k', 'aws_oqc_lucy-contactmainakroy-qjob-7zhr19e7vm5eatge6dmt', 'aws_oqc_lucy-contactmainakroy-qjob-wdjo3f0vhkf7tdt0htz9', 'aws_oqc_lucy-contactmainakroy-qjob-hv96m234ukwpss9q4bfg', 'aws_oqc_lucy-contactmainakroy-qjob-5l5s10jjy7ch2opkurec', 'aws_oqc_lucy-contactmainakroy-qjob-r7te174727p6d1xotllb', 'aws_oqc_lucy-contactmainakroy-qjob-4cl3d9vaqk0qec3lfw0m', 'aws_oqc_lucy-contactmainakroy-qjob-57vok0bs1g4cexy7lb48', 'aws_oqc_lucy-contactmainakroy-qjob-4zowawtr8wp7ggczvyh5', 'aws_oqc_lucy-contactmainakroy-qjob-st7tr5u2xinbzvmosf58', 'aws_oqc_lucy-contactmainakroy-qjob-j9gttk6t09hlp9326z4g', 'aws_oqc_lucy-contactmainakroy-qjob-brxzw2ntxtl05uycv2ie', 'aws_oqc_lucy-contactmainakroy-qjob-n59aejag3uk0x7h3mgwh', 'aws_oqc_lucy-contactmainakroy-qjob-3npskzsctou2aigjxzag', 'aws_oqc_lucy-contactmainakroy-qjob-ztkn91zmdc7zc204rdcw', 'aws_oqc_lucy-contactmainakroy-qjob-e92ewogyauvfjvim5lap', 'aws_oqc_lucy-contactmainakroy-qjob-vjyf4k07rvb82671lkk6', 'aws_oqc_lucy-contactmainakroy-qjob-1aoe47xhuk7ii2xmdeld']"
   ]
  },
  {
   "cell_type": "code",
   "execution_count": 11,
   "id": "912133cc-12ad-4d6f-85a1-592d510d86c8",
   "metadata": {
    "tags": []
   },
   "outputs": [],
   "source": [
    "for i in range(1,n+1):\n",
    "    circuit = cirq.Circuit(collision_circuit(env,sys,i,theta))\n",
    "    transpiled_circuit = device.transpile(circuit)\n",
    "    job = device.run(transpiled_circuit,shots=repcnt)\n",
    "    job_id_list.append(job.id)\n",
    "    # result = simulator.run(circuit,repetitions=repcnt)\n",
    "    # histogram = result.histogram(key = 'answer')\n",
    "    # rho_12_corr.append((histogram[0]-histogram[1])/(2*repcnt))"
   ]
  },
  {
   "cell_type": "markdown",
   "id": "22214421-1ef7-4979-8fac-1a10f4e7ce7e",
   "metadata": {},
   "source": [
    "<hr></hr>"
   ]
  },
  {
   "cell_type": "code",
   "execution_count": 16,
   "id": "e498eacc-367b-4cc6-b404-c1c0e5dc2b5e",
   "metadata": {},
   "outputs": [
    {
     "name": "stdout",
     "output_type": "stream",
     "text": [
      "['aws_oqc_lucy-contactmainakroy-qjob-cnyjtqb99ze6cgxh1i04', 'aws_oqc_lucy-contactmainakroy-qjob-bvpfi6ksfjmko64y9rw0', 'aws_oqc_lucy-contactmainakroy-qjob-4cpfspya341fgdoiav6k', 'aws_oqc_lucy-contactmainakroy-qjob-7zhr19e7vm5eatge6dmt', 'aws_oqc_lucy-contactmainakroy-qjob-wdjo3f0vhkf7tdt0htz9', 'aws_oqc_lucy-contactmainakroy-qjob-hv96m234ukwpss9q4bfg', 'aws_oqc_lucy-contactmainakroy-qjob-5l5s10jjy7ch2opkurec', 'aws_oqc_lucy-contactmainakroy-qjob-r7te174727p6d1xotllb', 'aws_oqc_lucy-contactmainakroy-qjob-4cl3d9vaqk0qec3lfw0m', 'aws_oqc_lucy-contactmainakroy-qjob-57vok0bs1g4cexy7lb48', 'aws_oqc_lucy-contactmainakroy-qjob-4zowawtr8wp7ggczvyh5', 'aws_oqc_lucy-contactmainakroy-qjob-st7tr5u2xinbzvmosf58', 'aws_oqc_lucy-contactmainakroy-qjob-j9gttk6t09hlp9326z4g', 'aws_oqc_lucy-contactmainakroy-qjob-brxzw2ntxtl05uycv2ie', 'aws_oqc_lucy-contactmainakroy-qjob-n59aejag3uk0x7h3mgwh', 'aws_oqc_lucy-contactmainakroy-qjob-3npskzsctou2aigjxzag', 'aws_oqc_lucy-contactmainakroy-qjob-ztkn91zmdc7zc204rdcw', 'aws_oqc_lucy-contactmainakroy-qjob-e92ewogyauvfjvim5lap', 'aws_oqc_lucy-contactmainakroy-qjob-vjyf4k07rvb82671lkk6', 'aws_oqc_lucy-contactmainakroy-qjob-1aoe47xhuk7ii2xmdeld']\n"
     ]
    }
   ],
   "source": [
    "print(job_id_list)"
   ]
  },
  {
   "cell_type": "markdown",
   "id": "ad2fdeda-7014-4e4f-bfbe-884e561e182b",
   "metadata": {},
   "source": [
    "The below cell takes like...5 minutes to run"
   ]
  },
  {
   "cell_type": "code",
   "execution_count": 5,
   "id": "9d58c50c-458e-41c6-abe3-37e347ef00d6",
   "metadata": {
    "tags": []
   },
   "outputs": [],
   "source": [
    "results = [job_wrapper(job_id).result() for job_id in job_id_list]"
   ]
  },
  {
   "cell_type": "code",
   "execution_count": 16,
   "id": "fd4e10dd-6ab2-4f11-90ad-027ad9d65aaf",
   "metadata": {},
   "outputs": [],
   "source": [
    "rho_12_corr = []\n",
    "\n",
    "for result in results:\n",
    "    probs = result._result.measurement_probabilities\n",
    "    prob1 = 0.0\n",
    "    prob0 = 0.0\n",
    "    for key,val in probs.items():\n",
    "        # print(key[0])\n",
    "        if key[0]=='0':\n",
    "            prob0 += val\n",
    "        else:\n",
    "            prob1 += val\n",
    "    # print(prob0+prob1)\n",
    "    rho_12_corr.append((prob0-prob1)/2)"
   ]
  },
  {
   "cell_type": "code",
   "execution_count": 17,
   "id": "55880a3a-2b83-4af0-a195-703be33dd6b9",
   "metadata": {
    "tags": []
   },
   "outputs": [
    {
     "data": {
      "image/png": "[encoded data removed]",
      "text/plain": [
       "<Figure size 640x480 with 1 Axes>"
      ]
     },
     "metadata": {},
     "output_type": "display_data"
    }
   ],
   "source": [
    "def corrfunc(time):\n",
    "    return (np.cos(time)**2-np.sin(time)**2)/2\n",
    "\n",
    "x_ax = np.linspace(0,t[-1],num=1000)\n",
    "\n",
    "plt.scatter(t,rho_12_corr,label='correlated')\n",
    "plt.plot(x_ax,corrfunc(x_ax),linestyle='--')\n",
    "plt.legend()\n",
    "plt.show()"
   ]
  }
 ],
 "metadata": {
  "kernelspec": {
   "display_name": "Python 3 (ipykernel)",
   "language": "python",
   "name": "python3"
  },
  "language_info": {
   "codemirror_mode": {
    "name": "ipython",
    "version": 3
   },
   "file_extension": ".py",
   "mimetype": "text/x-python",
   "name": "python",
   "nbconvert_exporter": "python",
   "pygments_lexer": "ipython3",
   "version": "3.9.1"
  }
 },
 "nbformat": 4,
 "nbformat_minor": 5
}
