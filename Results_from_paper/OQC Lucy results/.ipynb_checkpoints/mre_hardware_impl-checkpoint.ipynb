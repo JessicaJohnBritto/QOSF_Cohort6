{
 "cells": [
  {
   "cell_type": "code",
   "execution_count": 72,
   "id": "114b0c35-7a38-4776-ba27-d5aa2b0aa21d",
   "metadata": {
    "tags": []
   },
   "outputs": [
    {
     "name": "stdout",
     "output_type": "stream",
     "text": [
      "\u001b[0;35mSuccessfully enabled qBraid Quantum Jobs in the \u001b[1;35mdefault\u001b[0m\u001b[0;35m environment.\u001b[0m\n",
      "\u001b[0;35mEvery \u001b[1;35mAWS\u001b[0m\u001b[0;35m job you run will now be submitted through the qBraid API, so no access keys/tokens are necessary. \u001b[0m\n",
      "\n",
      "\u001b[0;35mTo disable, run:\u001b[0m `qbraid jobs disable default`\n"
     ]
    }
   ],
   "source": [
    "!qbraid jobs enable default"
   ]
  },
  {
   "cell_type": "code",
   "execution_count": 2,
   "id": "e72c2712-1d28-4411-a129-ba52799f946b",
   "metadata": {
    "tags": []
   },
   "outputs": [],
   "source": [
    "import cirq\n",
    "import numpy as np\n",
    "import matplotlib.pyplot as plt\n",
    "from qbraid import device_wrapper, job_wrapper, get_jobs\n",
    "from collections import Counter"
   ]
  },
  {
   "cell_type": "code",
   "execution_count": 1,
   "id": "4811c9e8-9881-4035-8e8c-286c3c7aa007",
   "metadata": {
    "tags": []
   },
   "outputs": [],
   "source": [
    "#Reminder: cirq.CNOT(control,target)\n",
    "\n",
    "def cRx(theta,target,control):\n",
    "    yield cirq.Rz(rads=-np.pi/2).on(target)\n",
    "    yield cirq.CNOT(control,target)\n",
    "    yield cirq.Ry(rads=-theta/2).on(target)\n",
    "    yield cirq.CNOT(control,target)\n",
    "    yield cirq.Ry(rads=theta/2).on(target)\n",
    "    yield cirq.Rz(rads=np.pi/2).on(target)\n",
    "\n",
    "def xx_pump(sys,env,p):\n",
    "    yield cirq.CNOT(sys[1],sys[0])\n",
    "    yield cirq.H(sys[1])\n",
    "    yield cirq.X(env[0])\n",
    "    yield cirq.CNOT(sys[1],env[0])\n",
    "    yield from cRx(np.arccos(1-2*p),sys[1],env[0])\n",
    "    # yield cirq.Rx(rads=np.arccos(1-2*p)).on(sys[1]).controlled_by(env[0])\n",
    "    yield cirq.CNOT(sys[1],env[0])\n",
    "\n",
    "def zz_xx_pump(sys,env,p):\n",
    "    yield cirq.CNOT(sys[1],sys[0])\n",
    "    yield cirq.X(env[0])\n",
    "    yield cirq.CNOT(sys[0],env[0])\n",
    "    yield from cRx(np.arccos(1-2*p),sys[0],env[0])\n",
    "    # yield cirq.Rx(rads=np.arccos(1-2*p)).on(sys[0]).controlled_by(env[0])\n",
    "    yield cirq.CNOT(sys[0],env[0])\n",
    "    yield cirq.H(sys[1])\n",
    "    yield cirq.X(env[1])\n",
    "    yield cirq.CNOT(sys[1],env[1])\n",
    "    yield from cRx(np.arccos(1-2*p),sys[1],env[1])\n",
    "    # yield cirq.Rx(rads=np.arccos(1-2*p)).on(sys[1]).controlled_by(env[1])\n",
    "    yield cirq.CNOT(sys[1],env[1])"
   ]
  },
  {
   "cell_type": "code",
   "execution_count": 3,
   "id": "6d586d3a-9907-4cdd-a11c-ce900a3e9e21",
   "metadata": {
    "tags": []
   },
   "outputs": [],
   "source": [
    "env = [cirq.LineQubit(0),cirq.LineQubit(3)]\n",
    "sys = [cirq.LineQubit(1),cirq.LineQubit(2)]\n",
    "probs = np.linspace(0,1,num=5)\n",
    "repcnt = 1024"
   ]
  },
  {
   "cell_type": "markdown",
   "id": "ae6e3201-8650-4a73-95fc-db19e834abcc",
   "metadata": {},
   "source": [
    "Mappings:\n",
    "\n",
    "$\\vert \\phi+ \\rangle = \\vert 00 \\rangle$\n",
    "\n",
    "$\\vert \\psi+ \\rangle = \\vert 01 \\rangle$\n",
    "\n",
    "$\\vert \\phi- \\rangle = \\vert 10 \\rangle$\n",
    "\n",
    "$\\vert \\psi- \\rangle = \\vert 11 \\rangle$"
   ]
  },
  {
   "cell_type": "code",
   "execution_count": 4,
   "id": "a1a511a0-4301-4034-b0b4-73b48eac2fc5",
   "metadata": {
    "tags": []
   },
   "outputs": [],
   "source": [
    "def calc_pump_sim(pump,sys,env,p,repcnt):\n",
    "    \n",
    "    simulator = cirq.Simulator()\n",
    "    final_hist = Counter()\n",
    "    \n",
    "    for j in range(2**2):\n",
    "        circuit = cirq.Circuit()\n",
    "        if (j&1) == 1:\n",
    "            circuit.append(cirq.X.on(sys[0]))\n",
    "        if (j&1) == 2:\n",
    "            circuit.append(cirq.X.on(sys[1]))\n",
    "        circuit.append(pump(sys,env,p))\n",
    "        circuit.append(cirq.measure(sys, key = 'answer'))\n",
    "        \n",
    "        result = simulator.run(circuit,repetitions=repcnt)\n",
    "        histogram = result.histogram(key = 'answer')\n",
    "        final_hist += histogram\n",
    "\n",
    "    for x in final_hist:\n",
    "        final_hist[x]/=(4*repcnt)\n",
    "\n",
    "    return final_hist"
   ]
  },
  {
   "cell_type": "code",
   "execution_count": 61,
   "id": "6139ddf7-9926-4f37-aa7e-0598eae1c0f7",
   "metadata": {
    "tags": []
   },
   "outputs": [
    {
     "name": "stdout",
     "output_type": "stream",
     "text": [
      "{'id': 'arn:aws:braket:eu-west-2::device/qpu/oqc/Lucy', 'name': 'Lucy', 'provider': 'Oxford', 'vendor': 'AWS', 'numQubits': 8, 'deviceType': 'QPU', 'status': 'ONLINE', 'queueDepth': 0}\n"
     ]
    }
   ],
   "source": [
    "device_id = \"aws_oqc_lucy\"\n",
    "device = device_wrapper(device_id)\n",
    "print(device.metadata())"
   ]
  },
  {
   "cell_type": "code",
   "execution_count": 77,
   "id": "6b1d96a2-ad5b-4bfc-8ab1-1bb841d8b480",
   "metadata": {
    "tags": []
   },
   "outputs": [
    {
     "name": "stdout",
     "output_type": "stream",
     "text": [
      "T  : |0|1|2|   3    |4|Result Types|\n",
      "                                    \n",
      "q0 : -X---X-C--------X--------------\n",
      "          | |        |              \n",
      "q1 : -X-X-|-|--------|-Probability--\n",
      "      |   | |        | |            \n",
      "q2 : -C-H-C-Rx(0.93)-C-Probability--\n",
      "\n",
      "T  : |0|1|2|   3    |4|Result Types|\n",
      "None\n"
     ]
    },
    {
     "name": "stderr",
     "output_type": "stream",
     "text": [
      "/opt/.qbraid/environments/qbraid_000000/pyenv/lib/python3.11/site-packages/qbraid/providers/device.py:158: UserWarning: Device is currently offline. Depending on the provider queueing system, submitting this job may result in an exception or a long wait time.\n",
      "  warnings.warn(\n"
     ]
    }
   ],
   "source": [
    "ctest = cirq.Circuit(xx_pump(sys,env,0.2))\n",
    "ctest.append(cirq.X.on(sys[0]))\n",
    "ctest_transpiled = device.transpile(ctest)\n",
    "ctest_transpiled.probability(target=[1,2])\n",
    "print(ctest_transpiled)\n",
    "print(device.verify_run(ctest_transpiled))"
   ]
  },
  {
   "cell_type": "code",
   "execution_count": 74,
   "id": "d6e9287f-5347-48f5-82b3-a92f13a4c6dd",
   "metadata": {
    "tags": []
   },
   "outputs": [],
   "source": [
    "def oqc_create_jobs(pump,sys,env,p,repcnt):\n",
    "    job_id_list = []\n",
    "    for j in range(2**2):\n",
    "        circuit = cirq.Circuit()\n",
    "        if (j&1) == 1:\n",
    "            circuit.append(cirq.X.on(sys[0]))\n",
    "        if (j&1) == 2:\n",
    "            circuit.append(cirq.X.on(sys[1]))\n",
    "        circuit.append(pump(sys,env,p))\n",
    "        transpiled_circuit = device.transpile(circuit)\n",
    "        job = device.run(transpiled_circuit,shots=repcnt)\n",
    "        job_id_list.append(job.id)\n",
    "    return job_id_list"
   ]
  },
  {
   "cell_type": "markdown",
   "id": "0abcb6f2-1be3-497a-a374-dac2fed69e2c",
   "metadata": {
    "tags": []
   },
   "source": [
    "<h2>ZZ XX pump:</h2>"
   ]
  },
  {
   "cell_type": "code",
   "execution_count": 75,
   "id": "4c420cf2-ec5d-4854-97dc-3b4c60d6e79a",
   "metadata": {
    "tags": []
   },
   "outputs": [],
   "source": [
    "zz_xx_job_ids = []"
   ]
  },
  {
   "cell_type": "code",
   "execution_count": null,
   "id": "ffa00652-5902-4848-b6e0-856c36f0f530",
   "metadata": {
    "tags": []
   },
   "outputs": [],
   "source": [
    "print('Job ids for probabilities',*probs)\n",
    "for p in probs:\n",
    "    job_ids = oqc_create_jobs(zz_xx_pump,sys,env,p,repcnt)\n",
    "    zz_xx_job_ids.append(job_ids)"
   ]
  },
  {
   "cell_type": "code",
   "execution_count": null,
   "id": "71122dcd-0629-47af-aac3-595a65e5929b",
   "metadata": {},
   "outputs": [],
   "source": [
    "print(zz_xx_job_ids)"
   ]
  },
  {
   "cell_type": "markdown",
   "id": "01a8e047-b1a5-4465-94fd-001eaea1b8a1",
   "metadata": {
    "tags": []
   },
   "source": [
    "<h2>Simulation:</h2>"
   ]
  },
  {
   "cell_type": "code",
   "execution_count": 11,
   "id": "e097ad5b-e579-49ec-aed2-d0abd8d2235e",
   "metadata": {
    "tags": []
   },
   "outputs": [],
   "source": [
    "hists = [calc_pump_sim(zz_xx_pump,sys,env,p,repcnt) for p in probs]"
   ]
  },
  {
   "cell_type": "code",
   "execution_count": 12,
   "id": "f520555b-581c-4434-99ce-c2280f6116a7",
   "metadata": {
    "tags": []
   },
   "outputs": [
    {
     "data": {
      "image/png": "[encoded data removed]",
      "text/plain": [
       "<Figure size 640x480 with 1 Axes>"
      ]
     },
     "metadata": {},
     "output_type": "display_data"
    }
   ],
   "source": [
    "def calc_plot(hists):\n",
    "    pops = [[],[],[],[]]\n",
    "    for counts in hists:\n",
    "        for i in range(4):\n",
    "            pops[i].append(counts[i])\n",
    "\n",
    "    plt.scatter(probs,pops[0],label='|phi+>')\n",
    "    plt.scatter(probs,pops[1],label='|phi->')\n",
    "    plt.scatter(probs,pops[2],label='|psi+>')\n",
    "    plt.scatter(probs,pops[3],label='|psi->')\n",
    "    plt.legend()\n",
    "    plt.show()\n",
    "\n",
    "calc_plot(hists)"
   ]
  }
 ],
 "metadata": {
  "kernelspec": {
   "display_name": "Python 3 [Default]",
   "language": "python",
   "name": "python3"
  },
  "language_info": {
   "codemirror_mode": {
    "name": "ipython",
    "version": 3
   },
   "file_extension": ".py",
   "mimetype": "text/x-python",
   "name": "python",
   "nbconvert_exporter": "python",
   "pygments_lexer": "ipython3",
   "version": "3.11.6"
  }
 },
 "nbformat": 4,
 "nbformat_minor": 5
}
