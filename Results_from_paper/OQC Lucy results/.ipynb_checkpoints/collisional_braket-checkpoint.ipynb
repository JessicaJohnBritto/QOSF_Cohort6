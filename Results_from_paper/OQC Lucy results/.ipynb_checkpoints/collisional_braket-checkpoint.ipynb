{
 "cells": [
  {
   "cell_type": "code",
   "execution_count": null,
   "id": "24493ffb-da85-4448-91c0-166d0e6de655",
   "metadata": {},
   "outputs": [],
   "source": [
    "import numpy as np\n",
    "import matplotlib.pyplot as plt\n",
    "from braket.circuits import Circuit\n",
    "from braket.devices import LocalSimulator\n",
    "from mitiq.zne.scaling import fold_gates_at_random\n",
    "from mitiq.zne import inference"
   ]
  },
  {
   "cell_type": "markdown",
   "id": "94ceaae0-e810-4d38-aa1f-a5d8717621d7",
   "metadata": {},
   "source": [
    "<h2>Getting folded circuits:</h2>\n",
    "\n",
    "1. Create circuits using H and CNOT in Braket\n",
    "2. Fold circuits using Mitiq\n",
    "3. Decompose circuits in Braket"
   ]
  },
  {
   "cell_type": "code",
   "execution_count": null,
   "id": "07eb63e3-a0e8-43dc-83d6-c9b0d3eb3c9b",
   "metadata": {},
   "outputs": [],
   "source": [
    "def h(qc,q0):\n",
    "    qc.rz(q0,np.pi/2).v(q0).rz(q0,np.pi/2)\n",
    "\n",
    "def cnot(qc,q0,q1):\n",
    "    qc.rz(q0,-np.pi/2)\n",
    "    qc.rz(q1,-np.pi).v(q1).rz(q1,-np.pi)\n",
    "    qc.ecr(q0,q1)\n",
    "    qc.x(q0)\n",
    "\n",
    "def collisional_circuit(env,sys,n_col,theta):\n",
    "    qc = Circuit()\n",
    "    qc.h(sys).h(env[1]).cnot(env[1],env[0]).h(env[0]).h(env[1])\n",
    "    for i in range(n_col):\n",
    "        qc.cnot(env[1],sys[0]).rz(sys[0],2*theta).cnot(env[1],sys[0])\n",
    "    qc.h(sys)\n",
    "    return qc\n",
    "\n",
    "def decompose_circuit(qc):\n",
    "    qc2 = Circuit()\n",
    "    for instruction in qc.instructions:\n",
    "        if instruction.operator.name == 'H':\n",
    "            h(qc2,instruction.target[0])\n",
    "        elif instruction.operator.name == 'CNot':\n",
    "            cnot(qc2,instruction.target[0],instruction.target[1])\n",
    "        else:\n",
    "            qc2 = qc2.add_instruction(instruction)\n",
    "    return qc2"
   ]
  },
  {
   "cell_type": "code",
   "execution_count": null,
   "id": "954d6218-b24a-4e14-a204-f44483cd7029",
   "metadata": {
    "tags": []
   },
   "outputs": [],
   "source": [
    "n = 7\n",
    "g = 1\n",
    "tau = np.pi/6\n",
    "theta = g*tau\n",
    "t = np.array(list(range(1,n+1)))*theta\n",
    "\n",
    "def corrfunc(time):\n",
    "    return (np.cos(time)**2-np.sin(time)**2)/2\n",
    "\n",
    "sys = [5]\n",
    "env = [3,4]\n",
    "repcnt = 1024"
   ]
  },
  {
   "cell_type": "markdown",
   "id": "f22f8961-70d4-459a-932e-71ddeaf58663",
   "metadata": {},
   "source": [
    "<h2>Simulation:</h2>"
   ]
  },
  {
   "cell_type": "code",
   "execution_count": null,
   "id": "a2f2142b-4a21-4582-9a4a-5fa3ebdc82ce",
   "metadata": {},
   "outputs": [],
   "source": [
    "local_sim = LocalSimulator()"
   ]
  },
  {
   "cell_type": "code",
   "execution_count": null,
   "id": "f61c15c8-7505-494a-a210-82f408692761",
   "metadata": {},
   "outputs": [],
   "source": [
    "res = []\n",
    "for i in range(1,n+1):\n",
    "    shots = 4096\n",
    "    qc = collisional_circuit([1,2],[0],i,theta)\n",
    "    qc2 = fold_gates_at_random(qc,3)\n",
    "    qc3 = decompose_circuit(qc2)\n",
    "    # verbatim_qc = Circuit().add_verbatim_box(qc)\n",
    "    result = local_sim.run(qc3,shots=shots).result()\n",
    "    counts = result.measurement_counts\n",
    "    cnts = [0,0]\n",
    "    for j in range(2**3):\n",
    "        j_str = bin(j)[2:].zfill(3)\n",
    "        if j_str[0] == '0':\n",
    "            cnts[0] += counts.get(j_str,0)\n",
    "        else:\n",
    "            cnts[1] += counts.get(j_str,0)\n",
    "    res.append(0.5-cnts[1]/shots)"
   ]
  },
  {
   "cell_type": "code",
   "execution_count": null,
   "id": "66da1b83-1370-47b2-8a4a-480b4234b2d2",
   "metadata": {},
   "outputs": [],
   "source": [
    "plt.scatter(t,res)\n",
    "sim_t = np.linspace(0,t[-1],num=1000)\n",
    "plt.plot(sim_t,corrfunc(sim_t),linestyle='--')\n",
    "plt.show()"
   ]
  },
  {
   "cell_type": "markdown",
   "id": "0b1d95eb-fbc1-4630-a9d7-d3a9d4dcd07d",
   "metadata": {},
   "source": [
    "<h2>Running circuits on OQC Lucy:</h2>\n",
    "\n",
    "1. Get decomposed circuits\n",
    "2. Wrap in verbatim box\n",
    "3. Disable qubit rewiring\n",
    "4. Send"
   ]
  },
  {
   "cell_type": "code",
   "execution_count": null,
   "id": "52d14ebb-a423-40c7-b0c9-bddceeb546e2",
   "metadata": {},
   "outputs": [],
   "source": [
    "scale_factors = [1,3,5,7]"
   ]
  }
 ],
 "metadata": {
  "kernelspec": {
   "display_name": "Python 3 (ipykernel)",
   "language": "python",
   "name": "python3"
  },
  "language_info": {
   "codemirror_mode": {
    "name": "ipython",
    "version": 3
   },
   "file_extension": ".py",
   "mimetype": "text/x-python",
   "name": "python",
   "nbconvert_exporter": "python",
   "pygments_lexer": "ipython3",
   "version": "3.9.1"
  }
 },
 "nbformat": 4,
 "nbformat_minor": 5
}
