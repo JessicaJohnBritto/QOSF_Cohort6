{
 "cells": [
  {
   "cell_type": "code",
   "execution_count": 1,
   "id": "8f2b9a41-e81f-4712-88c5-9cd28d98c5ce",
   "metadata": {},
   "outputs": [],
   "source": [
    "import cirq\n",
    "from qiskit import QuantumCircuit, transpile\n",
    "import numpy as np\n",
    "from mitiq.zne.scaling import fold_gates_at_random\n",
    "from mitiq.zne import inference\n",
    "import json"
   ]
  },
  {
   "cell_type": "code",
   "execution_count": 5,
   "id": "d4b9eaa5-7e31-47be-bd1a-241fe52d3b70",
   "metadata": {},
   "outputs": [],
   "source": [
    "circs_json = None\n",
    "with open('collisional_circuits_1.json','r') as file:\n",
    "    circs_json = json.load(file)\n",
    "\n",
    "cirq_circs = []\n",
    "for circ_json in circs_json:\n",
    "    cirq_circs.append(cirq.read_json(json_text=circ_json))"
   ]
  },
  {
   "cell_type": "code",
   "execution_count": 11,
   "id": "5a4527ad-9875-475f-aeb4-7ec712a5d337",
   "metadata": {},
   "outputs": [],
   "source": [
    "oqc_lucy_cmap = [[0,1],[1,2],[2,3],[4,3],[4,5],[6,5],[7,6],[0,7]]\n",
    "layout = [5,3,4]"
   ]
  },
  {
   "cell_type": "code",
   "execution_count": 12,
   "id": "a0df7b88-241b-4727-9e94-480df8e2408d",
   "metadata": {},
   "outputs": [],
   "source": [
    "circs_braket = []\n",
    "for circ in cirq_circs:\n",
    "    circ_qk = QuantumCircuit.from_qasm_str(circ.to_qasm())\n",
    "    transpiled_circuit = transpile(circ_qk,basis_gates=['ecr','id','rz','sx','x'],coupling_map=oqc_lucy_cmap,\n",
    "                                   optimization_level=0,initial_layout=layout)"
   ]
  }
 ],
 "metadata": {
  "kernelspec": {
   "display_name": "Python 3 (ipykernel)",
   "language": "python",
   "name": "python3"
  },
  "language_info": {
   "codemirror_mode": {
    "name": "ipython",
    "version": 3
   },
   "file_extension": ".py",
   "mimetype": "text/x-python",
   "name": "python",
   "nbconvert_exporter": "python",
   "pygments_lexer": "ipython3",
   "version": "3.9.1"
  }
 },
 "nbformat": 4,
 "nbformat_minor": 5
}
