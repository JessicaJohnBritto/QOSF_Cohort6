{
 "cells": [
  {
   "cell_type": "code",
   "execution_count": 72,
   "id": "114b0c35-7a38-4776-ba27-d5aa2b0aa21d",
   "metadata": {
    "tags": []
   },
   "outputs": [
    {
     "name": "stdout",
     "output_type": "stream",
     "text": [
      "\u001b[0;35mSuccessfully enabled qBraid Quantum Jobs in the \u001b[1;35mdefault\u001b[0m\u001b[0;35m environment.\u001b[0m\n",
      "\u001b[0;35mEvery \u001b[1;35mAWS\u001b[0m\u001b[0;35m job you run will now be submitted through the qBraid API, so no access keys/tokens are necessary. \u001b[0m\n",
      "\n",
      "\u001b[0;35mTo disable, run:\u001b[0m `qbraid jobs disable default`\n"
     ]
    }
   ],
   "source": [
    "!qbraid jobs enable default"
   ]
  },
  {
   "cell_type": "code",
   "execution_count": 1,
   "id": "e72c2712-1d28-4411-a129-ba52799f946b",
   "metadata": {
    "tags": []
   },
   "outputs": [],
   "source": [
    "import cirq\n",
    "import numpy as np\n",
    "import matplotlib.pyplot as plt\n",
    "from qbraid import device_wrapper, job_wrapper, get_jobs\n",
    "from collections import Counter"
   ]
  },
  {
   "cell_type": "code",
   "execution_count": 10,
   "id": "4811c9e8-9881-4035-8e8c-286c3c7aa007",
   "metadata": {
    "tags": []
   },
   "outputs": [],
   "source": [
    "#Reminder: cirq.CNOT(control,target)\n",
    "#Reference:\n",
    "#https://quantumcomputing.stackexchange.com/questions/9623/constructing-a-circuit-for-c1u-for-rotation-operators-with-two-single-qubit\n",
    "\n",
    "def cRy(theta,target,control):\n",
    "    yield cirq.CNOT(control,target)\n",
    "    yield cirq.Ry(rads=-theta/2).on(target)\n",
    "    yield cirq.CNOT(control,target)\n",
    "    yield cirq.Ry(rads=theta/2).on(target)\n",
    "\n",
    "def xx_pump(sys,env,p):\n",
    "    yield cirq.CNOT(sys[1],sys[0])\n",
    "    yield cirq.H(sys[1])\n",
    "    yield cirq.X(env[0])\n",
    "    yield cirq.CNOT(sys[1],env[0])\n",
    "    yield from cRy(2*np.arcsin(np.sqrt(p)),sys[1],env[0])\n",
    "    # yield cirq.Rx(rads=np.arccos(1-2*p)).on(sys[1]).controlled_by(env[0])\n",
    "    yield cirq.CNOT(sys[1],env[0])\n",
    "\n",
    "def zz_xx_pump(sys,env,p):\n",
    "    yield cirq.CNOT(sys[1],sys[0])\n",
    "    yield cirq.X(env[0])\n",
    "    yield cirq.CNOT(sys[0],env[0])\n",
    "    yield from cRy(2*np.arcsin(np.sqrt(p)),sys[0],env[0])\n",
    "    # yield cirq.Rx(rads=np.arccos(1-2*p)).on(sys[0]).controlled_by(env[0])\n",
    "    yield cirq.CNOT(sys[0],env[0])\n",
    "    yield cirq.H(sys[1])\n",
    "    yield cirq.X(env[1])\n",
    "    yield cirq.CNOT(sys[1],env[1])\n",
    "    yield from cRy(2*np.arcsin(np.sqrt(p)),sys[1],env[1])\n",
    "    # yield cirq.Rx(rads=np.arccos(1-2*p)).on(sys[1]).controlled_by(env[1])\n",
    "    yield cirq.CNOT(sys[1],env[1])"
   ]
  },
  {
   "cell_type": "code",
   "execution_count": 46,
   "id": "6d586d3a-9907-4cdd-a11c-ce900a3e9e21",
   "metadata": {
    "tags": []
   },
   "outputs": [],
   "source": [
    "env = [cirq.LineQubit(0),cirq.LineQubit(3)]\n",
    "sys = [cirq.LineQubit(1),cirq.LineQubit(2)]\n",
    "probs = np.linspace(0,1,num=5)\n",
    "repcnt = 1024"
   ]
  },
  {
   "cell_type": "markdown",
   "id": "ae6e3201-8650-4a73-95fc-db19e834abcc",
   "metadata": {},
   "source": [
    "Mappings:\n",
    "\n",
    "$\\vert \\phi+ \\rangle = \\vert 00 \\rangle$\n",
    "\n",
    "$\\vert \\psi+ \\rangle = \\vert 01 \\rangle$\n",
    "\n",
    "$\\vert \\phi- \\rangle = \\vert 10 \\rangle$\n",
    "\n",
    "$\\vert \\psi- \\rangle = \\vert 11 \\rangle$"
   ]
  },
  {
   "cell_type": "code",
   "execution_count": 21,
   "id": "a1a511a0-4301-4034-b0b4-73b48eac2fc5",
   "metadata": {
    "tags": []
   },
   "outputs": [],
   "source": [
    "def calc_pump_sim(pump,sys,env,p,repcnt):\n",
    "    \n",
    "    simulator = cirq.Simulator()\n",
    "    final_hist = Counter()\n",
    "    \n",
    "    for j in range(2**2):\n",
    "        circuit = cirq.Circuit()\n",
    "        if (j&1) == 1:\n",
    "            circuit.append(cirq.X.on(sys[0]))\n",
    "        if (j&2) == 2:\n",
    "            circuit.append(cirq.X.on(sys[1]))\n",
    "        circuit.append(pump(sys,env,p))\n",
    "        circuit.append(cirq.measure(sys, key = 'answer'))\n",
    "        \n",
    "        result = simulator.run(circuit,repetitions=repcnt)\n",
    "        histogram = result.histogram(key = 'answer')\n",
    "        final_hist += histogram\n",
    "\n",
    "    for x in final_hist:\n",
    "        final_hist[x]/=(4*repcnt)\n",
    "\n",
    "    return final_hist"
   ]
  },
  {
   "cell_type": "code",
   "execution_count": 5,
   "id": "6139ddf7-9926-4f37-aa7e-0598eae1c0f7",
   "metadata": {
    "tags": []
   },
   "outputs": [
    {
     "name": "stdout",
     "output_type": "stream",
     "text": [
      "{'id': 'arn:aws:braket:eu-west-2::device/qpu/oqc/Lucy', 'name': 'Lucy', 'provider': 'Oxford', 'vendor': 'AWS', 'numQubits': 8, 'deviceType': 'QPU', 'status': 'ONLINE', 'queueDepth': 0}\n"
     ]
    }
   ],
   "source": [
    "device_id = \"aws_oqc_lucy\"\n",
    "device = device_wrapper(device_id)\n",
    "print(device.metadata())"
   ]
  },
  {
   "cell_type": "code",
   "execution_count": 33,
   "id": "6b1d96a2-ad5b-4bfc-8ab1-1bb841d8b480",
   "metadata": {
    "tags": []
   },
   "outputs": [
    {
     "name": "stdout",
     "output_type": "stream",
     "text": [
      "T  : |0|1|2|3|    4    |5|   6    |7|Result Types|\n",
      "                                                  \n",
      "q0 : -X---X-C-----------C----------X--------------\n",
      "          | |           |          |              \n",
      "q1 : -X---|-|-----------|----------|-Probability--\n",
      "      |   | |           |          | |            \n",
      "q2 : -C-H-C-X-Ry(-0.46)-X-Ry(0.46)-C-Probability--\n",
      "\n",
      "T  : |0|1|2|3|    4    |5|   6    |7|Result Types|\n",
      "T  : |0|1|2|3|4|    5    |6|   7    |8|Result Types|\n",
      "                                                    \n",
      "q0 : -X-----X-C-----------C----------X--------------\n",
      "            | |           |          |              \n",
      "q1 : -X-X---|-|-----------|----------|-Probability--\n",
      "        |   | |           |          | |            \n",
      "q2 : ---C-H-C-X-Ry(-0.46)-X-Ry(0.46)-C-Probability--\n",
      "\n",
      "T  : |0|1|2|3|4|    5    |6|   7    |8|Result Types|\n",
      "T  : |0|1|2|3|4|    5    |6|   7    |8|Result Types|\n",
      "                                                    \n",
      "q0 : -X-----X-C-----------C----------X--------------\n",
      "            | |           |          |              \n",
      "q1 : ---X---|-|-----------|----------|-Probability--\n",
      "        |   | |           |          | |            \n",
      "q2 : -X-C-H-C-X-Ry(-0.46)-X-Ry(0.46)-C-Probability--\n",
      "\n",
      "T  : |0|1|2|3|4|    5    |6|   7    |8|Result Types|\n",
      "T  : |0|1|2|3|4|    5    |6|   7    |8|Result Types|\n",
      "                                                    \n",
      "q0 : -X-----X-C-----------C----------X--------------\n",
      "            | |           |          |              \n",
      "q1 : -X-X---|-|-----------|----------|-Probability--\n",
      "        |   | |           |          | |            \n",
      "q2 : -X-C-H-C-X-Ry(-0.46)-X-Ry(0.46)-C-Probability--\n",
      "\n",
      "T  : |0|1|2|3|4|    5    |6|   7    |8|Result Types|\n"
     ]
    }
   ],
   "source": [
    "for j in range(2**2):\n",
    "    ctest = cirq.Circuit()\n",
    "    if (j&1) == 1:\n",
    "        ctest.append(cirq.X.on(sys[0]))\n",
    "    if (j&2) == 2:\n",
    "        ctest.append(cirq.X.on(sys[1]))\n",
    "    ctest.append(xx_pump(sys,env,0.2))\n",
    "    ctest_transpiled = device.transpile(ctest)\n",
    "    ctest_transpiled.probability(target=[1,2])\n",
    "    print(ctest_transpiled)"
   ]
  },
  {
   "cell_type": "code",
   "execution_count": 26,
   "id": "d6e9287f-5347-48f5-82b3-a92f13a4c6dd",
   "metadata": {
    "tags": []
   },
   "outputs": [],
   "source": [
    "def oqc_create_jobs(pump,sys,env,p,repcnt):\n",
    "    job_id_list = []\n",
    "    for j in range(2**2):\n",
    "        circuit = cirq.Circuit()\n",
    "        if (j&1) == 1:\n",
    "            circuit.append(cirq.X.on(sys[0]))\n",
    "        if (j&2) == 2:\n",
    "            circuit.append(cirq.X.on(sys[1]))\n",
    "        circuit.append(pump(sys,env,p))\n",
    "        transpiled_circuit = device.transpile(circuit)\n",
    "        job = device.run(transpiled_circuit,shots=repcnt)\n",
    "        job_id_list.append(job.id)\n",
    "    return job_id_list"
   ]
  },
  {
   "cell_type": "markdown",
   "id": "0abcb6f2-1be3-497a-a374-dac2fed69e2c",
   "metadata": {
    "tags": []
   },
   "source": [
    "<h2>ZZ XX pump:</h2>"
   ]
  },
  {
   "cell_type": "code",
   "execution_count": 27,
   "id": "4c420cf2-ec5d-4854-97dc-3b4c60d6e79a",
   "metadata": {
    "tags": []
   },
   "outputs": [],
   "source": [
    "zz_xx_job_ids = []"
   ]
  },
  {
   "cell_type": "code",
   "execution_count": 34,
   "id": "ffa00652-5902-4848-b6e0-856c36f0f530",
   "metadata": {
    "tags": []
   },
   "outputs": [
    {
     "name": "stdout",
     "output_type": "stream",
     "text": [
      "Job ids for probabilities 0.0 0.25 0.5 0.75 1.0\n"
     ]
    }
   ],
   "source": [
    "print('Job ids for probabilities',*probs)\n",
    "for p in probs:\n",
    "    job_ids = oqc_create_jobs(zz_xx_pump,sys,env,p,repcnt)\n",
    "    zz_xx_job_ids.append(job_ids)"
   ]
  },
  {
   "cell_type": "code",
   "execution_count": 35,
   "id": "71122dcd-0629-47af-aac3-595a65e5929b",
   "metadata": {},
   "outputs": [
    {
     "name": "stdout",
     "output_type": "stream",
     "text": [
      "[['aws_oqc_lucy-contactmainakroy-qjob-8pvierejhulxeotgbkoe', 'aws_oqc_lucy-contactmainakroy-qjob-p64s5bscfq1kymy2j0bu', 'aws_oqc_lucy-contactmainakroy-qjob-w7xr6a1saoru9ssxmxwu', 'aws_oqc_lucy-contactmainakroy-qjob-zy6cmudnxz00zo4s1nox'], ['aws_oqc_lucy-contactmainakroy-qjob-ioha026d116fl5m3hd71', 'aws_oqc_lucy-contactmainakroy-qjob-p3y7b56fwzvyy8gho75y', 'aws_oqc_lucy-contactmainakroy-qjob-mmpurju8bgnefy57mwt0', 'aws_oqc_lucy-contactmainakroy-qjob-w3qehoougsc2z2na43z2'], ['aws_oqc_lucy-contactmainakroy-qjob-yrxmwlm6etkop71mc9we', 'aws_oqc_lucy-contactmainakroy-qjob-vez4qetwfdkoys0bqrrr', 'aws_oqc_lucy-contactmainakroy-qjob-aboa9erjsbq7g4smehqs', 'aws_oqc_lucy-contactmainakroy-qjob-183198sta74de1fpik6m'], ['aws_oqc_lucy-contactmainakroy-qjob-n5uvul6v4e7x6akmgno3', 'aws_oqc_lucy-contactmainakroy-qjob-ilxlwlei7rm4u4brp4bq', 'aws_oqc_lucy-contactmainakroy-qjob-7jblwpzqoknz46k5m0kt', 'aws_oqc_lucy-contactmainakroy-qjob-pwxlw4n5rqs8b6cs4w12'], ['aws_oqc_lucy-contactmainakroy-qjob-xofqx7iml3gss5vwuezr', 'aws_oqc_lucy-contactmainakroy-qjob-ag68zdff9eyxyibr0p5c', 'aws_oqc_lucy-contactmainakroy-qjob-7i5t33b5zvuf2ywidi7h', 'aws_oqc_lucy-contactmainakroy-qjob-nigaxbn84yiag9tyav0h']]\n"
     ]
    }
   ],
   "source": [
    "print(zz_xx_job_ids)"
   ]
  },
  {
   "cell_type": "code",
   "execution_count": 48,
   "id": "88af6d51-9c59-4233-9ff8-66b336b2ffb5",
   "metadata": {
    "tags": []
   },
   "outputs": [],
   "source": [
    "result = job_wrapper(zz_xx_job_ids[3][0]).result()._result"
   ]
  },
  {
   "cell_type": "code",
   "execution_count": 52,
   "id": "497b2d7a-90c9-4e5e-9b0b-4cc8bf844976",
   "metadata": {
    "tags": []
   },
   "outputs": [],
   "source": [
    "#[probs][mask]\n",
    "pops_real = [[],[],[],[]]\n",
    "for job_id_list in zz_xx_job_ids:\n",
    "    results = [job_wrapper(job_id).result() for job_id in job_id_list]\n",
    "    probs_f = [0.0,0.0,0.0,0.0]\n",
    "    for result in results:\n",
    "        prob = result._result.measurement_probabilities\n",
    "        for key,val in prob.items():\n",
    "            probs_f[int(key[1:3],2)] += val\n",
    "    for i in range(4):\n",
    "        pops_real[i].append(probs_f[i])"
   ]
  },
  {
   "cell_type": "markdown",
   "id": "78c7c2a0-35e0-4e71-aa2c-d57002145b58",
   "metadata": {},
   "source": [
    "<h2>Comparison with theory:</h2>"
   ]
  },
  {
   "cell_type": "code",
   "execution_count": 58,
   "id": "9bbf59cf-fad8-4344-8011-8aa620d8613f",
   "metadata": {
    "tags": []
   },
   "outputs": [],
   "source": [
    "def calc_plot(hists):\n",
    "    pops = [[],[],[],[]]\n",
    "    for counts in hists:\n",
    "        for i in range(4):\n",
    "            pops[i].append(counts[i])\n",
    "    return pops"
   ]
  },
  {
   "cell_type": "code",
   "execution_count": 65,
   "id": "10759144-3c17-48b1-8e3d-d055fc63c325",
   "metadata": {
    "tags": []
   },
   "outputs": [
    {
     "data": {
      "image/png": "[encoded data removed]",
      "text/plain": [
       "<Figure size 640x480 with 1 Axes>"
      ]
     },
     "metadata": {},
     "output_type": "display_data"
    }
   ],
   "source": [
    "plt.scatter(probs,np.array(pops_real[0])/4,label='|phi+>')\n",
    "plt.scatter(probs,np.array(pops_real[1])/4,label='|phi->')\n",
    "plt.scatter(probs,np.array(pops_real[2])/4,label='|psi+>')\n",
    "plt.scatter(probs,np.array(pops_real[3])/4,label='|psi->')\n",
    "\n",
    "sim_probs = np.linspace(0,1,num=20)\n",
    "hists = [calc_pump_sim(zz_xx_pump,sys,env,p,20000) for p in sim_probs]\n",
    "pops = calc_plot(hists)\n",
    "plt.plot(sim_probs,pops[0],linestyle='--')\n",
    "plt.plot(sim_probs,pops[1],linestyle='--')\n",
    "plt.plot(sim_probs,pops[2],linestyle='--')\n",
    "plt.plot(sim_probs,pops[3],linestyle='--')\n",
    "\n",
    "plt.legend()\n",
    "plt.show()"
   ]
  }
 ],
 "metadata": {
  "kernelspec": {
   "display_name": "Python 3 (ipykernel)",
   "language": "python",
   "name": "python3"
  },
  "language_info": {
   "codemirror_mode": {
    "name": "ipython",
    "version": 3
   },
   "file_extension": ".py",
   "mimetype": "text/x-python",
   "name": "python",
   "nbconvert_exporter": "python",
   "pygments_lexer": "ipython3",
   "version": "3.9.1"
  }
 },
 "nbformat": 4,
 "nbformat_minor": 5
}
