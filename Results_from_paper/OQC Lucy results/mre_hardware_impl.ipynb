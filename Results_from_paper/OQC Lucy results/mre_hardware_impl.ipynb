{
 "cells": [
  {
   "cell_type": "code",
   "execution_count": 72,
   "id": "114b0c35-7a38-4776-ba27-d5aa2b0aa21d",
   "metadata": {
    "tags": []
   },
   "outputs": [
    {
     "name": "stdout",
     "output_type": "stream",
     "text": [
      "\u001b[0;35mSuccessfully enabled qBraid Quantum Jobs in the \u001b[1;35mdefault\u001b[0m\u001b[0;35m environment.\u001b[0m\n",
      "\u001b[0;35mEvery \u001b[1;35mAWS\u001b[0m\u001b[0;35m job you run will now be submitted through the qBraid API, so no access keys/tokens are necessary. \u001b[0m\n",
      "\n",
      "\u001b[0;35mTo disable, run:\u001b[0m `qbraid jobs disable default`\n"
     ]
    }
   ],
   "source": [
    "!qbraid jobs enable default"
   ]
  },
  {
   "cell_type": "code",
   "execution_count": 52,
   "id": "e72c2712-1d28-4411-a129-ba52799f946b",
   "metadata": {
    "tags": []
   },
   "outputs": [],
   "source": [
    "import cirq\n",
    "import numpy as np\n",
    "import matplotlib.pyplot as plt\n",
    "from qbraid import device_wrapper, job_wrapper, get_jobs\n",
    "from collections import Counter"
   ]
  },
  {
   "cell_type": "code",
   "execution_count": 56,
   "id": "4811c9e8-9881-4035-8e8c-286c3c7aa007",
   "metadata": {
    "tags": []
   },
   "outputs": [],
   "source": [
    "def xx_pump(sys,env,p):\n",
    "    yield cirq.CNOT(sys[1],sys[0])\n",
    "    yield cirq.H(sys[1])\n",
    "    yield cirq.X(env[0])\n",
    "    yield cirq.CNOT(sys[1],env[0])\n",
    "    yield cirq.Rx(rads=np.arccos(1-2*p)).on(sys[1]).controlled_by(env[0])\n",
    "    yield cirq.CNOT(sys[1],env[0])\n",
    "\n",
    "def zz_xx_pump(sys,env,p):\n",
    "    yield cirq.CNOT(sys[1],sys[0])\n",
    "    yield cirq.X(env[0])\n",
    "    yield cirq.CNOT(sys[0],env[0])\n",
    "    yield cirq.Rx(rads=np.arccos(1-2*p)).on(sys[0]).controlled_by(env[0])\n",
    "    yield cirq.CNOT(sys[0],env[0])\n",
    "    yield cirq.H(sys[1])\n",
    "    yield cirq.X(env[1])\n",
    "    yield cirq.CNOT(sys[1],env[1])\n",
    "    yield cirq.Rx(rads=np.arccos(1-2*p)).on(sys[1]).controlled_by(env[1])\n",
    "    yield cirq.CNOT(sys[1],env[1])"
   ]
  },
  {
   "cell_type": "code",
   "execution_count": 57,
   "id": "6d586d3a-9907-4cdd-a11c-ce900a3e9e21",
   "metadata": {
    "tags": []
   },
   "outputs": [],
   "source": [
    "env = [cirq.LineQubit(0),cirq.LineQubit(3)]\n",
    "sys = [cirq.LineQubit(1),cirq.LineQubit(2)]\n",
    "probs = np.linspace(0,1,num=5)\n",
    "repcnt = 1024"
   ]
  },
  {
   "cell_type": "markdown",
   "id": "ae6e3201-8650-4a73-95fc-db19e834abcc",
   "metadata": {},
   "source": [
    "Mappings:\n",
    "\n",
    "$\\vert \\phi+ \\rangle = \\vert 00 \\rangle$\n",
    "\n",
    "$\\vert \\psi+ \\rangle = \\vert 01 \\rangle$\n",
    "\n",
    "$\\vert \\phi- \\rangle = \\vert 10 \\rangle$\n",
    "\n",
    "$\\vert \\psi- \\rangle = \\vert 11 \\rangle$"
   ]
  },
  {
   "cell_type": "code",
   "execution_count": 67,
   "id": "a1a511a0-4301-4034-b0b4-73b48eac2fc5",
   "metadata": {
    "tags": []
   },
   "outputs": [],
   "source": [
    "def calc_pump_sim(pump,sys,env,p,repcnt):\n",
    "    \n",
    "    simulator = cirq.Simulator()\n",
    "    final_hist = Counter()\n",
    "    \n",
    "    for j in range(2**2):\n",
    "        circuit = cirq.Circuit()\n",
    "        if (j&1) == 1:\n",
    "            circuit.append(cirq.X.on(sys[0]))\n",
    "        if (j&1) == 2:\n",
    "            circuit.append(cirq.X.on(sys[1]))\n",
    "        circuit.append(pump(sys,env,p))\n",
    "        circuit.append(cirq.measure(sys, key = 'answer'))\n",
    "        \n",
    "        result = simulator.run(circuit,repetitions=repcnt)\n",
    "        histogram = result.histogram(key = 'answer')\n",
    "        final_hist += histogram\n",
    "\n",
    "    for x in final_hist:\n",
    "        final_hist[x]/=(4*repcnt)\n",
    "\n",
    "    return final_hist"
   ]
  },
  {
   "cell_type": "code",
   "execution_count": 61,
   "id": "6139ddf7-9926-4f37-aa7e-0598eae1c0f7",
   "metadata": {
    "tags": []
   },
   "outputs": [
    {
     "name": "stdout",
     "output_type": "stream",
     "text": [
      "{'id': 'arn:aws:braket:eu-west-2::device/qpu/oqc/Lucy', 'name': 'Lucy', 'provider': 'Oxford', 'vendor': 'AWS', 'numQubits': 8, 'deviceType': 'QPU', 'status': 'ONLINE', 'queueDepth': 0}\n"
     ]
    }
   ],
   "source": [
    "device_id = \"aws_oqc_lucy\"\n",
    "device = device_wrapper(device_id)\n",
    "print(device.metadata())"
   ]
  },
  {
   "cell_type": "code",
   "execution_count": 77,
   "id": "6b1d96a2-ad5b-4bfc-8ab1-1bb841d8b480",
   "metadata": {
    "tags": []
   },
   "outputs": [
    {
     "name": "stdout",
     "output_type": "stream",
     "text": [
      "T  : |0|1|2|   3    |4|Result Types|\n",
      "                                    \n",
      "q0 : -X---X-C--------X--------------\n",
      "          | |        |              \n",
      "q1 : -X-X-|-|--------|-Probability--\n",
      "      |   | |        | |            \n",
      "q2 : -C-H-C-Rx(0.93)-C-Probability--\n",
      "\n",
      "T  : |0|1|2|   3    |4|Result Types|\n",
      "None\n"
     ]
    },
    {
     "name": "stderr",
     "output_type": "stream",
     "text": [
      "/opt/.qbraid/environments/qbraid_000000/pyenv/lib/python3.11/site-packages/qbraid/providers/device.py:158: UserWarning: Device is currently offline. Depending on the provider queueing system, submitting this job may result in an exception or a long wait time.\n",
      "  warnings.warn(\n"
     ]
    }
   ],
   "source": [
    "ctest = cirq.Circuit(xx_pump(sys,env,0.2))\n",
    "ctest.append(cirq.X.on(sys[0]))\n",
    "ctest_transpiled = device.transpile(ctest)\n",
    "ctest_transpiled.probability(target=[1,2])\n",
    "print(ctest_transpiled)\n",
    "print(device.verify_run(ctest_transpiled))"
   ]
  },
  {
   "cell_type": "code",
   "execution_count": 74,
   "id": "d6e9287f-5347-48f5-82b3-a92f13a4c6dd",
   "metadata": {
    "tags": []
   },
   "outputs": [],
   "source": [
    "def oqc_create_jobs(pump,sys,env,p,repcnt):\n",
    "    job_id_list = []\n",
    "    for j in range(2**2):\n",
    "        circuit = cirq.Circuit()\n",
    "        if (j&1) == 1:\n",
    "            circuit.append(cirq.X.on(sys[0]))\n",
    "        if (j&1) == 2:\n",
    "            circuit.append(cirq.X.on(sys[1]))\n",
    "        circuit.append(pump(sys,env,p))\n",
    "        transpiled_circuit = device.transpile(circuit)\n",
    "        job = device.run(transpiled_circuit,shots=repcnt)\n",
    "        job_id_list.append(job.id)\n",
    "    return job_id_list"
   ]
  },
  {
   "cell_type": "markdown",
   "id": "0abcb6f2-1be3-497a-a374-dac2fed69e2c",
   "metadata": {
    "tags": []
   },
   "source": [
    "<h2>ZZ XX pump:</h2>"
   ]
  },
  {
   "cell_type": "code",
   "execution_count": 75,
   "id": "4c420cf2-ec5d-4854-97dc-3b4c60d6e79a",
   "metadata": {
    "tags": []
   },
   "outputs": [],
   "source": [
    "zz_xx_job_ids = []"
   ]
  },
  {
   "cell_type": "code",
   "execution_count": 76,
   "id": "ffa00652-5902-4848-b6e0-856c36f0f530",
   "metadata": {
    "tags": []
   },
   "outputs": [
    {
     "name": "stdout",
     "output_type": "stream",
     "text": [
      "Job ids for probabilities 0.0 0.25 0.5 0.75 1.0\n"
     ]
    },
    {
     "ename": "ValidationException",
     "evalue": "An error occurred (ValidationException) when calling the CreateQuantumTask operation (reached max retries: 4): [line 9] arbitrary unitary gates are not supported on the requested device",
     "output_type": "error",
     "traceback": [
      "\u001b[0;31m---------------------------------------------------------------------------\u001b[0m",
      "\u001b[0;31mValidationException\u001b[0m                       Traceback (most recent call last)",
      "Cell \u001b[0;32mIn[76], line 3\u001b[0m\n\u001b[1;32m      1\u001b[0m \u001b[38;5;28mprint\u001b[39m(\u001b[38;5;124m'\u001b[39m\u001b[38;5;124mJob ids for probabilities\u001b[39m\u001b[38;5;124m'\u001b[39m,\u001b[38;5;241m*\u001b[39mprobs)\n\u001b[1;32m      2\u001b[0m \u001b[38;5;28;01mfor\u001b[39;00m p \u001b[38;5;129;01min\u001b[39;00m probs:\n\u001b[0;32m----> 3\u001b[0m     job_ids \u001b[38;5;241m=\u001b[39m \u001b[43moqc_create_jobs\u001b[49m\u001b[43m(\u001b[49m\u001b[43mzz_xx_pump\u001b[49m\u001b[43m,\u001b[49m\u001b[43msys\u001b[49m\u001b[43m,\u001b[49m\u001b[43menv\u001b[49m\u001b[43m,\u001b[49m\u001b[43mp\u001b[49m\u001b[43m,\u001b[49m\u001b[43mrepcnt\u001b[49m\u001b[43m)\u001b[49m\n\u001b[1;32m      4\u001b[0m     zz_xx_job_ids\u001b[38;5;241m.\u001b[39mappend(job_ids)\n",
      "Cell \u001b[0;32mIn[74], line 11\u001b[0m, in \u001b[0;36moqc_create_jobs\u001b[0;34m(pump, sys, env, p, repcnt)\u001b[0m\n\u001b[1;32m      9\u001b[0m     circuit\u001b[38;5;241m.\u001b[39mappend(pump(sys,env,p))\n\u001b[1;32m     10\u001b[0m     transpiled_circuit \u001b[38;5;241m=\u001b[39m device\u001b[38;5;241m.\u001b[39mtranspile(circuit)\n\u001b[0;32m---> 11\u001b[0m     job \u001b[38;5;241m=\u001b[39m \u001b[43mdevice\u001b[49m\u001b[38;5;241;43m.\u001b[39;49m\u001b[43mrun\u001b[49m\u001b[43m(\u001b[49m\u001b[43mtranspiled_circuit\u001b[49m\u001b[43m,\u001b[49m\u001b[43mshots\u001b[49m\u001b[38;5;241;43m=\u001b[39;49m\u001b[43mrepcnt\u001b[49m\u001b[43m)\u001b[49m\n\u001b[1;32m     12\u001b[0m     job_id_list\u001b[38;5;241m.\u001b[39mappend(job\u001b[38;5;241m.\u001b[39mid)\n\u001b[1;32m     13\u001b[0m \u001b[38;5;28;01mreturn\u001b[39;00m job_id_list\n",
      "File \u001b[0;32m/opt/.qbraid/environments/qbraid_000000/pyenv/lib/python3.11/site-packages/qbraid/providers/aws/device.py:220\u001b[0m, in \u001b[0;36mBraketDevice.run\u001b[0;34m(self, run_input, auto_compile, *args, **kwargs)\u001b[0m\n\u001b[1;32m    218\u001b[0m qbraid_circuit \u001b[38;5;241m=\u001b[39m \u001b[38;5;28mself\u001b[39m\u001b[38;5;241m.\u001b[39mprocess_run_input(run_input, auto_compile\u001b[38;5;241m=\u001b[39mauto_compile)\n\u001b[1;32m    219\u001b[0m run_input \u001b[38;5;241m=\u001b[39m qbraid_circuit\u001b[38;5;241m.\u001b[39m_program\n\u001b[0;32m--> 220\u001b[0m aws_quantum_task \u001b[38;5;241m=\u001b[39m \u001b[38;5;28;43mself\u001b[39;49m\u001b[38;5;241;43m.\u001b[39;49m\u001b[43m_device\u001b[49m\u001b[38;5;241;43m.\u001b[39;49m\u001b[43mrun\u001b[49m\u001b[43m(\u001b[49m\u001b[43mrun_input\u001b[49m\u001b[43m,\u001b[49m\u001b[43m \u001b[49m\u001b[38;5;241;43m*\u001b[39;49m\u001b[43margs\u001b[49m\u001b[43m,\u001b[49m\u001b[43m \u001b[49m\u001b[38;5;241;43m*\u001b[39;49m\u001b[38;5;241;43m*\u001b[39;49m\u001b[43mkwargs\u001b[49m\u001b[43m)\u001b[49m\n\u001b[1;32m    221\u001b[0m metadata \u001b[38;5;241m=\u001b[39m aws_quantum_task\u001b[38;5;241m.\u001b[39mmetadata()\n\u001b[1;32m    222\u001b[0m shots \u001b[38;5;241m=\u001b[39m \u001b[38;5;241m0\u001b[39m \u001b[38;5;28;01mif\u001b[39;00m \u001b[38;5;124m\"\u001b[39m\u001b[38;5;124mshots\u001b[39m\u001b[38;5;124m\"\u001b[39m \u001b[38;5;129;01mnot\u001b[39;00m \u001b[38;5;129;01min\u001b[39;00m metadata \u001b[38;5;28;01melse\u001b[39;00m metadata[\u001b[38;5;124m\"\u001b[39m\u001b[38;5;124mshots\u001b[39m\u001b[38;5;124m\"\u001b[39m]\n",
      "File \u001b[0;32m/opt/.qbraid/environments/qbraid_000000/pyenv/lib/python3.11/site-packages/braket/aws/aws_device.py:187\u001b[0m, in \u001b[0;36mAwsDevice.run\u001b[0;34m(self, task_specification, s3_destination_folder, shots, poll_timeout_seconds, poll_interval_seconds, inputs, gate_definitions, *aws_quantum_task_args, **aws_quantum_task_kwargs)\u001b[0m\n\u001b[1;32m    108\u001b[0m \u001b[38;5;28;01mdef\u001b[39;00m \u001b[38;5;21mrun\u001b[39m(\n\u001b[1;32m    109\u001b[0m     \u001b[38;5;28mself\u001b[39m,\n\u001b[1;32m    110\u001b[0m     task_specification: Union[\n\u001b[0;32m   (...)\u001b[0m\n\u001b[1;32m    125\u001b[0m     \u001b[38;5;241m*\u001b[39m\u001b[38;5;241m*\u001b[39maws_quantum_task_kwargs,\n\u001b[1;32m    126\u001b[0m ) \u001b[38;5;241m-\u001b[39m\u001b[38;5;241m>\u001b[39m AwsQuantumTask:\n\u001b[1;32m    127\u001b[0m \u001b[38;5;250m    \u001b[39m\u001b[38;5;124;03m\"\"\"\u001b[39;00m\n\u001b[1;32m    128\u001b[0m \u001b[38;5;124;03m    Run a quantum task specification on this device. A quantum task can be a circuit or an\u001b[39;00m\n\u001b[1;32m    129\u001b[0m \u001b[38;5;124;03m    annealing problem.\u001b[39;00m\n\u001b[0;32m   (...)\u001b[0m\n\u001b[1;32m    184\u001b[0m \u001b[38;5;124;03m        `braket.aws.aws_quantum_task.AwsQuantumTask.create()`\u001b[39;00m\n\u001b[1;32m    185\u001b[0m \u001b[38;5;124;03m    \"\"\"\u001b[39;00m\n\u001b[1;32m    186\u001b[0m     \u001b[38;5;28;01mreturn\u001b[39;00m AwsQuantumTask\u001b[38;5;241m.\u001b[39mcreate(\n\u001b[0;32m--> 187\u001b[0m         \u001b[38;5;28mself\u001b[39m\u001b[38;5;241m.\u001b[39m_aws_session,\n\u001b[1;32m    188\u001b[0m         \u001b[38;5;28mself\u001b[39m\u001b[38;5;241m.\u001b[39m_arn,\n\u001b[1;32m    189\u001b[0m         task_specification,\n\u001b[1;32m    190\u001b[0m         s3_destination_folder\n\u001b[1;32m    191\u001b[0m         \u001b[38;5;129;01mor\u001b[39;00m (\n\u001b[1;32m    192\u001b[0m             AwsSession\u001b[38;5;241m.\u001b[39mparse_s3_uri(os\u001b[38;5;241m.\u001b[39menviron\u001b[38;5;241m.\u001b[39mget(\u001b[38;5;124m\"\u001b[39m\u001b[38;5;124mAMZN_BRAKET_TASK_RESULTS_S3_URI\u001b[39m\u001b[38;5;124m\"\u001b[39m))\n\u001b[1;32m    193\u001b[0m             \u001b[38;5;28;01mif\u001b[39;00m \u001b[38;5;124m\"\u001b[39m\u001b[38;5;124mAMZN_BRAKET_TASK_RESULTS_S3_URI\u001b[39m\u001b[38;5;124m\"\u001b[39m \u001b[38;5;129;01min\u001b[39;00m os\u001b[38;5;241m.\u001b[39menviron\n\u001b[1;32m    194\u001b[0m             \u001b[38;5;28;01melse\u001b[39;00m \u001b[38;5;28;01mNone\u001b[39;00m\n\u001b[1;32m    195\u001b[0m         )\n\u001b[1;32m    196\u001b[0m         \u001b[38;5;129;01mor\u001b[39;00m (\u001b[38;5;28mself\u001b[39m\u001b[38;5;241m.\u001b[39m_aws_session\u001b[38;5;241m.\u001b[39mdefault_bucket(), \u001b[38;5;124m\"\u001b[39m\u001b[38;5;124mtasks\u001b[39m\u001b[38;5;124m\"\u001b[39m),\n\u001b[1;32m    197\u001b[0m         shots \u001b[38;5;28;01mif\u001b[39;00m shots \u001b[38;5;129;01mis\u001b[39;00m \u001b[38;5;129;01mnot\u001b[39;00m \u001b[38;5;28;01mNone\u001b[39;00m \u001b[38;5;28;01melse\u001b[39;00m \u001b[38;5;28mself\u001b[39m\u001b[38;5;241m.\u001b[39m_default_shots,\n\u001b[1;32m    198\u001b[0m         poll_timeout_seconds\u001b[38;5;241m=\u001b[39mpoll_timeout_seconds,\n\u001b[1;32m    199\u001b[0m         poll_interval_seconds\u001b[38;5;241m=\u001b[39mpoll_interval_seconds \u001b[38;5;129;01mor\u001b[39;00m \u001b[38;5;28mself\u001b[39m\u001b[38;5;241m.\u001b[39m_poll_interval_seconds,\n\u001b[1;32m    200\u001b[0m         inputs\u001b[38;5;241m=\u001b[39minputs,\n\u001b[1;32m    201\u001b[0m         gate_definitions\u001b[38;5;241m=\u001b[39mgate_definitions,\n\u001b[1;32m    202\u001b[0m         \u001b[38;5;241m*\u001b[39maws_quantum_task_args,\n\u001b[1;32m    203\u001b[0m         \u001b[38;5;241m*\u001b[39m\u001b[38;5;241m*\u001b[39maws_quantum_task_kwargs,\n\u001b[1;32m    204\u001b[0m     )\n",
      "File \u001b[0;32m/opt/.qbraid/environments/qbraid_000000/pyenv/lib/python3.11/site-packages/braket/aws/aws_quantum_task.py:190\u001b[0m, in \u001b[0;36mAwsQuantumTask.create\u001b[0;34m(aws_session, device_arn, task_specification, s3_destination_folder, shots, device_parameters, disable_qubit_rewiring, tags, inputs, gate_definitions, *args, **kwargs)\u001b[0m\n\u001b[1;32m    185\u001b[0m     \u001b[38;5;28;01mif\u001b[39;00m unbounded_parameters:\n\u001b[1;32m    186\u001b[0m         \u001b[38;5;28;01mraise\u001b[39;00m \u001b[38;5;167;01mValueError\u001b[39;00m(\n\u001b[1;32m    187\u001b[0m             \u001b[38;5;124mf\u001b[39m\u001b[38;5;124m\"\u001b[39m\u001b[38;5;124mCannot execute circuit with unbound parameters: \u001b[39m\u001b[38;5;124m\"\u001b[39m \u001b[38;5;124mf\u001b[39m\u001b[38;5;124m\"\u001b[39m\u001b[38;5;132;01m{\u001b[39;00munbounded_parameters\u001b[38;5;132;01m}\u001b[39;00m\u001b[38;5;124m\"\u001b[39m\n\u001b[1;32m    188\u001b[0m         )\n\u001b[0;32m--> 190\u001b[0m \u001b[38;5;28;01mreturn\u001b[39;00m \u001b[43m_create_internal\u001b[49m\u001b[43m(\u001b[49m\n\u001b[1;32m    191\u001b[0m \u001b[43m    \u001b[49m\u001b[43mtask_specification\u001b[49m\u001b[43m,\u001b[49m\n\u001b[1;32m    192\u001b[0m \u001b[43m    \u001b[49m\u001b[43maws_session\u001b[49m\u001b[43m,\u001b[49m\n\u001b[1;32m    193\u001b[0m \u001b[43m    \u001b[49m\u001b[43mcreate_task_kwargs\u001b[49m\u001b[43m,\u001b[49m\n\u001b[1;32m    194\u001b[0m \u001b[43m    \u001b[49m\u001b[43mdevice_arn\u001b[49m\u001b[43m,\u001b[49m\n\u001b[1;32m    195\u001b[0m \u001b[43m    \u001b[49m\u001b[43mdevice_parameters\u001b[49m\u001b[43m \u001b[49m\u001b[38;5;129;43;01mor\u001b[39;49;00m\u001b[43m \u001b[49m\u001b[43m{\u001b[49m\u001b[43m}\u001b[49m\u001b[43m,\u001b[49m\n\u001b[1;32m    196\u001b[0m \u001b[43m    \u001b[49m\u001b[43mdisable_qubit_rewiring\u001b[49m\u001b[43m,\u001b[49m\n\u001b[1;32m    197\u001b[0m \u001b[43m    \u001b[49m\u001b[43minputs\u001b[49m\u001b[43m,\u001b[49m\n\u001b[1;32m    198\u001b[0m \u001b[43m    \u001b[49m\u001b[43mgate_definitions\u001b[49m\u001b[38;5;241;43m=\u001b[39;49m\u001b[43mgate_definitions\u001b[49m\u001b[43m,\u001b[49m\n\u001b[1;32m    199\u001b[0m \u001b[43m    \u001b[49m\u001b[38;5;241;43m*\u001b[39;49m\u001b[43margs\u001b[49m\u001b[43m,\u001b[49m\n\u001b[1;32m    200\u001b[0m \u001b[43m    \u001b[49m\u001b[38;5;241;43m*\u001b[39;49m\u001b[38;5;241;43m*\u001b[39;49m\u001b[43mkwargs\u001b[49m\u001b[43m,\u001b[49m\n\u001b[1;32m    201\u001b[0m \u001b[43m\u001b[49m\u001b[43m)\u001b[49m\n",
      "File \u001b[0;32m/opt/conda/envs/py311/lib/python3.11/functools.py:909\u001b[0m, in \u001b[0;36msingledispatch.<locals>.wrapper\u001b[0;34m(*args, **kw)\u001b[0m\n\u001b[1;32m    905\u001b[0m \u001b[38;5;28;01mif\u001b[39;00m \u001b[38;5;129;01mnot\u001b[39;00m args:\n\u001b[1;32m    906\u001b[0m     \u001b[38;5;28;01mraise\u001b[39;00m \u001b[38;5;167;01mTypeError\u001b[39;00m(\u001b[38;5;124mf\u001b[39m\u001b[38;5;124m'\u001b[39m\u001b[38;5;132;01m{\u001b[39;00mfuncname\u001b[38;5;132;01m}\u001b[39;00m\u001b[38;5;124m requires at least \u001b[39m\u001b[38;5;124m'\u001b[39m\n\u001b[1;32m    907\u001b[0m                     \u001b[38;5;124m'\u001b[39m\u001b[38;5;124m1 positional argument\u001b[39m\u001b[38;5;124m'\u001b[39m)\n\u001b[0;32m--> 909\u001b[0m \u001b[38;5;28;01mreturn\u001b[39;00m \u001b[43mdispatch\u001b[49m\u001b[43m(\u001b[49m\u001b[43margs\u001b[49m\u001b[43m[\u001b[49m\u001b[38;5;241;43m0\u001b[39;49m\u001b[43m]\u001b[49m\u001b[38;5;241;43m.\u001b[39;49m\u001b[38;5;18;43m__class__\u001b[39;49m\u001b[43m)\u001b[49m\u001b[43m(\u001b[49m\u001b[38;5;241;43m*\u001b[39;49m\u001b[43margs\u001b[49m\u001b[43m,\u001b[49m\u001b[43m \u001b[49m\u001b[38;5;241;43m*\u001b[39;49m\u001b[38;5;241;43m*\u001b[39;49m\u001b[43mkw\u001b[49m\u001b[43m)\u001b[49m\n",
      "File \u001b[0;32m/opt/.qbraid/environments/qbraid_000000/pyenv/lib/python3.11/site-packages/braket/aws/aws_quantum_task.py:663\u001b[0m, in \u001b[0;36m_\u001b[0;34m(circuit, aws_session, create_task_kwargs, device_arn, device_parameters, disable_qubit_rewiring, inputs, gate_definitions, *args, **kwargs)\u001b[0m\n\u001b[1;32m    652\u001b[0m     openqasm_program \u001b[38;5;241m=\u001b[39m OpenQASMProgram(\n\u001b[1;32m    653\u001b[0m         source\u001b[38;5;241m=\u001b[39mopenqasm_program\u001b[38;5;241m.\u001b[39msource,\n\u001b[1;32m    654\u001b[0m         inputs\u001b[38;5;241m=\u001b[39minputs_copy,\n\u001b[1;32m    655\u001b[0m     )\n\u001b[1;32m    657\u001b[0m create_task_kwargs\u001b[38;5;241m.\u001b[39mupdate(\n\u001b[1;32m    658\u001b[0m     {\n\u001b[1;32m    659\u001b[0m         \u001b[38;5;124m\"\u001b[39m\u001b[38;5;124maction\u001b[39m\u001b[38;5;124m\"\u001b[39m: openqasm_program\u001b[38;5;241m.\u001b[39mjson(),\n\u001b[1;32m    660\u001b[0m         \u001b[38;5;124m\"\u001b[39m\u001b[38;5;124mdeviceParameters\u001b[39m\u001b[38;5;124m\"\u001b[39m: final_device_parameters\u001b[38;5;241m.\u001b[39mjson(exclude_none\u001b[38;5;241m=\u001b[39m\u001b[38;5;28;01mTrue\u001b[39;00m),\n\u001b[1;32m    661\u001b[0m     }\n\u001b[1;32m    662\u001b[0m )\n\u001b[0;32m--> 663\u001b[0m task_arn \u001b[38;5;241m=\u001b[39m \u001b[43maws_session\u001b[49m\u001b[38;5;241;43m.\u001b[39;49m\u001b[43mcreate_quantum_task\u001b[49m\u001b[43m(\u001b[49m\u001b[38;5;241;43m*\u001b[39;49m\u001b[38;5;241;43m*\u001b[39;49m\u001b[43mcreate_task_kwargs\u001b[49m\u001b[43m)\u001b[49m\n\u001b[1;32m    664\u001b[0m \u001b[38;5;28;01mreturn\u001b[39;00m AwsQuantumTask(task_arn, aws_session, \u001b[38;5;241m*\u001b[39margs, \u001b[38;5;241m*\u001b[39m\u001b[38;5;241m*\u001b[39mkwargs)\n",
      "File \u001b[0;32m/opt/.qbraid/environments/qbraid_000000/pyenv/lib/python3.11/site-packages/braket/aws/aws_session.py:231\u001b[0m, in \u001b[0;36mAwsSession.create_quantum_task\u001b[0;34m(self, **boto3_kwargs)\u001b[0m\n\u001b[1;32m    229\u001b[0m \u001b[38;5;28;01mif\u001b[39;00m job_token:\n\u001b[1;32m    230\u001b[0m     boto3_kwargs\u001b[38;5;241m.\u001b[39mupdate({\u001b[38;5;124m\"\u001b[39m\u001b[38;5;124mjobToken\u001b[39m\u001b[38;5;124m\"\u001b[39m: job_token})\n\u001b[0;32m--> 231\u001b[0m response \u001b[38;5;241m=\u001b[39m \u001b[38;5;28;43mself\u001b[39;49m\u001b[38;5;241;43m.\u001b[39;49m\u001b[43mbraket_client\u001b[49m\u001b[38;5;241;43m.\u001b[39;49m\u001b[43mcreate_quantum_task\u001b[49m\u001b[43m(\u001b[49m\u001b[38;5;241;43m*\u001b[39;49m\u001b[38;5;241;43m*\u001b[39;49m\u001b[43mboto3_kwargs\u001b[49m\u001b[43m)\u001b[49m\n\u001b[1;32m    232\u001b[0m broadcast_event(\n\u001b[1;32m    233\u001b[0m     _TaskCreationEvent(\n\u001b[1;32m    234\u001b[0m         arn\u001b[38;5;241m=\u001b[39mresponse[\u001b[38;5;124m\"\u001b[39m\u001b[38;5;124mquantumTaskArn\u001b[39m\u001b[38;5;124m\"\u001b[39m],\n\u001b[0;32m   (...)\u001b[0m\n\u001b[1;32m    238\u001b[0m     )\n\u001b[1;32m    239\u001b[0m )\n\u001b[1;32m    240\u001b[0m \u001b[38;5;28;01mreturn\u001b[39;00m response[\u001b[38;5;124m\"\u001b[39m\u001b[38;5;124mquantumTaskArn\u001b[39m\u001b[38;5;124m\"\u001b[39m]\n",
      "File \u001b[0;32m/opt/.qbraid/environments/qbraid_000000/pyenv/lib/python3.11/site-packages/botocore/client.py:553\u001b[0m, in \u001b[0;36mClientCreator._create_api_method.<locals>._api_call\u001b[0;34m(self, *args, **kwargs)\u001b[0m\n\u001b[1;32m    549\u001b[0m     \u001b[38;5;28;01mraise\u001b[39;00m \u001b[38;5;167;01mTypeError\u001b[39;00m(\n\u001b[1;32m    550\u001b[0m         \u001b[38;5;124mf\u001b[39m\u001b[38;5;124m\"\u001b[39m\u001b[38;5;132;01m{\u001b[39;00mpy_operation_name\u001b[38;5;132;01m}\u001b[39;00m\u001b[38;5;124m() only accepts keyword arguments.\u001b[39m\u001b[38;5;124m\"\u001b[39m\n\u001b[1;32m    551\u001b[0m     )\n\u001b[1;32m    552\u001b[0m \u001b[38;5;66;03m# The \"self\" in this scope is referring to the BaseClient.\u001b[39;00m\n\u001b[0;32m--> 553\u001b[0m \u001b[38;5;28;01mreturn\u001b[39;00m \u001b[38;5;28;43mself\u001b[39;49m\u001b[38;5;241;43m.\u001b[39;49m\u001b[43m_make_api_call\u001b[49m\u001b[43m(\u001b[49m\u001b[43moperation_name\u001b[49m\u001b[43m,\u001b[49m\u001b[43m \u001b[49m\u001b[43mkwargs\u001b[49m\u001b[43m)\u001b[49m\n",
      "File \u001b[0;32m/opt/.qbraid/environments/qbraid_000000/pyenv/lib/python3.11/site-packages/botocore/client.py:1009\u001b[0m, in \u001b[0;36mBaseClient._make_api_call\u001b[0;34m(self, operation_name, api_params)\u001b[0m\n\u001b[1;32m   1005\u001b[0m     error_code \u001b[38;5;241m=\u001b[39m error_info\u001b[38;5;241m.\u001b[39mget(\u001b[38;5;124m\"\u001b[39m\u001b[38;5;124mQueryErrorCode\u001b[39m\u001b[38;5;124m\"\u001b[39m) \u001b[38;5;129;01mor\u001b[39;00m error_info\u001b[38;5;241m.\u001b[39mget(\n\u001b[1;32m   1006\u001b[0m         \u001b[38;5;124m\"\u001b[39m\u001b[38;5;124mCode\u001b[39m\u001b[38;5;124m\"\u001b[39m\n\u001b[1;32m   1007\u001b[0m     )\n\u001b[1;32m   1008\u001b[0m     error_class \u001b[38;5;241m=\u001b[39m \u001b[38;5;28mself\u001b[39m\u001b[38;5;241m.\u001b[39mexceptions\u001b[38;5;241m.\u001b[39mfrom_code(error_code)\n\u001b[0;32m-> 1009\u001b[0m     \u001b[38;5;28;01mraise\u001b[39;00m error_class(parsed_response, operation_name)\n\u001b[1;32m   1010\u001b[0m \u001b[38;5;28;01melse\u001b[39;00m:\n\u001b[1;32m   1011\u001b[0m     \u001b[38;5;28;01mreturn\u001b[39;00m parsed_response\n",
      "\u001b[0;31mValidationException\u001b[0m: An error occurred (ValidationException) when calling the CreateQuantumTask operation (reached max retries: 4): [line 9] arbitrary unitary gates are not supported on the requested device"
     ]
    }
   ],
   "source": [
    "print('Job ids for probabilities',*probs)\n",
    "for p in probs:\n",
    "    job_ids = oqc_create_jobs(zz_xx_pump,sys,env,p,repcnt)\n",
    "    zz_xx_job_ids.append(job_ids)"
   ]
  },
  {
   "cell_type": "code",
   "execution_count": null,
   "id": "71122dcd-0629-47af-aac3-595a65e5929b",
   "metadata": {},
   "outputs": [],
   "source": [
    "print(zz_xx_job_ids)"
   ]
  },
  {
   "cell_type": "markdown",
   "id": "01a8e047-b1a5-4465-94fd-001eaea1b8a1",
   "metadata": {
    "jp-MarkdownHeadingCollapsed": true,
    "tags": []
   },
   "source": [
    "<h2>break</h2>"
   ]
  },
  {
   "cell_type": "code",
   "execution_count": 59,
   "id": "e097ad5b-e579-49ec-aed2-d0abd8d2235e",
   "metadata": {
    "tags": []
   },
   "outputs": [],
   "source": [
    "hists = [calc_pump(zz_xx_pump,sys,env,p,repcnt) for p in probs]"
   ]
  },
  {
   "cell_type": "code",
   "execution_count": 60,
   "id": "f520555b-581c-4434-99ce-c2280f6116a7",
   "metadata": {
    "tags": []
   },
   "outputs": [
    {
     "data": {
      "image/png": "[encoded data removed]",
      "text/plain": [
       "<Figure size 640x480 with 1 Axes>"
      ]
     },
     "metadata": {},
     "output_type": "display_data"
    }
   ],
   "source": [
    "def calc_plot(hists):\n",
    "    pops = [[],[],[],[]]\n",
    "    for counts in hists:\n",
    "        for i in range(4):\n",
    "            pops[i].append(counts[i])\n",
    "\n",
    "    plt.scatter(probs,pops[0],label='|phi+>')\n",
    "    plt.scatter(probs,pops[1],label='|phi->')\n",
    "    plt.scatter(probs,pops[2],label='|psi+>')\n",
    "    plt.scatter(probs,pops[3],label='|psi->')\n",
    "    plt.legend()\n",
    "    plt.show()\n",
    "\n",
    "calc_plot(hists)"
   ]
  }
 ],
 "metadata": {
  "kernelspec": {
   "display_name": "Python 3 [Default]",
   "language": "python",
   "name": "python3"
  },
  "language_info": {
   "codemirror_mode": {
    "name": "ipython",
    "version": 3
   },
   "file_extension": ".py",
   "mimetype": "text/x-python",
   "name": "python",
   "nbconvert_exporter": "python",
   "pygments_lexer": "ipython3",
   "version": "3.11.6"
  }
 },
 "nbformat": 4,
 "nbformat_minor": 5
}
