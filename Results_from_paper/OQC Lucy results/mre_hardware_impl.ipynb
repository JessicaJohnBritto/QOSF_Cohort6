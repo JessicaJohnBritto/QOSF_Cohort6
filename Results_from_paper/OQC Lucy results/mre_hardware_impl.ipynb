{
 "cells": [
  {
   "cell_type": "code",
   "execution_count": 52,
   "id": "e72c2712-1d28-4411-a129-ba52799f946b",
   "metadata": {
    "tags": []
   },
   "outputs": [],
   "source": [
    "import cirq\n",
    "import numpy as np\n",
    "import matplotlib.pyplot as plt\n",
    "from qbraid import device_wrapper, job_wrapper, get_jobs\n",
    "from collections import Counter"
   ]
  },
  {
   "cell_type": "code",
   "execution_count": 56,
   "id": "4811c9e8-9881-4035-8e8c-286c3c7aa007",
   "metadata": {
    "tags": []
   },
   "outputs": [],
   "source": [
    "def xx_pump(sys,env,p):\n",
    "    yield cirq.CNOT(sys[1],sys[0])\n",
    "    yield cirq.H(sys[1])\n",
    "    yield cirq.X(env[0])\n",
    "    yield cirq.CNOT(sys[1],env[0])\n",
    "    yield cirq.Rx(rads=np.arccos(1-2*p)).on(sys[1]).controlled_by(env[0])\n",
    "    yield cirq.CNOT(sys[1],env[0])\n",
    "\n",
    "def zz_xx_pump(sys,env,p):\n",
    "    yield cirq.CNOT(sys[1],sys[0])\n",
    "    yield cirq.X(env[0])\n",
    "    yield cirq.CNOT(sys[0],env[0])\n",
    "    yield cirq.Rx(rads=np.arccos(1-2*p)).on(sys[0]).controlled_by(env[0])\n",
    "    yield cirq.CNOT(sys[0],env[0])\n",
    "    yield cirq.H(sys[1])\n",
    "    yield cirq.X(env[1])\n",
    "    yield cirq.CNOT(sys[1],env[1])\n",
    "    yield cirq.Rx(rads=np.arccos(1-2*p)).on(sys[1]).controlled_by(env[1])\n",
    "    yield cirq.CNOT(sys[1],env[1])"
   ]
  },
  {
   "cell_type": "code",
   "execution_count": 57,
   "id": "6d586d3a-9907-4cdd-a11c-ce900a3e9e21",
   "metadata": {
    "tags": []
   },
   "outputs": [],
   "source": [
    "env = [cirq.LineQubit(0),cirq.LineQubit(3)]\n",
    "sys = [cirq.LineQubit(1),cirq.LineQubit(2)]\n",
    "probs = np.linspace(0,1,num=5)\n",
    "repcnt = 1024"
   ]
  },
  {
   "cell_type": "markdown",
   "id": "ae6e3201-8650-4a73-95fc-db19e834abcc",
   "metadata": {},
   "source": [
    "Mappings:\n",
    "\n",
    "$\\vert \\phi+ \\rangle = \\vert 00 \\rangle$\n",
    "\n",
    "$\\vert \\psi+ \\rangle = \\vert 01 \\rangle$\n",
    "\n",
    "$\\vert \\phi- \\rangle = \\vert 10 \\rangle$\n",
    "\n",
    "$\\vert \\psi- \\rangle = \\vert 11 \\rangle$"
   ]
  },
  {
   "cell_type": "code",
   "execution_count": 58,
   "id": "a1a511a0-4301-4034-b0b4-73b48eac2fc5",
   "metadata": {
    "tags": []
   },
   "outputs": [],
   "source": [
    "def calc_pump(pump,sys,env,p,repcnt):\n",
    "    \n",
    "    simulator = cirq.Simulator()\n",
    "    final_hist = Counter()\n",
    "    \n",
    "    for j in range(2**2):\n",
    "        circuit = cirq.Circuit()\n",
    "        if (j&1) == 1:\n",
    "            circuit.append(cirq.X.on(sys[0]))\n",
    "        if (j&1) == 2:\n",
    "            circuit.append(cirq.X.on(sys[1]))\n",
    "        circuit.append(pump(sys,env,p))\n",
    "        circuit.append(cirq.measure(sys, key = 'answer'))\n",
    "        \n",
    "        result = simulator.run(circuit,repetitions=repcnt)\n",
    "        histogram = result.histogram(key = 'answer')\n",
    "        final_hist += histogram\n",
    "\n",
    "    for x in final_hist:\n",
    "        final_hist[x]/=(4*repcnt)\n",
    "\n",
    "    return final_hist"
   ]
  },
  {
   "cell_type": "code",
   "execution_count": 59,
   "id": "e097ad5b-e579-49ec-aed2-d0abd8d2235e",
   "metadata": {
    "tags": []
   },
   "outputs": [],
   "source": [
    "hists = [calc_pump(zz_xx_pump,sys,env,p,repcnt) for p in probs]"
   ]
  },
  {
   "cell_type": "code",
   "execution_count": 60,
   "id": "f520555b-581c-4434-99ce-c2280f6116a7",
   "metadata": {
    "tags": []
   },
   "outputs": [
    {
     "data": {
      "image/png": "[encoded data removed]",
      "text/plain": [
       "<Figure size 640x480 with 1 Axes>"
      ]
     },
     "metadata": {},
     "output_type": "display_data"
    }
   ],
   "source": [
    "def calc_plot(hists):\n",
    "    pops = [[],[],[],[]]\n",
    "    for counts in hists:\n",
    "        for i in range(4):\n",
    "            pops[i].append(counts[i])\n",
    "\n",
    "    plt.scatter(probs,pops[0],label='|phi+>')\n",
    "    plt.scatter(probs,pops[1],label='|phi->')\n",
    "    plt.scatter(probs,pops[2],label='|psi+>')\n",
    "    plt.scatter(probs,pops[3],label='|psi->')\n",
    "    plt.legend()\n",
    "    plt.show()\n",
    "\n",
    "calc_plot(hists)"
   ]
  }
 ],
 "metadata": {
  "kernelspec": {
   "display_name": "Python 3 [Default]",
   "language": "python",
   "name": "python3"
  },
  "language_info": {
   "codemirror_mode": {
    "name": "ipython",
    "version": 3
   },
   "file_extension": ".py",
   "mimetype": "text/x-python",
   "name": "python",
   "nbconvert_exporter": "python",
   "pygments_lexer": "ipython3",
   "version": "3.11.6"
  }
 },
 "nbformat": 4,
 "nbformat_minor": 5
}
