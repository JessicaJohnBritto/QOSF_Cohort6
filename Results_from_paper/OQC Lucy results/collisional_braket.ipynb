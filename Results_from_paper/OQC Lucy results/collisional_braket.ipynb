{
 "cells": [
  {
   "cell_type": "code",
   "execution_count": 1,
   "id": "24493ffb-da85-4448-91c0-166d0e6de655",
   "metadata": {
    "tags": []
   },
   "outputs": [],
   "source": [
    "import numpy as np\n",
    "import matplotlib.pyplot as plt\n",
    "from braket.circuits import Circuit\n",
    "from braket.devices import LocalSimulator\n",
    "from mitiq.zne.scaling import fold_gates_at_random\n",
    "from mitiq.zne import inference\n",
    "from qbraid import device_wrapper, job_wrapper, get_jobs"
   ]
  },
  {
   "cell_type": "markdown",
   "id": "94ceaae0-e810-4d38-aa1f-a5d8717621d7",
   "metadata": {},
   "source": [
    "<h2>Getting folded circuits:</h2>\n",
    "\n",
    "1. Create circuits using H and CNOT in Braket\n",
    "2. Fold circuits using Mitiq\n",
    "3. Decompose circuits in Braket"
   ]
  },
  {
   "cell_type": "code",
   "execution_count": 26,
   "id": "07eb63e3-a0e8-43dc-83d6-c9b0d3eb3c9b",
   "metadata": {
    "tags": []
   },
   "outputs": [],
   "source": [
    "def h(qc,q0):\n",
    "    qc.rz(q0,np.pi/2).v(q0).rz(q0,np.pi/2)\n",
    "\n",
    "def cnot(qc,q0,q1):\n",
    "    qc.rz(q0,-np.pi/2)\n",
    "    qc.rz(q1,-np.pi).v(q1).rz(q1,-np.pi)\n",
    "    qc.ecr(q0,q1)\n",
    "    qc.x(q0)\n",
    "\n",
    "def collisional_circuit(env,sys,n_col,theta):\n",
    "    qc = Circuit()\n",
    "    qc.h(sys).h(env[1]).cnot(env[1],env[0]).h(env[0]).h(env[1])\n",
    "    for i in range(n_col):\n",
    "        qc.cnot(env[1],sys[0]).rz(sys[0],2*theta).cnot(env[1],sys[0])\n",
    "    qc.h(sys)\n",
    "    return qc\n",
    "\n",
    "def decompose_circuit(qc):\n",
    "    qc2 = Circuit()\n",
    "    for instruction in qc.instructions:\n",
    "        if instruction.operator.name == 'H':\n",
    "            h(qc2,instruction.target[0])\n",
    "        elif instruction.operator.name == 'CNot':\n",
    "            cnot(qc2,instruction.target[0],instruction.target[1])\n",
    "        else:\n",
    "            qc2 = qc2.add_instruction(instruction)\n",
    "    return qc2\n",
    "\n",
    "def get_distinct_ops(qc):\n",
    "    distinct_ops = set()\n",
    "    for instruction in qc.instructions:\n",
    "        distinct_ops.add(instruction.operator.name)\n",
    "    return distinct_ops"
   ]
  },
  {
   "cell_type": "code",
   "execution_count": 23,
   "id": "954d6218-b24a-4e14-a204-f44483cd7029",
   "metadata": {
    "tags": []
   },
   "outputs": [],
   "source": [
    "n = 7\n",
    "g = 1\n",
    "tau = np.pi/6\n",
    "theta = g*tau\n",
    "t = np.array(list(range(1,n+1)))*theta\n",
    "\n",
    "def corrfunc(time):\n",
    "    return (np.cos(time)**2-np.sin(time)**2)/2\n",
    "\n",
    "sys = [5]\n",
    "env = [3,4]\n",
    "repcnt = 4096"
   ]
  },
  {
   "cell_type": "markdown",
   "id": "f22f8961-70d4-459a-932e-71ddeaf58663",
   "metadata": {},
   "source": [
    "<h2>Simulation:</h2>"
   ]
  },
  {
   "cell_type": "code",
   "execution_count": 27,
   "id": "a2f2142b-4a21-4582-9a4a-5fa3ebdc82ce",
   "metadata": {
    "tags": []
   },
   "outputs": [],
   "source": [
    "local_sim = LocalSimulator()"
   ]
  },
  {
   "cell_type": "code",
   "execution_count": 28,
   "id": "f61c15c8-7505-494a-a210-82f408692761",
   "metadata": {
    "tags": []
   },
   "outputs": [
    {
     "name": "stdout",
     "output_type": "stream",
     "text": [
      "{'ECR', 'V', 'Rz', 'X'}\n"
     ]
    }
   ],
   "source": [
    "res = []\n",
    "for i in range(1,n+1):\n",
    "    shots = 4096\n",
    "    qc = collisional_circuit([1,2],[0],i,theta)\n",
    "    qc2 = fold_gates_at_random(qc,3)\n",
    "    qc3 = decompose_circuit(qc2)\n",
    "    if i==5:\n",
    "        print(get_distinct_ops(qc3))\n",
    "    # verbatim_qc = Circuit().add_verbatim_box(qc)\n",
    "    result = local_sim.run(qc3,shots=shots).result()\n",
    "    counts = result.measurement_counts\n",
    "    cnts = [0,0]\n",
    "    for j in range(2**3):\n",
    "        j_str = bin(j)[2:].zfill(3)\n",
    "        if j_str[0] == '0':\n",
    "            cnts[0] += counts.get(j_str,0)\n",
    "        else:\n",
    "            cnts[1] += counts.get(j_str,0)\n",
    "    res.append(0.5-cnts[1]/shots)"
   ]
  },
  {
   "cell_type": "code",
   "execution_count": 29,
   "id": "66da1b83-1370-47b2-8a4a-480b4234b2d2",
   "metadata": {
    "tags": []
   },
   "outputs": [
    {
     "data": {
      "image/png": "[encoded data removed]",
      "text/plain": [
       "<Figure size 640x480 with 1 Axes>"
      ]
     },
     "metadata": {},
     "output_type": "display_data"
    }
   ],
   "source": [
    "plt.scatter(t,res)\n",
    "sim_t = np.linspace(0,t[-1],num=1000)\n",
    "plt.plot(sim_t,corrfunc(sim_t),linestyle='--')\n",
    "plt.show()"
   ]
  },
  {
   "cell_type": "markdown",
   "id": "0b1d95eb-fbc1-4630-a9d7-d3a9d4dcd07d",
   "metadata": {
    "tags": []
   },
   "source": [
    "<h2>Running circuits on OQC Lucy:</h2>\n",
    "\n",
    "1. Get decomposed circuits\n",
    "2. Wrap in verbatim box\n",
    "3. Disable qubit rewiring\n",
    "4. Send"
   ]
  },
  {
   "cell_type": "code",
   "execution_count": 52,
   "id": "52d14ebb-a423-40c7-b0c9-bddceeb546e2",
   "metadata": {
    "tags": []
   },
   "outputs": [],
   "source": [
    "scale_factors = [1,3,5,7]"
   ]
  },
  {
   "cell_type": "code",
   "execution_count": 53,
   "id": "344251b6-39bb-4480-8e89-78c1d3d1ad7e",
   "metadata": {
    "tags": []
   },
   "outputs": [
    {
     "name": "stdout",
     "output_type": "stream",
     "text": [
      "{'id': 'arn:aws:braket:eu-west-2::device/qpu/oqc/Lucy', 'name': 'Lucy', 'provider': 'Oxford', 'vendor': 'AWS', 'numQubits': 8, 'deviceType': 'QPU', 'status': 'ONLINE', 'queueDepth': 1}\n"
     ]
    }
   ],
   "source": [
    "device_id = \"aws_oqc_lucy\"\n",
    "device = device_wrapper(device_id)\n",
    "print(device.metadata())"
   ]
  },
  {
   "cell_type": "markdown",
   "id": "4193eb93-170c-4c4e-bf93-a23d20666ca6",
   "metadata": {},
   "source": [
    "Generated circuits for scale factors [1,3,5,7] below"
   ]
  },
  {
   "cell_type": "code",
   "execution_count": 54,
   "id": "20b98b4a-6b4e-40b8-8e7e-c873bc4149d9",
   "metadata": {
    "tags": []
   },
   "outputs": [],
   "source": [
    "circs_list = []\n",
    "for sf in scale_factors:\n",
    "    for i in range(1,n+1):\n",
    "        qc = collisional_circuit(env,sys,i,theta)\n",
    "        qc2 = fold_gates_at_random(qc,sf)\n",
    "        qc3 = decompose_circuit(qc2)\n",
    "        verbatim_qc = Circuit().add_verbatim_box(qc3)\n",
    "        circs_list.append(verbatim_qc)"
   ]
  },
  {
   "cell_type": "code",
   "execution_count": 55,
   "id": "951a2874-b5a6-477b-b3f3-ee5a1e1a2cb9",
   "metadata": {
    "tags": []
   },
   "outputs": [
    {
     "name": "stdout",
     "output_type": "stream",
     "text": [
      "T  : |      0      |    1    |2|    3    |    4    | 5 |    6    |   7    |   8    |   9    |   10    |11 |   12   |   13    |14|   15    |16 |   17   |18|   19   |    20     |\n",
      "                                                                                                                                                                                \n",
      "q3 : -StartVerbatim-Rz(-3.14)-V-Rz(-3.14)-----------ECR-Rz(1.57)--V--------Rz(1.57)---------------------------------------------------------------------------------EndVerbatim-\n",
      "      |                                             |                                                                                                               |           \n",
      "q4 : -|-------------Rz(1.57)--V-Rz(1.57)--Rz(-1.57)-ECR-X---------Rz(1.57)-V--------Rz(1.57)-Rz(-1.57)-ECR-X--------Rz(-1.57)--------------ECR-X--------------------|-----------\n",
      "      |                                                                                                |                                   |                        |           \n",
      "q5 : -*************-Rz(1.57)--V-Rz(1.57)--Rz(-3.14)-V---Rz(-3.14)--------------------------------------ECR-Rz(1.05)-Rz(-3.14)-V--Rz(-3.14)-ECR-Rz(1.57)-V--Rz(1.57)-***********-\n",
      "\n",
      "T  : |      0      |    1    |2|    3    |    4    | 5 |    6    |   7    |   8    |   9    |   10    |11 |   12   |   13    |14|   15    |16 |   17   |18|   19   |    20     |\n"
     ]
    }
   ],
   "source": [
    "print(circs_list[0])"
   ]
  },
  {
   "cell_type": "markdown",
   "id": "c44a5321-45c6-4a25-bac3-593d1f54337d",
   "metadata": {
    "tags": []
   },
   "source": [
    "<h3>Scale factor 1:</h3>"
   ]
  },
  {
   "cell_type": "code",
   "execution_count": 56,
   "id": "35421de6-4ace-408d-817d-543e44fc6d06",
   "metadata": {
    "tags": []
   },
   "outputs": [],
   "source": [
    "jobs_1 = []"
   ]
  },
  {
   "cell_type": "code",
   "execution_count": 58,
   "id": "549f8637-430f-4dfd-9b7c-82cc3ec7c4d5",
   "metadata": {
    "tags": []
   },
   "outputs": [],
   "source": [
    "for circ in circs_list[0:7]:\n",
    "    job = device.run(circ,shots=repcnt,disable_qubit_rewiring=True)\n",
    "    jobs_1.append(job.id)"
   ]
  },
  {
   "cell_type": "code",
   "execution_count": 59,
   "id": "973c6538-da66-49ad-985d-285b542c14b8",
   "metadata": {
    "tags": []
   },
   "outputs": [
    {
     "name": "stdout",
     "output_type": "stream",
     "text": [
      "['aws_oqc_lucy-contactmainakroy-qjob-z78iwzwxipztabihw246', 'aws_oqc_lucy-contactmainakroy-qjob-v20cof8q2ei2tfovthxp', 'aws_oqc_lucy-contactmainakroy-qjob-9g6vstlbnrv6b4n0kvnu', 'aws_oqc_lucy-contactmainakroy-qjob-c2yfztj9thrrs3whs1td', 'aws_oqc_lucy-contactmainakroy-qjob-ve6pieye6f4vzu6ti3e1', 'aws_oqc_lucy-contactmainakroy-qjob-kq6o7cgafkhxmqkkhppb', 'aws_oqc_lucy-contactmainakroy-qjob-y7vbmceleffe3h1wcfj2']\n"
     ]
    }
   ],
   "source": [
    "print(jobs_1)"
   ]
  },
  {
   "cell_type": "markdown",
   "id": "ac15aae9-53c7-4613-b63e-1bfe19abedc6",
   "metadata": {
    "tags": []
   },
   "source": [
    "<h3>Scale factor 3:</h3>"
   ]
  },
  {
   "cell_type": "code",
   "execution_count": null,
   "id": "3b265f52-8db8-438a-8643-05978aacfa4a",
   "metadata": {},
   "outputs": [],
   "source": [
    "jobs_3 = []"
   ]
  },
  {
   "cell_type": "code",
   "execution_count": null,
   "id": "be4c1e1b-c39b-4680-ae77-b4bd5b3e7fff",
   "metadata": {},
   "outputs": [],
   "source": [
    "for circ in circs_list[7:14]:\n",
    "    job = device.run(circ,shots=repcnt,disable_qubit_rewiring=True)\n",
    "    jobs_3.append(job.id)"
   ]
  },
  {
   "cell_type": "code",
   "execution_count": null,
   "id": "034b2802-50a9-47b1-9459-d85835d69c23",
   "metadata": {},
   "outputs": [],
   "source": [
    "print(jobs_3)"
   ]
  },
  {
   "cell_type": "markdown",
   "id": "76f8b66d-e2f0-4735-bd0d-338741705f7c",
   "metadata": {
    "tags": []
   },
   "source": [
    "<h3>Scale factor 5:</h3>"
   ]
  },
  {
   "cell_type": "code",
   "execution_count": null,
   "id": "bf7a7b71-a404-4576-b820-470f894bbda2",
   "metadata": {},
   "outputs": [],
   "source": [
    "jobs_5 = []"
   ]
  },
  {
   "cell_type": "code",
   "execution_count": null,
   "id": "08fa623c-67bd-4346-9dfe-744933d45546",
   "metadata": {},
   "outputs": [],
   "source": [
    "for circ in circs_list[14:21]:\n",
    "    job = device.run(circ,shots=repcnt,disable_qubit_rewiring=True)\n",
    "    jobs_5.append(job.id)"
   ]
  },
  {
   "cell_type": "code",
   "execution_count": null,
   "id": "d27ced59-1a25-4034-8b5a-458f20bd3a2a",
   "metadata": {},
   "outputs": [],
   "source": [
    "print(jobs_5)"
   ]
  },
  {
   "cell_type": "markdown",
   "id": "f844b211-ac99-4dca-bad9-8e4c95fa906d",
   "metadata": {
    "tags": []
   },
   "source": [
    "<h3>Scale factor 7:</h3>"
   ]
  },
  {
   "cell_type": "code",
   "execution_count": null,
   "id": "ce41cf75-4d4b-443e-b41e-9dd8030c25aa",
   "metadata": {},
   "outputs": [],
   "source": [
    "jobs_7 = []"
   ]
  },
  {
   "cell_type": "code",
   "execution_count": null,
   "id": "bea337e1-8fcf-4ad7-922a-4f3defc24cdb",
   "metadata": {},
   "outputs": [],
   "source": [
    "for circ in circs_list[21:28]:\n",
    "    job = device.run(circ,shots=repcnt,disable_qubit_rewiring=True)\n",
    "    jobs_7.append(job.id)"
   ]
  },
  {
   "cell_type": "code",
   "execution_count": null,
   "id": "a21a5268-984d-4de2-bc27-a17257f82779",
   "metadata": {},
   "outputs": [],
   "source": [
    "print(jobs_7)"
   ]
  },
  {
   "cell_type": "markdown",
   "id": "a33ed1fd-36b0-41b3-9ccb-b45da5ef281f",
   "metadata": {},
   "source": [
    "<h2>Analysis:</h2>"
   ]
  },
  {
   "cell_type": "code",
   "execution_count": 2,
   "id": "17b205cb-713f-40bf-b3a8-e590f09e8f16",
   "metadata": {
    "tags": []
   },
   "outputs": [],
   "source": [
    "jobs_1f = ['aws_oqc_lucy-contactmainakroy-qjob-z78iwzwxipztabihw246', 'aws_oqc_lucy-contactmainakroy-qjob-v20cof8q2ei2tfovthxp', 'aws_oqc_lucy-contactmainakroy-qjob-9g6vstlbnrv6b4n0kvnu', 'aws_oqc_lucy-contactmainakroy-qjob-c2yfztj9thrrs3whs1td', 'aws_oqc_lucy-contactmainakroy-qjob-ve6pieye6f4vzu6ti3e1', 'aws_oqc_lucy-contactmainakroy-qjob-kq6o7cgafkhxmqkkhppb', 'aws_oqc_lucy-contactmainakroy-qjob-y7vbmceleffe3h1wcfj2']"
   ]
  },
  {
   "cell_type": "code",
   "execution_count": 3,
   "id": "d431ec2f-e38d-43ff-a19c-415f452f6097",
   "metadata": {
    "tags": []
   },
   "outputs": [],
   "source": [
    "res_1 = [job_wrapper(jobid).result()._result for jobid in jobs_1f]"
   ]
  },
  {
   "cell_type": "code",
   "execution_count": 20,
   "id": "eff3e810-a9b7-4607-a485-84f5532cbb2a",
   "metadata": {
    "tags": []
   },
   "outputs": [
    {
     "name": "stdout",
     "output_type": "stream",
     "text": [
      "OPENQASM 2.0;\n",
      "include \"qelib1.inc\";\n",
      "qreg q[6];\n",
      "creg b[3];\n",
      "rz(1.5707963267948966) q[5];\n",
      "sx q[5];\n",
      "rz(1.5707963267948966) q[5];\n",
      "rz(1.5707963267948966) q[4];\n",
      "sx q[4];\n",
      "rz(1.5707963267948966) q[4];\n",
      "rz(-1.5707963267948966) q[4];\n",
      "rz(-3.141592653589793) q[3];\n",
      "sx q[3];\n",
      "rz(-3.141592653589793) q[3];\n",
      "ecr q[4], q[3];\n",
      "x q[4];\n",
      "rz(1.5707963267948966) q[3];\n",
      "sx q[3];\n",
      "rz(1.5707963267948966) q[3];\n",
      "rz(1.5707963267948966) q[4];\n",
      "sx q[4];\n",
      "rz(1.5707963267948966) q[4];\n",
      "rz(-1.5707963267948966) q[4];\n",
      "rz(-3.141592653589793) q[5];\n",
      "sx q[5];\n",
      "rz(-3.141592653589793) q[5];\n",
      "ecr q[4], q[5];\n",
      "x q[4];\n",
      "rz(1.0471975511965976) q[5];\n",
      "rz(-1.5707963267948966) q[4];\n",
      "rz(-3.141592653589793) q[5];\n",
      "sx q[5];\n",
      "rz(-3.141592653589793) q[5];\n",
      "ecr q[4], q[5];\n",
      "x q[4];\n",
      "rz(1.5707963267948966) q[5];\n",
      "sx q[5];\n",
      "rz(1.5707963267948966) q[5];\n",
      "measure q[5] -> b[0];\n",
      "measure q[4] -> b[1];\n",
      "measure q[3] -> b[2];\n"
     ]
    }
   ],
   "source": [
    "print(res_1[0].additional_metadata.oqcMetadata.compiledProgram)"
   ]
  },
  {
   "cell_type": "code",
   "execution_count": 21,
   "id": "0597e694-a171-412f-91a3-dd3fe033acf4",
   "metadata": {
    "tags": []
   },
   "outputs": [
    {
     "name": "stdout",
     "output_type": "stream",
     "text": [
      "{'000': 0.229736328125, '001': 0.040771484375, '010': 0.12353515625, '011': 0.130615234375, '100': 0.186279296875, '101': 0.035888671875, '110': 0.11572265625, '111': 0.137451171875}\n",
      "{'000': 0.093994140625, '001': 0.0078125, '010': 0.11865234375, '011': 0.031005859375, '100': 0.2880859375, '101': 0.02294921875, '110': 0.341796875, '111': 0.095703125}\n",
      "{'000': 0.066162109375, '001': 0.0048828125, '010': 0.14599609375, '011': 0.01123046875, '100': 0.201904296875, '101': 0.0166015625, '110': 0.51611328125, '111': 0.037109375}\n",
      "{'000': 0.031494140625, '001': 0.001708984375, '010': 0.1904296875, '011': 0.0078125, '100': 0.119384765625, '101': 0.004150390625, '110': 0.62109375, '111': 0.02392578125}\n",
      "{'000': 0.013916015625, '001': 0.001220703125, '010': 0.211669921875, '011': 0.00732421875, '100': 0.039306640625, '101': 0.001953125, '110': 0.69775390625, '111': 0.02685546875}\n",
      "{'000': 0.008056640625, '001': 0.00048828125, '010': 0.216064453125, '011': 0.01025390625, '100': 0.033447265625, '101': 0.001220703125, '110': 0.70068359375, '111': 0.02978515625}\n",
      "{'000': 0.008544921875, '001': 0.000732421875, '010': 0.206787109375, '011': 0.007568359375, '100': 0.033447265625, '101': 0.00146484375, '110': 0.71484375, '111': 0.026611328125}\n"
     ]
    }
   ],
   "source": [
    "out_1 = []\n",
    "for result in res_1:\n",
    "    counts = result.measurement_probabilities\n",
    "    print(counts)\n",
    "    cnts = [0,0]\n",
    "    for j in range(2**3):\n",
    "        j_str = bin(j)[2:].zfill(3)\n",
    "        if j_str[0] == '0':\n",
    "            cnts[0] += counts.get(j_str,0)\n",
    "        else:\n",
    "            cnts[1] += counts.get(j_str,0)\n",
    "    out_1.append(0.5-cnts[1])"
   ]
  },
  {
   "cell_type": "code",
   "execution_count": 39,
   "id": "cd193abd-990a-44a9-ba39-017996f1130c",
   "metadata": {
    "tags": []
   },
   "outputs": [
    {
     "name": "stdout",
     "output_type": "stream",
     "text": [
      "[0.024658203125, -0.24853515625, -0.271728515625, -0.2685546875, -0.265869140625, -0.26513671875, -0.2763671875]\n"
     ]
    },
    {
     "data": {
      "image/png": "[encoded data removed]",
      "text/plain": [
       "<Figure size 640x480 with 1 Axes>"
      ]
     },
     "metadata": {},
     "output_type": "display_data"
    }
   ],
   "source": [
    "plt.scatter(t,out_1,c='red',label='Experimental values',zorder=1)\n",
    "plt.scatter(t,res,marker='x',c='green',label='Theoretical values',zorder=2)\n",
    "print(out_1)\n",
    "sim_t = np.linspace(0,t[-1],num=1000)\n",
    "plt.plot(sim_t,corrfunc(sim_t),linestyle='--',c='orange',zorder=0)\n",
    "plt.legend()\n",
    "plt.show()"
   ]
  }
 ],
 "metadata": {
  "kernelspec": {
   "display_name": "Python 3 [Default]",
   "language": "python",
   "name": "python3"
  },
  "language_info": {
   "codemirror_mode": {
    "name": "ipython",
    "version": 3
   },
   "file_extension": ".py",
   "mimetype": "text/x-python",
   "name": "python",
   "nbconvert_exporter": "python",
   "pygments_lexer": "ipython3",
   "version": "3.11.6"
  }
 },
 "nbformat": 4,
 "nbformat_minor": 5
}
