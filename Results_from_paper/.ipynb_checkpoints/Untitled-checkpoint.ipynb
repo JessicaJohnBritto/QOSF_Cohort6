{
 "cells": [
  {
   "cell_type": "code",
   "execution_count": 1,
   "id": "e4f00e6f-ebca-4197-b442-817858d493e4",
   "metadata": {},
   "outputs": [
    {
     "name": "stdout",
     "output_type": "stream",
     "text": [
      "# installed environments:\n",
      "#\n",
      "qsharp                         /opt/.qbraid/environments/qsharp_b54crn\n",
      "default                  \u001b[0;31mjobs\u001b[0m  /opt/.qbraid/environments/qbraid_000000\n",
      "qbraid_sdk               \u001b[0;32mjobs\u001b[0m  /home/jovyan/.qbraid/environments/qbraid_sdk_9j9sjy\n",
      "\n"
     ]
    }
   ],
   "source": [
    "!qbraid envs list"
   ]
  },
  {
   "cell_type": "code",
   "execution_count": 2,
   "id": "e607656a-677c-433b-b281-94a7de819850",
   "metadata": {},
   "outputs": [
    {
     "name": "stdout",
     "output_type": "stream",
     "text": [
      "\u001b[0;35mYou have already enabled qBraid Quantum Jobs in the qbraid_sdk environment.\u001b[0m\n"
     ]
    }
   ],
   "source": [
    "!qbraid jobs enable qbraid_sdk"
   ]
  },
  {
   "cell_type": "code",
   "execution_count": 3,
   "id": "5803b102-5328-4a13-855d-0acc6dbaa718",
   "metadata": {},
   "outputs": [
    {
     "name": "stdout",
     "output_type": "stream",
     "text": [
      "-------------------------------\n",
      "* \u001b[0;35mWelcome to the qBraid CLI!\u001b[0m *\n",
      "-------------------------------\n",
      "\n",
      "  - Use `qbraid -h` to see available commands.\n",
      "\n",
      "  - Use `qbraid --version` to display the current version.\n",
      "\n",
      "Reference Docs: https://qbraid-qbraid.readthedocs-hosted.com/en/latest/cli/qbraid.html\n"
     ]
    }
   ],
   "source": [
    "!qbraid"
   ]
  },
  {
   "cell_type": "code",
   "execution_count": 4,
   "id": "02562b34-54a1-4908-8bd2-c0027dede9e1",
   "metadata": {},
   "outputs": [
    {
     "data": {
      "text/plain": [
       "'0.1.4'"
      ]
     },
     "execution_count": 4,
     "metadata": {},
     "output_type": "execute_result"
    }
   ],
   "source": [
    "import qbraid\n",
    "\n",
    "qbraid.__version__"
   ]
  },
  {
   "cell_type": "code",
   "execution_count": 5,
   "id": "86ba47f0-6f89-4674-9fc8-26d6b65e7609",
   "metadata": {},
   "outputs": [
    {
     "name": "stdout",
     "output_type": "stream",
     "text": [
      "qbraid-cli/0.2.1 azure-cli/2.44.1 aws-cli/1.27.50 Python/3.9.10 Linux/5.4.204-113.362.amzn2.x86_64 botocore/1.29.50 pip/22.3.1\n"
     ]
    }
   ],
   "source": [
    "!qbraid --version"
   ]
  },
  {
   "cell_type": "code",
   "execution_count": 6,
   "id": "2b4e5b44-888d-4b64-9927-e21f36cf0238",
   "metadata": {},
   "outputs": [],
   "source": [
    "from qbraid import get_devices"
   ]
  },
  {
   "cell_type": "code",
   "execution_count": 7,
   "id": "79bd6012-d477-4650-a3c0-663cd96c2431",
   "metadata": {},
   "outputs": [
    {
     "data": {
      "text/html": [
       "<h3>Supported Devices</h3><table><tr>\n",
       "    <th style='text-align:left'>Provider</th>\n",
       "    <th style='text-align:left'>Name</th>\n",
       "    <th style='text-align:left'>qBraid ID</th>\n",
       "    <th style='text-align:left'>Status</th></tr>\n",
       "    <tr>\n",
       "        <td style='text-align:left'>AWS</td>\n",
       "        <td style='text-align:left'>Braket Default Simulator</td>\n",
       "        <td style='text-align:left'><code>aws_braket_default_sim</code></td>\n",
       "        <td><span style='color:green'>●</span></td></tr>\n",
       "        <tr>\n",
       "        <td style='text-align:left'>AWS</td>\n",
       "        <td style='text-align:left'>Density Matrix Simulator</td>\n",
       "        <td style='text-align:left'><code>aws_dm_sim</code></td>\n",
       "        <td><span style='color:green'>●</span></td></tr>\n",
       "        <tr>\n",
       "        <td style='text-align:left'>AWS</td>\n",
       "        <td style='text-align:left'>State Vector Simulator</td>\n",
       "        <td style='text-align:left'><code>aws_sv_sim</code></td>\n",
       "        <td><span style='color:green'>●</span></td></tr>\n",
       "        <tr>\n",
       "        <td style='text-align:left'>AWS</td>\n",
       "        <td style='text-align:left'>Tensor Network Simulator</td>\n",
       "        <td style='text-align:left'><code>aws_tn_sim</code></td>\n",
       "        <td><span style='color:green'>●</span></td></tr>\n",
       "        <tr>\n",
       "        <td style='text-align:left'>D-Wave</td>\n",
       "        <td style='text-align:left'>Advantage_system4</td>\n",
       "        <td style='text-align:left'><code>aws_dwave_advantage_system4</code></td>\n",
       "        <td><span style='color:green'>●</span></td></tr>\n",
       "        <tr>\n",
       "        <td style='text-align:left'>D-Wave</td>\n",
       "        <td style='text-align:left'>DW_2000Q_6</td>\n",
       "        <td style='text-align:left'><code>aws_dwave_2000Q_6</code></td>\n",
       "        <td><span style='color:green'>●</span></td></tr>\n",
       "        <tr>\n",
       "        <td style='text-align:left'>Google</td>\n",
       "        <td style='text-align:left'>Bristlecone</td>\n",
       "        <td style='text-align:left'><code>google_bristlecone</code></td>\n",
       "        <td><span style='color:red'>○</span></td></tr>\n",
       "        <tr>\n",
       "        <td style='text-align:left'>Google</td>\n",
       "        <td style='text-align:left'>Cirq Density Matrix Simulator</td>\n",
       "        <td style='text-align:left'><code>google_cirq_dm_sim</code></td>\n",
       "        <td><span style='color:green'>●</span></td></tr>\n",
       "        <tr>\n",
       "        <td style='text-align:left'>Google</td>\n",
       "        <td style='text-align:left'>Cirq Sparse Simulator</td>\n",
       "        <td style='text-align:left'><code>google_cirq_sparse_sim</code></td>\n",
       "        <td><span style='color:green'>●</span></td></tr>\n",
       "        <tr>\n",
       "        <td style='text-align:left'>Google</td>\n",
       "        <td style='text-align:left'>Foxtail</td>\n",
       "        <td style='text-align:left'><code>google_foxtail</code></td>\n",
       "        <td><span style='color:red'>○</span></td></tr>\n",
       "        <tr>\n",
       "        <td style='text-align:left'>Google</td>\n",
       "        <td style='text-align:left'>Sycamore</td>\n",
       "        <td style='text-align:left'><code>google_sycamore</code></td>\n",
       "        <td><span style='color:red'>○</span></td></tr>\n",
       "        <tr>\n",
       "        <td style='text-align:left'>Google</td>\n",
       "        <td style='text-align:left'>Sycamore23</td>\n",
       "        <td style='text-align:left'><code>google_sycamore23</code></td>\n",
       "        <td><span style='color:red'>○</span></td></tr>\n",
       "        <tr>\n",
       "        <td style='text-align:left'>IBM</td>\n",
       "        <td style='text-align:left'>Aer Default Simulator</td>\n",
       "        <td style='text-align:left'><code>ibm_aer_default_sim</code></td>\n",
       "        <td><span style='color:green'>●</span></td></tr>\n",
       "        <tr>\n",
       "        <td style='text-align:left'>IBM</td>\n",
       "        <td style='text-align:left'>Aer Pulse Simulator</td>\n",
       "        <td style='text-align:left'><code>ibm_aer_pulse_sim</code></td>\n",
       "        <td><span style='color:green'>●</span></td></tr>\n",
       "        <tr>\n",
       "        <td style='text-align:left'>IBM</td>\n",
       "        <td style='text-align:left'>Aer QASM Simulator</td>\n",
       "        <td style='text-align:left'><code>ibm_aer_qasm_sim</code></td>\n",
       "        <td><span style='color:green'>●</span></td></tr>\n",
       "        <tr>\n",
       "        <td style='text-align:left'>IBM</td>\n",
       "        <td style='text-align:left'>Aer State Vector Simulator</td>\n",
       "        <td style='text-align:left'><code>ibm_aer_sv_sim</code></td>\n",
       "        <td><span style='color:green'>●</span></td></tr>\n",
       "        <tr>\n",
       "        <td style='text-align:left'>IBM</td>\n",
       "        <td style='text-align:left'>Aer Unitary Simulator</td>\n",
       "        <td style='text-align:left'><code>ibm_aer_unitary_sim</code></td>\n",
       "        <td><span style='color:green'>●</span></td></tr>\n",
       "        <tr>\n",
       "        <td style='text-align:left'>IBM</td>\n",
       "        <td style='text-align:left'>BasicAer QASM Simulator</td>\n",
       "        <td style='text-align:left'><code>ibm_basicaer_qasm_sim</code></td>\n",
       "        <td><span style='color:green'>●</span></td></tr>\n",
       "        <tr>\n",
       "        <td style='text-align:left'>IBM</td>\n",
       "        <td style='text-align:left'>BasicAer State Vector Simulator</td>\n",
       "        <td style='text-align:left'><code>ibm_basicaer_sv_sim</code></td>\n",
       "        <td><span style='color:green'>●</span></td></tr>\n",
       "        <tr>\n",
       "        <td style='text-align:left'>IBM</td>\n",
       "        <td style='text-align:left'>BasicAer Unitary Simulator</td>\n",
       "        <td style='text-align:left'><code>ibm_basicaer_unitary_sim</code></td>\n",
       "        <td><span style='color:green'>●</span></td></tr>\n",
       "        <tr>\n",
       "        <td style='text-align:left'>IBM</td>\n",
       "        <td style='text-align:left'>IBMQ Belem</td>\n",
       "        <td style='text-align:left'><code>ibm_q_belem</code></td>\n",
       "        <td><span style='color:green'>●</span></td></tr>\n",
       "        <tr>\n",
       "        <td style='text-align:left'>IBM</td>\n",
       "        <td style='text-align:left'>IBMQ Extended Stabilizer Simulator</td>\n",
       "        <td style='text-align:left'><code>ibm_q_ext_stabilizer_sim</code></td>\n",
       "        <td><span style='color:green'>●</span></td></tr>\n",
       "        <tr>\n",
       "        <td style='text-align:left'>IBM</td>\n",
       "        <td style='text-align:left'>IBMQ Lima</td>\n",
       "        <td style='text-align:left'><code>ibm_q_lima</code></td>\n",
       "        <td><span style='color:green'>●</span></td></tr>\n",
       "        <tr>\n",
       "        <td style='text-align:left'>IBM</td>\n",
       "        <td style='text-align:left'>IBMQ Matrix Product State Simulator</td>\n",
       "        <td style='text-align:left'><code>ibm_q_mps_sim</code></td>\n",
       "        <td><span style='color:green'>●</span></td></tr>\n",
       "        <tr>\n",
       "        <td style='text-align:left'>IBM</td>\n",
       "        <td style='text-align:left'>IBMQ Nairobi</td>\n",
       "        <td style='text-align:left'><code>ibm_q_nairobi</code></td>\n",
       "        <td><span style='color:green'>●</span></td></tr>\n",
       "        <tr>\n",
       "        <td style='text-align:left'>IBM</td>\n",
       "        <td style='text-align:left'>IBMQ Oslo</td>\n",
       "        <td style='text-align:left'><code>ibm_q_oslo</code></td>\n",
       "        <td><span style='color:green'>●</span></td></tr>\n",
       "        <tr>\n",
       "        <td style='text-align:left'>IBM</td>\n",
       "        <td style='text-align:left'>IBMQ QASM Simulator</td>\n",
       "        <td style='text-align:left'><code>ibm_q_qasm_sim</code></td>\n",
       "        <td><span style='color:green'>●</span></td></tr>\n",
       "        <tr>\n",
       "        <td style='text-align:left'>IBM</td>\n",
       "        <td style='text-align:left'>IBMQ Quito</td>\n",
       "        <td style='text-align:left'><code>ibm_q_quito</code></td>\n",
       "        <td><span style='color:green'>●</span></td></tr>\n",
       "        <tr>\n",
       "        <td style='text-align:left'>IBM</td>\n",
       "        <td style='text-align:left'>IBMQ Santiago</td>\n",
       "        <td style='text-align:left'><code>ibm_q_manila</code></td>\n",
       "        <td><span style='color:green'>●</span></td></tr>\n",
       "        <tr>\n",
       "        <td style='text-align:left'>IBM</td>\n",
       "        <td style='text-align:left'>IBMQ Stabilizer Simulator</td>\n",
       "        <td style='text-align:left'><code>ibm_q_stabilizer_sim</code></td>\n",
       "        <td><span style='color:green'>●</span></td></tr>\n",
       "        <tr>\n",
       "        <td style='text-align:left'>IBM</td>\n",
       "        <td style='text-align:left'>IBMQ State Vector Simulator</td>\n",
       "        <td style='text-align:left'><code>ibm_q_sv_sim</code></td>\n",
       "        <td><span style='color:green'>●</span></td></tr>\n",
       "        <tr>\n",
       "        <td style='text-align:left'>IonQ</td>\n",
       "        <td style='text-align:left'>IonQ Device</td>\n",
       "        <td style='text-align:left'><code>aws_ionq</code></td>\n",
       "        <td><span style='color:green'>●</span></td></tr>\n",
       "        <tr>\n",
       "        <td style='text-align:left'>OQC</td>\n",
       "        <td style='text-align:left'>Lucy</td>\n",
       "        <td style='text-align:left'><code>aws_oqc_lucy</code></td>\n",
       "        <td><span style='color:green'>●</span></td></tr>\n",
       "        <tr>\n",
       "        <td style='text-align:left'>QuEra</td>\n",
       "        <td style='text-align:left'>Aquila</td>\n",
       "        <td style='text-align:left'><code>aws_quera_aquila</code></td>\n",
       "        <td><span style='color:green'>●</span></td></tr>\n",
       "        <tr>\n",
       "        <td style='text-align:left'>Rigetti</td>\n",
       "        <td style='text-align:left'>Aspen-11</td>\n",
       "        <td style='text-align:left'><code>aws_rigetti_aspen_11</code></td>\n",
       "        <td><span style='color:red'>○</span></td></tr>\n",
       "        <tr>\n",
       "        <td style='text-align:left'>Rigetti</td>\n",
       "        <td style='text-align:left'>Aspen-M-1</td>\n",
       "        <td style='text-align:left'><code>aws_rigetti_aspen_m_1</code></td>\n",
       "        <td><span style='color:green'>●</span></td></tr>\n",
       "        <tr>\n",
       "        <td style='text-align:left'>Rigetti</td>\n",
       "        <td style='text-align:left'>Aspen-M-2</td>\n",
       "        <td style='text-align:left'><code>aws_rigetti_aspen_m_2</code></td>\n",
       "        <td><span style='color:green'>●</span></td></tr>\n",
       "        <tr>\n",
       "        <td style='text-align:left'>Xanadu</td>\n",
       "        <td style='text-align:left'>Borealis</td>\n",
       "        <td style='text-align:left'><code>aws_xanadu_borealis</code></td>\n",
       "        <td><span style='color:green'>●</span></td></tr>\n",
       "        <tr><td colspan='4'; style='text-align:right'>Device status updated 16.5 hours ago</td></tr></table>"
      ],
      "text/plain": [
       "<IPython.core.display.HTML object>"
      ]
     },
     "metadata": {},
     "output_type": "display_data"
    }
   ],
   "source": [
    "get_devices()"
   ]
  },
  {
   "cell_type": "code",
   "execution_count": 8,
   "id": "f09bc35b-039f-4c78-999d-d4cdf180f3df",
   "metadata": {},
   "outputs": [],
   "source": [
    "from qbraid import device_wrapper, job_wrapper, get_jobs\n",
    "from qbraid.api import ibmq_least_busy_qpu, verify_config"
   ]
  },
  {
   "cell_type": "code",
   "execution_count": 9,
   "id": "22ad2602-036d-4b49-9466-7d0730d11383",
   "metadata": {},
   "outputs": [
    {
     "name": "stdout",
     "output_type": "stream",
     "text": [
      "S3 Bucket [None]: "
     ]
    },
    {
     "name": "stdin",
     "output_type": "stream",
     "text": [
      " abcdefg\n"
     ]
    },
    {
     "name": "stdout",
     "output_type": "stream",
     "text": [
      "S3 Bucket Folder [None]: "
     ]
    },
    {
     "name": "stdin",
     "output_type": "stream",
     "text": [
      " abcdefg\n"
     ]
    },
    {
     "data": {
      "text/plain": [
       "{'numberQubits': 11,\n",
       " 'visibility': 'public',\n",
       " 'connectivityGraph': [],\n",
       " 'qbraid_id': 'aws_ionq',\n",
       " 'name': 'IonQ Device',\n",
       " 'provider': 'IonQ',\n",
       " 'paradigm': 'gate-based',\n",
       " 'type': 'QPU',\n",
       " 'typeQubits': 'trapped ion',\n",
       " 'dateDeployed': '2019',\n",
       " 'location': 'College Park, MD, USA',\n",
       " 'vendor': 'AWS',\n",
       " 'runPackage': 'braket',\n",
       " 'status': 'ONLINE',\n",
       " 'calibrationData': [],\n",
       " 'publishedStudies': [],\n",
       " 'createdAt': '2022-03-10T04:08:21.014Z',\n",
       " 'updatedAt': '2023-01-17T22:00:45.419Z',\n",
       " '__v': 0}"
      ]
     },
     "execution_count": 9,
     "metadata": {},
     "output_type": "execute_result"
    }
   ],
   "source": [
    "qbraid_device = device_wrapper(\"aws_ionq\")\n",
    "qbraid_device.info"
   ]
  },
  {
   "cell_type": "code",
   "execution_count": 11,
   "id": "7e64d1d1-5186-4739-a319-7aeb847a11ce",
   "metadata": {},
   "outputs": [
    {
     "data": {
      "text/plain": [
       "0"
      ]
     },
     "execution_count": 11,
     "metadata": {},
     "output_type": "execute_result"
    }
   ],
   "source": [
    "verify_config(\"AWS\")"
   ]
  },
  {
   "cell_type": "code",
   "execution_count": 12,
   "id": "bc22a375-cc0d-467d-906d-c9225f944ab2",
   "metadata": {},
   "outputs": [
    {
     "data": {
      "text/plain": [
       "Device('name': IonQ Device, 'arn': arn:aws:braket:::device/qpu/ionq/ionQdevice)"
      ]
     },
     "execution_count": 12,
     "metadata": {},
     "output_type": "execute_result"
    }
   ],
   "source": [
    "ionq_id = \"aws_ionq\"\n",
    "qbraid_aws_device = device_wrapper(ionq_id)\n",
    "qbraid_aws_device.vendor_dlo"
   ]
  },
  {
   "cell_type": "code",
   "execution_count": 13,
   "id": "0f34a8c2-ab8e-4e3f-96f6-693c4914a951",
   "metadata": {},
   "outputs": [
    {
     "data": {
      "text/html": [
       "<pre style=\"word-wrap: normal;white-space: pre;background: #fff0;line-height: 1.1;font-family: &quot;Courier New&quot;,Courier,monospace\">     ┌───┐┌─────────┐┌─────────┐┌─┐\n",
       "  q: ┤ H ├┤ Ry(π/4) ├┤ Rz(π/2) ├┤M├\n",
       "     └───┘└─────────┘└─────────┘└╥┘\n",
       "c: 1/════════════════════════════╩═\n",
       "                                 0 </pre>"
      ],
      "text/plain": [
       "     ┌───┐┌─────────┐┌─────────┐┌─┐\n",
       "  q: ┤ H ├┤ Ry(π/4) ├┤ Rz(π/2) ├┤M├\n",
       "     └───┘└─────────┘└─────────┘└╥┘\n",
       "c: 1/════════════════════════════╩═\n",
       "                                 0 "
      ]
     },
     "execution_count": 13,
     "metadata": {},
     "output_type": "execute_result"
    }
   ],
   "source": [
    "from qiskit import QuantumCircuit\n",
    "import numpy as np\n",
    "\n",
    "qiskit_circuit = QuantumCircuit(1, 1)\n",
    "\n",
    "qiskit_circuit.h(0)\n",
    "qiskit_circuit.ry(np.pi / 4, 0)\n",
    "qiskit_circuit.rz(np.pi / 2, 0)\n",
    "qiskit_circuit.measure(0, 0)\n",
    "\n",
    "qiskit_circuit.draw()"
   ]
  },
  {
   "cell_type": "code",
   "execution_count": 14,
   "id": "b3653f09-c8a7-490c-9bfe-7be0b4e9f8fc",
   "metadata": {},
   "outputs": [
    {
     "data": {
      "text/plain": [
       "<JobStatus.QUEUED: 1>"
      ]
     },
     "execution_count": 14,
     "metadata": {},
     "output_type": "execute_result"
    }
   ],
   "source": [
    "shots = 5\n",
    "\n",
    "qbraid_aws_job = qbraid_aws_device.run(qiskit_circuit, shots=shots)\n",
    "qbraid_aws_job.status()"
   ]
  },
  {
   "cell_type": "code",
   "execution_count": 16,
   "id": "a8bfc8ba-694f-4a0a-ac4d-3f277e4b0c61",
   "metadata": {},
   "outputs": [
    {
     "data": {
      "text/html": [
       "<h3>Quantum Jobs</h3><table><tr>\n",
       "    <th style='text-align:left'>qBraid ID</th>\n",
       "    <th style='text-align:left'>Submitted</th>\n",
       "    <th style='text-align:left'>Status</th></tr>\n",
       "    <tr>\n",
       "        <td style='text-align:left'>aws_ionq-contactmainakroy-qjob-p6jb14jiejwhx9zz3lt7</td>\n",
       "        <td style='text-align:left'>2023-01-22T16:48:09.688Z</td>\n",
       "        <td style='text-align:left'><span style='color:blue'>QUEUED</span></td></tr>\n",
       "        <tr>\n",
       "        <td style='text-align:left'>aws_ionq-contactmainakroy-qjob-v9lflc1wu4lpdh6n7fsb</td>\n",
       "        <td style='text-align:left'>2023-01-22T16:48:06.882Z</td>\n",
       "        <td style='text-align:left'><span style='color:blue'>QUEUED</span></td></tr>\n",
       "        <tr><td colspan='4'; style='text-align:right'>Displaying 2/2 jobs matching query</td></tr></table>"
      ],
      "text/plain": [
       "<IPython.core.display.HTML object>"
      ]
     },
     "metadata": {},
     "output_type": "display_data"
    }
   ],
   "source": [
    "get_jobs()\n"
   ]
  },
  {
   "cell_type": "code",
   "execution_count": 19,
   "id": "31b7ee18-3217-477a-8fda-a4524a9ac054",
   "metadata": {},
   "outputs": [
    {
     "data": {
      "text/plain": [
       "['__abstractmethods__',\n",
       " '__class__',\n",
       " '__delattr__',\n",
       " '__dict__',\n",
       " '__dir__',\n",
       " '__doc__',\n",
       " '__eq__',\n",
       " '__format__',\n",
       " '__ge__',\n",
       " '__getattribute__',\n",
       " '__gt__',\n",
       " '__hash__',\n",
       " '__init__',\n",
       " '__init_subclass__',\n",
       " '__le__',\n",
       " '__lt__',\n",
       " '__module__',\n",
       " '__ne__',\n",
       " '__new__',\n",
       " '__reduce__',\n",
       " '__reduce_ex__',\n",
       " '__repr__',\n",
       " '__setattr__',\n",
       " '__sizeof__',\n",
       " '__slots__',\n",
       " '__str__',\n",
       " '__subclasshook__',\n",
       " '__weakref__',\n",
       " '_abc_impl',\n",
       " '_get_status',\n",
       " '_get_vendor_jlo',\n",
       " '_status',\n",
       " 'cancel',\n",
       " 'device',\n",
       " 'id',\n",
       " 'metadata',\n",
       " 'result',\n",
       " 'status',\n",
       " 'vendor_jlo',\n",
       " 'vendor_job_id',\n",
       " 'wait_for_final_state']"
      ]
     },
     "execution_count": 19,
     "metadata": {},
     "output_type": "execute_result"
    }
   ],
   "source": [
    "dir(type(qbraid_aws_job))"
   ]
  },
  {
   "cell_type": "code",
   "execution_count": 21,
   "id": "70948618-ff13-4aa3-bfd2-c99747bf13ab",
   "metadata": {},
   "outputs": [],
   "source": [
    "qbraid_aws_job.cancel()"
   ]
  },
  {
   "cell_type": "code",
   "execution_count": 22,
   "id": "6d2f48db-d54a-4093-9ee1-1c2463b7f54b",
   "metadata": {},
   "outputs": [
    {
     "data": {
      "text/plain": [
       "<JobStatus.CANCELLED: 5>"
      ]
     },
     "execution_count": 22,
     "metadata": {},
     "output_type": "execute_result"
    }
   ],
   "source": [
    "qbraid_aws_job.status()"
   ]
  },
  {
   "cell_type": "code",
   "execution_count": 18,
   "id": "3799540c-5340-41f4-bd1a-92cf4adb9b36",
   "metadata": {},
   "outputs": [
    {
     "name": "stdout",
     "output_type": "stream",
     "text": [
      "Help on function get_jobs in module qbraid.get_jobs:\n",
      "\n",
      "get_jobs(filters: Optional[dict] = None)\n",
      "    Displays a list of quantum jobs submitted by user, tabulated by job ID,\n",
      "    the date/time it was submitted, and status. You can specify filters to\n",
      "    narrow the search by supplying a dictionary containing the desired criteria.\n",
      "    \n",
      "    **Request Syntax:**\n",
      "    \n",
      "    .. code-block:: python\n",
      "    \n",
      "        get_jobs(\n",
      "            filters={\n",
      "                'qbraidJobId': 'string',\n",
      "                'vendorJobId': 'string',\n",
      "                'qbraidDeviceId: 'string',\n",
      "                'circuitNumQubits': 123,\n",
      "                'circuitDepth': 123,\n",
      "                'shots': 123,\n",
      "                'status': 'string',\n",
      "                'numResults': 123\n",
      "            }\n",
      "        )\n",
      "    \n",
      "    # pylint: disable=line-too-long\n",
      "    **Filters:**\n",
      "    \n",
      "        * **qbraidJobId** (str): The qBraid ID of the quantum job\n",
      "        * **vendorJobId** (str): The Job ID assigned by the software provider to whom the job was submitted\n",
      "        * **qbraidDeviceId** (str): The qBraid ID of the device used in the job\n",
      "        * **circuitNumQubits** (int): The number of qubits in the quantum circuit used in the job\n",
      "        * **circuitDepth** (int): The depth the quantum circuit used in the job\n",
      "        * **shots** (int): Number of shots used in the job\n",
      "        * **status** (str): The status of the job\n",
      "        * **numResults** (int): Maximum number of results to display. Defaults to 10 if not specified.\n",
      "    \n",
      "    Args:\n",
      "        filters: A dictionary containing any filters to be applied.\n",
      "\n"
     ]
    }
   ],
   "source": [
    "help(get_jobs)"
   ]
  }
 ],
 "metadata": {
  "kernelspec": {
   "display_name": "Python 3 [qBraid-SDK]",
   "language": "python",
   "name": "python3_qbraid_sdk_9j9sjy"
  },
  "language_info": {
   "codemirror_mode": {
    "name": "ipython",
    "version": 3
   },
   "file_extension": ".py",
   "mimetype": "text/x-python",
   "name": "python",
   "nbconvert_exporter": "python",
   "pygments_lexer": "ipython3",
   "version": "3.9.10"
  }
 },
 "nbformat": 4,
 "nbformat_minor": 5
}
