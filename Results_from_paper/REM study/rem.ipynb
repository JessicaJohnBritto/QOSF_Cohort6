{
 "cells": [
  {
   "cell_type": "code",
   "execution_count": 1,
   "id": "2e39774c-653f-45fc-8d67-a1ae8738eb2e",
   "metadata": {},
   "outputs": [],
   "source": [
    "import cirq\n",
    "import numpy as np\n",
    "import matplotlib.pyplot as plt\n",
    "from qiskit_ibm_provider import IBMProvider\n",
    "from qiskit import QuantumCircuit, transpile\n",
    "from collections import Counter\n",
    "from mitiq.rem import generate_tensored_inverse_confusion_matrix\n",
    "from mitiq.rem.inverse_confusion_matrix import mitigate_measurements\n",
    "from mitiq.typing import MeasurementResult"
   ]
  },
  {
   "cell_type": "code",
   "execution_count": 2,
   "id": "48f59811-263c-41d2-bd81-788a2ff9ee36",
   "metadata": {},
   "outputs": [],
   "source": [
    "provider = IBMProvider()\n",
    "backend = provider.get_backend('ibm_kyoto')"
   ]
  },
  {
   "cell_type": "markdown",
   "id": "50cf5021-f033-4f41-ab9c-07469d81a3b5",
   "metadata": {},
   "source": [
    "<h2>One qubit:</h2>"
   ]
  },
  {
   "cell_type": "code",
   "execution_count": 12,
   "id": "1fcc8e62-d220-425f-98ea-277da1c40b30",
   "metadata": {},
   "outputs": [],
   "source": [
    "layout = [20]\n",
    "repcnt = 8192"
   ]
  },
  {
   "cell_type": "code",
   "execution_count": 8,
   "id": "e110c1e6-4538-4fe5-89b0-a96c88a84962",
   "metadata": {},
   "outputs": [],
   "source": [
    "q0 = cirq.LineQubit(0)\n",
    "circs = [cirq.Circuit(),cirq.Circuit(cirq.Circuit(cirq.X(q0)))]\n",
    "for circ in circs:\n",
    "    circ.append(cirq.measure(q0,key='answer'))"
   ]
  },
  {
   "cell_type": "code",
   "execution_count": 11,
   "id": "047e3445-3ea5-4da1-bddc-449682a7f5be",
   "metadata": {},
   "outputs": [],
   "source": [
    "circs_qiskit = []\n",
    "for circ in circs:\n",
    "    circuit_qiskit = QuantumCircuit.from_qasm_str(circ.to_qasm())\n",
    "    transpiled_circuit = transpile(circuit_qiskit,backend=backend,optimization_level=0,initial_layout=layout)\n",
    "    circs_qiskit.append(transpiled_circuit)"
   ]
  },
  {
   "cell_type": "code",
   "execution_count": 23,
   "id": "9783e44d-a695-48eb-a99e-a72723892855",
   "metadata": {},
   "outputs": [
    {
     "name": "stdout",
     "output_type": "stream",
     "text": [
      "Submitted job with job id cnvh9cdgpnkg008f05fg\n",
      "All complete.\n"
     ]
    }
   ],
   "source": [
    "with open('./Jobs/2.txt','x') as job_id_file:\n",
    "        job = backend.run(circs_qiskit,shots=repcnt)   #Run job\n",
    "        job_id_file.write(job.job_id()+'\\n')    #Write to file\n",
    "        print('Submitted job with job id '+job.job_id())\n",
    "\n",
    "print('All complete.')"
   ]
  },
  {
   "cell_type": "code",
   "execution_count": 17,
   "id": "4b4c00a4-d904-4adf-b1a9-ef486b326e20",
   "metadata": {},
   "outputs": [],
   "source": [
    "def confusion_matrix(job_id,num_qubits,shots):\n",
    "    counts = None\n",
    "    job = provider.backend.retrieve_job(job_id.strip())\n",
    "    if not job.done():\n",
    "        print(job_id.strip()+' is not complete') # to avoid silent fail\n",
    "        return counts\n",
    "    results = job.result()\n",
    "    counts = results.get_counts()\n",
    "    res = np.zeros(shape=(2**num_qubits,2**num_qubits)) #(type,prob,scale_factor)\n",
    "    for i in range(2**num_qubits):\n",
    "        cnt = counts[i] #prepared state i\n",
    "        for j in range(2**num_qubits): #measured state j\n",
    "            #res[i,j] = meas i prep j\n",
    "            res[j,i] = cnt.get(bin(j)[2:].zfill(num_qubits),0)/shots\n",
    "    return res"
   ]
  },
  {
   "cell_type": "code",
   "execution_count": 57,
   "id": "25498fbc-3cea-44a0-a50b-07ac079634be",
   "metadata": {},
   "outputs": [],
   "source": [
    "job_id = 'cnvh9cdgpnkg008f05fg'\n",
    "A = confusion_matrix(job_id,1,repcnt)"
   ]
  },
  {
   "cell_type": "code",
   "execution_count": 58,
   "id": "fd9cc47b-14bf-4014-9b65-3d6c6655708d",
   "metadata": {},
   "outputs": [],
   "source": [
    "A_pinv = generate_tensored_inverse_confusion_matrix(1,[A])"
   ]
  },
  {
   "cell_type": "code",
   "execution_count": 48,
   "id": "bd4ffd3b-a078-4982-b4da-52e02d581a6a",
   "metadata": {},
   "outputs": [],
   "source": [
    "rae = 1.020e-2\n",
    "B = np.array([[1-rae,rae],[rae,1-rae]])\n",
    "Bi = np.linalg.inv(B)"
   ]
  },
  {
   "cell_type": "code",
   "execution_count": 56,
   "id": "575a6ea2-e11f-4c0e-9e8d-8e25bc5bfcd0",
   "metadata": {},
   "outputs": [
    {
     "name": "stdout",
     "output_type": "stream",
     "text": [
      "[[0.97827148 0.01416016]\n",
      " [0.02172852 0.98583984]]\n",
      "[[0.98823141 0.00404263]\n",
      " [0.01176859 0.99595737]]\n",
      "[[ 1.02253735 -0.01468726]\n",
      " [-0.02253735  1.01468726]]\n"
     ]
    }
   ],
   "source": [
    "print(A)\n",
    "print(Bi@A)\n",
    "print(A_pinv)"
   ]
  },
  {
   "cell_type": "code",
   "execution_count": 59,
   "id": "c03a1726-b708-48cf-b7f8-6644b459cd71",
   "metadata": {},
   "outputs": [
    {
     "name": "stdout",
     "output_type": "stream",
     "text": [
      "[[0.97338867 0.01428223]\n",
      " [0.02661133 0.98571777]]\n",
      "[[0.98324691 0.00416724]\n",
      " [0.01675309 0.99583276]]\n",
      "[[ 1.02774596 -0.01489118]\n",
      " [-0.02774596  1.01489118]]\n"
     ]
    }
   ],
   "source": [
    "print(A)\n",
    "print(Bi@A)\n",
    "print(A_pinv)"
   ]
  }
 ],
 "metadata": {
  "kernelspec": {
   "display_name": "Python 3 (ipykernel)",
   "language": "python",
   "name": "python3"
  },
  "language_info": {
   "codemirror_mode": {
    "name": "ipython",
    "version": 3
   },
   "file_extension": ".py",
   "mimetype": "text/x-python",
   "name": "python",
   "nbconvert_exporter": "python",
   "pygments_lexer": "ipython3",
   "version": "3.9.1"
  }
 },
 "nbformat": 4,
 "nbformat_minor": 5
}
