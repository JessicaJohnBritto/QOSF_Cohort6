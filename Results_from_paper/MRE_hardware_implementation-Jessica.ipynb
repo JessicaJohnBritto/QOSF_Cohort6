{
 "cells": [
  {
   "cell_type": "code",
   "execution_count": 1,
   "id": "55a4da1c-b9d2-4501-85ba-36c3dc2b7870",
   "metadata": {
    "tags": []
   },
   "outputs": [
    {
     "name": "stdout",
     "output_type": "stream",
     "text": [
      "Note: you may need to restart the kernel to use updated packages.\n",
      "\u001b[0;35mDisable successful. You are now submitting quantum jobs with your own AWS credentials.\u001b[0m\n",
      "\n",
      "\u001b[0;35mTo re-enable, run:\u001b[0m `qbraid jobs enable qbraid_sdk`\n",
      "Note: you may need to restart the kernel to use updated packages.\n",
      "\u001b[31mERROR: pip's dependency resolver does not currently take into account all the packages that are installed. This behaviour is the source of the following dependency conflicts.\n",
      "qbraid 0.4.5 requires amazon-braket-sdk<1.60.0,>=1.42.1, but you have amazon-braket-sdk 1.37.0 which is incompatible.\u001b[0m\u001b[31m\n",
      "\u001b[0mNote: you may need to restart the kernel to use updated packages.\n",
      "Note: you may need to restart the kernel to use updated packages.\n",
      "Note: you may need to restart the kernel to use updated packages.\n"
     ]
    }
   ],
   "source": [
    "%pip install --quiet ipython-extensions\n",
    "!qbraid jobs disable qbraid_sdk\n",
    "%pip install --quiet --upgrade pip\n",
    "%pip install --quiet amazon-braket-sdk==1.37.0\n",
    "%pip install --quiet --upgrade amazon-braket-schemas\n",
    "%pip install --quiet qbraid"
   ]
  },
  {
   "cell_type": "code",
   "execution_count": 2,
   "id": "60f07f0a-3c84-4bbd-b206-e8ee60c85485",
   "metadata": {
    "tags": []
   },
   "outputs": [],
   "source": [
    "# from qbraid.providers.aws import BraketDevice, BraketProvider\n",
    "from braket.aws import AwsDevice\n",
    "from qiskit import QuantumCircuit\n",
    "from braket.aws import AwsQuantumJob\n",
    "import importlib\n",
    "import braket.aws\n",
    "\n",
    "# from qiskit_braket_provider import AWSBraketProvider, BraketLocalBackend"
   ]
  },
  {
   "cell_type": "code",
   "execution_count": 3,
   "id": "17b664b6-0223-4849-a476-42e1b21f0f8d",
   "metadata": {},
   "outputs": [],
   "source": [
    "import cirq\n",
    "import numpy as np\n",
    "import matplotlib.pyplot as plt\n",
    "\n",
    "def prep(sys,state):\n",
    "    for i in range(len(state)):\n",
    "        if state[i]=='1':\n",
    "            yield cirq.X(sys[i])\n",
    "\n",
    "def zz_pump(sys,env,p,state):\n",
    "    yield from prep(sys,state)\n",
    "    yield cirq.CNOT(sys[1],sys[0])\n",
    "    yield cirq.X(env[0])\n",
    "    yield cirq.CNOT(sys[0],env[0])\n",
    "    yield cirq.Rx(rads=np.arccos(1-2*p)).on(sys[0]).controlled_by(env[0])\n",
    "    yield cirq.CNOT(sys[0],env[0])\n",
    "    yield cirq.H(sys[1])\n",
    "\n",
    "def xx_pump(sys,env,p,state):\n",
    "    yield from prep(sys,state)\n",
    "    yield cirq.CNOT(sys[1],sys[0])\n",
    "    yield cirq.H(sys[1])\n",
    "    yield cirq.X(env[0])\n",
    "    yield cirq.CNOT(sys[1],env[0])\n",
    "    yield cirq.rx(rads=np.arccos(1-2*p)).on(sys[1]).controlled_by(env[0])\n",
    "    yield cirq.CNOT(sys[1],env[0])\n",
    "\n",
    "def zz_xx_pump(sys,env,p,state):\n",
    "    yield from prep(sys,state)\n",
    "    yield cirq.CNOT(sys[1],sys[0])\n",
    "    yield cirq.X(env[0])\n",
    "    yield cirq.CNOT(sys[0],env[0])\n",
    "    yield cirq.rx(rads=np.arccos(1-2*p)).on(sys[0]).controlled_by(env[0])\n",
    "    yield cirq.CNOT(sys[0],env[0])\n",
    "    yield cirq.H(sys[1])\n",
    "    yield cirq.X(env[1])\n",
    "    yield cirq.CNOT(sys[1],env[1])\n",
    "    yield cirq.rx(rads=np.arccos(1-2*p)).on(sys[1]).controlled_by(env[1])\n",
    "    yield cirq.CNOT(sys[1],env[1])\n"
   ]
  },
  {
   "cell_type": "code",
   "execution_count": null,
   "id": "cb4e4b84-edbc-414b-b99f-f24770f27d93",
   "metadata": {},
   "outputs": [],
   "source": [
    "probs = np.linspace(0,1,num=5)\n",
    "repcnt = 960"
   ]
  },
  {
   "cell_type": "code",
   "execution_count": 3,
   "id": "cb876dbd-c7f3-4d5a-8a83-eaca5caa540b",
   "metadata": {
    "tags": []
   },
   "outputs": [
    {
     "name": "stdout",
     "output_type": "stream",
     "text": [
      "\u001b[0;35mSuccessfully enabled qBraid Quantum Jobs in the \u001b[1;35mqbraid_sdk\u001b[0m\u001b[0;35m environment.\u001b[0m\n",
      "\u001b[0;35mEvery \u001b[1;35mAWS\u001b[0m\u001b[0;35m job you run will now be submitted through the qBraid API, so no access keys/tokens are necessary. \u001b[0m\n",
      "\n",
      "\u001b[0;35mTo disable, run:\u001b[0m `qbraid jobs disable qbraid_sdk`\n"
     ]
    }
   ],
   "source": [
    "!qbraid jobs enable qbraid_sdk"
   ]
  },
  {
   "cell_type": "code",
   "execution_count": 4,
   "id": "58b6225a-089e-479b-bbf9-a7cf4b691025",
   "metadata": {
    "tags": []
   },
   "outputs": [
    {
     "data": {
      "text/html": [
       "<h3>Supported Devices</h3><table><tr>\n",
       "    <th style='text-align:left'>Provider</th>\n",
       "    <th style='text-align:left'>Name</th>\n",
       "    <th style='text-align:left'>qBraid ID</th>\n",
       "    <th style='text-align:left'>Status</th></tr>\n",
       "    <tr>\n",
       "        <td style='text-align:left'>AWS</td>\n",
       "        <td style='text-align:left'>DM1</td>\n",
       "        <td style='text-align:left'><code>aws_dm_sim</code></td>\n",
       "        <td><span style='color:green'>●</span></td></tr>\n",
       "        <tr>\n",
       "        <td style='text-align:left'>AWS</td>\n",
       "        <td style='text-align:left'>SV1</td>\n",
       "        <td style='text-align:left'><code>aws_sv_sim</code></td>\n",
       "        <td><span style='color:green'>●</span></td></tr>\n",
       "        <tr>\n",
       "        <td style='text-align:left'>AWS</td>\n",
       "        <td style='text-align:left'>TN1</td>\n",
       "        <td style='text-align:left'><code>aws_tn_sim</code></td>\n",
       "        <td><span style='color:green'>●</span></td></tr>\n",
       "        <tr>\n",
       "        <td style='text-align:left'>IBM</td>\n",
       "        <td style='text-align:left'>Brisbane</td>\n",
       "        <td style='text-align:left'><code>ibm_q_brisbane</code></td>\n",
       "        <td><span style='color:green'>●</span></td></tr>\n",
       "        <tr>\n",
       "        <td style='text-align:left'>IBM</td>\n",
       "        <td style='text-align:left'>Ext. stabilizer simulator</td>\n",
       "        <td style='text-align:left'><code>ibm_q_simulator_extended_stabilizer</code></td>\n",
       "        <td><span style='color:green'>●</span></td></tr>\n",
       "        <tr>\n",
       "        <td style='text-align:left'>IBM</td>\n",
       "        <td style='text-align:left'>Kyoto</td>\n",
       "        <td style='text-align:left'><code>ibm_q_kyoto</code></td>\n",
       "        <td><span style='color:green'>●</span></td></tr>\n",
       "        <tr>\n",
       "        <td style='text-align:left'>IBM</td>\n",
       "        <td style='text-align:left'>MPS simulator</td>\n",
       "        <td style='text-align:left'><code>ibm_q_simulator_mps</code></td>\n",
       "        <td><span style='color:green'>●</span></td></tr>\n",
       "        <tr>\n",
       "        <td style='text-align:left'>IBM</td>\n",
       "        <td style='text-align:left'>Osaka</td>\n",
       "        <td style='text-align:left'><code>ibm_q_osaka</code></td>\n",
       "        <td><span style='color:green'>●</span></td></tr>\n",
       "        <tr>\n",
       "        <td style='text-align:left'>IBM</td>\n",
       "        <td style='text-align:left'>Oslo</td>\n",
       "        <td style='text-align:left'><code>ibm_q_oslo</code></td>\n",
       "        <td><span style='color:red'>○</span></td></tr>\n",
       "        <tr>\n",
       "        <td style='text-align:left'>IBM</td>\n",
       "        <td style='text-align:left'>QASM simulator</td>\n",
       "        <td style='text-align:left'><code>ibm_q_qasm_simulator</code></td>\n",
       "        <td><span style='color:green'>●</span></td></tr>\n",
       "        <tr>\n",
       "        <td style='text-align:left'>IBM</td>\n",
       "        <td style='text-align:left'>Stabilizer simulator</td>\n",
       "        <td style='text-align:left'><code>ibm_q_simulator_stabilizer</code></td>\n",
       "        <td><span style='color:green'>●</span></td></tr>\n",
       "        <tr>\n",
       "        <td style='text-align:left'>IBM</td>\n",
       "        <td style='text-align:left'>State vector simulator</td>\n",
       "        <td style='text-align:left'><code>ibm_q_simulator_statevector</code></td>\n",
       "        <td><span style='color:green'>●</span></td></tr>\n",
       "        <tr>\n",
       "        <td style='text-align:left'>IonQ</td>\n",
       "        <td style='text-align:left'>Aria-1</td>\n",
       "        <td style='text-align:left'><code>aws_ionq_aria1</code></td>\n",
       "        <td><span style='color:red'>○</span></td></tr>\n",
       "        <tr>\n",
       "        <td style='text-align:left'>IonQ</td>\n",
       "        <td style='text-align:left'>Aria-2</td>\n",
       "        <td style='text-align:left'><code>aws_ionq_aria2</code></td>\n",
       "        <td><span style='color:red'>○</span></td></tr>\n",
       "        <tr>\n",
       "        <td style='text-align:left'>IonQ</td>\n",
       "        <td style='text-align:left'>Forte-1</td>\n",
       "        <td style='text-align:left'><code>aws_ionq_forte1</code></td>\n",
       "        <td><span style='color:red'>○</span></td></tr>\n",
       "        <tr>\n",
       "        <td style='text-align:left'>IonQ</td>\n",
       "        <td style='text-align:left'>Harmony</td>\n",
       "        <td style='text-align:left'><code>aws_ionq_harmony</code></td>\n",
       "        <td><span style='color:red'>○</span></td></tr>\n",
       "        <tr>\n",
       "        <td style='text-align:left'>OQC</td>\n",
       "        <td style='text-align:left'>Lucy</td>\n",
       "        <td style='text-align:left'><code>aws_oqc_lucy</code></td>\n",
       "        <td><span style='color:green'>●</span></td></tr>\n",
       "        <tr>\n",
       "        <td style='text-align:left'>QuEra</td>\n",
       "        <td style='text-align:left'>Aquila</td>\n",
       "        <td style='text-align:left'><code>aws_quera_aquila</code></td>\n",
       "        <td><span style='color:green'>●</span></td></tr>\n",
       "        <tr>\n",
       "        <td style='text-align:left'>Rigetti</td>\n",
       "        <td style='text-align:left'>Aspen-M-3</td>\n",
       "        <td style='text-align:left'><code>aws_rigetti_aspen_m3</code></td>\n",
       "        <td><span style='color:red'>○</span></td></tr>\n",
       "        <tr><td colspan='4'; style='text-align:right'>Device status updated 1 minutes ago</td></tr></table>"
      ],
      "text/plain": [
       "<IPython.core.display.HTML object>"
      ]
     },
     "metadata": {},
     "output_type": "display_data"
    }
   ],
   "source": [
    "from qbraid import get_devices\n",
    "get_devices()"
   ]
  },
  {
   "cell_type": "code",
   "execution_count": 5,
   "id": "a8c56918-2bbb-4d78-b180-b417c36d3bb6",
   "metadata": {
    "tags": []
   },
   "outputs": [
    {
     "ename": "ClientError",
     "evalue": "An error occurred (UnrecognizedClientException) when calling the GetDevice operation: The security token included in the request is invalid.",
     "output_type": "error",
     "traceback": [
      "\u001b[0;31m---------------------------------------------------------------------------\u001b[0m",
      "\u001b[0;31mClientError\u001b[0m                               Traceback (most recent call last)",
      "Cell \u001b[0;32mIn[5], line 8\u001b[0m\n\u001b[1;32m      2\u001b[0m \u001b[38;5;66;03m# ionq_id = \"aws_ionq_aria2\"\u001b[39;00m\n\u001b[1;32m      3\u001b[0m \u001b[38;5;66;03m# qbraid_aws_device = device_wrapper(ionq_id)\u001b[39;00m\n\u001b[1;32m      4\u001b[0m \u001b[38;5;66;03m# qbraid_aws_device.vendor_dlo\u001b[39;00m\n\u001b[1;32m      5\u001b[0m \u001b[38;5;66;03m# qbraid_aws_device.info\u001b[39;00m\n\u001b[1;32m      7\u001b[0m qbraid_id \u001b[38;5;241m=\u001b[39m \u001b[38;5;124m'\u001b[39m\u001b[38;5;124maws_rigetti_aspen_m3\u001b[39m\u001b[38;5;124m'\u001b[39m\n\u001b[0;32m----> 8\u001b[0m qdevice \u001b[38;5;241m=\u001b[39m \u001b[43mdevice_wrapper\u001b[49m\u001b[43m(\u001b[49m\u001b[43mqbraid_id\u001b[49m\u001b[43m)\u001b[49m\n",
      "File \u001b[0;32m~/.qbraid/environments/qbraid_sdk_9j9sjy/pyenv/lib/python3.9/site-packages/qbraid/wrappers.py:115\u001b[0m, in \u001b[0;36mdevice_wrapper\u001b[0;34m(device_id)\u001b[0m\n\u001b[1;32m    113\u001b[0m ep \u001b[38;5;241m=\u001b[39m \u001b[38;5;124mf\u001b[39m\u001b[38;5;124m\"\u001b[39m\u001b[38;5;132;01m{\u001b[39;00mvendor\u001b[38;5;132;01m}\u001b[39;00m\u001b[38;5;124m.device\u001b[39m\u001b[38;5;124m\"\u001b[39m\n\u001b[1;32m    114\u001b[0m device_wrapper_class \u001b[38;5;241m=\u001b[39m devices_entrypoints[ep]\u001b[38;5;241m.\u001b[39mload()\n\u001b[0;32m--> 115\u001b[0m \u001b[38;5;28;01mreturn\u001b[39;00m \u001b[43mdevice_wrapper_class\u001b[49m\u001b[43m(\u001b[49m\u001b[38;5;241;43m*\u001b[39;49m\u001b[38;5;241;43m*\u001b[39;49m\u001b[43mdevice_info\u001b[49m\u001b[43m)\u001b[49m\n",
      "File \u001b[0;32m~/.qbraid/environments/qbraid_sdk_9j9sjy/pyenv/lib/python3.9/site-packages/qbraid/devices/aws/device.py:51\u001b[0m, in \u001b[0;36mAwsDeviceWrapper.__init__\u001b[0;34m(self, **kwargs)\u001b[0m\n\u001b[1;32m     48\u001b[0m \u001b[38;5;28;01mdef\u001b[39;00m \u001b[38;5;21m__init__\u001b[39m(\u001b[38;5;28mself\u001b[39m, \u001b[38;5;241m*\u001b[39m\u001b[38;5;241m*\u001b[39mkwargs):\n\u001b[1;32m     49\u001b[0m \u001b[38;5;250m    \u001b[39m\u001b[38;5;124;03m\"\"\"Create a AwsDeviceWrapper.\"\"\"\u001b[39;00m\n\u001b[0;32m---> 51\u001b[0m     \u001b[38;5;28;43msuper\u001b[39;49m\u001b[43m(\u001b[49m\u001b[43m)\u001b[49m\u001b[38;5;241;43m.\u001b[39;49m\u001b[38;5;21;43m__init__\u001b[39;49m\u001b[43m(\u001b[49m\u001b[38;5;241;43m*\u001b[39;49m\u001b[38;5;241;43m*\u001b[39;49m\u001b[43mkwargs\u001b[49m\u001b[43m)\u001b[49m\n\u001b[1;32m     52\u001b[0m     \u001b[38;5;28mself\u001b[39m\u001b[38;5;241m.\u001b[39m_arn \u001b[38;5;241m=\u001b[39m \u001b[38;5;28mself\u001b[39m\u001b[38;5;241m.\u001b[39mvendor_device_id\n\u001b[1;32m     53\u001b[0m     \u001b[38;5;28mself\u001b[39m\u001b[38;5;241m.\u001b[39m_default_s3_folder \u001b[38;5;241m=\u001b[39m \u001b[38;5;28mself\u001b[39m\u001b[38;5;241m.\u001b[39m_qbraid_s3_folder()\n",
      "File \u001b[0;32m~/.qbraid/environments/qbraid_sdk_9j9sjy/pyenv/lib/python3.9/site-packages/qbraid/devices/device.py:50\u001b[0m, in \u001b[0;36mDeviceLikeWrapper.__init__\u001b[0;34m(self, **kwargs)\u001b[0m\n\u001b[1;32m     48\u001b[0m \u001b[38;5;28mself\u001b[39m\u001b[38;5;241m.\u001b[39m_qubits \u001b[38;5;241m=\u001b[39m \u001b[38;5;28mself\u001b[39m\u001b[38;5;241m.\u001b[39m_info\u001b[38;5;241m.\u001b[39mget(\u001b[38;5;124m\"\u001b[39m\u001b[38;5;124mnumberQubits\u001b[39m\u001b[38;5;124m\"\u001b[39m)\n\u001b[1;32m     49\u001b[0m \u001b[38;5;28mself\u001b[39m\u001b[38;5;241m.\u001b[39mvendor_device_id \u001b[38;5;241m=\u001b[39m \u001b[38;5;28mself\u001b[39m\u001b[38;5;241m.\u001b[39m_info\u001b[38;5;241m.\u001b[39mpop(\u001b[38;5;124m\"\u001b[39m\u001b[38;5;124mobjArg\u001b[39m\u001b[38;5;124m\"\u001b[39m)\n\u001b[0;32m---> 50\u001b[0m \u001b[38;5;28mself\u001b[39m\u001b[38;5;241m.\u001b[39mvendor_dlo \u001b[38;5;241m=\u001b[39m \u001b[38;5;28;43mself\u001b[39;49m\u001b[38;5;241;43m.\u001b[39;49m\u001b[43m_get_device\u001b[49m\u001b[43m(\u001b[49m\u001b[43m)\u001b[49m\n",
      "File \u001b[0;32m~/.qbraid/environments/qbraid_sdk_9j9sjy/pyenv/lib/python3.9/site-packages/qbraid/devices/aws/device.py:68\u001b[0m, in \u001b[0;36mAwsDeviceWrapper._get_device\u001b[0;34m(self)\u001b[0m\n\u001b[1;32m     66\u001b[0m \u001b[38;5;250m\u001b[39m\u001b[38;5;124;03m\"\"\"Initialize an AWS device.\"\"\"\u001b[39;00m\n\u001b[1;32m     67\u001b[0m \u001b[38;5;28;01mtry\u001b[39;00m:\n\u001b[0;32m---> 68\u001b[0m     \u001b[38;5;28;01mreturn\u001b[39;00m \u001b[43mAwsDevice\u001b[49m\u001b[43m(\u001b[49m\u001b[38;5;28;43mself\u001b[39;49m\u001b[38;5;241;43m.\u001b[39;49m\u001b[43mvendor_device_id\u001b[49m\u001b[43m)\u001b[49m\n\u001b[1;32m     69\u001b[0m \u001b[38;5;28;01mexcept\u001b[39;00m \u001b[38;5;167;01mValueError\u001b[39;00m \u001b[38;5;28;01mas\u001b[39;00m err:\n\u001b[1;32m     70\u001b[0m     \u001b[38;5;28;01mraise\u001b[39;00m DeviceError(\u001b[38;5;124m\"\u001b[39m\u001b[38;5;124mDevice not found\u001b[39m\u001b[38;5;124m\"\u001b[39m) \u001b[38;5;28;01mfrom\u001b[39;00m \u001b[38;5;21;01merr\u001b[39;00m\n",
      "File \u001b[0;32m~/.qbraid/environments/qbraid_sdk_9j9sjy/pyenv/lib/python3.9/site-packages/braket/aws/aws_device.py:104\u001b[0m, in \u001b[0;36m__init__\u001b[0;34m(self, arn, aws_session)\u001b[0m\n\u001b[1;32m     88\u001b[0m     \u001b[38;5;28mself\u001b[39m\u001b[38;5;241m.\u001b[39m_ports \u001b[38;5;241m=\u001b[39m \u001b[38;5;28;01mNone\u001b[39;00m\n\u001b[1;32m     89\u001b[0m     \u001b[38;5;28mself\u001b[39m\u001b[38;5;241m.\u001b[39m_frames \u001b[38;5;241m=\u001b[39m \u001b[38;5;28;01mNone\u001b[39;00m\n\u001b[1;32m     91\u001b[0m \u001b[38;5;28;01mdef\u001b[39;00m \u001b[38;5;21mrun\u001b[39m(\n\u001b[1;32m     92\u001b[0m     \u001b[38;5;28mself\u001b[39m,\n\u001b[1;32m     93\u001b[0m     task_specification: Union[\n\u001b[1;32m     94\u001b[0m         Circuit,\n\u001b[1;32m     95\u001b[0m         Problem,\n\u001b[1;32m     96\u001b[0m         OpenQasmProgram,\n\u001b[1;32m     97\u001b[0m         BlackbirdProgram,\n\u001b[1;32m     98\u001b[0m         PulseSequence,\n\u001b[1;32m     99\u001b[0m         AnalogHamiltonianSimulation,\n\u001b[1;32m    100\u001b[0m     ],\n\u001b[1;32m    101\u001b[0m     s3_destination_folder: Optional[AwsSession\u001b[38;5;241m.\u001b[39mS3DestinationFolder] \u001b[38;5;241m=\u001b[39m \u001b[38;5;28;01mNone\u001b[39;00m,\n\u001b[1;32m    102\u001b[0m     shots: Optional[\u001b[38;5;28mint\u001b[39m] \u001b[38;5;241m=\u001b[39m \u001b[38;5;28;01mNone\u001b[39;00m,\n\u001b[1;32m    103\u001b[0m     poll_timeout_seconds: \u001b[38;5;28mfloat\u001b[39m \u001b[38;5;241m=\u001b[39m AwsQuantumTask\u001b[38;5;241m.\u001b[39mDEFAULT_RESULTS_POLL_TIMEOUT,\n\u001b[0;32m--> 104\u001b[0m     poll_interval_seconds: Optional[\u001b[38;5;28mfloat\u001b[39m] \u001b[38;5;241m=\u001b[39m \u001b[38;5;28;01mNone\u001b[39;00m,\n\u001b[1;32m    105\u001b[0m     inputs: Optional[Dict[\u001b[38;5;28mstr\u001b[39m, \u001b[38;5;28mfloat\u001b[39m]] \u001b[38;5;241m=\u001b[39m \u001b[38;5;28;01mNone\u001b[39;00m,\n\u001b[1;32m    106\u001b[0m     \u001b[38;5;241m*\u001b[39maws_quantum_task_args,\n\u001b[1;32m    107\u001b[0m     \u001b[38;5;241m*\u001b[39m\u001b[38;5;241m*\u001b[39maws_quantum_task_kwargs,\n\u001b[1;32m    108\u001b[0m ) \u001b[38;5;241m-\u001b[39m\u001b[38;5;241m>\u001b[39m AwsQuantumTask:\n\u001b[1;32m    109\u001b[0m \u001b[38;5;250m    \u001b[39m\u001b[38;5;124;03m\"\"\"\u001b[39;00m\n\u001b[1;32m    110\u001b[0m \u001b[38;5;124;03m    Run a quantum task specification on this device. A task can be a circuit or an\u001b[39;00m\n\u001b[1;32m    111\u001b[0m \u001b[38;5;124;03m    annealing problem.\u001b[39;00m\n\u001b[0;32m   (...)\u001b[0m\n\u001b[1;32m    160\u001b[0m \u001b[38;5;124;03m        `braket.aws.aws_quantum_task.AwsQuantumTask.create()`\u001b[39;00m\n\u001b[1;32m    161\u001b[0m \u001b[38;5;124;03m    \"\"\"\u001b[39;00m\n\u001b[1;32m    162\u001b[0m     s3_destination_folder \u001b[38;5;241m=\u001b[39m (\u001b[38;5;124m'\u001b[39m\u001b[38;5;124mamazon-braket-qbraid-jobs\u001b[39m\u001b[38;5;124m'\u001b[39m, os\u001b[38;5;241m.\u001b[39menviron\u001b[38;5;241m.\u001b[39mget(\u001b[38;5;124m'\u001b[39m\u001b[38;5;124mJUPYTERHUB_USER\u001b[39m\u001b[38;5;124m'\u001b[39m))\n",
      "File \u001b[0;32m~/.qbraid/environments/qbraid_sdk_9j9sjy/pyenv/lib/python3.9/site-packages/braket/aws/aws_device.py:306\u001b[0m, in \u001b[0;36m_get_session_and_initialize\u001b[0;34m(self, session)\u001b[0m\n\u001b[1;32m    304\u001b[0m             \u001b[38;5;28;01mraise\u001b[39;00m \u001b[38;5;167;01mValueError\u001b[39;00m(\u001b[38;5;124mf\u001b[39m\u001b[38;5;124m\"\u001b[39m\u001b[38;5;124mSimulator \u001b[39m\u001b[38;5;124m'\u001b[39m\u001b[38;5;132;01m{\u001b[39;00m\u001b[38;5;28mself\u001b[39m\u001b[38;5;241m.\u001b[39m_arn\u001b[38;5;132;01m}\u001b[39;00m\u001b[38;5;124m'\u001b[39m\u001b[38;5;124m not found in \u001b[39m\u001b[38;5;124m'\u001b[39m\u001b[38;5;132;01m{\u001b[39;00mcurrent_region\u001b[38;5;132;01m}\u001b[39;00m\u001b[38;5;124m'\u001b[39m\u001b[38;5;124m\"\u001b[39m)\n\u001b[1;32m    305\u001b[0m     \u001b[38;5;28;01melse\u001b[39;00m:\n\u001b[0;32m--> 306\u001b[0m         \u001b[38;5;28;01mraise\u001b[39;00m e\n\u001b[1;32m    307\u001b[0m \u001b[38;5;66;03m# Search remaining regions for QPU\u001b[39;00m\n\u001b[1;32m    308\u001b[0m \u001b[38;5;28;01mfor\u001b[39;00m region \u001b[38;5;129;01min\u001b[39;00m \u001b[38;5;28mfrozenset\u001b[39m(AwsDevice\u001b[38;5;241m.\u001b[39mREGIONS) \u001b[38;5;241m-\u001b[39m {current_region}:\n",
      "File \u001b[0;32m~/.qbraid/environments/qbraid_sdk_9j9sjy/pyenv/lib/python3.9/site-packages/braket/aws/aws_device.py:322\u001b[0m, in \u001b[0;36m_get_regional_device_session\u001b[0;34m(self, session)\u001b[0m\n\u001b[1;32m    320\u001b[0m \u001b[38;5;28mself\u001b[39m\u001b[38;5;241m.\u001b[39m_name \u001b[38;5;241m=\u001b[39m metadata\u001b[38;5;241m.\u001b[39mget(\u001b[38;5;124m\"\u001b[39m\u001b[38;5;124mdeviceName\u001b[39m\u001b[38;5;124m\"\u001b[39m)\n\u001b[1;32m    321\u001b[0m \u001b[38;5;28mself\u001b[39m\u001b[38;5;241m.\u001b[39m_status \u001b[38;5;241m=\u001b[39m metadata\u001b[38;5;241m.\u001b[39mget(\u001b[38;5;124m\"\u001b[39m\u001b[38;5;124mdeviceStatus\u001b[39m\u001b[38;5;124m\"\u001b[39m)\n\u001b[0;32m--> 322\u001b[0m \u001b[38;5;28mself\u001b[39m\u001b[38;5;241m.\u001b[39m_type \u001b[38;5;241m=\u001b[39m AwsDeviceType(metadata\u001b[38;5;241m.\u001b[39mget(\u001b[38;5;124m\"\u001b[39m\u001b[38;5;124mdeviceType\u001b[39m\u001b[38;5;124m\"\u001b[39m))\n\u001b[1;32m    323\u001b[0m \u001b[38;5;28mself\u001b[39m\u001b[38;5;241m.\u001b[39m_provider_name \u001b[38;5;241m=\u001b[39m metadata\u001b[38;5;241m.\u001b[39mget(\u001b[38;5;124m\"\u001b[39m\u001b[38;5;124mproviderName\u001b[39m\u001b[38;5;124m\"\u001b[39m)\n\u001b[1;32m    324\u001b[0m \u001b[38;5;28mself\u001b[39m\u001b[38;5;241m.\u001b[39m_properties \u001b[38;5;241m=\u001b[39m BraketSchemaBase\u001b[38;5;241m.\u001b[39mparse_raw_schema(metadata\u001b[38;5;241m.\u001b[39mget(\u001b[38;5;124m\"\u001b[39m\u001b[38;5;124mdeviceCapabilities\u001b[39m\u001b[38;5;124m\"\u001b[39m))\n",
      "File \u001b[0;32m~/.qbraid/environments/qbraid_sdk_9j9sjy/pyenv/lib/python3.9/site-packages/braket/aws/aws_device.py:319\u001b[0m, in \u001b[0;36m_get_regional_device_session\u001b[0;34m(self, session)\u001b[0m\n\u001b[1;32m    318\u001b[0m \u001b[38;5;28;01mdef\u001b[39;00m \u001b[38;5;21m_populate_properties\u001b[39m(\u001b[38;5;28mself\u001b[39m, session: AwsSession) \u001b[38;5;241m-\u001b[39m\u001b[38;5;241m>\u001b[39m \u001b[38;5;28;01mNone\u001b[39;00m:\n\u001b[0;32m--> 319\u001b[0m     metadata \u001b[38;5;241m=\u001b[39m session\u001b[38;5;241m.\u001b[39mget_device(\u001b[38;5;28mself\u001b[39m\u001b[38;5;241m.\u001b[39m_arn)\n\u001b[1;32m    320\u001b[0m     \u001b[38;5;28mself\u001b[39m\u001b[38;5;241m.\u001b[39m_name \u001b[38;5;241m=\u001b[39m metadata\u001b[38;5;241m.\u001b[39mget(\u001b[38;5;124m\"\u001b[39m\u001b[38;5;124mdeviceName\u001b[39m\u001b[38;5;124m\"\u001b[39m)\n\u001b[1;32m    321\u001b[0m     \u001b[38;5;28mself\u001b[39m\u001b[38;5;241m.\u001b[39m_status \u001b[38;5;241m=\u001b[39m metadata\u001b[38;5;241m.\u001b[39mget(\u001b[38;5;124m\"\u001b[39m\u001b[38;5;124mdeviceStatus\u001b[39m\u001b[38;5;124m\"\u001b[39m)\n",
      "File \u001b[0;32m~/.qbraid/environments/qbraid_sdk_9j9sjy/pyenv/lib/python3.9/site-packages/braket/aws/aws_device.py:349\u001b[0m, in \u001b[0;36m_populate_properties\u001b[0;34m(self, session)\u001b[0m\n\u001b[1;32m    345\u001b[0m \u001b[38;5;129m@property\u001b[39m\n\u001b[1;32m    346\u001b[0m \u001b[38;5;28;01mdef\u001b[39;00m \u001b[38;5;21maws_session\u001b[39m(\u001b[38;5;28mself\u001b[39m) \u001b[38;5;241m-\u001b[39m\u001b[38;5;241m>\u001b[39m AwsSession:\n\u001b[1;32m    347\u001b[0m     \u001b[38;5;28;01mreturn\u001b[39;00m \u001b[38;5;28mself\u001b[39m\u001b[38;5;241m.\u001b[39m_aws_session\n\u001b[0;32m--> 349\u001b[0m \u001b[38;5;129m@property\u001b[39m\n\u001b[1;32m    350\u001b[0m \u001b[38;5;28;01mdef\u001b[39;00m \u001b[38;5;21marn\u001b[39m(\u001b[38;5;28mself\u001b[39m) \u001b[38;5;241m-\u001b[39m\u001b[38;5;241m>\u001b[39m \u001b[38;5;28mstr\u001b[39m:\n\u001b[1;32m    351\u001b[0m \u001b[38;5;250m    \u001b[39m\u001b[38;5;124;03m\"\"\"str: Return the ARN of the device\"\"\"\u001b[39;00m\n\u001b[1;32m    352\u001b[0m     \u001b[38;5;28;01mreturn\u001b[39;00m \u001b[38;5;28mself\u001b[39m\u001b[38;5;241m.\u001b[39m_arn\n",
      "File \u001b[0;32m~/.qbraid/environments/qbraid_sdk_9j9sjy/pyenv/lib/python3.9/site-packages/braket/aws/aws_session.py:610\u001b[0m, in \u001b[0;36mAwsSession.get_device\u001b[0;34m(self, arn)\u001b[0m\n\u001b[1;32m    600\u001b[0m \u001b[38;5;28;01mdef\u001b[39;00m \u001b[38;5;21mget_device\u001b[39m(\u001b[38;5;28mself\u001b[39m, arn: \u001b[38;5;28mstr\u001b[39m) \u001b[38;5;241m-\u001b[39m\u001b[38;5;241m>\u001b[39m \u001b[38;5;28mdict\u001b[39m[\u001b[38;5;28mstr\u001b[39m, Any]:\n\u001b[1;32m    601\u001b[0m \u001b[38;5;250m    \u001b[39m\u001b[38;5;124;03m\"\"\"\u001b[39;00m\n\u001b[1;32m    602\u001b[0m \u001b[38;5;124;03m    Calls the Amazon Braket `get_device` API to retrieve device metadata.\u001b[39;00m\n\u001b[1;32m    603\u001b[0m \n\u001b[0;32m   (...)\u001b[0m\n\u001b[1;32m    608\u001b[0m \u001b[38;5;124;03m        dict[str, Any]: The response from the Amazon Braket `GetDevice` operation.\u001b[39;00m\n\u001b[1;32m    609\u001b[0m \u001b[38;5;124;03m    \"\"\"\u001b[39;00m\n\u001b[0;32m--> 610\u001b[0m     \u001b[38;5;28;01mreturn\u001b[39;00m \u001b[38;5;28;43mself\u001b[39;49m\u001b[38;5;241;43m.\u001b[39;49m\u001b[43mbraket_client\u001b[49m\u001b[38;5;241;43m.\u001b[39;49m\u001b[43mget_device\u001b[49m\u001b[43m(\u001b[49m\u001b[43mdeviceArn\u001b[49m\u001b[38;5;241;43m=\u001b[39;49m\u001b[43marn\u001b[49m\u001b[43m)\u001b[49m\n",
      "File \u001b[0;32m~/.qbraid/environments/qbraid_sdk_9j9sjy/pyenv/lib/python3.9/site-packages/botocore/client.py:553\u001b[0m, in \u001b[0;36mClientCreator._create_api_method.<locals>._api_call\u001b[0;34m(self, *args, **kwargs)\u001b[0m\n\u001b[1;32m    549\u001b[0m     \u001b[38;5;28;01mraise\u001b[39;00m \u001b[38;5;167;01mTypeError\u001b[39;00m(\n\u001b[1;32m    550\u001b[0m         \u001b[38;5;124mf\u001b[39m\u001b[38;5;124m\"\u001b[39m\u001b[38;5;132;01m{\u001b[39;00mpy_operation_name\u001b[38;5;132;01m}\u001b[39;00m\u001b[38;5;124m() only accepts keyword arguments.\u001b[39m\u001b[38;5;124m\"\u001b[39m\n\u001b[1;32m    551\u001b[0m     )\n\u001b[1;32m    552\u001b[0m \u001b[38;5;66;03m# The \"self\" in this scope is referring to the BaseClient.\u001b[39;00m\n\u001b[0;32m--> 553\u001b[0m \u001b[38;5;28;01mreturn\u001b[39;00m \u001b[38;5;28;43mself\u001b[39;49m\u001b[38;5;241;43m.\u001b[39;49m\u001b[43m_make_api_call\u001b[49m\u001b[43m(\u001b[49m\u001b[43moperation_name\u001b[49m\u001b[43m,\u001b[49m\u001b[43m \u001b[49m\u001b[43mkwargs\u001b[49m\u001b[43m)\u001b[49m\n",
      "File \u001b[0;32m~/.qbraid/environments/qbraid_sdk_9j9sjy/pyenv/lib/python3.9/site-packages/botocore/client.py:1009\u001b[0m, in \u001b[0;36mBaseClient._make_api_call\u001b[0;34m(self, operation_name, api_params)\u001b[0m\n\u001b[1;32m   1005\u001b[0m     error_code \u001b[38;5;241m=\u001b[39m error_info\u001b[38;5;241m.\u001b[39mget(\u001b[38;5;124m\"\u001b[39m\u001b[38;5;124mQueryErrorCode\u001b[39m\u001b[38;5;124m\"\u001b[39m) \u001b[38;5;129;01mor\u001b[39;00m error_info\u001b[38;5;241m.\u001b[39mget(\n\u001b[1;32m   1006\u001b[0m         \u001b[38;5;124m\"\u001b[39m\u001b[38;5;124mCode\u001b[39m\u001b[38;5;124m\"\u001b[39m\n\u001b[1;32m   1007\u001b[0m     )\n\u001b[1;32m   1008\u001b[0m     error_class \u001b[38;5;241m=\u001b[39m \u001b[38;5;28mself\u001b[39m\u001b[38;5;241m.\u001b[39mexceptions\u001b[38;5;241m.\u001b[39mfrom_code(error_code)\n\u001b[0;32m-> 1009\u001b[0m     \u001b[38;5;28;01mraise\u001b[39;00m error_class(parsed_response, operation_name)\n\u001b[1;32m   1010\u001b[0m \u001b[38;5;28;01melse\u001b[39;00m:\n\u001b[1;32m   1011\u001b[0m     \u001b[38;5;28;01mreturn\u001b[39;00m parsed_response\n",
      "\u001b[0;31mClientError\u001b[0m: An error occurred (UnrecognizedClientException) when calling the GetDevice operation: The security token included in the request is invalid."
     ]
    }
   ],
   "source": [
    "from qbraid import device_wrapper, job_wrapper, get_jobs\n",
    "# ionq_id = \"aws_ionq_aria2\"\n",
    "# qbraid_aws_device = device_wrapper(ionq_id)\n",
    "# qbraid_aws_device.vendor_dlo\n",
    "# qbraid_aws_device.info\n",
    "\n",
    "qbraid_id = 'aws_rigetti_aspen_m3'\n",
    "qdevice = device_wrapper(qbraid_id)"
   ]
  },
  {
   "cell_type": "code",
   "execution_count": 7,
   "id": "709f9474-5270-4681-821d-2546cc99c0ce",
   "metadata": {
    "tags": []
   },
   "outputs": [],
   "source": [
    "# print(qbraid_aws_device.vendor_dlo)\n",
    "# %pip install --quiet qbraid.providers.aws"
   ]
  },
  {
   "cell_type": "code",
   "execution_count": 8,
   "id": "e2bbcd81-073d-4a31-afef-cdddb656421e",
   "metadata": {
    "tags": []
   },
   "outputs": [
    {
     "ename": "NameError",
     "evalue": "name 'qdevice' is not defined",
     "output_type": "error",
     "traceback": [
      "\u001b[0;31m---------------------------------------------------------------------------\u001b[0m",
      "\u001b[0;31mNameError\u001b[0m                                 Traceback (most recent call last)",
      "Cell \u001b[0;32mIn[8], line 8\u001b[0m\n\u001b[1;32m      5\u001b[0m circuit\u001b[38;5;241m.\u001b[39mh(\u001b[38;5;241m0\u001b[39m)\n\u001b[1;32m      6\u001b[0m circuit\u001b[38;5;241m.\u001b[39mcx(\u001b[38;5;241m0\u001b[39m, \u001b[38;5;241m1\u001b[39m)\n\u001b[0;32m----> 8\u001b[0m qjob \u001b[38;5;241m=\u001b[39m \u001b[43mqdevice\u001b[49m\u001b[38;5;241m.\u001b[39mrun(circuit)\n\u001b[1;32m      9\u001b[0m \u001b[38;5;28mtype\u001b[39m(qjob)\n\u001b[1;32m     11\u001b[0m \u001b[38;5;66;03m# provider = BraketProvider()\u001b[39;00m\n\u001b[1;32m     12\u001b[0m \n\u001b[1;32m     13\u001b[0m \u001b[38;5;66;03m# arn = \"arn:aws:braket:eu-west-2::device/qpu/oqc/Lucy\"\u001b[39;00m\n\u001b[0;32m   (...)\u001b[0m\n\u001b[1;32m     21\u001b[0m \n\u001b[1;32m     22\u001b[0m \u001b[38;5;66;03m# job.status()\u001b[39;00m\n",
      "\u001b[0;31mNameError\u001b[0m: name 'qdevice' is not defined"
     ]
    }
   ],
   "source": [
    "# from qbraid.providers.aws import BraketDevice, BraketProvider\n",
    "from qiskit import QuantumCircuit\n",
    "\n",
    "circuit = QuantumCircuit(2)\n",
    "circuit.h(0)\n",
    "circuit.cx(0, 1)\n",
    "\n",
    "qjob = qdevice.run(circuit)\n",
    "type(qjob)\n",
    "\n",
    "# provider = BraketProvider()\n",
    "\n",
    "# arn = \"arn:aws:braket:eu-west-2::device/qpu/oqc/Lucy\"\n",
    "# arn = \"arn:aws:braket:::device/quantum-simulator/amazon/sv1\"\n",
    "\n",
    "# aws_device = provider.get_device(\"arn:aws:braket:eu-west-2::device/qpu/oqc/Lucy\")\n",
    "\n",
    "# qbraid_device = BraketDevice(aws_device)\n",
    "\n",
    "# job = qbraid_device.run(circuit, shots=1)\n",
    "\n",
    "# job.status()\n"
   ]
  },
  {
   "cell_type": "code",
   "execution_count": 1,
   "id": "35536c1c-a7ef-48a2-aae1-d6a26085d6db",
   "metadata": {},
   "outputs": [],
   "source": [
    "def batch_3(p):\n",
    "    env = [cirq.LineQubit(0),cirq.LineQubit(3),cirq.LineQubit(6)]\n",
    "    sys = [cirq.LineQubit(1),cirq.LineQubit(2),cirq.LineQubit(4),cirq.LineQubit(5),cirq.LineQubit(7),cirq.LineQubit(8)]\n",
    "    circ = cirq.Circuit()\n",
    "    circ.append(zz_pump(sys[0:2],env[0:1],p,'10'))\n",
    "    circ.append(zz_pump(sys[2:4],env[1:2],p,'11'))\n",
    "    circ.append(xx_pump(sys[4:6],env[2:3],p,'00'))\n",
    "    qbraid_aws_job = qbraid_aws_device.run(circ, shots=repcnt)\n",
    "    return qbraid_aws_job\n",
    "\n",
    "def batch_4(p):\n",
    "    env = [cirq.LineQubit(0),cirq.LineQubit(3),cirq.LineQubit(6)]\n",
    "    sys = [cirq.LineQubit(1),cirq.LineQubit(2),cirq.LineQubit(4),cirq.LineQubit(5),cirq.LineQubit(7),cirq.LineQubit(8)]\n",
    "    circ = cirq.Circuit()\n",
    "    circ.append(xx_pump(sys[0:2],env[0:1],p,'01'))\n",
    "    circ.append(xx_pump(sys[2:4],env[1:2],p,'10'))\n",
    "    circ.append(xx_pump(sys[4:6],env[2:3],p,'11'))\n",
    "    qbraid_aws_job = qbraid_aws_device.run(circ, shots=repcnt)\n",
    "    return qbraid_aws_job\n",
    "    "
   ]
  },
  {
   "cell_type": "code",
   "execution_count": 2,
   "id": "e762cf7e-12b6-4fc6-91af-1ccb01725cde",
   "metadata": {},
   "outputs": [],
   "source": [
    "# qjob_3_p0= batch_3(probs[0])"
   ]
  },
  {
   "cell_type": "code",
   "execution_count": 3,
   "id": "f038ea56-15db-480c-9d7c-da40211095fe",
   "metadata": {},
   "outputs": [],
   "source": [
    "# qjob_4_p0 = batch_4(probs[0])"
   ]
  },
  {
   "cell_type": "code",
   "execution_count": 5,
   "id": "ae82877e-d325-4078-ae98-b026b7d492dc",
   "metadata": {},
   "outputs": [],
   "source": [
    "from qbraid import get_jobs\n",
    "get_jobs(filters={\"qbraidDeviceId\": \"aws_ionq\"})"
   ]
  },
  {
   "cell_type": "code",
   "execution_count": null,
   "id": "4d3bf692-3438-46f3-904b-e18c4cab9676",
   "metadata": {},
   "outputs": [],
   "source": [
    "from qbraid import job_wrapper\n",
    "saved_job_id = 'aws_sv_sim-jessjohnbritto-qjob-u8nzibwhq9o7g5ga2fic'\n",
    "qjob = job_wrapper(saved_job_id)\n",
    "qresult = qjob.result()\n",
    "qresult.measurement_counts()"
   ]
  },
  {
   "cell_type": "code",
   "execution_count": null,
   "id": "8d5a4ad6-76a3-408e-8ada-8a40f68c9dee",
   "metadata": {},
   "outputs": [],
   "source": [
    "resultsdict_3_p0 = {}\n",
    "resultsdict_4_p0 = {}"
   ]
  },
  {
   "cell_type": "code",
   "execution_count": 5,
   "id": "617bde52-89ae-4202-802c-c260ab51064e",
   "metadata": {},
   "outputs": [
    {
     "ename": "NameError",
     "evalue": "name 'Counter' is not defined",
     "output_type": "error",
     "traceback": [
      "\u001b[0;31m---------------------------------------------------------------------------\u001b[0m",
      "\u001b[0;31mNameError\u001b[0m                                 Traceback (most recent call last)",
      "Cell \u001b[0;32mIn[5], line 2\u001b[0m\n\u001b[1;32m      1\u001b[0m \u001b[38;5;66;03m## Batch-1 and 2 - ZZXX, ZZ00 and ZZ01\u001b[39;00m\n\u001b[0;32m----> 2\u001b[0m zz11p0,zz10p0,xx00p0,xx01p1,xx10p1,xx11p1 \u001b[38;5;241m=\u001b[39m \u001b[43mCounter\u001b[49m(),Counter(),Counter(),Counter(),Counter(),Counter()\n\u001b[1;32m      4\u001b[0m \u001b[38;5;28;01mdef\u001b[39;00m \u001b[38;5;21mresul_analy\u001b[39m(resultsdict_1_p0, resultsdict_2_p0):\n\u001b[1;32m      5\u001b[0m     \u001b[38;5;28;01mfor\u001b[39;00m key,cnt \u001b[38;5;129;01min\u001b[39;00m resultsdict_1_p0\u001b[38;5;241m.\u001b[39mitems():\n",
      "\u001b[0;31mNameError\u001b[0m: name 'Counter' is not defined"
     ]
    }
   ],
   "source": [
    "## Batch-3 and 4 - XX, ZZ10 and ZZ11\n",
    "zz11p0,zz10p0,xx00p0,xx01p0,xx10p0,xx11p0 = Counter(),Counter(),Counter(),Counter(),Counter(),Counter()\n",
    "\n",
    "def resul_analy(resultsdict_3_p0, resultsdict_4_p0):\n",
    "    for key,cnt in resultsdict_1_p0.items():\n",
    "        k1 = int(key[0:2],base=2)\n",
    "        k2 = int(key[2:4],base=2)\n",
    "        k3 = int(key[4:6],base=2)\n",
    "        zz10p0[k1]+=cnt\n",
    "        zz11p0[k2]+=cnt\n",
    "        xx00p0[k3]+=cnt\n",
    "\n",
    "    for key,cnt in resultsdict_2_p0.items():\n",
    "        k1 = int(key[0:2],base=2)\n",
    "        k2 = int(key[2:4],base=2)\n",
    "        k3 = int(key[4:6],base=2)\n",
    "        xx01p0[k1]+=cnt\n",
    "        xx10p0[k2]+=cnt\n",
    "        xx11p0[k3]+=cnt\n",
    "    \n",
    "    xxp0 = (xx00p0+xx01p0+xx10p0+xx11p0)\n",
    "    for key,cnt in xxp0.items():\n",
    "        xxp0[key] = cnt/(4*repcnt)\n",
    "    return xxp0, zz10p0, zz11p0"
   ]
  },
  {
   "cell_type": "code",
   "execution_count": null,
   "id": "1f07b762-a43b-4b9e-a22c-effd537af7e3",
   "metadata": {},
   "outputs": [],
   "source": [
    "# qjob_3_p1= batch_3(probs[1])"
   ]
  },
  {
   "cell_type": "code",
   "execution_count": null,
   "id": "53a8a033-a79f-4b4d-ad7b-fec683aa7f92",
   "metadata": {},
   "outputs": [],
   "source": [
    "# qjob_4_p1=batch_4(probs[1])"
   ]
  },
  {
   "cell_type": "code",
   "execution_count": null,
   "id": "921f1a55-27d9-4f7e-a770-cd4044b9a2a1",
   "metadata": {},
   "outputs": [],
   "source": [
    "from qbraid import get_jobs\n",
    "get_jobs(filters={\"qbraidDeviceId\": \"aws_ionq\"})"
   ]
  },
  {
   "cell_type": "code",
   "execution_count": null,
   "id": "eff3d525-8d30-4900-a0fa-a620b41fe5ad",
   "metadata": {},
   "outputs": [],
   "source": [
    "from qbraid import job_wrapper\n",
    "saved_job_id = 'aws_sv_sim-jessjohnbritto-qjob-u8nzibwhq9o7g5ga2fic'\n",
    "qjob = job_wrapper(saved_job_id)\n",
    "qresult = qjob.result()\n",
    "qresult.measurement_counts()"
   ]
  },
  {
   "cell_type": "code",
   "execution_count": null,
   "id": "8d539785-3a32-4be2-a754-67fa996cbb72",
   "metadata": {},
   "outputs": [],
   "source": [
    "resultsdict_3_p1 = {}\n",
    "resultsdict_4_p1 = {}"
   ]
  },
  {
   "cell_type": "code",
   "execution_count": null,
   "id": "b9af864d-7447-49a4-88e3-9ac611794227",
   "metadata": {},
   "outputs": [],
   "source": [
    "## Batch-3 and 4 - XX, ZZ10 and ZZ11\n",
    "zz11p1,zz10p1,xx00p1,xx01p1,xx10p1,xx11p1 = Counter(),Counter(),Counter(),Counter(),Counter(),Counter()\n",
    "xxp1, zz10p1, zz11p1 = resul_analy(resultsdict_3_p1, resultsdict_4_p1)"
   ]
  },
  {
   "cell_type": "code",
   "execution_count": null,
   "id": "06eb3eb1-dcf6-402b-9186-f51dc6a061db",
   "metadata": {},
   "outputs": [],
   "source": [
    "# qjob_3_p2=batch_3(probs[2])"
   ]
  },
  {
   "cell_type": "code",
   "execution_count": null,
   "id": "b037eefe-d79a-422d-81cd-24c22837c4e3",
   "metadata": {},
   "outputs": [],
   "source": [
    "# qjob_4_p2=batch_4(probs[2])"
   ]
  },
  {
   "cell_type": "code",
   "execution_count": null,
   "id": "6f1a64d2-c636-468e-98d2-c0011a4569dc",
   "metadata": {},
   "outputs": [],
   "source": [
    "from qbraid import get_jobs\n",
    "get_jobs(filters={\"qbraidDeviceId\": \"aws_ionq\"})"
   ]
  },
  {
   "cell_type": "code",
   "execution_count": null,
   "id": "75bf21ae-78fa-458e-82f1-2297aa8ea78d",
   "metadata": {},
   "outputs": [],
   "source": [
    "from qbraid import job_wrapper\n",
    "saved_job_id = 'aws_sv_sim-jessjohnbritto-qjob-u8nzibwhq9o7g5ga2fic'\n",
    "qjob = job_wrapper(saved_job_id)\n",
    "qresult = qjob.result()\n",
    "qresult.measurement_counts()"
   ]
  },
  {
   "cell_type": "code",
   "execution_count": null,
   "id": "087d8146-aedb-4383-9857-0292f017aa83",
   "metadata": {},
   "outputs": [],
   "source": [
    "resultsdict_3_p2 = {}\n",
    "resultsdict_4_p2 = {}"
   ]
  },
  {
   "cell_type": "code",
   "execution_count": null,
   "id": "35513b14-4bb4-482b-ae34-1bbb63473750",
   "metadata": {},
   "outputs": [],
   "source": [
    "## Batch-3 and 4 - XX, ZZ10 and ZZ11\n",
    "zz11p2,zz10p2,xx00p2,xx01p2,xx10p2,xx11p2 = Counter(),Counter(),Counter(),Counter(),Counter(),Counter()\n",
    "xxp2, zz10p2, zz11p2 = resul_analy(resultsdict_3_p2, resultsdict_4_p2)"
   ]
  },
  {
   "cell_type": "code",
   "execution_count": null,
   "id": "36ce1807-e0ae-456f-85d5-848a6e61baf7",
   "metadata": {},
   "outputs": [],
   "source": [
    "# qjob_3_p3=batch_3(probs[3])"
   ]
  },
  {
   "cell_type": "code",
   "execution_count": null,
   "id": "18ef01fc-5133-486d-bef2-07e4c52bbcef",
   "metadata": {},
   "outputs": [],
   "source": [
    "# qjob_4_p3=batch_4(probs[3])"
   ]
  },
  {
   "cell_type": "code",
   "execution_count": null,
   "id": "9de941e7-4d4a-4862-a6c0-2ce5985034d8",
   "metadata": {},
   "outputs": [],
   "source": [
    "from qbraid import get_jobs\n",
    "get_jobs(filters={\"qbraidDeviceId\": \"aws_ionq\"})"
   ]
  },
  {
   "cell_type": "code",
   "execution_count": null,
   "id": "8d0f1e56-e066-4b27-b354-b61275ec0d85",
   "metadata": {},
   "outputs": [],
   "source": [
    "from qbraid import job_wrapper\n",
    "saved_job_id = 'aws_sv_sim-jessjohnbritto-qjob-u8nzibwhq9o7g5ga2fic'\n",
    "qjob = job_wrapper(saved_job_id)\n",
    "qresult = qjob.result()\n",
    "qresult.measurement_counts()"
   ]
  },
  {
   "cell_type": "code",
   "execution_count": null,
   "id": "642a6b3c-e42d-4fde-af87-f64a5d87d3cd",
   "metadata": {},
   "outputs": [],
   "source": [
    "resultsdict_3_p3 = {}\n",
    "resultsdict_4_p3 = {}"
   ]
  },
  {
   "cell_type": "code",
   "execution_count": null,
   "id": "d32686ca-6825-4080-b93b-f2cd75b1d510",
   "metadata": {},
   "outputs": [],
   "source": [
    "## Batch-3 and 4 - XX, ZZ10 and ZZ11\n",
    "zz11p3,zz10p3,xx00p3,xx01p3,xx10p3,xx11p3 = Counter(),Counter(),Counter(),Counter(),Counter(),Counter()\n",
    "xxp3, zz10p3, zz11p3 = resul_analy(resultsdict_3_p3, resultsdict_4_p3)"
   ]
  },
  {
   "cell_type": "code",
   "execution_count": null,
   "id": "331c8a53-d63d-4853-bb14-f244b48d8c9e",
   "metadata": {},
   "outputs": [],
   "source": [
    "# qjob_3_p4=batch_3(probs[4])"
   ]
  },
  {
   "cell_type": "code",
   "execution_count": null,
   "id": "8a7e4bcb-3f8c-488b-a8ef-da23a8eda624",
   "metadata": {},
   "outputs": [],
   "source": [
    "# qjob_4_p4=batch_4(probs[4])"
   ]
  },
  {
   "cell_type": "code",
   "execution_count": null,
   "id": "ff43ca61-c1fe-4f08-af2f-01cb5ade4ec0",
   "metadata": {},
   "outputs": [],
   "source": [
    "from qbraid import get_jobs\n",
    "get_jobs(filters={\"qbraidDeviceId\": \"aws_ionq\"})"
   ]
  },
  {
   "cell_type": "code",
   "execution_count": null,
   "id": "f64a5fb1-01c1-4ea7-8686-adc871a3c934",
   "metadata": {},
   "outputs": [],
   "source": [
    "from qbraid import job_wrapper\n",
    "saved_job_id = 'aws_sv_sim-jessjohnbritto-qjob-u8nzibwhq9o7g5ga2fic'\n",
    "qjob = job_wrapper(saved_job_id)\n",
    "qresult = qjob.result()\n",
    "qresult.measurement_counts()"
   ]
  },
  {
   "cell_type": "code",
   "execution_count": null,
   "id": "e4bcf1ab-9889-4590-9260-10a2bc92d88e",
   "metadata": {},
   "outputs": [],
   "source": [
    "resultsdict_3_p4 = {}\n",
    "resultsdict_4_p4 = {}"
   ]
  },
  {
   "cell_type": "code",
   "execution_count": null,
   "id": "bf010b07-c020-4420-a217-57f933fcfc4b",
   "metadata": {},
   "outputs": [],
   "source": [
    "## Batch-3 and 4 - XX, ZZ10 and ZZ11\n",
    "zz11p4,zz10p4,xx00p4,xx01p4,xx10p4,xx11p4 = Counter(),Counter(),Counter(),Counter(),Counter(),Counter()\n",
    "xxp4, zz10p4, zz11p4 = resul_analy(resultsdict_3_p4, resultsdict_4_p4)"
   ]
  },
  {
   "cell_type": "code",
   "execution_count": null,
   "id": "91b2cddd-fe1f-4cbe-b823-211d91ae60ee",
   "metadata": {},
   "outputs": [],
   "source": [
    "# ## Batch-1 and 2 - ZZXX, ZZ00 and ZZ01\n",
    "# zz00p0,zz01p0,zzxx00p0,zzxx01p0,zzxx10p0,zzxx11p0 = Counter(),Counter(),Counter(),Counter(),Counter(),Counter()\n",
    "\n",
    "# for key,cnt in resultsdict_1_p0.items():\n",
    "#     k1 = int(key[0:2],base=2)\n",
    "#     k2 = int(key[2:4],base=2)\n",
    "#     k3 = int(key[4:5],base=2)\n",
    "#     zzxx00p0[k1]+=cnt\n",
    "#     zzxx01p0[k2]+=cnt\n",
    "#     zz00p0[k3]+=cnt\n",
    "\n",
    "# for key,cont in resultsdict_2_p0.items():\n",
    "#     k1 = int(key[0:2],base=2)\n",
    "#     k2 = int(key[2:4],base=2)\n",
    "#     k3 = int(key[4:5],base=2)\n",
    "#     zzxx10p0[k1]+=cnt\n",
    "#     zzxx11p0[k2]+=cnt\n",
    "#     zz01p0[k3]+=cnt\n",
    "    \n",
    "# zzxxp0 = (zzxx00p0+zzxx01p0+zzxx10p0+zzxx11p0)\n",
    "# for key,cnt in zzxxp0.items():\n",
    "#     zzxxp0[key] = cnt/(4*repcnt)\n",
    "# print(zzxxp0)"
   ]
  }
 ],
 "metadata": {
  "kernelspec": {
   "display_name": "Python 3 [qBraid]",
   "language": "python",
   "name": "python3_qbraid_sdk_9j9sjy"
  },
  "language_info": {
   "codemirror_mode": {
    "name": "ipython",
    "version": 3
   },
   "file_extension": ".py",
   "mimetype": "text/x-python",
   "name": "python",
   "nbconvert_exporter": "python",
   "pygments_lexer": "ipython3",
   "version": "3.9.18"
  }
 },
 "nbformat": 4,
 "nbformat_minor": 5
}
