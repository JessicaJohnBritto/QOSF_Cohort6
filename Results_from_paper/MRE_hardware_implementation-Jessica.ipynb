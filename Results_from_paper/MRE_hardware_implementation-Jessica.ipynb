{
 "cells": [
  {
   "cell_type": "code",
   "execution_count": 2,
   "id": "17b664b6-0223-4849-a476-42e1b21f0f8d",
   "metadata": {},
   "outputs": [],
   "source": [
    "import cirq\n",
    "import numpy as np\n",
    "import matplotlib.pyplot as plt\n",
    "\n",
    "def prep(sys,state):\n",
    "    for i in range(len(state)):\n",
    "        if state[i]=='1':\n",
    "            yield cirq.X(sys[i])\n",
    "\n",
    "def zz_pump(sys,env,p,state):\n",
    "    yield from prep(sys,state)\n",
    "    yield cirq.CNOT(sys[1],sys[0])\n",
    "    yield cirq.X(env[0])\n",
    "    yield cirq.CNOT(sys[0],env[0])\n",
    "    yield cirq.Rx(rads=np.arccos(1-2*p)).on(sys[0]).controlled_by(env[0])\n",
    "    yield cirq.CNOT(sys[0],env[0])\n",
    "    yield cirq.H(sys[1])\n",
    "\n",
    "def xx_pump(sys,env,p,state):\n",
    "    yield from prep(sys,state)\n",
    "    yield cirq.CNOT(sys[1],sys[0])\n",
    "    yield cirq.H(sys[1])\n",
    "    yield cirq.X(env[0])\n",
    "    yield cirq.CNOT(sys[1],env[0])\n",
    "    yield cirq.Rx(rads=np.arccos(1-2*p)).on(sys[1]).controlled_by(env[0])\n",
    "    yield cirq.CNOT(sys[1],env[0])\n",
    "\n",
    "def zz_xx_pump(sys,env,p,state):\n",
    "    yield from prep(sys,state)\n",
    "    yield cirq.CNOT(sys[1],sys[0])\n",
    "    yield cirq.X(env[0])\n",
    "    yield cirq.CNOT(sys[0],env[0])\n",
    "    yield cirq.Rx(rads=np.arccos(1-2*p)).on(sys[0]).controlled_by(env[0])\n",
    "    yield cirq.CNOT(sys[0],env[0])\n",
    "    yield cirq.H(sys[1])\n",
    "    yield cirq.X(env[1])\n",
    "    yield cirq.CNOT(sys[1],env[1])\n",
    "    yield cirq.Rx(rads=np.arccos(1-2*p)).on(sys[1]).controlled_by(env[1])\n",
    "    yield cirq.CNOT(sys[1],env[1])\n"
   ]
  },
  {
   "cell_type": "code",
   "execution_count": 3,
   "id": "cb4e4b84-edbc-414b-b99f-f24770f27d93",
   "metadata": {},
   "outputs": [],
   "source": [
    "probs = np.linspace(0,1,num=5)\n",
    "repcnt = 864"
   ]
  },
  {
   "cell_type": "code",
   "execution_count": 3,
   "id": "cb876dbd-c7f3-4d5a-8a83-eaca5caa540b",
   "metadata": {},
   "outputs": [
    {
     "name": "stdout",
     "output_type": "stream",
     "text": [
      "\u001b[0;35mYou have already enabled qBraid Quantum Jobs in the qbraid_sdk environment.\u001b[0m\n"
     ]
    }
   ],
   "source": [
    "!qbraid jobs enable qbraid_sdk"
   ]
  },
  {
   "cell_type": "code",
   "execution_count": 1,
   "id": "58b6225a-089e-479b-bbf9-a7cf4b691025",
   "metadata": {},
   "outputs": [
    {
     "data": {
      "text/html": [
       "<h3>Supported Devices</h3><table><tr>\n",
       "    <th style='text-align:left'>Provider</th>\n",
       "    <th style='text-align:left'>Name</th>\n",
       "    <th style='text-align:left'>qBraid ID</th>\n",
       "    <th style='text-align:left'>Status</th></tr>\n",
       "    <tr>\n",
       "        <td style='text-align:left'>AWS</td>\n",
       "        <td style='text-align:left'>DM1</td>\n",
       "        <td style='text-align:left'><code>aws_dm_sim</code></td>\n",
       "        <td><span style='color:green'>●</span></td></tr>\n",
       "        <tr>\n",
       "        <td style='text-align:left'>AWS</td>\n",
       "        <td style='text-align:left'>SV1</td>\n",
       "        <td style='text-align:left'><code>aws_sv_sim</code></td>\n",
       "        <td><span style='color:green'>●</span></td></tr>\n",
       "        <tr>\n",
       "        <td style='text-align:left'>AWS</td>\n",
       "        <td style='text-align:left'>TN1</td>\n",
       "        <td style='text-align:left'><code>aws_tn_sim</code></td>\n",
       "        <td><span style='color:green'>●</span></td></tr>\n",
       "        <tr>\n",
       "        <td style='text-align:left'>IBM</td>\n",
       "        <td style='text-align:left'>Belem</td>\n",
       "        <td style='text-align:left'><code>ibm_q_belem</code></td>\n",
       "        <td><span style='color:green'>●</span></td></tr>\n",
       "        <tr>\n",
       "        <td style='text-align:left'>IBM</td>\n",
       "        <td style='text-align:left'>Ext. stabilizer simulator</td>\n",
       "        <td style='text-align:left'><code>ibm_q_simulator_extended_stabilizer</code></td>\n",
       "        <td><span style='color:green'>●</span></td></tr>\n",
       "        <tr>\n",
       "        <td style='text-align:left'>IBM</td>\n",
       "        <td style='text-align:left'>Jakarta</td>\n",
       "        <td style='text-align:left'><code>ibm_q_jakarta</code></td>\n",
       "        <td><span style='color:red'>○</span></td></tr>\n",
       "        <tr>\n",
       "        <td style='text-align:left'>IBM</td>\n",
       "        <td style='text-align:left'>Lagos</td>\n",
       "        <td style='text-align:left'><code>ibm_q_lagos</code></td>\n",
       "        <td><span style='color:green'>●</span></td></tr>\n",
       "        <tr>\n",
       "        <td style='text-align:left'>IBM</td>\n",
       "        <td style='text-align:left'>Lima</td>\n",
       "        <td style='text-align:left'><code>ibm_q_lima</code></td>\n",
       "        <td><span style='color:green'>●</span></td></tr>\n",
       "        <tr>\n",
       "        <td style='text-align:left'>IBM</td>\n",
       "        <td style='text-align:left'>MPS simulator</td>\n",
       "        <td style='text-align:left'><code>ibm_q_simulator_mps</code></td>\n",
       "        <td><span style='color:green'>●</span></td></tr>\n",
       "        <tr>\n",
       "        <td style='text-align:left'>IBM</td>\n",
       "        <td style='text-align:left'>Manila</td>\n",
       "        <td style='text-align:left'><code>ibm_q_manila</code></td>\n",
       "        <td><span style='color:green'>●</span></td></tr>\n",
       "        <tr>\n",
       "        <td style='text-align:left'>IBM</td>\n",
       "        <td style='text-align:left'>Nairobi</td>\n",
       "        <td style='text-align:left'><code>ibm_q_nairobi</code></td>\n",
       "        <td><span style='color:green'>●</span></td></tr>\n",
       "        <tr>\n",
       "        <td style='text-align:left'>IBM</td>\n",
       "        <td style='text-align:left'>Oslo</td>\n",
       "        <td style='text-align:left'><code>ibm_q_oslo</code></td>\n",
       "        <td><span style='color:green'>●</span></td></tr>\n",
       "        <tr>\n",
       "        <td style='text-align:left'>IBM</td>\n",
       "        <td style='text-align:left'>Perth</td>\n",
       "        <td style='text-align:left'><code>ibm_q_perth</code></td>\n",
       "        <td><span style='color:green'>●</span></td></tr>\n",
       "        <tr>\n",
       "        <td style='text-align:left'>IBM</td>\n",
       "        <td style='text-align:left'>QASM simulator</td>\n",
       "        <td style='text-align:left'><code>ibm_q_qasm_simulator</code></td>\n",
       "        <td><span style='color:green'>●</span></td></tr>\n",
       "        <tr>\n",
       "        <td style='text-align:left'>IBM</td>\n",
       "        <td style='text-align:left'>Quito</td>\n",
       "        <td style='text-align:left'><code>ibm_q_quito</code></td>\n",
       "        <td><span style='color:green'>●</span></td></tr>\n",
       "        <tr>\n",
       "        <td style='text-align:left'>IBM</td>\n",
       "        <td style='text-align:left'>Stabilizer simulator</td>\n",
       "        <td style='text-align:left'><code>ibm_q_simulator_stabilizer</code></td>\n",
       "        <td><span style='color:green'>●</span></td></tr>\n",
       "        <tr>\n",
       "        <td style='text-align:left'>IBM</td>\n",
       "        <td style='text-align:left'>State vector simulator</td>\n",
       "        <td style='text-align:left'><code>ibm_q_simulator_statevector</code></td>\n",
       "        <td><span style='color:green'>●</span></td></tr>\n",
       "        <tr>\n",
       "        <td style='text-align:left'>IonQ</td>\n",
       "        <td style='text-align:left'>IonQ Device</td>\n",
       "        <td style='text-align:left'><code>aws_ionq</code></td>\n",
       "        <td><span style='color:red'>○</span></td></tr>\n",
       "        <tr>\n",
       "        <td style='text-align:left'>OQC</td>\n",
       "        <td style='text-align:left'>Lucy</td>\n",
       "        <td style='text-align:left'><code>aws_oqc_lucy</code></td>\n",
       "        <td><span style='color:green'>●</span></td></tr>\n",
       "        <tr>\n",
       "        <td style='text-align:left'>QuEra</td>\n",
       "        <td style='text-align:left'>Aquila</td>\n",
       "        <td style='text-align:left'><code>aws_quera_aquila</code></td>\n",
       "        <td><span style='color:red'>○</span></td></tr>\n",
       "        <tr>\n",
       "        <td style='text-align:left'>Rigetti</td>\n",
       "        <td style='text-align:left'>Aspen-M-2</td>\n",
       "        <td style='text-align:left'><code>aws_rigetti_aspen_m2</code></td>\n",
       "        <td><span style='color:red'>○</span></td></tr>\n",
       "        <tr>\n",
       "        <td style='text-align:left'>Rigetti</td>\n",
       "        <td style='text-align:left'>Aspen-M-3</td>\n",
       "        <td style='text-align:left'><code>aws_rigetti_aspen_m3</code></td>\n",
       "        <td><span style='color:red'>○</span></td></tr>\n",
       "        <tr>\n",
       "        <td style='text-align:left'>Xanadu</td>\n",
       "        <td style='text-align:left'>Borealis</td>\n",
       "        <td style='text-align:left'><code>aws_xanadu_borealis</code></td>\n",
       "        <td><span style='color:red'>○</span></td></tr>\n",
       "        <tr><td colspan='4'; style='text-align:right'>Device status updated 0 minutes ago</td></tr></table>"
      ],
      "text/plain": [
       "<IPython.core.display.HTML object>"
      ]
     },
     "metadata": {},
     "output_type": "display_data"
    }
   ],
   "source": [
    "from qbraid import get_devices\n",
    "get_devices()"
   ]
  },
  {
   "cell_type": "code",
   "execution_count": 1,
   "id": "35536c1c-a7ef-48a2-aae1-d6a26085d6db",
   "metadata": {},
   "outputs": [],
   "source": [
    "def batch_3(p):\n",
    "    env = [cirq.LineQubit(0),cirq.LineQubit(3),cirq.LineQubit(6)]\n",
    "    sys = [cirq.LineQubit(1),cirq.LineQubit(2),cirq.LineQubit(4),cirq.LineQubit(5),cirq.LineQubit(7),cirq.LineQubit(8)]\n",
    "    circ = cirq.Circuit()\n",
    "    circ.append(zz_pump(sys[0:2],env[0:1],p,'10'))\n",
    "    circ.append(zz_pump(sys[2:4],env[1:2],p,'11'))\n",
    "    circ.append(xx_pump(sys[4:6],env[2:3],p,'00'))\n",
    "    qbraid_aws_job = qbraid_aws_device.run(circ, shots=repcnt)\n",
    "    return qbraid_aws_job\n",
    "\n",
    "def batch_4(p):\n",
    "    env = [cirq.LineQubit(0),cirq.LineQubit(3),cirq.LineQubit(6)]\n",
    "    sys = [cirq.LineQubit(1),cirq.LineQubit(2),cirq.LineQubit(4),cirq.LineQubit(5),cirq.LineQubit(7),cirq.LineQubit(8)]\n",
    "    circ = cirq.Circuit()\n",
    "    circ.append(xx_pump(sys[0:2],env[0:1],p,'01'))\n",
    "    circ.append(xx_pump(sys[2:4],env[1:2],p,'10'))\n",
    "    circ.append(xx_pump(sys[4:6],env[2:3],p,'11'))\n",
    "    qbraid_aws_job = qbraid_aws_device.run(circ, shots=repcnt)\n",
    "    return qbraid_aws_job\n",
    "    "
   ]
  },
  {
   "cell_type": "code",
   "execution_count": 2,
   "id": "e762cf7e-12b6-4fc6-91af-1ccb01725cde",
   "metadata": {},
   "outputs": [],
   "source": [
    "# qjob_1_p0= batch_1(probs[0])"
   ]
  },
  {
   "cell_type": "code",
   "execution_count": 3,
   "id": "f038ea56-15db-480c-9d7c-da40211095fe",
   "metadata": {},
   "outputs": [],
   "source": [
    "# qjob_2_p0 = batch_2(probs[0])"
   ]
  },
  {
   "cell_type": "code",
   "execution_count": 5,
   "id": "ae82877e-d325-4078-ae98-b026b7d492dc",
   "metadata": {},
   "outputs": [],
   "source": [
    "from qbraid import get_jobs\n",
    "get_jobs(filters={\"qbraidDeviceId\": \"aws_ionq\"})"
   ]
  },
  {
   "cell_type": "code",
   "execution_count": null,
   "id": "4d3bf692-3438-46f3-904b-e18c4cab9676",
   "metadata": {},
   "outputs": [],
   "source": [
    "from qbraid import job_wrapper\n",
    "saved_job_id = 'aws_sv_sim-jessjohnbritto-qjob-u8nzibwhq9o7g5ga2fic'\n",
    "qjob = job_wrapper(saved_job_id)\n",
    "qresult = qjob.result()\n",
    "qresult.measurement_counts()"
   ]
  },
  {
   "cell_type": "code",
   "execution_count": null,
   "id": "8d5a4ad6-76a3-408e-8ada-8a40f68c9dee",
   "metadata": {},
   "outputs": [],
   "source": [
    "resultsdict_1_p0 = {'0110001000111100011111111111111111': 1, '0011011000111101001111111111111111': 1, '0010011001111101001011111111111111': 1, '0110011001101001011011111111111111': 1, '0011011100111101001011111111111111': 1, '0011011100101100001011111111111111': 1, '0110011100101101001011111111111111': 1, '0011011100111100011111111111111111': 1, '0011001000111001001111111111111111': 1, '0010001101111001001011111111111111': 1, '0010011001101100011111111111111111': 1, '0110001001101001001111111111111111': 1, '0010001101111101011011111111111111': 1, '0110001001111001001111111111111111': 1, '0010001100101001011111111111111111': 1, '0111001000111101011111111111111111': 1, '0011011001101001001011111111111111': 1, '0011001100101100001011111111111111': 1, '0110011100111101011011111111111111': 1, '0111001100101100011111111111111111': 1, '0011001000101000011111111111111111': 1, '0110001001111000001011111111111111': 1, '0010001000111100011111111111111111': 1, '0111011100111100011011111111111111': 1, '0010011001101101011011111111111111': 1, '0010011001101001001011111111111111': 1, '0010011000101001001011111111111111': 1, '0011001100101101001111111111111111': 1, '0010011100101101001111111111111111': 1, '0111001101101100011111111111111111': 1, '0110001001111100001011111111111111': 1, '0011001101101101001011111111111111': 1, '0011011000111000001111111111111111': 1, '0011011000101101011011111111111111': 1, '0011011101111101011011111111111111': 1, '0011001000111101001111111111111111': 1, '0011001001101001011111111111111111': 1, '0011011100111100001011111111111111': 1, '0010001001101000001011111111111111': 1, '0011001001111101011111111111111111': 1, '0011001000111000011011111111111111': 1, '0111011000111100011011111111111111': 1, '0110011000101000011111111111111111': 1, '0011011101111100001111111111111111': 1, '0110001101111101001011111111111111': 1, '0110011101111000011111111111111111': 1, '0110011100111001001011111111111111': 1, '0110001100101001011011111111111111': 1, '0010001100111101001011111111111111': 1, '0010001100111101011011111111111111': 1, '0011001101101101001111111111111111': 1, '0010001100111101011111111111111111': 1, '0011001000101000001011111111111111': 1, '0110011000111001011111111111111111': 1, '0010011001101100011011111111111111': 1, '0111011100101100001111111111111111': 1, '0110001100101101011111111111111111': 1, '0111001001111000011111111111111111': 1, '0011011001111101011111111111111111': 1, '0111001100111101001011111111111111': 1, '0010011101101001001011111111111111': 1, '0110011001111000011011111111111111': 1, '0010011000101101001011111111111111': 1, '0111011101111000011111111111111111': 1, '0110011000101001011111111111111111': 1, '0010011000111100011111111111111111': 1, '0111001101111000011111111111111111': 1, '0011011001111001011011111111111111': 1, '0111001000101001011011111111111111': 1, '0111001100111101001111111111111111': 1, '0111011001111000001111111111111111': 1, '0011001001111001001111111111111111': 1, '0110001100111101001111111111111111': 1, '0011001000111000011111111111111111': 1, '0110001000111000011011111111111111': 1, '0110001000101100001111111111111111': 1, '0011001101101000011011111111111111': 1, '0111001000111000001111111111111111': 1, '0010001000111000001111111111111111': 1, '0010001001101000011011111111111111': 1, '0110011000111001001111111111111111': 1, '0111001100111001001011111111111111': 1, '0111001000111101011011111111111111': 1, '0011011100111000001011111111111111': 1, '0010011001111001011111111111111111': 1, '0111001000101101011011111111111111': 1, '0110001000101000001111111111111111': 1, '0111001000111100011011111111111111': 1, '0010001100101001011011111111111111': 1, '0011001000111001001011111111111111': 1, '0011001100101101001011111111111111': 1, '0111001101101101011011111111111111': 1, '0011001100101100011011111111111111': 1, '0111011001101100001111111111111111': 1, '0011011000111000011111111111111111': 1, '0110001000111000001111111111111111': 1, '0110001101101000001011111111111111': 1, '0111011101101000001111111111111111': 1, '0010001001111001011011111111111111': 1, '0010001101111000011111111111111111': 1}"
   ]
  },
  {
   "cell_type": "code",
   "execution_count": null,
   "id": "617bde52-89ae-4202-802c-c260ab51064e",
   "metadata": {},
   "outputs": [],
   "source": [
    "## Batch-1 and 2 - ZZXX, ZZ00 and ZZ01\n",
    "zz00p1,zz01p1,zzxx00p1,zzxx01p1,zzxx10p1,zzxx11p1 = Counter(),Counter(),Counter(),Counter(),Counter(),Counter()\n",
    "\n",
    "def resul_analy(resultsdict_1_p0, resultsdict_2_p0):\n",
    "    for key,cnt in resultsdict_1_p0.items():\n",
    "        k1 = int(key[0:2],base=2)\n",
    "        k2 = int(key[2:4],base=2)\n",
    "        k3 = int(key[4:5],base=2)\n",
    "        zzxx00p1[k1]+=cnt\n",
    "        zzxx01p1[k2]+=cnt\n",
    "        zz00p1[k3]+=cnt\n",
    "\n",
    "    for key,cnt in resultsdict_2_p0.items():\n",
    "        k1 = int(key[0:2],base=2)\n",
    "        k2 = int(key[2:4],base=2)\n",
    "        k3 = int(key[4:5],base=2)\n",
    "        zzxx10p1[k1]+=cnt\n",
    "        zzxx11p1[k2]+=cnt\n",
    "        zz01p1[k3]+=cnt\n",
    "    \n",
    "    zzxxp1 = (zzxx00p1+zzxx01p1+zzxx10p1+zzxx11p1)\n",
    "    for key,cnt in zzxxp1.items():\n",
    "        zzxxp1[key] = cnt/(4*repcnt)\n",
    "    return zzxxp1, zz01p1, zz00p1"
   ]
  },
  {
   "cell_type": "code",
   "execution_count": null,
   "id": "1f07b762-a43b-4b9e-a22c-effd537af7e3",
   "metadata": {},
   "outputs": [],
   "source": []
  },
  {
   "cell_type": "code",
   "execution_count": null,
   "id": "53a8a033-a79f-4b4d-ad7b-fec683aa7f92",
   "metadata": {},
   "outputs": [],
   "source": []
  },
  {
   "cell_type": "code",
   "execution_count": null,
   "id": "921f1a55-27d9-4f7e-a770-cd4044b9a2a1",
   "metadata": {},
   "outputs": [],
   "source": []
  },
  {
   "cell_type": "code",
   "execution_count": null,
   "id": "eff3d525-8d30-4900-a0fa-a620b41fe5ad",
   "metadata": {},
   "outputs": [],
   "source": []
  },
  {
   "cell_type": "code",
   "execution_count": null,
   "id": "8d539785-3a32-4be2-a754-67fa996cbb72",
   "metadata": {},
   "outputs": [],
   "source": []
  },
  {
   "cell_type": "code",
   "execution_count": null,
   "id": "b9af864d-7447-49a4-88e3-9ac611794227",
   "metadata": {},
   "outputs": [],
   "source": []
  },
  {
   "cell_type": "code",
   "execution_count": null,
   "id": "06eb3eb1-dcf6-402b-9186-f51dc6a061db",
   "metadata": {},
   "outputs": [],
   "source": []
  },
  {
   "cell_type": "code",
   "execution_count": null,
   "id": "b037eefe-d79a-422d-81cd-24c22837c4e3",
   "metadata": {},
   "outputs": [],
   "source": []
  },
  {
   "cell_type": "code",
   "execution_count": null,
   "id": "6f1a64d2-c636-468e-98d2-c0011a4569dc",
   "metadata": {},
   "outputs": [],
   "source": []
  },
  {
   "cell_type": "code",
   "execution_count": null,
   "id": "75bf21ae-78fa-458e-82f1-2297aa8ea78d",
   "metadata": {},
   "outputs": [],
   "source": []
  },
  {
   "cell_type": "code",
   "execution_count": null,
   "id": "087d8146-aedb-4383-9857-0292f017aa83",
   "metadata": {},
   "outputs": [],
   "source": []
  },
  {
   "cell_type": "code",
   "execution_count": null,
   "id": "35513b14-4bb4-482b-ae34-1bbb63473750",
   "metadata": {},
   "outputs": [],
   "source": []
  },
  {
   "cell_type": "code",
   "execution_count": null,
   "id": "36ce1807-e0ae-456f-85d5-848a6e61baf7",
   "metadata": {},
   "outputs": [],
   "source": []
  },
  {
   "cell_type": "code",
   "execution_count": null,
   "id": "18ef01fc-5133-486d-bef2-07e4c52bbcef",
   "metadata": {},
   "outputs": [],
   "source": []
  },
  {
   "cell_type": "code",
   "execution_count": null,
   "id": "9de941e7-4d4a-4862-a6c0-2ce5985034d8",
   "metadata": {},
   "outputs": [],
   "source": []
  },
  {
   "cell_type": "code",
   "execution_count": null,
   "id": "8d0f1e56-e066-4b27-b354-b61275ec0d85",
   "metadata": {},
   "outputs": [],
   "source": []
  },
  {
   "cell_type": "code",
   "execution_count": null,
   "id": "642a6b3c-e42d-4fde-af87-f64a5d87d3cd",
   "metadata": {},
   "outputs": [],
   "source": []
  },
  {
   "cell_type": "code",
   "execution_count": null,
   "id": "d32686ca-6825-4080-b93b-f2cd75b1d510",
   "metadata": {},
   "outputs": [],
   "source": []
  },
  {
   "cell_type": "code",
   "execution_count": null,
   "id": "331c8a53-d63d-4853-bb14-f244b48d8c9e",
   "metadata": {},
   "outputs": [],
   "source": []
  },
  {
   "cell_type": "code",
   "execution_count": null,
   "id": "8a7e4bcb-3f8c-488b-a8ef-da23a8eda624",
   "metadata": {},
   "outputs": [],
   "source": []
  },
  {
   "cell_type": "code",
   "execution_count": null,
   "id": "ff43ca61-c1fe-4f08-af2f-01cb5ade4ec0",
   "metadata": {},
   "outputs": [],
   "source": []
  },
  {
   "cell_type": "code",
   "execution_count": null,
   "id": "f64a5fb1-01c1-4ea7-8686-adc871a3c934",
   "metadata": {},
   "outputs": [],
   "source": []
  },
  {
   "cell_type": "code",
   "execution_count": null,
   "id": "e4bcf1ab-9889-4590-9260-10a2bc92d88e",
   "metadata": {},
   "outputs": [],
   "source": []
  },
  {
   "cell_type": "code",
   "execution_count": null,
   "id": "bf010b07-c020-4420-a217-57f933fcfc4b",
   "metadata": {},
   "outputs": [],
   "source": []
  },
  {
   "cell_type": "code",
   "execution_count": null,
   "id": "91b2cddd-fe1f-4cbe-b823-211d91ae60ee",
   "metadata": {},
   "outputs": [],
   "source": []
  },
  {
   "cell_type": "code",
   "execution_count": null,
   "id": "1d4089bb-6c1b-4a3b-86fb-0478aa347ae2",
   "metadata": {},
   "outputs": [],
   "source": []
  },
  {
   "cell_type": "code",
   "execution_count": null,
   "id": "a6a2c04a-0830-46cb-b2e3-8b92372b794c",
   "metadata": {},
   "outputs": [],
   "source": []
  }
 ],
 "metadata": {
  "kernelspec": {
   "display_name": "Python 3 [Default]",
   "language": "python",
   "name": "python3"
  },
  "language_info": {
   "codemirror_mode": {
    "name": "ipython",
    "version": 3
   },
   "file_extension": ".py",
   "mimetype": "text/x-python",
   "name": "python",
   "nbconvert_exporter": "python",
   "pygments_lexer": "ipython3",
   "version": "3.9.10"
  }
 },
 "nbformat": 4,
 "nbformat_minor": 5
}
