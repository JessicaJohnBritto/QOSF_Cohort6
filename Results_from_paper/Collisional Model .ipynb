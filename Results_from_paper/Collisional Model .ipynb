{
 "cells": [
  {
   "cell_type": "code",
   "execution_count": 20,
   "id": "3efe573c",
   "metadata": {},
   "outputs": [],
   "source": [
    "import matplotlib.pyplot as plt\n",
    "import numpy as np\n",
    "\n",
    "# importing Qiskit\n",
    "import qiskit\n",
    "from qiskit import IBMQ, Aer\n",
    "from qiskit.providers.ibmq import least_busy\n",
    "from qiskit import QuantumCircuit, ClassicalRegister, QuantumRegister, transpile, assemble\n",
    "\n",
    "# import basic plot tools\n",
    "from qiskit.visualization import plot_histogram\n",
    "from numpy import random\n",
    "\n",
    "from qiskit.ignis.verification.tomography import state_tomography_circuits, StateTomographyFitter"
   ]
  },
  {
   "cell_type": "markdown",
   "id": "532438bc",
   "metadata": {},
   "source": [
    "# For Correlated Ancillae"
   ]
  },
  {
   "cell_type": "code",
   "execution_count": 21,
   "id": "e651b7b7",
   "metadata": {},
   "outputs": [],
   "source": [
    "def corr(q, c, system, ancillae, g, t, i):\n",
    "    coA = QuantumCircuit(q,c)\n",
    "    \n",
    "    # State Preparation\n",
    "    coA.h(q[system])\n",
    "    coA.h(q[ancillae[2]])\n",
    "    coA.cnot(q[ancillae[2]],q[ancillae[1]])\n",
    "    coA.cnot(q[ancillae[2]],q[ancillae[0]])\n",
    "    \n",
    "    # Collisions between the system and ancilla qubits\n",
    "    for j in range(1, i+1, 1):\n",
    "        if j%2 != 0:\n",
    "            coA.cnot(q[ancillae[0]],q[system])\n",
    "            coA.rz(t, q[system])\n",
    "            coA.cnot(q[ancillae[0]],q[system])\n",
    "        else:\n",
    "            coA.cnot(q[ancillae[1]],q[system])\n",
    "            coA.rz(t, q[system])\n",
    "            coA.cnot(q[ancillae[1]],q[system])\n",
    "    \n",
    "    coA.h(q[system])\n",
    "    \n",
    "    coA.measure(q[system],c[0])\n",
    "        \n",
    "    return coA"
   ]
  },
  {
   "cell_type": "code",
   "execution_count": 19,
   "id": "92742329",
   "metadata": {},
   "outputs": [
    {
     "data": {
      "image/png": "[encoded data removed]",
      "text/plain": [
       "<Figure size 929.397x325.08 with 1 Axes>"
      ]
     },
     "execution_count": 19,
     "metadata": {},
     "output_type": "execute_result"
    },
    {
     "data": {
      "image/png": "[encoded data removed]",
      "text/plain": [
       "<Figure size 432x288 with 1 Axes>"
      ]
     },
     "metadata": {
      "needs_background": "light"
     },
     "output_type": "display_data"
    }
   ],
   "source": [
    "q = QuantumRegister(4,name = 'q')\n",
    "c = ClassicalRegister(1, name = 'c')\n",
    "system = 0\n",
    "ancillae = [1, 2, 3]\n",
    "rho_12, T = [], []\n",
    "n = 20\n",
    "tt = np.pi/6\n",
    "g = 1\n",
    "t = g*(tt)\n",
    "for i in range(1,n+1,1):\n",
    "    circ = corr(q, c, system, ancillae, g, tt, i)\n",
    "    if i == 3:\n",
    "        qq = circ\n",
    "    T.append(i*t)\n",
    "    #qst_bell = state_tomography_circuits(circ, q[system])\n",
    "    job = qiskit.execute(circ, Aer.get_backend('qasm_simulator'), shots=100)\n",
    "    #tomo_fitter_bell = StateTomographyFitter(job.result(), qst_bell)\n",
    "    #rho = tomo_fitter_bell.fit(method='lstsq')\n",
    "    counts = job.result().get_counts()\n",
    "    rho_12.append(counts.get('0',0)/(counts.get('0',0)+counts.get('1',0)))\n",
    "    \n",
    "plt.scatter(T, np.real(rho_12))\n",
    "qq.draw(output=\"mpl\")"
   ]
  }
 ],
 "metadata": {
  "kernelspec": {
   "display_name": "Python 3 (ipykernel)",
   "language": "python",
   "name": "python3"
  },
  "language_info": {
   "codemirror_mode": {
    "name": "ipython",
    "version": 3
   },
   "file_extension": ".py",
   "mimetype": "text/x-python",
   "name": "python",
   "nbconvert_exporter": "python",
   "pygments_lexer": "ipython3",
   "version": "3.9.12"
  }
 },
 "nbformat": 4,
 "nbformat_minor": 5
}
