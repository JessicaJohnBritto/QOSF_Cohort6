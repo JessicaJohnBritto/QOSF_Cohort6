{
 "cells": [
  {
   "cell_type": "code",
   "execution_count": 1,
   "id": "6871efd0-6304-4fd8-9b5a-fc27272dfd46",
   "metadata": {},
   "outputs": [
    {
     "name": "stdout",
     "output_type": "stream",
     "text": [
      "\u001b[0;35mYou have already enabled qBraid Quantum Jobs in the qbraid_sdk environment.\u001b[0m\n"
     ]
    }
   ],
   "source": [
    "!qbraid jobs enable qbraid_sdk"
   ]
  },
  {
   "cell_type": "code",
   "execution_count": 2,
   "id": "61076a9f-8736-497b-b27f-70ca2ad035c0",
   "metadata": {},
   "outputs": [],
   "source": [
    "from qbraid import get_devices"
   ]
  },
  {
   "cell_type": "code",
   "execution_count": 3,
   "id": "42020cae-82ff-420b-8e4a-57197c57f61a",
   "metadata": {},
   "outputs": [
    {
     "data": {
      "text/html": [
       "<h3>Supported Devices</h3><table><tr>\n",
       "    <th style='text-align:left'>Provider</th>\n",
       "    <th style='text-align:left'>Name</th>\n",
       "    <th style='text-align:left'>qBraid ID</th>\n",
       "    <th style='text-align:left'>Status</th></tr>\n",
       "    <tr>\n",
       "        <td style='text-align:left'>AWS</td>\n",
       "        <td style='text-align:left'>DM1</td>\n",
       "        <td style='text-align:left'><code>aws_dm_sim</code></td>\n",
       "        <td><span style='color:green'>●</span></td></tr>\n",
       "        <tr>\n",
       "        <td style='text-align:left'>AWS</td>\n",
       "        <td style='text-align:left'>SV1</td>\n",
       "        <td style='text-align:left'><code>aws_sv_sim</code></td>\n",
       "        <td><span style='color:green'>●</span></td></tr>\n",
       "        <tr>\n",
       "        <td style='text-align:left'>AWS</td>\n",
       "        <td style='text-align:left'>TN1</td>\n",
       "        <td style='text-align:left'><code>aws_tn_sim</code></td>\n",
       "        <td><span style='color:green'>●</span></td></tr>\n",
       "        <tr>\n",
       "        <td style='text-align:left'>IBM</td>\n",
       "        <td style='text-align:left'>Belem</td>\n",
       "        <td style='text-align:left'><code>ibm_q_belem</code></td>\n",
       "        <td><span style='color:green'>●</span></td></tr>\n",
       "        <tr>\n",
       "        <td style='text-align:left'>IBM</td>\n",
       "        <td style='text-align:left'>Ext. stabilizer simulator</td>\n",
       "        <td style='text-align:left'><code>ibm_q_ext_stabilizer_sim</code></td>\n",
       "        <td><span style='color:green'>●</span></td></tr>\n",
       "        <tr>\n",
       "        <td style='text-align:left'>IBM</td>\n",
       "        <td style='text-align:left'>Jakarta</td>\n",
       "        <td style='text-align:left'><code>ibm_q_jakarta</code></td>\n",
       "        <td><span style='color:green'>●</span></td></tr>\n",
       "        <tr>\n",
       "        <td style='text-align:left'>IBM</td>\n",
       "        <td style='text-align:left'>Lagos</td>\n",
       "        <td style='text-align:left'><code>ibm_q_lagos</code></td>\n",
       "        <td><span style='color:green'>●</span></td></tr>\n",
       "        <tr>\n",
       "        <td style='text-align:left'>IBM</td>\n",
       "        <td style='text-align:left'>Lima</td>\n",
       "        <td style='text-align:left'><code>ibm_q_lima</code></td>\n",
       "        <td><span style='color:green'>●</span></td></tr>\n",
       "        <tr>\n",
       "        <td style='text-align:left'>IBM</td>\n",
       "        <td style='text-align:left'>MPS simulator</td>\n",
       "        <td style='text-align:left'><code>ibm_q_mps_sim</code></td>\n",
       "        <td><span style='color:green'>●</span></td></tr>\n",
       "        <tr>\n",
       "        <td style='text-align:left'>IBM</td>\n",
       "        <td style='text-align:left'>Manila</td>\n",
       "        <td style='text-align:left'><code>ibm_q_manila</code></td>\n",
       "        <td><span style='color:green'>●</span></td></tr>\n",
       "        <tr>\n",
       "        <td style='text-align:left'>IBM</td>\n",
       "        <td style='text-align:left'>Nairobi</td>\n",
       "        <td style='text-align:left'><code>ibm_q_nairobi</code></td>\n",
       "        <td><span style='color:green'>●</span></td></tr>\n",
       "        <tr>\n",
       "        <td style='text-align:left'>IBM</td>\n",
       "        <td style='text-align:left'>Oslo</td>\n",
       "        <td style='text-align:left'><code>ibm_q_oslo</code></td>\n",
       "        <td><span style='color:green'>●</span></td></tr>\n",
       "        <tr>\n",
       "        <td style='text-align:left'>IBM</td>\n",
       "        <td style='text-align:left'>Perth</td>\n",
       "        <td style='text-align:left'><code>ibm_q_perth</code></td>\n",
       "        <td><span style='color:green'>●</span></td></tr>\n",
       "        <tr>\n",
       "        <td style='text-align:left'>IBM</td>\n",
       "        <td style='text-align:left'>QASM simulator</td>\n",
       "        <td style='text-align:left'><code>ibm_q_qasm_sim</code></td>\n",
       "        <td><span style='color:green'>●</span></td></tr>\n",
       "        <tr>\n",
       "        <td style='text-align:left'>IBM</td>\n",
       "        <td style='text-align:left'>Quito</td>\n",
       "        <td style='text-align:left'><code>ibm_q_quito</code></td>\n",
       "        <td><span style='color:green'>●</span></td></tr>\n",
       "        <tr>\n",
       "        <td style='text-align:left'>IBM</td>\n",
       "        <td style='text-align:left'>Stabilizer simulator</td>\n",
       "        <td style='text-align:left'><code>ibm_q_stabilizer_sim</code></td>\n",
       "        <td><span style='color:green'>●</span></td></tr>\n",
       "        <tr>\n",
       "        <td style='text-align:left'>IBM</td>\n",
       "        <td style='text-align:left'>State vector simulator</td>\n",
       "        <td style='text-align:left'><code>ibm_q_sv_sim</code></td>\n",
       "        <td><span style='color:green'>●</span></td></tr>\n",
       "        <tr>\n",
       "        <td style='text-align:left'>IonQ</td>\n",
       "        <td style='text-align:left'>IonQ Device</td>\n",
       "        <td style='text-align:left'><code>aws_ionq</code></td>\n",
       "        <td><span style='color:green'>●</span></td></tr>\n",
       "        <tr>\n",
       "        <td style='text-align:left'>OQC</td>\n",
       "        <td style='text-align:left'>Lucy</td>\n",
       "        <td style='text-align:left'><code>aws_oqc_lucy</code></td>\n",
       "        <td><span style='color:red'>○</span></td></tr>\n",
       "        <tr>\n",
       "        <td style='text-align:left'>QuEra</td>\n",
       "        <td style='text-align:left'>Aquila</td>\n",
       "        <td style='text-align:left'><code>aws_quera_aquila</code></td>\n",
       "        <td><span style='color:red'>○</span></td></tr>\n",
       "        <tr>\n",
       "        <td style='text-align:left'>Rigetti</td>\n",
       "        <td style='text-align:left'>Aspen-M-2</td>\n",
       "        <td style='text-align:left'><code>aws_rigetti_aspen_m2</code></td>\n",
       "        <td><span style='color:red'>○</span></td></tr>\n",
       "        <tr>\n",
       "        <td style='text-align:left'>Rigetti</td>\n",
       "        <td style='text-align:left'>Aspen-M-3</td>\n",
       "        <td style='text-align:left'><code>aws_rigetti_aspen_m3</code></td>\n",
       "        <td><span style='color:red'>○</span></td></tr>\n",
       "        <tr>\n",
       "        <td style='text-align:left'>Xanadu</td>\n",
       "        <td style='text-align:left'>Borealis</td>\n",
       "        <td style='text-align:left'><code>aws_xanadu_borealis</code></td>\n",
       "        <td><span style='color:red'>○</span></td></tr>\n",
       "        <tr><td colspan='4'; style='text-align:right'>Device status updated 0 minutes ago</td></tr></table>"
      ],
      "text/plain": [
       "<IPython.core.display.HTML object>"
      ]
     },
     "metadata": {},
     "output_type": "display_data"
    }
   ],
   "source": [
    "get_devices()"
   ]
  },
  {
   "cell_type": "code",
   "execution_count": 1,
   "id": "c48867fc-fe4b-4625-9902-cebcfc426936",
   "metadata": {},
   "outputs": [],
   "source": [
    "from qbraid import device_wrapper, job_wrapper, get_jobs\n",
    "# from qbraid.api import ibmq_least_busy_qpu, verify_config"
   ]
  },
  {
   "cell_type": "code",
   "execution_count": 2,
   "id": "b8989f7a-3623-480e-98e1-032b358bc111",
   "metadata": {},
   "outputs": [
    {
     "data": {
      "text/plain": [
       "{'numberQubits': 11,\n",
       " 'objRef': None,\n",
       " 'pendingJobs': 'N/A',\n",
       " 'availabilityCD': '03:18:57',\n",
       " 'visibility': 'public',\n",
       " 'qbraid_id': 'aws_ionq',\n",
       " 'name': 'IonQ Device',\n",
       " 'provider': 'IonQ',\n",
       " 'paradigm': 'gate-based',\n",
       " 'type': 'QPU',\n",
       " 'dateDeployed': '2019',\n",
       " 'location': 'College Park, MD, USA',\n",
       " 'vendor': 'AWS',\n",
       " 'runPackage': 'braket',\n",
       " 'status': 'OFFLINE',\n",
       " 'createdAt': '2022-03-10T04:08:21.014Z',\n",
       " 'updatedAt': '2023-05-01T09:41:03.717Z',\n",
       " '__v': 0,\n",
       " 'architecture': 'trapped ion'}"
      ]
     },
     "execution_count": 2,
     "metadata": {},
     "output_type": "execute_result"
    }
   ],
   "source": [
    "qbraid_device = device_wrapper(\"aws_ionq\")\n",
    "qbraid_device.info"
   ]
  },
  {
   "cell_type": "code",
   "execution_count": 4,
   "id": "5aad1599-3413-446f-b276-e399c0db4230",
   "metadata": {},
   "outputs": [
    {
     "ename": "QbraidError",
     "evalue": "aws:braket:us-east-1:592242689881:quantum-task/51acbc42-f201-4c68-a182-d29f80f911e2 is not a valid job ID.",
     "output_type": "error",
     "traceback": [
      "\u001b[0;31m---------------------------------------------------------------------------\u001b[0m",
      "\u001b[0;31mQbraidError\u001b[0m                               Traceback (most recent call last)",
      "Cell \u001b[0;32mIn[4], line 1\u001b[0m\n\u001b[0;32m----> 1\u001b[0m qjob \u001b[38;5;241m=\u001b[39m \u001b[43mjob_wrapper\u001b[49m\u001b[43m(\u001b[49m\u001b[38;5;124;43m'\u001b[39;49m\u001b[38;5;124;43maws:braket:us-east-1:592242689881:quantum-task/51acbc42-f201-4c68-a182-d29f80f911e2\u001b[39;49m\u001b[38;5;124;43m'\u001b[39;49m\u001b[43m)\u001b[49m\n",
      "File \u001b[0;32m~/.qbraid/environments/qbraid_sdk_9j9sjy/pyenv/lib/python3.9/site-packages/qbraid/wrappers.py:127\u001b[0m, in \u001b[0;36mjob_wrapper\u001b[0;34m(qbraid_job_id)\u001b[0m\n\u001b[1;32m    122\u001b[0m job_lst \u001b[38;5;241m=\u001b[39m session\u001b[38;5;241m.\u001b[39mpost(\n\u001b[1;32m    123\u001b[0m     \u001b[38;5;124m\"\u001b[39m\u001b[38;5;124m/get-user-jobs\u001b[39m\u001b[38;5;124m\"\u001b[39m, json\u001b[38;5;241m=\u001b[39m{\u001b[38;5;124m\"\u001b[39m\u001b[38;5;124mqbraidJobId\u001b[39m\u001b[38;5;124m\"\u001b[39m: qbraid_job_id, \u001b[38;5;124m\"\u001b[39m\u001b[38;5;124mnumResults\u001b[39m\u001b[38;5;124m\"\u001b[39m: \u001b[38;5;241m1\u001b[39m}\n\u001b[1;32m    124\u001b[0m )\u001b[38;5;241m.\u001b[39mjson()\n\u001b[1;32m    126\u001b[0m \u001b[38;5;28;01mif\u001b[39;00m \u001b[38;5;28mlen\u001b[39m(job_lst) \u001b[38;5;241m==\u001b[39m \u001b[38;5;241m0\u001b[39m:\n\u001b[0;32m--> 127\u001b[0m     \u001b[38;5;28;01mraise\u001b[39;00m QbraidError(\u001b[38;5;124mf\u001b[39m\u001b[38;5;124m\"\u001b[39m\u001b[38;5;132;01m{\u001b[39;00mqbraid_job_id\u001b[38;5;132;01m}\u001b[39;00m\u001b[38;5;124m is not a valid job ID.\u001b[39m\u001b[38;5;124m\"\u001b[39m)\n\u001b[1;32m    129\u001b[0m job_data \u001b[38;5;241m=\u001b[39m job_lst[\u001b[38;5;241m0\u001b[39m]\n\u001b[1;32m    131\u001b[0m qbraid_device_id \u001b[38;5;241m=\u001b[39m job_data[\u001b[38;5;124m\"\u001b[39m\u001b[38;5;124mqbraidDeviceId\u001b[39m\u001b[38;5;124m\"\u001b[39m]\n",
      "\u001b[0;31mQbraidError\u001b[0m: aws:braket:us-east-1:592242689881:quantum-task/51acbc42-f201-4c68-a182-d29f80f911e2 is not a valid job ID."
     ]
    }
   ],
   "source": [
    "qjob = job_wrapper('aws:braket:us-east-1:592242689881:quantum-task/51acbc42-f201-4c68-a182-d29f80f911e2')"
   ]
  }
 ],
 "metadata": {
  "kernelspec": {
   "display_name": "Python 3 [qBraid-SDK]",
   "language": "python",
   "name": "python3_qbraid_sdk_9j9sjy"
  },
  "language_info": {
   "codemirror_mode": {
    "name": "ipython",
    "version": 3
   },
   "file_extension": ".py",
   "mimetype": "text/x-python",
   "name": "python",
   "nbconvert_exporter": "python",
   "pygments_lexer": "ipython3",
   "version": "3.9.10"
  }
 },
 "nbformat": 4,
 "nbformat_minor": 5
}
