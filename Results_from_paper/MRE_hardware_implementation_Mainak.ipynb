{
 "cells": [
  {
   "cell_type": "code",
   "execution_count": 5,
   "id": "dab1f374-457e-4945-901b-18d17b221a87",
   "metadata": {},
   "outputs": [
    {
     "name": "stdout",
     "output_type": "stream",
     "text": [
      "Requirement already satisfied: pip in /home/jovyan/.qbraid/environments/qbraid_sdk_9j9sjy/pyenv/lib/python3.9/site-packages (23.1.2)\n",
      "Note: you may need to restart the kernel to use updated packages.\n",
      "Collecting amazon-braket-sdk==1.37.0\n",
      "  Downloading amazon_braket_sdk-1.37.0-py3-none-any.whl (251 kB)\n",
      "\u001b[2K     \u001b[90m━━━━━━━━━━━━━━━━━━━━━━━━━━━━━━━━━━━━━━━\u001b[0m \u001b[32m251.2/251.2 kB\u001b[0m \u001b[31m4.6 MB/s\u001b[0m eta \u001b[36m0:00:00\u001b[0m00:01\u001b[0m\n",
      "\u001b[?25hRequirement already satisfied: amazon-braket-schemas>=1.14.0 in /home/jovyan/.qbraid/environments/qbraid_sdk_9j9sjy/pyenv/lib/python3.9/site-packages (from amazon-braket-sdk==1.37.0) (1.15.1)\n",
      "Requirement already satisfied: amazon-braket-default-simulator>=1.11.0 in /home/jovyan/.qbraid/environments/qbraid_sdk_9j9sjy/pyenv/lib/python3.9/site-packages (from amazon-braket-sdk==1.37.0) (1.12.3)\n",
      "Requirement already satisfied: oqpy~=0.1.1 in /home/jovyan/.qbraid/environments/qbraid_sdk_9j9sjy/pyenv/lib/python3.9/site-packages (from amazon-braket-sdk==1.37.0) (0.1.2)\n",
      "Requirement already satisfied: setuptools in /home/jovyan/.qbraid/environments/qbraid_sdk_9j9sjy/pyenv/lib/python3.9/site-packages (from amazon-braket-sdk==1.37.0) (67.7.0)\n",
      "Requirement already satisfied: backoff in /home/jovyan/.qbraid/environments/qbraid_sdk_9j9sjy/pyenv/lib/python3.9/site-packages (from amazon-braket-sdk==1.37.0) (2.2.1)\n",
      "Requirement already satisfied: boltons in /home/jovyan/.qbraid/environments/qbraid_sdk_9j9sjy/pyenv/lib/python3.9/site-packages (from amazon-braket-sdk==1.37.0) (23.0.0)\n",
      "Requirement already satisfied: boto3>=1.22.3 in /home/jovyan/.qbraid/environments/qbraid_sdk_9j9sjy/pyenv/lib/python3.9/site-packages (from amazon-braket-sdk==1.37.0) (1.26.116)\n",
      "Requirement already satisfied: nest-asyncio in /home/jovyan/.qbraid/environments/qbraid_sdk_9j9sjy/pyenv/lib/python3.9/site-packages (from amazon-braket-sdk==1.37.0) (1.5.6)\n",
      "Requirement already satisfied: networkx in /home/jovyan/.qbraid/environments/qbraid_sdk_9j9sjy/pyenv/lib/python3.9/site-packages (from amazon-braket-sdk==1.37.0) (2.8.8)\n",
      "Requirement already satisfied: numpy in /home/jovyan/.qbraid/environments/qbraid_sdk_9j9sjy/pyenv/lib/python3.9/site-packages (from amazon-braket-sdk==1.37.0) (1.23.5)\n",
      "Requirement already satisfied: openpulse in /home/jovyan/.qbraid/environments/qbraid_sdk_9j9sjy/pyenv/lib/python3.9/site-packages (from amazon-braket-sdk==1.37.0) (0.4.2)\n",
      "Requirement already satisfied: openqasm3 in /home/jovyan/.qbraid/environments/qbraid_sdk_9j9sjy/pyenv/lib/python3.9/site-packages (from amazon-braket-sdk==1.37.0) (0.4.0)\n",
      "Requirement already satisfied: sympy in /home/jovyan/.qbraid/environments/qbraid_sdk_9j9sjy/pyenv/lib/python3.9/site-packages (from amazon-braket-sdk==1.37.0) (1.11.1)\n",
      "Requirement already satisfied: opt-einsum in /home/jovyan/.qbraid/environments/qbraid_sdk_9j9sjy/pyenv/lib/python3.9/site-packages (from amazon-braket-default-simulator>=1.11.0->amazon-braket-sdk==1.37.0) (3.3.0)\n",
      "Requirement already satisfied: pydantic<2.0,>=1.9 in /home/jovyan/.qbraid/environments/qbraid_sdk_9j9sjy/pyenv/lib/python3.9/site-packages (from amazon-braket-default-simulator>=1.11.0->amazon-braket-sdk==1.37.0) (1.10.7)\n",
      "Requirement already satisfied: scipy in /home/jovyan/.qbraid/environments/qbraid_sdk_9j9sjy/pyenv/lib/python3.9/site-packages (from amazon-braket-default-simulator>=1.11.0->amazon-braket-sdk==1.37.0) (1.10.1)\n",
      "Requirement already satisfied: antlr4-python3-runtime==4.9.2 in /home/jovyan/.qbraid/environments/qbraid_sdk_9j9sjy/pyenv/lib/python3.9/site-packages (from amazon-braket-default-simulator>=1.11.0->amazon-braket-sdk==1.37.0) (4.9.2)\n",
      "Requirement already satisfied: botocore<1.30.0,>=1.29.116 in /home/jovyan/.qbraid/environments/qbraid_sdk_9j9sjy/pyenv/lib/python3.9/site-packages (from boto3>=1.22.3->amazon-braket-sdk==1.37.0) (1.29.116)\n",
      "Requirement already satisfied: jmespath<2.0.0,>=0.7.1 in /home/jovyan/.qbraid/environments/qbraid_sdk_9j9sjy/pyenv/lib/python3.9/site-packages (from boto3>=1.22.3->amazon-braket-sdk==1.37.0) (1.0.1)\n",
      "Requirement already satisfied: s3transfer<0.7.0,>=0.6.0 in /home/jovyan/.qbraid/environments/qbraid_sdk_9j9sjy/pyenv/lib/python3.9/site-packages (from boto3>=1.22.3->amazon-braket-sdk==1.37.0) (0.6.0)\n",
      "Requirement already satisfied: mypy-extensions>=0.2.0 in /home/jovyan/.qbraid/environments/qbraid_sdk_9j9sjy/pyenv/lib/python3.9/site-packages (from oqpy~=0.1.1->amazon-braket-sdk==1.37.0) (1.0.0)\n",
      "Requirement already satisfied: importlib-metadata in /home/jovyan/.qbraid/environments/qbraid_sdk_9j9sjy/pyenv/lib/python3.9/site-packages (from openpulse->amazon-braket-sdk==1.37.0) (6.5.0)\n",
      "Requirement already satisfied: mpmath>=0.19 in /home/jovyan/.qbraid/environments/qbraid_sdk_9j9sjy/pyenv/lib/python3.9/site-packages (from sympy->amazon-braket-sdk==1.37.0) (1.3.0)\n",
      "Requirement already satisfied: python-dateutil<3.0.0,>=2.1 in /home/jovyan/.qbraid/environments/qbraid_sdk_9j9sjy/pyenv/lib/python3.9/site-packages (from botocore<1.30.0,>=1.29.116->boto3>=1.22.3->amazon-braket-sdk==1.37.0) (2.8.2)\n",
      "Requirement already satisfied: urllib3<1.27,>=1.25.4 in /home/jovyan/.qbraid/environments/qbraid_sdk_9j9sjy/pyenv/lib/python3.9/site-packages (from botocore<1.30.0,>=1.29.116->boto3>=1.22.3->amazon-braket-sdk==1.37.0) (1.26.15)\n",
      "Requirement already satisfied: typing-extensions>=4.2.0 in /home/jovyan/.qbraid/environments/qbraid_sdk_9j9sjy/pyenv/lib/python3.9/site-packages (from pydantic<2.0,>=1.9->amazon-braket-default-simulator>=1.11.0->amazon-braket-sdk==1.37.0) (4.5.0)\n",
      "Requirement already satisfied: zipp>=0.5 in /home/jovyan/.qbraid/environments/qbraid_sdk_9j9sjy/pyenv/lib/python3.9/site-packages (from importlib-metadata->openpulse->amazon-braket-sdk==1.37.0) (3.15.0)\n",
      "Requirement already satisfied: six>=1.5 in /home/jovyan/.qbraid/environments/qbraid_sdk_9j9sjy/pyenv/lib/python3.9/site-packages (from python-dateutil<3.0.0,>=2.1->botocore<1.30.0,>=1.29.116->boto3>=1.22.3->amazon-braket-sdk==1.37.0) (1.16.0)\n",
      "Installing collected packages: amazon-braket-sdk\n",
      "  Attempting uninstall: amazon-braket-sdk\n",
      "    Found existing installation: amazon-braket-sdk 1.38.0\n",
      "    Uninstalling amazon-braket-sdk-1.38.0:\n",
      "      Successfully uninstalled amazon-braket-sdk-1.38.0\n",
      "Successfully installed amazon-braket-sdk-1.37.0\n",
      "Note: you may need to restart the kernel to use updated packages.\n"
     ]
    }
   ],
   "source": [
    "%pip install --upgrade pip\n",
    "%pip install amazon-braket-sdk==1.37.0"
   ]
  },
  {
   "cell_type": "code",
   "execution_count": 1,
   "id": "c2f8747a-4c53-4330-b376-e3f97908e41c",
   "metadata": {},
   "outputs": [
    {
     "name": "stdout",
     "output_type": "stream",
     "text": [
      "Requirement already satisfied: amazon-braket-schemas in /home/jovyan/.qbraid/environments/qbraid_sdk_9j9sjy/pyenv/lib/python3.9/site-packages (1.15.1)\n",
      "Requirement already satisfied: pydantic<2.0.0,>=1.8.2 in /home/jovyan/.qbraid/environments/qbraid_sdk_9j9sjy/pyenv/lib/python3.9/site-packages (from amazon-braket-schemas) (1.10.7)\n",
      "Requirement already satisfied: typing-extensions>=4.2.0 in /home/jovyan/.qbraid/environments/qbraid_sdk_9j9sjy/pyenv/lib/python3.9/site-packages (from pydantic<2.0.0,>=1.8.2->amazon-braket-schemas) (4.5.0)\n",
      "Note: you may need to restart the kernel to use updated packages.\n",
      "\u001b[0;35m You have already disabled qBraid Quantum Jobs in the \u001b[1;35mqbraid_sdk\u001b[0m\u001b[0;35m environment.\u001b[0m\n"
     ]
    }
   ],
   "source": [
    "%pip install --upgrade amazon-braket-schemas\n",
    "!qbraid jobs disable qbraid_sdk"
   ]
  },
  {
   "cell_type": "code",
   "execution_count": 1,
   "id": "17b664b6-0223-4849-a476-42e1b21f0f8d",
   "metadata": {},
   "outputs": [],
   "source": [
    "import cirq\n",
    "import qbraid\n",
    "from qbraid import interface\n",
    "import numpy as np\n",
    "import matplotlib.pyplot as plt\n",
    "from collections import Counter\n",
    "\n",
    "def prep(sys,state):\n",
    "    for i in range(len(state)):\n",
    "        if state[i]=='1':\n",
    "            yield cirq.X(sys[i])\n",
    "\n",
    "def zz_pump(sys,env,p,state):\n",
    "    yield from prep(sys,state)\n",
    "    yield cirq.CNOT(sys[1],sys[0])\n",
    "    yield cirq.X(env[0])\n",
    "    yield cirq.CNOT(sys[0],env[0])\n",
    "    yield cirq.H(sys[0])\n",
    "    yield cirq.Rz(rads=np.arccos(1-2*p)).on(sys[0]).controlled_by(env[0])\n",
    "    yield cirq.H(sys[0])\n",
    "    yield cirq.CNOT(sys[0],env[0])\n",
    "    yield cirq.H(sys[1])\n",
    "\n",
    "def xx_pump(sys,env,p,state):\n",
    "    yield from prep(sys,state)\n",
    "    yield cirq.CNOT(sys[1],sys[0])\n",
    "    yield cirq.H(sys[1])\n",
    "    yield cirq.X(env[0])\n",
    "    yield cirq.CNOT(sys[1],env[0])\n",
    "    yield cirq.H(sys[1])\n",
    "    yield cirq.Rz(rads=np.arccos(1-2*p)).on(sys[1]).controlled_by(env[0])\n",
    "    yield cirq.H(sys[1])\n",
    "    yield cirq.CNOT(sys[1],env[0])\n",
    "\n",
    "def zz_xx_pump(sys,env,p,state):\n",
    "    yield from prep(sys,state)\n",
    "    yield cirq.CNOT(sys[1],sys[0])\n",
    "    yield cirq.X(env[0])\n",
    "    yield cirq.CNOT(sys[0],env[0])\n",
    "    yield cirq.H(sys[0])\n",
    "    yield cirq.Rz(rads=np.arccos(1-2*p)).on(sys[0]).controlled_by(env[0])\n",
    "    yield cirq.H(sys[0])\n",
    "    yield cirq.CNOT(sys[0],env[0])\n",
    "    yield cirq.H(sys[1])\n",
    "    yield cirq.X(env[1])\n",
    "    yield cirq.CNOT(sys[1],env[1])\n",
    "    yield cirq.H(sys[1])\n",
    "    yield cirq.Rz(rads=np.arccos(1-2*p)).on(sys[1]).controlled_by(env[1])\n",
    "    yield cirq.H(sys[1])\n",
    "    yield cirq.CNOT(sys[1],env[1])\n"
   ]
  },
  {
   "cell_type": "code",
   "execution_count": 2,
   "id": "cb4e4b84-edbc-414b-b99f-f24770f27d93",
   "metadata": {},
   "outputs": [],
   "source": [
    "probs = np.linspace(0,1,num=5)\n",
    "repcnt = 960"
   ]
  },
  {
   "cell_type": "code",
   "execution_count": 4,
   "id": "cb876dbd-c7f3-4d5a-8a83-eaca5caa540b",
   "metadata": {},
   "outputs": [
    {
     "name": "stdout",
     "output_type": "stream",
     "text": [
      "\u001b[0;35mYou have already enabled qBraid Quantum Jobs in the qbraid_sdk environment.\u001b[0m\n"
     ]
    }
   ],
   "source": [
    "!qbraid jobs enable qbraid_sdk"
   ]
  },
  {
   "cell_type": "code",
   "execution_count": 1,
   "id": "58b6225a-089e-479b-bbf9-a7cf4b691025",
   "metadata": {},
   "outputs": [
    {
     "data": {
      "text/html": [
       "<h3>Supported Devices</h3><table><tr>\n",
       "    <th style='text-align:left'>Provider</th>\n",
       "    <th style='text-align:left'>Name</th>\n",
       "    <th style='text-align:left'>qBraid ID</th>\n",
       "    <th style='text-align:left'>Status</th></tr>\n",
       "    <tr>\n",
       "        <td style='text-align:left'>AWS</td>\n",
       "        <td style='text-align:left'>DM1</td>\n",
       "        <td style='text-align:left'><code>aws_dm_sim</code></td>\n",
       "        <td><span style='color:green'>●</span></td></tr>\n",
       "        <tr>\n",
       "        <td style='text-align:left'>AWS</td>\n",
       "        <td style='text-align:left'>SV1</td>\n",
       "        <td style='text-align:left'><code>aws_sv_sim</code></td>\n",
       "        <td><span style='color:green'>●</span></td></tr>\n",
       "        <tr>\n",
       "        <td style='text-align:left'>AWS</td>\n",
       "        <td style='text-align:left'>TN1</td>\n",
       "        <td style='text-align:left'><code>aws_tn_sim</code></td>\n",
       "        <td><span style='color:green'>●</span></td></tr>\n",
       "        <tr>\n",
       "        <td style='text-align:left'>IBM</td>\n",
       "        <td style='text-align:left'>Belem</td>\n",
       "        <td style='text-align:left'><code>ibm_q_belem</code></td>\n",
       "        <td><span style='color:green'>●</span></td></tr>\n",
       "        <tr>\n",
       "        <td style='text-align:left'>IBM</td>\n",
       "        <td style='text-align:left'>Ext. stabilizer simulator</td>\n",
       "        <td style='text-align:left'><code>ibm_q_simulator_extended_stabilizer</code></td>\n",
       "        <td><span style='color:green'>●</span></td></tr>\n",
       "        <tr>\n",
       "        <td style='text-align:left'>IBM</td>\n",
       "        <td style='text-align:left'>Jakarta</td>\n",
       "        <td style='text-align:left'><code>ibm_q_jakarta</code></td>\n",
       "        <td><span style='color:green'>●</span></td></tr>\n",
       "        <tr>\n",
       "        <td style='text-align:left'>IBM</td>\n",
       "        <td style='text-align:left'>Lagos</td>\n",
       "        <td style='text-align:left'><code>ibm_q_lagos</code></td>\n",
       "        <td><span style='color:red'>○</span></td></tr>\n",
       "        <tr>\n",
       "        <td style='text-align:left'>IBM</td>\n",
       "        <td style='text-align:left'>Lima</td>\n",
       "        <td style='text-align:left'><code>ibm_q_lima</code></td>\n",
       "        <td><span style='color:green'>●</span></td></tr>\n",
       "        <tr>\n",
       "        <td style='text-align:left'>IBM</td>\n",
       "        <td style='text-align:left'>MPS simulator</td>\n",
       "        <td style='text-align:left'><code>ibm_q_simulator_mps</code></td>\n",
       "        <td><span style='color:green'>●</span></td></tr>\n",
       "        <tr>\n",
       "        <td style='text-align:left'>IBM</td>\n",
       "        <td style='text-align:left'>Manila</td>\n",
       "        <td style='text-align:left'><code>ibm_q_manila</code></td>\n",
       "        <td><span style='color:green'>●</span></td></tr>\n",
       "        <tr>\n",
       "        <td style='text-align:left'>IBM</td>\n",
       "        <td style='text-align:left'>Nairobi</td>\n",
       "        <td style='text-align:left'><code>ibm_q_nairobi</code></td>\n",
       "        <td><span style='color:green'>●</span></td></tr>\n",
       "        <tr>\n",
       "        <td style='text-align:left'>IBM</td>\n",
       "        <td style='text-align:left'>Oslo</td>\n",
       "        <td style='text-align:left'><code>ibm_q_oslo</code></td>\n",
       "        <td><span style='color:red'>○</span></td></tr>\n",
       "        <tr>\n",
       "        <td style='text-align:left'>IBM</td>\n",
       "        <td style='text-align:left'>Perth</td>\n",
       "        <td style='text-align:left'><code>ibm_q_perth</code></td>\n",
       "        <td><span style='color:red'>○</span></td></tr>\n",
       "        <tr>\n",
       "        <td style='text-align:left'>IBM</td>\n",
       "        <td style='text-align:left'>QASM simulator</td>\n",
       "        <td style='text-align:left'><code>ibm_q_qasm_simulator</code></td>\n",
       "        <td><span style='color:green'>●</span></td></tr>\n",
       "        <tr>\n",
       "        <td style='text-align:left'>IBM</td>\n",
       "        <td style='text-align:left'>Quito</td>\n",
       "        <td style='text-align:left'><code>ibm_q_quito</code></td>\n",
       "        <td><span style='color:green'>●</span></td></tr>\n",
       "        <tr>\n",
       "        <td style='text-align:left'>IBM</td>\n",
       "        <td style='text-align:left'>Stabilizer simulator</td>\n",
       "        <td style='text-align:left'><code>ibm_q_simulator_stabilizer</code></td>\n",
       "        <td><span style='color:green'>●</span></td></tr>\n",
       "        <tr>\n",
       "        <td style='text-align:left'>IBM</td>\n",
       "        <td style='text-align:left'>State vector simulator</td>\n",
       "        <td style='text-align:left'><code>ibm_q_simulator_statevector</code></td>\n",
       "        <td><span style='color:green'>●</span></td></tr>\n",
       "        <tr>\n",
       "        <td style='text-align:left'>IonQ</td>\n",
       "        <td style='text-align:left'>IonQ Aria-1</td>\n",
       "        <td style='text-align:left'><code>aws_ionq_aria1</code></td>\n",
       "        <td><span style='color:red'>○</span></td></tr>\n",
       "        <tr>\n",
       "        <td style='text-align:left'>IonQ</td>\n",
       "        <td style='text-align:left'>IonQ Device</td>\n",
       "        <td style='text-align:left'><code>aws_ionq</code></td>\n",
       "        <td><span style='color:red'>○</span></td></tr>\n",
       "        <tr>\n",
       "        <td style='text-align:left'>IonQ</td>\n",
       "        <td style='text-align:left'>IonQ Harmony</td>\n",
       "        <td style='text-align:left'><code>aws_ionq_harmony</code></td>\n",
       "        <td><span style='color:red'>○</span></td></tr>\n",
       "        <tr>\n",
       "        <td style='text-align:left'>OQC</td>\n",
       "        <td style='text-align:left'>Lucy</td>\n",
       "        <td style='text-align:left'><code>aws_oqc_lucy</code></td>\n",
       "        <td><span style='color:red'>○</span></td></tr>\n",
       "        <tr>\n",
       "        <td style='text-align:left'>QuEra</td>\n",
       "        <td style='text-align:left'>Aquila</td>\n",
       "        <td style='text-align:left'><code>aws_quera_aquila</code></td>\n",
       "        <td><span style='color:red'>○</span></td></tr>\n",
       "        <tr>\n",
       "        <td style='text-align:left'>Rigetti</td>\n",
       "        <td style='text-align:left'>Aspen-M-2</td>\n",
       "        <td style='text-align:left'><code>aws_rigetti_aspen_m2</code></td>\n",
       "        <td><span style='color:red'>○</span></td></tr>\n",
       "        <tr>\n",
       "        <td style='text-align:left'>Rigetti</td>\n",
       "        <td style='text-align:left'>Aspen-M-3</td>\n",
       "        <td style='text-align:left'><code>aws_rigetti_aspen_m3</code></td>\n",
       "        <td><span style='color:red'>○</span></td></tr>\n",
       "        <tr>\n",
       "        <td style='text-align:left'>Xanadu</td>\n",
       "        <td style='text-align:left'>Borealis</td>\n",
       "        <td style='text-align:left'><code>aws_xanadu_borealis</code></td>\n",
       "        <td><span style='color:red'>○</span></td></tr>\n",
       "        <tr><td colspan='4'; style='text-align:right'>Device status updated 1 hour ago</td></tr></table>"
      ],
      "text/plain": [
       "<IPython.core.display.HTML object>"
      ]
     },
     "metadata": {},
     "output_type": "display_data"
    }
   ],
   "source": [
    "from qbraid import get_devices\n",
    "get_devices()"
   ]
  },
  {
   "cell_type": "code",
   "execution_count": 3,
   "id": "e6f0cf1b-af08-4b5e-b17a-d1a42f234c97",
   "metadata": {},
   "outputs": [
    {
     "data": {
      "text/plain": [
       "{'numberQubits': 11,\n",
       " 'objRef': None,\n",
       " 'pendingJobs': 'N/A',\n",
       " 'availabilityCD': '04:02:14',\n",
       " 'visibility': 'public',\n",
       " 'qbraid_id': 'aws_ionq',\n",
       " 'name': 'IonQ Device',\n",
       " 'provider': 'IonQ',\n",
       " 'paradigm': 'gate-based',\n",
       " 'type': 'QPU',\n",
       " 'dateDeployed': '2019',\n",
       " 'location': 'College Park, MD, USA',\n",
       " 'vendor': 'AWS',\n",
       " 'runPackage': 'braket',\n",
       " 'status': 'OFFLINE',\n",
       " 'createdAt': '2022-03-10T04:08:21.014Z',\n",
       " 'updatedAt': '2023-05-12T08:57:47.069Z',\n",
       " '__v': 0,\n",
       " 'architecture': 'trapped ion'}"
      ]
     },
     "execution_count": 3,
     "metadata": {},
     "output_type": "execute_result"
    }
   ],
   "source": [
    "from qbraid import device_wrapper, job_wrapper, get_jobs\n",
    "ionq_id = \"aws_ionq_aria1\"\n",
    "qbraid_aws_device = device_wrapper(ionq_id)\n",
    "qbraid_aws_device.vendor_dlo\n",
    "qbraid_aws_device.info"
   ]
  },
  {
   "cell_type": "code",
   "execution_count": null,
   "id": "ad76dbb1-8e00-441f-9f6d-4ae5295babe1",
   "metadata": {},
   "outputs": [],
   "source": [
    "#circ_r = transpile(circ,basis_gates=['measure', 'x', 'y', 'z', 'rx', 'ry', 'rz', 'h', 'cx', 'swap'])\n",
    "    \n",
    "    from qbraid import circuit_wrapper\n",
    "    circ_wrap = circuit_wrapper(circ)\n",
    "    circ_fin = circ_wrap.transpile(\"braket\")\n",
    "    return circ_fin\n",
    " \n",
    "    #qbraid_aws_job = qbraid_aws_device.run(circ, shots=repcnt)\n",
    "    #return qbraid_aws_job"
   ]
  },
  {
   "cell_type": "code",
   "execution_count": 4,
   "id": "8aab2a5e-4065-4283-899a-422feb0f351d",
   "metadata": {},
   "outputs": [],
   "source": [
    "def batch_1():\n",
    "    env = [cirq.LineQubit(14),cirq.LineQubit(15),cirq.LineQubit(16),cirq.LineQubit(17),cirq.LineQubit(18),\\\n",
    "           cirq.LineQubit(19),cirq.LineQubit(20),cirq.LineQubit(21),cirq.LineQubit(22),cirq.LineQubit(23),\\\n",
    "           cirq.LineQubit(24)]\n",
    "    sys = [cirq.LineQubit(0),cirq.LineQubit(1),cirq.LineQubit(2),cirq.LineQubit(3),cirq.LineQubit(4),cirq.LineQubit(5),\\\n",
    "          cirq.LineQubit(6),cirq.LineQubit(7),cirq.LineQubit(8),cirq.LineQubit(9),cirq.LineQubit(10),cirq.LineQubit(11),\\\n",
    "          cirq.LineQubit(12),cirq.LineQubit(13)]\n",
    "    circ = cirq.Circuit()\n",
    "    \n",
    "    circ.append(zz_xx_pump(sys[0:2],env[0:2],probs[0],'00'))\n",
    "    circ.append(zz_xx_pump(sys[2:4],env[2:4],probs[0],'01'))\n",
    "    circ.append(zz_xx_pump(sys[4:6],env[4:6],probs[0],'10'))\n",
    "    circ.append(zz_xx_pump(sys[6:8],env[6:8],probs[0],'11'))\n",
    "    circ.append(zz_pump(sys[8:10],env[8:9],probs[0],'00'))\n",
    "    circ.append(zz_pump(sys[10:12],env[9:10],probs[0],'01'))\n",
    "    circ.append(zz_pump(sys[12:14],env[10:11],probs[0],'10'))\n",
    " \n",
    "    qbraid_aws_job = qbraid_aws_device.run(circ, shots=repcnt)\n",
    "    return qbraid_aws_job"
   ]
  },
  {
   "cell_type": "code",
   "execution_count": 5,
   "id": "6bca1476-086c-45d7-9327-e97fcecfee51",
   "metadata": {},
   "outputs": [],
   "source": [
    "def batch_2():\n",
    "    env = [cirq.LineQubit(14),cirq.LineQubit(15),cirq.LineQubit(16),cirq.LineQubit(17),cirq.LineQubit(18),\\\n",
    "           cirq.LineQubit(19),cirq.LineQubit(20),cirq.LineQubit(21),cirq.LineQubit(22),cirq.LineQubit(23),\\\n",
    "           cirq.LineQubit(24)]\n",
    "    sys = [cirq.LineQubit(0),cirq.LineQubit(1),cirq.LineQubit(2),cirq.LineQubit(3),cirq.LineQubit(4),cirq.LineQubit(5),\\\n",
    "          cirq.LineQubit(6),cirq.LineQubit(7),cirq.LineQubit(8),cirq.LineQubit(9),cirq.LineQubit(10),cirq.LineQubit(11),\\\n",
    "          cirq.LineQubit(12),cirq.LineQubit(13)]\n",
    "    circ = cirq.Circuit()\n",
    "    \n",
    "    circ.append(zz_xx_pump(sys[0:2],env[0:2],probs[1],'00'))\n",
    "    circ.append(zz_xx_pump(sys[2:4],env[2:4],probs[1],'01'))\n",
    "    circ.append(zz_xx_pump(sys[4:6],env[4:6],probs[1],'10'))\n",
    "    circ.append(zz_xx_pump(sys[6:8],env[6:8],probs[1],'11'))\n",
    "    circ.append(zz_pump(sys[8:10],env[8:9],probs[0],'11'))\n",
    "    circ.append(zz_pump(sys[10:12],env[9:10],probs[1],'00'))\n",
    "    circ.append(zz_pump(sys[12:14],env[10:11],probs[1],'01'))\n",
    " \n",
    "    qbraid_aws_job = qbraid_aws_device.run(circ, shots=repcnt)\n",
    "    return qbraid_aws_job"
   ]
  },
  {
   "cell_type": "code",
   "execution_count": null,
   "id": "aeeb940f-98cd-43f7-8267-116414c8c7ab",
   "metadata": {},
   "outputs": [],
   "source": [
    "def batch_3():\n",
    "    env = [cirq.LineQubit(14),cirq.LineQubit(15),cirq.LineQubit(16),cirq.LineQubit(17),cirq.LineQubit(18),\\\n",
    "           cirq.LineQubit(19),cirq.LineQubit(20),cirq.LineQubit(21),cirq.LineQubit(22),cirq.LineQubit(23),\\\n",
    "           cirq.LineQubit(24)]\n",
    "    sys = [cirq.LineQubit(0),cirq.LineQubit(1),cirq.LineQubit(2),cirq.LineQubit(3),cirq.LineQubit(4),cirq.LineQubit(5),\\\n",
    "          cirq.LineQubit(6),cirq.LineQubit(7),cirq.LineQubit(8),cirq.LineQubit(9),cirq.LineQubit(10),cirq.LineQubit(11),\\\n",
    "          cirq.LineQubit(12),cirq.LineQubit(13)]\n",
    "    circ = cirq.Circuit()\n",
    "    \n",
    "    circ.append(zz_xx_pump(sys[0:2],env[0:2],probs[2],'00'))\n",
    "    circ.append(zz_xx_pump(sys[2:4],env[2:4],probs[2],'01'))\n",
    "    circ.append(zz_xx_pump(sys[4:6],env[4:6],probs[2],'10'))\n",
    "    circ.append(zz_xx_pump(sys[6:8],env[6:8],probs[2],'11'))\n",
    "    circ.append(zz_pump(sys[8:10],env[8:9],probs[1],'10'))\n",
    "    circ.append(zz_pump(sys[10:12],env[9:10],probs[1],'11'))\n",
    "    circ.append(zz_pump(sys[12:14],env[10:11],probs[2],'00'))\n",
    " \n",
    "    qbraid_aws_job = qbraid_aws_device.run(circ, shots=repcnt)\n",
    "    return qbraid_aws_job"
   ]
  },
  {
   "cell_type": "code",
   "execution_count": null,
   "id": "a6180668-9ce2-4af0-8fb1-75280e469d38",
   "metadata": {},
   "outputs": [],
   "source": [
    "def batch_4():\n",
    "    env = [cirq.LineQubit(14),cirq.LineQubit(15),cirq.LineQubit(16),cirq.LineQubit(17),cirq.LineQubit(18),\\\n",
    "           cirq.LineQubit(19),cirq.LineQubit(20),cirq.LineQubit(21),cirq.LineQubit(22),cirq.LineQubit(23),\\\n",
    "           cirq.LineQubit(24)]\n",
    "    sys = [cirq.LineQubit(0),cirq.LineQubit(1),cirq.LineQubit(2),cirq.LineQubit(3),cirq.LineQubit(4),cirq.LineQubit(5),\\\n",
    "          cirq.LineQubit(6),cirq.LineQubit(7),cirq.LineQubit(8),cirq.LineQubit(9),cirq.LineQubit(10),cirq.LineQubit(11),\\\n",
    "          cirq.LineQubit(12),cirq.LineQubit(13)]\n",
    "    circ = cirq.Circuit()\n",
    "    \n",
    "    circ.append(zz_xx_pump(sys[0:2],env[0:2],probs[3],'00'))\n",
    "    circ.append(zz_xx_pump(sys[2:4],env[2:4],probs[3],'01'))\n",
    "    circ.append(zz_xx_pump(sys[4:6],env[4:6],probs[3],'10'))\n",
    "    circ.append(zz_xx_pump(sys[6:8],env[6:8],probs[3],'11'))\n",
    "    circ.append(zz_pump(sys[8:10],env[8:9],probs[2],'01'))\n",
    "    circ.append(zz_pump(sys[10:12],env[9:10],probs[2],'10'))\n",
    "    circ.append(zz_pump(sys[12:14],env[10:11],probs[2],'11'))\n",
    " \n",
    "    qbraid_aws_job = qbraid_aws_device.run(circ, shots=repcnt)\n",
    "    return qbraid_aws_job"
   ]
  },
  {
   "cell_type": "markdown",
   "id": "2a00db87-5c60-48f9-9a9b-7643e4e8d3ef",
   "metadata": {
    "tags": []
   },
   "source": [
    "# probs 0:"
   ]
  },
  {
   "cell_type": "code",
   "execution_count": 6,
   "id": "87da99fc-8b51-4044-9336-64c23630e2ec",
   "metadata": {},
   "outputs": [
    {
     "ename": "ValidationException",
     "evalue": "An error occurred (ValidationException) when calling the CreateQuantumTask operation (reached max retries: 4): [line 22] arbitrary unitary gates are not supported on the requested device",
     "output_type": "error",
     "traceback": [
      "\u001b[0;31m---------------------------------------------------------------------------\u001b[0m",
      "\u001b[0;31mValidationException\u001b[0m                       Traceback (most recent call last)",
      "Cell \u001b[0;32mIn[6], line 1\u001b[0m\n\u001b[0;32m----> 1\u001b[0m qjob_1_p0\u001b[38;5;241m=\u001b[39m \u001b[43mbatch_1\u001b[49m\u001b[43m(\u001b[49m\u001b[43mprobs\u001b[49m\u001b[43m[\u001b[49m\u001b[38;5;241;43m0\u001b[39;49m\u001b[43m]\u001b[49m\u001b[43m)\u001b[49m\n",
      "Cell \u001b[0;32mIn[4], line 10\u001b[0m, in \u001b[0;36mbatch_1\u001b[0;34m(p)\u001b[0m\n\u001b[1;32m      7\u001b[0m circ\u001b[38;5;241m.\u001b[39mappend(zz_xx_pump(sys[\u001b[38;5;241m2\u001b[39m:\u001b[38;5;241m4\u001b[39m],env[\u001b[38;5;241m2\u001b[39m:\u001b[38;5;241m4\u001b[39m],p,\u001b[38;5;124m'\u001b[39m\u001b[38;5;124m01\u001b[39m\u001b[38;5;124m'\u001b[39m))\n\u001b[1;32m      8\u001b[0m circ\u001b[38;5;241m.\u001b[39mappend(zz_pump(sys[\u001b[38;5;241m4\u001b[39m:\u001b[38;5;241m6\u001b[39m],env[\u001b[38;5;241m4\u001b[39m:\u001b[38;5;241m5\u001b[39m],p,\u001b[38;5;124m'\u001b[39m\u001b[38;5;124m00\u001b[39m\u001b[38;5;124m'\u001b[39m))\n\u001b[0;32m---> 10\u001b[0m qbraid_aws_job \u001b[38;5;241m=\u001b[39m \u001b[43mqbraid_aws_device\u001b[49m\u001b[38;5;241;43m.\u001b[39;49m\u001b[43mrun\u001b[49m\u001b[43m(\u001b[49m\u001b[43mcirc\u001b[49m\u001b[43m,\u001b[49m\u001b[43m \u001b[49m\u001b[43mshots\u001b[49m\u001b[38;5;241;43m=\u001b[39;49m\u001b[43mrepcnt\u001b[49m\u001b[43m)\u001b[49m\n\u001b[1;32m     11\u001b[0m \u001b[38;5;28;01mreturn\u001b[39;00m qbraid_aws_job\n",
      "File \u001b[0;32m~/.qbraid/environments/qbraid_sdk_9j9sjy/pyenv/lib/python3.9/site-packages/qbraid/devices/aws/device.py:241\u001b[0m, in \u001b[0;36mAwsDeviceWrapper.run\u001b[0;34m(self, run_input, *args, **kwargs)\u001b[0m\n\u001b[1;32m    239\u001b[0m \u001b[38;5;28;01mif\u001b[39;00m \u001b[38;5;124m\"\u001b[39m\u001b[38;5;124ms3_destination_folder\u001b[39m\u001b[38;5;124m\"\u001b[39m \u001b[38;5;129;01mnot\u001b[39;00m \u001b[38;5;129;01min\u001b[39;00m kwargs:\n\u001b[1;32m    240\u001b[0m     kwargs[\u001b[38;5;124m\"\u001b[39m\u001b[38;5;124ms3_destination_folder\u001b[39m\u001b[38;5;124m\"\u001b[39m] \u001b[38;5;241m=\u001b[39m \u001b[38;5;28mself\u001b[39m\u001b[38;5;241m.\u001b[39m_default_s3_folder\n\u001b[0;32m--> 241\u001b[0m aws_quantum_task \u001b[38;5;241m=\u001b[39m \u001b[38;5;28;43mself\u001b[39;49m\u001b[38;5;241;43m.\u001b[39;49m\u001b[43mvendor_dlo\u001b[49m\u001b[38;5;241;43m.\u001b[39;49m\u001b[43mrun\u001b[49m\u001b[43m(\u001b[49m\u001b[43mrun_input\u001b[49m\u001b[43m,\u001b[49m\u001b[43m \u001b[49m\u001b[38;5;241;43m*\u001b[39;49m\u001b[43margs\u001b[49m\u001b[43m,\u001b[49m\u001b[43m \u001b[49m\u001b[38;5;241;43m*\u001b[39;49m\u001b[38;5;241;43m*\u001b[39;49m\u001b[43mkwargs\u001b[49m\u001b[43m)\u001b[49m\n\u001b[1;32m    242\u001b[0m metadata \u001b[38;5;241m=\u001b[39m aws_quantum_task\u001b[38;5;241m.\u001b[39mmetadata()\n\u001b[1;32m    243\u001b[0m shots \u001b[38;5;241m=\u001b[39m \u001b[38;5;241m0\u001b[39m \u001b[38;5;28;01mif\u001b[39;00m \u001b[38;5;124m\"\u001b[39m\u001b[38;5;124mshots\u001b[39m\u001b[38;5;124m\"\u001b[39m \u001b[38;5;129;01mnot\u001b[39;00m \u001b[38;5;129;01min\u001b[39;00m metadata \u001b[38;5;28;01melse\u001b[39;00m metadata[\u001b[38;5;124m\"\u001b[39m\u001b[38;5;124mshots\u001b[39m\u001b[38;5;124m\"\u001b[39m]\n",
      "File \u001b[0;32m~/.qbraid/environments/qbraid_sdk_9j9sjy/pyenv/lib/python3.9/site-packages/braket/aws/aws_device.py:163\u001b[0m, in \u001b[0;36mAwsDevice.run\u001b[0;34m(self, task_specification, s3_destination_folder, shots, poll_timeout_seconds, poll_interval_seconds, inputs, *aws_quantum_task_args, **aws_quantum_task_kwargs)\u001b[0m\n\u001b[1;32m     91\u001b[0m \u001b[38;5;28;01mdef\u001b[39;00m \u001b[38;5;21mrun\u001b[39m(\n\u001b[1;32m     92\u001b[0m     \u001b[38;5;28mself\u001b[39m,\n\u001b[1;32m     93\u001b[0m     task_specification: Union[\n\u001b[0;32m   (...)\u001b[0m\n\u001b[1;32m    107\u001b[0m     \u001b[38;5;241m*\u001b[39m\u001b[38;5;241m*\u001b[39maws_quantum_task_kwargs,\n\u001b[1;32m    108\u001b[0m ) \u001b[38;5;241m-\u001b[39m\u001b[38;5;241m>\u001b[39m AwsQuantumTask:\n\u001b[1;32m    109\u001b[0m \u001b[38;5;250m    \u001b[39m\u001b[38;5;124;03m\"\"\"\u001b[39;00m\n\u001b[1;32m    110\u001b[0m \u001b[38;5;124;03m    Run a quantum task specification on this device. A task can be a circuit or an\u001b[39;00m\n\u001b[1;32m    111\u001b[0m \u001b[38;5;124;03m    annealing problem.\u001b[39;00m\n\u001b[0;32m   (...)\u001b[0m\n\u001b[1;32m    161\u001b[0m \u001b[38;5;124;03m        `braket.aws.aws_quantum_task.AwsQuantumTask.create()`\u001b[39;00m\n\u001b[1;32m    162\u001b[0m \u001b[38;5;124;03m    \"\"\"\u001b[39;00m\n\u001b[0;32m--> 163\u001b[0m     \u001b[38;5;28;01mreturn\u001b[39;00m \u001b[43mAwsQuantumTask\u001b[49m\u001b[38;5;241;43m.\u001b[39;49m\u001b[43mcreate\u001b[49m\u001b[43m(\u001b[49m\n\u001b[1;32m    164\u001b[0m \u001b[43m        \u001b[49m\u001b[38;5;28;43mself\u001b[39;49m\u001b[38;5;241;43m.\u001b[39;49m\u001b[43m_aws_session\u001b[49m\u001b[43m,\u001b[49m\n\u001b[1;32m    165\u001b[0m \u001b[43m        \u001b[49m\u001b[38;5;28;43mself\u001b[39;49m\u001b[38;5;241;43m.\u001b[39;49m\u001b[43m_arn\u001b[49m\u001b[43m,\u001b[49m\n\u001b[1;32m    166\u001b[0m \u001b[43m        \u001b[49m\u001b[43mtask_specification\u001b[49m\u001b[43m,\u001b[49m\n\u001b[1;32m    167\u001b[0m \u001b[43m        \u001b[49m\u001b[43ms3_destination_folder\u001b[49m\n\u001b[1;32m    168\u001b[0m \u001b[43m        \u001b[49m\u001b[38;5;129;43;01mor\u001b[39;49;00m\u001b[43m \u001b[49m\u001b[43m(\u001b[49m\n\u001b[1;32m    169\u001b[0m \u001b[43m            \u001b[49m\u001b[43mAwsSession\u001b[49m\u001b[38;5;241;43m.\u001b[39;49m\u001b[43mparse_s3_uri\u001b[49m\u001b[43m(\u001b[49m\u001b[43mos\u001b[49m\u001b[38;5;241;43m.\u001b[39;49m\u001b[43menviron\u001b[49m\u001b[38;5;241;43m.\u001b[39;49m\u001b[43mget\u001b[49m\u001b[43m(\u001b[49m\u001b[38;5;124;43m\"\u001b[39;49m\u001b[38;5;124;43mAMZN_BRAKET_TASK_RESULTS_S3_URI\u001b[39;49m\u001b[38;5;124;43m\"\u001b[39;49m\u001b[43m)\u001b[49m\u001b[43m)\u001b[49m\n\u001b[1;32m    170\u001b[0m \u001b[43m            \u001b[49m\u001b[38;5;28;43;01mif\u001b[39;49;00m\u001b[43m \u001b[49m\u001b[38;5;124;43m\"\u001b[39;49m\u001b[38;5;124;43mAMZN_BRAKET_TASK_RESULTS_S3_URI\u001b[39;49m\u001b[38;5;124;43m\"\u001b[39;49m\u001b[43m \u001b[49m\u001b[38;5;129;43;01min\u001b[39;49;00m\u001b[43m \u001b[49m\u001b[43mos\u001b[49m\u001b[38;5;241;43m.\u001b[39;49m\u001b[43menviron\u001b[49m\n\u001b[1;32m    171\u001b[0m \u001b[43m            \u001b[49m\u001b[38;5;28;43;01melse\u001b[39;49;00m\u001b[43m \u001b[49m\u001b[38;5;28;43;01mNone\u001b[39;49;00m\n\u001b[1;32m    172\u001b[0m \u001b[43m        \u001b[49m\u001b[43m)\u001b[49m\n\u001b[1;32m    173\u001b[0m \u001b[43m        \u001b[49m\u001b[38;5;129;43;01mor\u001b[39;49;00m\u001b[43m \u001b[49m\u001b[43m(\u001b[49m\u001b[38;5;28;43mself\u001b[39;49m\u001b[38;5;241;43m.\u001b[39;49m\u001b[43m_aws_session\u001b[49m\u001b[38;5;241;43m.\u001b[39;49m\u001b[43mdefault_bucket\u001b[49m\u001b[43m(\u001b[49m\u001b[43m)\u001b[49m\u001b[43m,\u001b[49m\u001b[43m \u001b[49m\u001b[38;5;124;43m\"\u001b[39;49m\u001b[38;5;124;43mtasks\u001b[39;49m\u001b[38;5;124;43m\"\u001b[39;49m\u001b[43m)\u001b[49m\u001b[43m,\u001b[49m\n\u001b[1;32m    174\u001b[0m \u001b[43m        \u001b[49m\u001b[43mshots\u001b[49m\u001b[43m \u001b[49m\u001b[38;5;28;43;01mif\u001b[39;49;00m\u001b[43m \u001b[49m\u001b[43mshots\u001b[49m\u001b[43m \u001b[49m\u001b[38;5;129;43;01mis\u001b[39;49;00m\u001b[43m \u001b[49m\u001b[38;5;129;43;01mnot\u001b[39;49;00m\u001b[43m \u001b[49m\u001b[38;5;28;43;01mNone\u001b[39;49;00m\u001b[43m \u001b[49m\u001b[38;5;28;43;01melse\u001b[39;49;00m\u001b[43m \u001b[49m\u001b[38;5;28;43mself\u001b[39;49m\u001b[38;5;241;43m.\u001b[39;49m\u001b[43m_default_shots\u001b[49m\u001b[43m,\u001b[49m\n\u001b[1;32m    175\u001b[0m \u001b[43m        \u001b[49m\u001b[43mpoll_timeout_seconds\u001b[49m\u001b[38;5;241;43m=\u001b[39;49m\u001b[43mpoll_timeout_seconds\u001b[49m\u001b[43m,\u001b[49m\n\u001b[1;32m    176\u001b[0m \u001b[43m        \u001b[49m\u001b[43mpoll_interval_seconds\u001b[49m\u001b[38;5;241;43m=\u001b[39;49m\u001b[43mpoll_interval_seconds\u001b[49m\u001b[43m \u001b[49m\u001b[38;5;129;43;01mor\u001b[39;49;00m\u001b[43m \u001b[49m\u001b[38;5;28;43mself\u001b[39;49m\u001b[38;5;241;43m.\u001b[39;49m\u001b[43m_poll_interval_seconds\u001b[49m\u001b[43m,\u001b[49m\n\u001b[1;32m    177\u001b[0m \u001b[43m        \u001b[49m\u001b[43minputs\u001b[49m\u001b[38;5;241;43m=\u001b[39;49m\u001b[43minputs\u001b[49m\u001b[43m,\u001b[49m\n\u001b[1;32m    178\u001b[0m \u001b[43m        \u001b[49m\u001b[38;5;241;43m*\u001b[39;49m\u001b[43maws_quantum_task_args\u001b[49m\u001b[43m,\u001b[49m\n\u001b[1;32m    179\u001b[0m \u001b[43m        \u001b[49m\u001b[38;5;241;43m*\u001b[39;49m\u001b[38;5;241;43m*\u001b[39;49m\u001b[43maws_quantum_task_kwargs\u001b[49m\u001b[43m,\u001b[49m\n\u001b[1;32m    180\u001b[0m \u001b[43m    \u001b[49m\u001b[43m)\u001b[49m\n",
      "File \u001b[0;32m~/.qbraid/environments/qbraid_sdk_9j9sjy/pyenv/lib/python3.9/site-packages/braket/aws/aws_quantum_task.py:182\u001b[0m, in \u001b[0;36mAwsQuantumTask.create\u001b[0;34m(aws_session, device_arn, task_specification, s3_destination_folder, shots, device_parameters, disable_qubit_rewiring, tags, inputs, *args, **kwargs)\u001b[0m\n\u001b[1;32m    177\u001b[0m     \u001b[38;5;28;01mif\u001b[39;00m unbounded_parameters:\n\u001b[1;32m    178\u001b[0m         \u001b[38;5;28;01mraise\u001b[39;00m \u001b[38;5;167;01mValueError\u001b[39;00m(\n\u001b[1;32m    179\u001b[0m             \u001b[38;5;124mf\u001b[39m\u001b[38;5;124m\"\u001b[39m\u001b[38;5;124mCannot execute circuit with unbound parameters: \u001b[39m\u001b[38;5;124m\"\u001b[39m \u001b[38;5;124mf\u001b[39m\u001b[38;5;124m\"\u001b[39m\u001b[38;5;132;01m{\u001b[39;00munbounded_parameters\u001b[38;5;132;01m}\u001b[39;00m\u001b[38;5;124m\"\u001b[39m\n\u001b[1;32m    180\u001b[0m         )\n\u001b[0;32m--> 182\u001b[0m \u001b[38;5;28;01mreturn\u001b[39;00m \u001b[43m_create_internal\u001b[49m\u001b[43m(\u001b[49m\n\u001b[1;32m    183\u001b[0m \u001b[43m    \u001b[49m\u001b[43mtask_specification\u001b[49m\u001b[43m,\u001b[49m\n\u001b[1;32m    184\u001b[0m \u001b[43m    \u001b[49m\u001b[43maws_session\u001b[49m\u001b[43m,\u001b[49m\n\u001b[1;32m    185\u001b[0m \u001b[43m    \u001b[49m\u001b[43mcreate_task_kwargs\u001b[49m\u001b[43m,\u001b[49m\n\u001b[1;32m    186\u001b[0m \u001b[43m    \u001b[49m\u001b[43mdevice_arn\u001b[49m\u001b[43m,\u001b[49m\n\u001b[1;32m    187\u001b[0m \u001b[43m    \u001b[49m\u001b[43mdevice_parameters\u001b[49m\u001b[43m \u001b[49m\u001b[38;5;129;43;01mor\u001b[39;49;00m\u001b[43m \u001b[49m\u001b[43m{\u001b[49m\u001b[43m}\u001b[49m\u001b[43m,\u001b[49m\n\u001b[1;32m    188\u001b[0m \u001b[43m    \u001b[49m\u001b[43mdisable_qubit_rewiring\u001b[49m\u001b[43m,\u001b[49m\n\u001b[1;32m    189\u001b[0m \u001b[43m    \u001b[49m\u001b[43minputs\u001b[49m\u001b[43m,\u001b[49m\n\u001b[1;32m    190\u001b[0m \u001b[43m    \u001b[49m\u001b[38;5;241;43m*\u001b[39;49m\u001b[43margs\u001b[49m\u001b[43m,\u001b[49m\n\u001b[1;32m    191\u001b[0m \u001b[43m    \u001b[49m\u001b[38;5;241;43m*\u001b[39;49m\u001b[38;5;241;43m*\u001b[39;49m\u001b[43mkwargs\u001b[49m\u001b[43m,\u001b[49m\n\u001b[1;32m    192\u001b[0m \u001b[43m\u001b[49m\u001b[43m)\u001b[49m\n",
      "File \u001b[0;32m/opt/conda/lib/python3.9/functools.py:888\u001b[0m, in \u001b[0;36msingledispatch.<locals>.wrapper\u001b[0;34m(*args, **kw)\u001b[0m\n\u001b[1;32m    884\u001b[0m \u001b[38;5;28;01mif\u001b[39;00m \u001b[38;5;129;01mnot\u001b[39;00m args:\n\u001b[1;32m    885\u001b[0m     \u001b[38;5;28;01mraise\u001b[39;00m \u001b[38;5;167;01mTypeError\u001b[39;00m(\u001b[38;5;124mf\u001b[39m\u001b[38;5;124m'\u001b[39m\u001b[38;5;132;01m{\u001b[39;00mfuncname\u001b[38;5;132;01m}\u001b[39;00m\u001b[38;5;124m requires at least \u001b[39m\u001b[38;5;124m'\u001b[39m\n\u001b[1;32m    886\u001b[0m                     \u001b[38;5;124m'\u001b[39m\u001b[38;5;124m1 positional argument\u001b[39m\u001b[38;5;124m'\u001b[39m)\n\u001b[0;32m--> 888\u001b[0m \u001b[38;5;28;01mreturn\u001b[39;00m \u001b[43mdispatch\u001b[49m\u001b[43m(\u001b[49m\u001b[43margs\u001b[49m\u001b[43m[\u001b[49m\u001b[38;5;241;43m0\u001b[39;49m\u001b[43m]\u001b[49m\u001b[38;5;241;43m.\u001b[39;49m\u001b[38;5;18;43m__class__\u001b[39;49m\u001b[43m)\u001b[49m\u001b[43m(\u001b[49m\u001b[38;5;241;43m*\u001b[39;49m\u001b[43margs\u001b[49m\u001b[43m,\u001b[49m\u001b[43m \u001b[49m\u001b[38;5;241;43m*\u001b[39;49m\u001b[38;5;241;43m*\u001b[39;49m\u001b[43mkw\u001b[49m\u001b[43m)\u001b[49m\n",
      "File \u001b[0;32m~/.qbraid/environments/qbraid_sdk_9j9sjy/pyenv/lib/python3.9/site-packages/braket/aws/aws_quantum_task.py:600\u001b[0m, in \u001b[0;36m_\u001b[0;34m(circuit, aws_session, create_task_kwargs, device_arn, device_parameters, disable_qubit_rewiring, inputs, *args, **kwargs)\u001b[0m\n\u001b[1;32m    589\u001b[0m     openqasm_program \u001b[38;5;241m=\u001b[39m OpenQASMProgram(\n\u001b[1;32m    590\u001b[0m         source\u001b[38;5;241m=\u001b[39mopenqasm_program\u001b[38;5;241m.\u001b[39msource,\n\u001b[1;32m    591\u001b[0m         inputs\u001b[38;5;241m=\u001b[39minputs_copy,\n\u001b[1;32m    592\u001b[0m     )\n\u001b[1;32m    594\u001b[0m create_task_kwargs\u001b[38;5;241m.\u001b[39mupdate(\n\u001b[1;32m    595\u001b[0m     {\n\u001b[1;32m    596\u001b[0m         \u001b[38;5;124m\"\u001b[39m\u001b[38;5;124maction\u001b[39m\u001b[38;5;124m\"\u001b[39m: openqasm_program\u001b[38;5;241m.\u001b[39mjson(),\n\u001b[1;32m    597\u001b[0m         \u001b[38;5;124m\"\u001b[39m\u001b[38;5;124mdeviceParameters\u001b[39m\u001b[38;5;124m\"\u001b[39m: device_parameters\u001b[38;5;241m.\u001b[39mjson(),\n\u001b[1;32m    598\u001b[0m     }\n\u001b[1;32m    599\u001b[0m )\n\u001b[0;32m--> 600\u001b[0m task_arn \u001b[38;5;241m=\u001b[39m \u001b[43maws_session\u001b[49m\u001b[38;5;241;43m.\u001b[39;49m\u001b[43mcreate_quantum_task\u001b[49m\u001b[43m(\u001b[49m\u001b[38;5;241;43m*\u001b[39;49m\u001b[38;5;241;43m*\u001b[39;49m\u001b[43mcreate_task_kwargs\u001b[49m\u001b[43m)\u001b[49m\n\u001b[1;32m    601\u001b[0m \u001b[38;5;28;01mreturn\u001b[39;00m AwsQuantumTask(task_arn, aws_session, \u001b[38;5;241m*\u001b[39margs, \u001b[38;5;241m*\u001b[39m\u001b[38;5;241m*\u001b[39mkwargs)\n",
      "File \u001b[0;32m~/.qbraid/environments/qbraid_sdk_9j9sjy/pyenv/lib/python3.9/site-packages/braket/aws/aws_session.py:223\u001b[0m, in \u001b[0;36mAwsSession.create_quantum_task\u001b[0;34m(self, **boto3_kwargs)\u001b[0m\n\u001b[1;32m    221\u001b[0m \u001b[38;5;28;01mif\u001b[39;00m job_token:\n\u001b[1;32m    222\u001b[0m     boto3_kwargs\u001b[38;5;241m.\u001b[39mupdate({\u001b[38;5;124m\"\u001b[39m\u001b[38;5;124mjobToken\u001b[39m\u001b[38;5;124m\"\u001b[39m: job_token})\n\u001b[0;32m--> 223\u001b[0m response \u001b[38;5;241m=\u001b[39m \u001b[38;5;28;43mself\u001b[39;49m\u001b[38;5;241;43m.\u001b[39;49m\u001b[43mbraket_client\u001b[49m\u001b[38;5;241;43m.\u001b[39;49m\u001b[43mcreate_quantum_task\u001b[49m\u001b[43m(\u001b[49m\u001b[38;5;241;43m*\u001b[39;49m\u001b[38;5;241;43m*\u001b[39;49m\u001b[43mboto3_kwargs\u001b[49m\u001b[43m)\u001b[49m\n\u001b[1;32m    224\u001b[0m broadcast_event(\n\u001b[1;32m    225\u001b[0m     _TaskCreationEvent(\n\u001b[1;32m    226\u001b[0m         arn\u001b[38;5;241m=\u001b[39mresponse[\u001b[38;5;124m\"\u001b[39m\u001b[38;5;124mquantumTaskArn\u001b[39m\u001b[38;5;124m\"\u001b[39m],\n\u001b[0;32m   (...)\u001b[0m\n\u001b[1;32m    230\u001b[0m     )\n\u001b[1;32m    231\u001b[0m )\n\u001b[1;32m    232\u001b[0m \u001b[38;5;28;01mreturn\u001b[39;00m response[\u001b[38;5;124m\"\u001b[39m\u001b[38;5;124mquantumTaskArn\u001b[39m\u001b[38;5;124m\"\u001b[39m]\n",
      "File \u001b[0;32m~/.qbraid/environments/qbraid_sdk_9j9sjy/pyenv/lib/python3.9/site-packages/botocore/client.py:530\u001b[0m, in \u001b[0;36mClientCreator._create_api_method.<locals>._api_call\u001b[0;34m(self, *args, **kwargs)\u001b[0m\n\u001b[1;32m    526\u001b[0m     \u001b[38;5;28;01mraise\u001b[39;00m \u001b[38;5;167;01mTypeError\u001b[39;00m(\n\u001b[1;32m    527\u001b[0m         \u001b[38;5;124mf\u001b[39m\u001b[38;5;124m\"\u001b[39m\u001b[38;5;132;01m{\u001b[39;00mpy_operation_name\u001b[38;5;132;01m}\u001b[39;00m\u001b[38;5;124m() only accepts keyword arguments.\u001b[39m\u001b[38;5;124m\"\u001b[39m\n\u001b[1;32m    528\u001b[0m     )\n\u001b[1;32m    529\u001b[0m \u001b[38;5;66;03m# The \"self\" in this scope is referring to the BaseClient.\u001b[39;00m\n\u001b[0;32m--> 530\u001b[0m \u001b[38;5;28;01mreturn\u001b[39;00m \u001b[38;5;28;43mself\u001b[39;49m\u001b[38;5;241;43m.\u001b[39;49m\u001b[43m_make_api_call\u001b[49m\u001b[43m(\u001b[49m\u001b[43moperation_name\u001b[49m\u001b[43m,\u001b[49m\u001b[43m \u001b[49m\u001b[43mkwargs\u001b[49m\u001b[43m)\u001b[49m\n",
      "File \u001b[0;32m~/.qbraid/environments/qbraid_sdk_9j9sjy/pyenv/lib/python3.9/site-packages/botocore/client.py:960\u001b[0m, in \u001b[0;36mBaseClient._make_api_call\u001b[0;34m(self, operation_name, api_params)\u001b[0m\n\u001b[1;32m    958\u001b[0m     error_code \u001b[38;5;241m=\u001b[39m parsed_response\u001b[38;5;241m.\u001b[39mget(\u001b[38;5;124m\"\u001b[39m\u001b[38;5;124mError\u001b[39m\u001b[38;5;124m\"\u001b[39m, {})\u001b[38;5;241m.\u001b[39mget(\u001b[38;5;124m\"\u001b[39m\u001b[38;5;124mCode\u001b[39m\u001b[38;5;124m\"\u001b[39m)\n\u001b[1;32m    959\u001b[0m     error_class \u001b[38;5;241m=\u001b[39m \u001b[38;5;28mself\u001b[39m\u001b[38;5;241m.\u001b[39mexceptions\u001b[38;5;241m.\u001b[39mfrom_code(error_code)\n\u001b[0;32m--> 960\u001b[0m     \u001b[38;5;28;01mraise\u001b[39;00m error_class(parsed_response, operation_name)\n\u001b[1;32m    961\u001b[0m \u001b[38;5;28;01melse\u001b[39;00m:\n\u001b[1;32m    962\u001b[0m     \u001b[38;5;28;01mreturn\u001b[39;00m parsed_response\n",
      "\u001b[0;31mValidationException\u001b[0m: An error occurred (ValidationException) when calling the CreateQuantumTask operation (reached max retries: 4): [line 22] arbitrary unitary gates are not supported on the requested device"
     ]
    }
   ],
   "source": [
    "qjob_1_p0= batch_1()"
   ]
  },
  {
   "cell_type": "code",
   "execution_count": null,
   "id": "aa71fba5-6def-4a5f-a305-a6e0423abaad",
   "metadata": {},
   "outputs": [],
   "source": [
    "# qjob_2_p0 = batch_2(probs[0])"
   ]
  },
  {
   "cell_type": "code",
   "execution_count": 10,
   "id": "67392abd-534a-4660-b6cf-04d78a1c4c5a",
   "metadata": {},
   "outputs": [
    {
     "data": {
      "text/html": [
       "<h3>Quantum Jobs</h3><table><tr>\n",
       "    <th style='text-align:left'>qBraid ID</th>\n",
       "    <th style='text-align:left'>Submitted</th>\n",
       "    <th style='text-align:left'>Status</th></tr>\n",
       "    <tr>\n",
       "        <td style='text-align:left'>aws_sv_sim-jessjohnbritto-qjob-u8nzibwhq9o7g5ga2fic</td>\n",
       "        <td style='text-align:left'>2023-05-04T21:33:29.416Z</td>\n",
       "        <td style='text-align:left'><span style='color:green'>COMPLETED</span></td></tr>\n",
       "        <tr><td colspan='4'; style='text-align:right'>Displaying 1/1 jobs matching query</td></tr></table>"
      ],
      "text/plain": [
       "<IPython.core.display.HTML object>"
      ]
     },
     "metadata": {},
     "output_type": "display_data"
    }
   ],
   "source": [
    "from qbraid import get_jobs\n",
    "get_jobs(filters={\"qbraidDeviceId\": \"aws_ionq\"})"
   ]
  },
  {
   "cell_type": "code",
   "execution_count": 6,
   "id": "7e39694e-bd16-4e8a-b2c6-b91532c3b005",
   "metadata": {},
   "outputs": [],
   "source": [
    "from qbraid import job_wrapper\n",
    "saved_job_id = 'aws_sv_sim-jessjohnbritto-qjob-u8nzibwhq9o7g5ga2fic'\n",
    "qjob = job_wrapper(saved_job_id)\n",
    "qresult = qjob.result()\n",
    "qresult.measurement_counts()"
   ]
  },
  {
   "cell_type": "code",
   "execution_count": 4,
   "id": "1ad60991-3089-4333-a563-21b61480ddd2",
   "metadata": {},
   "outputs": [],
   "source": [
    "resultsdict_1_p0 = {'0110001000111100011111111111111111': 1, '0011011000111101001111111111111111': 1, '0010011001111101001011111111111111': 1, '0110011001101001011011111111111111': 1, '0011011100111101001011111111111111': 1, '0011011100101100001011111111111111': 1, '0110011100101101001011111111111111': 1, '0011011100111100011111111111111111': 1, '0011001000111001001111111111111111': 1, '0010001101111001001011111111111111': 1, '0010011001101100011111111111111111': 1, '0110001001101001001111111111111111': 1, '0010001101111101011011111111111111': 1, '0110001001111001001111111111111111': 1, '0010001100101001011111111111111111': 1, '0111001000111101011111111111111111': 1, '0011011001101001001011111111111111': 1, '0011001100101100001011111111111111': 1, '0110011100111101011011111111111111': 1, '0111001100101100011111111111111111': 1, '0011001000101000011111111111111111': 1, '0110001001111000001011111111111111': 1, '0010001000111100011111111111111111': 1, '0111011100111100011011111111111111': 1, '0010011001101101011011111111111111': 1, '0010011001101001001011111111111111': 1, '0010011000101001001011111111111111': 1, '0011001100101101001111111111111111': 1, '0010011100101101001111111111111111': 1, '0111001101101100011111111111111111': 1, '0110001001111100001011111111111111': 1, '0011001101101101001011111111111111': 1, '0011011000111000001111111111111111': 1, '0011011000101101011011111111111111': 1, '0011011101111101011011111111111111': 1, '0011001000111101001111111111111111': 1, '0011001001101001011111111111111111': 1, '0011011100111100001011111111111111': 1, '0010001001101000001011111111111111': 1, '0011001001111101011111111111111111': 1, '0011001000111000011011111111111111': 1, '0111011000111100011011111111111111': 1, '0110011000101000011111111111111111': 1, '0011011101111100001111111111111111': 1, '0110001101111101001011111111111111': 1, '0110011101111000011111111111111111': 1, '0110011100111001001011111111111111': 1, '0110001100101001011011111111111111': 1, '0010001100111101001011111111111111': 1, '0010001100111101011011111111111111': 1, '0011001101101101001111111111111111': 1, '0010001100111101011111111111111111': 1, '0011001000101000001011111111111111': 1, '0110011000111001011111111111111111': 1, '0010011001101100011011111111111111': 1, '0111011100101100001111111111111111': 1, '0110001100101101011111111111111111': 1, '0111001001111000011111111111111111': 1, '0011011001111101011111111111111111': 1, '0111001100111101001011111111111111': 1, '0010011101101001001011111111111111': 1, '0110011001111000011011111111111111': 1, '0010011000101101001011111111111111': 1, '0111011101111000011111111111111111': 1, '0110011000101001011111111111111111': 1, '0010011000111100011111111111111111': 1, '0111001101111000011111111111111111': 1, '0011011001111001011011111111111111': 1, '0111001000101001011011111111111111': 1, '0111001100111101001111111111111111': 1, '0111011001111000001111111111111111': 1, '0011001001111001001111111111111111': 1, '0110001100111101001111111111111111': 1, '0011001000111000011111111111111111': 1, '0110001000111000011011111111111111': 1, '0110001000101100001111111111111111': 1, '0011001101101000011011111111111111': 1, '0111001000111000001111111111111111': 1, '0010001000111000001111111111111111': 1, '0010001001101000011011111111111111': 1, '0110011000111001001111111111111111': 1, '0111001100111001001011111111111111': 1, '0111001000111101011011111111111111': 1, '0011011100111000001011111111111111': 1, '0010011001111001011111111111111111': 1, '0111001000101101011011111111111111': 1, '0110001000101000001111111111111111': 1, '0111001000111100011011111111111111': 1, '0010001100101001011011111111111111': 1, '0011001000111001001011111111111111': 1, '0011001100101101001011111111111111': 1, '0111001101101101011011111111111111': 1, '0011001100101100011011111111111111': 1, '0111011001101100001111111111111111': 1, '0011011000111000011111111111111111': 1, '0110001000111000001111111111111111': 1, '0110001101101000001011111111111111': 1, '0111011101101000001111111111111111': 1, '0010001001111001011011111111111111': 1, '0010001101111000011111111111111111': 1}"
   ]
  },
  {
   "cell_type": "code",
   "execution_count": null,
   "id": "68678dd3-c055-42fc-adb7-7f0849737343",
   "metadata": {},
   "outputs": [],
   "source": [
    "## Batch-1 and 2 - ZZXX, ZZ00 and ZZ01\n",
    "zz00p1,zz01p1,zzxx00p1,zzxx01p1,zzxx10p1,zzxx11p1 = Counter(),Counter(),Counter(),Counter(),Counter(),Counter()\n",
    "\n",
    "def resul_analy(resultsdict_1_p0, resultsdict_2_p0):\n",
    "    for key,cnt in resultsdict_1_p0.items():\n",
    "        k1 = int(key[0:2],base=2)\n",
    "        k2 = int(key[2:4],base=2)\n",
    "        k3 = int(key[4:6],base=2)\n",
    "        zzxx00p1[k1]+=cnt\n",
    "        zzxx01p1[k2]+=cnt\n",
    "        zz00p1[k3]+=cnt\n",
    "\n",
    "    for key,cnt in resultsdict_2_p0.items():\n",
    "        k1 = int(key[0:2],base=2)\n",
    "        k2 = int(key[2:4],base=2)\n",
    "        k3 = int(key[4:6],base=2)\n",
    "        zzxx10p1[k1]+=cnt\n",
    "        zzxx11p1[k2]+=cnt\n",
    "        zz01p1[k3]+=cnt\n",
    "    \n",
    "    zzxxp1 = (zzxx00p1+zzxx01p1+zzxx10p1+zzxx11p1)\n",
    "    for key,cnt in zzxxp1.items():\n",
    "        zzxxp1[key] = cnt/(4*repcnt)\n",
    "    return zzxxp1, zz01p1, zz00p1"
   ]
  },
  {
   "cell_type": "code",
   "execution_count": 2,
   "id": "70b8ea56-1446-4407-a1b4-467079cecda3",
   "metadata": {},
   "outputs": [
    {
     "ename": "NameError",
     "evalue": "name 'Counter' is not defined",
     "output_type": "error",
     "traceback": [
      "\u001b[0;31m---------------------------------------------------------------------------\u001b[0m",
      "\u001b[0;31mNameError\u001b[0m                                 Traceback (most recent call last)",
      "Cell \u001b[0;32mIn[2], line 1\u001b[0m\n\u001b[0;32m----> 1\u001b[0m zz00p0,zz01p0,zz10p0,zz11p0 \u001b[38;5;241m=\u001b[39m \u001b[43mCounter\u001b[49m(),Counter(),Counter(),Counter()\n\u001b[1;32m      3\u001b[0m \u001b[38;5;28;01mfor\u001b[39;00m key,cnt \u001b[38;5;129;01min\u001b[39;00m resultsdict10\u001b[38;5;241m.\u001b[39mitems():\n\u001b[1;32m      4\u001b[0m     k1 \u001b[38;5;241m=\u001b[39m \u001b[38;5;28mint\u001b[39m(key[\u001b[38;5;241m5\u001b[39m:\u001b[38;5;241m7\u001b[39m],base\u001b[38;5;241m=\u001b[39m\u001b[38;5;241m2\u001b[39m)\n",
      "\u001b[0;31mNameError\u001b[0m: name 'Counter' is not defined"
     ]
    }
   ],
   "source": [
    "# ## ZZ Decoder\n",
    "# zz10p0,zz11p0 = Counter(),Counter(),Counter(),Counter()\n",
    "\n",
    "# for key,cnt in resultsdict10.items():\n",
    "#     k1 = int(key[5:7],base=2)\n",
    "#     k2 = int(key[11:13],base=2)\n",
    "#     k3 = int(key[13:15],base=2)\n",
    "#     k4 = int(key[15:17],base=2)\n",
    "#     zz00p0[k1]+=cnt\n",
    "#     zz01p0[k2]+=cnt\n",
    "#     zz10p0[k3]+=cnt\n",
    "#     zz11p0[k4]+=cnt\n",
    "# zzp0 = (zz00p0+zz01p0+zz10p0+zz11p0)\n",
    "# for key,cnt in zzp0.items():\n",
    "#     zzp0[key] = cnt/(4*repcnt)\n",
    "# print(zzp0)"
   ]
  },
  {
   "cell_type": "markdown",
   "id": "ce693516-d21b-458a-9c21-6ccb8670f54b",
   "metadata": {
    "jp-MarkdownHeadingCollapsed": true,
    "tags": []
   },
   "source": [
    "# probs 1:"
   ]
  },
  {
   "cell_type": "code",
   "execution_count": null,
   "id": "2b1d2947-649f-4901-8382-79e47e312b67",
   "metadata": {},
   "outputs": [],
   "source": [
    "# qjob_1_p1= batch_1(probs[1])"
   ]
  },
  {
   "cell_type": "code",
   "execution_count": null,
   "id": "4a5903d1-5692-4f63-9f69-d86db50bf083",
   "metadata": {},
   "outputs": [],
   "source": [
    "# qjob_2_p1=batch_2(probs[1])"
   ]
  },
  {
   "cell_type": "code",
   "execution_count": null,
   "id": "28216cd6-a899-46f0-8e50-b2edf4ed5b16",
   "metadata": {},
   "outputs": [],
   "source": [
    "from qbraid import get_jobs\n",
    "get_jobs(filters={\"qbraidDeviceId\": \"aws_ionq\"})"
   ]
  },
  {
   "cell_type": "code",
   "execution_count": null,
   "id": "80896610-8aee-49c6-b8a4-c90f7dca55bd",
   "metadata": {},
   "outputs": [],
   "source": [
    "from qbraid import job_wrapper\n",
    "saved_job_id = 'aws_sv_sim-jessjohnbritto-qjob-u8nzibwhq9o7g5ga2fic'\n",
    "qjob = job_wrapper(saved_job_id)\n",
    "qresult = qjob.result()\n",
    "qresult.measurement_counts()"
   ]
  },
  {
   "cell_type": "code",
   "execution_count": null,
   "id": "8a6e739a-b8e7-47a7-9eb1-eb81de8a9a84",
   "metadata": {},
   "outputs": [],
   "source": [
    "resultsdict_1_p0 = {'0110001000111100011111111111111111': 1, '0011011000111101001111111111111111': 1, '0010011001111101001011111111111111': 1, '0110011001101001011011111111111111': 1, '0011011100111101001011111111111111': 1, '0011011100101100001011111111111111': 1, '0110011100101101001011111111111111': 1, '0011011100111100011111111111111111': 1, '0011001000111001001111111111111111': 1, '0010001101111001001011111111111111': 1, '0010011001101100011111111111111111': 1, '0110001001101001001111111111111111': 1, '0010001101111101011011111111111111': 1, '0110001001111001001111111111111111': 1, '0010001100101001011111111111111111': 1, '0111001000111101011111111111111111': 1, '0011011001101001001011111111111111': 1, '0011001100101100001011111111111111': 1, '0110011100111101011011111111111111': 1, '0111001100101100011111111111111111': 1, '0011001000101000011111111111111111': 1, '0110001001111000001011111111111111': 1, '0010001000111100011111111111111111': 1, '0111011100111100011011111111111111': 1, '0010011001101101011011111111111111': 1, '0010011001101001001011111111111111': 1, '0010011000101001001011111111111111': 1, '0011001100101101001111111111111111': 1, '0010011100101101001111111111111111': 1, '0111001101101100011111111111111111': 1, '0110001001111100001011111111111111': 1, '0011001101101101001011111111111111': 1, '0011011000111000001111111111111111': 1, '0011011000101101011011111111111111': 1, '0011011101111101011011111111111111': 1, '0011001000111101001111111111111111': 1, '0011001001101001011111111111111111': 1, '0011011100111100001011111111111111': 1, '0010001001101000001011111111111111': 1, '0011001001111101011111111111111111': 1, '0011001000111000011011111111111111': 1, '0111011000111100011011111111111111': 1, '0110011000101000011111111111111111': 1, '0011011101111100001111111111111111': 1, '0110001101111101001011111111111111': 1, '0110011101111000011111111111111111': 1, '0110011100111001001011111111111111': 1, '0110001100101001011011111111111111': 1, '0010001100111101001011111111111111': 1, '0010001100111101011011111111111111': 1, '0011001101101101001111111111111111': 1, '0010001100111101011111111111111111': 1, '0011001000101000001011111111111111': 1, '0110011000111001011111111111111111': 1, '0010011001101100011011111111111111': 1, '0111011100101100001111111111111111': 1, '0110001100101101011111111111111111': 1, '0111001001111000011111111111111111': 1, '0011011001111101011111111111111111': 1, '0111001100111101001011111111111111': 1, '0010011101101001001011111111111111': 1, '0110011001111000011011111111111111': 1, '0010011000101101001011111111111111': 1, '0111011101111000011111111111111111': 1, '0110011000101001011111111111111111': 1, '0010011000111100011111111111111111': 1, '0111001101111000011111111111111111': 1, '0011011001111001011011111111111111': 1, '0111001000101001011011111111111111': 1, '0111001100111101001111111111111111': 1, '0111011001111000001111111111111111': 1, '0011001001111001001111111111111111': 1, '0110001100111101001111111111111111': 1, '0011001000111000011111111111111111': 1, '0110001000111000011011111111111111': 1, '0110001000101100001111111111111111': 1, '0011001101101000011011111111111111': 1, '0111001000111000001111111111111111': 1, '0010001000111000001111111111111111': 1, '0010001001101000011011111111111111': 1, '0110011000111001001111111111111111': 1, '0111001100111001001011111111111111': 1, '0111001000111101011011111111111111': 1, '0011011100111000001011111111111111': 1, '0010011001111001011111111111111111': 1, '0111001000101101011011111111111111': 1, '0110001000101000001111111111111111': 1, '0111001000111100011011111111111111': 1, '0010001100101001011011111111111111': 1, '0011001000111001001011111111111111': 1, '0011001100101101001011111111111111': 1, '0111001101101101011011111111111111': 1, '0011001100101100011011111111111111': 1, '0111011001101100001111111111111111': 1, '0011011000111000011111111111111111': 1, '0110001000111000001111111111111111': 1, '0110001101101000001011111111111111': 1, '0111011101101000001111111111111111': 1, '0010001001111001011011111111111111': 1, '0010001101111000011111111111111111': 1}"
   ]
  },
  {
   "cell_type": "code",
   "execution_count": null,
   "id": "4a50e60f-8470-4fec-9563-74de477fe5f4",
   "metadata": {},
   "outputs": [],
   "source": [
    "## Batch-1 and 2 - ZZXX, ZZ00 and ZZ01\n",
    "zz00p1,zz01p1,zzxx00p1,zzxx01p1,zzxx10p1,zzxx11p1 = Counter(),Counter(),Counter(),Counter(),Counter(),Counter()\n",
    "zzxxp1, zz01p1, zz00p1 = resul_analy(resultsdict_1_p0, resultsdict_2_p0)"
   ]
  },
  {
   "cell_type": "markdown",
   "id": "69d91d20-246d-4400-be2c-5235683e9538",
   "metadata": {
    "jp-MarkdownHeadingCollapsed": true,
    "tags": []
   },
   "source": [
    "# probs 2:"
   ]
  },
  {
   "cell_type": "code",
   "execution_count": null,
   "id": "920800ac-1442-48de-852a-3c39c6a9cede",
   "metadata": {},
   "outputs": [],
   "source": [
    "# qjob_1_p2=batch_1(probs[2])"
   ]
  },
  {
   "cell_type": "code",
   "execution_count": null,
   "id": "e4df2010-954b-46f0-bb96-3d8a6a5cc6c7",
   "metadata": {},
   "outputs": [],
   "source": [
    "# qjob_2_p2=batch_2(probs[2])"
   ]
  },
  {
   "cell_type": "code",
   "execution_count": null,
   "id": "c985a592-046d-4f82-8015-20c83380cb1a",
   "metadata": {},
   "outputs": [],
   "source": [
    "from qbraid import get_jobs\n",
    "get_jobs(filters={\"qbraidDeviceId\": \"aws_ionq\"})"
   ]
  },
  {
   "cell_type": "code",
   "execution_count": null,
   "id": "6c7b4e84-b1d8-418d-adac-d72afe1a30df",
   "metadata": {},
   "outputs": [],
   "source": [
    "from qbraid import job_wrapper\n",
    "saved_job_id = 'aws_sv_sim-jessjohnbritto-qjob-u8nzibwhq9o7g5ga2fic'\n",
    "qjob = job_wrapper(saved_job_id)\n",
    "qresult = qjob.result()\n",
    "qresult.measurement_counts()"
   ]
  },
  {
   "cell_type": "code",
   "execution_count": null,
   "id": "51a60a1f-92c2-479f-8c70-28f706974481",
   "metadata": {},
   "outputs": [],
   "source": [
    "resultsdict_1_p0 = {'0110001000111100011111111111111111': 1, '0011011000111101001111111111111111': 1, '0010011001111101001011111111111111': 1, '0110011001101001011011111111111111': 1, '0011011100111101001011111111111111': 1, '0011011100101100001011111111111111': 1, '0110011100101101001011111111111111': 1, '0011011100111100011111111111111111': 1, '0011001000111001001111111111111111': 1, '0010001101111001001011111111111111': 1, '0010011001101100011111111111111111': 1, '0110001001101001001111111111111111': 1, '0010001101111101011011111111111111': 1, '0110001001111001001111111111111111': 1, '0010001100101001011111111111111111': 1, '0111001000111101011111111111111111': 1, '0011011001101001001011111111111111': 1, '0011001100101100001011111111111111': 1, '0110011100111101011011111111111111': 1, '0111001100101100011111111111111111': 1, '0011001000101000011111111111111111': 1, '0110001001111000001011111111111111': 1, '0010001000111100011111111111111111': 1, '0111011100111100011011111111111111': 1, '0010011001101101011011111111111111': 1, '0010011001101001001011111111111111': 1, '0010011000101001001011111111111111': 1, '0011001100101101001111111111111111': 1, '0010011100101101001111111111111111': 1, '0111001101101100011111111111111111': 1, '0110001001111100001011111111111111': 1, '0011001101101101001011111111111111': 1, '0011011000111000001111111111111111': 1, '0011011000101101011011111111111111': 1, '0011011101111101011011111111111111': 1, '0011001000111101001111111111111111': 1, '0011001001101001011111111111111111': 1, '0011011100111100001011111111111111': 1, '0010001001101000001011111111111111': 1, '0011001001111101011111111111111111': 1, '0011001000111000011011111111111111': 1, '0111011000111100011011111111111111': 1, '0110011000101000011111111111111111': 1, '0011011101111100001111111111111111': 1, '0110001101111101001011111111111111': 1, '0110011101111000011111111111111111': 1, '0110011100111001001011111111111111': 1, '0110001100101001011011111111111111': 1, '0010001100111101001011111111111111': 1, '0010001100111101011011111111111111': 1, '0011001101101101001111111111111111': 1, '0010001100111101011111111111111111': 1, '0011001000101000001011111111111111': 1, '0110011000111001011111111111111111': 1, '0010011001101100011011111111111111': 1, '0111011100101100001111111111111111': 1, '0110001100101101011111111111111111': 1, '0111001001111000011111111111111111': 1, '0011011001111101011111111111111111': 1, '0111001100111101001011111111111111': 1, '0010011101101001001011111111111111': 1, '0110011001111000011011111111111111': 1, '0010011000101101001011111111111111': 1, '0111011101111000011111111111111111': 1, '0110011000101001011111111111111111': 1, '0010011000111100011111111111111111': 1, '0111001101111000011111111111111111': 1, '0011011001111001011011111111111111': 1, '0111001000101001011011111111111111': 1, '0111001100111101001111111111111111': 1, '0111011001111000001111111111111111': 1, '0011001001111001001111111111111111': 1, '0110001100111101001111111111111111': 1, '0011001000111000011111111111111111': 1, '0110001000111000011011111111111111': 1, '0110001000101100001111111111111111': 1, '0011001101101000011011111111111111': 1, '0111001000111000001111111111111111': 1, '0010001000111000001111111111111111': 1, '0010001001101000011011111111111111': 1, '0110011000111001001111111111111111': 1, '0111001100111001001011111111111111': 1, '0111001000111101011011111111111111': 1, '0011011100111000001011111111111111': 1, '0010011001111001011111111111111111': 1, '0111001000101101011011111111111111': 1, '0110001000101000001111111111111111': 1, '0111001000111100011011111111111111': 1, '0010001100101001011011111111111111': 1, '0011001000111001001011111111111111': 1, '0011001100101101001011111111111111': 1, '0111001101101101011011111111111111': 1, '0011001100101100011011111111111111': 1, '0111011001101100001111111111111111': 1, '0011011000111000011111111111111111': 1, '0110001000111000001111111111111111': 1, '0110001101101000001011111111111111': 1, '0111011101101000001111111111111111': 1, '0010001001111001011011111111111111': 1, '0010001101111000011111111111111111': 1}"
   ]
  },
  {
   "cell_type": "code",
   "execution_count": null,
   "id": "322030f6-1a9f-4f7d-be14-29beceec56a8",
   "metadata": {},
   "outputs": [],
   "source": [
    "## Batch-1 and 2 - ZZXX, ZZ00 and ZZ01\n",
    "zz00p2,zz01p2,zzxx00p2,zzxx01p2,zzxx10p2,zzxx11p2 = Counter(),Counter(),Counter(),Counter(),Counter(),Counter()\n",
    "zzxxp2, zz01p2, zz00p2 = resul_analy(resultsdict_1_p0, resultsdict_2_p0)"
   ]
  },
  {
   "cell_type": "markdown",
   "id": "96a62616-5fa7-420d-873a-1cb7379d0971",
   "metadata": {
    "jp-MarkdownHeadingCollapsed": true,
    "tags": []
   },
   "source": [
    "# probs 3:"
   ]
  },
  {
   "cell_type": "code",
   "execution_count": null,
   "id": "a546e9da-c54d-472e-91e3-f40d4d4b06da",
   "metadata": {},
   "outputs": [],
   "source": [
    "# qjob_1_p3=batch_1(probs[3])"
   ]
  },
  {
   "cell_type": "code",
   "execution_count": null,
   "id": "6996279a-1957-4171-bc53-a091e0ff0d59",
   "metadata": {},
   "outputs": [],
   "source": [
    "# qjob_2_p3=batch_2(probs[3])"
   ]
  },
  {
   "cell_type": "code",
   "execution_count": null,
   "id": "67f1f518-71fc-48d1-a3e4-d91f232e460b",
   "metadata": {},
   "outputs": [],
   "source": [
    "from qbraid import get_jobs\n",
    "get_jobs(filters={\"qbraidDeviceId\": \"aws_ionq\"})"
   ]
  },
  {
   "cell_type": "code",
   "execution_count": null,
   "id": "3401ec38-1ec4-499e-8c14-e3aa974a7413",
   "metadata": {},
   "outputs": [],
   "source": [
    "from qbraid import job_wrapper\n",
    "saved_job_id = 'aws_sv_sim-jessjohnbritto-qjob-u8nzibwhq9o7g5ga2fic'\n",
    "qjob = job_wrapper(saved_job_id)\n",
    "qresult = qjob.result()\n",
    "qresult.measurement_counts()"
   ]
  },
  {
   "cell_type": "code",
   "execution_count": null,
   "id": "0c32acec-33ca-425a-962c-065af1c19063",
   "metadata": {},
   "outputs": [],
   "source": [
    "resultsdict_1_p0 = {'0110001000111100011111111111111111': 1, '0011011000111101001111111111111111': 1, '0010011001111101001011111111111111': 1, '0110011001101001011011111111111111': 1, '0011011100111101001011111111111111': 1, '0011011100101100001011111111111111': 1, '0110011100101101001011111111111111': 1, '0011011100111100011111111111111111': 1, '0011001000111001001111111111111111': 1, '0010001101111001001011111111111111': 1, '0010011001101100011111111111111111': 1, '0110001001101001001111111111111111': 1, '0010001101111101011011111111111111': 1, '0110001001111001001111111111111111': 1, '0010001100101001011111111111111111': 1, '0111001000111101011111111111111111': 1, '0011011001101001001011111111111111': 1, '0011001100101100001011111111111111': 1, '0110011100111101011011111111111111': 1, '0111001100101100011111111111111111': 1, '0011001000101000011111111111111111': 1, '0110001001111000001011111111111111': 1, '0010001000111100011111111111111111': 1, '0111011100111100011011111111111111': 1, '0010011001101101011011111111111111': 1, '0010011001101001001011111111111111': 1, '0010011000101001001011111111111111': 1, '0011001100101101001111111111111111': 1, '0010011100101101001111111111111111': 1, '0111001101101100011111111111111111': 1, '0110001001111100001011111111111111': 1, '0011001101101101001011111111111111': 1, '0011011000111000001111111111111111': 1, '0011011000101101011011111111111111': 1, '0011011101111101011011111111111111': 1, '0011001000111101001111111111111111': 1, '0011001001101001011111111111111111': 1, '0011011100111100001011111111111111': 1, '0010001001101000001011111111111111': 1, '0011001001111101011111111111111111': 1, '0011001000111000011011111111111111': 1, '0111011000111100011011111111111111': 1, '0110011000101000011111111111111111': 1, '0011011101111100001111111111111111': 1, '0110001101111101001011111111111111': 1, '0110011101111000011111111111111111': 1, '0110011100111001001011111111111111': 1, '0110001100101001011011111111111111': 1, '0010001100111101001011111111111111': 1, '0010001100111101011011111111111111': 1, '0011001101101101001111111111111111': 1, '0010001100111101011111111111111111': 1, '0011001000101000001011111111111111': 1, '0110011000111001011111111111111111': 1, '0010011001101100011011111111111111': 1, '0111011100101100001111111111111111': 1, '0110001100101101011111111111111111': 1, '0111001001111000011111111111111111': 1, '0011011001111101011111111111111111': 1, '0111001100111101001011111111111111': 1, '0010011101101001001011111111111111': 1, '0110011001111000011011111111111111': 1, '0010011000101101001011111111111111': 1, '0111011101111000011111111111111111': 1, '0110011000101001011111111111111111': 1, '0010011000111100011111111111111111': 1, '0111001101111000011111111111111111': 1, '0011011001111001011011111111111111': 1, '0111001000101001011011111111111111': 1, '0111001100111101001111111111111111': 1, '0111011001111000001111111111111111': 1, '0011001001111001001111111111111111': 1, '0110001100111101001111111111111111': 1, '0011001000111000011111111111111111': 1, '0110001000111000011011111111111111': 1, '0110001000101100001111111111111111': 1, '0011001101101000011011111111111111': 1, '0111001000111000001111111111111111': 1, '0010001000111000001111111111111111': 1, '0010001001101000011011111111111111': 1, '0110011000111001001111111111111111': 1, '0111001100111001001011111111111111': 1, '0111001000111101011011111111111111': 1, '0011011100111000001011111111111111': 1, '0010011001111001011111111111111111': 1, '0111001000101101011011111111111111': 1, '0110001000101000001111111111111111': 1, '0111001000111100011011111111111111': 1, '0010001100101001011011111111111111': 1, '0011001000111001001011111111111111': 1, '0011001100101101001011111111111111': 1, '0111001101101101011011111111111111': 1, '0011001100101100011011111111111111': 1, '0111011001101100001111111111111111': 1, '0011011000111000011111111111111111': 1, '0110001000111000001111111111111111': 1, '0110001101101000001011111111111111': 1, '0111011101101000001111111111111111': 1, '0010001001111001011011111111111111': 1, '0010001101111000011111111111111111': 1}"
   ]
  },
  {
   "cell_type": "code",
   "execution_count": null,
   "id": "07628d2b-6c01-41a8-b9e9-2c96abf659a9",
   "metadata": {},
   "outputs": [],
   "source": [
    "## Batch-1 and 2 - ZZXX, ZZ00 and ZZ01\n",
    "zz00p3,zz01p3,zzxx00p3,zzxx01p3,zzxx10p3,zzxx11p3 = Counter(),Counter(),Counter(),Counter(),Counter(),Counter()\n",
    "zzxxp3, zz01p3, zz00p3 = resul_analy(resultsdict_1_p0, resultsdict_2_p0)"
   ]
  },
  {
   "cell_type": "markdown",
   "id": "cb6a62d1-a29e-4cb8-bfab-1b1a5401906d",
   "metadata": {
    "jp-MarkdownHeadingCollapsed": true,
    "tags": []
   },
   "source": [
    "# probs 4:"
   ]
  },
  {
   "cell_type": "code",
   "execution_count": null,
   "id": "4b008f14-6439-43d6-be1d-d0163da50027",
   "metadata": {},
   "outputs": [],
   "source": [
    "# qjob_1_p4=batch_1(probs[4])"
   ]
  },
  {
   "cell_type": "code",
   "execution_count": null,
   "id": "22715786-8101-4faa-b69f-8f2aff4797b5",
   "metadata": {},
   "outputs": [],
   "source": [
    "# qjob_2_p4=batch_2(probs[4])"
   ]
  },
  {
   "cell_type": "code",
   "execution_count": null,
   "id": "462a2d1f-d5fe-41f9-bc2a-87015ea161c4",
   "metadata": {},
   "outputs": [],
   "source": [
    "from qbraid import get_jobs\n",
    "get_jobs(filters={\"qbraidDeviceId\": \"aws_ionq\"})"
   ]
  },
  {
   "cell_type": "code",
   "execution_count": null,
   "id": "e49ebb41-77e2-49e8-b335-54a95e99921f",
   "metadata": {},
   "outputs": [],
   "source": [
    "from qbraid import job_wrapper\n",
    "saved_job_id = 'aws_sv_sim-jessjohnbritto-qjob-u8nzibwhq9o7g5ga2fic'\n",
    "qjob = job_wrapper(saved_job_id)\n",
    "qresult = qjob.result()\n",
    "qresult.measurement_counts()"
   ]
  },
  {
   "cell_type": "code",
   "execution_count": null,
   "id": "c86d9af9-cb88-422e-b24b-9c6630eb564b",
   "metadata": {},
   "outputs": [],
   "source": [
    "resultsdict_1_p0 = {'0110001000111100011111111111111111': 1, '0011011000111101001111111111111111': 1, '0010011001111101001011111111111111': 1, '0110011001101001011011111111111111': 1, '0011011100111101001011111111111111': 1, '0011011100101100001011111111111111': 1, '0110011100101101001011111111111111': 1, '0011011100111100011111111111111111': 1, '0011001000111001001111111111111111': 1, '0010001101111001001011111111111111': 1, '0010011001101100011111111111111111': 1, '0110001001101001001111111111111111': 1, '0010001101111101011011111111111111': 1, '0110001001111001001111111111111111': 1, '0010001100101001011111111111111111': 1, '0111001000111101011111111111111111': 1, '0011011001101001001011111111111111': 1, '0011001100101100001011111111111111': 1, '0110011100111101011011111111111111': 1, '0111001100101100011111111111111111': 1, '0011001000101000011111111111111111': 1, '0110001001111000001011111111111111': 1, '0010001000111100011111111111111111': 1, '0111011100111100011011111111111111': 1, '0010011001101101011011111111111111': 1, '0010011001101001001011111111111111': 1, '0010011000101001001011111111111111': 1, '0011001100101101001111111111111111': 1, '0010011100101101001111111111111111': 1, '0111001101101100011111111111111111': 1, '0110001001111100001011111111111111': 1, '0011001101101101001011111111111111': 1, '0011011000111000001111111111111111': 1, '0011011000101101011011111111111111': 1, '0011011101111101011011111111111111': 1, '0011001000111101001111111111111111': 1, '0011001001101001011111111111111111': 1, '0011011100111100001011111111111111': 1, '0010001001101000001011111111111111': 1, '0011001001111101011111111111111111': 1, '0011001000111000011011111111111111': 1, '0111011000111100011011111111111111': 1, '0110011000101000011111111111111111': 1, '0011011101111100001111111111111111': 1, '0110001101111101001011111111111111': 1, '0110011101111000011111111111111111': 1, '0110011100111001001011111111111111': 1, '0110001100101001011011111111111111': 1, '0010001100111101001011111111111111': 1, '0010001100111101011011111111111111': 1, '0011001101101101001111111111111111': 1, '0010001100111101011111111111111111': 1, '0011001000101000001011111111111111': 1, '0110011000111001011111111111111111': 1, '0010011001101100011011111111111111': 1, '0111011100101100001111111111111111': 1, '0110001100101101011111111111111111': 1, '0111001001111000011111111111111111': 1, '0011011001111101011111111111111111': 1, '0111001100111101001011111111111111': 1, '0010011101101001001011111111111111': 1, '0110011001111000011011111111111111': 1, '0010011000101101001011111111111111': 1, '0111011101111000011111111111111111': 1, '0110011000101001011111111111111111': 1, '0010011000111100011111111111111111': 1, '0111001101111000011111111111111111': 1, '0011011001111001011011111111111111': 1, '0111001000101001011011111111111111': 1, '0111001100111101001111111111111111': 1, '0111011001111000001111111111111111': 1, '0011001001111001001111111111111111': 1, '0110001100111101001111111111111111': 1, '0011001000111000011111111111111111': 1, '0110001000111000011011111111111111': 1, '0110001000101100001111111111111111': 1, '0011001101101000011011111111111111': 1, '0111001000111000001111111111111111': 1, '0010001000111000001111111111111111': 1, '0010001001101000011011111111111111': 1, '0110011000111001001111111111111111': 1, '0111001100111001001011111111111111': 1, '0111001000111101011011111111111111': 1, '0011011100111000001011111111111111': 1, '0010011001111001011111111111111111': 1, '0111001000101101011011111111111111': 1, '0110001000101000001111111111111111': 1, '0111001000111100011011111111111111': 1, '0010001100101001011011111111111111': 1, '0011001000111001001011111111111111': 1, '0011001100101101001011111111111111': 1, '0111001101101101011011111111111111': 1, '0011001100101100011011111111111111': 1, '0111011001101100001111111111111111': 1, '0011011000111000011111111111111111': 1, '0110001000111000001111111111111111': 1, '0110001101101000001011111111111111': 1, '0111011101101000001111111111111111': 1, '0010001001111001011011111111111111': 1, '0010001101111000011111111111111111': 1}"
   ]
  },
  {
   "cell_type": "code",
   "execution_count": null,
   "id": "73a7b0ad-9772-451b-855e-cc9d575bc5af",
   "metadata": {},
   "outputs": [],
   "source": [
    "## Batch-1 and 2 - ZZXX, ZZ00 and ZZ01\n",
    "zz00p4,zz01p4,zzxx00p4,zzxx01p4,zzxx10p4,zzxx11p4 = Counter(),Counter(),Counter(),Counter(),Counter(),Counter()\n",
    "zzxxp4, zz01p4, zz00p4 = resul_analy(resultsdict_1_p0, resultsdict_2_p0)"
   ]
  },
  {
   "cell_type": "code",
   "execution_count": 12,
   "id": "4e1e6803-d140-44be-925d-1de46699c079",
   "metadata": {},
   "outputs": [
    {
     "name": "stdout",
     "output_type": "stream",
     "text": [
      "Counter({1: 0.285, 0: 0.26, 2: 0.24, 3: 0.215})\n"
     ]
    }
   ],
   "source": [
    "# ## Batch-1 and 2 - ZZXX, ZZ00 and ZZ01\n",
    "# zz00p0,zz01p0,zzxx00p0,zzxx01p0,zzxx10p0,zzxx11p0 = Counter(),Counter(),Counter(),Counter(),Counter(),Counter()\n",
    "\n",
    "# for key,cnt in resultsdict_1_p0.items():\n",
    "#     k1 = int(key[0:2],base=2)\n",
    "#     k2 = int(key[2:4],base=2)\n",
    "#     k3 = int(key[4:5],base=2)\n",
    "#     zzxx00p0[k1]+=cnt\n",
    "#     zzxx01p0[k2]+=cnt\n",
    "#     zz00p0[k3]+=cnt\n",
    "\n",
    "# for key,cont in resultsdict_2_p0.items():\n",
    "#     k1 = int(key[0:2],base=2)\n",
    "#     k2 = int(key[2:4],base=2)\n",
    "#     k3 = int(key[4:5],base=2)\n",
    "#     zzxx10p0[k1]+=cnt\n",
    "#     zzxx11p0[k2]+=cnt\n",
    "#     zz01p0[k3]+=cnt\n",
    "    \n",
    "# zzxxp0 = (zzxx00p0+zzxx01p0+zzxx10p0+zzxx11p0)\n",
    "# for key,cnt in zzxxp0.items():\n",
    "#     zzxxp0[key] = cnt/(4*repcnt)\n",
    "# print(zzxxp0)"
   ]
  }
 ],
 "metadata": {
  "kernelspec": {
   "display_name": "Python 3 [Default]",
   "language": "python",
   "name": "python3"
  },
  "language_info": {
   "codemirror_mode": {
    "name": "ipython",
    "version": 3
   },
   "file_extension": ".py",
   "mimetype": "text/x-python",
   "name": "python",
   "nbconvert_exporter": "python",
   "pygments_lexer": "ipython3",
   "version": "3.11.6"
  }
 },
 "nbformat": 4,
 "nbformat_minor": 5
}
