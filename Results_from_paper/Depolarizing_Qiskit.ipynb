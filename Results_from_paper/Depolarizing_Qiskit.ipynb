{
 "cells": [
  {
   "cell_type": "code",
   "execution_count": 2,
   "id": "ba79414d-a071-4dae-a269-e5b479443355",
   "metadata": {},
   "outputs": [
    {
     "name": "stderr",
     "output_type": "stream",
     "text": [
      "C:\\Users\\barbi\\AppData\\Local\\Temp\\ipykernel_4760\\4040705355.py:14: DeprecationWarning: The qiskit.ignis package is deprecated and has been supersceded by the qiskit-experiments project. Refer to the migration guide: https://github.com/Qiskit/qiskit-ignis#migration-guide on how to migrate to the new project.\n",
      "  from qiskit.ignis.verification.tomography import state_tomography_circuits, StateTomographyFitter\n"
     ]
    }
   ],
   "source": [
    "import matplotlib.pyplot as plt\n",
    "import numpy as np\n",
    "\n",
    "# importing Qiskit\n",
    "import qiskit\n",
    "from qiskit import IBMQ, Aer\n",
    "from qiskit.providers.ibmq import least_busy\n",
    "from qiskit import QuantumCircuit, ClassicalRegister, QuantumRegister, transpile, assemble\n",
    "\n",
    "# import basic plot tools\n",
    "from qiskit.visualization import plot_histogram\n",
    "from numpy import random\n",
    "\n",
    "from qiskit.ignis.verification.tomography import state_tomography_circuits, StateTomographyFitter"
   ]
  },
  {
   "cell_type": "code",
   "execution_count": 3,
   "id": "b01f1f16",
   "metadata": {},
   "outputs": [],
   "source": [
    "def depolarizing_channel(q, p, system, ancillae):\n",
    "    \"\"\"Returns a QuantumCircuit implementing depolarizing channel on q[system]\n",
    "    \n",
    "    Args:\n",
    "        q (QuantumRegister): the register to use for the circuit\n",
    "        p (float): the probability for the channel between 0 and 1\n",
    "        system (int): index of the system qubit\n",
    "        ancillae (list): list of indices for the ancillary qubits\n",
    "        \n",
    "    Returns:\n",
    "        A QuantumCircuit object\n",
    "    \"\"\"\n",
    "    z = QuantumCircuit(q)\n",
    "    \n",
    "    theta = 0.5*np.arccos(1-(2*p))\n",
    "    \n",
    "    t1 = np.pi/4\n",
    "    t2 = np.pi/4\n",
    "    \n",
    "    z.ry(theta, q[ancillae[0]])\n",
    "    z.ry(theta, q[ancillae[1]])\n",
    "    z.ry(theta, q[ancillae[2]])\n",
    "    \n",
    "    z.ry(t1, q[system])\n",
    "    z.rz(t2, q[system])\n",
    "    \n",
    "    z.cx(q[ancillae[0]], q[system])\n",
    "    z.cy(q[ancillae[1]], q[system])\n",
    "    z.cz(q[ancillae[2]], q[system])\n",
    "    \n",
    "    return z"
   ]
  },
  {
   "cell_type": "code",
   "execution_count": 4,
   "id": "1857c95c",
   "metadata": {},
   "outputs": [
    {
     "data": {
      "image/png": "[encoded data removed]",
      "text/plain": [
       "<Figure size 387.597x325.08 with 1 Axes>"
      ]
     },
     "execution_count": 4,
     "metadata": {},
     "output_type": "execute_result"
    }
   ],
   "source": [
    "q = QuantumRegister(5,name = 'q')\n",
    "p = 0.5\n",
    "system = 2\n",
    "ancillae = [1,3,4]\n",
    "circuit = depolarizing_channel(q, p, system, ancillae)\n",
    "circuit.draw(output='mpl')"
   ]
  },
  {
   "cell_type": "code",
   "execution_count": 13,
   "id": "68f52f6a",
   "metadata": {},
   "outputs": [
    {
     "data": {
      "image/png": "[encoded data removed]",
      "text/plain": [
       "<Figure size 432x288 with 1 Axes>"
      ]
     },
     "metadata": {
      "needs_background": "light"
     },
     "output_type": "display_data"
    }
   ],
   "source": [
    "p = np.linspace(0,1.0,10)\n",
    "q = QuantumRegister(5,name = 'q')\n",
    "system = 2\n",
    "ancillae = [1,3,4]\n",
    "rho11, rho22, Rrho12, Irho12 = [], [], [], []\n",
    "for i in p:\n",
    "    circuit = depolarizing_channel(q, i, system, ancillae)\n",
    "    qst_bell = state_tomography_circuits(circuit, q[system])\n",
    "    job = qiskit.execute(qst_bell, Aer.get_backend('qasm_simulator'), shots=5000)\n",
    "    tomo_fitter_bell = StateTomographyFitter(job.result(), qst_bell)\n",
    "    rho = tomo_fitter_bell.fit(method='lstsq')\n",
    "    rho11.append(rho[0,0])\n",
    "    rho22.append(rho[1,1])\n",
    "    Rrho12.append(np.real(rho[0,1]))\n",
    "    Irho12.append(np.imag(rho[0,1]))\n",
    "\n",
    "plt.scatter(p, rho11, label=\"rho11\")\n",
    "plt.scatter(p, rho22, label=\"rho22\")\n",
    "plt.scatter(p, Rrho12, label=\"Rrho12\")\n",
    "plt.scatter(p, Irho12, label=\"Irho12\")\n",
    "plt.legend()\n",
    "plt.show()"
   ]
  }
 ],
 "metadata": {
  "kernelspec": {
   "display_name": "Python 3 (ipykernel)",
   "language": "python",
   "name": "python3"
  },
  "language_info": {
   "codemirror_mode": {
    "name": "ipython",
    "version": 3
   },
   "file_extension": ".py",
   "mimetype": "text/x-python",
   "name": "python",
   "nbconvert_exporter": "python",
   "pygments_lexer": "ipython3",
   "version": "3.9.12"
  }
 },
 "nbformat": 4,
 "nbformat_minor": 5
}
