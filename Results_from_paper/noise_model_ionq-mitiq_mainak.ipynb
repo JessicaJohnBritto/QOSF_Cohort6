{
 "cells": [
  {
   "cell_type": "markdown",
   "id": "20232de4-b05b-4f3d-828c-240287f43485",
   "metadata": {
    "tags": []
   },
   "source": [
    "<h1>Definitions</h1>"
   ]
  },
  {
   "cell_type": "code",
   "execution_count": 5,
   "id": "8afb4123-f65f-44fc-a981-d6732e5b6375",
   "metadata": {},
   "outputs": [],
   "source": [
    "import numpy as np\n",
    "import matplotlib.pyplot as plt\n",
    "import qiskit\n",
    "from qiskit import IBMQ, Aer,QuantumCircuit, ClassicalRegister, QuantumRegister, transpile, assemble\n",
    "from qiskit.quantum_info import Kraus, SuperOp\n",
    "from qiskit_aer import AerSimulator\n",
    "from qiskit.tools.visualization import plot_histogram\n",
    "# Import from Qiskit Aer noise module\n",
    "from qiskit_aer.noise import (NoiseModel, QuantumError, ReadoutError,\n",
    "    pauli_error, depolarizing_error, thermal_relaxation_error)\n",
    "import cvxpy\n",
    "import mitiq"
   ]
  },
  {
   "cell_type": "code",
   "execution_count": 3,
   "id": "e6702e36-e7e6-47a8-ac01-5270733be001",
   "metadata": {},
   "outputs": [],
   "source": [
    "def noisem(prob_2q):\n",
    "    #Create noise model\n",
    "    noisemodel = NoiseModel()\n",
    "    #Define times and probabilities\n",
    "    prob_1q = 1-0.9969\n",
    "    # prob_2q = 1-0.9773\n",
    "    time_t1 = 10000*1e9\n",
    "    time_t2 = 0.2*1e9\n",
    "    time_1q = 0.00001*1e9\n",
    "    time_2q = 0.0002*1e9\n",
    "    time_measure = 0.00013*1e9\n",
    "    time_reset = 0.00002*1e9\n",
    "    #Define errors\n",
    "    # error_reset = thermal_relaxation_error(time_t1, time_t2, time_reset)\n",
    "    # error_meas = thermal_relaxation_error(time_t1, time_t2, time_measure)\n",
    "    # error_1q  = thermal_relaxation_error(time_t1, time_t2, time_1q)\n",
    "    # error_2q = thermal_relaxation_error(time_t1, time_t2, time_2q).expand(\n",
    "    #              thermal_relaxation_error(time_t1, time_t2, time_2q))\n",
    "    error_1 = depolarizing_error(prob_1q, 1)\n",
    "    error_2 = depolarizing_error(prob_2q, 2)\n",
    "    #Add errors to noise model\n",
    "    # noisemodel.add_all_qubit_quantum_error(error_reset, \"reset\")\n",
    "    # noisemodel.add_all_qubit_quantum_error(error_meas, \"measure\")\n",
    "    # noisemodel.add_all_qubit_quantum_error(error_1q, ['h','rz'])\n",
    "    # noisemodel.add_all_qubit_quantum_error(error_2q, ['cx'])\n",
    "    noisemodel.add_all_qubit_quantum_error(error_1, ['h', 'rz'])\n",
    "    noisemodel.add_all_qubit_quantum_error(error_2, ['cx'])\n",
    "    basis_gates = noisemodel.basis_gates\n",
    "\n",
    "    return noisemodel, basis_gates"
   ]
  },
  {
   "cell_type": "code",
   "execution_count": 4,
   "id": "a9934556-fa03-4d0b-93d9-2b203fed6580",
   "metadata": {},
   "outputs": [],
   "source": [
    "def wrapper(noisemodel, basis_gates, circlogic,noisy_or_perfect,do_not_plot='false', **kwargs):\n",
    "    if noisy_or_perfect=='perfect':\n",
    "        return circlogic(None,None,do_not_plot,**kwargs)\n",
    "    elif noisy_or_perfect=='noisy':\n",
    "        return circlogic(basis_gates,noisemodel,do_not_plot,**kwargs)\n",
    "    else:\n",
    "        print('Wrong argument to noisy_or_perfect')"
   ]
  },
  {
   "cell_type": "markdown",
   "id": "bf35f927-bf24-4f8a-b457-fea176101437",
   "metadata": {
    "jp-MarkdownHeadingCollapsed": true,
    "tags": []
   },
   "source": [
    "<h1>Markovian reservoir engineering</h1>"
   ]
  },
  {
   "cell_type": "code",
   "execution_count": 6,
   "id": "d8426c2b-f5e1-42e5-a2f6-c587516a9f34",
   "metadata": {},
   "outputs": [],
   "source": [
    "def zz_pump(q, c, p, system, ancilla, ini):\n",
    "    z = QuantumCircuit(q, c)\n",
    "    if ini == \"01\":\n",
    "        z.x(q[system[0]])\n",
    "    elif ini == \"10\":\n",
    "        z.x(q[system[1]])\n",
    "    elif ini == \"11\":\n",
    "        z.x(q[system[0]])\n",
    "        z.x(q[system[1]])\n",
    "    \n",
    "    z.cx(q[system[0]], q[system[1]])\n",
    "    z.x(q[ancilla[0]])\n",
    "    z.cx(q[system[1]], q[ancilla[0]])\n",
    "    \n",
    "    theta = 2 * np.arcsin(np.sqrt(p))\n",
    "    \n",
    "    z.cu(theta, 0.0, 0.0, 0.0, q[ancilla[0]], q[system[1]])\n",
    "    \n",
    "    z.cx(q[system[1]], q[ancilla[0]])\n",
    "    #z.cx(q[system[0]], q[system[1]])\n",
    "    z.h(q[system[0]])\n",
    "    z.measure(q[system[0]], c[0])\n",
    "    z.measure(q[system[1]], c[1])\n",
    "    return z  "
   ]
  },
  {
   "cell_type": "code",
   "execution_count": 7,
   "id": "c63ed71b-316d-4299-a90a-6b03422deb41",
   "metadata": {},
   "outputs": [],
   "source": [
    "def zz_xx_pump(q, c, p, system, ancillae, ini):\n",
    "    zx = QuantumCircuit(q, c)\n",
    "    if ini == \"01\":\n",
    "        zx.x(q[system[0]])\n",
    "    elif ini == \"10\":\n",
    "        zx.x(q[system[1]])\n",
    "    elif ini == \"11\":\n",
    "        zx.x(q[system[0]])\n",
    "        zx.x(q[system[1]])\n",
    "        \n",
    "    zx.cx(q[system[0]], q[system[1]])\n",
    "    zx.x(q[ancillae[0]])\n",
    "    zx.cx(q[system[1]], q[ancillae[0]])\n",
    "    \n",
    "    theta = 2 * np.arcsin(np.sqrt(p))\n",
    "    zx.cu(theta, 0.0, 0.0, 0.0, q[ancillae[0]], q[system[1]])\n",
    "    \n",
    "    zx.cx(q[system[1]], q[ancillae[0]])\n",
    "    \n",
    "    zx.h(q[system[0]])\n",
    "    zx.x(q[ancillae[1]])\n",
    "    zx.cx(q[system[0]], q[ancillae[1]])\n",
    "    \n",
    "    zx.cu(theta, 0.0, 0.0, 0.0, q[ancillae[1]], q[system[0]])\n",
    "    \n",
    "    zx.cx(q[system[0]], q[ancillae[1]])\n",
    "    \n",
    "    zx.measure(q[system[0]], c[0])\n",
    "    zx.measure(q[system[1]], c[1])\n",
    "    \n",
    "    return zx"
   ]
  },
  {
   "cell_type": "code",
   "execution_count": 8,
   "id": "738232ae-a6db-4fa8-a44c-0e8c863308be",
   "metadata": {},
   "outputs": [],
   "source": [
    "def circ_markovian(basis_gates,noise_model,do_not_plot,**kwargs):\n",
    "    # use local simulator\n",
    "\n",
    "    shots = kwargs.get('shots')\n",
    "    p = np.linspace(0,1.0,5)\n",
    "    dict = {}\n",
    "    a = [[0] * 4 for i in range(len(p))]\n",
    "    b = [[0] * len(p) for i in range(4)]\n",
    "\n",
    "\n",
    "    labels = ['00', '01', '10', '11']\n",
    "    qq = None\n",
    "    for inis in labels:\n",
    "        k=0\n",
    "        for i in p:\n",
    "            q = QuantumRegister(5, name='q')\n",
    "            c = ClassicalRegister(2, name='c')\n",
    "            circ = kwargs.get('pump')(q, c,i, [2,1], [0,4], inis)\n",
    "            qq = circ\n",
    "            job = qiskit.execute(circ, Aer.get_backend('qasm_simulator'),basis_gates=basis_gates,noise_model=noise_model, shots=kwargs.get('shots'))\n",
    "            counts = job.result().get_counts() \n",
    "            answer = {'00':0,'01':0,'10':0,'11':0}\n",
    "            labels = list(answer.keys())\n",
    "            for key,value in counts.items():\n",
    "                answer[key] = value\n",
    "            for j in range(4):\n",
    "                a[k][j] = answer[labels[j]]/kwargs.get('shots')\n",
    "            k=k+1\n",
    "        # Plotting\n",
    "        for l in range(4):\n",
    "            for m in range(5):\n",
    "                b[l][m] = b[l][m]+a[m][l]\n",
    "        # print(b)\n",
    "\n",
    "    if do_not_plot=='false':\n",
    "        plt.title(kwargs.get('plot_title'))\n",
    "        plt.scatter(p,(np.asarray(b[0]))/4, label=\"00| phi+\")\n",
    "        plt.scatter(p,(np.asarray(b[1]))/4,  label=\"01| phi-\")\n",
    "        plt.scatter(p,(np.asarray(b[2]))/4,  label=\"10| psi+\")\n",
    "        plt.scatter(p,(np.asarray(b[3]))/4,  label=\"11| psi-\")\n",
    "        plt.legend()\n",
    "        plt.show()\n",
    "    return qq"
   ]
  },
  {
   "cell_type": "code",
   "execution_count": 9,
   "id": "ac9dcc17-86f5-4eb4-9682-dfa77cc0a5b2",
   "metadata": {},
   "outputs": [
    {
     "name": "stdout",
     "output_type": "stream",
     "text": [
      "Wrong argument to noisy_or_perfect\n",
      "Wrong argument to noisy_or_perfect\n",
      "Wrong argument to noisy_or_perfect\n",
      "Wrong argument to noisy_or_perfect\n"
     ]
    }
   ],
   "source": [
    "for i in np.linspace(0.0, 1-0.9773, num = 4):\n",
    "    noisemodel, basis_gates = noisem(i)\n",
    "    qq = wrapper(noisemodel, basis_gates,circ_markovian,'',plot_title='Perfect',shots=1024,pump=zz_pump)"
   ]
  },
  {
   "cell_type": "markdown",
   "id": "448106ef-a6df-4151-975a-e0e9e92f132b",
   "metadata": {
    "jp-MarkdownHeadingCollapsed": true,
    "tags": []
   },
   "source": [
    "<h1>Collisional model</h1>"
   ]
  },
  {
   "cell_type": "markdown",
   "id": "2061b741-d0dd-44e9-9c5f-c1451c633321",
   "metadata": {
    "tags": []
   },
   "source": [
    "<h2>Correlated case</h2>"
   ]
  },
  {
   "cell_type": "code",
   "execution_count": 15,
   "id": "f5804740-e438-4f86-a5f6-d32cbe003479",
   "metadata": {},
   "outputs": [],
   "source": [
    "def corr(q, c, system, ancillae, g, t, i):\n",
    "    coA = QuantumCircuit(q,c)\n",
    "    \n",
    "    # State Preparation\n",
    "    coA.h(q[system])\n",
    "    coA.h(q[ancillae[2]])\n",
    "    coA.cnot(q[ancillae[2]],q[ancillae[1]])\n",
    "    coA.cnot(q[ancillae[2]],q[ancillae[0]])\n",
    "    \n",
    "    # Collisions between the system and ancilla qubits\n",
    "    for j in range(1, i+1, 1):\n",
    "        if j%2 != 0:\n",
    "            coA.cnot(q[ancillae[0]],q[system])\n",
    "            coA.rz(t, q[system])\n",
    "            coA.cnot(q[ancillae[0]],q[system])\n",
    "        else:\n",
    "            coA.cnot(q[ancillae[1]],q[system])\n",
    "            coA.rz(t, q[system])\n",
    "            coA.cnot(q[ancillae[1]],q[system])\n",
    "    \n",
    "    coA.h(q[system])\n",
    "    # op = qi.Operator(coA)\n",
    "    # array = op.data\n",
    "    # print(array)\n",
    "    \n",
    "    coA.measure(q[system],c[0])\n",
    "        \n",
    "    # return coA, array\n",
    "    return coA"
   ]
  },
  {
   "cell_type": "code",
   "execution_count": 40,
   "id": "e3bf85a2-c48c-4d5e-a19e-b111808a3d64",
   "metadata": {},
   "outputs": [],
   "source": [
    "def circ_correlate(basis_gates,noise_model,do_not_plot,**kwargs):\n",
    "    q = QuantumRegister(4,name = 'q')\n",
    "    c = ClassicalRegister(1, name = 'c')\n",
    "    system = 0\n",
    "    ancillae = [1, 2, 3]\n",
    "    rho_12, T = [], []\n",
    "    n = kwargs.get('collisions')\n",
    "    tt = np.pi/6\n",
    "    g = 1\n",
    "    t = g*(tt)\n",
    "    numcx = []\n",
    "    gatedepth = []\n",
    "    for i in range(1,n+1,1):\n",
    "        circ = corr(q, c, system, ancillae, g, tt, i)\n",
    "        numcx.append(circ.count_ops()['cx'])\n",
    "        gatedepth.append(circ.depth())\n",
    "        T.append(i*t)\n",
    "        job = qiskit.execute(circ, Aer.get_backend('qasm_simulator'),basis_gates=basis_gates,noise_model=noise_model, shots=kwargs.get('shots'))\n",
    "        counts = job.result().get_counts()  \n",
    "        rho_12.append((counts.get('0',0)-counts.get('1',0))/(2*(counts.get('0',0)+counts.get('1',0))))\n",
    "    def corrfunc(time):\n",
    "        return (np.cos(time/2)**2-np.sin(time/2)**2)/2\n",
    "\n",
    "    abserr = [abs(rho_12[i]-corrfunc(T[i])) for i in range(len(numcx))]\n",
    "\n",
    "    x_ax = np.linspace(0,T[-1],num=1000)\n",
    "    if do_not_plot=='false':\n",
    "        plt.scatter(T, np.real(rho_12),label='Simulation')\n",
    "        plt.title(kwargs.get('plot_title'))\n",
    "        plt.plot(x_ax,corrfunc(x_ax),linestyle='--',label='Theoretical')\n",
    "        plt.legend()\n",
    "        plt.show()\n",
    "    return numcx,gatedepth,abserr, rho_12"
   ]
  },
  {
   "cell_type": "code",
   "execution_count": 41,
   "id": "5ddcacf3-0803-49c5-bb6f-8e9b4bfd2842",
   "metadata": {},
   "outputs": [],
   "source": [
    "from mitiq.zne import execute_with_zne\n",
    "from mitiq import zne\n",
    "def corr_circ(basis_gates,noise_model,do_not_plot,**kwargs):\n",
    "    q = QuantumRegister(4,name = 'q')\n",
    "    c = ClassicalRegister(1, name = 'c')\n",
    "    system = 0\n",
    "    ancillae = [1, 2, 3]\n",
    "    rho_12, T = [], []\n",
    "    n = kwargs.get('collisions')\n",
    "    tt = np.pi/6\n",
    "    g = 1\n",
    "    t = g*(tt)\n",
    "    numcx = []\n",
    "    gatedepth = []\n",
    "    znee = []\n",
    "    for i in range(1,n+1,1):\n",
    "        circ = corr(q, c, system, ancillae, g, tt, i)\n",
    "        circ2 = corr(q, c, system, ancillae, g, tt, i)\n",
    "        numcx.append(circ.count_ops()['cx'])\n",
    "        gatedepth.append(circ.depth())\n",
    "        T.append(i*t)\n",
    "        job = qiskit.execute(circ, Aer.get_backend('qasm_simulator'),basis_gates=basis_gates,noise_model=noise_model, shots=kwargs.get('shots'))\n",
    "        counts = job.result().get_counts()  \n",
    "        def executor ( circ : mitiq.QPROGRAM, counts = counts) -> float:\n",
    "            return (counts.get('0',0)-counts.get('1',0))/(2*(counts.get('0',0)+counts.get('1',0)))\n",
    "        \n",
    "        zne_value = execute_with_zne (circ, \n",
    "                              executor, \n",
    "                              scale_noise=zne.scaling.fold_global)\n",
    "        znee.append(zne_value)\n",
    "    return znee"
   ]
  },
  {
   "cell_type": "code",
   "execution_count": 42,
   "id": "749f68b2-b447-42e6-8384-58f82728143f",
   "metadata": {},
   "outputs": [
    {
     "name": "stdout",
     "output_type": "stream",
     "text": [
      "*****\n",
      "[0.43359375, 0.22656249999999986, -0.023437499999999972, -0.27343749999999983, -0.4023437499999995, -0.49999999999999883, -0.4179687499999993, -0.25390624999999956, 0.027343750000000003, 0.2070312499999997, 0.43359375, 0.49999999999999883, 0.42578124999999967, 0.26562499999999983, -0.03515624999999996, -0.24218749999999992, -0.43359375, -0.49999999999999883, -0.43750000000000006, -0.23828124999999958]\n",
      "20\n"
     ]
    }
   ],
   "source": [
    "noisemodel, basis_gates = noisem(0.9773)\n",
    "znee = wrapper(noisemodel, basis_gates, corr_circ,'perfect',plot_title='Perfect',shots=256,collisions=20)\n",
    "print('*****')\n",
    "print(znee)\n",
    "print(len(znee))"
   ]
  },
  {
   "cell_type": "code",
   "execution_count": null,
   "id": "a242f734-efb3-49a5-85f5-80b3944142b3",
   "metadata": {},
   "outputs": [],
   "source": []
  },
  {
   "cell_type": "code",
   "execution_count": 43,
   "id": "aefa75cb-a59d-4af4-84b6-7567dfdd3dbc",
   "metadata": {},
   "outputs": [
    {
     "data": {
      "image/png": "[encoded data removed]",
      "text/plain": [
       "<Figure size 432x288 with 1 Axes>"
      ]
     },
     "metadata": {
      "needs_background": "light"
     },
     "output_type": "display_data"
    },
    {
     "name": "stdout",
     "output_type": "stream",
     "text": [
      "*****\n",
      "[0.42578125, 0.2734375, 0.0078125, -0.2265625, -0.46484375, -0.5, -0.421875, -0.23828125, -0.015625, 0.27734375, 0.41796875, 0.5, 0.4375, 0.2265625, 0.01953125, -0.24609375, -0.43359375, -0.5, -0.4296875, -0.2421875]\n",
      "20\n"
     ]
    }
   ],
   "source": [
    "noisemodel, basis_gates = noisem(0.9773)\n",
    "numcx,gatedepth,abserr, znee = wrapper(None, None, circ_correlate,'perfect',plot_title='Perfect',shots=256,collisions=20)\n",
    "print('*****')\n",
    "print(znee)\n",
    "print(len(znee))"
   ]
  },
  {
   "cell_type": "code",
   "execution_count": 12,
   "id": "8843b061-cfff-4f45-99d4-9b27283267c9",
   "metadata": {},
   "outputs": [
    {
     "name": "stdout",
     "output_type": "stream",
     "text": [
      "{'1': 14, '0': 242}\n",
      "{'1': 67, '0': 189}\n",
      "{'0': 132, '1': 124}\n",
      "{'0': 76, '1': 180}\n",
      "{'0': 22, '1': 234}\n",
      "{'1': 256}\n",
      "{'0': 20, '1': 236}\n",
      "{'0': 65, '1': 191}\n",
      "{'1': 136, '0': 120}\n",
      "{'1': 75, '0': 181}\n",
      "{'1': 17, '0': 239}\n",
      "{'0': 256}\n",
      "{'1': 17, '0': 239}\n",
      "{'1': 77, '0': 179}\n",
      "{'0': 124, '1': 132}\n",
      "{'0': 67, '1': 189}\n",
      "{'0': 18, '1': 238}\n",
      "{'1': 256}\n",
      "{'0': 20, '1': 236}\n",
      "{'0': 65, '1': 191}\n"
     ]
    },
    {
     "data": {
      "image/png": "[encoded data removed]",
      "text/plain": [
       "<Figure size 432x288 with 1 Axes>"
      ]
     },
     "metadata": {
      "needs_background": "light"
     },
     "output_type": "display_data"
    }
   ],
   "source": [
    "numcx,gatedepth,abserr, znee = wrapper(None, None, circ_correlate,'perfect',plot_title='Perfect',shots=256,collisions=20)"
   ]
  },
  {
   "cell_type": "code",
   "execution_count": null,
   "id": "27744d61-dd9f-4e80-9c90-c8ba8d27bf6b",
   "metadata": {},
   "outputs": [],
   "source": [
    "for i in np.linspace(0.0, 1-0.9773, num = 4):\n",
    "    noisemodel, basis_gates = noisem(i)\n",
    "    numcx,gatedepth,abserr = wrapper(noisemodel, basis_gates, circ_correlate,'noisy',plot_title=f'Noisy (fidelity={np.around(1-i,4)})',shots=256,collisions=20)"
   ]
  },
  {
   "cell_type": "code",
   "execution_count": null,
   "id": "bf83b1be-bc6b-4ecf-b087-bd125db0f366",
   "metadata": {},
   "outputs": [],
   "source": [
    "plt.plot(numcx,abserr,c='red')\n",
    "plt.scatter(numcx,abserr)\n",
    "plt.xlabel('Number of CNOT gates')\n",
    "plt.ylabel('Absolute error')\n",
    "plt.show()"
   ]
  },
  {
   "cell_type": "code",
   "execution_count": null,
   "id": "eb79d979-2ea5-42bf-95f0-f3ad642dcc4d",
   "metadata": {},
   "outputs": [],
   "source": [
    "plt.plot(numcx,gatedepth,c='red')\n",
    "plt.scatter(numcx,gatedepth)\n",
    "plt.xlabel('Number of CNOT gates')\n",
    "plt.ylabel('gatedepth')\n",
    "plt.show()"
   ]
  },
  {
   "cell_type": "code",
   "execution_count": null,
   "id": "5beb4852-3e14-48a6-b25c-d114fca4dec2",
   "metadata": {},
   "outputs": [],
   "source": [
    "shotsnum = np.array(range(256,2049,64))\n",
    "noisemodel, basis_gates = noisem(1-0.9773)\n",
    "meanerr = [np.mean(wrapper(noisemodel, basis_gates, circ_correlate,'noisy',do_not_plot='true',plot_title='Noisy',shots=shots,collisions=20)[2]) for shots in shotsnum]"
   ]
  },
  {
   "cell_type": "code",
   "execution_count": null,
   "id": "dcaac779-7f40-4ca2-b77e-27e9511725b9",
   "metadata": {},
   "outputs": [],
   "source": [
    "plt.scatter(shotsnum,meanerr)\n",
    "plt.plot(shotsnum,meanerr,c='red')"
   ]
  },
  {
   "cell_type": "markdown",
   "id": "5242dae3-e716-426a-8777-6126903fd59e",
   "metadata": {
    "jp-MarkdownHeadingCollapsed": true,
    "tags": []
   },
   "source": [
    "<h2>Uncorrelated case</h2>"
   ]
  },
  {
   "cell_type": "code",
   "execution_count": null,
   "id": "eedea4ad-12d2-4858-8c6b-837be5c9295a",
   "metadata": {},
   "outputs": [],
   "source": [
    "def uncorr(q, c, system, ancillae, g, t, i):\n",
    "    ucoA = QuantumCircuit(q,c)\n",
    "    ucoA.h(q[system])\n",
    "    # State Preparation\n",
    "    for l in range(i):\n",
    "        ucoA.h(q[ancillae[l]])\n",
    "    \n",
    "    # Collisions between the system and ancilla qubits\n",
    "    for j in range(1,i+1):\n",
    "        ucoA.cnot(q[j],q[system])\n",
    "        ucoA.rz(t, q[system])\n",
    "        ucoA.cnot(q[j],q[system])\n",
    "    \n",
    "    ucoA.h(q[system])\n",
    "    \n",
    "    ucoA.measure(q[system],c[0])\n",
    "        \n",
    "    return ucoA"
   ]
  },
  {
   "cell_type": "code",
   "execution_count": null,
   "id": "114f377b-f94d-42df-9806-e7ebbb5b5746",
   "metadata": {},
   "outputs": [],
   "source": [
    "def circ_uncorrelate(basis_gates,noise_model,do_not_plot,**kwargs):\n",
    "    n = kwargs.get('collisions')\n",
    "    q = QuantumRegister(n+1,name = 'q')\n",
    "    c = ClassicalRegister(1, name = 'c')\n",
    "    system = 0\n",
    "    ancillae = range(1,n+1)\n",
    "    rho_12, T = [], []\n",
    "    tt = np.pi/6\n",
    "    g = 1\n",
    "    t = g*(tt)\n",
    "    numcx = []\n",
    "    gatedepth = []\n",
    "    for i in range(1,n+1,1):\n",
    "        circ = uncorr(q, c, system, ancillae, g, 2*tt, i)\n",
    "        numcx.append(circ.count_ops()['cx'])\n",
    "        gatedepth.append(circ.depth())\n",
    "        T.append(i*t)\n",
    "        job = qiskit.execute(circ, Aer.get_backend('qasm_simulator'),basis_gates=basis_gates,noise_model=noise_model, shots=kwargs.get('shots'))\n",
    "        counts = job.result().get_counts()   \n",
    "        rho_12.append((counts.get('0',0)-counts.get('1',0))/(2*(counts.get('0',0)+counts.get('1',0))))\n",
    "\n",
    "        \n",
    "    def uncorrfunc(i):\n",
    "        return np.power(np.cos(2*g*tt),i/t)/2\n",
    "    \n",
    "    abserr = [abs(rho_12[i]-uncorrfunc(T[i])) for i in range(len(numcx))]\n",
    "\n",
    "    x_ax = np.linspace(0,T[-1],num=1000)\n",
    "    if do_not_plot=='false':\n",
    "        plt.title(kwargs.get('plot_title'))\n",
    "        plt.scatter(T, np.real(rho_12),label='Simulation')\n",
    "        plt.plot(x_ax,uncorrfunc(x_ax),linestyle='--',label='Theoretical')\n",
    "        #plt.scatter(T, rho_12)\n",
    "        plt.legend()\n",
    "        plt.show()\n",
    "    return numcx,gatedepth,abserr"
   ]
  },
  {
   "cell_type": "code",
   "execution_count": null,
   "id": "e722eb30-b234-454f-97a8-a288d13760ea",
   "metadata": {},
   "outputs": [],
   "source": [
    "numcx,gatedepth,abserr = wrapper(None, None, circ_uncorrelate,'perfect',plot_title='Perfect',shots=1024,collisions=7)"
   ]
  },
  {
   "cell_type": "code",
   "execution_count": null,
   "id": "78481d94-44c5-4985-9b9b-91148fa1fc0a",
   "metadata": {},
   "outputs": [],
   "source": [
    "for i in np.linspace(0.0, 1-0.9773, num = 4):\n",
    "    noisemodel, basis_gates = noisem(i)\n",
    "    numcx,gatedepth,abserr = wrapper(noisemodel, basis_gates, circ_uncorrelate,'noisy',plot_title=f'Noisy (fidelity={np.around(1-i,4)})',shots=1024,collisions=7)"
   ]
  },
  {
   "cell_type": "code",
   "execution_count": null,
   "id": "3a75d640-3724-4faa-9a5f-19365af17075",
   "metadata": {},
   "outputs": [],
   "source": [
    "plt.plot(numcx,abserr,c='red')\n",
    "plt.scatter(numcx,abserr)\n",
    "plt.xlabel('Number of CNOT gates')\n",
    "plt.ylabel('Absolute error')\n",
    "plt.show()"
   ]
  },
  {
   "cell_type": "code",
   "execution_count": null,
   "id": "07879918-344c-444a-b3f3-de56ba7fc92d",
   "metadata": {},
   "outputs": [],
   "source": [
    "plt.plot(numcx,gatedepth,c='red')\n",
    "plt.scatter(numcx,gatedepth)\n",
    "plt.xlabel('Number of CNOT gates')\n",
    "plt.ylabel('gatedepth')\n",
    "plt.show()"
   ]
  },
  {
   "cell_type": "code",
   "execution_count": null,
   "id": "822a8b9c-b512-4998-b5d0-8431b4f7b5c4",
   "metadata": {},
   "outputs": [],
   "source": [
    "shotsnum = np.array(range(256,2049,64))\n",
    "noisemodel, basis_gates = noisem(1-0.9773)\n",
    "meanerr = [np.mean(wrapper(noisemodel, basis_gates,circ_uncorrelate,'noisy',do_not_plot='true',plot_title='Noisy',shots=shots,collisions=7)[2]) for shots in shotsnum]"
   ]
  },
  {
   "cell_type": "code",
   "execution_count": null,
   "id": "b3b053cd-f905-4da1-b4eb-e065757efcc9",
   "metadata": {},
   "outputs": [],
   "source": [
    "plt.scatter(shotsnum,meanerr)\n",
    "plt.plot(shotsnum,meanerr,c='red')\n",
    "plt.xlabel('Number of shots')\n",
    "plt.ylabel('Mean Error for a particular number of shots')\n",
    "plt.show()"
   ]
  }
 ],
 "metadata": {
  "kernelspec": {
   "display_name": "Python 3 [Unitary Fund]",
   "language": "python",
   "name": "python3_unitary_j5l7hx"
  },
  "language_info": {
   "codemirror_mode": {
    "name": "ipython",
    "version": 3
   },
   "file_extension": ".py",
   "mimetype": "text/x-python",
   "name": "python",
   "nbconvert_exporter": "python",
   "pygments_lexer": "ipython3",
   "version": "3.9.10"
  }
 },
 "nbformat": 4,
 "nbformat_minor": 5
}
