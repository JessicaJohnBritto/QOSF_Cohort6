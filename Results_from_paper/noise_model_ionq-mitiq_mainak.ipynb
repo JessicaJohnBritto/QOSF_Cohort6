{
 "cells": [
  {
   "cell_type": "markdown",
   "id": "20232de4-b05b-4f3d-828c-240287f43485",
   "metadata": {
    "tags": []
   },
   "source": [
    "<h1>Definitions</h1>"
   ]
  },
  {
   "cell_type": "code",
   "execution_count": 1,
   "id": "8afb4123-f65f-44fc-a981-d6732e5b6375",
   "metadata": {},
   "outputs": [],
   "source": [
    "import numpy as np\n",
    "import matplotlib.pyplot as plt\n",
    "import qiskit\n",
    "from qiskit import IBMQ, Aer,QuantumCircuit, ClassicalRegister, QuantumRegister, transpile, assemble\n",
    "from qiskit.quantum_info import Kraus, SuperOp\n",
    "from qiskit_aer import AerSimulator\n",
    "from qiskit.tools.visualization import plot_histogram\n",
    "# Import from Qiskit Aer noise module\n",
    "from qiskit_aer.noise import (NoiseModel, QuantumError, ReadoutError,\n",
    "    pauli_error, depolarizing_error, thermal_relaxation_error)\n",
    "import cvxpy\n",
    "import mitiq"
   ]
  },
  {
   "cell_type": "code",
   "execution_count": 2,
   "id": "e6702e36-e7e6-47a8-ac01-5270733be001",
   "metadata": {},
   "outputs": [],
   "source": [
    "def noisem(prob_2q):\n",
    "    #Create noise model\n",
    "    noisemodel = NoiseModel()\n",
    "    #Define times and probabilities\n",
    "    prob_1q = 1-0.9969\n",
    "    # prob_2q = 1-0.9773\n",
    "    time_t1 = 10000*1e9\n",
    "    time_t2 = 0.2*1e9\n",
    "    time_1q = 0.00001*1e9\n",
    "    time_2q = 0.0002*1e9\n",
    "    time_measure = 0.00013*1e9\n",
    "    time_reset = 0.00002*1e9\n",
    "    #Define errors\n",
    "    # error_reset = thermal_relaxation_error(time_t1, time_t2, time_reset)\n",
    "    # error_meas = thermal_relaxation_error(time_t1, time_t2, time_measure)\n",
    "    # error_1q  = thermal_relaxation_error(time_t1, time_t2, time_1q)\n",
    "    # error_2q = thermal_relaxation_error(time_t1, time_t2, time_2q).expand(\n",
    "    #              thermal_relaxation_error(time_t1, time_t2, time_2q))\n",
    "    error_1 = depolarizing_error(prob_1q, 1)\n",
    "    error_2 = depolarizing_error(prob_2q, 2)\n",
    "    #Add errors to noise model\n",
    "    # noisemodel.add_all_qubit_quantum_error(error_reset, \"reset\")\n",
    "    # noisemodel.add_all_qubit_quantum_error(error_meas, \"measure\")\n",
    "    # noisemodel.add_all_qubit_quantum_error(error_1q, ['h','rz'])\n",
    "    # noisemodel.add_all_qubit_quantum_error(error_2q, ['cx'])\n",
    "    noisemodel.add_all_qubit_quantum_error(error_1, ['h', 'rz'])\n",
    "    noisemodel.add_all_qubit_quantum_error(error_2, ['cx'])\n",
    "    basis_gates = noisemodel.basis_gates\n",
    "\n",
    "    return noisemodel, basis_gates"
   ]
  },
  {
   "cell_type": "code",
   "execution_count": 3,
   "id": "c39a4695-a96f-497f-9b34-84ef33939410",
   "metadata": {},
   "outputs": [],
   "source": [
    "# # Get basis gates from noise model\n",
    "# basis_gates = noisemodel.basis_gates\n",
    "# print(noisemodel)"
   ]
  },
  {
   "cell_type": "code",
   "execution_count": 4,
   "id": "a9934556-fa03-4d0b-93d9-2b203fed6580",
   "metadata": {},
   "outputs": [],
   "source": [
    "def wrapper(noisemodel, basis_gates, circlogic,noisy_or_perfect,do_not_plot='false', **kwargs):\n",
    "    if noisy_or_perfect=='perfect':\n",
    "        return circlogic(None,None,do_not_plot,**kwargs)\n",
    "    elif noisy_or_perfect=='noisy':\n",
    "        return circlogic(basis_gates,noisemodel,do_not_plot,**kwargs)\n",
    "    else:\n",
    "        print('Wrong argument to noisy_or_perfect')"
   ]
  },
  {
   "cell_type": "markdown",
   "id": "448106ef-a6df-4151-975a-e0e9e92f132b",
   "metadata": {
    "tags": []
   },
   "source": [
    "<h1>Collisional model</h1>"
   ]
  },
  {
   "cell_type": "markdown",
   "id": "2061b741-d0dd-44e9-9c5f-c1451c633321",
   "metadata": {
    "tags": []
   },
   "source": [
    "<h2>Correlated case</h2>"
   ]
  },
  {
   "cell_type": "code",
   "execution_count": 5,
   "id": "f5804740-e438-4f86-a5f6-d32cbe003479",
   "metadata": {},
   "outputs": [],
   "source": [
    "def corr(q, c, system, ancillae, g, t, i):\n",
    "    coA = QuantumCircuit(q,c)\n",
    "    \n",
    "    # State Preparation\n",
    "    coA.h(q[system])\n",
    "    coA.h(q[ancillae[2]])\n",
    "    coA.cnot(q[ancillae[2]],q[ancillae[1]])\n",
    "    coA.cnot(q[ancillae[2]],q[ancillae[0]])\n",
    "    \n",
    "    # Collisions between the system and ancilla qubits\n",
    "    for j in range(1, i+1, 1):\n",
    "        if j%2 != 0:\n",
    "            coA.cnot(q[ancillae[0]],q[system])\n",
    "            coA.rz(t, q[system])\n",
    "            coA.cnot(q[ancillae[0]],q[system])\n",
    "        else:\n",
    "            coA.cnot(q[ancillae[1]],q[system])\n",
    "            coA.rz(t, q[system])\n",
    "            coA.cnot(q[ancillae[1]],q[system])\n",
    "    \n",
    "    coA.h(q[system])\n",
    "    # op = qi.Operator(coA)\n",
    "    # array = op.data\n",
    "    # print(array)\n",
    "    \n",
    "    coA.measure(q[system],c[0])\n",
    "        \n",
    "    # return coA, array\n",
    "    return coA"
   ]
  },
  {
   "cell_type": "code",
   "execution_count": 6,
   "id": "e3bf85a2-c48c-4d5e-a19e-b111808a3d64",
   "metadata": {},
   "outputs": [],
   "source": [
    "def circ_correlate(basis_gates,noise_model,do_not_plot,**kwargs):\n",
    "    q = QuantumRegister(4,name = 'q')\n",
    "    c = ClassicalRegister(1, name = 'c')\n",
    "    system = 0\n",
    "    ancillae = [1, 2, 3]\n",
    "    rho_12, T = [], []\n",
    "    n = kwargs.get('collisions')\n",
    "    tt = np.pi/6\n",
    "    g = 1\n",
    "    t = g*(tt)\n",
    "    numcx = []\n",
    "    gatedepth = []\n",
    "    pf = []\n",
    "    def corrfunc(time):\n",
    "        return (np.cos(time/2)**2-np.sin(time/2)**2)/2\n",
    "    for i in range(1,n+1,1):\n",
    "        circ = corr(q, c, system, ancillae, g, tt, i)\n",
    "        numcx.append(circ.count_ops()['cx'])\n",
    "        gatedepth.append(circ.depth())\n",
    "        T.append(i*t)\n",
    "        pf.append(corrfunc(i*t))\n",
    "        job = qiskit.execute(circ, Aer.get_backend('qasm_simulator'),basis_gates=basis_gates,noise_model=noise_model, shots=kwargs.get('shots'))\n",
    "        counts = job.result().get_counts()  \n",
    "        rho_12.append((counts.get('0',0)-counts.get('1',0))/(2*(counts.get('0',0)+counts.get('1',0))))\n",
    "\n",
    "    abserr = [abs(rho_12[i]-pf[i]) for i in range(len(numcx))]\n",
    "\n",
    "    x_ax = np.linspace(0,T[-1],num=1000)\n",
    "    if do_not_plot=='false':\n",
    "        plt.scatter(T, np.real(rho_12),label='Simulation')\n",
    "        plt.title(kwargs.get('plot_title'))\n",
    "        plt.plot(x_ax,corrfunc(x_ax),linestyle='--',label='Theoretical')\n",
    "        plt.legend()\n",
    "        plt.show()\n",
    "    return numcx,gatedepth,abserr, rho_12,pf"
   ]
  },
  {
   "cell_type": "code",
   "execution_count": 12,
   "id": "5ddcacf3-0803-49c5-bb6f-8e9b4bfd2842",
   "metadata": {},
   "outputs": [],
   "source": [
    "from mitiq.zne import execute_with_zne\n",
    "from mitiq import zne\n",
    "def corr_circ(basis_gates,noise_model,do_not_plot,**kwargs):\n",
    "    q = QuantumRegister(4,name = 'q')\n",
    "    c = ClassicalRegister(1, name = 'c')\n",
    "    system = 0\n",
    "    ancillae = [1, 2, 3]\n",
    "    rho_12, T = [], []\n",
    "    n = kwargs.get('collisions')\n",
    "    tt = np.pi/6\n",
    "    g = 1\n",
    "    t = g*(tt)\n",
    "    numcx = []\n",
    "    gatedepth = []\n",
    "    znee = []\n",
    "    for i in range(1,n+1,1):\n",
    "        circ = corr(q, c, system, ancillae, g, tt, i)\n",
    "        numcx.append(circ.count_ops()['cx'])\n",
    "        gatedepth.append(circ.depth())\n",
    "        T.append(i*t)\n",
    "        def executor ( circ : mitiq.QPROGRAM) -> float:\n",
    "            #circ2 = corr(q, c, system, ancillae, g, tt, i)\n",
    "            job = qiskit.execute(circ, Aer.get_backend('qasm_simulator'),basis_gates=basis_gates,noise_model=noise_model, shots=kwargs.get('shots'))\n",
    "            counts = job.result().get_counts() \n",
    "            return (counts.get('0',0)-counts.get('1',0))/(2*(counts.get('0',0)+counts.get('1',0)))\n",
    "        \n",
    "        zne_value = execute_with_zne (circ, \n",
    "                              executor, \n",
    "                              scale_noise=zne.scaling.fold_global)\n",
    "        znee.append(zne_value)\n",
    "    return T,znee"
   ]
  },
  {
   "cell_type": "code",
   "execution_count": 17,
   "id": "749f68b2-b447-42e6-8384-58f82728143f",
   "metadata": {},
   "outputs": [
    {
     "name": "stdout",
     "output_type": "stream",
     "text": [
      "*****\n",
      "[0.5117187499999994, 0.20117187499999975, -0.07617187500000025, -0.2675781249999999, -0.34960937499999956, -0.49999999999999883, -0.4101562499999999, -0.2890624999999996, 0.06640625000000004, 0.10351562499999946, 0.38085937499999933, 0.49999999999999883, 0.4785156250000001, 0.23046875, 0.019531250000000076, -0.22851562499999947, -0.4179687499999997, -0.49999999999999883, -0.39453124999999956, -0.17578124999999975]\n",
      "20\n"
     ]
    }
   ],
   "source": [
    "# Mitigated\n",
    "noisemodel, basis_gates = noisem(1-0.9773)\n",
    "T,znee = wrapper(noisemodel, basis_gates, corr_circ,'perfect','true',shots=512,collisions=20)\n",
    "print('*****')\n",
    "print(znee)\n",
    "print(len(znee))"
   ]
  },
  {
   "cell_type": "code",
   "execution_count": 18,
   "id": "a242f734-efb3-49a5-85f5-80b3944142b3",
   "metadata": {},
   "outputs": [
    {
     "name": "stdout",
     "output_type": "stream",
     "text": [
      "*****\n",
      "[0.40625, 0.263671875, 0.046875, -0.220703125, -0.33984375, -0.333984375, -0.3203125, -0.169921875, -0.017578125, 0.185546875, 0.2421875, 0.255859375, 0.220703125, 0.15234375, -0.00390625, -0.103515625, -0.185546875, -0.13671875, -0.20703125, -0.111328125]\n",
      "20\n"
     ]
    }
   ],
   "source": [
    "# Noise - Unmitigated\n",
    "noisemodel, basis_gates = noisem(1-0.9773)\n",
    "numcx,gatedepth,abserr, rho12,pf = wrapper(noisemodel, basis_gates, circ_correlate,'noisy','true',shots=512,collisions=20)\n",
    "print('*****')\n",
    "print(rho12)\n",
    "print(len(rho12))"
   ]
  },
  {
   "cell_type": "code",
   "execution_count": 19,
   "id": "f858ed1e-baa4-4230-aaab-f52adb73f5bd",
   "metadata": {},
   "outputs": [
    {
     "data": {
      "image/png": "[encoded data removed]",
      "text/plain": [
       "<Figure size 432x288 with 1 Axes>"
      ]
     },
     "metadata": {
      "needs_background": "light"
     },
     "output_type": "display_data"
    }
   ],
   "source": [
    "#print(len(T))\n",
    "#print(len(znee))\n",
    "#print(len(rho12))\n",
    "plt.scatter(T,znee,c='green',label='Mitigated')\n",
    "plt.scatter(T,rho12,c='red',label='Unmitigated')\n",
    "plt.plot(T,pf,c='blue',linestyle='--',label='Theoretical')\n",
    "plt.legend()\n",
    "plt.show()"
   ]
  },
  {
   "cell_type": "code",
   "execution_count": 21,
   "id": "aefa75cb-a59d-4af4-84b6-7567dfdd3dbc",
   "metadata": {},
   "outputs": [
    {
     "data": {
      "image/png": "[encoded data removed]",
      "text/plain": [
       "<Figure size 432x288 with 1 Axes>"
      ]
     },
     "metadata": {
      "needs_background": "light"
     },
     "output_type": "display_data"
    },
    {
     "name": "stdout",
     "output_type": "stream",
     "text": [
      "*****\n",
      "[0.44921875, 0.234375, 0.046875, -0.296875, -0.4453125, -0.5, -0.41796875, -0.1953125, -0.04296875, 0.25390625, 0.4375, 0.5, 0.4375, 0.25390625, 0.015625, -0.24609375, -0.453125, -0.5, -0.4296875, -0.26953125]\n",
      "20\n"
     ]
    }
   ],
   "source": [
    "# No noise\n",
    "noisemodel, basis_gates = noisem(1-0.9773)\n",
    "numcx,gatedepth,abserr, znee, pf = wrapper(None, None, circ_correlate,'perfect',plot_title='Perfect',shots=256,collisions=20)\n",
    "print('*****')\n",
    "print(znee)\n",
    "print(len(znee))"
   ]
  },
  {
   "cell_type": "code",
   "execution_count": null,
   "id": "8843b061-cfff-4f45-99d4-9b27283267c9",
   "metadata": {},
   "outputs": [],
   "source": [
    "numcx,gatedepth,abserr, znee = wrapper(None, None, circ_correlate,'perfect',plot_title='Perfect',shots=256,collisions=20)"
   ]
  },
  {
   "cell_type": "code",
   "execution_count": null,
   "id": "27744d61-dd9f-4e80-9c90-c8ba8d27bf6b",
   "metadata": {},
   "outputs": [],
   "source": [
    "for i in np.linspace(0.0, 1-0.9773, num = 4):\n",
    "    noisemodel, basis_gates = noisem(i)\n",
    "    numcx,gatedepth,abserr, znee = wrapper(noisemodel, basis_gates, circ_correlate,'noisy',plot_title=f'Noisy (fidelity={np.around(1-i,4)})',shots=256,collisions=20)"
   ]
  },
  {
   "cell_type": "code",
   "execution_count": null,
   "id": "bf83b1be-bc6b-4ecf-b087-bd125db0f366",
   "metadata": {},
   "outputs": [],
   "source": [
    "plt.plot(numcx,abserr,c='red')\n",
    "plt.scatter(numcx,abserr)\n",
    "plt.xlabel('Number of CNOT gates')\n",
    "plt.ylabel('Absolute error')\n",
    "plt.show()"
   ]
  },
  {
   "cell_type": "code",
   "execution_count": null,
   "id": "eb79d979-2ea5-42bf-95f0-f3ad642dcc4d",
   "metadata": {},
   "outputs": [],
   "source": [
    "plt.plot(numcx,gatedepth,c='red')\n",
    "plt.scatter(numcx,gatedepth)\n",
    "plt.xlabel('Number of CNOT gates')\n",
    "plt.ylabel('gatedepth')\n",
    "plt.show()"
   ]
  },
  {
   "cell_type": "code",
   "execution_count": null,
   "id": "5beb4852-3e14-48a6-b25c-d114fca4dec2",
   "metadata": {},
   "outputs": [],
   "source": [
    "shotsnum = np.array(range(256,2049,64))\n",
    "noisemodel, basis_gates = noisem(1-0.9773)\n",
    "meanerr = [np.mean(wrapper(noisemodel, basis_gates, circ_correlate,'noisy',do_not_plot='true',plot_title='Noisy',shots=shots,collisions=20)[2]) for shots in shotsnum]"
   ]
  },
  {
   "cell_type": "code",
   "execution_count": null,
   "id": "dcaac779-7f40-4ca2-b77e-27e9511725b9",
   "metadata": {},
   "outputs": [],
   "source": [
    "plt.scatter(shotsnum,meanerr)\n",
    "plt.plot(shotsnum,meanerr,c='red')"
   ]
  },
  {
   "cell_type": "markdown",
   "id": "5242dae3-e716-426a-8777-6126903fd59e",
   "metadata": {
    "tags": []
   },
   "source": [
    "<h2>Uncorrelated case</h2>"
   ]
  },
  {
   "cell_type": "code",
   "execution_count": null,
   "id": "eedea4ad-12d2-4858-8c6b-837be5c9295a",
   "metadata": {},
   "outputs": [],
   "source": [
    "def uncorr(q, c, system, ancillae, g, t, i):\n",
    "    ucoA = QuantumCircuit(q,c)\n",
    "    ucoA.h(q[system])\n",
    "    # State Preparation\n",
    "    for l in range(i):\n",
    "        ucoA.h(q[ancillae[l]])\n",
    "    \n",
    "    # Collisions between the system and ancilla qubits\n",
    "    for j in range(1,i+1):\n",
    "        ucoA.cnot(q[j],q[system])\n",
    "        ucoA.rz(t, q[system])\n",
    "        ucoA.cnot(q[j],q[system])\n",
    "    \n",
    "    ucoA.h(q[system])\n",
    "    \n",
    "    ucoA.measure(q[system],c[0])\n",
    "        \n",
    "    return ucoA"
   ]
  },
  {
   "cell_type": "code",
   "execution_count": null,
   "id": "114f377b-f94d-42df-9806-e7ebbb5b5746",
   "metadata": {},
   "outputs": [],
   "source": [
    "def circ_uncorrelate(basis_gates,noise_model,do_not_plot,**kwargs):\n",
    "    n = kwargs.get('collisions')\n",
    "    q = QuantumRegister(n+1,name = 'q')\n",
    "    c = ClassicalRegister(1, name = 'c')\n",
    "    system = 0\n",
    "    ancillae = range(1,n+1)\n",
    "    rho_12, T = [], []\n",
    "    tt = np.pi/6\n",
    "    g = 1\n",
    "    t = g*(tt)\n",
    "    numcx = []\n",
    "    gatedepth = []\n",
    "    for i in range(1,n+1,1):\n",
    "        circ = uncorr(q, c, system, ancillae, g, 2*tt, i)\n",
    "        numcx.append(circ.count_ops()['cx'])\n",
    "        gatedepth.append(circ.depth())\n",
    "        T.append(i*t)\n",
    "        job = qiskit.execute(circ, Aer.get_backend('qasm_simulator'),basis_gates=basis_gates,noise_model=noise_model, shots=kwargs.get('shots'))\n",
    "        counts = job.result().get_counts()   \n",
    "        rho_12.append((counts.get('0',0)-counts.get('1',0))/(2*(counts.get('0',0)+counts.get('1',0))))\n",
    "\n",
    "        \n",
    "    def uncorrfunc(i):\n",
    "        return np.power(np.cos(2*g*tt),i/t)/2\n",
    "    \n",
    "    abserr = [abs(rho_12[i]-uncorrfunc(T[i])) for i in range(len(numcx))]\n",
    "\n",
    "    x_ax = np.linspace(0,T[-1],num=1000)\n",
    "    if do_not_plot=='false':\n",
    "        plt.title(kwargs.get('plot_title'))\n",
    "        plt.scatter(T, np.real(rho_12),label='Simulation')\n",
    "        plt.plot(x_ax,uncorrfunc(x_ax),linestyle='--',label='Theoretical')\n",
    "        #plt.scatter(T, rho_12)\n",
    "        plt.legend()\n",
    "        plt.show()\n",
    "    return numcx,gatedepth,abserr"
   ]
  },
  {
   "cell_type": "code",
   "execution_count": null,
   "id": "e722eb30-b234-454f-97a8-a288d13760ea",
   "metadata": {},
   "outputs": [],
   "source": [
    "numcx,gatedepth,abserr = wrapper(None, None, circ_uncorrelate,'perfect',plot_title='Perfect',shots=1024,collisions=7)"
   ]
  },
  {
   "cell_type": "code",
   "execution_count": null,
   "id": "78481d94-44c5-4985-9b9b-91148fa1fc0a",
   "metadata": {},
   "outputs": [],
   "source": [
    "for i in np.linspace(0.0, 1-0.9773, num = 4):\n",
    "    noisemodel, basis_gates = noisem(i)\n",
    "    numcx,gatedepth,abserr = wrapper(noisemodel, basis_gates, circ_uncorrelate,'noisy',plot_title=f'Noisy (fidelity={np.around(1-i,4)})',shots=1024,collisions=7)"
   ]
  },
  {
   "cell_type": "code",
   "execution_count": null,
   "id": "3a75d640-3724-4faa-9a5f-19365af17075",
   "metadata": {},
   "outputs": [],
   "source": [
    "plt.plot(numcx,abserr,c='red')\n",
    "plt.scatter(numcx,abserr)\n",
    "plt.xlabel('Number of CNOT gates')\n",
    "plt.ylabel('Absolute error')\n",
    "plt.show()"
   ]
  },
  {
   "cell_type": "code",
   "execution_count": null,
   "id": "07879918-344c-444a-b3f3-de56ba7fc92d",
   "metadata": {},
   "outputs": [],
   "source": [
    "plt.plot(numcx,gatedepth,c='red')\n",
    "plt.scatter(numcx,gatedepth)\n",
    "plt.xlabel('Number of CNOT gates')\n",
    "plt.ylabel('gatedepth')\n",
    "plt.show()"
   ]
  },
  {
   "cell_type": "code",
   "execution_count": null,
   "id": "822a8b9c-b512-4998-b5d0-8431b4f7b5c4",
   "metadata": {},
   "outputs": [],
   "source": [
    "shotsnum = np.array(range(256,2049,64))\n",
    "noisemodel, basis_gates = noisem(1-0.9773)\n",
    "meanerr = [np.mean(wrapper(noisemodel, basis_gates,circ_uncorrelate,'noisy',do_not_plot='true',plot_title='Noisy',shots=shots,collisions=7)[2]) for shots in shotsnum]"
   ]
  },
  {
   "cell_type": "code",
   "execution_count": null,
   "id": "b3b053cd-f905-4da1-b4eb-e065757efcc9",
   "metadata": {},
   "outputs": [],
   "source": [
    "plt.scatter(shotsnum,meanerr)\n",
    "plt.plot(shotsnum,meanerr,c='red')\n",
    "plt.xlabel('Number of shots')\n",
    "plt.ylabel('Mean Error for a particular number of shots')\n",
    "plt.show()"
   ]
  }
 ],
 "metadata": {
  "kernelspec": {
   "display_name": "Python 3 [Unitary Fund]",
   "language": "python",
   "name": "python3_unitary_j5l7hx"
  },
  "language_info": {
   "codemirror_mode": {
    "name": "ipython",
    "version": 3
   },
   "file_extension": ".py",
   "mimetype": "text/x-python",
   "name": "python",
   "nbconvert_exporter": "python",
   "pygments_lexer": "ipython3",
   "version": "3.9.10"
  }
 },
 "nbformat": 4,
 "nbformat_minor": 5
}
