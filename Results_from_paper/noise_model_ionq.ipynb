{
 "cells": [
  {
   "cell_type": "code",
   "execution_count": 1,
   "id": "8afb4123-f65f-44fc-a981-d6732e5b6375",
   "metadata": {},
   "outputs": [],
   "source": [
    "import numpy as np\n",
    "import matplotlib.pyplot as plt\n",
    "import qiskit\n",
    "from qiskit import IBMQ, Aer,QuantumCircuit, ClassicalRegister, QuantumRegister, transpile, assemble\n",
    "from qiskit.quantum_info import Kraus, SuperOp\n",
    "from qiskit_aer import AerSimulator\n",
    "from qiskit.tools.visualization import plot_histogram\n",
    "# Import from Qiskit Aer noise module\n",
    "from qiskit_aer.noise import (NoiseModel, QuantumError, ReadoutError,\n",
    "    pauli_error, depolarizing_error, thermal_relaxation_error)\n",
    "# Import IonQ basis gates\n",
    "from qiskit_ionq import GPIGate, GPI2Gate, MSGate\n",
    "\n",
    "from qiskit_experiments.library import StateTomography"
   ]
  },
  {
   "cell_type": "code",
   "execution_count": 2,
   "id": "e6702e36-e7e6-47a8-ac01-5270733be001",
   "metadata": {},
   "outputs": [
    {
     "name": "stderr",
     "output_type": "stream",
     "text": [
      "WARNING: all-qubit error already exists for instruction \"h\", composing with additional error.\n",
      "WARNING: all-qubit error already exists for instruction \"rz\", composing with additional error.\n",
      "WARNING: all-qubit error already exists for instruction \"cx\", composing with additional error.\n"
     ]
    }
   ],
   "source": [
    "noisemodel = NoiseModel()\n",
    "prob_1q = 1-0.9986\n",
    "prob_2q = 1-0.9826\n",
    "time_t1 = 10000*1e9\n",
    "time_t2 = 0.2*1e9\n",
    "time_1q = 0.00001*1e9\n",
    "time_2q = 0.0002*1e9\n",
    "time_measure = 0.00013*1e9\n",
    "time_reset = 0.00002*1e9\n",
    "\n",
    "error_reset = thermal_relaxation_error(time_t1, time_t2, time_reset)\n",
    "error_meas = thermal_relaxation_error(time_t1, time_t2, time_measure)\n",
    "error_1q  = thermal_relaxation_error(time_t1, time_t2, time_1q)\n",
    "error_2q = thermal_relaxation_error(time_t1, time_t2, time_2q).expand(\n",
    "             thermal_relaxation_error(time_t1, time_t2, time_2q))\n",
    "error_1 = depolarizing_error(prob_1q, 1)\n",
    "error_2 = depolarizing_error(prob_2q, 2)\n",
    "noisemodel.add_all_qubit_quantum_error(error_reset, \"reset\")\n",
    "noisemodel.add_all_qubit_quantum_error(error_meas, \"measure\")\n",
    "noisemodel.add_all_qubit_quantum_error(error_1q, ['h','rz'])\n",
    "noisemodel.add_all_qubit_quantum_error(error_2q, ['cx'])\n",
    "noisemodel.add_all_qubit_quantum_error(error_1, ['h', 'rz'])\n",
    "noisemodel.add_all_qubit_quantum_error(error_2, ['cx'])\n",
    "\n",
    "# Error probabilities\n",
    "#prob_1 = 0.001  # 1-qubit gate\n",
    "#prob_2 = 0.01   # 2-qubit gate\n",
    "\n",
    "# Depolarizing quantum errors\n",
    "\n",
    "\n",
    "# Add errors to noise model\n",
    "#noise_model = noise.NoiseModel()\n"
   ]
  },
  {
   "cell_type": "code",
   "execution_count": 3,
   "id": "c39a4695-a96f-497f-9b34-84ef33939410",
   "metadata": {},
   "outputs": [
    {
     "name": "stdout",
     "output_type": "stream",
     "text": [
      "NoiseModel:\n",
      "  Basis gates: ['cx', 'h', 'id', 'rz', 'sx']\n",
      "  Instructions with noise: ['cx', 'reset', 'h', 'measure', 'rz']\n",
      "  All-qubits errors: ['reset', 'measure', 'h', 'rz', 'cx']\n"
     ]
    }
   ],
   "source": [
    "# Get basis gates from noise model\n",
    "basis_gates = noisemodel.basis_gates\n",
    "print(noisemodel)"
   ]
  },
  {
   "cell_type": "code",
   "execution_count": 4,
   "id": "d8426c2b-f5e1-42e5-a2f6-c587516a9f34",
   "metadata": {},
   "outputs": [],
   "source": [
    "def zz_pump(q, c, p, system, ancilla, ini):\n",
    "    z = QuantumCircuit(q, c)\n",
    "    if ini == \"01\":\n",
    "        z.x(q[system[0]])\n",
    "    elif ini == \"10\":\n",
    "        z.x(q[system[1]])\n",
    "    elif ini == \"11\":\n",
    "        z.x(q[system[0]])\n",
    "        z.x(q[system[1]])\n",
    "    \n",
    "    z.cx(q[system[0]], q[system[1]])\n",
    "    z.x(q[ancilla])\n",
    "    z.cx(q[system[1]], q[ancilla])\n",
    "    \n",
    "    theta = 2 * np.arcsin(np.sqrt(p))\n",
    "    \n",
    "    z.cu3(theta, 0.0, 0.0, q[ancilla], q[system[1]])\n",
    "    \n",
    "    z.cx(q[system[1]], q[ancilla])\n",
    "    # z.cx(q[system[0]], q[system[1]])\n",
    "    z.h(q[system[0]])\n",
    "    z.measure(q[system[0]], c[0])\n",
    "    z.measure(q[system[1]], c[1])\n",
    "    return z  "
   ]
  },
  {
   "cell_type": "code",
   "execution_count": 5,
   "id": "c63ed71b-316d-4299-a90a-6b03422deb41",
   "metadata": {},
   "outputs": [],
   "source": [
    "def zz_xx_pump(q, c, p, system, ancillae, ini):\n",
    "    zx = QuantumCircuit(q, c)\n",
    "    if ini == \"01\":\n",
    "        zx.x(q[system[0]])\n",
    "    elif ini == \"10\":\n",
    "        zx.x(q[system[1]])\n",
    "    elif ini == \"11\":\n",
    "        zx.x(q[system[0]])\n",
    "        zx.x(q[system[1]])\n",
    "        \n",
    "    zx.cx(q[system[0]], q[system[1]])\n",
    "    zx.x(q[ancillae[0]])\n",
    "    zx.cx(q[system[1]], q[ancillae[0]])\n",
    "    \n",
    "    theta = 2 * np.arcsin(np.sqrt(p))\n",
    "    zx.cu3(theta, 0.0, 0.0, q[ancillae[0]], q[system[1]])\n",
    "    \n",
    "    zx.cx(q[system[1]], q[ancillae[0]])\n",
    "    \n",
    "    zx.h(q[system[0]])\n",
    "    zx.x(q[ancillae[1]])\n",
    "    zx.cx(q[system[0]], q[ancillae[1]])\n",
    "    \n",
    "    zx.cu3(theta, 0.0, 0.0, q[ancillae[1]], q[system[0]])\n",
    "    \n",
    "    zx.cx(q[system[0]], q[ancillae[1]])\n",
    "    \n",
    "    zx.measure(q[system[0]], c[0])\n",
    "    zx.measure(q[system[1]], c[1])\n",
    "    \n",
    "    return zx"
   ]
  },
  {
   "cell_type": "code",
   "execution_count": 6,
   "id": "67078d6a-6a1f-4c1b-b886-351cdaab73c5",
   "metadata": {},
   "outputs": [
    {
     "name": "stderr",
     "output_type": "stream",
     "text": [
      "/tmp/ipykernel_4016/1980452409.py:16: DeprecationWarning: The QuantumCircuit.cu3 method is deprecated as of 0.16.0. It will be removed no earlier than 3 months after the release date. You should use the QuantumCircuit.cu method instead, where cu3(ϴ,φ,λ) = cu(ϴ,φ,λ,0).\n",
      "  zx.cu3(theta, 0.0, 0.0, q[ancillae[0]], q[system[1]])\n",
      "/tmp/ipykernel_4016/1980452409.py:24: DeprecationWarning: The QuantumCircuit.cu3 method is deprecated as of 0.16.0. It will be removed no earlier than 3 months after the release date. You should use the QuantumCircuit.cu method instead, where cu3(ϴ,φ,λ) = cu(ϴ,φ,λ,0).\n",
      "  zx.cu3(theta, 0.0, 0.0, q[ancillae[1]], q[system[0]])\n"
     ]
    },
    {
     "data": {
      "text/plain": [
       "<matplotlib.legend.Legend at 0x7fe7887545e0>"
      ]
     },
     "execution_count": 6,
     "metadata": {},
     "output_type": "execute_result"
    },
    {
     "data": {
      "image/png": "[encoded data removed]",
      "text/plain": [
       "<Figure size 640x480 with 1 Axes>"
      ]
     },
     "metadata": {},
     "output_type": "display_data"
    }
   ],
   "source": [
    "# use local simulator\n",
    "\n",
    "shots = 64\n",
    "p = np.linspace(0,1.0,5)\n",
    "dict = {}\n",
    "a = [[0] * 4 for i in range(len(p))]\n",
    "b = [[0] * len(p) for i in range(4)]\n",
    "\n",
    "\n",
    "labels = ['00', '01', '10', '11']\n",
    "for inis in labels:\n",
    "    k=0\n",
    "    for i in p:\n",
    "        q = QuantumRegister(5, name='q')\n",
    "        c = ClassicalRegister(2, name='c')\n",
    "        circ = zz_xx_pump(q, c,i, [2,1], [0,4], inis)\n",
    "        sim_noise = AerSimulator(noise_model=noisemodel)\n",
    "        tbell_circ_noise = transpile(circ, sim_noise)\n",
    "        results = sim_noise.run(tbell_circ_noise).result()\n",
    "        answer = {'00':0,'01':0,'10':0,'11':0}\n",
    "        labels = list(answer.keys())\n",
    "        for key,value in results.get_counts().items():\n",
    "            answer[key] = value\n",
    "        for j in range(4):\n",
    "            a[k][j] = answer[labels[j]]/1024\n",
    "        k=k+1\n",
    "    # Plotting\n",
    "    for l in range(4):\n",
    "        for m in range(5):\n",
    "            b[l][m] = b[l][m]+a[m][l]\n",
    "    # print(b)\n",
    "\n",
    "plt.title('Noisy')\n",
    "plt.scatter(p,(np.asarray(b[0]))/4, label=\"00| phi+\")\n",
    "plt.scatter(p,(np.asarray(b[1]))/4,  label=\"01| phi-\")\n",
    "plt.scatter(p,(np.asarray(b[2]))/4,  label=\"10| psi+\")\n",
    "plt.scatter(p,(np.asarray(b[3]))/4,  label=\"11| psi-\")\n",
    "plt.legend()\n",
    "\n",
    "#circ.draw(output=\"mpl\")"
   ]
  },
  {
   "cell_type": "code",
   "execution_count": 7,
   "id": "f5804740-e438-4f86-a5f6-d32cbe003479",
   "metadata": {},
   "outputs": [],
   "source": [
    "def corr(q, c, system, ancillae, g, t, i):\n",
    "    coA = QuantumCircuit(q,c)\n",
    "    \n",
    "    # State Preparation\n",
    "    coA.h(q[system])\n",
    "    coA.h(q[ancillae[2]])\n",
    "    coA.cnot(q[ancillae[2]],q[ancillae[1]])\n",
    "    coA.cnot(q[ancillae[2]],q[ancillae[0]])\n",
    "    \n",
    "    # Collisions between the system and ancilla qubits\n",
    "    for j in range(1, i+1, 1):\n",
    "        if j%2 != 0:\n",
    "            coA.cnot(q[ancillae[0]],q[system])\n",
    "            coA.rz(t, q[system])\n",
    "            coA.cnot(q[ancillae[0]],q[system])\n",
    "        else:\n",
    "            coA.cnot(q[ancillae[1]],q[system])\n",
    "            coA.rz(t, q[system])\n",
    "            coA.cnot(q[ancillae[1]],q[system])\n",
    "    \n",
    "    coA.h(q[system])\n",
    "    \n",
    "    coA.measure(q[system],c[0])\n",
    "        \n",
    "    return coA"
   ]
  },
  {
   "cell_type": "code",
   "execution_count": 8,
   "id": "8843b061-cfff-4f45-99d4-9b27283267c9",
   "metadata": {},
   "outputs": [
    {
     "name": "stderr",
     "output_type": "stream",
     "text": [
      "No artists with labels found to put in legend.  Note that artists whose label start with an underscore are ignored when legend() is called with no argument.\n"
     ]
    },
    {
     "data": {
      "image/png": "[encoded data removed]",
      "text/plain": [
       "<Figure size 640x480 with 1 Axes>"
      ]
     },
     "metadata": {},
     "output_type": "display_data"
    }
   ],
   "source": [
    "q = QuantumRegister(4,name = 'q')\n",
    "c = ClassicalRegister(1, name = 'c')\n",
    "system = 0\n",
    "ancillae = [1, 2, 3]\n",
    "rho_12, T = [], []\n",
    "n = 20\n",
    "tt = np.pi/6\n",
    "g = 1\n",
    "t = g*(tt)\n",
    "for i in range(1,n+1,1):\n",
    "    circ = corr(q, c, system, ancillae, g, tt, i)\n",
    "    if i == 3:\n",
    "        qq = circ\n",
    "    T.append(i*t)\n",
    "    job = qiskit.execute(circ, Aer.get_backend('qasm_simulator'), shots=64)\n",
    "    counts = job.result().get_counts()\n",
    "    rho_12.append((counts.get('0',0)-counts.get('1',0))/(2*(counts.get('0',0)+counts.get('1',0))))\n",
    "    \n",
    "plt.scatter(T, np.real(rho_12))\n",
    "#qq.draw(output=\"mpl\")\n",
    "def corrfunc(time):\n",
    "    return (np.cos(time/2)**2-np.sin(time/2)**2)/2\n",
    "\n",
    "x_ax = np.linspace(0,T[-1],num=1000)\n",
    "plt.title('Perfect')\n",
    "plt.plot(x_ax,corrfunc(x_ax),linestyle='--')\n",
    "plt.legend()\n",
    "plt.show()"
   ]
  },
  {
   "cell_type": "code",
   "execution_count": 12,
   "id": "27744d61-dd9f-4e80-9c90-c8ba8d27bf6b",
   "metadata": {},
   "outputs": [
    {
     "ename": "NameError",
     "evalue": "name 'outer' is not defined",
     "output_type": "error",
     "traceback": [
      "\u001b[0;31m---------------------------------------------------------------------------\u001b[0m",
      "\u001b[0;31mNameError\u001b[0m                                 Traceback (most recent call last)",
      "Cell \u001b[0;32mIn [12], line 23\u001b[0m\n\u001b[1;32m     21\u001b[0m job \u001b[38;5;241m=\u001b[39m qiskit\u001b[38;5;241m.\u001b[39mexecute(circ, Aer\u001b[38;5;241m.\u001b[39mget_backend(\u001b[38;5;124m'\u001b[39m\u001b[38;5;124mqasm_simulator\u001b[39m\u001b[38;5;124m'\u001b[39m),basis_gates\u001b[38;5;241m=\u001b[39mbasis_gates,noise_model\u001b[38;5;241m=\u001b[39mnoisemodel, shots\u001b[38;5;241m=\u001b[39m\u001b[38;5;241m256\u001b[39m)\n\u001b[1;32m     22\u001b[0m counts \u001b[38;5;241m=\u001b[39m job\u001b[38;5;241m.\u001b[39mresult()\u001b[38;5;241m.\u001b[39mget_counts()\n\u001b[0;32m---> 23\u001b[0m ideal_unitary \u001b[38;5;241m=\u001b[39m \u001b[43mouter\u001b[49m(ideal_unitary\u001b[38;5;241m.\u001b[39mravel(order\u001b[38;5;241m=\u001b[39m\u001b[38;5;124m'\u001b[39m\u001b[38;5;124mF\u001b[39m\u001b[38;5;124m'\u001b[39m))\n\u001b[1;32m     24\u001b[0m pt_circs \u001b[38;5;241m=\u001b[39m process_tomography_circuits(circ, q)\n\u001b[1;32m     25\u001b[0m job2 \u001b[38;5;241m=\u001b[39m qiskit\u001b[38;5;241m.\u001b[39mexecute(qpt_circs, Aer\u001b[38;5;241m.\u001b[39mget_backend(\u001b[38;5;124m'\u001b[39m\u001b[38;5;124mqasm_simulator\u001b[39m\u001b[38;5;124m'\u001b[39m), shots\u001b[38;5;241m=\u001b[39m\u001b[38;5;241m4000\u001b[39m)\n",
      "\u001b[0;31mNameError\u001b[0m: name 'outer' is not defined"
     ]
    }
   ],
   "source": [
    "q = QuantumRegister(4,name = 'q')\n",
    "c = ClassicalRegister(1, name = 'c')\n",
    "system = 0\n",
    "ancillae = [1, 2, 3]\n",
    "rho_12, T = [], []\n",
    "n = 40\n",
    "tt = np.pi/6\n",
    "g = 1\n",
    "t = g*(tt)\n",
    "numcx = []\n",
    "gatedepth = []\n",
    "fidy = []\n",
    "for i in range(1,n+1,1):\n",
    "    circ = corr(q, c, system, ancillae, g, tt, i)\n",
    "    if i == 3:\n",
    "        qq = circ\n",
    "    #print(f'Count op for {i} collisions: {circ.depth()}')\n",
    "    numcx.append(circ.count_ops()['cx'])\n",
    "    gatedepth.append(circ.depth())\n",
    "    T.append(i*t)\n",
    "    job = qiskit.execute(circ, Aer.get_backend('qasm_simulator'),basis_gates=basis_gates,noise_model=noisemodel, shots=256)\n",
    "    counts = job.result().get_counts()\n",
    "    ideal_unitary = outer(ideal_unitary.ravel(order='F'))\n",
    "    pt_circs = process_tomography_circuits(circ, q)\n",
    "    job2 = qiskit.execute(qpt_circs, Aer.get_backend('qasm_simulator'), shots=4000)\n",
    "    qpt_tomo = ProcessTomographyFitter(job2.result(), qpt_circs)\n",
    "    qpt_tomo.data\n",
    "\n",
    "    choi_lstsq = qpt_tomo.fit(method='lstsq')\n",
    "    print('fit fidelity (process):', np.real(process_fidelity(choi_ideal, choi_lstsq.data, require_cptp=False)))\n",
    "    \n",
    "    rho_12.append((counts.get('0',0)-counts.get('1',0))/(2*(counts.get('0',0)+counts.get('1',0))))\n",
    "    fidy.append(np.real(process_fidelity(choi_ideal, choi_lstsq.data, require_cptp=False)))\n",
    "plt.scatter(T, np.real(rho_12))\n",
    "#qq.draw(output=\"mpl\")\n",
    "def corrfunc(time):\n",
    "    return (np.cos(time/2)**2-np.sin(time/2)**2)/2\n",
    "\n",
    "abserr = [abs(rho_12[i]-corrfunc(T[i])) for i in range(len(numcx))]\n",
    "\n",
    "x_ax = np.linspace(0,T[-1],num=1000)\n",
    "plt.title('Noisy')\n",
    "plt.plot(x_ax,corrfunc(x_ax),linestyle='--')\n",
    "plt.legend()\n",
    "plt.show()"
   ]
  },
  {
   "cell_type": "code",
   "execution_count": 11,
   "id": "2ee2d051-a10e-432a-b9d8-ca41e99e2017",
   "metadata": {},
   "outputs": [
    {
     "name": "stderr",
     "output_type": "stream",
     "text": [
      "Simulation failed and returned the following error message:\n",
      "ERROR:  [Experiment 0] Circuit circuit-4318 contains invalid instructions {\"instructions\": {save_unitary}} for \"statevector\" method.\n"
     ]
    },
    {
     "ename": "QiskitError",
     "evalue": "'Data for experiment \"circuit-4318\" could not be found.'",
     "output_type": "error",
     "traceback": [
      "\u001b[0;31m---------------------------------------------------------------------------\u001b[0m",
      "\u001b[0;31mQiskitError\u001b[0m                               Traceback (most recent call last)",
      "Cell \u001b[0;32mIn [11], line 3\u001b[0m\n\u001b[1;32m      1\u001b[0m \u001b[38;5;66;03m# Run circuit on unitary simulator to find ideal unitary\u001b[39;00m\n\u001b[1;32m      2\u001b[0m job \u001b[38;5;241m=\u001b[39m qiskit\u001b[38;5;241m.\u001b[39mexecute(circ, Aer\u001b[38;5;241m.\u001b[39mget_backend(\u001b[38;5;124m'\u001b[39m\u001b[38;5;124munitary_simulator\u001b[39m\u001b[38;5;124m'\u001b[39m))\n\u001b[0;32m----> 3\u001b[0m ideal_unitary \u001b[38;5;241m=\u001b[39m \u001b[43mjob\u001b[49m\u001b[38;5;241;43m.\u001b[39;49m\u001b[43mresult\u001b[49m\u001b[43m(\u001b[49m\u001b[43m)\u001b[49m\u001b[38;5;241;43m.\u001b[39;49m\u001b[43mget_unitary\u001b[49m\u001b[43m(\u001b[49m\u001b[43mcirc\u001b[49m\u001b[43m)\u001b[49m\n\u001b[1;32m      4\u001b[0m \u001b[38;5;66;03m# convert to Choi-matrix in column-major convention\u001b[39;00m\n\u001b[1;32m      5\u001b[0m choi_ideal \u001b[38;5;241m=\u001b[39m outer(ideal_unitary\u001b[38;5;241m.\u001b[39mravel(order\u001b[38;5;241m=\u001b[39m\u001b[38;5;124m'\u001b[39m\u001b[38;5;124mF\u001b[39m\u001b[38;5;124m'\u001b[39m))\n",
      "File \u001b[0;32m~/.qbraid/environments/qbraid_sdk_9j9sjy/pyenv/lib/python3.9/site-packages/qiskit/result/result.py:336\u001b[0m, in \u001b[0;36mResult.get_unitary\u001b[0;34m(self, experiment, decimals)\u001b[0m\n\u001b[1;32m    320\u001b[0m \u001b[38;5;124;03m\"\"\"Get the final unitary of an experiment.\u001b[39;00m\n\u001b[1;32m    321\u001b[0m \n\u001b[1;32m    322\u001b[0m \u001b[38;5;124;03mArgs:\u001b[39;00m\n\u001b[0;32m   (...)\u001b[0m\n\u001b[1;32m    333\u001b[0m \u001b[38;5;124;03m    QiskitError: if there is no unitary for the experiment.\u001b[39;00m\n\u001b[1;32m    334\u001b[0m \u001b[38;5;124;03m\"\"\"\u001b[39;00m\n\u001b[1;32m    335\u001b[0m \u001b[38;5;28;01mtry\u001b[39;00m:\n\u001b[0;32m--> 336\u001b[0m     \u001b[38;5;28;01mreturn\u001b[39;00m postprocess\u001b[38;5;241m.\u001b[39mformat_unitary(\u001b[38;5;28;43mself\u001b[39;49m\u001b[38;5;241;43m.\u001b[39;49m\u001b[43mdata\u001b[49m\u001b[43m(\u001b[49m\u001b[43mexperiment\u001b[49m\u001b[43m)\u001b[49m[\u001b[38;5;124m\"\u001b[39m\u001b[38;5;124munitary\u001b[39m\u001b[38;5;124m\"\u001b[39m], decimals\u001b[38;5;241m=\u001b[39mdecimals)\n\u001b[1;32m    337\u001b[0m \u001b[38;5;28;01mexcept\u001b[39;00m \u001b[38;5;167;01mKeyError\u001b[39;00m \u001b[38;5;28;01mas\u001b[39;00m ex:\n\u001b[1;32m    338\u001b[0m     \u001b[38;5;28;01mraise\u001b[39;00m QiskitError(\u001b[38;5;124mf\u001b[39m\u001b[38;5;124m'\u001b[39m\u001b[38;5;124mNo unitary for experiment \u001b[39m\u001b[38;5;124m\"\u001b[39m\u001b[38;5;132;01m{\u001b[39;00m\u001b[38;5;28mrepr\u001b[39m(experiment)\u001b[38;5;132;01m}\u001b[39;00m\u001b[38;5;124m\"\u001b[39m\u001b[38;5;124m'\u001b[39m) \u001b[38;5;28;01mfrom\u001b[39;00m \u001b[38;5;21;01mex\u001b[39;00m\n",
      "File \u001b[0;32m~/.qbraid/environments/qbraid_sdk_9j9sjy/pyenv/lib/python3.9/site-packages/qiskit/result/result.py:187\u001b[0m, in \u001b[0;36mResult.data\u001b[0;34m(self, experiment)\u001b[0m\n\u001b[1;32m    139\u001b[0m \u001b[38;5;124;03m\"\"\"Get the raw data for an experiment.\u001b[39;00m\n\u001b[1;32m    140\u001b[0m \n\u001b[1;32m    141\u001b[0m \u001b[38;5;124;03mNote this data will be a single classical and quantum register and in a\u001b[39;00m\n\u001b[0;32m   (...)\u001b[0m\n\u001b[1;32m    184\u001b[0m \u001b[38;5;124;03m    QiskitError: if data for the experiment could not be retrieved.\u001b[39;00m\n\u001b[1;32m    185\u001b[0m \u001b[38;5;124;03m\"\"\"\u001b[39;00m\n\u001b[1;32m    186\u001b[0m \u001b[38;5;28;01mtry\u001b[39;00m:\n\u001b[0;32m--> 187\u001b[0m     \u001b[38;5;28;01mreturn\u001b[39;00m \u001b[38;5;28;43mself\u001b[39;49m\u001b[38;5;241;43m.\u001b[39;49m\u001b[43m_get_experiment\u001b[49m\u001b[43m(\u001b[49m\u001b[43mexperiment\u001b[49m\u001b[43m)\u001b[49m\u001b[38;5;241m.\u001b[39mdata\u001b[38;5;241m.\u001b[39mto_dict()\n\u001b[1;32m    188\u001b[0m \u001b[38;5;28;01mexcept\u001b[39;00m (\u001b[38;5;167;01mKeyError\u001b[39;00m, \u001b[38;5;167;01mTypeError\u001b[39;00m) \u001b[38;5;28;01mas\u001b[39;00m ex:\n\u001b[1;32m    189\u001b[0m     \u001b[38;5;28;01mraise\u001b[39;00m QiskitError(\u001b[38;5;124mf\u001b[39m\u001b[38;5;124m'\u001b[39m\u001b[38;5;124mNo data for experiment \u001b[39m\u001b[38;5;124m\"\u001b[39m\u001b[38;5;132;01m{\u001b[39;00m\u001b[38;5;28mrepr\u001b[39m(experiment)\u001b[38;5;132;01m}\u001b[39;00m\u001b[38;5;124m\"\u001b[39m\u001b[38;5;124m'\u001b[39m) \u001b[38;5;28;01mfrom\u001b[39;00m \u001b[38;5;21;01mex\u001b[39;00m\n",
      "File \u001b[0;32m~/.qbraid/environments/qbraid_sdk_9j9sjy/pyenv/lib/python3.9/site-packages/qiskit/result/result.py:380\u001b[0m, in \u001b[0;36mResult._get_experiment\u001b[0;34m(self, key)\u001b[0m\n\u001b[1;32m    373\u001b[0m exp \u001b[38;5;241m=\u001b[39m [\n\u001b[1;32m    374\u001b[0m     result\n\u001b[1;32m    375\u001b[0m     \u001b[38;5;28;01mfor\u001b[39;00m result \u001b[38;5;129;01min\u001b[39;00m \u001b[38;5;28mself\u001b[39m\u001b[38;5;241m.\u001b[39mresults\n\u001b[1;32m    376\u001b[0m     \u001b[38;5;28;01mif\u001b[39;00m \u001b[38;5;28mgetattr\u001b[39m(\u001b[38;5;28mgetattr\u001b[39m(result, \u001b[38;5;124m\"\u001b[39m\u001b[38;5;124mheader\u001b[39m\u001b[38;5;124m\"\u001b[39m, \u001b[38;5;28;01mNone\u001b[39;00m), \u001b[38;5;124m\"\u001b[39m\u001b[38;5;124mname\u001b[39m\u001b[38;5;124m\"\u001b[39m, \u001b[38;5;124m\"\u001b[39m\u001b[38;5;124m\"\u001b[39m) \u001b[38;5;241m==\u001b[39m key\n\u001b[1;32m    377\u001b[0m ]\n\u001b[1;32m    379\u001b[0m \u001b[38;5;28;01mif\u001b[39;00m \u001b[38;5;28mlen\u001b[39m(exp) \u001b[38;5;241m==\u001b[39m \u001b[38;5;241m0\u001b[39m:\n\u001b[0;32m--> 380\u001b[0m     \u001b[38;5;28;01mraise\u001b[39;00m QiskitError(\u001b[38;5;124m'\u001b[39m\u001b[38;5;124mData for experiment \u001b[39m\u001b[38;5;124m\"\u001b[39m\u001b[38;5;132;01m%s\u001b[39;00m\u001b[38;5;124m\"\u001b[39m\u001b[38;5;124m could not be found.\u001b[39m\u001b[38;5;124m'\u001b[39m \u001b[38;5;241m%\u001b[39m key)\n\u001b[1;32m    381\u001b[0m \u001b[38;5;28;01mif\u001b[39;00m \u001b[38;5;28mlen\u001b[39m(exp) \u001b[38;5;241m==\u001b[39m \u001b[38;5;241m1\u001b[39m:\n\u001b[1;32m    382\u001b[0m     exp \u001b[38;5;241m=\u001b[39m exp[\u001b[38;5;241m0\u001b[39m]\n",
      "\u001b[0;31mQiskitError\u001b[0m: 'Data for experiment \"circuit-4318\" could not be found.'"
     ]
    }
   ],
   "source": [
    "# Run circuit on unitary simulator to find ideal unitary\n",
    "job = qiskit.execute(circ, Aer.get_backend('unitary_simulator'))\n",
    "ideal_unitary = job.result().get_unitary(circ)\n",
    "# convert to Choi-matrix in column-major convention\n",
    "choi_ideal = outer(ideal_unitary.ravel(order='F'))\n",
    "\n",
    "# Generate process tomography circuits and run on qasm simulator\n",
    "qpt_circs = process_tomography_circuits(circ, q)\n",
    "job = qiskit.execute(qpt_circs, Aer.get_backend('qasm_simulator'), shots=4000)\n",
    "\n",
    "# Extract tomography data so that counts are indexed by measurement configuration\n",
    "qpt_tomo = ProcessTomographyFitter(job.result(), qpt_circs)\n",
    "qpt_tomo.data\n",
    "\n",
    "choi_lstsq = qpt_tomo.fit(method='lstsq')\n",
    "print('fit fidelity (process):', np.real(process_fidelity(choi_ideal, choi_lstsq.data, require_cptp=False)))"
   ]
  },
  {
   "cell_type": "code",
   "execution_count": null,
   "id": "bf83b1be-bc6b-4ecf-b087-bd125db0f366",
   "metadata": {},
   "outputs": [],
   "source": [
    "plt.plot(numcx,abserr,c='red')\n",
    "plt.scatter(numcx,abserr)\n",
    "plt.xlabel('Number of CNOT gates')\n",
    "plt.ylabel('Absolute error')\n",
    "plt.show()"
   ]
  },
  {
   "cell_type": "code",
   "execution_count": null,
   "id": "eb79d979-2ea5-42bf-95f0-f3ad642dcc4d",
   "metadata": {},
   "outputs": [],
   "source": [
    "plt.plot(numcx,gatedepth,c='red')\n",
    "plt.scatter(numcx,gatedepth)\n",
    "plt.xlabel('Number of CNOT gates')\n",
    "plt.ylabel('Absolute error')\n",
    "plt.show()"
   ]
  },
  {
   "cell_type": "code",
   "execution_count": null,
   "id": "eedea4ad-12d2-4858-8c6b-837be5c9295a",
   "metadata": {},
   "outputs": [],
   "source": [
    "def uncorr(q, c, system, ancillae, g, t, i):\n",
    "    ucoA = QuantumCircuit(q,c)\n",
    "    ucoA.h(q[system])\n",
    "    # State Preparation\n",
    "    for l in range(i):\n",
    "        ucoA.h(q[ancillae[l]])\n",
    "    \n",
    "    # Collisions between the system and ancilla qubits\n",
    "    for j in range(1,i+1):\n",
    "        ucoA.cnot(q[j],q[system])\n",
    "        ucoA.rz(t, q[system])\n",
    "        ucoA.cnot(q[j],q[system])\n",
    "    \n",
    "    ucoA.h(q[system])\n",
    "    \n",
    "    ucoA.measure(q[system],c[0])\n",
    "        \n",
    "    return ucoA"
   ]
  },
  {
   "cell_type": "code",
   "execution_count": null,
   "id": "78481d94-44c5-4985-9b9b-91148fa1fc0a",
   "metadata": {},
   "outputs": [],
   "source": [
    "n = 7\n",
    "q = QuantumRegister(n+1,name = 'q')\n",
    "c = ClassicalRegister(1, name = 'c')\n",
    "system = 0\n",
    "ancillae = range(1,n+1)\n",
    "rho_12, T = [], []\n",
    "tt = np.pi/6\n",
    "g = 1\n",
    "t = g*(tt)\n",
    "for i in range(1,n+1,1):\n",
    "    circ = uncorr(q, c, system, ancillae, g, 2*tt, i)\n",
    "    if i == 4:\n",
    "        qq = circ\n",
    "    T.append(i*t)\n",
    "    job = qiskit.execute(circ, Aer.get_backend('qasm_simulator'), shots=1024)\n",
    "    counts = job.result().get_counts()\n",
    "    rho_12.append((counts.get('0',0)-counts.get('1',0))/(2*(counts.get('0',0)+counts.get('1',0))))\n",
    "\n",
    "def uncorrfunc(i):\n",
    "    return np.power(np.cos(2*g*tt),i/t)/2\n",
    "\n",
    "x_ax = np.linspace(0,T[-1],num=1000)\n",
    "plt.title('Perfect')\n",
    "plt.plot(x_ax,uncorrfunc(x_ax),linestyle='--')\n",
    "plt.scatter(T, rho_12)"
   ]
  },
  {
   "cell_type": "code",
   "execution_count": null,
   "id": "0881fd4e-86ff-4608-8a9b-75d1a6701afd",
   "metadata": {},
   "outputs": [],
   "source": [
    "n = 20\n",
    "q = QuantumRegister(n+1,name = 'q')\n",
    "c = ClassicalRegister(1, name = 'c')\n",
    "system = 0\n",
    "ancillae = range(1,n+1)\n",
    "rho_12, T = [], []\n",
    "tt = np.pi/6\n",
    "g = 1\n",
    "t = g*(tt)\n",
    "for i in range(1,n+1,1):\n",
    "    circ = uncorr(q, c, system, ancillae, g, 2*tt, i)\n",
    "    if i == 4:\n",
    "        qq = circ\n",
    "    T.append(i*t)\n",
    "    job = qiskit.execute(circ, Aer.get_backend('qasm_simulator'),basis_gates=basis_gates,noise_model=noisemodel, shots=256)\n",
    "    counts = job.result().get_counts()\n",
    "    rho_12.append((counts.get('0',0)-counts.get('1',0))/(2*(counts.get('0',0)+counts.get('1',0))))\n",
    "\n",
    "def uncorrfunc(i):\n",
    "    return np.power(np.cos(2*g*tt),i/t)/2\n",
    "\n",
    "x_ax = np.linspace(0,T[-1],num=1000)\n",
    "plt.title('Noisy')\n",
    "plt.plot(x_ax,uncorrfunc(x_ax),linestyle='--')\n",
    "plt.scatter(T, rho_12)"
   ]
  },
  {
   "cell_type": "code",
   "execution_count": null,
   "id": "8f367192-d42c-445c-b7be-863290880b96",
   "metadata": {},
   "outputs": [],
   "source": [
    "def depolarizing_channel(q, p, system, ancillae):\n",
    "    \"\"\"Returns a QuantumCircuit implementing depolarizing channel on q[system]\n",
    "    \n",
    "    Args:\n",
    "        q (QuantumRegister): the register to use for the circuit\n",
    "        p (float): the probability for the channel between 0 and 1\n",
    "        system (int): index of the system qubit\n",
    "        ancillae (list): list of indices for the ancillary qubits\n",
    "        \n",
    "    Returns:\n",
    "        A QuantumCircuit object\n",
    "    \"\"\"\n",
    "    z = QuantumCircuit(q)\n",
    "    \n",
    "    theta = 0.5*np.arccos(1-(2*p))\n",
    "    \n",
    "    t1 = np.pi/4\n",
    "    t2 = np.pi/4\n",
    "    \n",
    "    z.ry(theta, q[ancillae[0]])\n",
    "    z.ry(theta, q[ancillae[1]])\n",
    "    z.ry(theta, q[ancillae[2]])\n",
    "    \n",
    "    z.ry(t1, q[system])\n",
    "    z.rz(t2, q[system])\n",
    "    \n",
    "    z.cx(q[ancillae[0]], q[system])\n",
    "    z.cy(q[ancillae[1]], q[system])\n",
    "    z.cz(q[ancillae[2]], q[system])\n",
    "    \n",
    "    return z"
   ]
  },
  {
   "cell_type": "code",
   "execution_count": null,
   "id": "3cc3835d-e5af-496f-a447-0251441d38d9",
   "metadata": {},
   "outputs": [],
   "source": [
    "p = np.linspace(0,1.0,10)\n",
    "q = QuantumRegister(5,name = 'q')\n",
    "system = 2\n",
    "ancillae = [1,3,4]\n",
    "rho11, rho22, Rrho12, Irho12 = [], [], [], []\n",
    "for i in p:\n",
    "    circuit = depolarizing_channel(q, i, system, ancillae)\n",
    "    qst_bell = state_tomography_circuits(circuit, q[system])\n",
    "    job = qiskit.execute(qst_bell, Aer.get_backend('qasm_simulator'), shots=5000)\n",
    "    tomo_fitter_bell = StateTomographyFitter(job.result(), qst_bell)\n",
    "    rho = tomo_fitter_bell.fit(method='lstsq')\n",
    "    rho11.append(rho[0,0])\n",
    "    rho22.append(rho[1,1])\n",
    "    Rrho12.append(np.real(rho[0,1]))\n",
    "    Irho12.append(np.imag(rho[0,1]))\n",
    "\n",
    "plt.scatter(p, rho11, label=\"rho11\")\n",
    "plt.scatter(p, rho22, label=\"rho22\")\n",
    "plt.scatter(p, Rrho12, label=\"Rrho12\")\n",
    "plt.scatter(p, Irho12, label=\"Irho12\")\n",
    "plt.legend()\n",
    "plt.show()"
   ]
  },
  {
   "cell_type": "code",
   "execution_count": null,
   "id": "55ae6a29-92e2-43c9-8384-43bb37f56524",
   "metadata": {},
   "outputs": [],
   "source": []
  }
 ],
 "metadata": {
  "kernelspec": {
   "display_name": "Python 3 [qBraid-SDK]",
   "language": "python",
   "name": "python3_qbraid_sdk_9j9sjy"
  },
  "language_info": {
   "codemirror_mode": {
    "name": "ipython",
    "version": 3
   },
   "file_extension": ".py",
   "mimetype": "text/x-python",
   "name": "python",
   "nbconvert_exporter": "python",
   "pygments_lexer": "ipython3",
   "version": "3.9.10"
  }
 },
 "nbformat": 4,
 "nbformat_minor": 5
}
