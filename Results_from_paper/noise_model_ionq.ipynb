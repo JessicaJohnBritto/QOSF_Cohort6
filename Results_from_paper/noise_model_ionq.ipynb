{
 "cells": [
  {
   "cell_type": "markdown",
   "id": "20232de4-b05b-4f3d-828c-240287f43485",
   "metadata": {
    "tags": []
   },
   "source": [
    "<h1>Definitions</h1>"
   ]
  },
  {
   "cell_type": "code",
   "execution_count": 1,
   "id": "8afb4123-f65f-44fc-a981-d6732e5b6375",
   "metadata": {},
   "outputs": [
    {
     "name": "stdout",
     "output_type": "stream",
     "text": [
      "Error processing line 3 of /opt/conda/lib/python3.9/site-packages/googleapis_common_protos-1.59.0-py3.9-nspkg.pth:\n",
      "\n",
      "  Traceback (most recent call last):\n",
      "    File \"/opt/conda/lib/python3.9/site.py\", line 169, in addpackage\n",
      "      exec(line)\n",
      "    File \"<string>\", line 1, in <module>\n",
      "    File \"<frozen importlib._bootstrap>\", line 562, in module_from_spec\n",
      "  AttributeError: 'NoneType' object has no attribute 'loader'\n",
      "\n",
      "Remainder of file ignored\n",
      "Requirement already satisfied: cvxpy in /opt/conda/lib/python3.9/site-packages (1.3.1)\n",
      "Requirement already satisfied: scipy>=1.1.0 in /opt/conda/lib/python3.9/site-packages (from cvxpy) (1.10.1)\n",
      "Requirement already satisfied: numpy>=1.15 in /opt/conda/lib/python3.9/site-packages (from cvxpy) (1.23.5)\n",
      "Requirement already satisfied: ecos>=2 in /opt/conda/lib/python3.9/site-packages (from cvxpy) (2.0.12)\n",
      "Requirement already satisfied: scs>=1.1.6 in /opt/conda/lib/python3.9/site-packages (from cvxpy) (3.2.3)\n",
      "Requirement already satisfied: setuptools>65.5.1 in /opt/conda/lib/python3.9/site-packages (from cvxpy) (67.6.1)\n",
      "Requirement already satisfied: osqp>=0.4.1 in /opt/conda/lib/python3.9/site-packages (from cvxpy) (0.6.2.post8)\n",
      "Requirement already satisfied: qdldl in /opt/conda/lib/python3.9/site-packages (from osqp>=0.4.1->cvxpy) (0.1.7)\n"
     ]
    }
   ],
   "source": [
    "import numpy as np\n",
    "import matplotlib.pyplot as plt\n",
    "import qiskit\n",
    "from qiskit import IBMQ, Aer,QuantumCircuit, ClassicalRegister, QuantumRegister, transpile, assemble\n",
    "from qiskit.quantum_info import Kraus, SuperOp\n",
    "from qiskit_aer import AerSimulator\n",
    "from qiskit.tools.visualization import plot_histogram\n",
    "# Import from Qiskit Aer noise module\n",
    "from qiskit_aer.noise import (NoiseModel, QuantumError, ReadoutError,\n",
    "    pauli_error, depolarizing_error, thermal_relaxation_error)\n",
    "\n",
    "# from qiskit_experiments.library import StateTomography\n",
    "!pip install cvxpy\n",
    "import cvxpy\n"
   ]
  },
  {
   "cell_type": "code",
   "execution_count": 2,
   "id": "978345c6-0cd6-4106-968e-c404fa33f4bf",
   "metadata": {},
   "outputs": [
    {
     "name": "stdout",
     "output_type": "stream",
     "text": [
      "Error processing line 3 of /opt/conda/lib/python3.9/site-packages/googleapis_common_protos-1.59.0-py3.9-nspkg.pth:\n",
      "\n",
      "  Traceback (most recent call last):\n",
      "    File \"/opt/conda/lib/python3.9/site.py\", line 169, in addpackage\n",
      "      exec(line)\n",
      "    File \"<string>\", line 1, in <module>\n",
      "    File \"<frozen importlib._bootstrap>\", line 562, in module_from_spec\n",
      "  AttributeError: 'NoneType' object has no attribute 'loader'\n",
      "\n",
      "Remainder of file ignored\n",
      "Collecting mitiq\n",
      "  Using cached mitiq-0.25.0-py3-none-any.whl (160 kB)\n",
      "Requirement already satisfied: numpy>=1.22.0 in /opt/conda/lib/python3.9/site-packages (from mitiq) (1.23.5)\n",
      "Collecting cirq~=1.1.0\n",
      "  Using cached cirq-1.1.0-py3-none-any.whl (7.7 kB)\n",
      "Requirement already satisfied: scipy~=1.10.1 in /opt/conda/lib/python3.9/site-packages (from mitiq) (1.10.1)\n",
      "Collecting cirq-rigetti==1.1.0\n",
      "  Using cached cirq_rigetti-1.1.0-py3-none-any.whl (66 kB)\n",
      "Collecting cirq-google==1.1.0\n",
      "  Using cached cirq_google-1.1.0-py3-none-any.whl (577 kB)\n",
      "Requirement already satisfied: cirq-ionq==1.1.0 in /opt/conda/lib/python3.9/site-packages (from cirq~=1.1.0->mitiq) (1.1.0)\n",
      "Collecting cirq-pasqal==1.1.0\n",
      "  Using cached cirq_pasqal-1.1.0-py3-none-any.whl (31 kB)\n",
      "Collecting cirq-web==1.1.0\n",
      "  Using cached cirq_web-1.1.0-py3-none-any.whl (594 kB)\n",
      "Collecting cirq-aqt==1.1.0\n",
      "  Using cached cirq_aqt-1.1.0-py3-none-any.whl (27 kB)\n",
      "Requirement already satisfied: cirq-core==1.1.0 in /opt/conda/lib/python3.9/site-packages (from cirq~=1.1.0->mitiq) (1.1.0)\n",
      "Requirement already satisfied: requests~=2.18 in /opt/conda/lib/python3.9/site-packages (from cirq-aqt==1.1.0->cirq~=1.1.0->mitiq) (2.28.2)\n",
      "Requirement already satisfied: matplotlib~=3.0 in /opt/conda/lib/python3.9/site-packages (from cirq-core==1.1.0->cirq~=1.1.0->mitiq) (3.7.0)\n",
      "Requirement already satisfied: tqdm in /opt/conda/lib/python3.9/site-packages (from cirq-core==1.1.0->cirq~=1.1.0->mitiq) (4.62.3)\n",
      "Requirement already satisfied: pandas in /opt/conda/lib/python3.9/site-packages (from cirq-core==1.1.0->cirq~=1.1.0->mitiq) (1.5.3)\n",
      "Requirement already satisfied: sympy in /opt/conda/lib/python3.9/site-packages (from cirq-core==1.1.0->cirq~=1.1.0->mitiq) (1.11.1)\n",
      "Requirement already satisfied: typing-extensions in /opt/conda/lib/python3.9/site-packages (from cirq-core==1.1.0->cirq~=1.1.0->mitiq) (4.4.0)\n",
      "Requirement already satisfied: duet~=0.2.7 in /opt/conda/lib/python3.9/site-packages (from cirq-core==1.1.0->cirq~=1.1.0->mitiq) (0.2.7)\n",
      "Requirement already satisfied: networkx~=2.4 in /opt/conda/lib/python3.9/site-packages (from cirq-core==1.1.0->cirq~=1.1.0->mitiq) (2.8.8)\n",
      "Requirement already satisfied: sortedcontainers~=2.0 in /opt/conda/lib/python3.9/site-packages (from cirq-core==1.1.0->cirq~=1.1.0->mitiq) (2.4.0)\n",
      "Requirement already satisfied: protobuf<4,>=3.15.0 in /opt/conda/lib/python3.9/site-packages (from cirq-google==1.1.0->cirq~=1.1.0->mitiq) (3.20.3)\n",
      "Requirement already satisfied: proto-plus>=1.20.0 in /opt/conda/lib/python3.9/site-packages (from cirq-google==1.1.0->cirq~=1.1.0->mitiq) (1.22.2)\n",
      "Collecting google-api-core[grpc]<2.0.0dev,>=1.14.0\n",
      "  Using cached google_api_core-1.34.0-py3-none-any.whl (120 kB)\n",
      "Collecting pyquil>=3.2.0\n",
      "  Using cached pyquil-3.3.5-py3-none-any.whl (221 kB)\n",
      "Collecting googleapis-common-protos<2.0dev,>=1.56.2\n",
      "  Using cached googleapis_common_protos-1.59.0-py2.py3-none-any.whl (223 kB)\n",
      "Collecting google-auth<3.0dev,>=1.25.0\n",
      "  Using cached google_auth-2.17.2-py2.py3-none-any.whl (178 kB)\n",
      "Requirement already satisfied: grpcio<2.0dev,>=1.33.2 in /opt/conda/lib/python3.9/site-packages (from google-api-core[grpc]<2.0.0dev,>=1.14.0->cirq-google==1.1.0->cirq~=1.1.0->mitiq) (1.53.0)\n",
      "Collecting grpcio-status<2.0dev,>=1.33.2\n",
      "  Using cached grpcio_status-1.53.0-py3-none-any.whl (5.1 kB)\n",
      "Requirement already satisfied: kiwisolver>=1.0.1 in /opt/conda/lib/python3.9/site-packages (from matplotlib~=3.0->cirq-core==1.1.0->cirq~=1.1.0->mitiq) (1.4.4)\n",
      "Requirement already satisfied: python-dateutil>=2.7 in /opt/conda/lib/python3.9/site-packages (from matplotlib~=3.0->cirq-core==1.1.0->cirq~=1.1.0->mitiq) (2.8.2)\n",
      "Requirement already satisfied: importlib-resources>=3.2.0 in /opt/conda/lib/python3.9/site-packages (from matplotlib~=3.0->cirq-core==1.1.0->cirq~=1.1.0->mitiq) (5.4.0)\n",
      "Requirement already satisfied: cycler>=0.10 in /opt/conda/lib/python3.9/site-packages (from matplotlib~=3.0->cirq-core==1.1.0->cirq~=1.1.0->mitiq) (0.11.0)\n",
      "Requirement already satisfied: pillow>=6.2.0 in /opt/conda/lib/python3.9/site-packages (from matplotlib~=3.0->cirq-core==1.1.0->cirq~=1.1.0->mitiq) (9.4.0)\n",
      "Requirement already satisfied: packaging>=20.0 in /opt/conda/lib/python3.9/site-packages (from matplotlib~=3.0->cirq-core==1.1.0->cirq~=1.1.0->mitiq) (21.3)\n",
      "Requirement already satisfied: contourpy>=1.0.1 in /opt/conda/lib/python3.9/site-packages (from matplotlib~=3.0->cirq-core==1.1.0->cirq~=1.1.0->mitiq) (1.0.7)\n",
      "Requirement already satisfied: fonttools>=4.22.0 in /opt/conda/lib/python3.9/site-packages (from matplotlib~=3.0->cirq-core==1.1.0->cirq~=1.1.0->mitiq) (4.38.0)\n",
      "Requirement already satisfied: pyparsing>=2.3.1 in /opt/conda/lib/python3.9/site-packages (from matplotlib~=3.0->cirq-core==1.1.0->cirq~=1.1.0->mitiq) (3.0.7)\n",
      "Requirement already satisfied: types-retry<0.10.0,>=0.9.9 in /opt/conda/lib/python3.9/site-packages (from pyquil>=3.2.0->cirq-rigetti==1.1.0->cirq~=1.1.0->mitiq) (0.9.9.3)\n",
      "Requirement already satisfied: lark<0.12.0,>=0.11.1 in /opt/conda/lib/python3.9/site-packages (from pyquil>=3.2.0->cirq-rigetti==1.1.0->cirq~=1.1.0->mitiq) (0.11.3)\n",
      "Requirement already satisfied: types-python-dateutil<3.0.0,>=2.8.19 in /opt/conda/lib/python3.9/site-packages (from pyquil>=3.2.0->cirq-rigetti==1.1.0->cirq~=1.1.0->mitiq) (2.8.19.12)\n",
      "Collecting rpcq<4.0.0,>=3.10.0\n",
      "  Using cached rpcq-3.11.0-py3-none-any.whl\n",
      "Collecting qcs-api-client<0.22.0,>=0.21.0\n",
      "  Using cached qcs_api_client-0.21.4-py3-none-any.whl (151 kB)\n",
      "Requirement already satisfied: retry<0.10.0,>=0.9.2 in /opt/conda/lib/python3.9/site-packages (from pyquil>=3.2.0->cirq-rigetti==1.1.0->cirq~=1.1.0->mitiq) (0.9.2)\n",
      "Requirement already satisfied: charset-normalizer<4,>=2 in /opt/conda/lib/python3.9/site-packages (from requests~=2.18->cirq-aqt==1.1.0->cirq~=1.1.0->mitiq) (2.0.12)\n",
      "Requirement already satisfied: idna<4,>=2.5 in /opt/conda/lib/python3.9/site-packages (from requests~=2.18->cirq-aqt==1.1.0->cirq~=1.1.0->mitiq) (3.3)\n",
      "Requirement already satisfied: certifi>=2017.4.17 in /opt/conda/lib/python3.9/site-packages (from requests~=2.18->cirq-aqt==1.1.0->cirq~=1.1.0->mitiq) (2022.12.7)\n",
      "Requirement already satisfied: urllib3<1.27,>=1.21.1 in /opt/conda/lib/python3.9/site-packages (from requests~=2.18->cirq-aqt==1.1.0->cirq~=1.1.0->mitiq) (1.26.8)\n",
      "Requirement already satisfied: pytz>=2020.1 in /opt/conda/lib/python3.9/site-packages (from pandas->cirq-core==1.1.0->cirq~=1.1.0->mitiq) (2021.3)\n",
      "Requirement already satisfied: mpmath>=0.19 in /opt/conda/lib/python3.9/site-packages (from sympy->cirq-core==1.1.0->cirq~=1.1.0->mitiq) (1.2.1)\n",
      "Collecting cachetools<6.0,>=2.0.0\n",
      "  Using cached cachetools-5.3.0-py3-none-any.whl (9.3 kB)\n",
      "Requirement already satisfied: rsa<5,>=3.1.4 in /opt/conda/lib/python3.9/site-packages (from google-auth<3.0dev,>=1.25.0->google-api-core[grpc]<2.0.0dev,>=1.14.0->cirq-google==1.1.0->cirq~=1.1.0->mitiq) (4.7.2)\n",
      "Requirement already satisfied: pyasn1-modules>=0.2.1 in /opt/conda/lib/python3.9/site-packages (from google-auth<3.0dev,>=1.25.0->google-api-core[grpc]<2.0.0dev,>=1.14.0->cirq-google==1.1.0->cirq~=1.1.0->mitiq) (0.2.8)\n",
      "Requirement already satisfied: six>=1.9.0 in /opt/conda/lib/python3.9/site-packages (from google-auth<3.0dev,>=1.25.0->google-api-core[grpc]<2.0.0dev,>=1.14.0->cirq-google==1.1.0->cirq~=1.1.0->mitiq) (1.16.0)\n",
      "Collecting grpcio-status<2.0dev,>=1.33.2\n",
      "  Using cached grpcio_status-1.51.3-py3-none-any.whl (5.1 kB)\n",
      "  Using cached grpcio_status-1.51.1-py3-none-any.whl (5.1 kB)\n",
      "  Using cached grpcio_status-1.50.0-py3-none-any.whl (14 kB)\n",
      "  Using cached grpcio_status-1.49.1-py3-none-any.whl (14 kB)\n",
      "  Using cached grpcio_status-1.48.2-py3-none-any.whl (14 kB)\n",
      "Requirement already satisfied: zipp>=3.1.0 in /opt/conda/lib/python3.9/site-packages (from importlib-resources>=3.2.0->matplotlib~=3.0->cirq-core==1.1.0->cirq~=1.1.0->mitiq) (3.7.0)\n",
      "Requirement already satisfied: retrying<2.0.0,>=1.3.3 in /opt/conda/lib/python3.9/site-packages (from qcs-api-client<0.22.0,>=0.21.0->pyquil>=3.2.0->cirq-rigetti==1.1.0->cirq~=1.1.0->mitiq) (1.3.4)\n",
      "Requirement already satisfied: pydantic<2.0.0,>=1.7.2 in /opt/conda/lib/python3.9/site-packages (from qcs-api-client<0.22.0,>=0.21.0->pyquil>=3.2.0->cirq-rigetti==1.1.0->cirq~=1.1.0->mitiq) (1.10.7)\n",
      "Requirement already satisfied: rfc3339<7.0,>=6.2 in /opt/conda/lib/python3.9/site-packages (from qcs-api-client<0.22.0,>=0.21.0->pyquil>=3.2.0->cirq-rigetti==1.1.0->cirq~=1.1.0->mitiq) (6.2)\n",
      "Requirement already satisfied: attrs<22.0.0,>=21.3.0 in /opt/conda/lib/python3.9/site-packages (from qcs-api-client<0.22.0,>=0.21.0->pyquil>=3.2.0->cirq-rigetti==1.1.0->cirq~=1.1.0->mitiq) (21.4.0)\n",
      "Requirement already satisfied: toml<0.11.0,>=0.10.2 in /opt/conda/lib/python3.9/site-packages (from qcs-api-client<0.22.0,>=0.21.0->pyquil>=3.2.0->cirq-rigetti==1.1.0->cirq~=1.1.0->mitiq) (0.10.2)\n",
      "Requirement already satisfied: iso8601<2.0.0,>=1.0.2 in /opt/conda/lib/python3.9/site-packages (from qcs-api-client<0.22.0,>=0.21.0->pyquil>=3.2.0->cirq-rigetti==1.1.0->cirq~=1.1.0->mitiq) (1.1.0)\n",
      "Requirement already satisfied: PyJWT<3.0.0,>=2.4.0 in /opt/conda/lib/python3.9/site-packages (from qcs-api-client<0.22.0,>=0.21.0->pyquil>=3.2.0->cirq-rigetti==1.1.0->cirq~=1.1.0->mitiq) (2.6.0)\n",
      "Collecting httpx<0.24.0,>=0.23.0\n",
      "  Using cached httpx-0.23.3-py3-none-any.whl (71 kB)\n",
      "Requirement already satisfied: decorator>=3.4.2 in /opt/conda/lib/python3.9/site-packages (from retry<0.10.0,>=0.9.2->pyquil>=3.2.0->cirq-rigetti==1.1.0->cirq~=1.1.0->mitiq) (5.1.1)\n",
      "Requirement already satisfied: py<2.0.0,>=1.4.26 in /opt/conda/lib/python3.9/site-packages (from retry<0.10.0,>=0.9.2->pyquil>=3.2.0->cirq-rigetti==1.1.0->cirq~=1.1.0->mitiq) (1.11.0)\n",
      "Requirement already satisfied: ruamel.yaml in /opt/conda/lib/python3.9/site-packages (from rpcq<4.0.0,>=3.10.0->pyquil>=3.2.0->cirq-rigetti==1.1.0->cirq~=1.1.0->mitiq) (0.17.21)\n",
      "Requirement already satisfied: python-rapidjson in /opt/conda/lib/python3.9/site-packages (from rpcq<4.0.0,>=3.10.0->pyquil>=3.2.0->cirq-rigetti==1.1.0->cirq~=1.1.0->mitiq) (1.10)\n",
      "Requirement already satisfied: msgpack<2.0,>=0.6 in /opt/conda/lib/python3.9/site-packages (from rpcq<4.0.0,>=3.10.0->pyquil>=3.2.0->cirq-rigetti==1.1.0->cirq~=1.1.0->mitiq) (1.0.5)\n",
      "Requirement already satisfied: pyzmq>=17 in /opt/conda/lib/python3.9/site-packages (from rpcq<4.0.0,>=3.10.0->pyquil>=3.2.0->cirq-rigetti==1.1.0->cirq~=1.1.0->mitiq) (22.3.0)\n",
      "Requirement already satisfied: sniffio in /opt/conda/lib/python3.9/site-packages (from httpx<0.24.0,>=0.23.0->qcs-api-client<0.22.0,>=0.21.0->pyquil>=3.2.0->cirq-rigetti==1.1.0->cirq~=1.1.0->mitiq) (1.2.0)\n",
      "Collecting httpcore<0.17.0,>=0.15.0\n",
      "  Using cached httpcore-0.16.3-py3-none-any.whl (69 kB)\n",
      "Requirement already satisfied: rfc3986[idna2008]<2,>=1.3 in /opt/conda/lib/python3.9/site-packages (from httpx<0.24.0,>=0.23.0->qcs-api-client<0.22.0,>=0.21.0->pyquil>=3.2.0->cirq-rigetti==1.1.0->cirq~=1.1.0->mitiq) (1.5.0)\n",
      "Requirement already satisfied: pyasn1<0.5.0,>=0.4.6 in /opt/conda/lib/python3.9/site-packages (from pyasn1-modules>=0.2.1->google-auth<3.0dev,>=1.25.0->google-api-core[grpc]<2.0.0dev,>=1.14.0->cirq-google==1.1.0->cirq~=1.1.0->mitiq) (0.4.8)\n",
      "Requirement already satisfied: ruamel.yaml.clib>=0.2.6 in /opt/conda/lib/python3.9/site-packages (from ruamel.yaml->rpcq<4.0.0,>=3.10.0->pyquil>=3.2.0->cirq-rigetti==1.1.0->cirq~=1.1.0->mitiq) (0.2.6)\n",
      "Requirement already satisfied: h11<0.15,>=0.13 in /opt/conda/lib/python3.9/site-packages (from httpcore<0.17.0,>=0.15.0->httpx<0.24.0,>=0.23.0->qcs-api-client<0.22.0,>=0.21.0->pyquil>=3.2.0->cirq-rigetti==1.1.0->cirq~=1.1.0->mitiq) (0.14.0)\n",
      "Requirement already satisfied: anyio<5.0,>=3.0 in /opt/conda/lib/python3.9/site-packages (from httpcore<0.17.0,>=0.15.0->httpx<0.24.0,>=0.23.0->qcs-api-client<0.22.0,>=0.21.0->pyquil>=3.2.0->cirq-rigetti==1.1.0->cirq~=1.1.0->mitiq) (3.5.0)\n",
      "Installing collected packages: googleapis-common-protos, cachetools, rpcq, httpcore, grpcio-status, google-auth, httpx, google-api-core, qcs-api-client, cirq-web, cirq-pasqal, cirq-aqt, pyquil, cirq-google, cirq-rigetti, cirq, mitiq\n",
      "\u001b[31mERROR: Could not install packages due to an OSError: [Errno 13] Permission denied: '/opt/conda/lib/python3.9/site-packages/google/api'\n",
      "Consider using the `--user` option or check the permissions.\n",
      "\u001b[0m\u001b[31m\n",
      "\u001b[0m"
     ]
    }
   ],
   "source": [
    "!pip install mitiq\n",
    "import mitiq"
   ]
  },
  {
   "cell_type": "code",
   "execution_count": 3,
   "id": "e6702e36-e7e6-47a8-ac01-5270733be001",
   "metadata": {},
   "outputs": [],
   "source": [
    "def noisem(prob_2q):\n",
    "    #Create noise model\n",
    "    noisemodel = NoiseModel()\n",
    "    #Define times and probabilities\n",
    "    prob_1q = 1-0.9969\n",
    "    # prob_2q = 1-0.9773\n",
    "    time_t1 = 10000*1e9\n",
    "    time_t2 = 0.2*1e9\n",
    "    time_1q = 0.00001*1e9\n",
    "    time_2q = 0.0002*1e9\n",
    "    time_measure = 0.00013*1e9\n",
    "    time_reset = 0.00002*1e9\n",
    "    #Define errors\n",
    "    # error_reset = thermal_relaxation_error(time_t1, time_t2, time_reset)\n",
    "    # error_meas = thermal_relaxation_error(time_t1, time_t2, time_measure)\n",
    "    # error_1q  = thermal_relaxation_error(time_t1, time_t2, time_1q)\n",
    "    # error_2q = thermal_relaxation_error(time_t1, time_t2, time_2q).expand(\n",
    "    #              thermal_relaxation_error(time_t1, time_t2, time_2q))\n",
    "    error_1 = depolarizing_error(prob_1q, 1)\n",
    "    error_2 = depolarizing_error(prob_2q, 2)\n",
    "    #Add errors to noise model\n",
    "    # noisemodel.add_all_qubit_quantum_error(error_reset, \"reset\")\n",
    "    # noisemodel.add_all_qubit_quantum_error(error_meas, \"measure\")\n",
    "    # noisemodel.add_all_qubit_quantum_error(error_1q, ['h','rz'])\n",
    "    # noisemodel.add_all_qubit_quantum_error(error_2q, ['cx'])\n",
    "    noisemodel.add_all_qubit_quantum_error(error_1, ['h', 'rz'])\n",
    "    noisemodel.add_all_qubit_quantum_error(error_2, ['cx'])\n",
    "    basis_gates = noisemodel.basis_gates\n",
    "\n",
    "    return noisemodel, basis_gates"
   ]
  },
  {
   "cell_type": "code",
   "execution_count": 4,
   "id": "c39a4695-a96f-497f-9b34-84ef33939410",
   "metadata": {},
   "outputs": [],
   "source": [
    "# # Get basis gates from noise model\n",
    "# basis_gates = noisemodel.basis_gates\n",
    "# print(noisemodel)"
   ]
  },
  {
   "cell_type": "code",
   "execution_count": 5,
   "id": "a9934556-fa03-4d0b-93d9-2b203fed6580",
   "metadata": {},
   "outputs": [],
   "source": [
    "def wrapper(noisemodel, basis_gates, circlogic,noisy_or_perfect,do_not_plot='false', **kwargs):\n",
    "    if noisy_or_perfect=='perfect':\n",
    "        return circlogic(None,None,do_not_plot,**kwargs)\n",
    "    elif noisy_or_perfect=='noisy':\n",
    "        return circlogic(basis_gates,noisemodel,do_not_plot,**kwargs)\n",
    "    else:\n",
    "        print('Wrong argument to noisy_or_perfect')"
   ]
  },
  {
   "cell_type": "markdown",
   "id": "bf35f927-bf24-4f8a-b457-fea176101437",
   "metadata": {
    "jp-MarkdownHeadingCollapsed": true,
    "tags": []
   },
   "source": [
    "<h1>Markovian reservoir engineering</h1>"
   ]
  },
  {
   "cell_type": "code",
   "execution_count": 6,
   "id": "d8426c2b-f5e1-42e5-a2f6-c587516a9f34",
   "metadata": {},
   "outputs": [],
   "source": [
    "def zz_pump(q, c, p, system, ancilla, ini):\n",
    "    z = QuantumCircuit(q, c)\n",
    "    if ini == \"01\":\n",
    "        z.x(q[system[0]])\n",
    "    elif ini == \"10\":\n",
    "        z.x(q[system[1]])\n",
    "    elif ini == \"11\":\n",
    "        z.x(q[system[0]])\n",
    "        z.x(q[system[1]])\n",
    "    \n",
    "    z.cx(q[system[0]], q[system[1]])\n",
    "    z.x(q[ancilla[0]])\n",
    "    z.cx(q[system[1]], q[ancilla[0]])\n",
    "    \n",
    "    theta = 2 * np.arcsin(np.sqrt(p))\n",
    "    \n",
    "    z.cu(theta, 0.0, 0.0, 0.0, q[ancilla[0]], q[system[1]])\n",
    "    \n",
    "    z.cx(q[system[1]], q[ancilla[0]])\n",
    "    #z.cx(q[system[0]], q[system[1]])\n",
    "    z.h(q[system[0]])\n",
    "    z.measure(q[system[0]], c[0])\n",
    "    z.measure(q[system[1]], c[1])\n",
    "    return z  "
   ]
  },
  {
   "cell_type": "code",
   "execution_count": 7,
   "id": "c63ed71b-316d-4299-a90a-6b03422deb41",
   "metadata": {},
   "outputs": [],
   "source": [
    "def zz_xx_pump(q, c, p, system, ancillae, ini):\n",
    "    zx = QuantumCircuit(q, c)\n",
    "    if ini == \"01\":\n",
    "        zx.x(q[system[0]])\n",
    "    elif ini == \"10\":\n",
    "        zx.x(q[system[1]])\n",
    "    elif ini == \"11\":\n",
    "        zx.x(q[system[0]])\n",
    "        zx.x(q[system[1]])\n",
    "        \n",
    "    zx.cx(q[system[0]], q[system[1]])\n",
    "    zx.x(q[ancillae[0]])\n",
    "    zx.cx(q[system[1]], q[ancillae[0]])\n",
    "    \n",
    "    theta = 2 * np.arcsin(np.sqrt(p))\n",
    "    zx.cu(theta, 0.0, 0.0, 0.0, q[ancillae[0]], q[system[1]])\n",
    "    \n",
    "    zx.cx(q[system[1]], q[ancillae[0]])\n",
    "    \n",
    "    zx.h(q[system[0]])\n",
    "    zx.x(q[ancillae[1]])\n",
    "    zx.cx(q[system[0]], q[ancillae[1]])\n",
    "    \n",
    "    zx.cu(theta, 0.0, 0.0, 0.0, q[ancillae[1]], q[system[0]])\n",
    "    \n",
    "    zx.cx(q[system[0]], q[ancillae[1]])\n",
    "    \n",
    "    zx.measure(q[system[0]], c[0])\n",
    "    zx.measure(q[system[1]], c[1])\n",
    "    \n",
    "    return zx"
   ]
  },
  {
   "cell_type": "code",
   "execution_count": 8,
   "id": "738232ae-a6db-4fa8-a44c-0e8c863308be",
   "metadata": {},
   "outputs": [],
   "source": [
    "def circ_markovian(basis_gates,noise_model,do_not_plot,**kwargs):\n",
    "    # use local simulator\n",
    "\n",
    "    shots = kwargs.get('shots')\n",
    "    p = np.linspace(0,1.0,5)\n",
    "    dict = {}\n",
    "    a = [[0] * 4 for i in range(len(p))]\n",
    "    b = [[0] * len(p) for i in range(4)]\n",
    "\n",
    "\n",
    "    labels = ['00', '01', '10', '11']\n",
    "    qq = None\n",
    "    for inis in labels:\n",
    "        k=0\n",
    "        for i in p:\n",
    "            q = QuantumRegister(5, name='q')\n",
    "            c = ClassicalRegister(2, name='c')\n",
    "            circ = kwargs.get('pump')(q, c,i, [2,1], [0,4], inis)\n",
    "            qq = circ\n",
    "            job = qiskit.execute(circ, Aer.get_backend('qasm_simulator'),basis_gates=basis_gates,noise_model=noise_model, shots=kwargs.get('shots'))\n",
    "            counts = job.result().get_counts() \n",
    "            answer = {'00':0,'01':0,'10':0,'11':0}\n",
    "            labels = list(answer.keys())\n",
    "            for key,value in counts.items():\n",
    "                answer[key] = value\n",
    "            for j in range(4):\n",
    "                a[k][j] = answer[labels[j]]/kwargs.get('shots')\n",
    "            k=k+1\n",
    "        # Plotting\n",
    "        for l in range(4):\n",
    "            for m in range(5):\n",
    "                b[l][m] = b[l][m]+a[m][l]\n",
    "        # print(b)\n",
    "\n",
    "    if do_not_plot=='false':\n",
    "        plt.title(kwargs.get('plot_title'))\n",
    "        plt.scatter(p,(np.asarray(b[0]))/4, label=\"00| phi+\")\n",
    "        plt.scatter(p,(np.asarray(b[1]))/4,  label=\"01| phi-\")\n",
    "        plt.scatter(p,(np.asarray(b[2]))/4,  label=\"10| psi+\")\n",
    "        plt.scatter(p,(np.asarray(b[3]))/4,  label=\"11| psi-\")\n",
    "        plt.legend()\n",
    "        plt.show()\n",
    "    return qq"
   ]
  },
  {
   "cell_type": "code",
   "execution_count": 9,
   "id": "ac9dcc17-86f5-4eb4-9682-dfa77cc0a5b2",
   "metadata": {},
   "outputs": [
    {
     "name": "stdout",
     "output_type": "stream",
     "text": [
      "Wrong argument to noisy_or_perfect\n",
      "Wrong argument to noisy_or_perfect\n",
      "Wrong argument to noisy_or_perfect\n",
      "Wrong argument to noisy_or_perfect\n"
     ]
    }
   ],
   "source": [
    "for i in np.linspace(0.0, 1-0.9773, num = 4):\n",
    "    noisemodel, basis_gates = noisem(i)\n",
    "    qq = wrapper(noisemodel, basis_gates,circ_markovian,'',plot_title='Perfect',shots=1024,pump=zz_pump)"
   ]
  },
  {
   "cell_type": "markdown",
   "id": "448106ef-a6df-4151-975a-e0e9e92f132b",
   "metadata": {
    "tags": []
   },
   "source": [
    "<h1>Collisional model</h1>"
   ]
  },
  {
   "cell_type": "markdown",
   "id": "2061b741-d0dd-44e9-9c5f-c1451c633321",
   "metadata": {
    "tags": []
   },
   "source": [
    "<h2>Correlated case</h2>"
   ]
  },
  {
   "cell_type": "code",
   "execution_count": 15,
   "id": "f5804740-e438-4f86-a5f6-d32cbe003479",
   "metadata": {},
   "outputs": [],
   "source": [
    "def corr(q, c, system, ancillae, g, t, i):\n",
    "    coA = QuantumCircuit(q,c)\n",
    "    \n",
    "    # State Preparation\n",
    "    coA.h(q[system])\n",
    "    coA.h(q[ancillae[2]])\n",
    "    coA.cnot(q[ancillae[2]],q[ancillae[1]])\n",
    "    coA.cnot(q[ancillae[2]],q[ancillae[0]])\n",
    "    \n",
    "    # Collisions between the system and ancilla qubits\n",
    "    for j in range(1, i+1, 1):\n",
    "        if j%2 != 0:\n",
    "            coA.cnot(q[ancillae[0]],q[system])\n",
    "            coA.rz(t, q[system])\n",
    "            coA.cnot(q[ancillae[0]],q[system])\n",
    "        else:\n",
    "            coA.cnot(q[ancillae[1]],q[system])\n",
    "            coA.rz(t, q[system])\n",
    "            coA.cnot(q[ancillae[1]],q[system])\n",
    "    \n",
    "    coA.h(q[system])\n",
    "    # op = qi.Operator(coA)\n",
    "    # array = op.data\n",
    "    # print(array)\n",
    "    \n",
    "    coA.measure(q[system],c[0])\n",
    "        \n",
    "    # return coA, array\n",
    "    return coA"
   ]
  },
  {
   "cell_type": "code",
   "execution_count": 16,
   "id": "e3bf85a2-c48c-4d5e-a19e-b111808a3d64",
   "metadata": {},
   "outputs": [],
   "source": [
    "def circ_correlate(basis_gates,noise_model,do_not_plot,**kwargs):\n",
    "    q = QuantumRegister(4,name = 'q')\n",
    "    c = ClassicalRegister(1, name = 'c')\n",
    "    system = 0\n",
    "    ancillae = [1, 2, 3]\n",
    "    rho_12, T = [], []\n",
    "    n = kwargs.get('collisions')\n",
    "    tt = np.pi/6\n",
    "    g = 1\n",
    "    t = g*(tt)\n",
    "    numcx = []\n",
    "    gatedepth = []\n",
    "    for i in range(1,n+1,1):\n",
    "        circ = corr(q, c, system, ancillae, g, tt, i)\n",
    "        numcx.append(circ.count_ops()['cx'])\n",
    "        gatedepth.append(circ.depth())\n",
    "        T.append(i*t)\n",
    "        job = qiskit.execute(circ, Aer.get_backend('qasm_simulator'),basis_gates=basis_gates,noise_model=noise_model, shots=kwargs.get('shots'))\n",
    "        counts = job.result().get_counts()  \n",
    "        rho_12.append((counts.get('0',0)-counts.get('1',0))/(2*(counts.get('0',0)+counts.get('1',0))))\n",
    "    def corrfunc(time):\n",
    "        return (np.cos(time/2)**2-np.sin(time/2)**2)/2\n",
    "\n",
    "    abserr = [abs(rho_12[i]-corrfunc(T[i])) for i in range(len(numcx))]\n",
    "\n",
    "    x_ax = np.linspace(0,T[-1],num=1000)\n",
    "    if do_not_plot=='false':\n",
    "        plt.scatter(T, np.real(rho_12),label='Simulation')\n",
    "        plt.title(kwargs.get('plot_title'))\n",
    "        plt.plot(x_ax,corrfunc(x_ax),linestyle='--',label='Theoretical')\n",
    "        plt.legend()\n",
    "        plt.show()\n",
    "    return numcx,gatedepth,abserr"
   ]
  },
  {
   "cell_type": "code",
   "execution_count": 27,
   "id": "5ddcacf3-0803-49c5-bb6f-8e9b4bfd2842",
   "metadata": {},
   "outputs": [],
   "source": [
    "from mitiq.zne import execute_with_zne\n",
    "from mitiq import zne\n",
    "def corr_circ(basis_gates,noise_model,do_not_plot,**kwargs):\n",
    "    q = QuantumRegister(4,name = 'q')\n",
    "    c = ClassicalRegister(1, name = 'c')\n",
    "    system = 0\n",
    "    ancillae = [1, 2, 3]\n",
    "    rho_12, T = [], []\n",
    "    n = kwargs.get('collisions')\n",
    "    tt = np.pi/6\n",
    "    g = 1\n",
    "    t = g*(tt)\n",
    "    numcx = []\n",
    "    gatedepth = []\n",
    "    znee = []\n",
    "    for i in range(1,n+1,1):\n",
    "        circ = corr(q, c, system, ancillae, g, tt, i)\n",
    "        def executor ( circ : mitiq.QPROGRAM) -> float:\n",
    "            circ2 = corr(q, c, system, ancillae, g, tt, i)\n",
    "            numcx.append(circ.count_ops()['cx'])\n",
    "            gatedepth.append(circ.depth())\n",
    "            T.append(i*t)\n",
    "            job = qiskit.execute(circ, Aer.get_backend('qasm_simulator'),basis_gates=basis_gates,noise_model=noise_model, shots=kwargs.get('shots'))\n",
    "            counts = job.result().get_counts()  \n",
    "            print(counts)\n",
    "            rho_12.append((counts.get('0',0)-counts.get('1',0))/(2*(counts.get('0',0)+counts.get('1',0))))\n",
    "            return rho_12\n",
    "        \n",
    "        zne_value = execute_with_zne (circ, \n",
    "                              executor, \n",
    "                              scale_noise=zne.scaling.fold_global)\n",
    "        znee.append(zne_value)\n",
    "    return znee"
   ]
  },
  {
   "cell_type": "code",
   "execution_count": 28,
   "id": "749f68b2-b447-42e6-8384-58f82728143f",
   "metadata": {},
   "outputs": [
    {
     "name": "stdout",
     "output_type": "stream",
     "text": [
      "{'1': 14, '0': 242}\n",
      "{'1': 27, '0': 229}\n",
      "{'1': 15, '0': 241}\n"
     ]
    },
    {
     "ename": "TypeError",
     "evalue": "expected x and y to have same length",
     "output_type": "error",
     "traceback": [
      "\u001b[0;31m---------------------------------------------------------------------------\u001b[0m",
      "\u001b[0;31mTypeError\u001b[0m                                 Traceback (most recent call last)",
      "Cell \u001b[0;32mIn[28], line 2\u001b[0m\n\u001b[1;32m      1\u001b[0m noisemodel, basis_gates \u001b[38;5;241m=\u001b[39m noisem(\u001b[38;5;241m0.9773\u001b[39m)\n\u001b[0;32m----> 2\u001b[0m znee \u001b[38;5;241m=\u001b[39m \u001b[43mwrapper\u001b[49m\u001b[43m(\u001b[49m\u001b[43mnoisemodel\u001b[49m\u001b[43m,\u001b[49m\u001b[43m \u001b[49m\u001b[43mbasis_gates\u001b[49m\u001b[43m,\u001b[49m\u001b[43m \u001b[49m\u001b[43mcorr_circ\u001b[49m\u001b[43m,\u001b[49m\u001b[38;5;124;43m'\u001b[39;49m\u001b[38;5;124;43mperfect\u001b[39;49m\u001b[38;5;124;43m'\u001b[39;49m\u001b[43m,\u001b[49m\u001b[43mplot_title\u001b[49m\u001b[38;5;241;43m=\u001b[39;49m\u001b[38;5;124;43m'\u001b[39;49m\u001b[38;5;124;43mPerfect\u001b[39;49m\u001b[38;5;124;43m'\u001b[39;49m\u001b[43m,\u001b[49m\u001b[43mshots\u001b[49m\u001b[38;5;241;43m=\u001b[39;49m\u001b[38;5;241;43m256\u001b[39;49m\u001b[43m,\u001b[49m\u001b[43mcollisions\u001b[49m\u001b[38;5;241;43m=\u001b[39;49m\u001b[38;5;241;43m20\u001b[39;49m\u001b[43m)\u001b[49m\n\u001b[1;32m      3\u001b[0m \u001b[38;5;28mprint\u001b[39m(\u001b[38;5;124m'\u001b[39m\u001b[38;5;124m*****\u001b[39m\u001b[38;5;124m'\u001b[39m)\n\u001b[1;32m      4\u001b[0m \u001b[38;5;28mprint\u001b[39m(znee)\n",
      "Cell \u001b[0;32mIn[5], line 3\u001b[0m, in \u001b[0;36mwrapper\u001b[0;34m(noisemodel, basis_gates, circlogic, noisy_or_perfect, do_not_plot, **kwargs)\u001b[0m\n\u001b[1;32m      1\u001b[0m \u001b[38;5;28;01mdef\u001b[39;00m \u001b[38;5;21mwrapper\u001b[39m(noisemodel, basis_gates, circlogic,noisy_or_perfect,do_not_plot\u001b[38;5;241m=\u001b[39m\u001b[38;5;124m'\u001b[39m\u001b[38;5;124mfalse\u001b[39m\u001b[38;5;124m'\u001b[39m, \u001b[38;5;241m*\u001b[39m\u001b[38;5;241m*\u001b[39mkwargs):\n\u001b[1;32m      2\u001b[0m     \u001b[38;5;28;01mif\u001b[39;00m noisy_or_perfect\u001b[38;5;241m==\u001b[39m\u001b[38;5;124m'\u001b[39m\u001b[38;5;124mperfect\u001b[39m\u001b[38;5;124m'\u001b[39m:\n\u001b[0;32m----> 3\u001b[0m         \u001b[38;5;28;01mreturn\u001b[39;00m \u001b[43mcirclogic\u001b[49m\u001b[43m(\u001b[49m\u001b[38;5;28;43;01mNone\u001b[39;49;00m\u001b[43m,\u001b[49m\u001b[38;5;28;43;01mNone\u001b[39;49;00m\u001b[43m,\u001b[49m\u001b[43mdo_not_plot\u001b[49m\u001b[43m,\u001b[49m\u001b[38;5;241;43m*\u001b[39;49m\u001b[38;5;241;43m*\u001b[39;49m\u001b[43mkwargs\u001b[49m\u001b[43m)\u001b[49m\n\u001b[1;32m      4\u001b[0m     \u001b[38;5;28;01melif\u001b[39;00m noisy_or_perfect\u001b[38;5;241m==\u001b[39m\u001b[38;5;124m'\u001b[39m\u001b[38;5;124mnoisy\u001b[39m\u001b[38;5;124m'\u001b[39m:\n\u001b[1;32m      5\u001b[0m         \u001b[38;5;28;01mreturn\u001b[39;00m circlogic(basis_gates,noisemodel,do_not_plot,\u001b[38;5;241m*\u001b[39m\u001b[38;5;241m*\u001b[39mkwargs)\n",
      "Cell \u001b[0;32mIn[27], line 29\u001b[0m, in \u001b[0;36mcorr_circ\u001b[0;34m(basis_gates, noise_model, do_not_plot, **kwargs)\u001b[0m\n\u001b[1;32m     26\u001b[0m         rho_12\u001b[38;5;241m.\u001b[39mappend((counts\u001b[38;5;241m.\u001b[39mget(\u001b[38;5;124m'\u001b[39m\u001b[38;5;124m0\u001b[39m\u001b[38;5;124m'\u001b[39m,\u001b[38;5;241m0\u001b[39m)\u001b[38;5;241m-\u001b[39mcounts\u001b[38;5;241m.\u001b[39mget(\u001b[38;5;124m'\u001b[39m\u001b[38;5;124m1\u001b[39m\u001b[38;5;124m'\u001b[39m,\u001b[38;5;241m0\u001b[39m))\u001b[38;5;241m/\u001b[39m(\u001b[38;5;241m2\u001b[39m\u001b[38;5;241m*\u001b[39m(counts\u001b[38;5;241m.\u001b[39mget(\u001b[38;5;124m'\u001b[39m\u001b[38;5;124m0\u001b[39m\u001b[38;5;124m'\u001b[39m,\u001b[38;5;241m0\u001b[39m)\u001b[38;5;241m+\u001b[39mcounts\u001b[38;5;241m.\u001b[39mget(\u001b[38;5;124m'\u001b[39m\u001b[38;5;124m1\u001b[39m\u001b[38;5;124m'\u001b[39m,\u001b[38;5;241m0\u001b[39m))))\n\u001b[1;32m     27\u001b[0m         \u001b[38;5;28;01mreturn\u001b[39;00m rho_12\n\u001b[0;32m---> 29\u001b[0m     zne_value \u001b[38;5;241m=\u001b[39m \u001b[43mexecute_with_zne\u001b[49m\u001b[43m \u001b[49m\u001b[43m(\u001b[49m\u001b[43mcirc\u001b[49m\u001b[43m,\u001b[49m\u001b[43m \u001b[49m\n\u001b[1;32m     30\u001b[0m \u001b[43m                          \u001b[49m\u001b[43mexecutor\u001b[49m\u001b[43m,\u001b[49m\u001b[43m \u001b[49m\n\u001b[1;32m     31\u001b[0m \u001b[43m                          \u001b[49m\u001b[43mscale_noise\u001b[49m\u001b[38;5;241;43m=\u001b[39;49m\u001b[43mzne\u001b[49m\u001b[38;5;241;43m.\u001b[39;49m\u001b[43mscaling\u001b[49m\u001b[38;5;241;43m.\u001b[39;49m\u001b[43mfold_global\u001b[49m\u001b[43m)\u001b[49m\n\u001b[1;32m     32\u001b[0m     znee\u001b[38;5;241m.\u001b[39mappend(zne_value)\n\u001b[1;32m     33\u001b[0m \u001b[38;5;28;01mreturn\u001b[39;00m znee\n",
      "File \u001b[0;32m~/.qbraid/environments/unitary_j5l7hx/pyenv/lib/python3.9/site-packages/mitiq/zne/zne.py:72\u001b[0m, in \u001b[0;36mexecute_with_zne\u001b[0;34m(circuit, executor, observable, factory, scale_noise, num_to_average)\u001b[0m\n\u001b[1;32m     69\u001b[0m \u001b[38;5;28;01mif\u001b[39;00m num_to_average \u001b[38;5;241m<\u001b[39m \u001b[38;5;241m1\u001b[39m:\n\u001b[1;32m     70\u001b[0m     \u001b[38;5;28;01mraise\u001b[39;00m \u001b[38;5;167;01mValueError\u001b[39;00m(\u001b[38;5;124m\"\u001b[39m\u001b[38;5;124mArgument `num_to_average` must be a positive int.\u001b[39m\u001b[38;5;124m\"\u001b[39m)\n\u001b[0;32m---> 72\u001b[0m \u001b[38;5;28;01mreturn\u001b[39;00m \u001b[43mfactory\u001b[49m\u001b[38;5;241;43m.\u001b[39;49m\u001b[43mrun\u001b[49m\u001b[43m(\u001b[49m\n\u001b[1;32m     73\u001b[0m \u001b[43m    \u001b[49m\u001b[43mcircuit\u001b[49m\u001b[43m,\u001b[49m\u001b[43m \u001b[49m\u001b[43mexecutor\u001b[49m\u001b[43m,\u001b[49m\u001b[43m \u001b[49m\u001b[43mobservable\u001b[49m\u001b[43m,\u001b[49m\u001b[43m \u001b[49m\u001b[43mscale_noise\u001b[49m\u001b[43m,\u001b[49m\u001b[43m \u001b[49m\u001b[38;5;28;43mint\u001b[39;49m\u001b[43m(\u001b[49m\u001b[43mnum_to_average\u001b[49m\u001b[43m)\u001b[49m\n\u001b[1;32m     74\u001b[0m \u001b[43m\u001b[49m\u001b[43m)\u001b[49m\u001b[38;5;241;43m.\u001b[39;49m\u001b[43mreduce\u001b[49m\u001b[43m(\u001b[49m\u001b[43m)\u001b[49m\n",
      "File \u001b[0;32m~/.qbraid/environments/unitary_j5l7hx/pyenv/lib/python3.9/site-packages/mitiq/zne/inference.py:500\u001b[0m, in \u001b[0;36mBatchedFactory.reduce\u001b[0;34m(self)\u001b[0m\n\u001b[1;32m    487\u001b[0m \u001b[38;5;28;01mdef\u001b[39;00m \u001b[38;5;21mreduce\u001b[39m(\u001b[38;5;28mself\u001b[39m) \u001b[38;5;241m-\u001b[39m\u001b[38;5;241m>\u001b[39m \u001b[38;5;28mfloat\u001b[39m:\n\u001b[1;32m    488\u001b[0m     \u001b[38;5;124;03m\"\"\"Evaluates the zero-noise limit found by fitting according to\u001b[39;00m\n\u001b[1;32m    489\u001b[0m \u001b[38;5;124;03m    the factory's extrapolation method.\u001b[39;00m\n\u001b[1;32m    490\u001b[0m \n\u001b[1;32m    491\u001b[0m \u001b[38;5;124;03m    Returns:\u001b[39;00m\n\u001b[1;32m    492\u001b[0m \u001b[38;5;124;03m        The zero-noise limit.\u001b[39;00m\n\u001b[1;32m    493\u001b[0m \u001b[38;5;124;03m    \"\"\"\u001b[39;00m\n\u001b[1;32m    494\u001b[0m     (\n\u001b[1;32m    495\u001b[0m         \u001b[38;5;28mself\u001b[39m\u001b[38;5;241m.\u001b[39m_zne_limit,\n\u001b[1;32m    496\u001b[0m         \u001b[38;5;28mself\u001b[39m\u001b[38;5;241m.\u001b[39m_zne_error,\n\u001b[1;32m    497\u001b[0m         \u001b[38;5;28mself\u001b[39m\u001b[38;5;241m.\u001b[39m_opt_params,\n\u001b[1;32m    498\u001b[0m         \u001b[38;5;28mself\u001b[39m\u001b[38;5;241m.\u001b[39m_params_cov,\n\u001b[1;32m    499\u001b[0m         \u001b[38;5;28mself\u001b[39m\u001b[38;5;241m.\u001b[39m_zne_curve,\n\u001b[0;32m--> 500\u001b[0m     ) \u001b[38;5;241m=\u001b[39m \u001b[38;5;28;43mself\u001b[39;49m\u001b[38;5;241;43m.\u001b[39;49m\u001b[43mextrapolate\u001b[49m\u001b[43m(\u001b[49m\u001b[43m  \u001b[49m\u001b[38;5;66;43;03m# type: ignore\u001b[39;49;00m\n\u001b[1;32m    501\u001b[0m \u001b[43m        \u001b[49m\u001b[38;5;28;43mself\u001b[39;49m\u001b[38;5;241;43m.\u001b[39;49m\u001b[43mget_scale_factors\u001b[49m\u001b[43m(\u001b[49m\u001b[43m)\u001b[49m\u001b[43m,\u001b[49m\n\u001b[1;32m    502\u001b[0m \u001b[43m        \u001b[49m\u001b[38;5;28;43mself\u001b[39;49m\u001b[38;5;241;43m.\u001b[39;49m\u001b[43mget_expectation_values\u001b[49m\u001b[43m(\u001b[49m\u001b[43m)\u001b[49m\u001b[43m,\u001b[49m\n\u001b[1;32m    503\u001b[0m \u001b[43m        \u001b[49m\u001b[43mfull_output\u001b[49m\u001b[38;5;241;43m=\u001b[39;49m\u001b[38;5;28;43;01mTrue\u001b[39;49;00m\u001b[43m,\u001b[49m\n\u001b[1;32m    504\u001b[0m \u001b[43m        \u001b[49m\u001b[38;5;241;43m*\u001b[39;49m\u001b[38;5;241;43m*\u001b[39;49m\u001b[38;5;28;43mself\u001b[39;49m\u001b[38;5;241;43m.\u001b[39;49m\u001b[43m_options\u001b[49m\u001b[43m,\u001b[49m\n\u001b[1;32m    505\u001b[0m \u001b[43m    \u001b[49m\u001b[43m)\u001b[49m\n\u001b[1;32m    507\u001b[0m     \u001b[38;5;28mself\u001b[39m\u001b[38;5;241m.\u001b[39m_already_reduced \u001b[38;5;241m=\u001b[39m \u001b[38;5;28;01mTrue\u001b[39;00m\n\u001b[1;32m    508\u001b[0m     \u001b[38;5;28;01mreturn\u001b[39;00m \u001b[38;5;28mself\u001b[39m\u001b[38;5;241m.\u001b[39m_zne_limit\n",
      "File \u001b[0;32m~/.qbraid/environments/unitary_j5l7hx/pyenv/lib/python3.9/site-packages/mitiq/zne/inference.py:935\u001b[0m, in \u001b[0;36mRichardsonFactory.extrapolate\u001b[0;34m(scale_factors, exp_values, full_output)\u001b[0m\n\u001b[1;32m    932\u001b[0m \u001b[38;5;66;03m# Richardson extrapolation is a particular case of a polynomial fit\u001b[39;00m\n\u001b[1;32m    933\u001b[0m \u001b[38;5;66;03m# with order equal to the number of data points minus 1.\u001b[39;00m\n\u001b[1;32m    934\u001b[0m order \u001b[38;5;241m=\u001b[39m \u001b[38;5;28mlen\u001b[39m(scale_factors) \u001b[38;5;241m-\u001b[39m \u001b[38;5;241m1\u001b[39m\n\u001b[0;32m--> 935\u001b[0m \u001b[38;5;28;01mreturn\u001b[39;00m \u001b[43mPolyFactory\u001b[49m\u001b[38;5;241;43m.\u001b[39;49m\u001b[43mextrapolate\u001b[49m\u001b[43m(\u001b[49m\n\u001b[1;32m    936\u001b[0m \u001b[43m    \u001b[49m\u001b[43mscale_factors\u001b[49m\u001b[43m,\u001b[49m\u001b[43m \u001b[49m\u001b[43mexp_values\u001b[49m\u001b[43m,\u001b[49m\u001b[43m \u001b[49m\u001b[43morder\u001b[49m\u001b[43m,\u001b[49m\u001b[43m \u001b[49m\u001b[43mfull_output\u001b[49m\n\u001b[1;32m    937\u001b[0m \u001b[43m\u001b[49m\u001b[43m)\u001b[49m\n",
      "File \u001b[0;32m~/.qbraid/environments/unitary_j5l7hx/pyenv/lib/python3.9/site-packages/mitiq/zne/inference.py:863\u001b[0m, in \u001b[0;36mPolyFactory.extrapolate\u001b[0;34m(scale_factors, exp_values, order, full_output)\u001b[0m\n\u001b[1;32m    828\u001b[0m \u001b[38;5;129m@staticmethod\u001b[39m\n\u001b[1;32m    829\u001b[0m \u001b[38;5;28;01mdef\u001b[39;00m \u001b[38;5;21mextrapolate\u001b[39m(  \u001b[38;5;66;03m# type: ignore\u001b[39;00m\n\u001b[1;32m    830\u001b[0m     scale_factors: Sequence[\u001b[38;5;28mfloat\u001b[39m],\n\u001b[0;32m   (...)\u001b[0m\n\u001b[1;32m    833\u001b[0m     full_output: \u001b[38;5;28mbool\u001b[39m \u001b[38;5;241m=\u001b[39m \u001b[38;5;28;01mFalse\u001b[39;00m,\n\u001b[1;32m    834\u001b[0m ) \u001b[38;5;241m-\u001b[39m\u001b[38;5;241m>\u001b[39m ExtrapolationResult:\n\u001b[1;32m    835\u001b[0m     \u001b[38;5;124;03m\"\"\"Static method which evaluates a polynomial extrapolation to the\u001b[39;00m\n\u001b[1;32m    836\u001b[0m \u001b[38;5;124;03m    zero-noise limit.\u001b[39;00m\n\u001b[1;32m    837\u001b[0m \n\u001b[0;32m   (...)\u001b[0m\n\u001b[1;32m    860\u001b[0m \u001b[38;5;124;03m        parameters, use the ``reduce`` method.\u001b[39;00m\n\u001b[1;32m    861\u001b[0m \u001b[38;5;124;03m    \"\"\"\u001b[39;00m\n\u001b[0;32m--> 863\u001b[0m     opt_params, params_cov \u001b[38;5;241m=\u001b[39m \u001b[43mmitiq_polyfit\u001b[49m\u001b[43m(\u001b[49m\n\u001b[1;32m    864\u001b[0m \u001b[43m        \u001b[49m\u001b[43mscale_factors\u001b[49m\u001b[43m,\u001b[49m\u001b[43m \u001b[49m\u001b[43mexp_values\u001b[49m\u001b[43m,\u001b[49m\u001b[43m \u001b[49m\u001b[43morder\u001b[49m\n\u001b[1;32m    865\u001b[0m \u001b[43m    \u001b[49m\u001b[43m)\u001b[49m\n\u001b[1;32m    867\u001b[0m     zne_limit \u001b[38;5;241m=\u001b[39m opt_params[\u001b[38;5;241m-\u001b[39m\u001b[38;5;241m1\u001b[39m]\n\u001b[1;32m    869\u001b[0m     \u001b[38;5;28;01mif\u001b[39;00m \u001b[38;5;129;01mnot\u001b[39;00m full_output:\n",
      "File \u001b[0;32m~/.qbraid/environments/unitary_j5l7hx/pyenv/lib/python3.9/site-packages/mitiq/zne/inference.py:188\u001b[0m, in \u001b[0;36mmitiq_polyfit\u001b[0;34m(scale_factors, exp_values, deg, weights)\u001b[0m\n\u001b[1;32m    186\u001b[0m \u001b[38;5;28;01mwith\u001b[39;00m warnings\u001b[38;5;241m.\u001b[39mcatch_warnings(record\u001b[38;5;241m=\u001b[39m\u001b[38;5;28;01mTrue\u001b[39;00m) \u001b[38;5;28;01mas\u001b[39;00m warn_list:\n\u001b[1;32m    187\u001b[0m     \u001b[38;5;28;01mtry\u001b[39;00m:\n\u001b[0;32m--> 188\u001b[0m         opt_params, params_cov \u001b[38;5;241m=\u001b[39m \u001b[43mnp\u001b[49m\u001b[38;5;241;43m.\u001b[39;49m\u001b[43mpolyfit\u001b[49m\u001b[43m(\u001b[49m\n\u001b[1;32m    189\u001b[0m \u001b[43m            \u001b[49m\u001b[43mscale_factors\u001b[49m\u001b[43m,\u001b[49m\u001b[43m \u001b[49m\u001b[43mexp_values\u001b[49m\u001b[43m,\u001b[49m\u001b[43m \u001b[49m\u001b[43mdeg\u001b[49m\u001b[43m,\u001b[49m\u001b[43m \u001b[49m\u001b[43mw\u001b[49m\u001b[38;5;241;43m=\u001b[39;49m\u001b[43mweights\u001b[49m\u001b[43m,\u001b[49m\u001b[43m \u001b[49m\u001b[43mcov\u001b[49m\u001b[38;5;241;43m=\u001b[39;49m\u001b[38;5;28;43;01mTrue\u001b[39;49;00m\n\u001b[1;32m    190\u001b[0m \u001b[43m        \u001b[49m\u001b[43m)\u001b[49m\n\u001b[1;32m    191\u001b[0m     \u001b[38;5;28;01mexcept\u001b[39;00m (\u001b[38;5;167;01mValueError\u001b[39;00m, np\u001b[38;5;241m.\u001b[39mlinalg\u001b[38;5;241m.\u001b[39mLinAlgError):\n\u001b[1;32m    192\u001b[0m         opt_params \u001b[38;5;241m=\u001b[39m np\u001b[38;5;241m.\u001b[39mpolyfit(scale_factors, exp_values, deg, w\u001b[38;5;241m=\u001b[39mweights)\n",
      "File \u001b[0;32m<__array_function__ internals>:180\u001b[0m, in \u001b[0;36mpolyfit\u001b[0;34m(*args, **kwargs)\u001b[0m\n",
      "File \u001b[0;32m~/.qbraid/environments/unitary_j5l7hx/pyenv/lib/python3.9/site-packages/numpy/lib/polynomial.py:642\u001b[0m, in \u001b[0;36mpolyfit\u001b[0;34m(x, y, deg, rcond, full, w, cov)\u001b[0m\n\u001b[1;32m    640\u001b[0m     \u001b[38;5;28;01mraise\u001b[39;00m \u001b[38;5;167;01mTypeError\u001b[39;00m(\u001b[38;5;124m\"\u001b[39m\u001b[38;5;124mexpected 1D or 2D array for y\u001b[39m\u001b[38;5;124m\"\u001b[39m)\n\u001b[1;32m    641\u001b[0m \u001b[38;5;28;01mif\u001b[39;00m x\u001b[38;5;241m.\u001b[39mshape[\u001b[38;5;241m0\u001b[39m] \u001b[38;5;241m!=\u001b[39m y\u001b[38;5;241m.\u001b[39mshape[\u001b[38;5;241m0\u001b[39m]:\n\u001b[0;32m--> 642\u001b[0m     \u001b[38;5;28;01mraise\u001b[39;00m \u001b[38;5;167;01mTypeError\u001b[39;00m(\u001b[38;5;124m\"\u001b[39m\u001b[38;5;124mexpected x and y to have same length\u001b[39m\u001b[38;5;124m\"\u001b[39m)\n\u001b[1;32m    644\u001b[0m \u001b[38;5;66;03m# set rcond\u001b[39;00m\n\u001b[1;32m    645\u001b[0m \u001b[38;5;28;01mif\u001b[39;00m rcond \u001b[38;5;129;01mis\u001b[39;00m \u001b[38;5;28;01mNone\u001b[39;00m:\n",
      "\u001b[0;31mTypeError\u001b[0m: expected x and y to have same length"
     ]
    }
   ],
   "source": [
    "noisemodel, basis_gates = noisem(0.9773)\n",
    "znee = wrapper(noisemodel, basis_gates, corr_circ,'perfect',plot_title='Perfect',shots=256,collisions=20)\n",
    "print('*****')\n",
    "print(znee)"
   ]
  },
  {
   "cell_type": "code",
   "execution_count": 12,
   "id": "8843b061-cfff-4f45-99d4-9b27283267c9",
   "metadata": {},
   "outputs": [
    {
     "name": "stdout",
     "output_type": "stream",
     "text": [
      "{'1': 14, '0': 242}\n",
      "{'1': 67, '0': 189}\n",
      "{'0': 132, '1': 124}\n",
      "{'0': 76, '1': 180}\n",
      "{'0': 22, '1': 234}\n",
      "{'1': 256}\n",
      "{'0': 20, '1': 236}\n",
      "{'0': 65, '1': 191}\n",
      "{'1': 136, '0': 120}\n",
      "{'1': 75, '0': 181}\n",
      "{'1': 17, '0': 239}\n",
      "{'0': 256}\n",
      "{'1': 17, '0': 239}\n",
      "{'1': 77, '0': 179}\n",
      "{'0': 124, '1': 132}\n",
      "{'0': 67, '1': 189}\n",
      "{'0': 18, '1': 238}\n",
      "{'1': 256}\n",
      "{'0': 20, '1': 236}\n",
      "{'0': 65, '1': 191}\n"
     ]
    },
    {
     "data": {
      "image/png": "[encoded data removed]",
      "text/plain": [
       "<Figure size 432x288 with 1 Axes>"
      ]
     },
     "metadata": {
      "needs_background": "light"
     },
     "output_type": "display_data"
    }
   ],
   "source": [
    "numcx,gatedepth,abserr = wrapper(None, None, circ_correlate,'perfect',plot_title='Perfect',shots=256,collisions=20)"
   ]
  },
  {
   "cell_type": "code",
   "execution_count": 13,
   "id": "5c7dad29-5b65-49dd-8311-a2c710111c24",
   "metadata": {},
   "outputs": [],
   "source": [
    "\n",
    "    q = QuantumRegister(4,name = 'q')\n",
    "    c = ClassicalRegister(1, name = 'c')\n",
    "    system = 0\n",
    "    ancillae = [1, 2, 3]\n",
    "    rho_12, T = [], []\n",
    "    n = kwargs.get('collisions')\n",
    "    tt = np.pi/6\n",
    "    g = 1\n",
    "    t = g*(tt)\n",
    "    numcx = []\n",
    "    gatedepth = []\n",
    "    for i in range(1,n+1,1):\n",
    "        \n",
    "    return rho_12"
   ]
  },
  {
   "cell_type": "code",
   "execution_count": 14,
   "id": "41eec184-4ed2-4b34-b955-0a286a625f4b",
   "metadata": {},
   "outputs": [
    {
     "ename": "NameError",
     "evalue": "name 'circuit' is not defined",
     "output_type": "error",
     "traceback": [
      "\u001b[0;31m---------------------------------------------------------------------------\u001b[0m",
      "\u001b[0;31mNameError\u001b[0m                                 Traceback (most recent call last)",
      "Cell \u001b[0;32mIn[14], line 2\u001b[0m\n\u001b[1;32m      1\u001b[0m \u001b[38;5;28;01mfrom\u001b[39;00m \u001b[38;5;21;01mmitiq\u001b[39;00m\u001b[38;5;21;01m.\u001b[39;00m\u001b[38;5;21;01mzne\u001b[39;00m \u001b[38;5;28;01mimport\u001b[39;00m execute_with_zne\n\u001b[0;32m----> 2\u001b[0m zne_value \u001b[38;5;241m=\u001b[39m execute_with_zne (\u001b[43mcircuit\u001b[49m, \n\u001b[1;32m      3\u001b[0m                               executor, \n\u001b[1;32m      4\u001b[0m                               scale_noise\u001b[38;5;241m=\u001b[39mzne\u001b[38;5;241m.\u001b[39mscaling\u001b[38;5;241m.\u001b[39mfold_global)\n",
      "\u001b[0;31mNameError\u001b[0m: name 'circuit' is not defined"
     ]
    }
   ],
   "source": [
    "from mitiq.zne import execute_with_zne\n",
    "zne_value = execute_with_zne (corr_circc, \n",
    "                              executor, \n",
    "                              scale_noise=zne.scaling.fold_global)"
   ]
  },
  {
   "cell_type": "code",
   "execution_count": null,
   "id": "27744d61-dd9f-4e80-9c90-c8ba8d27bf6b",
   "metadata": {},
   "outputs": [],
   "source": [
    "for i in np.linspace(0.0, 1-0.9773, num = 4):\n",
    "    noisemodel, basis_gates = noisem(i)\n",
    "    numcx,gatedepth,abserr = wrapper(noisemodel, basis_gates, circ_correlate,'noisy',plot_title=f'Noisy (fidelity={np.around(1-i,4)})',shots=256,collisions=20)"
   ]
  },
  {
   "cell_type": "code",
   "execution_count": null,
   "id": "bf83b1be-bc6b-4ecf-b087-bd125db0f366",
   "metadata": {},
   "outputs": [],
   "source": [
    "plt.plot(numcx,abserr,c='red')\n",
    "plt.scatter(numcx,abserr)\n",
    "plt.xlabel('Number of CNOT gates')\n",
    "plt.ylabel('Absolute error')\n",
    "plt.show()"
   ]
  },
  {
   "cell_type": "code",
   "execution_count": null,
   "id": "eb79d979-2ea5-42bf-95f0-f3ad642dcc4d",
   "metadata": {},
   "outputs": [],
   "source": [
    "plt.plot(numcx,gatedepth,c='red')\n",
    "plt.scatter(numcx,gatedepth)\n",
    "plt.xlabel('Number of CNOT gates')\n",
    "plt.ylabel('gatedepth')\n",
    "plt.show()"
   ]
  },
  {
   "cell_type": "code",
   "execution_count": null,
   "id": "5beb4852-3e14-48a6-b25c-d114fca4dec2",
   "metadata": {},
   "outputs": [],
   "source": [
    "shotsnum = np.array(range(256,2049,64))\n",
    "noisemodel, basis_gates = noisem(1-0.9773)\n",
    "meanerr = [np.mean(wrapper(noisemodel, basis_gates, circ_correlate,'noisy',do_not_plot='true',plot_title='Noisy',shots=shots,collisions=20)[2]) for shots in shotsnum]"
   ]
  },
  {
   "cell_type": "code",
   "execution_count": null,
   "id": "dcaac779-7f40-4ca2-b77e-27e9511725b9",
   "metadata": {},
   "outputs": [],
   "source": [
    "plt.scatter(shotsnum,meanerr)\n",
    "plt.plot(shotsnum,meanerr,c='red')"
   ]
  },
  {
   "cell_type": "markdown",
   "id": "5242dae3-e716-426a-8777-6126903fd59e",
   "metadata": {
    "jp-MarkdownHeadingCollapsed": true,
    "tags": []
   },
   "source": [
    "<h2>Uncorrelated case</h2>"
   ]
  },
  {
   "cell_type": "code",
   "execution_count": null,
   "id": "eedea4ad-12d2-4858-8c6b-837be5c9295a",
   "metadata": {},
   "outputs": [],
   "source": [
    "def uncorr(q, c, system, ancillae, g, t, i):\n",
    "    ucoA = QuantumCircuit(q,c)\n",
    "    ucoA.h(q[system])\n",
    "    # State Preparation\n",
    "    for l in range(i):\n",
    "        ucoA.h(q[ancillae[l]])\n",
    "    \n",
    "    # Collisions between the system and ancilla qubits\n",
    "    for j in range(1,i+1):\n",
    "        ucoA.cnot(q[j],q[system])\n",
    "        ucoA.rz(t, q[system])\n",
    "        ucoA.cnot(q[j],q[system])\n",
    "    \n",
    "    ucoA.h(q[system])\n",
    "    \n",
    "    ucoA.measure(q[system],c[0])\n",
    "        \n",
    "    return ucoA"
   ]
  },
  {
   "cell_type": "code",
   "execution_count": null,
   "id": "114f377b-f94d-42df-9806-e7ebbb5b5746",
   "metadata": {},
   "outputs": [],
   "source": [
    "def circ_uncorrelate(basis_gates,noise_model,do_not_plot,**kwargs):\n",
    "    n = kwargs.get('collisions')\n",
    "    q = QuantumRegister(n+1,name = 'q')\n",
    "    c = ClassicalRegister(1, name = 'c')\n",
    "    system = 0\n",
    "    ancillae = range(1,n+1)\n",
    "    rho_12, T = [], []\n",
    "    tt = np.pi/6\n",
    "    g = 1\n",
    "    t = g*(tt)\n",
    "    numcx = []\n",
    "    gatedepth = []\n",
    "    for i in range(1,n+1,1):\n",
    "        circ = uncorr(q, c, system, ancillae, g, 2*tt, i)\n",
    "        numcx.append(circ.count_ops()['cx'])\n",
    "        gatedepth.append(circ.depth())\n",
    "        T.append(i*t)\n",
    "        job = qiskit.execute(circ, Aer.get_backend('qasm_simulator'),basis_gates=basis_gates,noise_model=noise_model, shots=kwargs.get('shots'))\n",
    "        counts = job.result().get_counts()   \n",
    "        rho_12.append((counts.get('0',0)-counts.get('1',0))/(2*(counts.get('0',0)+counts.get('1',0))))\n",
    "\n",
    "        \n",
    "    def uncorrfunc(i):\n",
    "        return np.power(np.cos(2*g*tt),i/t)/2\n",
    "    \n",
    "    abserr = [abs(rho_12[i]-uncorrfunc(T[i])) for i in range(len(numcx))]\n",
    "\n",
    "    x_ax = np.linspace(0,T[-1],num=1000)\n",
    "    if do_not_plot=='false':\n",
    "        plt.title(kwargs.get('plot_title'))\n",
    "        plt.scatter(T, np.real(rho_12),label='Simulation')\n",
    "        plt.plot(x_ax,uncorrfunc(x_ax),linestyle='--',label='Theoretical')\n",
    "        #plt.scatter(T, rho_12)\n",
    "        plt.legend()\n",
    "        plt.show()\n",
    "    return numcx,gatedepth,abserr"
   ]
  },
  {
   "cell_type": "code",
   "execution_count": null,
   "id": "e722eb30-b234-454f-97a8-a288d13760ea",
   "metadata": {},
   "outputs": [],
   "source": [
    "numcx,gatedepth,abserr = wrapper(None, None, circ_uncorrelate,'perfect',plot_title='Perfect',shots=1024,collisions=7)"
   ]
  },
  {
   "cell_type": "code",
   "execution_count": null,
   "id": "78481d94-44c5-4985-9b9b-91148fa1fc0a",
   "metadata": {},
   "outputs": [],
   "source": [
    "for i in np.linspace(0.0, 1-0.9773, num = 4):\n",
    "    noisemodel, basis_gates = noisem(i)\n",
    "    numcx,gatedepth,abserr = wrapper(noisemodel, basis_gates, circ_uncorrelate,'noisy',plot_title=f'Noisy (fidelity={np.around(1-i,4)})',shots=1024,collisions=7)"
   ]
  },
  {
   "cell_type": "code",
   "execution_count": null,
   "id": "3a75d640-3724-4faa-9a5f-19365af17075",
   "metadata": {},
   "outputs": [],
   "source": [
    "plt.plot(numcx,abserr,c='red')\n",
    "plt.scatter(numcx,abserr)\n",
    "plt.xlabel('Number of CNOT gates')\n",
    "plt.ylabel('Absolute error')\n",
    "plt.show()"
   ]
  },
  {
   "cell_type": "code",
   "execution_count": null,
   "id": "07879918-344c-444a-b3f3-de56ba7fc92d",
   "metadata": {},
   "outputs": [],
   "source": [
    "plt.plot(numcx,gatedepth,c='red')\n",
    "plt.scatter(numcx,gatedepth)\n",
    "plt.xlabel('Number of CNOT gates')\n",
    "plt.ylabel('gatedepth')\n",
    "plt.show()"
   ]
  },
  {
   "cell_type": "code",
   "execution_count": null,
   "id": "822a8b9c-b512-4998-b5d0-8431b4f7b5c4",
   "metadata": {},
   "outputs": [],
   "source": [
    "shotsnum = np.array(range(256,2049,64))\n",
    "noisemodel, basis_gates = noisem(1-0.9773)\n",
    "meanerr = [np.mean(wrapper(noisemodel, basis_gates,circ_uncorrelate,'noisy',do_not_plot='true',plot_title='Noisy',shots=shots,collisions=7)[2]) for shots in shotsnum]"
   ]
  },
  {
   "cell_type": "code",
   "execution_count": null,
   "id": "b3b053cd-f905-4da1-b4eb-e065757efcc9",
   "metadata": {},
   "outputs": [],
   "source": [
    "plt.scatter(shotsnum,meanerr)\n",
    "plt.plot(shotsnum,meanerr,c='red')\n",
    "plt.xlabel('Number of shots')\n",
    "plt.ylabel('Mean Error for a particular number of shots')\n",
    "plt.show()"
   ]
  },
  {
   "cell_type": "markdown",
   "id": "89b980eb-8d79-410f-9d72-59fd699922cd",
   "metadata": {
    "tags": []
   },
   "source": [
    "<h1>Depolarizing channel</h1>"
   ]
  },
  {
   "cell_type": "code",
   "execution_count": null,
   "id": "8f367192-d42c-445c-b7be-863290880b96",
   "metadata": {},
   "outputs": [],
   "source": [
    "def depolarizing_channel(q, p, system, ancillae):\n",
    "    \"\"\"Returns a QuantumCircuit implementing depolarizing channel on q[system]\n",
    "    \n",
    "    Args:\n",
    "        q (QuantumRegister): the register to use for the circuit\n",
    "        p (float): the probability for the channel between 0 and 1\n",
    "        system (int): index of the system qubit\n",
    "        ancillae (list): list of indices for the ancillary qubits\n",
    "        \n",
    "    Returns:\n",
    "        A QuantumCircuit object\n",
    "    \"\"\"\n",
    "    z = QuantumCircuit(q)\n",
    "    \n",
    "    theta = 0.5*np.arccos(1-(2*p))\n",
    "    \n",
    "    t1 = np.pi/4\n",
    "    t2 = np.pi/4\n",
    "    \n",
    "    z.ry(theta, q[ancillae[0]])\n",
    "    z.ry(theta, q[ancillae[1]])\n",
    "    z.ry(theta, q[ancillae[2]])\n",
    "    \n",
    "    z.ry(t1, q[system])\n",
    "    z.rz(t2, q[system])\n",
    "    \n",
    "    z.cx(q[ancillae[0]], q[system])\n",
    "    z.cy(q[ancillae[1]], q[system])\n",
    "    z.cz(q[ancillae[2]], q[system])\n",
    "    \n",
    "    return z"
   ]
  },
  {
   "cell_type": "code",
   "execution_count": null,
   "id": "37350033-41ad-4577-8c74-937b32d4a136",
   "metadata": {},
   "outputs": [],
   "source": [
    "phi = np.pi/4\n",
    "psi = np.pi/4\n",
    "a = np.cos(phi/2)**2\n",
    "b = np.sin(phi/2)*np.cos(phi/2)*(np.cos(psi)-np.sin(psi)*1j)\n",
    "c = np.conj(b)\n",
    "d = np.sin(phi/2)**2\n",
    "\n",
    "def theoretical_rho00(p):\n",
    "    return 0.5*p+(1-p)*a\n",
    "def theoretical_Rrho01(p):\n",
    "    return np.real((1-p)*b)\n",
    "def theoretical_Irho01(p):\n",
    "    return np.imag((1-p)*b)\n",
    "def theoretical_rho11(p):\n",
    "    return 0.5*p+(1-p)*d"
   ]
  },
  {
   "cell_type": "code",
   "execution_count": null,
   "id": "3cc3835d-e5af-496f-a447-0251441d38d9",
   "metadata": {},
   "outputs": [],
   "source": [
    "def circ_depol(basis_gates,noise_model,do_not_plot,**kwargs):\n",
    "    p = np.linspace(0,1.0,10)\n",
    "    q = QuantumRegister(5,name = 'q')\n",
    "    system = 2\n",
    "    ancillae = [1,3,4]\n",
    "    rho11, rho22, Rrho12, Irho12, abser1, abser2, abser3, abser4 = [], [], [], [], [], [], [], []\n",
    "    for i in p:\n",
    "        circuit = depolarizing_channel(q, i, system, ancillae)\n",
    "        # qst_bell = StateTomography(circuit, q[system])\n",
    "        # job = qiskit.execute(qst_bell, Aer.get_backend('qasm_simulator'), shots=5000)\n",
    "        # tomo_fitter_bell = StateTomographyFitter(job.result(), qst_bell)\n",
    "        qstexp1 = StateTomography(circuit,measurement_qubits=[system])\n",
    "        qstexp1.analysis.set_options(fitter='cvxpy_gaussian_lstsq')\n",
    "        qstdata1 = qstexp1.run(Aer.get_backend('qasm_simulator'), basis_gates=basis_gates,noise_model=noise_model, shots=kwargs.get('shots'), seed_simulator=5000).block_for_results()\n",
    "        state_result = qstdata1.analysis_results(\"state\")\n",
    "\n",
    "        rho = np.array(state_result.value)\n",
    "        #print(rho)\n",
    "        rho11.append(rho[0,0])\n",
    "        rho22.append(rho[1,1])\n",
    "        Rrho12.append(np.real(rho[0,1]))\n",
    "        Irho12.append(np.imag(rho[0,1]))\n",
    "\n",
    "    abser1 = [abs(rho11[i]-theoretical_rho00(p[i])) for i in range(len(p))]\n",
    "    abser2 = [abs(rho22[i]-theoretical_rho11(p[i])) for i in range(len(p))]\n",
    "    abser3 = [abs(Rrho12[i]-theoretical_Rrho01(p[i])) for i in range(len(p))]\n",
    "    abser4 = [abs(Irho12[i]-theoretical_Irho01(p[i])) for i in range(len(p))]\n",
    "   \n",
    "    if do_not_plot=='false':\n",
    "        plt.title(kwargs.get('plot_title'))\n",
    "        plt.scatter(p, rho11, label=\"rho11\")\n",
    "        plt.scatter(p, rho22, label=\"rho22\")\n",
    "        plt.scatter(p, Rrho12, label=\"Rrho12\")\n",
    "        plt.scatter(p, Irho12, label=\"Irho12\")\n",
    "        plt.legend()\n",
    "        plt.show()\n",
    "        \n",
    "    return abser1, abser2, abser3, abser4\n",
    "    "
   ]
  },
  {
   "cell_type": "code",
   "execution_count": null,
   "id": "6daf28e1-a73e-40ca-85ec-faf57dd05897",
   "metadata": {},
   "outputs": [],
   "source": [
    "abser1, abser2, abser3, abser4 = wrapper(noisemodel, basis_gates,circ_depol,'noisy',plot_title='noisy',shots=1024)"
   ]
  },
  {
   "cell_type": "code",
   "execution_count": null,
   "id": "b288ca50-97c3-44b1-a327-0d9570411594",
   "metadata": {},
   "outputs": [],
   "source": [
    "shotsnum = np.array(range(256,2049,64))\n",
    "noisemodel, basis_gates = noisem(1-0.9773)\n",
    "meanerr = [np.mean(wrapper(noisemodel, basis_gates,circ_depol,'noisy',do_not_plot='true',plot_title='Noisy',shots=shots,collisions=7)[2]) for shots in shotsnum]"
   ]
  },
  {
   "cell_type": "code",
   "execution_count": null,
   "id": "39aa5d96-e2ea-4a38-a980-506fa68c3e08",
   "metadata": {},
   "outputs": [],
   "source": [
    "plt.scatter(shotsnum,meanerr)\n",
    "plt.plot(shotsnum,meanerr,c='red')\n",
    "plt.xlabel('Number of shots')\n",
    "plt.ylabel('Mean Error for a particular number of shots')\n",
    "plt.show()"
   ]
  },
  {
   "cell_type": "code",
   "execution_count": null,
   "id": "fa52a4a7-1297-4c7c-b7cf-c3a336f780f5",
   "metadata": {},
   "outputs": [],
   "source": [
    "for i in np.linspace(0.0, 1-0.9773, num = 4):\n",
    "    noisemodel, basis_gates = noisem(i)\n",
    "    wrapper(noisemodel, basis_gates, circ_depol,'noisy',plot_title=f'Noisy (fidelity={np.around(1-i,4)})',shots=1024)"
   ]
  }
 ],
 "metadata": {
  "kernelspec": {
   "display_name": "Python 3 [Unitary Fund]",
   "language": "python",
   "name": "python3_unitary_j5l7hx"
  },
  "language_info": {
   "codemirror_mode": {
    "name": "ipython",
    "version": 3
   },
   "file_extension": ".py",
   "mimetype": "text/x-python",
   "name": "python",
   "nbconvert_exporter": "python",
   "pygments_lexer": "ipython3",
   "version": "3.9.10"
  }
 },
 "nbformat": 4,
 "nbformat_minor": 5
}
