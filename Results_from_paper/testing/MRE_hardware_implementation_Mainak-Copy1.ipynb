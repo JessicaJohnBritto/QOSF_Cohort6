{
 "cells": [
  {
   "cell_type": "code",
   "execution_count": 5,
   "id": "dab1f374-457e-4945-901b-18d17b221a87",
   "metadata": {},
   "outputs": [
    {
     "name": "stdout",
     "output_type": "stream",
     "text": [
      "Requirement already satisfied: pip in /home/jovyan/.qbraid/environments/qbraid_sdk_9j9sjy/pyenv/lib/python3.9/site-packages (23.1.2)\n",
      "Note: you may need to restart the kernel to use updated packages.\n",
      "Collecting amazon-braket-sdk==1.37.0\n",
      "  Downloading amazon_braket_sdk-1.37.0-py3-none-any.whl (251 kB)\n",
      "\u001b[2K     \u001b[90m━━━━━━━━━━━━━━━━━━━━━━━━━━━━━━━━━━━━━━━\u001b[0m \u001b[32m251.2/251.2 kB\u001b[0m \u001b[31m4.6 MB/s\u001b[0m eta \u001b[36m0:00:00\u001b[0m00:01\u001b[0m\n",
      "\u001b[?25hRequirement already satisfied: amazon-braket-schemas>=1.14.0 in /home/jovyan/.qbraid/environments/qbraid_sdk_9j9sjy/pyenv/lib/python3.9/site-packages (from amazon-braket-sdk==1.37.0) (1.15.1)\n",
      "Requirement already satisfied: amazon-braket-default-simulator>=1.11.0 in /home/jovyan/.qbraid/environments/qbraid_sdk_9j9sjy/pyenv/lib/python3.9/site-packages (from amazon-braket-sdk==1.37.0) (1.12.3)\n",
      "Requirement already satisfied: oqpy~=0.1.1 in /home/jovyan/.qbraid/environments/qbraid_sdk_9j9sjy/pyenv/lib/python3.9/site-packages (from amazon-braket-sdk==1.37.0) (0.1.2)\n",
      "Requirement already satisfied: setuptools in /home/jovyan/.qbraid/environments/qbraid_sdk_9j9sjy/pyenv/lib/python3.9/site-packages (from amazon-braket-sdk==1.37.0) (67.7.0)\n",
      "Requirement already satisfied: backoff in /home/jovyan/.qbraid/environments/qbraid_sdk_9j9sjy/pyenv/lib/python3.9/site-packages (from amazon-braket-sdk==1.37.0) (2.2.1)\n",
      "Requirement already satisfied: boltons in /home/jovyan/.qbraid/environments/qbraid_sdk_9j9sjy/pyenv/lib/python3.9/site-packages (from amazon-braket-sdk==1.37.0) (23.0.0)\n",
      "Requirement already satisfied: boto3>=1.22.3 in /home/jovyan/.qbraid/environments/qbraid_sdk_9j9sjy/pyenv/lib/python3.9/site-packages (from amazon-braket-sdk==1.37.0) (1.26.116)\n",
      "Requirement already satisfied: nest-asyncio in /home/jovyan/.qbraid/environments/qbraid_sdk_9j9sjy/pyenv/lib/python3.9/site-packages (from amazon-braket-sdk==1.37.0) (1.5.6)\n",
      "Requirement already satisfied: networkx in /home/jovyan/.qbraid/environments/qbraid_sdk_9j9sjy/pyenv/lib/python3.9/site-packages (from amazon-braket-sdk==1.37.0) (2.8.8)\n",
      "Requirement already satisfied: numpy in /home/jovyan/.qbraid/environments/qbraid_sdk_9j9sjy/pyenv/lib/python3.9/site-packages (from amazon-braket-sdk==1.37.0) (1.23.5)\n",
      "Requirement already satisfied: openpulse in /home/jovyan/.qbraid/environments/qbraid_sdk_9j9sjy/pyenv/lib/python3.9/site-packages (from amazon-braket-sdk==1.37.0) (0.4.2)\n",
      "Requirement already satisfied: openqasm3 in /home/jovyan/.qbraid/environments/qbraid_sdk_9j9sjy/pyenv/lib/python3.9/site-packages (from amazon-braket-sdk==1.37.0) (0.4.0)\n",
      "Requirement already satisfied: sympy in /home/jovyan/.qbraid/environments/qbraid_sdk_9j9sjy/pyenv/lib/python3.9/site-packages (from amazon-braket-sdk==1.37.0) (1.11.1)\n",
      "Requirement already satisfied: opt-einsum in /home/jovyan/.qbraid/environments/qbraid_sdk_9j9sjy/pyenv/lib/python3.9/site-packages (from amazon-braket-default-simulator>=1.11.0->amazon-braket-sdk==1.37.0) (3.3.0)\n",
      "Requirement already satisfied: pydantic<2.0,>=1.9 in /home/jovyan/.qbraid/environments/qbraid_sdk_9j9sjy/pyenv/lib/python3.9/site-packages (from amazon-braket-default-simulator>=1.11.0->amazon-braket-sdk==1.37.0) (1.10.7)\n",
      "Requirement already satisfied: scipy in /home/jovyan/.qbraid/environments/qbraid_sdk_9j9sjy/pyenv/lib/python3.9/site-packages (from amazon-braket-default-simulator>=1.11.0->amazon-braket-sdk==1.37.0) (1.10.1)\n",
      "Requirement already satisfied: antlr4-python3-runtime==4.9.2 in /home/jovyan/.qbraid/environments/qbraid_sdk_9j9sjy/pyenv/lib/python3.9/site-packages (from amazon-braket-default-simulator>=1.11.0->amazon-braket-sdk==1.37.0) (4.9.2)\n",
      "Requirement already satisfied: botocore<1.30.0,>=1.29.116 in /home/jovyan/.qbraid/environments/qbraid_sdk_9j9sjy/pyenv/lib/python3.9/site-packages (from boto3>=1.22.3->amazon-braket-sdk==1.37.0) (1.29.116)\n",
      "Requirement already satisfied: jmespath<2.0.0,>=0.7.1 in /home/jovyan/.qbraid/environments/qbraid_sdk_9j9sjy/pyenv/lib/python3.9/site-packages (from boto3>=1.22.3->amazon-braket-sdk==1.37.0) (1.0.1)\n",
      "Requirement already satisfied: s3transfer<0.7.0,>=0.6.0 in /home/jovyan/.qbraid/environments/qbraid_sdk_9j9sjy/pyenv/lib/python3.9/site-packages (from boto3>=1.22.3->amazon-braket-sdk==1.37.0) (0.6.0)\n",
      "Requirement already satisfied: mypy-extensions>=0.2.0 in /home/jovyan/.qbraid/environments/qbraid_sdk_9j9sjy/pyenv/lib/python3.9/site-packages (from oqpy~=0.1.1->amazon-braket-sdk==1.37.0) (1.0.0)\n",
      "Requirement already satisfied: importlib-metadata in /home/jovyan/.qbraid/environments/qbraid_sdk_9j9sjy/pyenv/lib/python3.9/site-packages (from openpulse->amazon-braket-sdk==1.37.0) (6.5.0)\n",
      "Requirement already satisfied: mpmath>=0.19 in /home/jovyan/.qbraid/environments/qbraid_sdk_9j9sjy/pyenv/lib/python3.9/site-packages (from sympy->amazon-braket-sdk==1.37.0) (1.3.0)\n",
      "Requirement already satisfied: python-dateutil<3.0.0,>=2.1 in /home/jovyan/.qbraid/environments/qbraid_sdk_9j9sjy/pyenv/lib/python3.9/site-packages (from botocore<1.30.0,>=1.29.116->boto3>=1.22.3->amazon-braket-sdk==1.37.0) (2.8.2)\n",
      "Requirement already satisfied: urllib3<1.27,>=1.25.4 in /home/jovyan/.qbraid/environments/qbraid_sdk_9j9sjy/pyenv/lib/python3.9/site-packages (from botocore<1.30.0,>=1.29.116->boto3>=1.22.3->amazon-braket-sdk==1.37.0) (1.26.15)\n",
      "Requirement already satisfied: typing-extensions>=4.2.0 in /home/jovyan/.qbraid/environments/qbraid_sdk_9j9sjy/pyenv/lib/python3.9/site-packages (from pydantic<2.0,>=1.9->amazon-braket-default-simulator>=1.11.0->amazon-braket-sdk==1.37.0) (4.5.0)\n",
      "Requirement already satisfied: zipp>=0.5 in /home/jovyan/.qbraid/environments/qbraid_sdk_9j9sjy/pyenv/lib/python3.9/site-packages (from importlib-metadata->openpulse->amazon-braket-sdk==1.37.0) (3.15.0)\n",
      "Requirement already satisfied: six>=1.5 in /home/jovyan/.qbraid/environments/qbraid_sdk_9j9sjy/pyenv/lib/python3.9/site-packages (from python-dateutil<3.0.0,>=2.1->botocore<1.30.0,>=1.29.116->boto3>=1.22.3->amazon-braket-sdk==1.37.0) (1.16.0)\n",
      "Installing collected packages: amazon-braket-sdk\n",
      "  Attempting uninstall: amazon-braket-sdk\n",
      "    Found existing installation: amazon-braket-sdk 1.38.0\n",
      "    Uninstalling amazon-braket-sdk-1.38.0:\n",
      "      Successfully uninstalled amazon-braket-sdk-1.38.0\n",
      "Successfully installed amazon-braket-sdk-1.37.0\n",
      "Note: you may need to restart the kernel to use updated packages.\n"
     ]
    }
   ],
   "source": [
    "%pip install --upgrade pip\n",
    "%pip install amazon-braket-sdk==1.37.0"
   ]
  },
  {
   "cell_type": "code",
   "execution_count": 1,
   "id": "c2f8747a-4c53-4330-b376-e3f97908e41c",
   "metadata": {},
   "outputs": [
    {
     "name": "stdout",
     "output_type": "stream",
     "text": [
      "Requirement already satisfied: amazon-braket-schemas in /home/jovyan/.qbraid/environments/qbraid_sdk_9j9sjy/pyenv/lib/python3.9/site-packages (1.15.1)\n",
      "Requirement already satisfied: pydantic<2.0.0,>=1.8.2 in /home/jovyan/.qbraid/environments/qbraid_sdk_9j9sjy/pyenv/lib/python3.9/site-packages (from amazon-braket-schemas) (1.10.7)\n",
      "Requirement already satisfied: typing-extensions>=4.2.0 in /home/jovyan/.qbraid/environments/qbraid_sdk_9j9sjy/pyenv/lib/python3.9/site-packages (from pydantic<2.0.0,>=1.8.2->amazon-braket-schemas) (4.5.0)\n",
      "Note: you may need to restart the kernel to use updated packages.\n",
      "\u001b[0;35m You have already disabled qBraid Quantum Jobs in the \u001b[1;35mqbraid_sdk\u001b[0m\u001b[0;35m environment.\u001b[0m\n"
     ]
    }
   ],
   "source": [
    "%pip install --upgrade amazon-braket-schemas\n",
    "!qbraid jobs disable qbraid_sdk"
   ]
  },
  {
   "cell_type": "code",
   "execution_count": 1,
   "id": "17b664b6-0223-4849-a476-42e1b21f0f8d",
   "metadata": {},
   "outputs": [],
   "source": [
    "# TODO:\n",
    "# Choose a suitable value of repcnt\n",
    "# Replace ALL simulator lines with functions for running on hardware (to be done on Qbraid)\n",
    "\n",
    "import cirq\n",
    "import qbraid\n",
    "from qbraid import interface\n",
    "import numpy as np\n",
    "import matplotlib.pyplot as plt\n",
    "from collections import Counter\n",
    "\n",
    "def prep(sys,state):\n",
    "    for i in range(len(state)):\n",
    "        if state[i]=='1':\n",
    "            yield cirq.X(sys[i])\n",
    "\n",
    "def zz_pump(sys,env,p,state):\n",
    "    yield from prep(sys,state)\n",
    "    yield cirq.CNOT(sys[1],sys[0])\n",
    "    yield cirq.X(env[0])\n",
    "    yield cirq.CNOT(sys[0],env[0])\n",
    "    yield cirq.Rx(rads=np.arccos(1-2*p)).on(sys[0]).controlled_by(env[0])\n",
    "    yield cirq.CNOT(sys[0],env[0])\n",
    "    yield cirq.H(sys[1])\n",
    "    #yield cirq.measure(sys,key = 'zz'+state)\n",
    "\n",
    "def xx_pump(sys,env,p,state):\n",
    "    yield from prep(sys,state)\n",
    "    yield cirq.CNOT(sys[1],sys[0])\n",
    "    yield cirq.H(sys[1])\n",
    "    yield cirq.X(env[0])\n",
    "    yield cirq.CNOT(sys[1],env[0])\n",
    "    yield cirq.Rx(rads=np.arccos(1-2*p)).on(sys[1]).controlled_by(env[0])\n",
    "    yield cirq.CNOT(sys[1],env[0])\n",
    "    #yield cirq.measure(sys,key = 'xx'+state)\n",
    "\n",
    "def zz_xx_pump(sys,env,p,state):\n",
    "    yield from prep(sys,state)\n",
    "    yield cirq.CNOT(sys[1],sys[0])\n",
    "    yield cirq.X(env[0])\n",
    "    yield cirq.CNOT(sys[0],env[0])\n",
    "    yield cirq.Rx(rads=np.arccos(1-2*p)).on(sys[0]).controlled_by(env[0])\n",
    "    yield cirq.CNOT(sys[0],env[0])\n",
    "    yield cirq.H(sys[1])\n",
    "    yield cirq.X(env[1])\n",
    "    yield cirq.CNOT(sys[1],env[1])\n",
    "    yield cirq.Rx(rads=np.arccos(1-2*p)).on(sys[1]).controlled_by(env[1])\n",
    "    yield cirq.CNOT(sys[1],env[1])\n",
    "    #yield cirq.measure(sys,key = 'zzxx'+state)"
   ]
  },
  {
   "cell_type": "code",
   "execution_count": 2,
   "id": "cb4e4b84-edbc-414b-b99f-f24770f27d93",
   "metadata": {},
   "outputs": [],
   "source": [
    "probs = np.linspace(0,1,num=5)\n",
    "repcnt = 100"
   ]
  },
  {
   "cell_type": "code",
   "execution_count": 4,
   "id": "cb876dbd-c7f3-4d5a-8a83-eaca5caa540b",
   "metadata": {},
   "outputs": [
    {
     "name": "stdout",
     "output_type": "stream",
     "text": [
      "\u001b[0;35mYou have already enabled qBraid Quantum Jobs in the qbraid_sdk environment.\u001b[0m\n"
     ]
    }
   ],
   "source": [
    "!qbraid jobs enable qbraid_sdk"
   ]
  },
  {
   "cell_type": "code",
   "execution_count": 3,
   "id": "58b6225a-089e-479b-bbf9-a7cf4b691025",
   "metadata": {},
   "outputs": [
    {
     "data": {
      "text/html": [
       "<h3>Supported Devices</h3><table><tr>\n",
       "    <th style='text-align:left'>Provider</th>\n",
       "    <th style='text-align:left'>Name</th>\n",
       "    <th style='text-align:left'>qBraid ID</th>\n",
       "    <th style='text-align:left'>Status</th></tr>\n",
       "    <tr>\n",
       "        <td style='text-align:left'>AWS</td>\n",
       "        <td style='text-align:left'>DM1</td>\n",
       "        <td style='text-align:left'><code>aws_dm_sim</code></td>\n",
       "        <td><span style='color:green'>●</span></td></tr>\n",
       "        <tr>\n",
       "        <td style='text-align:left'>AWS</td>\n",
       "        <td style='text-align:left'>SV1</td>\n",
       "        <td style='text-align:left'><code>aws_sv_sim</code></td>\n",
       "        <td><span style='color:green'>●</span></td></tr>\n",
       "        <tr>\n",
       "        <td style='text-align:left'>AWS</td>\n",
       "        <td style='text-align:left'>TN1</td>\n",
       "        <td style='text-align:left'><code>aws_tn_sim</code></td>\n",
       "        <td><span style='color:green'>●</span></td></tr>\n",
       "        <tr>\n",
       "        <td style='text-align:left'>IBM</td>\n",
       "        <td style='text-align:left'>Belem</td>\n",
       "        <td style='text-align:left'><code>ibm_q_belem</code></td>\n",
       "        <td><span style='color:green'>●</span></td></tr>\n",
       "        <tr>\n",
       "        <td style='text-align:left'>IBM</td>\n",
       "        <td style='text-align:left'>Ext. stabilizer simulator</td>\n",
       "        <td style='text-align:left'><code>ibm_q_simulator_extended_stabilizer</code></td>\n",
       "        <td><span style='color:green'>●</span></td></tr>\n",
       "        <tr>\n",
       "        <td style='text-align:left'>IBM</td>\n",
       "        <td style='text-align:left'>Jakarta</td>\n",
       "        <td style='text-align:left'><code>ibm_q_jakarta</code></td>\n",
       "        <td><span style='color:red'>○</span></td></tr>\n",
       "        <tr>\n",
       "        <td style='text-align:left'>IBM</td>\n",
       "        <td style='text-align:left'>Lagos</td>\n",
       "        <td style='text-align:left'><code>ibm_q_lagos</code></td>\n",
       "        <td><span style='color:green'>●</span></td></tr>\n",
       "        <tr>\n",
       "        <td style='text-align:left'>IBM</td>\n",
       "        <td style='text-align:left'>Lima</td>\n",
       "        <td style='text-align:left'><code>ibm_q_lima</code></td>\n",
       "        <td><span style='color:green'>●</span></td></tr>\n",
       "        <tr>\n",
       "        <td style='text-align:left'>IBM</td>\n",
       "        <td style='text-align:left'>MPS simulator</td>\n",
       "        <td style='text-align:left'><code>ibm_q_simulator_mps</code></td>\n",
       "        <td><span style='color:green'>●</span></td></tr>\n",
       "        <tr>\n",
       "        <td style='text-align:left'>IBM</td>\n",
       "        <td style='text-align:left'>Manila</td>\n",
       "        <td style='text-align:left'><code>ibm_q_manila</code></td>\n",
       "        <td><span style='color:green'>●</span></td></tr>\n",
       "        <tr>\n",
       "        <td style='text-align:left'>IBM</td>\n",
       "        <td style='text-align:left'>Nairobi</td>\n",
       "        <td style='text-align:left'><code>ibm_q_nairobi</code></td>\n",
       "        <td><span style='color:green'>●</span></td></tr>\n",
       "        <tr>\n",
       "        <td style='text-align:left'>IBM</td>\n",
       "        <td style='text-align:left'>Oslo</td>\n",
       "        <td style='text-align:left'><code>ibm_q_oslo</code></td>\n",
       "        <td><span style='color:red'>○</span></td></tr>\n",
       "        <tr>\n",
       "        <td style='text-align:left'>IBM</td>\n",
       "        <td style='text-align:left'>Perth</td>\n",
       "        <td style='text-align:left'><code>ibm_q_perth</code></td>\n",
       "        <td><span style='color:green'>●</span></td></tr>\n",
       "        <tr>\n",
       "        <td style='text-align:left'>IBM</td>\n",
       "        <td style='text-align:left'>QASM simulator</td>\n",
       "        <td style='text-align:left'><code>ibm_q_qasm_simulator</code></td>\n",
       "        <td><span style='color:green'>●</span></td></tr>\n",
       "        <tr>\n",
       "        <td style='text-align:left'>IBM</td>\n",
       "        <td style='text-align:left'>Quito</td>\n",
       "        <td style='text-align:left'><code>ibm_q_quito</code></td>\n",
       "        <td><span style='color:green'>●</span></td></tr>\n",
       "        <tr>\n",
       "        <td style='text-align:left'>IBM</td>\n",
       "        <td style='text-align:left'>Stabilizer simulator</td>\n",
       "        <td style='text-align:left'><code>ibm_q_simulator_stabilizer</code></td>\n",
       "        <td><span style='color:green'>●</span></td></tr>\n",
       "        <tr>\n",
       "        <td style='text-align:left'>IBM</td>\n",
       "        <td style='text-align:left'>State vector simulator</td>\n",
       "        <td style='text-align:left'><code>ibm_q_simulator_statevector</code></td>\n",
       "        <td><span style='color:green'>●</span></td></tr>\n",
       "        <tr>\n",
       "        <td style='text-align:left'>IonQ</td>\n",
       "        <td style='text-align:left'>IonQ Device</td>\n",
       "        <td style='text-align:left'><code>aws_ionq</code></td>\n",
       "        <td><span style='color:green'>●</span></td></tr>\n",
       "        <tr>\n",
       "        <td style='text-align:left'>OQC</td>\n",
       "        <td style='text-align:left'>Lucy</td>\n",
       "        <td style='text-align:left'><code>aws_oqc_lucy</code></td>\n",
       "        <td><span style='color:red'>○</span></td></tr>\n",
       "        <tr>\n",
       "        <td style='text-align:left'>QuEra</td>\n",
       "        <td style='text-align:left'>Aquila</td>\n",
       "        <td style='text-align:left'><code>aws_quera_aquila</code></td>\n",
       "        <td><span style='color:red'>○</span></td></tr>\n",
       "        <tr>\n",
       "        <td style='text-align:left'>Rigetti</td>\n",
       "        <td style='text-align:left'>Aspen-M-2</td>\n",
       "        <td style='text-align:left'><code>aws_rigetti_aspen_m2</code></td>\n",
       "        <td><span style='color:red'>○</span></td></tr>\n",
       "        <tr>\n",
       "        <td style='text-align:left'>Rigetti</td>\n",
       "        <td style='text-align:left'>Aspen-M-3</td>\n",
       "        <td style='text-align:left'><code>aws_rigetti_aspen_m3</code></td>\n",
       "        <td><span style='color:red'>○</span></td></tr>\n",
       "        <tr>\n",
       "        <td style='text-align:left'>Xanadu</td>\n",
       "        <td style='text-align:left'>Borealis</td>\n",
       "        <td style='text-align:left'><code>aws_xanadu_borealis</code></td>\n",
       "        <td><span style='color:red'>○</span></td></tr>\n",
       "        <tr><td colspan='4'; style='text-align:right'>Device status updated 3 minutes ago</td></tr></table>"
      ],
      "text/plain": [
       "<IPython.core.display.HTML object>"
      ]
     },
     "metadata": {},
     "output_type": "display_data"
    }
   ],
   "source": [
    "from qbraid import get_devices\n",
    "get_devices()"
   ]
  },
  {
   "cell_type": "code",
   "execution_count": 4,
   "id": "712b2909-150d-4d68-8fbd-ddf21f55773f",
   "metadata": {},
   "outputs": [],
   "source": [
    "# import cirq_ionq as ionq\n",
    "# API_KEY = 'aSgKZjVlUqbKNcrGFIIDBPQuJnlaZcoA'\n",
    "# service = ionq.Service(api_key=API_KEY)\n",
    "\n",
    "# import qbraid\n",
    "from qbraid import device_wrapper, job_wrapper, get_jobs\n",
    "# from qbraid import verify_config\n",
    "\n",
    "# qbraid_device = device_wrapper(\"aws_ionq\")\n",
    "# qbraid_device.info"
   ]
  },
  {
   "cell_type": "code",
   "execution_count": 17,
   "id": "d034faec-064b-4ee5-80ad-2139b25a532c",
   "metadata": {},
   "outputs": [],
   "source": [
    "# from inspect import getsource\n",
    "# print(getsource(qbraid.devices.aws.AwsQuantumTaskWrapper))\n",
    "# print(getsource(qbraid.devices.aws.AwsQuantumTaskWrapper.result))"
   ]
  },
  {
   "cell_type": "code",
   "execution_count": 18,
   "id": "8fd07517-4e82-40af-9f51-86e026c77d2d",
   "metadata": {},
   "outputs": [],
   "source": [
    "# help(qbraid.api)"
   ]
  },
  {
   "cell_type": "code",
   "execution_count": 19,
   "id": "8209e72e-3474-4dda-8260-3aa39b1bb678",
   "metadata": {},
   "outputs": [],
   "source": [
    "# # help(qbraid)\n",
    "# print(dir(qbraid.exceptions))"
   ]
  },
  {
   "cell_type": "code",
   "execution_count": 20,
   "id": "657902f3-0bce-43e3-a5bd-198c5c257c3e",
   "metadata": {},
   "outputs": [],
   "source": [
    "# qbraid.api.verify_config(\"AWS\")"
   ]
  },
  {
   "cell_type": "code",
   "execution_count": 5,
   "id": "e6f0cf1b-af08-4b5e-b17a-d1a42f234c97",
   "metadata": {},
   "outputs": [
    {
     "data": {
      "text/plain": [
       "{'numberQubits': 34,\n",
       " 'objRef': None,\n",
       " 'pendingJobs': 'N/D',\n",
       " 'availabilityCD': '05:45:28',\n",
       " 'visibility': 'public',\n",
       " 'qbraid_id': 'aws_sv_sim',\n",
       " 'name': 'SV1',\n",
       " 'provider': 'AWS',\n",
       " 'paradigm': 'gate-based',\n",
       " 'type': 'Simulator',\n",
       " 'vendor': 'AWS',\n",
       " 'runPackage': 'braket',\n",
       " 'status': 'ONLINE',\n",
       " 'createdAt': '2022-03-10T04:08:20.639Z',\n",
       " 'updatedAt': '2023-05-05T18:14:33.390Z',\n",
       " '__v': 0,\n",
       " 'processorType': 'State vector simulator'}"
      ]
     },
     "execution_count": 5,
     "metadata": {},
     "output_type": "execute_result"
    }
   ],
   "source": [
    "# ionq_id = \"aws_ionq\"\n",
    "ionq_id = \"aws_sv_sim\"\n",
    "qbraid_aws_device = device_wrapper(ionq_id)\n",
    "qbraid_aws_device.vendor_dlo\n",
    "qbraid_aws_device.info"
   ]
  },
  {
   "cell_type": "code",
   "execution_count": 11,
   "id": "f8c53767-7480-46ae-bf32-5491c661fda7",
   "metadata": {},
   "outputs": [
    {
     "ename": "NameError",
     "evalue": "name 'getsource' is not defined",
     "output_type": "error",
     "traceback": [
      "\u001b[0;31m---------------------------------------------------------------------------\u001b[0m",
      "\u001b[0;31mNameError\u001b[0m                                 Traceback (most recent call last)",
      "Cell \u001b[0;32mIn[11], line 1\u001b[0m\n\u001b[0;32m----> 1\u001b[0m \u001b[38;5;28mprint\u001b[39m(\u001b[43mgetsource\u001b[49m(qbraid\u001b[38;5;241m.\u001b[39mdevices\u001b[38;5;241m.\u001b[39maws\u001b[38;5;241m.\u001b[39mAwsQuantumTaskWrapper))\n",
      "\u001b[0;31mNameError\u001b[0m: name 'getsource' is not defined"
     ]
    }
   ],
   "source": [
    "# print(getsource(qbraid.devices.aws.AwsQuantumTaskWrapper))"
   ]
  },
  {
   "cell_type": "code",
   "execution_count": 1,
   "id": "8aab2a5e-4065-4283-899a-422feb0f351d",
   "metadata": {},
   "outputs": [],
   "source": [
    "def batch_1(p):\n",
    "    # env = [cirq.LineQubit(21),cirq.LineQubit(22),\n",
    "    #       cirq.LineQubit(23),cirq.LineQubit(24),cirq.LineQubit(25), cirq.LineQubit(26),cirq.LineQubit(27), cirq.LineQubit(28),\n",
    "    #       cirq.LineQubit(29),cirq.LineQubit(30),cirq.LineQubit(31),cirq.LineQubit(32),cirq.LineQubit(33),cirq.LineQubit(34)]\n",
    "    # sys = [cirq.LineQubit(0),cirq.LineQubit(1),cirq.LineQubit(2),cirq.LineQubit(3),cirq.LineQubit(4),cirq.LineQubit(5), cirq.LineQubit(6), \n",
    "    #        cirq.LineQubit(7),cirq.LineQubit(8),cirq.LineQubit(9),cirq.LineQubit(10),cirq.LineQubit(11), cirq.LineQubit(12),\n",
    "    #        cirq.LineQubit(13),cirq.LineQubit(14),cirq.LineQubit(15),cirq.LineQubit(16),cirq.LineQubit(17), cirq.LineQubit(18),\n",
    "    #       cirq.LineQubit(19),cirq.LineQubit(20)]\n",
    "    # circ = cirq.Circuit()\n",
    "    env = [cirq.LineQubit(6),cirq.LineQubit(7),cirq.LineQubit(8),cirq.LineQubit(9),cirq.LineQubit(10)]\n",
    "    sys = [cirq.LineQubit(0),cirq.LineQubit(1),cirq.LineQubit(2),cirq.LineQubit(3),cirq.LineQubit(4),cirq.LineQubit(5)]\n",
    "    circ = cirq.Circuit()\n",
    "    circ.append(zz_xx_pump(sys[0:2],env[0:2],p,'00'))\n",
    "    circ.append(zz_xx_pump(sys[2:4],env[2:4],p,'01'))\n",
    "    circ.append(zz_pump(sys[4:6],env[4:5],p,'00'))\n",
    "    \n",
    "#     circ.append(zz_xx_pump(sys[7:9],env[5:7],p,'10'))\n",
    "#     circ.append(zz_xx_pump(sys[9:11],env[7:9],p,'11'))\n",
    "#     circ.append(zz_pump(sys[11:13],env[9:10],p,'01'))\n",
    "    \n",
    "#     circ.append(zz_pump(sys[13:15],env[10:11],p,'10'))\n",
    "#     circ.append(zz_pump(sys[15:17],env[11:12],p,'11'))\n",
    "#     circ.append(xx_pump(sys[17:19],env[12:13],p,'00'))\n",
    "    \n",
    "#     circ.append(xx_pump(sys[19:21],env[13:14],p,'01'))\n",
    "    # print(circ)\n",
    "    # print('******************************************')\n",
    "    # circ1 = qbraid.transpiler.cirq_braket.to_braket(circ)\n",
    "    # print(circ1)\n",
    "    # circ.append(cirq.measure(cirq.LineQubit.range(11),key='meas'))\n",
    "    # circ1 = qbraid.interface.convert_to_contiguous(circ)\n",
    "    # simulator = cirq.Simulator()\n",
    "    # results = simulator.run(circ,repetitions=repcnt)\n",
    "    #############\n",
    "    \n",
    "    # job = service.create_job(circuit=circuit, target='qpu', repetitions=repcnt)\n",
    "    # job_id = job.job_id()\n",
    "    # print(job_id)\n",
    "    # same_job = service.get_job(job_id=job_id)\n",
    "    # if same_job == 'completed':\n",
    "    #     results = same_job.results()\n",
    "    #     # print(results)\n",
    "    # results.to_cirq_result()\n",
    "    \n",
    "    #############\n",
    "    qbraid_aws_job = qbraid_aws_device.run(circ, shots=repcnt)\n",
    "    return qbraid_aws_job\n",
    "    #############\n",
    "    # hist1 = results.histogram(key='zzxx00')\n",
    "    # hist2 = results.histogram(key='zzxx01')\n",
    "    # hist3 = results.histogram(key='zz00')\n",
    "    # return hist1,hist2,hist3\n"
   ]
  },
  {
   "cell_type": "code",
   "execution_count": 23,
   "id": "6bca1476-086c-45d7-9327-e97fcecfee51",
   "metadata": {},
   "outputs": [],
   "source": [
    "\n",
    "def batch_2(p):\n",
    "    env = [cirq.LineQubit(6),cirq.LineQubit(7),cirq.LineQubit(8),cirq.LineQubit(9),cirq.LineQubit(10)]\n",
    "    sys = [cirq.LineQubit(0),cirq.LineQubit(1),cirq.LineQubit(2),cirq.LineQubit(3),cirq.LineQubit(4),cirq.LineQubit(5)]\n",
    "    circ = cirq.Circuit()\n",
    "    circ.append(zz_xx_pump(sys[0:2],env[0:2],p,'10'))\n",
    "    circ.append(zz_xx_pump(sys[2:4],env[2:4],p,'11'))\n",
    "    circ.append(zz_pump(sys[4:6],env[4:5],p,'01'))\n",
    "    # simulator = cirq.Simulator()\n",
    "    # results = simulator.run(circ,repetitions=repcnt)\n",
    "    #############\n",
    "    \n",
    "    # job = service.create_job(circuit=circuit, target='qpu', repetitions=repcnt)\n",
    "    # job_id = job.job_id()\n",
    "    # print(job_id)\n",
    "    # same_job = service.get_job(job_id=job_id)\n",
    "    # if same_job == 'completed':\n",
    "    #     results = same_job.results()\n",
    "    #     # print(results)\n",
    "    # results.to_cirq_result()\n",
    "    \n",
    "    \n",
    "    \n",
    "    #############\n",
    "    qbraid_aws_job = qbraid_aws_device.run(circ, shots=repcnt)\n",
    "    aws_result = qbraid_aws_job.result()\n",
    "    # results = aws_result.to_cirq_result()\n",
    "    # data2 = results.data\n",
    "    # filename = './data2/'+str(np.around(p,3))+'.csv'\n",
    "    # data2.to_csv(filename)\n",
    "    #############\n",
    "    # hist1 = results.histogram(key='zzxx10')\n",
    "    # hist2 = results.histogram(key='zzxx11')\n",
    "    # hist3 = results.histogram(key='zz01')\n",
    "    # return hist1,hist2,hist3\n"
   ]
  },
  {
   "cell_type": "code",
   "execution_count": 27,
   "id": "87da99fc-8b51-4044-9336-64c23630e2ec",
   "metadata": {},
   "outputs": [],
   "source": [
    "# qjob10 = batch_1(probs[0])"
   ]
  },
  {
   "cell_type": "code",
   "execution_count": 28,
   "id": "8846cdf4-2e25-4e1e-b35e-de2c36279d1d",
   "metadata": {},
   "outputs": [
    {
     "name": "stdout",
     "output_type": "stream",
     "text": [
      "['__abstractmethods__', '__class__', '__delattr__', '__dict__', '__dir__', '__doc__', '__eq__', '__format__', '__ge__', '__getattribute__', '__gt__', '__hash__', '__init__', '__init_subclass__', '__le__', '__lt__', '__module__', '__ne__', '__new__', '__reduce__', '__reduce_ex__', '__repr__', '__setattr__', '__sizeof__', '__slots__', '__str__', '__subclasshook__', '__weakref__', '_abc_impl', '_get_status', '_get_vendor_jlo', '_status', 'cancel', 'device', 'id', 'metadata', 'result', 'status', 'vendor_jlo', 'vendor_job_id', 'wait_for_final_state']\n"
     ]
    }
   ],
   "source": [
    "print(dir(type(qjob10)))\n",
    "# print(qjob10.status())\n",
    "# print(qjob10.id)"
   ]
  },
  {
   "cell_type": "code",
   "execution_count": 1,
   "id": "cf70aad4-fe9b-4e29-aff8-485014df0e0f",
   "metadata": {},
   "outputs": [
    {
     "ename": "NameError",
     "evalue": "name 'qjob10' is not defined",
     "output_type": "error",
     "traceback": [
      "\u001b[0;31m---------------------------------------------------------------------------\u001b[0m",
      "\u001b[0;31mNameError\u001b[0m                                 Traceback (most recent call last)",
      "Cell \u001b[0;32mIn[1], line 1\u001b[0m\n\u001b[0;32m----> 1\u001b[0m aws_result \u001b[38;5;241m=\u001b[39m \u001b[43mqjob10\u001b[49m\u001b[38;5;241m.\u001b[39mresult()\n\u001b[1;32m      2\u001b[0m \u001b[38;5;28mprint\u001b[39m(aws_result)\n\u001b[1;32m      3\u001b[0m \u001b[38;5;66;03m# results = aws_result.to_cirq_result()\u001b[39;00m\n\u001b[1;32m      4\u001b[0m \u001b[38;5;66;03m# data1 = aws_result.data\u001b[39;00m\n\u001b[1;32m      5\u001b[0m \u001b[38;5;66;03m# filename = './data1/'+str(np.around(p,3))+'.csv'\u001b[39;00m\n\u001b[1;32m      6\u001b[0m \u001b[38;5;66;03m# data1.to_csv(filename)\u001b[39;00m\n",
      "\u001b[0;31mNameError\u001b[0m: name 'qjob10' is not defined"
     ]
    }
   ],
   "source": [
    "aws_result = qjob10.result()\n",
    "print(aws_result)\n",
    "# results = aws_result.to_cirq_result()\n",
    "# data1 = aws_result.data\n",
    "# filename = './data1/'+str(np.around(p,3))+'.csv'\n",
    "# data1.to_csv(filename)"
   ]
  },
  {
   "cell_type": "code",
   "execution_count": 10,
   "id": "67392abd-534a-4660-b6cf-04d78a1c4c5a",
   "metadata": {},
   "outputs": [
    {
     "data": {
      "text/html": [
       "<h3>Quantum Jobs</h3><table><tr>\n",
       "    <th style='text-align:left'>qBraid ID</th>\n",
       "    <th style='text-align:left'>Submitted</th>\n",
       "    <th style='text-align:left'>Status</th></tr>\n",
       "    <tr>\n",
       "        <td style='text-align:left'>aws_sv_sim-jessjohnbritto-qjob-u8nzibwhq9o7g5ga2fic</td>\n",
       "        <td style='text-align:left'>2023-05-04T21:33:29.416Z</td>\n",
       "        <td style='text-align:left'><span style='color:green'>COMPLETED</span></td></tr>\n",
       "        <tr><td colspan='4'; style='text-align:right'>Displaying 1/1 jobs matching query</td></tr></table>"
      ],
      "text/plain": [
       "<IPython.core.display.HTML object>"
      ]
     },
     "metadata": {},
     "output_type": "display_data"
    }
   ],
   "source": [
    "from qbraid import get_jobs\n",
    "get_jobs(filters={\"qbraidDeviceId\": \"aws_sv_sim\"})"
   ]
  },
  {
   "cell_type": "code",
   "execution_count": 6,
   "id": "7e39694e-bd16-4e8a-b2c6-b91532c3b005",
   "metadata": {},
   "outputs": [],
   "source": [
    "from qbraid import job_wrapper\n",
    "saved_job_id = 'aws_sv_sim-jessjohnbritto-qjob-u8nzibwhq9o7g5ga2fic'\n",
    "qjob = job_wrapper(saved_job_id)"
   ]
  },
  {
   "cell_type": "code",
   "execution_count": 7,
   "id": "b8248379-f6e5-41a3-bc2e-2fb6439c2d5b",
   "metadata": {},
   "outputs": [],
   "source": [
    "qresult = qjob.result()"
   ]
  },
  {
   "cell_type": "code",
   "execution_count": 8,
   "id": "172dc0a4-5686-4815-8c08-453668f635c7",
   "metadata": {},
   "outputs": [
    {
     "data": {
      "text/plain": [
       "{'0110001000111100011111111111111111': 1,\n",
       " '0011011000111101001111111111111111': 1,\n",
       " '0010011001111101001011111111111111': 1,\n",
       " '0110011001101001011011111111111111': 1,\n",
       " '0011011100111101001011111111111111': 1,\n",
       " '0011011100101100001011111111111111': 1,\n",
       " '0110011100101101001011111111111111': 1,\n",
       " '0011011100111100011111111111111111': 1,\n",
       " '0011001000111001001111111111111111': 1,\n",
       " '0010001101111001001011111111111111': 1,\n",
       " '0010011001101100011111111111111111': 1,\n",
       " '0110001001101001001111111111111111': 1,\n",
       " '0010001101111101011011111111111111': 1,\n",
       " '0110001001111001001111111111111111': 1,\n",
       " '0010001100101001011111111111111111': 1,\n",
       " '0111001000111101011111111111111111': 1,\n",
       " '0011011001101001001011111111111111': 1,\n",
       " '0011001100101100001011111111111111': 1,\n",
       " '0110011100111101011011111111111111': 1,\n",
       " '0111001100101100011111111111111111': 1,\n",
       " '0011001000101000011111111111111111': 1,\n",
       " '0110001001111000001011111111111111': 1,\n",
       " '0010001000111100011111111111111111': 1,\n",
       " '0111011100111100011011111111111111': 1,\n",
       " '0010011001101101011011111111111111': 1,\n",
       " '0010011001101001001011111111111111': 1,\n",
       " '0010011000101001001011111111111111': 1,\n",
       " '0011001100101101001111111111111111': 1,\n",
       " '0010011100101101001111111111111111': 1,\n",
       " '0111001101101100011111111111111111': 1,\n",
       " '0110001001111100001011111111111111': 1,\n",
       " '0011001101101101001011111111111111': 1,\n",
       " '0011011000111000001111111111111111': 1,\n",
       " '0011011000101101011011111111111111': 1,\n",
       " '0011011101111101011011111111111111': 1,\n",
       " '0011001000111101001111111111111111': 1,\n",
       " '0011001001101001011111111111111111': 1,\n",
       " '0011011100111100001011111111111111': 1,\n",
       " '0010001001101000001011111111111111': 1,\n",
       " '0011001001111101011111111111111111': 1,\n",
       " '0011001000111000011011111111111111': 1,\n",
       " '0111011000111100011011111111111111': 1,\n",
       " '0110011000101000011111111111111111': 1,\n",
       " '0011011101111100001111111111111111': 1,\n",
       " '0110001101111101001011111111111111': 1,\n",
       " '0110011101111000011111111111111111': 1,\n",
       " '0110011100111001001011111111111111': 1,\n",
       " '0110001100101001011011111111111111': 1,\n",
       " '0010001100111101001011111111111111': 1,\n",
       " '0010001100111101011011111111111111': 1,\n",
       " '0011001101101101001111111111111111': 1,\n",
       " '0010001100111101011111111111111111': 1,\n",
       " '0011001000101000001011111111111111': 1,\n",
       " '0110011000111001011111111111111111': 1,\n",
       " '0010011001101100011011111111111111': 1,\n",
       " '0111011100101100001111111111111111': 1,\n",
       " '0110001100101101011111111111111111': 1,\n",
       " '0111001001111000011111111111111111': 1,\n",
       " '0011011001111101011111111111111111': 1,\n",
       " '0111001100111101001011111111111111': 1,\n",
       " '0010011101101001001011111111111111': 1,\n",
       " '0110011001111000011011111111111111': 1,\n",
       " '0010011000101101001011111111111111': 1,\n",
       " '0111011101111000011111111111111111': 1,\n",
       " '0110011000101001011111111111111111': 1,\n",
       " '0010011000111100011111111111111111': 1,\n",
       " '0111001101111000011111111111111111': 1,\n",
       " '0011011001111001011011111111111111': 1,\n",
       " '0111001000101001011011111111111111': 1,\n",
       " '0111001100111101001111111111111111': 1,\n",
       " '0111011001111000001111111111111111': 1,\n",
       " '0011001001111001001111111111111111': 1,\n",
       " '0110001100111101001111111111111111': 1,\n",
       " '0011001000111000011111111111111111': 1,\n",
       " '0110001000111000011011111111111111': 1,\n",
       " '0110001000101100001111111111111111': 1,\n",
       " '0011001101101000011011111111111111': 1,\n",
       " '0111001000111000001111111111111111': 1,\n",
       " '0010001000111000001111111111111111': 1,\n",
       " '0010001001101000011011111111111111': 1,\n",
       " '0110011000111001001111111111111111': 1,\n",
       " '0111001100111001001011111111111111': 1,\n",
       " '0111001000111101011011111111111111': 1,\n",
       " '0011011100111000001011111111111111': 1,\n",
       " '0010011001111001011111111111111111': 1,\n",
       " '0111001000101101011011111111111111': 1,\n",
       " '0110001000101000001111111111111111': 1,\n",
       " '0111001000111100011011111111111111': 1,\n",
       " '0010001100101001011011111111111111': 1,\n",
       " '0011001000111001001011111111111111': 1,\n",
       " '0011001100101101001011111111111111': 1,\n",
       " '0111001101101101011011111111111111': 1,\n",
       " '0011001100101100011011111111111111': 1,\n",
       " '0111011001101100001111111111111111': 1,\n",
       " '0011011000111000011111111111111111': 1,\n",
       " '0110001000111000001111111111111111': 1,\n",
       " '0110001101101000001011111111111111': 1,\n",
       " '0111011101101000001111111111111111': 1,\n",
       " '0010001001111001011011111111111111': 1,\n",
       " '0010001101111000011111111111111111': 1}"
      ]
     },
     "execution_count": 8,
     "metadata": {},
     "output_type": "execute_result"
    }
   ],
   "source": [
    "qresult.measurement_counts()"
   ]
  },
  {
   "cell_type": "code",
   "execution_count": 14,
   "id": "a5514ace-15e9-4c18-b54b-ffdf4d0a5d2d",
   "metadata": {},
   "outputs": [
    {
     "data": {
      "text/plain": [
       "array([[0, 1, 1, ..., 1, 1, 1],\n",
       "       [0, 0, 1, ..., 1, 1, 1],\n",
       "       [0, 0, 1, ..., 1, 1, 1],\n",
       "       ...,\n",
       "       [0, 1, 1, ..., 1, 1, 1],\n",
       "       [0, 0, 1, ..., 1, 1, 1],\n",
       "       [0, 0, 1, ..., 1, 1, 1]])"
      ]
     },
     "execution_count": 14,
     "metadata": {},
     "output_type": "execute_result"
    }
   ],
   "source": [
    "qresult.measurements()"
   ]
  },
  {
   "cell_type": "code",
   "execution_count": 3,
   "id": "47673c39-a3b4-4a3e-8ec7-476c195e6271",
   "metadata": {},
   "outputs": [],
   "source": [
    "# qresult.plot_counts()"
   ]
  },
  {
   "cell_type": "code",
   "execution_count": 31,
   "id": "455b3f8e-8577-4c1f-9bca-ac653454cb50",
   "metadata": {},
   "outputs": [
    {
     "ename": "AttributeError",
     "evalue": "'AwsGateModelResultWrapper' object has no attribute 'to_cirq_result'",
     "output_type": "error",
     "traceback": [
      "\u001b[0;31m---------------------------------------------------------------------------\u001b[0m",
      "\u001b[0;31mAttributeError\u001b[0m                            Traceback (most recent call last)",
      "Cell \u001b[0;32mIn[31], line 1\u001b[0m\n\u001b[0;32m----> 1\u001b[0m results \u001b[38;5;241m=\u001b[39m \u001b[43maws_result\u001b[49m\u001b[38;5;241;43m.\u001b[39;49m\u001b[43mto_cirq_result\u001b[49m()\n\u001b[1;32m      2\u001b[0m \u001b[38;5;28mprint\u001b[39m(results)\n",
      "\u001b[0;31mAttributeError\u001b[0m: 'AwsGateModelResultWrapper' object has no attribute 'to_cirq_result'"
     ]
    }
   ],
   "source": [
    "# results = aws_result.to_cirq_result()\n",
    "# print(results)"
   ]
  },
  {
   "cell_type": "code",
   "execution_count": 32,
   "id": "c9310695-d7cb-4ce7-a16c-3772e7cdc06d",
   "metadata": {},
   "outputs": [
    {
     "ename": "AttributeError",
     "evalue": "'AwsGateModelResultWrapper' object has no attribute 'data'",
     "output_type": "error",
     "traceback": [
      "\u001b[0;31m---------------------------------------------------------------------------\u001b[0m",
      "\u001b[0;31mAttributeError\u001b[0m                            Traceback (most recent call last)",
      "Cell \u001b[0;32mIn[32], line 1\u001b[0m\n\u001b[0;32m----> 1\u001b[0m data1 \u001b[38;5;241m=\u001b[39m \u001b[43maws_result\u001b[49m\u001b[38;5;241;43m.\u001b[39;49m\u001b[43mdata\u001b[49m\n\u001b[1;32m      2\u001b[0m filename \u001b[38;5;241m=\u001b[39m \u001b[38;5;124m'\u001b[39m\u001b[38;5;124m./data1/\u001b[39m\u001b[38;5;124m'\u001b[39m\u001b[38;5;241m+\u001b[39m\u001b[38;5;28mstr\u001b[39m(np\u001b[38;5;241m.\u001b[39maround(p,\u001b[38;5;241m3\u001b[39m))\u001b[38;5;241m+\u001b[39m\u001b[38;5;124m'\u001b[39m\u001b[38;5;124m.csv\u001b[39m\u001b[38;5;124m'\u001b[39m\n\u001b[1;32m      3\u001b[0m data1\u001b[38;5;241m.\u001b[39mto_csv(filename)\n",
      "\u001b[0;31mAttributeError\u001b[0m: 'AwsGateModelResultWrapper' object has no attribute 'data'"
     ]
    }
   ],
   "source": [
    "# data1 = aws_result.data\n",
    "# filename = './data1/'+str(np.around(p,3))+'.csv'\n",
    "# data1.to_csv(filename)"
   ]
  },
  {
   "cell_type": "code",
   "execution_count": 4,
   "id": "de80da0d-dfe7-4751-a5e9-7637ccfe7859",
   "metadata": {},
   "outputs": [],
   "source": [
    "# fresult = aws_result.measurement_counts()\n",
    "# print(fresult)\n",
    "# plt = aws_result.plot_counts()\n",
    "# plt.show()"
   ]
  },
  {
   "cell_type": "code",
   "execution_count": 34,
   "id": "45454eec-0d16-4561-a3c9-3e93713567fa",
   "metadata": {},
   "outputs": [
    {
     "name": "stdout",
     "output_type": "stream",
     "text": [
      "<class 'dict'>\n"
     ]
    }
   ],
   "source": [
    "print(type(fresult))"
   ]
  },
  {
   "cell_type": "code",
   "execution_count": 4,
   "id": "1ad60991-3089-4333-a563-21b61480ddd2",
   "metadata": {},
   "outputs": [],
   "source": [
    "resultsdict10 = {'0110001000111100011111111111111111': 1, '0011011000111101001111111111111111': 1, '0010011001111101001011111111111111': 1, '0110011001101001011011111111111111': 1, '0011011100111101001011111111111111': 1, '0011011100101100001011111111111111': 1, '0110011100101101001011111111111111': 1, '0011011100111100011111111111111111': 1, '0011001000111001001111111111111111': 1, '0010001101111001001011111111111111': 1, '0010011001101100011111111111111111': 1, '0110001001101001001111111111111111': 1, '0010001101111101011011111111111111': 1, '0110001001111001001111111111111111': 1, '0010001100101001011111111111111111': 1, '0111001000111101011111111111111111': 1, '0011011001101001001011111111111111': 1, '0011001100101100001011111111111111': 1, '0110011100111101011011111111111111': 1, '0111001100101100011111111111111111': 1, '0011001000101000011111111111111111': 1, '0110001001111000001011111111111111': 1, '0010001000111100011111111111111111': 1, '0111011100111100011011111111111111': 1, '0010011001101101011011111111111111': 1, '0010011001101001001011111111111111': 1, '0010011000101001001011111111111111': 1, '0011001100101101001111111111111111': 1, '0010011100101101001111111111111111': 1, '0111001101101100011111111111111111': 1, '0110001001111100001011111111111111': 1, '0011001101101101001011111111111111': 1, '0011011000111000001111111111111111': 1, '0011011000101101011011111111111111': 1, '0011011101111101011011111111111111': 1, '0011001000111101001111111111111111': 1, '0011001001101001011111111111111111': 1, '0011011100111100001011111111111111': 1, '0010001001101000001011111111111111': 1, '0011001001111101011111111111111111': 1, '0011001000111000011011111111111111': 1, '0111011000111100011011111111111111': 1, '0110011000101000011111111111111111': 1, '0011011101111100001111111111111111': 1, '0110001101111101001011111111111111': 1, '0110011101111000011111111111111111': 1, '0110011100111001001011111111111111': 1, '0110001100101001011011111111111111': 1, '0010001100111101001011111111111111': 1, '0010001100111101011011111111111111': 1, '0011001101101101001111111111111111': 1, '0010001100111101011111111111111111': 1, '0011001000101000001011111111111111': 1, '0110011000111001011111111111111111': 1, '0010011001101100011011111111111111': 1, '0111011100101100001111111111111111': 1, '0110001100101101011111111111111111': 1, '0111001001111000011111111111111111': 1, '0011011001111101011111111111111111': 1, '0111001100111101001011111111111111': 1, '0010011101101001001011111111111111': 1, '0110011001111000011011111111111111': 1, '0010011000101101001011111111111111': 1, '0111011101111000011111111111111111': 1, '0110011000101001011111111111111111': 1, '0010011000111100011111111111111111': 1, '0111001101111000011111111111111111': 1, '0011011001111001011011111111111111': 1, '0111001000101001011011111111111111': 1, '0111001100111101001111111111111111': 1, '0111011001111000001111111111111111': 1, '0011001001111001001111111111111111': 1, '0110001100111101001111111111111111': 1, '0011001000111000011111111111111111': 1, '0110001000111000011011111111111111': 1, '0110001000101100001111111111111111': 1, '0011001101101000011011111111111111': 1, '0111001000111000001111111111111111': 1, '0010001000111000001111111111111111': 1, '0010001001101000011011111111111111': 1, '0110011000111001001111111111111111': 1, '0111001100111001001011111111111111': 1, '0111001000111101011011111111111111': 1, '0011011100111000001011111111111111': 1, '0010011001111001011111111111111111': 1, '0111001000101101011011111111111111': 1, '0110001000101000001111111111111111': 1, '0111001000111100011011111111111111': 1, '0010001100101001011011111111111111': 1, '0011001000111001001011111111111111': 1, '0011001100101101001011111111111111': 1, '0111001101101101011011111111111111': 1, '0011001100101100011011111111111111': 1, '0111011001101100001111111111111111': 1, '0011011000111000011111111111111111': 1, '0110001000111000001111111111111111': 1, '0110001101101000001011111111111111': 1, '0111011101101000001111111111111111': 1, '0010001001111001011011111111111111': 1, '0010001101111000011111111111111111': 1}"
   ]
  },
  {
   "cell_type": "code",
   "execution_count": 12,
   "id": "4e1e6803-d140-44be-925d-1de46699c079",
   "metadata": {},
   "outputs": [
    {
     "name": "stdout",
     "output_type": "stream",
     "text": [
      "Counter({1: 0.285, 0: 0.26, 2: 0.24, 3: 0.215})\n"
     ]
    }
   ],
   "source": [
    "zzxx00p0,zzxx01p0,zzxx10p0,zzxx11p0 = Counter(),Counter(),Counter(),Counter()\n",
    "\n",
    "for key,cnt in resultsdict10.items():\n",
    "    k1 = int(key[1:3],base=2)\n",
    "    k2 = int(key[3:5],base=2)\n",
    "    k3 = int(key[7:9],base=2)\n",
    "    k4 = int(key[9:11],base=2)\n",
    "    zzxx00p0[k1]+=cnt\n",
    "    zzxx01p0[k2]+=cnt\n",
    "    zzxx10p0[k3]+=cnt\n",
    "    zzxx11p0[k4]+=cnt\n",
    "zzxxp0 = (zzxx00p0+zzxx01p0+zzxx10p0+zzxx11p0)\n",
    "for key,cnt in zzxxp0.items():\n",
    "    zzxxp0[key] = cnt/(4*repcnt)\n",
    "print(zzxxp0)"
   ]
  },
  {
   "cell_type": "code",
   "execution_count": 13,
   "id": "70b8ea56-1446-4407-a1b4-467079cecda3",
   "metadata": {},
   "outputs": [
    {
     "name": "stdout",
     "output_type": "stream",
     "text": [
      "Counter({2: 0.26, 1: 0.2525, 3: 0.2475, 0: 0.24})\n"
     ]
    }
   ],
   "source": [
    "zz00p0,zz01p0,zz10p0,zz11p0 = Counter(),Counter(),Counter(),Counter()\n",
    "\n",
    "for key,cnt in resultsdict10.items():\n",
    "    k1 = int(key[5:7],base=2)\n",
    "    k2 = int(key[11:13],base=2)\n",
    "    k3 = int(key[13:15],base=2)\n",
    "    k4 = int(key[15:17],base=2)\n",
    "    zz00p0[k1]+=cnt\n",
    "    zz01p0[k2]+=cnt\n",
    "    zz10p0[k3]+=cnt\n",
    "    zz11p0[k4]+=cnt\n",
    "zzp0 = (zz00p0+zz01p0+zz10p0+zz11p0)\n",
    "for key,cnt in zzp0.items():\n",
    "    zzp0[key] = cnt/(4*repcnt)\n",
    "print(zzp0)"
   ]
  },
  {
   "cell_type": "code",
   "execution_count": null,
   "id": "30c1e726-d490-42ee-af55-c1755572a07a",
   "metadata": {},
   "outputs": [],
   "source": []
  },
  {
   "cell_type": "code",
   "execution_count": null,
   "id": "2b1d2947-649f-4901-8382-79e47e312b67",
   "metadata": {},
   "outputs": [],
   "source": [
    "# batch_1(probs[1])"
   ]
  },
  {
   "cell_type": "code",
   "execution_count": null,
   "id": "920800ac-1442-48de-852a-3c39c6a9cede",
   "metadata": {},
   "outputs": [],
   "source": [
    "# batch_1(probs[2])"
   ]
  },
  {
   "cell_type": "code",
   "execution_count": null,
   "id": "a546e9da-c54d-472e-91e3-f40d4d4b06da",
   "metadata": {},
   "outputs": [],
   "source": [
    "# batch_1(probs[3])"
   ]
  },
  {
   "cell_type": "code",
   "execution_count": null,
   "id": "4b008f14-6439-43d6-be1d-d0163da50027",
   "metadata": {},
   "outputs": [],
   "source": [
    "# batch_1(probs[4])"
   ]
  },
  {
   "cell_type": "code",
   "execution_count": null,
   "id": "aa71fba5-6def-4a5f-a305-a6e0423abaad",
   "metadata": {},
   "outputs": [],
   "source": [
    "# batch_2(probs[0])"
   ]
  },
  {
   "cell_type": "code",
   "execution_count": null,
   "id": "7eac8455-76b4-459b-bd33-bdfeaea5407e",
   "metadata": {},
   "outputs": [],
   "source": [
    "# batch_2(probs[1])"
   ]
  },
  {
   "cell_type": "code",
   "execution_count": null,
   "id": "e4df2010-954b-46f0-bb96-3d8a6a5cc6c7",
   "metadata": {},
   "outputs": [],
   "source": [
    "# batch_2(probs[2])"
   ]
  },
  {
   "cell_type": "code",
   "execution_count": null,
   "id": "6996279a-1957-4171-bc53-a091e0ff0d59",
   "metadata": {},
   "outputs": [],
   "source": [
    "# batch_2(probs[3])"
   ]
  },
  {
   "cell_type": "code",
   "execution_count": null,
   "id": "22715786-8101-4faa-b69f-8f2aff4797b5",
   "metadata": {},
   "outputs": [],
   "source": [
    "# batch_2(probs[4])"
   ]
  },
  {
   "cell_type": "code",
   "execution_count": null,
   "id": "35536c1c-a7ef-48a2-aae1-d6a26085d6db",
   "metadata": {},
   "outputs": [],
   "source": [
    "\n",
    "# def batch_3(p):\n",
    "#     env = [cirq.LineQubit(0),cirq.LineQubit(3),cirq.LineQubit(6)]\n",
    "#     sys = [cirq.LineQubit(1),cirq.LineQubit(2),cirq.LineQubit(4),cirq.LineQubit(5),cirq.LineQubit(7),cirq.LineQubit(8)]\n",
    "#     circ = cirq.Circuit()\n",
    "#     circ.append(zz_pump(sys[0:2],env[0:1],p,'10'))\n",
    "#     circ.append(zz_pump(sys[2:4],env[1:2],p,'11'))\n",
    "#     circ.append(xx_pump(sys[4:6],env[2:3],p,'00'))\n",
    "#     simulator = cirq.Simulator()\n",
    "#     results = simulator.run(circ,repetitions=repcnt)\n",
    "#     #############\n",
    "    \n",
    "#     # job = service.create_job(circuit=circuit, target='qpu', repetitions=repcnt)\n",
    "#     # job_id = job.job_id()\n",
    "#     # print(job_id)\n",
    "#     # same_job = service.get_job(job_id=job_id)\n",
    "#     # if same_job == 'completed':\n",
    "#     #     results = same_job.results()\n",
    "#     #     # print(results)\n",
    "#     # results.to_cirq_result()\n",
    "    \n",
    "#     #############\n",
    "#     # qbraid_aws_job = qbraid_aws_device.run(circ, shots=repcnt)\n",
    "#     # aws_result = qbraid_aws_job.result()\n",
    "#     # results = aws_result.to_cirq_result()\n",
    "#     data3 = results.data\n",
    "#     data3.to_csv('data3.csv')\n",
    "#     #############\n",
    "#     # hist1 = results.histogram(key='zz10')\n",
    "#     # hist2 = results.histogram(key='zz11')\n",
    "#     # hist3 = results.histogram(key='xx00')\n",
    "#     # return hist1,hist2,hist3\n",
    "\n",
    "# def batch_4(p):\n",
    "#     env = [cirq.LineQubit(0),cirq.LineQubit(3),cirq.LineQubit(6)]\n",
    "#     sys = [cirq.LineQubit(1),cirq.LineQubit(2),cirq.LineQubit(4),cirq.LineQubit(5),cirq.LineQubit(7),cirq.LineQubit(8)]\n",
    "#     circ = cirq.Circuit()\n",
    "#     circ.append(xx_pump(sys[0:2],env[0:1],p,'01'))\n",
    "#     circ.append(xx_pump(sys[2:4],env[1:2],p,'10'))\n",
    "#     circ.append(xx_pump(sys[4:6],env[2:3],p,'11'))\n",
    "#     simulator = cirq.Simulator()\n",
    "#     results = simulator.run(circ,repetitions=repcnt)\n",
    "#     #############\n",
    "    \n",
    "#     # job = service.create_job(circuit=circuit, target='qpu', repetitions=repcnt)\n",
    "#     # job_id = job.job_id()\n",
    "#     # print(job_id)\n",
    "#     # same_job = service.get_job(job_id=job_id)\n",
    "#     # if same_job == 'completed':\n",
    "#     #     results = same_job.results()\n",
    "#     #     # print(results)\n",
    "#     # results.to_cirq_result()\n",
    "    \n",
    "#     #############\n",
    "#     # qbraid_aws_job = qbraid_aws_device.run(circ, shots=repcnt)\n",
    "#     # aws_result = qbraid_aws_job.result()\n",
    "#     # results = aws_result.to_cirq_result()\n",
    "#     data4 = results.data\n",
    "#     data4.to_csv('data4.csv')\n",
    "#     #############\n",
    "#     # hist1 = results.histogram(key='xx01')\n",
    "#     # hist2 = results.histogram(key='xx10')\n",
    "#     # hist3 = results.histogram(key='xx11')\n",
    "#     # return hist1,hist2,hist3"
   ]
  },
  {
   "cell_type": "code",
   "execution_count": 12,
   "id": "15a4428e-13a9-4312-a625-79132bf75ee9",
   "metadata": {},
   "outputs": [],
   "source": [
    "# def get_results(p):\n",
    "#     hists1 = batch_1(p)\n",
    "#     hists2 = batch_2(p)\n",
    "#     # hists3 = batch_3(p)\n",
    "#     # hists4 = batch_4(p)\n",
    "#     final_hist_zzxx = (hists1[0]+hists1[1]+hists2[0]+hists2[1])\n",
    "#     for x in final_hist_zzxx:\n",
    "#         final_hist_zzxx[x]/=(4*repcnt)\n",
    "#     final_hist_zz = (hists1[2]+hists2[2]+hists3[0]+hists3[1])\n",
    "#     for x in final_hist_zz:\n",
    "#         final_hist_zz[x]/=(4*repcnt)\n",
    "#     final_hist_xx = (hists3[2]+hists4[0]+hists4[1]+hists4[2])\n",
    "#     for x in final_hist_xx:\n",
    "#         final_hist_xx[x]/=(4*repcnt)\n",
    "#     return final_hist_zzxx,final_hist_zz,final_hist_xx"
   ]
  },
  {
   "cell_type": "code",
   "execution_count": 16,
   "id": "3d954c1d-2d8d-4e9f-9757-e475f14f11d4",
   "metadata": {},
   "outputs": [],
   "source": [
    "# hists_p = [get_results(p) for p in probs] #[zzxx,zz,xx]"
   ]
  },
  {
   "cell_type": "code",
   "execution_count": null,
   "id": "f5540993-3473-4ca4-a48f-69c4c51a1579",
   "metadata": {},
   "outputs": [
    {
     "data": {
      "image/png": "[encoded data removed]",
      "text/plain": [
       "<Figure size 640x480 with 1 Axes>"
      ]
     },
     "metadata": {},
     "output_type": "display_data"
    },
    {
     "data": {
      "image/png": "[encoded data removed]",
      "text/plain": [
       "<Figure size 640x480 with 1 Axes>"
      ]
     },
     "metadata": {},
     "output_type": "display_data"
    },
    {
     "data": {
      "image/png": "[encoded data removed]",
      "text/plain": [
       "<Figure size 640x480 with 1 Axes>"
      ]
     },
     "metadata": {},
     "output_type": "display_data"
    }
   ],
   "source": [
    "# plt_titles = ['zzxx','zz','xx']\n",
    "# for j in range(3): #loop over pump\n",
    "#     pops = [[],[],[],[]]\n",
    "#     for i in range(4): #loop over bell state\n",
    "#         for counts in hists_p:\n",
    "#             pops[i].append(counts[j][i])\n",
    "#     plt.title(plt_titles[j])\n",
    "#     plt.scatter(probs,pops[0],label='|phi+>')\n",
    "#     plt.scatter(probs,pops[1],label='|phi->')\n",
    "#     plt.scatter(probs,pops[2],label='|psi+>')\n",
    "#     plt.scatter(probs,pops[3],label='|psi->')\n",
    "#     plt.legend()\n",
    "#     plt.show()"
   ]
  }
 ],
 "metadata": {
  "kernelspec": {
   "display_name": "Python 3 [qBraid-SDK]",
   "language": "python",
   "name": "python3_qbraid_sdk_9j9sjy"
  },
  "language_info": {
   "codemirror_mode": {
    "name": "ipython",
    "version": 3
   },
   "file_extension": ".py",
   "mimetype": "text/x-python",
   "name": "python",
   "nbconvert_exporter": "python",
   "pygments_lexer": "ipython3",
   "version": "3.9.10"
  }
 },
 "nbformat": 4,
 "nbformat_minor": 5
}
