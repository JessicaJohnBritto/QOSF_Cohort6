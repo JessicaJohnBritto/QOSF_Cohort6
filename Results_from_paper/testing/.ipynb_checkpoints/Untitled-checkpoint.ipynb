{
 "cells": [
  {
   "cell_type": "code",
   "execution_count": 1,
   "id": "e607656a-677c-433b-b281-94a7de819850",
   "metadata": {},
   "outputs": [
    {
     "name": "stdout",
     "output_type": "stream",
     "text": [
      "\u001b[0;35mYou have already enabled qBraid Quantum Jobs in the qbraid_sdk environment.\u001b[0m\n"
     ]
    }
   ],
   "source": [
    "!qbraid jobs enable qbraid_sdk"
   ]
  },
  {
   "cell_type": "code",
   "execution_count": 2,
   "id": "2b4e5b44-888d-4b64-9927-e21f36cf0238",
   "metadata": {},
   "outputs": [],
   "source": [
    "from qbraid import get_devices"
   ]
  },
  {
   "cell_type": "code",
   "execution_count": 3,
   "id": "79bd6012-d477-4650-a3c0-663cd96c2431",
   "metadata": {},
   "outputs": [
    {
     "data": {
      "text/html": [
       "<h3>Supported Devices</h3><table><tr>\n",
       "    <th style='text-align:left'>Provider</th>\n",
       "    <th style='text-align:left'>Name</th>\n",
       "    <th style='text-align:left'>qBraid ID</th>\n",
       "    <th style='text-align:left'>Status</th></tr>\n",
       "    <tr>\n",
       "        <td style='text-align:left'>AWS</td>\n",
       "        <td style='text-align:left'>DM1</td>\n",
       "        <td style='text-align:left'><code>aws_dm_sim</code></td>\n",
       "        <td><span style='color:green'>●</span></td></tr>\n",
       "        <tr>\n",
       "        <td style='text-align:left'>AWS</td>\n",
       "        <td style='text-align:left'>SV1</td>\n",
       "        <td style='text-align:left'><code>aws_sv_sim</code></td>\n",
       "        <td><span style='color:green'>●</span></td></tr>\n",
       "        <tr>\n",
       "        <td style='text-align:left'>AWS</td>\n",
       "        <td style='text-align:left'>TN1</td>\n",
       "        <td style='text-align:left'><code>aws_tn_sim</code></td>\n",
       "        <td><span style='color:green'>●</span></td></tr>\n",
       "        <tr>\n",
       "        <td style='text-align:left'>IBM</td>\n",
       "        <td style='text-align:left'>Belem</td>\n",
       "        <td style='text-align:left'><code>ibm_q_belem</code></td>\n",
       "        <td><span style='color:green'>●</span></td></tr>\n",
       "        <tr>\n",
       "        <td style='text-align:left'>IBM</td>\n",
       "        <td style='text-align:left'>Ext. stabilizer simulator</td>\n",
       "        <td style='text-align:left'><code>ibm_q_simulator_extended_stabilizer</code></td>\n",
       "        <td><span style='color:green'>●</span></td></tr>\n",
       "        <tr>\n",
       "        <td style='text-align:left'>IBM</td>\n",
       "        <td style='text-align:left'>Jakarta</td>\n",
       "        <td style='text-align:left'><code>ibm_q_jakarta</code></td>\n",
       "        <td><span style='color:green'>●</span></td></tr>\n",
       "        <tr>\n",
       "        <td style='text-align:left'>IBM</td>\n",
       "        <td style='text-align:left'>Lagos</td>\n",
       "        <td style='text-align:left'><code>ibm_q_lagos</code></td>\n",
       "        <td><span style='color:green'>●</span></td></tr>\n",
       "        <tr>\n",
       "        <td style='text-align:left'>IBM</td>\n",
       "        <td style='text-align:left'>Lima</td>\n",
       "        <td style='text-align:left'><code>ibm_q_lima</code></td>\n",
       "        <td><span style='color:green'>●</span></td></tr>\n",
       "        <tr>\n",
       "        <td style='text-align:left'>IBM</td>\n",
       "        <td style='text-align:left'>MPS simulator</td>\n",
       "        <td style='text-align:left'><code>ibm_q_simulator_mps</code></td>\n",
       "        <td><span style='color:green'>●</span></td></tr>\n",
       "        <tr>\n",
       "        <td style='text-align:left'>IBM</td>\n",
       "        <td style='text-align:left'>Manila</td>\n",
       "        <td style='text-align:left'><code>ibm_q_manila</code></td>\n",
       "        <td><span style='color:green'>●</span></td></tr>\n",
       "        <tr>\n",
       "        <td style='text-align:left'>IBM</td>\n",
       "        <td style='text-align:left'>Nairobi</td>\n",
       "        <td style='text-align:left'><code>ibm_q_nairobi</code></td>\n",
       "        <td><span style='color:green'>●</span></td></tr>\n",
       "        <tr>\n",
       "        <td style='text-align:left'>IBM</td>\n",
       "        <td style='text-align:left'>Oslo</td>\n",
       "        <td style='text-align:left'><code>ibm_q_oslo</code></td>\n",
       "        <td><span style='color:green'>●</span></td></tr>\n",
       "        <tr>\n",
       "        <td style='text-align:left'>IBM</td>\n",
       "        <td style='text-align:left'>Perth</td>\n",
       "        <td style='text-align:left'><code>ibm_q_perth</code></td>\n",
       "        <td><span style='color:green'>●</span></td></tr>\n",
       "        <tr>\n",
       "        <td style='text-align:left'>IBM</td>\n",
       "        <td style='text-align:left'>QASM simulator</td>\n",
       "        <td style='text-align:left'><code>ibm_q_qasm_simulator</code></td>\n",
       "        <td><span style='color:green'>●</span></td></tr>\n",
       "        <tr>\n",
       "        <td style='text-align:left'>IBM</td>\n",
       "        <td style='text-align:left'>Quito</td>\n",
       "        <td style='text-align:left'><code>ibm_q_quito</code></td>\n",
       "        <td><span style='color:green'>●</span></td></tr>\n",
       "        <tr>\n",
       "        <td style='text-align:left'>IBM</td>\n",
       "        <td style='text-align:left'>Stabilizer simulator</td>\n",
       "        <td style='text-align:left'><code>ibm_q_simulator_stabilizer</code></td>\n",
       "        <td><span style='color:green'>●</span></td></tr>\n",
       "        <tr>\n",
       "        <td style='text-align:left'>IBM</td>\n",
       "        <td style='text-align:left'>State vector simulator</td>\n",
       "        <td style='text-align:left'><code>ibm_q_simulator_statevector</code></td>\n",
       "        <td><span style='color:green'>●</span></td></tr>\n",
       "        <tr>\n",
       "        <td style='text-align:left'>IonQ</td>\n",
       "        <td style='text-align:left'>IonQ Device</td>\n",
       "        <td style='text-align:left'><code>aws_ionq</code></td>\n",
       "        <td><span style='color:red'>○</span></td></tr>\n",
       "        <tr>\n",
       "        <td style='text-align:left'>OQC</td>\n",
       "        <td style='text-align:left'>Lucy</td>\n",
       "        <td style='text-align:left'><code>aws_oqc_lucy</code></td>\n",
       "        <td><span style='color:red'>○</span></td></tr>\n",
       "        <tr>\n",
       "        <td style='text-align:left'>QuEra</td>\n",
       "        <td style='text-align:left'>Aquila</td>\n",
       "        <td style='text-align:left'><code>aws_quera_aquila</code></td>\n",
       "        <td><span style='color:red'>○</span></td></tr>\n",
       "        <tr>\n",
       "        <td style='text-align:left'>Rigetti</td>\n",
       "        <td style='text-align:left'>Aspen-M-2</td>\n",
       "        <td style='text-align:left'><code>aws_rigetti_aspen_m2</code></td>\n",
       "        <td><span style='color:red'>○</span></td></tr>\n",
       "        <tr>\n",
       "        <td style='text-align:left'>Rigetti</td>\n",
       "        <td style='text-align:left'>Aspen-M-3</td>\n",
       "        <td style='text-align:left'><code>aws_rigetti_aspen_m3</code></td>\n",
       "        <td><span style='color:red'>○</span></td></tr>\n",
       "        <tr>\n",
       "        <td style='text-align:left'>Xanadu</td>\n",
       "        <td style='text-align:left'>Borealis</td>\n",
       "        <td style='text-align:left'><code>aws_xanadu_borealis</code></td>\n",
       "        <td><span style='color:red'>○</span></td></tr>\n",
       "        <tr><td colspan='4'; style='text-align:right'>Device status updated 0 minutes ago</td></tr></table>"
      ],
      "text/plain": [
       "<IPython.core.display.HTML object>"
      ]
     },
     "metadata": {},
     "output_type": "display_data"
    }
   ],
   "source": [
    "get_devices()"
   ]
  },
  {
   "cell_type": "code",
   "execution_count": 10,
   "id": "2b660e17-324b-4592-917d-9c08e489e27a",
   "metadata": {},
   "outputs": [
    {
     "name": "stdout",
     "output_type": "stream",
     "text": [
      "Collecting amazon-braket-sdk==1.37.0\n",
      "  Downloading amazon_braket_sdk-1.37.0-py3-none-any.whl (251 kB)\n",
      "\u001b[2K     \u001b[90m━━━━━━━━━━━━━━━━━━━━━━━━━━━━━━━━━━━━━━━\u001b[0m \u001b[32m251.2/251.2 kB\u001b[0m \u001b[31m5.3 MB/s\u001b[0m eta \u001b[36m0:00:00\u001b[0m00:01\u001b[0m\n",
      "\u001b[?25hRequirement already satisfied: amazon-braket-schemas>=1.14.0 in /home/jovyan/.qbraid/environments/qbraid_sdk_9j9sjy/pyenv/lib/python3.9/site-packages (from amazon-braket-sdk==1.37.0) (1.15.0)\n",
      "Requirement already satisfied: amazon-braket-default-simulator>=1.11.0 in /home/jovyan/.qbraid/environments/qbraid_sdk_9j9sjy/pyenv/lib/python3.9/site-packages (from amazon-braket-sdk==1.37.0) (1.12.3)\n",
      "Requirement already satisfied: oqpy~=0.1.1 in /home/jovyan/.qbraid/environments/qbraid_sdk_9j9sjy/pyenv/lib/python3.9/site-packages (from amazon-braket-sdk==1.37.0) (0.1.2)\n",
      "Requirement already satisfied: setuptools in /home/jovyan/.qbraid/environments/qbraid_sdk_9j9sjy/pyenv/lib/python3.9/site-packages (from amazon-braket-sdk==1.37.0) (67.7.0)\n",
      "Requirement already satisfied: backoff in /home/jovyan/.qbraid/environments/qbraid_sdk_9j9sjy/pyenv/lib/python3.9/site-packages (from amazon-braket-sdk==1.37.0) (2.2.1)\n",
      "Requirement already satisfied: boltons in /home/jovyan/.qbraid/environments/qbraid_sdk_9j9sjy/pyenv/lib/python3.9/site-packages (from amazon-braket-sdk==1.37.0) (23.0.0)\n",
      "Requirement already satisfied: boto3>=1.22.3 in /home/jovyan/.qbraid/environments/qbraid_sdk_9j9sjy/pyenv/lib/python3.9/site-packages (from amazon-braket-sdk==1.37.0) (1.26.116)\n",
      "Requirement already satisfied: nest-asyncio in /home/jovyan/.qbraid/environments/qbraid_sdk_9j9sjy/pyenv/lib/python3.9/site-packages (from amazon-braket-sdk==1.37.0) (1.5.6)\n",
      "Requirement already satisfied: networkx in /home/jovyan/.qbraid/environments/qbraid_sdk_9j9sjy/pyenv/lib/python3.9/site-packages (from amazon-braket-sdk==1.37.0) (2.8.8)\n",
      "Requirement already satisfied: numpy in /home/jovyan/.qbraid/environments/qbraid_sdk_9j9sjy/pyenv/lib/python3.9/site-packages (from amazon-braket-sdk==1.37.0) (1.23.5)\n",
      "Requirement already satisfied: openpulse in /home/jovyan/.qbraid/environments/qbraid_sdk_9j9sjy/pyenv/lib/python3.9/site-packages (from amazon-braket-sdk==1.37.0) (0.4.2)\n",
      "Requirement already satisfied: openqasm3 in /home/jovyan/.qbraid/environments/qbraid_sdk_9j9sjy/pyenv/lib/python3.9/site-packages (from amazon-braket-sdk==1.37.0) (0.4.0)\n",
      "Requirement already satisfied: sympy in /home/jovyan/.qbraid/environments/qbraid_sdk_9j9sjy/pyenv/lib/python3.9/site-packages (from amazon-braket-sdk==1.37.0) (1.11.1)\n",
      "Requirement already satisfied: opt-einsum in /home/jovyan/.qbraid/environments/qbraid_sdk_9j9sjy/pyenv/lib/python3.9/site-packages (from amazon-braket-default-simulator>=1.11.0->amazon-braket-sdk==1.37.0) (3.3.0)\n",
      "Requirement already satisfied: pydantic<2.0,>=1.9 in /home/jovyan/.qbraid/environments/qbraid_sdk_9j9sjy/pyenv/lib/python3.9/site-packages (from amazon-braket-default-simulator>=1.11.0->amazon-braket-sdk==1.37.0) (1.10.7)\n",
      "Requirement already satisfied: scipy in /home/jovyan/.qbraid/environments/qbraid_sdk_9j9sjy/pyenv/lib/python3.9/site-packages (from amazon-braket-default-simulator>=1.11.0->amazon-braket-sdk==1.37.0) (1.10.1)\n",
      "Requirement already satisfied: antlr4-python3-runtime==4.9.2 in /home/jovyan/.qbraid/environments/qbraid_sdk_9j9sjy/pyenv/lib/python3.9/site-packages (from amazon-braket-default-simulator>=1.11.0->amazon-braket-sdk==1.37.0) (4.9.2)\n",
      "Requirement already satisfied: botocore<1.30.0,>=1.29.116 in /home/jovyan/.qbraid/environments/qbraid_sdk_9j9sjy/pyenv/lib/python3.9/site-packages (from boto3>=1.22.3->amazon-braket-sdk==1.37.0) (1.29.116)\n",
      "Requirement already satisfied: jmespath<2.0.0,>=0.7.1 in /home/jovyan/.qbraid/environments/qbraid_sdk_9j9sjy/pyenv/lib/python3.9/site-packages (from boto3>=1.22.3->amazon-braket-sdk==1.37.0) (1.0.1)\n",
      "Requirement already satisfied: s3transfer<0.7.0,>=0.6.0 in /home/jovyan/.qbraid/environments/qbraid_sdk_9j9sjy/pyenv/lib/python3.9/site-packages (from boto3>=1.22.3->amazon-braket-sdk==1.37.0) (0.6.0)\n",
      "Requirement already satisfied: mypy-extensions>=0.2.0 in /home/jovyan/.qbraid/environments/qbraid_sdk_9j9sjy/pyenv/lib/python3.9/site-packages (from oqpy~=0.1.1->amazon-braket-sdk==1.37.0) (1.0.0)\n",
      "Requirement already satisfied: importlib-metadata in /home/jovyan/.qbraid/environments/qbraid_sdk_9j9sjy/pyenv/lib/python3.9/site-packages (from openpulse->amazon-braket-sdk==1.37.0) (6.5.0)\n",
      "Requirement already satisfied: mpmath>=0.19 in /home/jovyan/.qbraid/environments/qbraid_sdk_9j9sjy/pyenv/lib/python3.9/site-packages (from sympy->amazon-braket-sdk==1.37.0) (1.3.0)\n",
      "Requirement already satisfied: python-dateutil<3.0.0,>=2.1 in /home/jovyan/.qbraid/environments/qbraid_sdk_9j9sjy/pyenv/lib/python3.9/site-packages (from botocore<1.30.0,>=1.29.116->boto3>=1.22.3->amazon-braket-sdk==1.37.0) (2.8.2)\n",
      "Requirement already satisfied: urllib3<1.27,>=1.25.4 in /home/jovyan/.qbraid/environments/qbraid_sdk_9j9sjy/pyenv/lib/python3.9/site-packages (from botocore<1.30.0,>=1.29.116->boto3>=1.22.3->amazon-braket-sdk==1.37.0) (1.26.15)\n",
      "Requirement already satisfied: typing-extensions>=4.2.0 in /home/jovyan/.qbraid/environments/qbraid_sdk_9j9sjy/pyenv/lib/python3.9/site-packages (from pydantic<2.0,>=1.9->amazon-braket-default-simulator>=1.11.0->amazon-braket-sdk==1.37.0) (4.5.0)\n",
      "Requirement already satisfied: zipp>=0.5 in /home/jovyan/.qbraid/environments/qbraid_sdk_9j9sjy/pyenv/lib/python3.9/site-packages (from importlib-metadata->openpulse->amazon-braket-sdk==1.37.0) (3.15.0)\n",
      "Requirement already satisfied: six>=1.5 in /home/jovyan/.qbraid/environments/qbraid_sdk_9j9sjy/pyenv/lib/python3.9/site-packages (from python-dateutil<3.0.0,>=2.1->botocore<1.30.0,>=1.29.116->boto3>=1.22.3->amazon-braket-sdk==1.37.0) (1.16.0)\n",
      "Installing collected packages: amazon-braket-sdk\n",
      "  Attempting uninstall: amazon-braket-sdk\n",
      "    Found existing installation: amazon-braket-sdk 1.29.3\n",
      "    Uninstalling amazon-braket-sdk-1.29.3:\n",
      "      Successfully uninstalled amazon-braket-sdk-1.29.3\n",
      "Successfully installed amazon-braket-sdk-1.37.0\n",
      "\n",
      "\u001b[1m[\u001b[0m\u001b[34;49mnotice\u001b[0m\u001b[1;39;49m]\u001b[0m\u001b[39;49m A new release of pip is available: \u001b[0m\u001b[31;49m23.1\u001b[0m\u001b[39;49m -> \u001b[0m\u001b[32;49m23.1.2\u001b[0m\n",
      "\u001b[1m[\u001b[0m\u001b[34;49mnotice\u001b[0m\u001b[1;39;49m]\u001b[0m\u001b[39;49m To update, run: \u001b[0m\u001b[32;49mpython -m pip install --upgrade pip\u001b[0m\n",
      "Note: you may need to restart the kernel to use updated packages.\n"
     ]
    }
   ],
   "source": [
    "%pip install amazon-braket-sdk==1.37.0"
   ]
  },
  {
   "cell_type": "code",
   "execution_count": 4,
   "id": "f09bc35b-039f-4c78-999d-d4cdf180f3df",
   "metadata": {},
   "outputs": [],
   "source": [
    "from qbraid import device_wrapper, job_wrapper, get_jobs\n",
    "# from qbraid.api import verify_config"
   ]
  },
  {
   "cell_type": "code",
   "execution_count": 5,
   "id": "22ad2602-036d-4b49-9466-7d0730d11383",
   "metadata": {},
   "outputs": [
    {
     "data": {
      "text/plain": [
       "{'numberQubits': 11,\n",
       " 'objRef': None,\n",
       " 'pendingJobs': 'N/A',\n",
       " 'availabilityCD': '03:12:57',\n",
       " 'visibility': 'public',\n",
       " 'qbraid_id': 'aws_ionq',\n",
       " 'name': 'IonQ Device',\n",
       " 'provider': 'IonQ',\n",
       " 'paradigm': 'gate-based',\n",
       " 'type': 'QPU',\n",
       " 'dateDeployed': '2019',\n",
       " 'location': 'College Park, MD, USA',\n",
       " 'vendor': 'AWS',\n",
       " 'runPackage': 'braket',\n",
       " 'status': 'OFFLINE',\n",
       " 'createdAt': '2022-03-10T04:08:21.014Z',\n",
       " 'updatedAt': '2023-05-01T09:47:03.845Z',\n",
       " '__v': 0,\n",
       " 'architecture': 'trapped ion'}"
      ]
     },
     "execution_count": 5,
     "metadata": {},
     "output_type": "execute_result"
    }
   ],
   "source": [
    "qbraid_device = device_wrapper(\"aws_ionq\")\n",
    "qbraid_device.info"
   ]
  },
  {
   "cell_type": "code",
   "execution_count": 7,
   "id": "7e64d1d1-5186-4739-a319-7aeb847a11ce",
   "metadata": {},
   "outputs": [
    {
     "ename": "NameError",
     "evalue": "name 'verify_config' is not defined",
     "output_type": "error",
     "traceback": [
      "\u001b[0;31m---------------------------------------------------------------------------\u001b[0m",
      "\u001b[0;31mNameError\u001b[0m                                 Traceback (most recent call last)",
      "Cell \u001b[0;32mIn[7], line 1\u001b[0m\n\u001b[0;32m----> 1\u001b[0m \u001b[43mverify_config\u001b[49m(\u001b[38;5;124m\"\u001b[39m\u001b[38;5;124mAWS\u001b[39m\u001b[38;5;124m\"\u001b[39m)\n",
      "\u001b[0;31mNameError\u001b[0m: name 'verify_config' is not defined"
     ]
    }
   ],
   "source": [
    "verify_config(\"AWS\")"
   ]
  },
  {
   "cell_type": "code",
   "execution_count": 3,
   "id": "bc22a375-cc0d-467d-906d-c9225f944ab2",
   "metadata": {},
   "outputs": [
    {
     "data": {
      "text/plain": [
       "Device('name': IonQ Device, 'arn': arn:aws:braket:::device/qpu/ionq/ionQdevice)"
      ]
     },
     "execution_count": 3,
     "metadata": {},
     "output_type": "execute_result"
    }
   ],
   "source": [
    "ionq_id = \"aws_ionq\"\n",
    "qbraid_aws_device = device_wrapper(ionq_id)\n",
    "qbraid_aws_device.vendor_dlo"
   ]
  },
  {
   "cell_type": "code",
   "execution_count": 7,
   "id": "0f34a8c2-ab8e-4e3f-96f6-693c4914a951",
   "metadata": {},
   "outputs": [
    {
     "data": {
      "text/html": [
       "<pre style=\"word-wrap: normal;white-space: pre;background: #fff0;line-height: 1.1;font-family: &quot;Courier New&quot;,Courier,monospace\">     ┌───┐┌─────────┐┌─────────┐┌─┐\n",
       "  q: ┤ H ├┤ Ry(π/4) ├┤ Rz(π/2) ├┤M├\n",
       "     └───┘└─────────┘└─────────┘└╥┘\n",
       "c: 1/════════════════════════════╩═\n",
       "                                 0 </pre>"
      ],
      "text/plain": [
       "     ┌───┐┌─────────┐┌─────────┐┌─┐\n",
       "  q: ┤ H ├┤ Ry(π/4) ├┤ Rz(π/2) ├┤M├\n",
       "     └───┘└─────────┘└─────────┘└╥┘\n",
       "c: 1/════════════════════════════╩═\n",
       "                                 0 "
      ]
     },
     "execution_count": 7,
     "metadata": {},
     "output_type": "execute_result"
    }
   ],
   "source": [
    "from qiskit import QuantumCircuit\n",
    "import numpy as np\n",
    "\n",
    "qiskit_circuit = QuantumCircuit(1, 1)\n",
    "\n",
    "qiskit_circuit.h(0)\n",
    "qiskit_circuit.ry(np.pi / 4, 0)\n",
    "qiskit_circuit.rz(np.pi / 2, 0)\n",
    "qiskit_circuit.measure(0, 0)\n",
    "\n",
    "qiskit_circuit.draw()"
   ]
  },
  {
   "cell_type": "code",
   "execution_count": 9,
   "id": "b3653f09-c8a7-490c-9bfe-7be0b4e9f8fc",
   "metadata": {},
   "outputs": [],
   "source": [
    "# shots = 1\n",
    "\n",
    "# qbraid_aws_job = qbraid_aws_device.run(qiskit_circuit, shots=shots)"
   ]
  },
  {
   "cell_type": "code",
   "execution_count": 8,
   "id": "20b4ccbf-3959-4094-ba5c-cebfd87696a9",
   "metadata": {},
   "outputs": [
    {
     "name": "stdout",
     "output_type": "stream",
     "text": [
      "10.540000000000001\n"
     ]
    }
   ],
   "source": [
    "from inspect import getsource\n",
    "print(qbraid_aws_device.estimate_cost(qiskit_circuit))"
   ]
  },
  {
   "cell_type": "code",
   "execution_count": 13,
   "id": "43f36b39-a110-42c1-9ab6-fc07ba761610",
   "metadata": {},
   "outputs": [
    {
     "data": {
      "text/plain": [
       "<JobStatus.COMPLETED: 6>"
      ]
     },
     "execution_count": 13,
     "metadata": {},
     "output_type": "execute_result"
    }
   ],
   "source": [
    "qbraid_aws_job.status()"
   ]
  },
  {
   "cell_type": "code",
   "execution_count": 11,
   "id": "a8bfc8ba-694f-4a0a-ac4d-3f277e4b0c61",
   "metadata": {},
   "outputs": [
    {
     "data": {
      "text/html": [
       "<h3>Quantum Jobs</h3><table><tr>\n",
       "    <th style='text-align:left'>qBraid ID</th>\n",
       "    <th style='text-align:left'>Submitted</th>\n",
       "    <th style='text-align:left'>Status</th></tr>\n",
       "    <tr>\n",
       "        <td style='text-align:left'>aws_ionq-contactmainakroy-qjob-sflmrpqrpculnu19l7e1</td>\n",
       "        <td style='text-align:left'>2023-01-23T16:29:41.765Z</td>\n",
       "        <td style='text-align:left'><span style='color:blue'>QUEUED</span></td></tr>\n",
       "        <tr>\n",
       "        <td style='text-align:left'>aws_ionq-contactmainakroy-qjob-wmax6yzhu7kd7ii07c2c</td>\n",
       "        <td style='text-align:left'>2023-01-23T16:29:38.445Z</td>\n",
       "        <td style='text-align:left'><span style='color:blue'>QUEUED</span></td></tr>\n",
       "        <tr>\n",
       "        <td style='text-align:left'>aws_ionq-contactmainakroy-qjob-p6jb14jiejwhx9zz3lt7</td>\n",
       "        <td style='text-align:left'>2023-01-22T16:48:09.688Z</td>\n",
       "        <td style='text-align:left'><span style='color:grey'>CANCELLED</span></td></tr>\n",
       "        <tr>\n",
       "        <td style='text-align:left'>aws_ionq-contactmainakroy-qjob-v9lflc1wu4lpdh6n7fsb</td>\n",
       "        <td style='text-align:left'>2023-01-22T16:48:06.882Z</td>\n",
       "        <td style='text-align:left'><span style='color:grey'>CANCELLED</span></td></tr>\n",
       "        <tr><td colspan='4'; style='text-align:right'>Displaying 4/4 jobs matching query</td></tr></table>"
      ],
      "text/plain": [
       "<IPython.core.display.HTML object>"
      ]
     },
     "metadata": {},
     "output_type": "display_data"
    }
   ],
   "source": [
    "get_jobs()\n"
   ]
  },
  {
   "cell_type": "code",
   "execution_count": 14,
   "id": "56393100-f78b-4238-8237-d42a8ebf75e3",
   "metadata": {},
   "outputs": [],
   "source": [
    "aws_result = qbraid_aws_job.result()"
   ]
  },
  {
   "cell_type": "code",
   "execution_count": 16,
   "id": "94611c8f-7d0a-43df-8285-7337ae1aa880",
   "metadata": {},
   "outputs": [
    {
     "data": {
      "text/plain": [
       "['__abstractmethods__',\n",
       " '__class__',\n",
       " '__delattr__',\n",
       " '__dict__',\n",
       " '__dir__',\n",
       " '__doc__',\n",
       " '__eq__',\n",
       " '__format__',\n",
       " '__ge__',\n",
       " '__getattribute__',\n",
       " '__gt__',\n",
       " '__hash__',\n",
       " '__init__',\n",
       " '__init_subclass__',\n",
       " '__le__',\n",
       " '__lt__',\n",
       " '__module__',\n",
       " '__ne__',\n",
       " '__new__',\n",
       " '__reduce__',\n",
       " '__reduce_ex__',\n",
       " '__repr__',\n",
       " '__setattr__',\n",
       " '__sizeof__',\n",
       " '__slots__',\n",
       " '__str__',\n",
       " '__subclasshook__',\n",
       " '__weakref__',\n",
       " '_abc_impl',\n",
       " 'data',\n",
       " 'measurement_counts',\n",
       " 'measurements',\n",
       " 'plot_counts']"
      ]
     },
     "execution_count": 16,
     "metadata": {},
     "output_type": "execute_result"
    }
   ],
   "source": [
    "dir(type(aws_result))"
   ]
  },
  {
   "cell_type": "code",
   "execution_count": 18,
   "id": "5be87977-cce4-4e3f-bcbc-8d63a4e96d9e",
   "metadata": {},
   "outputs": [
    {
     "data": {
      "text/plain": [
       "{'1': 1}"
      ]
     },
     "execution_count": 18,
     "metadata": {},
     "output_type": "execute_result"
    }
   ],
   "source": [
    "aws_result.measurement_counts()"
   ]
  },
  {
   "cell_type": "code",
   "execution_count": 15,
   "id": "54a77e50-17db-4e8c-87ec-7ebf2d9f38f0",
   "metadata": {},
   "outputs": [
    {
     "data": {
      "image/png": "[encoded data removed]",
      "text/plain": [
       "<Figure size 700x500 with 1 Axes>"
      ]
     },
     "execution_count": 15,
     "metadata": {},
     "output_type": "execute_result"
    }
   ],
   "source": [
    "aws_result.plot_counts()"
   ]
  }
 ],
 "metadata": {
  "kernelspec": {
   "display_name": "Python 3 [qBraid-SDK]",
   "language": "python",
   "name": "python3_qbraid_sdk_9j9sjy"
  },
  "language_info": {
   "codemirror_mode": {
    "name": "ipython",
    "version": 3
   },
   "file_extension": ".py",
   "mimetype": "text/x-python",
   "name": "python",
   "nbconvert_exporter": "python",
   "pygments_lexer": "ipython3",
   "version": "3.9.10"
  }
 },
 "nbformat": 4,
 "nbformat_minor": 5
}
