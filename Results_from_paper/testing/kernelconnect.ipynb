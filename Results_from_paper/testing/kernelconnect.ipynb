{
 "cells": [
  {
   "cell_type": "code",
   "execution_count": 1,
   "id": "305dec9c-1442-4894-9862-95baca222346",
   "metadata": {},
   "outputs": [],
   "source": [
    "apikey = \"aSgKZjVlUqbKNcrGFIIDBPQuJnlaZcoA\""
   ]
  },
  {
   "cell_type": "code",
   "execution_count": null,
   "id": "8076432b-ed1f-488a-800d-78d06b69b83d",
   "metadata": {},
   "outputs": [],
   "source": []
  }
 ],
 "metadata": {
  "kernelspec": {
   "display_name": "Python 3 [Default]",
   "language": "python",
   "name": "python3"
  },
  "language_info": {
   "codemirror_mode": {
    "name": "ipython",
    "version": 3
   },
   "file_extension": ".py",
   "mimetype": "text/x-python",
   "name": "python",
   "nbconvert_exporter": "python",
   "pygments_lexer": "ipython3",
   "version": "3.9.10"
  }
 },
 "nbformat": 4,
 "nbformat_minor": 5
}
