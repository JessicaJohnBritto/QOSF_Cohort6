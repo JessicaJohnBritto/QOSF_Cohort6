{
 "cells": [
  {
   "cell_type": "markdown",
   "id": "332edc72-d448-464e-bfed-5dac69a95f3d",
   "metadata": {
    "jp-MarkdownHeadingCollapsed": true,
    "tags": []
   },
   "source": [
    "# Initial Set-up"
   ]
  },
  {
   "cell_type": "code",
   "execution_count": 1,
   "id": "55a4da1c-b9d2-4501-85ba-36c3dc2b7870",
   "metadata": {
    "tags": []
   },
   "outputs": [
    {
     "name": "stdout",
     "output_type": "stream",
     "text": [
      "Note: you may need to restart the kernel to use updated packages.\n",
      "\u001b[0;35mDisable successful. You are now submitting quantum jobs with your own AWS credentials.\u001b[0m\n",
      "\n",
      "\u001b[0;35mTo re-enable, run:\u001b[0m `qbraid jobs enable qbraid_sdk`\n",
      "Note: you may need to restart the kernel to use updated packages.\n",
      "\u001b[31mERROR: pip's dependency resolver does not currently take into account all the packages that are installed. This behaviour is the source of the following dependency conflicts.\n",
      "bloqade 0.13.0 requires amazon-braket-sdk>=1.55.0, but you have amazon-braket-sdk 1.37.0 which is incompatible.\n",
      "pytket-braket 0.32.0 requires amazon-braket-sdk~=1.53, but you have amazon-braket-sdk 1.37.0 which is incompatible.\n",
      "amazon-braket-pennylane-plugin 1.23.0 requires amazon-braket-sdk>=1.47.0, but you have amazon-braket-sdk 1.37.0 which is incompatible.\u001b[0m\u001b[31m\n",
      "\u001b[0mNote: you may need to restart the kernel to use updated packages.\n",
      "Note: you may need to restart the kernel to use updated packages.\n",
      "Note: you may need to restart the kernel to use updated packages.\n"
     ]
    }
   ],
   "source": [
    "%pip install --quiet ipython-extensions\n",
    "!qbraid jobs disable qbraid_sdk\n",
    "%pip install --quiet --upgrade pip\n",
    "%pip install --quiet amazon-braket-sdk==1.37.0\n",
    "%pip install --quiet --upgrade amazon-braket-schemas\n",
    "%pip install --quiet qbraid"
   ]
  },
  {
   "cell_type": "code",
   "execution_count": 2,
   "id": "60f07f0a-3c84-4bbd-b206-e8ee60c85485",
   "metadata": {
    "tags": []
   },
   "outputs": [],
   "source": [
    "# from qbraid.providers.aws import BraketDevice, BraketProvider\n",
    "from braket.aws import AwsDevice\n",
    "from qiskit import QuantumCircuit\n",
    "from braket.aws import AwsQuantumJob\n",
    "import importlib\n",
    "import braket.aws\n",
    "from qbraid import device_wrapper, job_wrapper, get_jobs\n",
    "from qbraid.providers.aws import BraketDevice, BraketProvider\n",
    "from qiskit import QuantumCircuit\n",
    "\n",
    "# from qiskit_braket_provider import AWSBraketProvider, BraketLocalBackend"
   ]
  },
  {
   "cell_type": "code",
   "execution_count": 3,
   "id": "cb876dbd-c7f3-4d5a-8a83-eaca5caa540b",
   "metadata": {
    "tags": []
   },
   "outputs": [
    {
     "name": "stdout",
     "output_type": "stream",
     "text": [
      "\u001b[0;35mSuccessfully enabled qBraid Quantum Jobs in the \u001b[1;35mqbraid_sdk\u001b[0m\u001b[0;35m environment.\u001b[0m\n",
      "\u001b[0;35mEvery \u001b[1;35mAWS\u001b[0m\u001b[0;35m job you run will now be submitted through the qBraid API, so no access keys/tokens are necessary. \u001b[0m\n",
      "\n",
      "\u001b[0;35mTo disable, run:\u001b[0m `qbraid jobs disable qbraid_sdk`\n"
     ]
    }
   ],
   "source": [
    "!qbraid jobs enable qbraid_sdk"
   ]
  },
  {
   "cell_type": "code",
   "execution_count": 4,
   "id": "58b6225a-089e-479b-bbf9-a7cf4b691025",
   "metadata": {
    "tags": []
   },
   "outputs": [
    {
     "data": {
      "text/html": [
       "<h3>Supported Devices</h3><table><tr>\n",
       "    <th style='text-align:left'>Provider</th>\n",
       "    <th style='text-align:left'>Name</th>\n",
       "    <th style='text-align:left'>qBraid ID</th>\n",
       "    <th style='text-align:left'>Status</th></tr>\n",
       "    <tr>\n",
       "        <td style='text-align:left'>AWS</td>\n",
       "        <td style='text-align:left'>DM1</td>\n",
       "        <td style='text-align:left'><code>aws_dm_sim</code></td>\n",
       "        <td><span style='color:green'>●</span></td></tr>\n",
       "        <tr>\n",
       "        <td style='text-align:left'>AWS</td>\n",
       "        <td style='text-align:left'>SV1</td>\n",
       "        <td style='text-align:left'><code>aws_sv_sim</code></td>\n",
       "        <td><span style='color:green'>●</span></td></tr>\n",
       "        <tr>\n",
       "        <td style='text-align:left'>AWS</td>\n",
       "        <td style='text-align:left'>TN1</td>\n",
       "        <td style='text-align:left'><code>aws_tn_sim</code></td>\n",
       "        <td><span style='color:green'>●</span></td></tr>\n",
       "        <tr>\n",
       "        <td style='text-align:left'>IBM</td>\n",
       "        <td style='text-align:left'>Brisbane</td>\n",
       "        <td style='text-align:left'><code>ibm_q_brisbane</code></td>\n",
       "        <td><span style='color:green'>●</span></td></tr>\n",
       "        <tr>\n",
       "        <td style='text-align:left'>IBM</td>\n",
       "        <td style='text-align:left'>Ext. stabilizer simulator</td>\n",
       "        <td style='text-align:left'><code>ibm_q_simulator_extended_stabilizer</code></td>\n",
       "        <td><span style='color:green'>●</span></td></tr>\n",
       "        <tr>\n",
       "        <td style='text-align:left'>IBM</td>\n",
       "        <td style='text-align:left'>Kyoto</td>\n",
       "        <td style='text-align:left'><code>ibm_q_kyoto</code></td>\n",
       "        <td><span style='color:green'>●</span></td></tr>\n",
       "        <tr>\n",
       "        <td style='text-align:left'>IBM</td>\n",
       "        <td style='text-align:left'>MPS simulator</td>\n",
       "        <td style='text-align:left'><code>ibm_q_simulator_mps</code></td>\n",
       "        <td><span style='color:green'>●</span></td></tr>\n",
       "        <tr>\n",
       "        <td style='text-align:left'>IBM</td>\n",
       "        <td style='text-align:left'>Osaka</td>\n",
       "        <td style='text-align:left'><code>ibm_q_osaka</code></td>\n",
       "        <td><span style='color:green'>●</span></td></tr>\n",
       "        <tr>\n",
       "        <td style='text-align:left'>IBM</td>\n",
       "        <td style='text-align:left'>Oslo</td>\n",
       "        <td style='text-align:left'><code>ibm_q_oslo</code></td>\n",
       "        <td><span style='color:red'>○</span></td></tr>\n",
       "        <tr>\n",
       "        <td style='text-align:left'>IBM</td>\n",
       "        <td style='text-align:left'>QASM simulator</td>\n",
       "        <td style='text-align:left'><code>ibm_q_qasm_simulator</code></td>\n",
       "        <td><span style='color:green'>●</span></td></tr>\n",
       "        <tr>\n",
       "        <td style='text-align:left'>IBM</td>\n",
       "        <td style='text-align:left'>Stabilizer simulator</td>\n",
       "        <td style='text-align:left'><code>ibm_q_simulator_stabilizer</code></td>\n",
       "        <td><span style='color:green'>●</span></td></tr>\n",
       "        <tr>\n",
       "        <td style='text-align:left'>IBM</td>\n",
       "        <td style='text-align:left'>State vector simulator</td>\n",
       "        <td style='text-align:left'><code>ibm_q_simulator_statevector</code></td>\n",
       "        <td><span style='color:green'>●</span></td></tr>\n",
       "        <tr>\n",
       "        <td style='text-align:left'>IonQ</td>\n",
       "        <td style='text-align:left'>Aria-1</td>\n",
       "        <td style='text-align:left'><code>aws_ionq_aria1</code></td>\n",
       "        <td><span style='color:red'>○</span></td></tr>\n",
       "        <tr>\n",
       "        <td style='text-align:left'>IonQ</td>\n",
       "        <td style='text-align:left'>Aria-2</td>\n",
       "        <td style='text-align:left'><code>aws_ionq_aria2</code></td>\n",
       "        <td><span style='color:red'>○</span></td></tr>\n",
       "        <tr>\n",
       "        <td style='text-align:left'>IonQ</td>\n",
       "        <td style='text-align:left'>Forte-1</td>\n",
       "        <td style='text-align:left'><code>aws_ionq_forte1</code></td>\n",
       "        <td><span style='color:green'>●</span></td></tr>\n",
       "        <tr>\n",
       "        <td style='text-align:left'>IonQ</td>\n",
       "        <td style='text-align:left'>Harmony</td>\n",
       "        <td style='text-align:left'><code>aws_ionq_harmony</code></td>\n",
       "        <td><span style='color:red'>○</span></td></tr>\n",
       "        <tr>\n",
       "        <td style='text-align:left'>OQC</td>\n",
       "        <td style='text-align:left'>Lucy</td>\n",
       "        <td style='text-align:left'><code>aws_oqc_lucy</code></td>\n",
       "        <td><span style='color:green'>●</span></td></tr>\n",
       "        <tr>\n",
       "        <td style='text-align:left'>QuEra</td>\n",
       "        <td style='text-align:left'>Aquila</td>\n",
       "        <td style='text-align:left'><code>aws_quera_aquila</code></td>\n",
       "        <td><span style='color:green'>●</span></td></tr>\n",
       "        <tr>\n",
       "        <td style='text-align:left'>Rigetti</td>\n",
       "        <td style='text-align:left'>Aspen-M-3</td>\n",
       "        <td style='text-align:left'><code>aws_rigetti_aspen_m3</code></td>\n",
       "        <td><span style='color:red'>○</span></td></tr>\n",
       "        <tr><td colspan='4'; style='text-align:right'>Device status updated 0 minutes ago</td></tr></table>"
      ],
      "text/plain": [
       "<IPython.core.display.HTML object>"
      ]
     },
     "metadata": {},
     "output_type": "display_data"
    }
   ],
   "source": [
    "from qbraid import get_devices\n",
    "get_devices()"
   ]
  },
  {
   "cell_type": "code",
   "execution_count": 10,
   "id": "a8c56918-2bbb-4d78-b180-b417c36d3bb6",
   "metadata": {
    "tags": []
   },
   "outputs": [],
   "source": [
    "# ionq_id = \"aws_ionq_aria2\"\n",
    "# qbraid_aws_device = device_wrapper(ionq_id)\n",
    "# qbraid_aws_device.vendor_dlo\n",
    "# qbraid_aws_device.info\n",
    "\n",
    "# qbraid_id = 'aws_rigetti_aspen_m3'\n",
    "# qdevice = device_wrapper(qbraid_id)"
   ]
  },
  {
   "cell_type": "code",
   "execution_count": 11,
   "id": "709f9474-5270-4681-821d-2546cc99c0ce",
   "metadata": {
    "tags": []
   },
   "outputs": [],
   "source": [
    "# print(qbraid_aws_device.vendor_dlo)\n",
    "# %pip install --quiet qbraid.providers.aws"
   ]
  },
  {
   "cell_type": "markdown",
   "id": "294b29ee-c298-41f5-a9f7-da322c99fa6b",
   "metadata": {
    "jp-MarkdownHeadingCollapsed": true,
    "tags": []
   },
   "source": [
    "# Bell Measurement Circuit Test"
   ]
  },
  {
   "cell_type": "code",
   "execution_count": 10,
   "id": "e2bbcd81-073d-4a31-afef-cdddb656421e",
   "metadata": {
    "tags": []
   },
   "outputs": [],
   "source": [
    "## Bell measurement circuit for initial testing - run on OQC\n",
    "# circuit = QuantumCircuit(2)\n",
    "# circuit.h(0)\n",
    "# circuit.cx(0, 1)\n",
    "\n",
    "# # qjob = qdevice.run(circuit)\n",
    "# # type(qjob)\n",
    "\n",
    "# provider = BraketProvider()\n",
    "\n",
    "# arn = \"arn:aws:braket:eu-west-2::device/qpu/oqc/Lucy\"\n",
    "# # arn = \"arn:aws:braket:::device/quantum-simulator/amazon/sv1\"\n",
    "\n",
    "# aws_device = provider.get_device(\"arn:aws:braket:eu-west-2::device/qpu/oqc/Lucy\")\n",
    "\n",
    "# qbraid_device = BraketDevice(aws_device)\n",
    "\n",
    "# job = qbraid_device.run(circuit, shots=1)\n",
    "\n",
    "# job.status()"
   ]
  },
  {
   "cell_type": "code",
   "execution_count": 9,
   "id": "6d061866-8c49-4d2b-a138-24068ff891ff",
   "metadata": {
    "tags": []
   },
   "outputs": [],
   "source": [
    "from qbraid import get_jobs\n",
    "get_jobs(filters={\"qbraidDeviceId\": \"aws_oqc_lucy\"})"
   ]
  },
  {
   "cell_type": "code",
   "execution_count": 8,
   "id": "57d4e45e-86ac-4aa1-be13-41b8a2adf4b9",
   "metadata": {
    "tags": []
   },
   "outputs": [
    {
     "data": {
      "text/plain": [
       "{'10': 1}"
      ]
     },
     "execution_count": 8,
     "metadata": {},
     "output_type": "execute_result"
    }
   ],
   "source": [
    "from qbraid import job_wrapper\n",
    "saved_job_id = 'aws_oqc_lucy-jessjohnbritto-qjob-e7pr983rz1ky8o3lq8rk'\n",
    "qjob = job_wrapper(saved_job_id)\n",
    "qresult = qjob.result()\n",
    "qresult.measurement_counts()"
   ]
  },
  {
   "cell_type": "markdown",
   "id": "653566a5-9201-462c-8eba-5d53e890a956",
   "metadata": {},
   "source": [
    "# MRE Circuit Implementation"
   ]
  },
  {
   "cell_type": "code",
   "execution_count": 3,
   "id": "17b664b6-0223-4849-a476-42e1b21f0f8d",
   "metadata": {},
   "outputs": [],
   "source": [
    "import cirq\n",
    "import numpy as np\n",
    "import matplotlib.pyplot as plt\n",
    "\n",
    "def prep(sys,state):\n",
    "    for i in range(len(state)):\n",
    "        if state[i]=='1':\n",
    "            yield cirq.X(sys[i])\n",
    "\n",
    "def zz_pump(sys,env,p,state):\n",
    "    yield from prep(sys,state)\n",
    "    yield cirq.CNOT(sys[1],sys[0])\n",
    "    yield cirq.X(env[0])\n",
    "    yield cirq.CNOT(sys[0],env[0])\n",
    "    yield cirq.Rx(rads=np.arccos(1-2*p)).on(sys[0]).controlled_by(env[0])\n",
    "    yield cirq.CNOT(sys[0],env[0])\n",
    "    yield cirq.H(sys[1])\n",
    "\n",
    "def xx_pump(sys,env,p,state):\n",
    "    yield from prep(sys,state)\n",
    "    yield cirq.CNOT(sys[1],sys[0])\n",
    "    yield cirq.H(sys[1])\n",
    "    yield cirq.X(env[0])\n",
    "    yield cirq.CNOT(sys[1],env[0])\n",
    "    yield cirq.rx(rads=np.arccos(1-2*p)).on(sys[1]).controlled_by(env[0])\n",
    "    yield cirq.CNOT(sys[1],env[0])\n",
    "\n",
    "def zz_xx_pump(sys,env,p,state):\n",
    "    yield from prep(sys,state)\n",
    "    yield cirq.CNOT(sys[1],sys[0])\n",
    "    yield cirq.X(env[0])\n",
    "    yield cirq.CNOT(sys[0],env[0])\n",
    "    yield cirq.rx(rads=np.arccos(1-2*p)).on(sys[0]).controlled_by(env[0])\n",
    "    yield cirq.CNOT(sys[0],env[0])\n",
    "    yield cirq.H(sys[1])\n",
    "    yield cirq.X(env[1])\n",
    "    yield cirq.CNOT(sys[1],env[1])\n",
    "    yield cirq.rx(rads=np.arccos(1-2*p)).on(sys[1]).controlled_by(env[1])\n",
    "    yield cirq.CNOT(sys[1],env[1])\n"
   ]
  },
  {
   "cell_type": "code",
   "execution_count": null,
   "id": "a56d8591-df3e-469e-8ae4-31230df35353",
   "metadata": {},
   "outputs": [],
   "source": [
    "probs = np.linspace(0,1,num=5)\n",
    "repcnt = 960"
   ]
  },
  {
   "cell_type": "code",
   "execution_count": 1,
   "id": "35536c1c-a7ef-48a2-aae1-d6a26085d6db",
   "metadata": {},
   "outputs": [],
   "source": [
    "def batch_3(p):\n",
    "    env = [cirq.LineQubit(0),cirq.LineQubit(3),cirq.LineQubit(6)]\n",
    "    sys = [cirq.LineQubit(1),cirq.LineQubit(2),cirq.LineQubit(4),cirq.LineQubit(5),cirq.LineQubit(7),cirq.LineQubit(8)]\n",
    "    circ = cirq.Circuit()\n",
    "    circ.append(zz_pump(sys[0:2],env[0:1],p,'10'))\n",
    "    circ.append(zz_pump(sys[2:4],env[1:2],p,'11'))\n",
    "    circ.append(xx_pump(sys[4:6],env[2:3],p,'00'))\n",
    "    qbraid_aws_job = qbraid_aws_device.run(circ, shots=repcnt)\n",
    "    return qbraid_aws_job\n",
    "\n",
    "def batch_4(p):\n",
    "    env = [cirq.LineQubit(0),cirq.LineQubit(3),cirq.LineQubit(6)]\n",
    "    sys = [cirq.LineQubit(1),cirq.LineQubit(2),cirq.LineQubit(4),cirq.LineQubit(5),cirq.LineQubit(7),cirq.LineQubit(8)]\n",
    "    circ = cirq.Circuit()\n",
    "    circ.append(xx_pump(sys[0:2],env[0:1],p,'01'))\n",
    "    circ.append(xx_pump(sys[2:4],env[1:2],p,'10'))\n",
    "    circ.append(xx_pump(sys[4:6],env[2:3],p,'11'))\n",
    "    qbraid_aws_job = qbraid_aws_device.run(circ, shots=repcnt)\n",
    "    return qbraid_aws_job\n",
    "    "
   ]
  },
  {
   "cell_type": "code",
   "execution_count": 2,
   "id": "e762cf7e-12b6-4fc6-91af-1ccb01725cde",
   "metadata": {},
   "outputs": [],
   "source": [
    "# qjob_3_p0= batch_3(probs[0])"
   ]
  },
  {
   "cell_type": "code",
   "execution_count": 3,
   "id": "f038ea56-15db-480c-9d7c-da40211095fe",
   "metadata": {},
   "outputs": [],
   "source": [
    "# qjob_4_p0 = batch_4(probs[0])"
   ]
  },
  {
   "cell_type": "code",
   "execution_count": 5,
   "id": "ae82877e-d325-4078-ae98-b026b7d492dc",
   "metadata": {},
   "outputs": [],
   "source": [
    "from qbraid import get_jobs\n",
    "get_jobs(filters={\"qbraidDeviceId\": \"aws_ionq\"})"
   ]
  },
  {
   "cell_type": "code",
   "execution_count": null,
   "id": "4d3bf692-3438-46f3-904b-e18c4cab9676",
   "metadata": {},
   "outputs": [],
   "source": [
    "from qbraid import job_wrapper\n",
    "saved_job_id = 'aws_sv_sim-jessjohnbritto-qjob-u8nzibwhq9o7g5ga2fic'\n",
    "qjob = job_wrapper(saved_job_id)\n",
    "qresult = qjob.result()\n",
    "qresult.measurement_counts()"
   ]
  },
  {
   "cell_type": "code",
   "execution_count": null,
   "id": "8d5a4ad6-76a3-408e-8ada-8a40f68c9dee",
   "metadata": {},
   "outputs": [],
   "source": [
    "resultsdict_3_p0 = {}\n",
    "resultsdict_4_p0 = {}"
   ]
  },
  {
   "cell_type": "code",
   "execution_count": 5,
   "id": "617bde52-89ae-4202-802c-c260ab51064e",
   "metadata": {},
   "outputs": [
    {
     "ename": "NameError",
     "evalue": "name 'Counter' is not defined",
     "output_type": "error",
     "traceback": [
      "\u001b[0;31m---------------------------------------------------------------------------\u001b[0m",
      "\u001b[0;31mNameError\u001b[0m                                 Traceback (most recent call last)",
      "Cell \u001b[0;32mIn[5], line 2\u001b[0m\n\u001b[1;32m      1\u001b[0m \u001b[38;5;66;03m## Batch-1 and 2 - ZZXX, ZZ00 and ZZ01\u001b[39;00m\n\u001b[0;32m----> 2\u001b[0m zz11p0,zz10p0,xx00p0,xx01p1,xx10p1,xx11p1 \u001b[38;5;241m=\u001b[39m \u001b[43mCounter\u001b[49m(),Counter(),Counter(),Counter(),Counter(),Counter()\n\u001b[1;32m      4\u001b[0m \u001b[38;5;28;01mdef\u001b[39;00m \u001b[38;5;21mresul_analy\u001b[39m(resultsdict_1_p0, resultsdict_2_p0):\n\u001b[1;32m      5\u001b[0m     \u001b[38;5;28;01mfor\u001b[39;00m key,cnt \u001b[38;5;129;01min\u001b[39;00m resultsdict_1_p0\u001b[38;5;241m.\u001b[39mitems():\n",
      "\u001b[0;31mNameError\u001b[0m: name 'Counter' is not defined"
     ]
    }
   ],
   "source": [
    "## Batch-3 and 4 - XX, ZZ10 and ZZ11\n",
    "zz11p0,zz10p0,xx00p0,xx01p0,xx10p0,xx11p0 = Counter(),Counter(),Counter(),Counter(),Counter(),Counter()\n",
    "\n",
    "def resul_analy(resultsdict_3_p0, resultsdict_4_p0):\n",
    "    for key,cnt in resultsdict_1_p0.items():\n",
    "        k1 = int(key[0:2],base=2)\n",
    "        k2 = int(key[2:4],base=2)\n",
    "        k3 = int(key[4:6],base=2)\n",
    "        zz10p0[k1]+=cnt\n",
    "        zz11p0[k2]+=cnt\n",
    "        xx00p0[k3]+=cnt\n",
    "\n",
    "    for key,cnt in resultsdict_2_p0.items():\n",
    "        k1 = int(key[0:2],base=2)\n",
    "        k2 = int(key[2:4],base=2)\n",
    "        k3 = int(key[4:6],base=2)\n",
    "        xx01p0[k1]+=cnt\n",
    "        xx10p0[k2]+=cnt\n",
    "        xx11p0[k3]+=cnt\n",
    "    \n",
    "    xxp0 = (xx00p0+xx01p0+xx10p0+xx11p0)\n",
    "    for key,cnt in xxp0.items():\n",
    "        xxp0[key] = cnt/(4*repcnt)\n",
    "    return xxp0, zz10p0, zz11p0"
   ]
  },
  {
   "cell_type": "code",
   "execution_count": null,
   "id": "1f07b762-a43b-4b9e-a22c-effd537af7e3",
   "metadata": {},
   "outputs": [],
   "source": [
    "# qjob_3_p1= batch_3(probs[1])"
   ]
  },
  {
   "cell_type": "code",
   "execution_count": null,
   "id": "53a8a033-a79f-4b4d-ad7b-fec683aa7f92",
   "metadata": {},
   "outputs": [],
   "source": [
    "# qjob_4_p1=batch_4(probs[1])"
   ]
  },
  {
   "cell_type": "code",
   "execution_count": null,
   "id": "921f1a55-27d9-4f7e-a770-cd4044b9a2a1",
   "metadata": {},
   "outputs": [],
   "source": [
    "from qbraid import get_jobs\n",
    "get_jobs(filters={\"qbraidDeviceId\": \"aws_ionq\"})"
   ]
  },
  {
   "cell_type": "code",
   "execution_count": null,
   "id": "eff3d525-8d30-4900-a0fa-a620b41fe5ad",
   "metadata": {},
   "outputs": [],
   "source": [
    "from qbraid import job_wrapper\n",
    "saved_job_id = 'aws_sv_sim-jessjohnbritto-qjob-u8nzibwhq9o7g5ga2fic'\n",
    "qjob = job_wrapper(saved_job_id)\n",
    "qresult = qjob.result()\n",
    "qresult.measurement_counts()"
   ]
  },
  {
   "cell_type": "code",
   "execution_count": null,
   "id": "8d539785-3a32-4be2-a754-67fa996cbb72",
   "metadata": {},
   "outputs": [],
   "source": [
    "resultsdict_3_p1 = {}\n",
    "resultsdict_4_p1 = {}"
   ]
  },
  {
   "cell_type": "code",
   "execution_count": null,
   "id": "b9af864d-7447-49a4-88e3-9ac611794227",
   "metadata": {},
   "outputs": [],
   "source": [
    "## Batch-3 and 4 - XX, ZZ10 and ZZ11\n",
    "zz11p1,zz10p1,xx00p1,xx01p1,xx10p1,xx11p1 = Counter(),Counter(),Counter(),Counter(),Counter(),Counter()\n",
    "xxp1, zz10p1, zz11p1 = resul_analy(resultsdict_3_p1, resultsdict_4_p1)"
   ]
  },
  {
   "cell_type": "code",
   "execution_count": null,
   "id": "06eb3eb1-dcf6-402b-9186-f51dc6a061db",
   "metadata": {},
   "outputs": [],
   "source": [
    "# qjob_3_p2=batch_3(probs[2])"
   ]
  },
  {
   "cell_type": "code",
   "execution_count": null,
   "id": "b037eefe-d79a-422d-81cd-24c22837c4e3",
   "metadata": {},
   "outputs": [],
   "source": [
    "# qjob_4_p2=batch_4(probs[2])"
   ]
  },
  {
   "cell_type": "code",
   "execution_count": null,
   "id": "6f1a64d2-c636-468e-98d2-c0011a4569dc",
   "metadata": {},
   "outputs": [],
   "source": [
    "from qbraid import get_jobs\n",
    "get_jobs(filters={\"qbraidDeviceId\": \"aws_ionq\"})"
   ]
  },
  {
   "cell_type": "code",
   "execution_count": null,
   "id": "75bf21ae-78fa-458e-82f1-2297aa8ea78d",
   "metadata": {},
   "outputs": [],
   "source": [
    "from qbraid import job_wrapper\n",
    "saved_job_id = 'aws_sv_sim-jessjohnbritto-qjob-u8nzibwhq9o7g5ga2fic'\n",
    "qjob = job_wrapper(saved_job_id)\n",
    "qresult = qjob.result()\n",
    "qresult.measurement_counts()"
   ]
  },
  {
   "cell_type": "code",
   "execution_count": null,
   "id": "087d8146-aedb-4383-9857-0292f017aa83",
   "metadata": {},
   "outputs": [],
   "source": [
    "resultsdict_3_p2 = {}\n",
    "resultsdict_4_p2 = {}"
   ]
  },
  {
   "cell_type": "code",
   "execution_count": null,
   "id": "35513b14-4bb4-482b-ae34-1bbb63473750",
   "metadata": {},
   "outputs": [],
   "source": [
    "## Batch-3 and 4 - XX, ZZ10 and ZZ11\n",
    "zz11p2,zz10p2,xx00p2,xx01p2,xx10p2,xx11p2 = Counter(),Counter(),Counter(),Counter(),Counter(),Counter()\n",
    "xxp2, zz10p2, zz11p2 = resul_analy(resultsdict_3_p2, resultsdict_4_p2)"
   ]
  },
  {
   "cell_type": "code",
   "execution_count": null,
   "id": "36ce1807-e0ae-456f-85d5-848a6e61baf7",
   "metadata": {},
   "outputs": [],
   "source": [
    "# qjob_3_p3=batch_3(probs[3])"
   ]
  },
  {
   "cell_type": "code",
   "execution_count": null,
   "id": "18ef01fc-5133-486d-bef2-07e4c52bbcef",
   "metadata": {},
   "outputs": [],
   "source": [
    "# qjob_4_p3=batch_4(probs[3])"
   ]
  },
  {
   "cell_type": "code",
   "execution_count": null,
   "id": "9de941e7-4d4a-4862-a6c0-2ce5985034d8",
   "metadata": {},
   "outputs": [],
   "source": [
    "from qbraid import get_jobs\n",
    "get_jobs(filters={\"qbraidDeviceId\": \"aws_ionq\"})"
   ]
  },
  {
   "cell_type": "code",
   "execution_count": null,
   "id": "8d0f1e56-e066-4b27-b354-b61275ec0d85",
   "metadata": {},
   "outputs": [],
   "source": [
    "from qbraid import job_wrapper\n",
    "saved_job_id = 'aws_sv_sim-jessjohnbritto-qjob-u8nzibwhq9o7g5ga2fic'\n",
    "qjob = job_wrapper(saved_job_id)\n",
    "qresult = qjob.result()\n",
    "qresult.measurement_counts()"
   ]
  },
  {
   "cell_type": "code",
   "execution_count": null,
   "id": "642a6b3c-e42d-4fde-af87-f64a5d87d3cd",
   "metadata": {},
   "outputs": [],
   "source": [
    "resultsdict_3_p3 = {}\n",
    "resultsdict_4_p3 = {}"
   ]
  },
  {
   "cell_type": "code",
   "execution_count": null,
   "id": "d32686ca-6825-4080-b93b-f2cd75b1d510",
   "metadata": {},
   "outputs": [],
   "source": [
    "## Batch-3 and 4 - XX, ZZ10 and ZZ11\n",
    "zz11p3,zz10p3,xx00p3,xx01p3,xx10p3,xx11p3 = Counter(),Counter(),Counter(),Counter(),Counter(),Counter()\n",
    "xxp3, zz10p3, zz11p3 = resul_analy(resultsdict_3_p3, resultsdict_4_p3)"
   ]
  },
  {
   "cell_type": "code",
   "execution_count": null,
   "id": "331c8a53-d63d-4853-bb14-f244b48d8c9e",
   "metadata": {},
   "outputs": [],
   "source": [
    "# qjob_3_p4=batch_3(probs[4])"
   ]
  },
  {
   "cell_type": "code",
   "execution_count": null,
   "id": "8a7e4bcb-3f8c-488b-a8ef-da23a8eda624",
   "metadata": {},
   "outputs": [],
   "source": [
    "# qjob_4_p4=batch_4(probs[4])"
   ]
  },
  {
   "cell_type": "code",
   "execution_count": null,
   "id": "ff43ca61-c1fe-4f08-af2f-01cb5ade4ec0",
   "metadata": {},
   "outputs": [],
   "source": [
    "from qbraid import get_jobs\n",
    "get_jobs(filters={\"qbraidDeviceId\": \"aws_ionq\"})"
   ]
  },
  {
   "cell_type": "code",
   "execution_count": null,
   "id": "f64a5fb1-01c1-4ea7-8686-adc871a3c934",
   "metadata": {},
   "outputs": [],
   "source": [
    "from qbraid import job_wrapper\n",
    "saved_job_id = 'aws_sv_sim-jessjohnbritto-qjob-u8nzibwhq9o7g5ga2fic'\n",
    "qjob = job_wrapper(saved_job_id)\n",
    "qresult = qjob.result()\n",
    "qresult.measurement_counts()"
   ]
  },
  {
   "cell_type": "code",
   "execution_count": null,
   "id": "e4bcf1ab-9889-4590-9260-10a2bc92d88e",
   "metadata": {},
   "outputs": [],
   "source": [
    "resultsdict_3_p4 = {}\n",
    "resultsdict_4_p4 = {}"
   ]
  },
  {
   "cell_type": "code",
   "execution_count": null,
   "id": "bf010b07-c020-4420-a217-57f933fcfc4b",
   "metadata": {},
   "outputs": [],
   "source": [
    "## Batch-3 and 4 - XX, ZZ10 and ZZ11\n",
    "zz11p4,zz10p4,xx00p4,xx01p4,xx10p4,xx11p4 = Counter(),Counter(),Counter(),Counter(),Counter(),Counter()\n",
    "xxp4, zz10p4, zz11p4 = resul_analy(resultsdict_3_p4, resultsdict_4_p4)"
   ]
  },
  {
   "cell_type": "code",
   "execution_count": null,
   "id": "91b2cddd-fe1f-4cbe-b823-211d91ae60ee",
   "metadata": {},
   "outputs": [],
   "source": [
    "# ## Batch-1 and 2 - ZZXX, ZZ00 and ZZ01\n",
    "# zz00p0,zz01p0,zzxx00p0,zzxx01p0,zzxx10p0,zzxx11p0 = Counter(),Counter(),Counter(),Counter(),Counter(),Counter()\n",
    "\n",
    "# for key,cnt in resultsdict_1_p0.items():\n",
    "#     k1 = int(key[0:2],base=2)\n",
    "#     k2 = int(key[2:4],base=2)\n",
    "#     k3 = int(key[4:5],base=2)\n",
    "#     zzxx00p0[k1]+=cnt\n",
    "#     zzxx01p0[k2]+=cnt\n",
    "#     zz00p0[k3]+=cnt\n",
    "\n",
    "# for key,cont in resultsdict_2_p0.items():\n",
    "#     k1 = int(key[0:2],base=2)\n",
    "#     k2 = int(key[2:4],base=2)\n",
    "#     k3 = int(key[4:5],base=2)\n",
    "#     zzxx10p0[k1]+=cnt\n",
    "#     zzxx11p0[k2]+=cnt\n",
    "#     zz01p0[k3]+=cnt\n",
    "    \n",
    "# zzxxp0 = (zzxx00p0+zzxx01p0+zzxx10p0+zzxx11p0)\n",
    "# for key,cnt in zzxxp0.items():\n",
    "#     zzxxp0[key] = cnt/(4*repcnt)\n",
    "# print(zzxxp0)"
   ]
  }
 ],
 "metadata": {
  "kernelspec": {
   "display_name": "Python 3 [Default]",
   "language": "python",
   "name": "python3"
  },
  "language_info": {
   "codemirror_mode": {
    "name": "ipython",
    "version": 3
   },
   "file_extension": ".py",
   "mimetype": "text/x-python",
   "name": "python",
   "nbconvert_exporter": "python",
   "pygments_lexer": "ipython3",
   "version": "3.11.6"
  }
 },
 "nbformat": 4,
 "nbformat_minor": 5
}
