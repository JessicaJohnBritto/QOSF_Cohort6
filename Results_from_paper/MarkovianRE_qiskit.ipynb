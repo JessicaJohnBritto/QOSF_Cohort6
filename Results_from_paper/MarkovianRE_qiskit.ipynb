{
 "cells": [
  {
   "cell_type": "code",
   "execution_count": 11,
   "id": "039451b2",
   "metadata": {},
   "outputs": [],
   "source": [
    "import matplotlib.pyplot as plt\n",
    "import numpy as np\n",
    "\n",
    "# importing Qiskit\n",
    "from qiskit import IBMQ, Aer\n",
    "from qiskit.providers.ibmq import least_busy\n",
    "from qiskit import QuantumCircuit, ClassicalRegister, QuantumRegister, transpile, assemble\n",
    "\n",
    "# import basic plot tools\n",
    "from qiskit.visualization import plot_histogram\n",
    "from numpy import random\n"
   ]
  },
  {
   "cell_type": "markdown",
   "id": "8cf0b9d9-a7c9-4427-a075-629f0e723a0a",
   "metadata": {},
   "source": [
    "# For ZZ Pump"
   ]
  },
  {
   "cell_type": "code",
   "execution_count": 12,
   "id": "8cc6cff2",
   "metadata": {},
   "outputs": [],
   "source": [
    "def zz_pump(q, c, p, system, ancilla, ini):\n",
    "    z = QuantumCircuit(q, c)\n",
    "    if ini == \"01\":\n",
    "        z.x(q[system[0]])\n",
    "    elif ini == \"10\":\n",
    "        z.x(q[system[1]])\n",
    "    elif ini == \"11\":\n",
    "        z.x(q[system[0]])\n",
    "        z.x(q[system[1]])\n",
    "    \n",
    "    z.cx(q[system[0]], q[system[1]])\n",
    "    z.x(q[ancilla])\n",
    "    z.cx(q[system[1]], q[ancilla])\n",
    "    \n",
    "    theta = 2 * np.arcsin(np.sqrt(p))\n",
    "    \n",
    "    z.cu3(theta, 0.0, 0.0, q[ancilla], q[system[1]])\n",
    "    \n",
    "    z.cx(q[system[1]], q[ancilla])\n",
    "    # z.cx(q[system[0]], q[system[1]])\n",
    "    z.h(q[system[0]])\n",
    "    z.measure(q[system[0]], c[0])\n",
    "    z.measure(q[system[1]], c[1])\n",
    "    return z  \n"
   ]
  },
  {
   "cell_type": "code",
   "execution_count": 13,
   "id": "86095767-1286-41ce-87aa-07caef7b320b",
   "metadata": {},
   "outputs": [
    {
     "name": "stderr",
     "output_type": "stream",
     "text": [
      "C:\\Users\\barbi\\AppData\\Local\\Temp\\ipykernel_4416\\19020040.py:17: DeprecationWarning: The QuantumCircuit.cu3 method is deprecated as of 0.16.0. It will be removed no earlier than 3 months after the release date. You should use the QuantumCircuit.cu method instead, where cu3(ϴ,φ,λ) = cu(ϴ,φ,λ,0).\n",
      "  z.cu3(theta, 0.0, 0.0, q[ancilla], q[system[1]])\n"
     ]
    },
    {
     "data": {
      "text/plain": [
       "<matplotlib.legend.Legend at 0x1e5605a84f0>"
      ]
     },
     "execution_count": 13,
     "metadata": {},
     "output_type": "execute_result"
    },
    {
     "data": {
      "image/png": "[encoded data removed]",
      "text/plain": [
       "<Figure size 432x288 with 1 Axes>"
      ]
     },
     "metadata": {
      "needs_background": "light"
     },
     "output_type": "display_data"
    }
   ],
   "source": [
    "# use local simulator\n",
    "aer_sim = Aer.get_backend('aer_simulator')\n",
    "shots = 1024\n",
    "p = np.linspace(0,1.0,5)\n",
    "dict = {}\n",
    "a = [[0] * 4 for i in range(len(p))]\n",
    "b = [[0] * len(p) for i in range(4)]\n",
    "\n",
    "\n",
    "labels = ['00', '01', '10', '11']\n",
    "for inis in labels:\n",
    "    k=0\n",
    "    for i in p:\n",
    "        q = QuantumRegister(5, name='q')\n",
    "        c = ClassicalRegister(2, name='c')\n",
    "        qobj = assemble(zz_pump(q, c,i, [2,1], 0, inis))\n",
    "        results = aer_sim.run(qobj).result()\n",
    "        answer = {'00':0,'01':0,'10':0,'11':0}\n",
    "        labels = list(answer.keys())\n",
    "        for key,value in results.get_counts().items():\n",
    "            answer[key] = value\n",
    "        for j in range(4):\n",
    "            a[k][j] = answer[labels[j]]/1024\n",
    "        k=k+1\n",
    "    # Plotting\n",
    "    for l in range(4):\n",
    "        for m in range(5):\n",
    "            b[l][m] = b[l][m]+a[m][l]\n",
    "    # print(b)\n",
    "\n",
    "plt.scatter(p,(np.asarray(b[0]))/4, label=\"00| phi+\")\n",
    "plt.scatter(p,(np.asarray(b[1]))/4,  label=\"01| phi-\")\n",
    "plt.scatter(p,(np.asarray(b[2]))/4,  label=\"10| psi+\")\n",
    "plt.scatter(p,(np.asarray(b[3]))/4,  label=\"11| psi-\")\n",
    "plt.legend()"
   ]
  },
  {
   "cell_type": "markdown",
   "id": "a7e8f17b-07bf-496c-a7ac-5c31e93b7bd7",
   "metadata": {},
   "source": [
    "# For XX Pump"
   ]
  },
  {
   "cell_type": "code",
   "execution_count": 18,
   "id": "ad6f7111-3d8a-4513-8bdd-462b66a4aacd",
   "metadata": {},
   "outputs": [],
   "source": [
    "def xx_pump(q, c, p, system, ancilla, ini):\n",
    "    xx = QuantumCircuit(q, c)\n",
    "    if ini == \"01\":\n",
    "        xx.x(q[system[0]])\n",
    "    elif ini == \"10\":\n",
    "        xx.x(q[system[1]])\n",
    "    elif ini == \"11\":\n",
    "        xx.x(q[system[0]])\n",
    "        xx.x(q[system[1]])\n",
    "    \n",
    "    xx.cx(q[system[0]], q[system[1]])\n",
    "    xx.h(q[system[0]])\n",
    "    xx.x(q[ancilla])\n",
    "    xx.cx(q[system[0]], q[ancilla])\n",
    "    \n",
    "    theta = 2 * np.arcsin(np.sqrt(p))\n",
    "    xx.cu3(theta, 0.0, 0.0, q[ancilla], q[system[0]])\n",
    "    \n",
    "    xx.cx(q[system[0]], q[ancilla])\n",
    "    \n",
    "    xx.measure(q[system[0]], c[0])\n",
    "    xx.measure(q[system[1]], c[1])\n",
    "    \n",
    "    return xx"
   ]
  },
  {
   "cell_type": "code",
   "execution_count": 19,
   "id": "b7c8b20f-7bc4-4b43-8aa7-8d941f2a2dd7",
   "metadata": {},
   "outputs": [
    {
     "name": "stderr",
     "output_type": "stream",
     "text": [
      "C:\\Users\\barbi\\AppData\\Local\\Temp\\ipykernel_4416\\1171266329.py:17: DeprecationWarning: The QuantumCircuit.cu3 method is deprecated as of 0.16.0. It will be removed no earlier than 3 months after the release date. You should use the QuantumCircuit.cu method instead, where cu3(ϴ,φ,λ) = cu(ϴ,φ,λ,0).\n",
      "  xx.cu3(theta, 0.0, 0.0, q[ancilla], q[system[0]])\n"
     ]
    },
    {
     "data": {
      "text/plain": [
       "<matplotlib.legend.Legend at 0x1e5606b3eb0>"
      ]
     },
     "execution_count": 19,
     "metadata": {},
     "output_type": "execute_result"
    },
    {
     "data": {
      "image/png": "[encoded data removed]",
      "text/plain": [
       "<Figure size 432x288 with 1 Axes>"
      ]
     },
     "metadata": {
      "needs_background": "light"
     },
     "output_type": "display_data"
    }
   ],
   "source": [
    "# use local simulator\n",
    "aer_sim = Aer.get_backend('aer_simulator')\n",
    "shots = 1024\n",
    "p = np.linspace(0,1.0,5)\n",
    "dict = {}\n",
    "a = [[0] * 4 for i in range(len(p))]\n",
    "b = [[0] * len(p) for i in range(4)]\n",
    "\n",
    "\n",
    "labels = ['00', '01', '10', '11']\n",
    "for inis in labels:\n",
    "    k=0\n",
    "    for i in p:\n",
    "        q = QuantumRegister(5, name='q')\n",
    "        c = ClassicalRegister(2, name='c')\n",
    "        qobj = assemble(xx_pump(q, c,i, [2,1], 0, inis))\n",
    "        results = aer_sim.run(qobj).result()\n",
    "        answer = {'00':0,'01':0,'10':0,'11':0}\n",
    "        labels = list(answer.keys())\n",
    "        for key,value in results.get_counts().items():\n",
    "            answer[key] = value\n",
    "        for j in range(4):\n",
    "            a[k][j] = answer[labels[j]]/1024\n",
    "        k=k+1\n",
    "    # Plotting\n",
    "    for l in range(4):\n",
    "        for m in range(5):\n",
    "            b[l][m] = b[l][m]+a[m][l]\n",
    "    # print(b)\n",
    "\n",
    "plt.scatter(p,(np.asarray(b[0]))/4, label=\"00| phi+\")\n",
    "plt.scatter(p,(np.asarray(b[1]))/4,  label=\"01| phi-\")\n",
    "plt.scatter(p,(np.asarray(b[2]))/4,  label=\"10| psi+\")\n",
    "plt.scatter(p,(np.asarray(b[3]))/4,  label=\"11| psi-\")\n",
    "plt.legend()"
   ]
  },
  {
   "cell_type": "markdown",
   "id": "1c2a91fd-a9fa-455d-814e-c8f0740ce117",
   "metadata": {},
   "source": [
    "# For ZZ and XX Pump"
   ]
  },
  {
   "cell_type": "code",
   "execution_count": 22,
   "id": "a85d8564-3d0a-4731-894d-3a3ce7d3428c",
   "metadata": {},
   "outputs": [],
   "source": [
    "def zz_xx_pump(q, c, p, system, ancillae, ini):\n",
    "    zx = QuantumCircuit(q, c)\n",
    "    if ini == \"01\":\n",
    "        zx.x(q[system[0]])\n",
    "    elif ini == \"10\":\n",
    "        zx.x(q[system[1]])\n",
    "    elif ini == \"11\":\n",
    "        zx.x(q[system[0]])\n",
    "        zx.x(q[system[1]])\n",
    "        \n",
    "    zx.cx(q[system[0]], q[system[1]])\n",
    "    zx.x(q[ancillae[0]])\n",
    "    zx.cx(q[system[1]], q[ancillae[0]])\n",
    "    \n",
    "    theta = 2 * np.arcsin(np.sqrt(p))\n",
    "    zx.cu3(theta, 0.0, 0.0, q[ancillae[0]], q[system[1]])\n",
    "    \n",
    "    zx.cx(q[system[1]], q[ancillae[0]])\n",
    "    \n",
    "    zx.h(q[system[0]])\n",
    "    zx.x(q[ancillae[1]])\n",
    "    zx.cx(q[system[0]], q[ancillae[1]])\n",
    "    \n",
    "    zx.cu3(theta, 0.0, 0.0, q[ancillae[1]], q[system[0]])\n",
    "    \n",
    "    zx.cx(q[system[0]], q[ancillae[1]])\n",
    "    \n",
    "    zx.measure(q[system[0]], c[0])\n",
    "    zx.measure(q[system[1]], c[1])\n",
    "    \n",
    "    return zx"
   ]
  },
  {
   "cell_type": "code",
   "execution_count": 25,
   "id": "7f7cc6dc-6ffc-4964-87cd-d8535391b25a",
   "metadata": {},
   "outputs": [
    {
     "name": "stderr",
     "output_type": "stream",
     "text": [
      "C:\\Users\\barbi\\AppData\\Local\\Temp\\ipykernel_4416\\1980452409.py:16: DeprecationWarning: The QuantumCircuit.cu3 method is deprecated as of 0.16.0. It will be removed no earlier than 3 months after the release date. You should use the QuantumCircuit.cu method instead, where cu3(ϴ,φ,λ) = cu(ϴ,φ,λ,0).\n",
      "  zx.cu3(theta, 0.0, 0.0, q[ancillae[0]], q[system[1]])\n",
      "C:\\Users\\barbi\\AppData\\Local\\Temp\\ipykernel_4416\\1980452409.py:24: DeprecationWarning: The QuantumCircuit.cu3 method is deprecated as of 0.16.0. It will be removed no earlier than 3 months after the release date. You should use the QuantumCircuit.cu method instead, where cu3(ϴ,φ,λ) = cu(ϴ,φ,λ,0).\n",
      "  zx.cu3(theta, 0.0, 0.0, q[ancillae[1]], q[system[0]])\n"
     ]
    },
    {
     "data": {
      "text/plain": [
       "<matplotlib.legend.Legend at 0x1e5608ad880>"
      ]
     },
     "execution_count": 25,
     "metadata": {},
     "output_type": "execute_result"
    },
    {
     "data": {
      "image/png": "[encoded data removed]",
      "text/plain": [
       "<Figure size 432x288 with 1 Axes>"
      ]
     },
     "metadata": {
      "needs_background": "light"
     },
     "output_type": "display_data"
    }
   ],
   "source": [
    "# use local simulator\n",
    "aer_sim = Aer.get_backend('aer_simulator')\n",
    "shots = 1024\n",
    "p = np.linspace(0,1.0,5)\n",
    "dict = {}\n",
    "a = [[0] * 4 for i in range(len(p))]\n",
    "b = [[0] * len(p) for i in range(4)]\n",
    "\n",
    "\n",
    "labels = ['00', '01', '10', '11']\n",
    "for inis in labels:\n",
    "    k=0\n",
    "    for i in p:\n",
    "        q = QuantumRegister(5, name='q')\n",
    "        c = ClassicalRegister(2, name='c')\n",
    "        qobj = assemble(zz_xx_pump(q, c,i, [2,1], [0,4], inis))\n",
    "        results = aer_sim.run(qobj).result()\n",
    "        answer = {'00':0,'01':0,'10':0,'11':0}\n",
    "        labels = list(answer.keys())\n",
    "        for key,value in results.get_counts().items():\n",
    "            answer[key] = value\n",
    "        for j in range(4):\n",
    "            a[k][j] = answer[labels[j]]/1024\n",
    "        k=k+1\n",
    "    # Plotting\n",
    "    for l in range(4):\n",
    "        for m in range(5):\n",
    "            b[l][m] = b[l][m]+a[m][l]\n",
    "    # print(b)\n",
    "\n",
    "plt.scatter(p,(np.asarray(b[0]))/4, label=\"00| phi+\")\n",
    "plt.scatter(p,(np.asarray(b[1]))/4,  label=\"01| phi-\")\n",
    "plt.scatter(p,(np.asarray(b[2]))/4,  label=\"10| psi+\")\n",
    "plt.scatter(p,(np.asarray(b[3]))/4,  label=\"11| psi-\")\n",
    "plt.legend()"
   ]
  }
 ],
 "metadata": {
  "kernelspec": {
   "display_name": "Python 3 (ipykernel)",
   "language": "python",
   "name": "python3"
  },
  "language_info": {
   "codemirror_mode": {
    "name": "ipython",
    "version": 3
   },
   "file_extension": ".py",
   "mimetype": "text/x-python",
   "name": "python",
   "nbconvert_exporter": "python",
   "pygments_lexer": "ipython3",
   "version": "3.9.12"
  }
 },
 "nbformat": 4,
 "nbformat_minor": 5
}
