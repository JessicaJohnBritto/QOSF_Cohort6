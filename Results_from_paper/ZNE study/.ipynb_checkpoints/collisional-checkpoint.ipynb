{
 "cells": [
  {
   "cell_type": "code",
   "execution_count": 24,
   "id": "09d891f6-31fc-4c8f-85f0-7ee29ccb2ac0",
   "metadata": {},
   "outputs": [
    {
     "ename": "ImportError",
     "evalue": "cannot import name 'conditional_resources' from 'qiskit.circuit.controlflow' (C:\\users\\mainak\\appdata\\local\\programs\\python\\python39\\lib\\site-packages\\qiskit\\circuit\\controlflow\\__init__.py)",
     "output_type": "error",
     "traceback": [
      "\u001b[1;31m---------------------------------------------------------------------------\u001b[0m",
      "\u001b[1;31mImportError\u001b[0m                               Traceback (most recent call last)",
      "Cell \u001b[1;32mIn[24], line 7\u001b[0m\n\u001b[0;32m      5\u001b[0m \u001b[38;5;28;01mfrom\u001b[39;00m \u001b[38;5;21;01mqiskit\u001b[39;00m \u001b[38;5;28;01mimport\u001b[39;00m QuantumCircuit, transpile\n\u001b[0;32m      6\u001b[0m \u001b[38;5;28;01mfrom\u001b[39;00m \u001b[38;5;21;01mmitiq\u001b[39;00m\u001b[38;5;21;01m.\u001b[39;00m\u001b[38;5;21;01mzne\u001b[39;00m\u001b[38;5;21;01m.\u001b[39;00m\u001b[38;5;21;01mscaling\u001b[39;00m \u001b[38;5;28;01mimport\u001b[39;00m fold_gates_at_random\n\u001b[1;32m----> 7\u001b[0m \u001b[38;5;28;01mfrom\u001b[39;00m \u001b[38;5;21;01mqiskit\u001b[39;00m\u001b[38;5;21;01m.\u001b[39;00m\u001b[38;5;21;01mcircuit\u001b[39;00m\u001b[38;5;21;01m.\u001b[39;00m\u001b[38;5;21;01mcontrolflow\u001b[39;00m \u001b[38;5;28;01mimport\u001b[39;00m conditional_resources\n",
      "\u001b[1;31mImportError\u001b[0m: cannot import name 'conditional_resources' from 'qiskit.circuit.controlflow' (C:\\users\\mainak\\appdata\\local\\programs\\python\\python39\\lib\\site-packages\\qiskit\\circuit\\controlflow\\__init__.py)"
     ]
    }
   ],
   "source": [
    "import cirq\n",
    "import numpy as np\n",
    "import matplotlib.pyplot as plt\n",
    "from qiskit_ibm_provider import IBMProvider\n",
    "from qiskit import QuantumCircuit, transpile\n",
    "from mitiq.zne.scaling import fold_gates_at_random\n",
    "from qiskit.circuit.controlflow import conditional_resources"
   ]
  },
  {
   "cell_type": "code",
   "execution_count": 2,
   "id": "a6ad7a91-91c8-4a00-8695-9be0a9d9a65c",
   "metadata": {},
   "outputs": [],
   "source": [
    "def prepare_correlated(env,n=2):\n",
    "    yield cirq.H(env[0])\n",
    "    yield cirq.CNOT(env[0],env[1])\n",
    "    yield cirq.CNOT(env[1],env[2])\n",
    "\n",
    "def collide(env,sys,theta):\n",
    "    yield cirq.CNOT(env,sys)\n",
    "    yield cirq.Rz(rads=2*theta).on(sys)\n",
    "    yield cirq.CNOT(env,sys)\n",
    "\n",
    "def collision_pattern_correlated(env,sys,n,theta):\n",
    "    for i in range(n):\n",
    "        yield from collide(env[1+(i%2)],sys,theta)\n",
    "\n",
    "def meas_coherence(sys):\n",
    "    yield cirq.H(sys)\n",
    "    yield cirq.measure(sys, key = 'answer')\n",
    "\n",
    "def collision_circuit(env,sys,n,theta):\n",
    "    yield cirq.H(sys)\n",
    "    yield from prepare_correlated(env,n)\n",
    "    yield from collision_pattern_correlated(env,sys,n,theta)\n",
    "    yield from meas_coherence(sys)"
   ]
  },
  {
   "cell_type": "code",
   "execution_count": 3,
   "id": "85fc6d74-a029-4da4-843e-22aee98e1b98",
   "metadata": {},
   "outputs": [],
   "source": [
    "provider = IBMProvider()\n",
    "backend = provider.get_backend('simulator_statevector')"
   ]
  },
  {
   "cell_type": "code",
   "execution_count": 7,
   "id": "4c8a7663-dba7-4024-bc62-aca01b214366",
   "metadata": {},
   "outputs": [],
   "source": [
    "n = 20\n",
    "g = 1\n",
    "tau = np.pi/6\n",
    "t = np.array(list(range(1,n+1)))*tau\n",
    "theta = g*tau\n",
    "\n",
    "sys = cirq.LineQubit(0)\n",
    "env = cirq.LineQubit.range(1,4)\n",
    "repcnt = 1024"
   ]
  },
  {
   "cell_type": "code",
   "execution_count": 4,
   "id": "f0bc97a7-2a23-4963-808a-c6e43f3e4430",
   "metadata": {},
   "outputs": [
    {
     "name": "stdout",
     "output_type": "stream",
     "text": [
      "<bound method IBMBackend.run of <IBMBackend('simulator_statevector')>>\n"
     ]
    }
   ],
   "source": [
    "print(backend.run)"
   ]
  },
  {
   "cell_type": "code",
   "execution_count": 13,
   "id": "ed77a67b-7a64-4d18-bbc4-afca4bd09afc",
   "metadata": {},
   "outputs": [],
   "source": [
    "scale_factors = [1,1.5,2,2.5,3]\n",
    "depth = 1"
   ]
  },
  {
   "cell_type": "code",
   "execution_count": 27,
   "id": "3dd74fa4-3903-416c-a518-47ba3f655349",
   "metadata": {},
   "outputs": [
    {
     "name": "stdout",
     "output_type": "stream",
     "text": [
      "['BreakLoopOp', 'CASE_DEFAULT', 'ContinueLoopOp', 'ControlFlowOp', 'ForLoopOp', 'IfElseOp', 'SwitchCaseOp', 'WhileLoopOp', '__builtins__', '__cached__', '__doc__', '__file__', '__loader__', '__name__', '__package__', '__path__', '__spec__', '_builder_utils', 'break_loop', 'builder', 'condition', 'continue_loop', 'control_flow', 'for_loop', 'if_else', 'switch_case', 'while_loop']\n"
     ]
    }
   ],
   "source": [
    "print(dir(qiskit.circuit.controlflow))"
   ]
  },
  {
   "cell_type": "code",
   "execution_count": 28,
   "id": "509a2bf5-2934-4fd2-9da6-37f18b68a380",
   "metadata": {},
   "outputs": [
    {
     "ename": "ImportError",
     "evalue": "cannot import name 'condition_resources' from 'qiskit.circuit.controlflow' (C:\\users\\mainak\\appdata\\local\\programs\\python\\python39\\lib\\site-packages\\qiskit\\circuit\\controlflow\\__init__.py)",
     "output_type": "error",
     "traceback": [
      "\u001b[1;31m---------------------------------------------------------------------------\u001b[0m",
      "\u001b[1;31mImportError\u001b[0m                               Traceback (most recent call last)",
      "Cell \u001b[1;32mIn[28], line 5\u001b[0m\n\u001b[0;32m      3\u001b[0m circuit_folded \u001b[38;5;241m=\u001b[39m fold_gates_at_random(circuit,scale_factor)\n\u001b[0;32m      4\u001b[0m circuit_qiskit \u001b[38;5;241m=\u001b[39m QuantumCircuit\u001b[38;5;241m.\u001b[39mfrom_qasm_str(circuit_folded\u001b[38;5;241m.\u001b[39mto_qasm())\n\u001b[1;32m----> 5\u001b[0m \u001b[43mcircuit_qiskit\u001b[49m\u001b[38;5;241;43m.\u001b[39;49m\u001b[43mdraw\u001b[49m\u001b[43m(\u001b[49m\u001b[43m)\u001b[49m\n\u001b[0;32m      6\u001b[0m \u001b[38;5;66;03m# transpiled_circuit = transpile(circuit_qiskit,backend=backend,optimization_level=0)\u001b[39;00m\n",
      "File \u001b[1;32mC:\\users\\mainak\\appdata\\local\\programs\\python\\python39\\lib\\site-packages\\qiskit\\circuit\\quantumcircuit.py:1920\u001b[0m, in \u001b[0;36mdraw\u001b[1;34m(self, output, scale, filename, style, interactive, plot_barriers, reverse_bits, justify, vertical_compression, idle_wires, with_layout, fold, ax, initial_state, cregbundle, wire_order)\u001b[0m\n\u001b[0;32m   1917\u001b[0m     \u001b[38;5;28;01mfor\u001b[39;00m ind \u001b[38;5;129;01min\u001b[39;00m reg_ints:\n\u001b[0;32m   1918\u001b[0m         op_stack[ind] \u001b[38;5;241m=\u001b[39m max_level\n\u001b[1;32m-> 1920\u001b[0m \u001b[38;5;28;01mreturn\u001b[39;00m \u001b[38;5;28mmax\u001b[39m(op_stack)\n",
      "File \u001b[1;32mC:\\users\\mainak\\appdata\\local\\programs\\python\\python39\\lib\\site-packages\\qiskit\\visualization\\__init__.py:271\u001b[0m\n\u001b[0;32m    267\u001b[0m \u001b[38;5;28;01mimport\u001b[39;00m \u001b[38;5;21;01msys\u001b[39;00m\n\u001b[0;32m    269\u001b[0m \u001b[38;5;28;01mfrom\u001b[39;00m \u001b[38;5;21;01m.\u001b[39;00m\u001b[38;5;21;01marray\u001b[39;00m \u001b[38;5;28;01mimport\u001b[39;00m array_to_latex\n\u001b[1;32m--> 271\u001b[0m \u001b[38;5;28;01mfrom\u001b[39;00m \u001b[38;5;21;01m.\u001b[39;00m\u001b[38;5;21;01mcircuit\u001b[39;00m \u001b[38;5;28;01mimport\u001b[39;00m circuit_drawer\n\u001b[0;32m    272\u001b[0m \u001b[38;5;28;01mfrom\u001b[39;00m \u001b[38;5;21;01m.\u001b[39;00m\u001b[38;5;21;01mcounts_visualization\u001b[39;00m \u001b[38;5;28;01mimport\u001b[39;00m plot_histogram, plot_distribution\n\u001b[0;32m    273\u001b[0m \u001b[38;5;28;01mfrom\u001b[39;00m \u001b[38;5;21;01m.\u001b[39;00m\u001b[38;5;21;01mstate_visualization\u001b[39;00m \u001b[38;5;28;01mimport\u001b[39;00m (\n\u001b[0;32m    274\u001b[0m     plot_state_hinton,\n\u001b[0;32m    275\u001b[0m     plot_bloch_vector,\n\u001b[1;32m   (...)\u001b[0m\n\u001b[0;32m    280\u001b[0m     state_drawer,\n\u001b[0;32m    281\u001b[0m )\n",
      "File \u001b[1;32mC:\\users\\mainak\\appdata\\local\\programs\\python\\python39\\lib\\site-packages\\qiskit\\visualization\\circuit\\__init__.py:15\u001b[0m\n\u001b[0;32m      1\u001b[0m \u001b[38;5;66;03m# This code is part of Qiskit.\u001b[39;00m\n\u001b[0;32m      2\u001b[0m \u001b[38;5;66;03m#\u001b[39;00m\n\u001b[0;32m      3\u001b[0m \u001b[38;5;66;03m# (C) Copyright IBM 2017, 2018.\u001b[39;00m\n\u001b[1;32m   (...)\u001b[0m\n\u001b[0;32m     10\u001b[0m \u001b[38;5;66;03m# copyright notice, and modified files need to carry a notice indicating\u001b[39;00m\n\u001b[0;32m     11\u001b[0m \u001b[38;5;66;03m# that they have been altered from the originals.\u001b[39;00m\n\u001b[0;32m     13\u001b[0m \u001b[38;5;124;03m\"\"\"Init for circuit visualizations\"\"\"\u001b[39;00m\n\u001b[1;32m---> 15\u001b[0m \u001b[38;5;28;01mfrom\u001b[39;00m \u001b[38;5;21;01m.\u001b[39;00m\u001b[38;5;21;01mcircuit_visualization\u001b[39;00m \u001b[38;5;28;01mimport\u001b[39;00m circuit_drawer\n",
      "File \u001b[1;32mC:\\users\\mainak\\appdata\\local\\programs\\python\\python39\\lib\\site-packages\\qiskit\\visualization\\circuit\\circuit_visualization.py:37\u001b[0m\n\u001b[0;32m     35\u001b[0m \u001b[38;5;28;01mfrom\u001b[39;00m \u001b[38;5;21;01mqiskit\u001b[39;00m\u001b[38;5;21;01m.\u001b[39;00m\u001b[38;5;21;01mutils\u001b[39;00m \u001b[38;5;28;01mimport\u001b[39;00m optionals \u001b[38;5;28;01mas\u001b[39;00m _optionals\n\u001b[0;32m     36\u001b[0m \u001b[38;5;28;01mfrom\u001b[39;00m \u001b[38;5;21;01mqiskit\u001b[39;00m\u001b[38;5;21;01m.\u001b[39;00m\u001b[38;5;21;01mcircuit\u001b[39;00m \u001b[38;5;28;01mimport\u001b[39;00m ControlFlowOp, Measure\n\u001b[1;32m---> 37\u001b[0m \u001b[38;5;28;01mfrom\u001b[39;00m \u001b[38;5;21;01m.\u001b[39;00m \u001b[38;5;28;01mimport\u001b[39;00m latex \u001b[38;5;28;01mas\u001b[39;00m _latex\n\u001b[0;32m     38\u001b[0m \u001b[38;5;28;01mfrom\u001b[39;00m \u001b[38;5;21;01m.\u001b[39;00m \u001b[38;5;28;01mimport\u001b[39;00m text \u001b[38;5;28;01mas\u001b[39;00m _text\n\u001b[0;32m     39\u001b[0m \u001b[38;5;28;01mfrom\u001b[39;00m \u001b[38;5;21;01m.\u001b[39;00m \u001b[38;5;28;01mimport\u001b[39;00m matplotlib \u001b[38;5;28;01mas\u001b[39;00m _matplotlib\n",
      "File \u001b[1;32mC:\\users\\mainak\\appdata\\local\\programs\\python\\python39\\lib\\site-packages\\qiskit\\visualization\\circuit\\latex.py:31\u001b[0m\n\u001b[0;32m     27\u001b[0m \u001b[38;5;28;01mfrom\u001b[39;00m \u001b[38;5;21;01mqiskit\u001b[39;00m\u001b[38;5;21;01m.\u001b[39;00m\u001b[38;5;21;01mcircuit\u001b[39;00m\u001b[38;5;21;01m.\u001b[39;00m\u001b[38;5;21;01mtools\u001b[39;00m\u001b[38;5;21;01m.\u001b[39;00m\u001b[38;5;21;01mpi_check\u001b[39;00m \u001b[38;5;28;01mimport\u001b[39;00m pi_check\n\u001b[0;32m     30\u001b[0m \u001b[38;5;28;01mfrom\u001b[39;00m \u001b[38;5;21;01m.\u001b[39;00m\u001b[38;5;21;01mqcstyle\u001b[39;00m \u001b[38;5;28;01mimport\u001b[39;00m load_style\n\u001b[1;32m---> 31\u001b[0m \u001b[38;5;28;01mfrom\u001b[39;00m \u001b[38;5;21;01m.\u001b[39;00m\u001b[38;5;21;01m_utils\u001b[39;00m \u001b[38;5;28;01mimport\u001b[39;00m (\n\u001b[0;32m     32\u001b[0m     get_gate_ctrl_text,\n\u001b[0;32m     33\u001b[0m     get_param_str,\n\u001b[0;32m     34\u001b[0m     get_wire_map,\n\u001b[0;32m     35\u001b[0m     get_bit_register,\n\u001b[0;32m     36\u001b[0m     get_bit_reg_index,\n\u001b[0;32m     37\u001b[0m     get_wire_label,\n\u001b[0;32m     38\u001b[0m     generate_latex_label,\n\u001b[0;32m     39\u001b[0m     get_condition_label_val,\n\u001b[0;32m     40\u001b[0m )\n\u001b[0;32m     43\u001b[0m \u001b[38;5;28;01mclass\u001b[39;00m \u001b[38;5;21;01mQCircuitImage\u001b[39;00m:\n\u001b[0;32m     44\u001b[0m     \u001b[38;5;124;03m\"\"\"This class contains methods to create \\\\LaTeX circuit images.\u001b[39;00m\n\u001b[0;32m     45\u001b[0m \n\u001b[0;32m     46\u001b[0m \u001b[38;5;124;03m    The class targets the \\\\LaTeX package Q-circuit\u001b[39;00m\n\u001b[1;32m   (...)\u001b[0m\n\u001b[0;32m     49\u001b[0m \u001b[38;5;124;03m    Thanks to Eric Sabo for the initial implementation for Qiskit.\u001b[39;00m\n\u001b[0;32m     50\u001b[0m \u001b[38;5;124;03m    \"\"\"\u001b[39;00m\n",
      "File \u001b[1;32mC:\\users\\mainak\\appdata\\local\\programs\\python\\python39\\lib\\site-packages\\qiskit\\visualization\\circuit\\_utils.py:28\u001b[0m\n\u001b[0;32m     18\u001b[0m \u001b[38;5;28;01mimport\u001b[39;00m \u001b[38;5;21;01mnumpy\u001b[39;00m \u001b[38;5;28;01mas\u001b[39;00m \u001b[38;5;21;01mnp\u001b[39;00m\n\u001b[0;32m     20\u001b[0m \u001b[38;5;28;01mfrom\u001b[39;00m \u001b[38;5;21;01mqiskit\u001b[39;00m\u001b[38;5;21;01m.\u001b[39;00m\u001b[38;5;21;01mcircuit\u001b[39;00m \u001b[38;5;28;01mimport\u001b[39;00m (\n\u001b[0;32m     21\u001b[0m     Clbit,\n\u001b[0;32m     22\u001b[0m     ControlledGate,\n\u001b[1;32m   (...)\u001b[0m\n\u001b[0;32m     26\u001b[0m     Measure,\n\u001b[0;32m     27\u001b[0m )\n\u001b[1;32m---> 28\u001b[0m \u001b[38;5;28;01mfrom\u001b[39;00m \u001b[38;5;21;01mqiskit\u001b[39;00m\u001b[38;5;21;01m.\u001b[39;00m\u001b[38;5;21;01mcircuit\u001b[39;00m\u001b[38;5;21;01m.\u001b[39;00m\u001b[38;5;21;01mcontrolflow\u001b[39;00m \u001b[38;5;28;01mimport\u001b[39;00m condition_resources\n\u001b[0;32m     29\u001b[0m \u001b[38;5;28;01mfrom\u001b[39;00m \u001b[38;5;21;01mqiskit\u001b[39;00m\u001b[38;5;21;01m.\u001b[39;00m\u001b[38;5;21;01mcircuit\u001b[39;00m\u001b[38;5;21;01m.\u001b[39;00m\u001b[38;5;21;01mlibrary\u001b[39;00m \u001b[38;5;28;01mimport\u001b[39;00m PauliEvolutionGate\n\u001b[0;32m     30\u001b[0m \u001b[38;5;28;01mfrom\u001b[39;00m \u001b[38;5;21;01mqiskit\u001b[39;00m\u001b[38;5;21;01m.\u001b[39;00m\u001b[38;5;21;01mcircuit\u001b[39;00m \u001b[38;5;28;01mimport\u001b[39;00m ClassicalRegister, QuantumCircuit, Qubit, ControlFlowOp\n",
      "\u001b[1;31mImportError\u001b[0m: cannot import name 'condition_resources' from 'qiskit.circuit.controlflow' (C:\\users\\mainak\\appdata\\local\\programs\\python\\python39\\lib\\site-packages\\qiskit\\circuit\\controlflow\\__init__.py)"
     ]
    }
   ],
   "source": [
    "for scale_factor in scale_factors:\n",
    "    circuit = cirq.Circuit(collision_circuit(env,sys,depth,theta))\n",
    "    circuit_folded = fold_gates_at_random(circuit,scale_factor)\n",
    "    circuit_qiskit = QuantumCircuit.from_qasm_str(circuit_folded.to_qasm())\n",
    "    circuit_qiskit.draw()\n",
    "    # transpiled_circuit = transpile(circuit_qiskit,backend=backend,optimization_level=0)\n"
   ]
  },
  {
   "cell_type": "markdown",
   "id": "314580cf-e844-4084-8848-603aa5390d32",
   "metadata": {},
   "source": [
    "<hr></hr>"
   ]
  },
  {
   "cell_type": "code",
   "execution_count": null,
   "id": "1f90efa5-c6b1-40a5-859b-b087413f4b71",
   "metadata": {},
   "outputs": [],
   "source": [
    "# with open('./Jobs/Sim/2.txt','w') as job_id_file:\n",
    "\n",
    "\n",
    "#     for scale_factor in scale_factors:\n",
    "#         circ_list = []\n",
    "\n",
    "#         q = QuantumRegister(4,name = 'q')\n",
    "#         c = ClassicalRegister(4, name = 'c')\n",
    "#         for i in range(1,n+1,1):\n",
    "#             #Create circuit\n",
    "#             circ = corr(q, c, system, ancillae, g, tt, i)\n",
    "#             #Transpile first pass\n",
    "#             transpiled = transpile(circ,backend=backend,optimization_level=0)\n",
    "#             #Convert to Mitiq\n",
    "#             #circ_to_mitiq = from_qiskit(transpiled)\n",
    "#             #Fold circuit\n",
    "#             #circ_folded_mitiq = fold_gates_at_random(circ_to_mitiq, scale_factor)\n",
    "#             #Convert to Qiskit\n",
    "#             #circ_folded_qasm = rewrite_qasm(to_qasm(circ_folded_mitiq))\n",
    "#             #circ_folded = QuantumCircuit.from_qasm_str(circ_folded_qasm)\n",
    "#             #Transpile without optimizing\n",
    "#             #transpiled_folded = transpile(circ_folded, backend=backend, optimization_level=0)\n",
    "#             circ_list.append(transpiled)\n",
    "\n",
    "#         job = backend.run(circ_list, shots=shots)   #Run job\n",
    "#         job_id_file.write(job.job_id()+'\\n')    #Write to file\n",
    "#         print('Submitted job with job id '+job.job_id())\n",
    "\n",
    "# print('All complete.')"
   ]
  },
  {
   "cell_type": "code",
   "execution_count": null,
   "id": "7a9ac442-d5f1-437b-88c5-5f1d1b026985",
   "metadata": {},
   "outputs": [],
   "source": [
    "# def corrfunc(time):\n",
    "#     return (np.cos(time)**2-np.sin(time)**2)/2\n",
    "\n",
    "# x_ax = np.linspace(0,t[-1],num=1000)\n",
    "\n",
    "# plt.scatter(t,rho_12_corr,label='correlated')\n",
    "# plt.plot(x_ax,corrfunc(x_ax),linestyle='--')\n",
    "# plt.legend()\n",
    "# plt.show()"
   ]
  }
 ],
 "metadata": {
  "kernelspec": {
   "display_name": "Python 3 (ipykernel)",
   "language": "python",
   "name": "python3"
  },
  "language_info": {
   "codemirror_mode": {
    "name": "ipython",
    "version": 3
   },
   "file_extension": ".py",
   "mimetype": "text/x-python",
   "name": "python",
   "nbconvert_exporter": "python",
   "pygments_lexer": "ipython3",
   "version": "3.9.1"
  }
 },
 "nbformat": 4,
 "nbformat_minor": 5
}
