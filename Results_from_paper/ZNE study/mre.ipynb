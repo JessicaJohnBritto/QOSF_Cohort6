{
 "cells": [
  {
   "cell_type": "code",
   "execution_count": 199,
   "id": "84f66d88-2652-4a3a-844f-4e719f1a3fcc",
   "metadata": {},
   "outputs": [],
   "source": [
    "import cirq\n",
    "import numpy as np\n",
    "import matplotlib.pyplot as plt\n",
    "from qiskit_ibm_provider import IBMProvider\n",
    "from qiskit import QuantumCircuit, transpile\n",
    "from mitiq.zne.scaling import fold_gates_at_random\n",
    "from mitiq.zne import inference\n",
    "from collections import Counter"
   ]
  },
  {
   "cell_type": "code",
   "execution_count": 52,
   "id": "d878ab86-9e21-4288-8135-067375831c31",
   "metadata": {},
   "outputs": [],
   "source": [
    "@cirq.transformer\n",
    "class SubstituteGate:\n",
    "    \"\"\"Transformer to substitute `source` gates with `target` in the input circuit.\"\"\"\n",
    "\n",
    "    def __init__(self, source, target):\n",
    "        self._source = source\n",
    "        self._target = target\n",
    "\n",
    "    def __call__(self, circuit, *, context=None):\n",
    "        batch_replace = []\n",
    "        for i, op in circuit.findall_operations(lambda op: op.gate == self._source):\n",
    "            batch_replace.append((i, op, self._target.on(*op.qubits)))\n",
    "        transformed_circuit = circuit.unfreeze(copy=True)\n",
    "        transformed_circuit.batch_replace(batch_replace)\n",
    "        return transformed_circuit\n",
    "\n",
    "substitute_h_inv = SubstituteGate(cirq.H**-1.0,cirq.H)\n",
    "substitute_cnot_inv = SubstituteGate(cirq.CNOT**-1.0,cirq.CNOT)"
   ]
  },
  {
   "cell_type": "code",
   "execution_count": 184,
   "id": "ed59b7c0-4f9f-4252-b21a-c45ac36231ae",
   "metadata": {},
   "outputs": [],
   "source": [
    "#RCNOT implements CNOT(control,target)\n",
    "#with 4 Hadamards and CNOT(target,control)\n",
    "def RCNOT(control,target):\n",
    "    yield cirq.H(control)\n",
    "    yield cirq.H(target)\n",
    "    yield cirq.CNOT(target,control)\n",
    "    yield cirq.H(control)\n",
    "    yield cirq.H(target)\n",
    "\n",
    "#Reminder: cirq.CNOT(control,target)\n",
    "#Reference:\n",
    "#https://quantumcomputing.stackexchange.com/questions/9623/constructing-a-circuit-for-c1u-for-rotation-operators-with-two-single-qubit\n",
    "def cRy(theta,control,target,reverse=False):\n",
    "    if reverse:\n",
    "        yield from RCNOT(control,target)\n",
    "    else:\n",
    "        yield cirq.CNOT(control,target)\n",
    "    yield cirq.Ry(rads=-theta/2).on(target)\n",
    "    if reverse:\n",
    "        yield from RCNOT(control,target)\n",
    "    else:\n",
    "        yield cirq.CNOT(control,target)\n",
    "    yield cirq.Ry(rads=theta/2).on(target)\n",
    "\n",
    "def zz_xx_pump(sys,env,p):\n",
    "    yield cirq.CNOT(sys[1],sys[0])\n",
    "    yield cirq.X(env[0])\n",
    "    yield cirq.CNOT(sys[0],env[0])\n",
    "    yield from cRy(2*np.arcsin(np.sqrt(p)),env[0],sys[0],reverse=True)\n",
    "    yield cirq.CNOT(sys[0],env[0])\n",
    "    yield cirq.H(sys[1])\n",
    "    yield cirq.X(env[1])\n",
    "    yield from RCNOT(sys[1],env[1])\n",
    "    yield from cRy(2*np.arcsin(np.sqrt(p)),env[1],sys[1])\n",
    "    yield from RCNOT(sys[1],env[1])"
   ]
  },
  {
   "cell_type": "code",
   "execution_count": 156,
   "id": "423a83e0-a5da-4cf0-8e8a-bb36ef1814f7",
   "metadata": {},
   "outputs": [],
   "source": [
    "env = [cirq.LineQubit(0),cirq.LineQubit(3)]\n",
    "sys = [cirq.LineQubit(1),cirq.LineQubit(2)]\n",
    "probs = np.linspace(0,1,num=5)\n",
    "repcnt = 1024"
   ]
  },
  {
   "cell_type": "markdown",
   "id": "126185c3-d092-4119-a327-ee2b36b74d25",
   "metadata": {},
   "source": [
    "<hr></hr>"
   ]
  },
  {
   "cell_type": "code",
   "execution_count": 201,
   "id": "d524d1b7-46d9-41b0-9123-0a848d86d7d5",
   "metadata": {},
   "outputs": [
    {
     "name": "stdout",
     "output_type": "stream",
     "text": [
      "0: ───X───X───H───X───H───H───────────────────────X───H─────────────────────X─────────────────────\n",
      "          │       │                               │                         │\n",
      "1: ───X───@───H───@───H───Ry(-0.5π)───H───────────@───H──────────Ry(0.5π)───@───────M('answer')───\n",
      "      │                                                                             │\n",
      "2: ───@───H───H───X───H───X───────────Ry(-0.5π)───X───Ry(0.5π)───H──────────X───H───M─────────────\n",
      "                  │       │                       │                         │\n",
      "3: ───X───H───────@───H───@───────────────────────@───H─────────────────────@───H─────────────────\n"
     ]
    }
   ],
   "source": [
    "test_circuit = cirq.Circuit(zz_xx_pump(sys,env,1.0))\n",
    "test_circuit.append(cirq.measure(sys, key = 'answer'))\n",
    "print(test_circuit)"
   ]
  },
  {
   "cell_type": "code",
   "execution_count": 8,
   "id": "0d158275-08e1-4e38-a012-11c1480bea38",
   "metadata": {},
   "outputs": [
    {
     "name": "stdout",
     "output_type": "stream",
     "text": [
      "   ┌───┐┌───┐\n",
      "q: ┤ H ├┤ H ├\n",
      "   └───┘└───┘\n",
      "global phase: π/2\n",
      "   ┌─────────┐┌────┐┌─────────┐┌─────────┐┌────┐┌─────────┐\n",
      "q: ┤ Rz(π/2) ├┤ √X ├┤ Rz(π/2) ├┤ Rz(π/2) ├┤ √X ├┤ Rz(π/2) ├\n",
      "   └─────────┘└────┘└─────────┘└─────────┘└────┘└─────────┘\n"
     ]
    }
   ],
   "source": [
    "#Decomposition of Hadamard into OQC/IBM basis gates\n",
    "q0 = cirq.LineQubit(0)\n",
    "q1 = cirq.LineQubit(1)\n",
    "had_circuit = cirq.Circuit([cirq.H(q0),cirq.H(q0)])\n",
    "had_qiskit = QuantumCircuit.from_qasm_str(had_circuit.to_qasm())\n",
    "had_t = transpile(had_qiskit,basis_gates=['rz','sx','x','ecr','id'],optimization_level=0)\n",
    "print(had_qiskit)\n",
    "print(had_t)"
   ]
  },
  {
   "cell_type": "code",
   "execution_count": 9,
   "id": "6684f58d-57eb-4293-99f2-9920076e2641",
   "metadata": {},
   "outputs": [
    {
     "name": "stdout",
     "output_type": "stream",
     "text": [
      "               \n",
      "q_0: ──■────■──\n",
      "     ┌─┴─┐┌─┴─┐\n",
      "q_1: ┤ X ├┤ X ├\n",
      "     └───┘└───┘\n",
      "global phase: π\n",
      "     ┌──────────┐                                       ┌──────┐   ┌───┐   »\n",
      "q_0: ┤ Rz(-π/2) ├───────────────────────────────────────┤0     ├───┤ X ├───»\n",
      "     ├─────────┬┘┌─────────┐┌────┐┌─────────┐┌─────────┐│  Ecr │┌──┴───┴──┐»\n",
      "q_1: ┤ Rz(π/2) ├─┤ Rz(π/2) ├┤ √X ├┤ Rz(π/2) ├┤ Rz(π/2) ├┤1     ├┤ Rz(π/2) ├»\n",
      "     └─────────┘ └─────────┘└────┘└─────────┘└─────────┘└──────┘└─────────┘»\n",
      "«     ┌──────────┐                            ┌──────┐┌───┐\n",
      "«q_0: ┤ Rz(-π/2) ├────────────────────────────┤0     ├┤ X ├\n",
      "«     ├─────────┬┘┌────┐┌─────────┐┌─────────┐│  Ecr │└───┘\n",
      "«q_1: ┤ Rz(π/2) ├─┤ √X ├┤ Rz(π/2) ├┤ Rz(π/2) ├┤1     ├─────\n",
      "«     └─────────┘ └────┘└─────────┘└─────────┘└──────┘     \n"
     ]
    }
   ],
   "source": [
    "#Decomposition of CNOT into OQC/IBM basis gates\n",
    "cnot_circuit = cirq.Circuit([cirq.CNOT(q0,q1),cirq.CNOT(q0,q1)])\n",
    "cnot_qiskit = QuantumCircuit.from_qasm_str(cnot_circuit.to_qasm())\n",
    "cnot_t = transpile(cnot_qiskit,basis_gates=['rz','sx','x','ecr','id'],optimization_level=0)\n",
    "print(cnot_qiskit)\n",
    "print(cnot_t)"
   ]
  },
  {
   "cell_type": "code",
   "execution_count": 6,
   "id": "89c09e9c-2078-403c-aab1-c7e0eacf6136",
   "metadata": {},
   "outputs": [
    {
     "name": "stdout",
     "output_type": "stream",
     "text": [
      "   ┌─────────┐\n",
      "q: ┤ Ry(0.5) ├\n",
      "   └─────────┘\n",
      "global phase: 3π/2\n",
      "   ┌───────┐┌────┐┌────────────┐┌────┐┌────────┐\n",
      "q: ┤ Rz(0) ├┤ √X ├┤ Rz(3.6416) ├┤ √X ├┤ Rz(3π) ├\n",
      "   └───────┘└────┘└────────────┘└────┘└────────┘\n"
     ]
    }
   ],
   "source": [
    "#Decomposition of Ry into OQC/IBM basis gates\n",
    "q0 = cirq.LineQubit(0)\n",
    "ry_circuit = cirq.Circuit([cirq.Ry(rads=0.5).on(q0)])\n",
    "ry_qiskit = QuantumCircuit.from_qasm_str(ry_circuit.to_qasm())\n",
    "ry_t = transpile(ry_qiskit,basis_gates=['rz','sx','x','ecr','id'],optimization_level=0)\n",
    "print(ry_qiskit)\n",
    "print(ry_t)"
   ]
  },
  {
   "cell_type": "code",
   "execution_count": 8,
   "id": "f04da82c-9c63-4f19-81c0-a5321c360596",
   "metadata": {},
   "outputs": [
    {
     "name": "stdout",
     "output_type": "stream",
     "text": [
      "   ┌─────────┐\n",
      "q: ┤ Rx(0.5) ├\n",
      "   └─────────┘\n",
      "global phase: 3π/2\n",
      "   ┌─────────┐┌────┐┌────────────┐┌────┐┌──────────┐\n",
      "q: ┤ Rz(π/2) ├┤ √X ├┤ Rz(3.6416) ├┤ √X ├┤ Rz(5π/2) ├\n",
      "   └─────────┘└────┘└────────────┘└────┘└──────────┘\n"
     ]
    }
   ],
   "source": [
    "#Decomposition of Rx into OQC/IBM basis gates\n",
    "q0 = cirq.LineQubit(0)\n",
    "rx_circuit = cirq.Circuit([cirq.Rx(rads=0.5).on(q0)])\n",
    "rx_qiskit = QuantumCircuit.from_qasm_str(rx_circuit.to_qasm())\n",
    "rx_t = transpile(rx_qiskit,basis_gates=['rz','sx','x','ecr','id'],optimization_level=0)\n",
    "print(rx_qiskit)\n",
    "print(rx_t)"
   ]
  },
  {
   "cell_type": "code",
   "execution_count": 12,
   "id": "e166356d-f98a-40cd-913c-03563f085d1d",
   "metadata": {},
   "outputs": [
    {
     "name": "stdout",
     "output_type": "stream",
     "text": [
      "22\n",
      "                                        \n",
      "q_0: ──■─────────────────■──────────────\n",
      "     ┌─┴─┐┌───────────┐┌─┴─┐┌──────────┐\n",
      "q_1: ┤ X ├┤ Ry(-0.25) ├┤ X ├┤ Ry(0.25) ├\n",
      "     └───┘└───────────┘└───┘└──────────┘\n",
      "     ┌──────────┐                                       ┌──────┐  ┌───┐  »\n",
      "q_0: ┤ Rz(-π/2) ├───────────────────────────────────────┤0     ├──┤ X ├──»\n",
      "     ├─────────┬┘┌─────────┐┌────┐┌─────────┐┌─────────┐│  Ecr │┌─┴───┴─┐»\n",
      "q_1: ┤ Rz(π/2) ├─┤ Rz(π/2) ├┤ √X ├┤ Rz(π/2) ├┤ Rz(π/2) ├┤1     ├┤ Rz(0) ├»\n",
      "     └─────────┘ └─────────┘└────┘└─────────┘└─────────┘└──────┘└───────┘»\n",
      "«     ┌──────────┐                                                          »\n",
      "«q_0: ┤ Rz(-π/2) ├──────────────────────────────────────────────────────────»\n",
      "«     └──┬────┬──┘┌────────────┐┌────┐┌────────┐┌─────────┐┌─────────┐┌────┐»\n",
      "«q_1: ───┤ √X ├───┤ Rz(2.8916) ├┤ √X ├┤ Rz(3π) ├┤ Rz(π/2) ├┤ Rz(π/2) ├┤ √X ├»\n",
      "«        └────┘   └────────────┘└────┘└────────┘└─────────┘└─────────┘└────┘»\n",
      "«                           ┌──────┐  ┌───┐                            »\n",
      "«q_0: ──────────────────────┤0     ├──┤ X ├────────────────────────────»\n",
      "«     ┌─────────┐┌─────────┐│  Ecr │┌─┴───┴─┐┌────┐┌────────────┐┌────┐»\n",
      "«q_1: ┤ Rz(π/2) ├┤ Rz(π/2) ├┤1     ├┤ Rz(0) ├┤ √X ├┤ Rz(3.3916) ├┤ √X ├»\n",
      "«     └─────────┘└─────────┘└──────┘└───────┘└────┘└────────────┘└────┘»\n",
      "«               \n",
      "«q_0: ──────────\n",
      "«     ┌────────┐\n",
      "«q_1: ┤ Rz(3π) ├\n",
      "«     └────────┘\n"
     ]
    }
   ],
   "source": [
    "#Decomposition of X into OQC/IBM basis gates\n",
    "q0 = cirq.LineQubit(0)\n",
    "q1 = cirq.LineQubit(1)\n",
    "cry_circuit = cirq.Circuit(cRy(0.5,q1,q0))\n",
    "cry_qiskit = QuantumCircuit.from_qasm_str(cry_circuit.to_qasm())\n",
    "cry_t = transpile(cry_qiskit,basis_gates=['rz','sx','x','ecr','id'],optimization_level=0)\n",
    "print(cry_t.depth())\n",
    "print(cry_qiskit)\n",
    "print(cry_t)"
   ]
  },
  {
   "cell_type": "markdown",
   "id": "3a44cedc-7589-4e23-a41e-bd314bbc4d74",
   "metadata": {},
   "source": [
    "<hr></hr>"
   ]
  },
  {
   "cell_type": "code",
   "execution_count": 207,
   "id": "f3420733-b064-4031-9e55-a4e2213d0e76",
   "metadata": {},
   "outputs": [],
   "source": [
    "provider = IBMProvider()\n",
    "backend = provider.get_backend('ibm_kyoto')"
   ]
  },
  {
   "cell_type": "code",
   "execution_count": 208,
   "id": "b34d66fc-cc04-44b9-a3d4-b99b55bd9a54",
   "metadata": {},
   "outputs": [
    {
     "name": "stdout",
     "output_type": "stream",
     "text": [
      "300\n"
     ]
    }
   ],
   "source": [
    "print(backend.max_circuits)"
   ]
  },
  {
   "cell_type": "code",
   "execution_count": null,
   "id": "e4a43d12-026a-4997-80dc-4029029822c1",
   "metadata": {},
   "outputs": [],
   "source": [
    "#Run this cell to get a view of the qubit layout\n",
    "import networkx as nx\n",
    "G=nx.DiGraph(list(backend.coupling_map))\n",
    "plt.figure(1,figsize=(12,8)) \n",
    "nx.draw_networkx(G,pos=nx.spectral_layout(G),node_size=60,font_size=8)\n",
    "plt.show()"
   ]
  },
  {
   "cell_type": "code",
   "execution_count": 209,
   "id": "669b4a6a-594b-4d6a-bd9a-a9c1256b3d60",
   "metadata": {},
   "outputs": [],
   "source": [
    "initial_layout = [64,63,62,72]"
   ]
  },
  {
   "cell_type": "code",
   "execution_count": 210,
   "id": "e9b00159-022d-4c4e-997d-1ead1c179d2d",
   "metadata": {},
   "outputs": [],
   "source": [
    "scale_factors = [1,3,5,7]"
   ]
  },
  {
   "cell_type": "code",
   "execution_count": 211,
   "id": "f41047ae-d24c-499d-9627-98b975ac9592",
   "metadata": {},
   "outputs": [],
   "source": [
    "circ_list = []\n",
    "for scale_factor in scale_factors:\n",
    "    for p in probs:\n",
    "        for j in range(2**2):\n",
    "            circuit = cirq.Circuit()\n",
    "            if (j&1) == 1:\n",
    "                circuit.append(cirq.X.on(sys[0]))\n",
    "            if (j&2) == 2:\n",
    "                circuit.append(cirq.X.on(sys[1]))\n",
    "            circuit.append(zz_xx_pump(sys,env,p))\n",
    "            circuit_folded = fold_gates_at_random(circuit,scale_factor)\n",
    "            circuit_transformed = substitute_cnot_inv(substitute_h_inv(circuit_folded))\n",
    "            circuit_transformed.append(cirq.measure(sys, key = 'answer'))\n",
    "            circuit_qiskit = QuantumCircuit.from_qasm_str(circuit_transformed.to_qasm())\n",
    "            transpiled_circuit = transpile(circuit_qiskit,backend=backend,optimization_level=0)\n",
    "            circ_list.append(transpiled_circuit)"
   ]
  },
  {
   "cell_type": "markdown",
   "id": "136d3402-7198-45c9-a13c-eb15b4b2295c",
   "metadata": {
    "jp-MarkdownHeadingCollapsed": true
   },
   "source": [
    "<h2>Circuit depth scaling plot:</h2>"
   ]
  },
  {
   "cell_type": "code",
   "execution_count": 212,
   "id": "a2a755d5-da1c-4793-94ef-764d0447dcb9",
   "metadata": {},
   "outputs": [],
   "source": [
    "from scipy.stats import linregress\n",
    "from scipy.optimize import curve_fit\n",
    "def cfit(x,a,b):\n",
    "    return a*x+b\n",
    "circ_depth_sca = []\n",
    "for scale_factor in scale_factors:\n",
    "    circuit = cirq.Circuit(zz_xx_pump(sys,env,p))\n",
    "    circuit_folded = fold_gates_at_random(circuit,scale_factor)\n",
    "    circuit_transformed = substitute_cnot_inv(substitute_h_inv(circuit_folded))\n",
    "    circuit_qiskit = QuantumCircuit.from_qasm_str(circuit_transformed.to_qasm())\n",
    "    transpiled_circuit = transpile(circuit_qiskit,backend=backend,optimization_level=0,initial_layout=initial_layout)\n",
    "    circ_depth_sca.append(transpiled_circuit.depth())\n",
    "    # circ_depth_sca.append(len(circuit_folded))\n",
    "popt,pcov = curve_fit(cfit,scale_factors,np.array(circ_depth_sca))"
   ]
  },
  {
   "cell_type": "code",
   "execution_count": 213,
   "id": "246e8d3c-c7e8-49c1-bffe-e7f6c2d13c7f",
   "metadata": {},
   "outputs": [
    {
     "data": {
      "image/png": "[encoded data removed]",
      "text/plain": [
       "<Figure size 640x480 with 1 Axes>"
      ]
     },
     "metadata": {},
     "output_type": "display_data"
    }
   ],
   "source": [
    "plt.plot(scale_factors,np.array(circ_depth_sca),label='After transpilation')\n",
    "plt.plot(scale_factors,popt[0]*np.array(scale_factors)+popt[1],linestyle='--',label='Linear fit')\n",
    "plt.title('Circuit depth vs scale factor')\n",
    "plt.xlabel('Scale factor')\n",
    "plt.ylabel('Circuit depth')\n",
    "plt.legend()\n",
    "plt.grid()\n",
    "plt.show()"
   ]
  },
  {
   "cell_type": "markdown",
   "id": "e971aa54-6dd2-4ea9-8812-f04357362bb1",
   "metadata": {
    "jp-MarkdownHeadingCollapsed": true
   },
   "source": [
    "<h2>Helper functions:</h2>"
   ]
  },
  {
   "cell_type": "code",
   "execution_count": 186,
   "id": "3caf7b14-8dfe-42b7-8bbb-099e0faf605c",
   "metadata": {},
   "outputs": [],
   "source": [
    "def return_counts_scaled(job_id,p,sf,shots):\n",
    "    counts = None\n",
    "    job = provider.backend.retrieve_job(job_id.strip())\n",
    "    if not job.done():\n",
    "        print(job_id.strip()+' is not complete') # to avoid silent fail\n",
    "        return counts\n",
    "    results = job.result()\n",
    "    counts = results.get_counts()\n",
    "    res = np.zeros(shape=(4,p,sf)) #(type,prob,scale_factor)\n",
    "    for j in range(sf):\n",
    "        for i in range(p):\n",
    "            probs_f = np.zeros(2**2)\n",
    "            for k in range(2**2):\n",
    "                cnt = counts[np.ravel_multi_index((0,i,k),(sf,p,2**2))]\n",
    "                for key,val in cnt.items():\n",
    "                    probs_f[int(key,2)] += val/shots\n",
    "            res[:,i,j] = probs_f[:]/4\n",
    "    return res"
   ]
  },
  {
   "cell_type": "code",
   "execution_count": 187,
   "id": "582f7c34-e0af-49ee-975a-4e04c58f3d8b",
   "metadata": {},
   "outputs": [],
   "source": [
    "def mitigate(scale_factors,exp_vals,extrapolation_method):\n",
    "    mit_val = None\n",
    "    if extrapolation_method == 'richardson':\n",
    "        return inference.RichardsonFactory.extrapolate(scale_factors,exp_vals)\n",
    "    elif extrapolation_method == 'poly2':\n",
    "        return inference.PolyFactory.extrapolate(scale_factors,exp_vals,2)\n",
    "    elif extrapolation_method == 'linear':\n",
    "        return inference.LinearFactory.extrapolate(scale_factors,exp_vals)\n",
    "    else:\n",
    "        raise ValueError('Unrecogized extrapolation method')"
   ]
  },
  {
   "cell_type": "code",
   "execution_count": 190,
   "id": "490d6282-3532-4d79-8a10-62c7b4d3b9ad",
   "metadata": {},
   "outputs": [],
   "source": [
    "def get_mitigated_vals(scale_factors,res,p,extrapolation_method):\n",
    "    res_mit = np.zeros((4,p))\n",
    "    for j in range(p):\n",
    "        for i in range(2**2):\n",
    "            res_mit[i,j] = mitigate(scale_factors,res[i,j,:],extrapolation_method)\n",
    "    return res_mit"
   ]
  },
  {
   "cell_type": "code",
   "execution_count": 202,
   "id": "5682636f-a6d9-4508-9d1d-afce81b04d75",
   "metadata": {},
   "outputs": [],
   "source": [
    "def calc_pump_sim(pump,sys,env,p,repcnt):\n",
    "    \n",
    "    simulator = cirq.Simulator()\n",
    "    final_hist = Counter()\n",
    "    \n",
    "    for j in range(2**2):\n",
    "        circuit = cirq.Circuit()\n",
    "        if (j&1) == 1:\n",
    "            circuit.append(cirq.X.on(sys[0]))\n",
    "        if (j&2) == 2:\n",
    "            circuit.append(cirq.X.on(sys[1]))\n",
    "        circuit.append(pump(sys,env,p))\n",
    "        circuit.append(cirq.measure(sys, key = 'answer'))\n",
    "        \n",
    "        result = simulator.run(circuit,repetitions=repcnt)\n",
    "        histogram = result.histogram(key = 'answer')\n",
    "        final_hist += histogram\n",
    "\n",
    "    for x in final_hist:\n",
    "        final_hist[x]/=(4*repcnt)\n",
    "\n",
    "    return final_hist\n",
    "\n",
    "def calc_plot(hists):\n",
    "    pops = [[],[],[],[]]\n",
    "    for counts in hists:\n",
    "        for i in range(4):\n",
    "            pops[i].append(counts[i])\n",
    "    return pops\n",
    "\n",
    "sim_probs = np.linspace(0,1,num=20)\n",
    "hists = [calc_pump_sim(zz_xx_pump,sys,env,p,20000) for p in sim_probs]\n",
    "pops = calc_plot(hists)"
   ]
  },
  {
   "cell_type": "markdown",
   "id": "a1339bc7-31a0-40df-84ed-e8ab9d275057",
   "metadata": {},
   "source": [
    "<h2>Running job:</h2>"
   ]
  },
  {
   "cell_type": "code",
   "execution_count": 214,
   "id": "a8a832d8-fba7-4101-bd2d-69fac4c4e424",
   "metadata": {},
   "outputs": [
    {
     "name": "stdout",
     "output_type": "stream",
     "text": [
      "Submitted job with job id cntdbqpb08x0008y00sg\n",
      "All complete.\n"
     ]
    }
   ],
   "source": [
    "with open('./Jobs/MRE/7.txt','x') as job_id_file:\n",
    "        job = backend.run(circ_list,shots=repcnt)   #Run job\n",
    "        job_id_file.write(job.job_id()+'\\n')    #Write to file\n",
    "        print('Submitted job with job id '+job.job_id())\n",
    "\n",
    "print('All complete.')"
   ]
  },
  {
   "cell_type": "code",
   "execution_count": 216,
   "id": "932c2400-84ff-4523-8780-56c9e64d8006",
   "metadata": {},
   "outputs": [],
   "source": [
    "job_id = 'clqd3avcftmaupnsenj0'\n",
    "res = return_counts_scaled(job_id,probs.shape[0],len(scale_factors),repcnt)"
   ]
  },
  {
   "cell_type": "code",
   "execution_count": 217,
   "id": "b54892a5-d0db-45d4-a070-9482c9f4cc6e",
   "metadata": {},
   "outputs": [],
   "source": [
    "res_mit_poly2 = get_mitigated_vals(scale_factors,res,probs.shape[0],'poly2')\n",
    "res_mit_richardson = get_mitigated_vals(scale_factors,res,probs.shape[0],'richardson')\n",
    "res_mit_linear = get_mitigated_vals(scale_factors,res,probs.shape[0],'linear')\n",
    "res_unmit = res[...,0]"
   ]
  },
  {
   "cell_type": "code",
   "execution_count": 220,
   "id": "57ceaa87-1c64-48b6-90ad-5e5f4d446c6e",
   "metadata": {},
   "outputs": [
    {
     "data": {
      "image/png": "[encoded data removed]",
      "text/plain": [
       "<Figure size 640x480 with 1 Axes>"
      ]
     },
     "metadata": {},
     "output_type": "display_data"
    }
   ],
   "source": [
    "res_plot = res_unmit\n",
    "\n",
    "plt.plot(sim_probs,pops[0],linestyle='--')\n",
    "plt.plot(sim_probs,pops[1],linestyle='--')\n",
    "plt.plot(sim_probs,pops[2],linestyle='--')\n",
    "plt.plot(sim_probs,pops[3],linestyle='--')\n",
    "\n",
    "plt.scatter(probs,res_plot[0,:],label='|phi+>')\n",
    "plt.scatter(probs,res_plot[1,:],label='|phi->')\n",
    "plt.scatter(probs,res_plot[2,:],label='|psi+>')\n",
    "plt.scatter(probs,res_plot[3,:],label='|psi->')\n",
    "\n",
    "plt.legend()\n",
    "plt.show()"
   ]
  }
 ],
 "metadata": {
  "kernelspec": {
   "display_name": "Python 3 (ipykernel)",
   "language": "python",
   "name": "python3"
  },
  "language_info": {
   "codemirror_mode": {
    "name": "ipython",
    "version": 3
   },
   "file_extension": ".py",
   "mimetype": "text/x-python",
   "name": "python",
   "nbconvert_exporter": "python",
   "pygments_lexer": "ipython3",
   "version": "3.9.1"
  }
 },
 "nbformat": 4,
 "nbformat_minor": 5
}
