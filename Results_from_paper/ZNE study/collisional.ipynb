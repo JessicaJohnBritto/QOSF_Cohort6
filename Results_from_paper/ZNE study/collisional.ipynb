{
 "cells": [
  {
   "cell_type": "code",
   "execution_count": 17,
   "id": "09d891f6-31fc-4c8f-85f0-7ee29ccb2ac0",
   "metadata": {
    "tags": []
   },
   "outputs": [],
   "source": [
    "import cirq\n",
    "import numpy as np\n",
    "import matplotlib.pyplot as plt\n",
    "from qiskit_ibm_provider import IBMProvider\n",
    "from qiskit import QuantumCircuit, transpile\n",
    "import qiskit\n",
    "from mitiq.zne.scaling import fold_gates_at_random"
   ]
  },
  {
   "cell_type": "code",
   "execution_count": 3,
   "id": "a6ad7a91-91c8-4a00-8695-9be0a9d9a65c",
   "metadata": {
    "tags": []
   },
   "outputs": [],
   "source": [
    "def prepare_correlated(env,n=2):\n",
    "    yield cirq.H(env[0])\n",
    "    yield cirq.CNOT(env[0],env[1])\n",
    "    yield cirq.CNOT(env[1],env[2])\n",
    "\n",
    "def collide(env,sys,theta):\n",
    "    yield cirq.CNOT(env,sys)\n",
    "    yield cirq.Rz(rads=2*theta).on(sys)\n",
    "    yield cirq.CNOT(env,sys)\n",
    "\n",
    "def collision_pattern_correlated(env,sys,n,theta):\n",
    "    for i in range(n):\n",
    "        yield from collide(env[1+(i%2)],sys,theta)\n",
    "\n",
    "def meas_coherence(sys):\n",
    "    yield cirq.H(sys)\n",
    "    yield cirq.measure(sys, key = 'answer')\n",
    "\n",
    "def collision_circuit(env,sys,n,theta):\n",
    "    yield cirq.H(sys)\n",
    "    yield from prepare_correlated(env,n)\n",
    "    yield from collision_pattern_correlated(env,sys,n,theta)\n",
    "    yield from meas_coherence(sys)"
   ]
  },
  {
   "cell_type": "code",
   "execution_count": 3,
   "id": "85fc6d74-a029-4da4-843e-22aee98e1b98",
   "metadata": {},
   "outputs": [],
   "source": [
    "provider = IBMProvider()\n",
    "backend = provider.get_backend('simulator_statevector')"
   ]
  },
  {
   "cell_type": "code",
   "execution_count": 4,
   "id": "4c8a7663-dba7-4024-bc62-aca01b214366",
   "metadata": {
    "tags": []
   },
   "outputs": [],
   "source": [
    "n = 20\n",
    "g = 1\n",
    "tau = np.pi/6\n",
    "t = np.array(list(range(1,n+1)))*tau\n",
    "theta = g*tau\n",
    "\n",
    "sys = cirq.LineQubit(0)\n",
    "env = cirq.LineQubit.range(1,4)\n",
    "repcnt = 1024"
   ]
  },
  {
   "cell_type": "code",
   "execution_count": 36,
   "id": "ed77a67b-7a64-4d18-bbc4-afca4bd09afc",
   "metadata": {
    "tags": []
   },
   "outputs": [],
   "source": [
    "scale_factors = [1,2]\n",
    "depth = 1"
   ]
  },
  {
   "cell_type": "code",
   "execution_count": 37,
   "id": "f4645210-bda4-49bf-a9df-cb8c62e10d37",
   "metadata": {
    "tags": []
   },
   "outputs": [],
   "source": [
    "@cirq.transformer\n",
    "class SubstituteGate:\n",
    "    \"\"\"Transformer to substitute `source` gates with `target` in the input circuit.\"\"\"\n",
    "\n",
    "    def __init__(self, source, target):\n",
    "        self._source = source\n",
    "        self._target = target\n",
    "\n",
    "    def __call__(self, circuit, *, context=None):\n",
    "        batch_replace = []\n",
    "        for i, op in circuit.findall_operations(lambda op: op.gate == self._source):\n",
    "            batch_replace.append((i, op, self._target.on(*op.qubits)))\n",
    "        transformed_circuit = circuit.unfreeze(copy=True)\n",
    "        transformed_circuit.batch_replace(batch_replace)\n",
    "        return transformed_circuit"
   ]
  },
  {
   "cell_type": "code",
   "execution_count": 38,
   "id": "3a500684-b766-4b15-a6a1-97280515156e",
   "metadata": {
    "tags": []
   },
   "outputs": [],
   "source": [
    "substitute_h_inv = SubstituteGate(cirq.H**-1.0,cirq.H)\n",
    "substitute_cnot_inv = SubstituteGate(cirq.CNOT**-1.0,cirq.CNOT)"
   ]
  },
  {
   "cell_type": "code",
   "execution_count": 42,
   "id": "509a2bf5-2934-4fd2-9da6-37f18b68a380",
   "metadata": {
    "tags": []
   },
   "outputs": [
    {
     "name": "stdout",
     "output_type": "stream",
     "text": [
      "            ┌───┐                              ┌───┐┌───┐┌───┐┌─────────┐┌───┐»\n",
      "       q_0: ┤ H ├──────────────────────────────┤ X ├┤ X ├┤ X ├┤ Rz(π/3) ├┤ X ├»\n",
      "            ├───┤                              └─┬─┘└─┬─┘└─┬─┘└─────────┘└─┬─┘»\n",
      "       q_1: ┤ H ├──■────■────■───────────────────┼────┼────┼───────────────┼──»\n",
      "            └───┘┌─┴─┐┌─┴─┐┌─┴─┐                 │    │    │               │  »\n",
      "       q_2: ─────┤ X ├┤ X ├┤ X ├──■────■────■────■────■────■───────────────■──»\n",
      "                 └───┘└───┘└───┘┌─┴─┐┌─┴─┐┌─┴─┐                               »\n",
      "       q_3: ────────────────────┤ X ├┤ X ├┤ X ├───────────────────────────────»\n",
      "                                └───┘└───┘└───┘                               »\n",
      "m_answer: 1/══════════════════════════════════════════════════════════════════»\n",
      "                                                                              »\n",
      "«            ┌───┐┌───┐┌───┐┌─┐\n",
      "«       q_0: ┤ X ├┤ X ├┤ H ├┤M├\n",
      "«            └─┬─┘└─┬─┘└───┘└╥┘\n",
      "«       q_1: ──┼────┼────────╫─\n",
      "«              │    │        ║ \n",
      "«       q_2: ──■────■────────╫─\n",
      "«                            ║ \n",
      "«       q_3: ────────────────╫─\n",
      "«                            ║ \n",
      "«m_answer: 1/════════════════╩═\n",
      "«                            0 \n",
      "0: ───H───────────────────────────X───X───X───Rz(0.333π)───X───X───X───H───M('answer')───\n",
      "                                  │   │   │                │   │   │\n",
      "1: ───H───@───@───@───────────────┼───┼───┼────────────────┼───┼───┼─────────────────────\n",
      "          │   │   │               │   │   │                │   │   │\n",
      "2: ───────X───X───X───@───@───@───@───@───@────────────────@───@───@─────────────────────\n",
      "                      │   │   │\n",
      "3: ───────────────────X───X───X──────────────────────────────────────────────────────────\n"
     ]
    }
   ],
   "source": [
    "for scale_factor in scale_factors:\n",
    "    circuit = cirq.Circuit(collision_circuit(env,sys,depth,theta))\n",
    "    circuit_folded = fold_gates_at_random(circuit,scale_factor)\n",
    "    circuit_transformed = substitute_cnot_inv(substitute_h_inv(circuit_folded))\n",
    "    circuit_qiskit = QuantumCircuit.from_qasm_str(circuit_transformed.to_qasm())\n",
    "    # transpiled_circuit = transpile(circuit_qiskit,backend=backend,optimization_level=0)\n"
   ]
  },
  {
   "cell_type": "markdown",
   "id": "314580cf-e844-4084-8848-603aa5390d32",
   "metadata": {},
   "source": [
    "<hr></hr>"
   ]
  },
  {
   "cell_type": "code",
   "execution_count": null,
   "id": "1f90efa5-c6b1-40a5-859b-b087413f4b71",
   "metadata": {},
   "outputs": [],
   "source": [
    "# with open('./Jobs/Sim/2.txt','w') as job_id_file:\n",
    "\n",
    "\n",
    "#     for scale_factor in scale_factors:\n",
    "#         circ_list = []\n",
    "\n",
    "#         q = QuantumRegister(4,name = 'q')\n",
    "#         c = ClassicalRegister(4, name = 'c')\n",
    "#         for i in range(1,n+1,1):\n",
    "#             #Create circuit\n",
    "#             circ = corr(q, c, system, ancillae, g, tt, i)\n",
    "#             #Transpile first pass\n",
    "#             transpiled = transpile(circ,backend=backend,optimization_level=0)\n",
    "#             #Convert to Mitiq\n",
    "#             #circ_to_mitiq = from_qiskit(transpiled)\n",
    "#             #Fold circuit\n",
    "#             #circ_folded_mitiq = fold_gates_at_random(circ_to_mitiq, scale_factor)\n",
    "#             #Convert to Qiskit\n",
    "#             #circ_folded_qasm = rewrite_qasm(to_qasm(circ_folded_mitiq))\n",
    "#             #circ_folded = QuantumCircuit.from_qasm_str(circ_folded_qasm)\n",
    "#             #Transpile without optimizing\n",
    "#             #transpiled_folded = transpile(circ_folded, backend=backend, optimization_level=0)\n",
    "#             circ_list.append(transpiled)\n",
    "\n",
    "#         job = backend.run(circ_list, shots=shots)   #Run job\n",
    "#         job_id_file.write(job.job_id()+'\\n')    #Write to file\n",
    "#         print('Submitted job with job id '+job.job_id())\n",
    "\n",
    "# print('All complete.')"
   ]
  },
  {
   "cell_type": "code",
   "execution_count": null,
   "id": "7a9ac442-d5f1-437b-88c5-5f1d1b026985",
   "metadata": {},
   "outputs": [],
   "source": [
    "# def corrfunc(time):\n",
    "#     return (np.cos(time)**2-np.sin(time)**2)/2\n",
    "\n",
    "# x_ax = np.linspace(0,t[-1],num=1000)\n",
    "\n",
    "# plt.scatter(t,rho_12_corr,label='correlated')\n",
    "# plt.plot(x_ax,corrfunc(x_ax),linestyle='--')\n",
    "# plt.legend()\n",
    "# plt.show()"
   ]
  }
 ],
 "metadata": {
  "kernelspec": {
   "display_name": "Python 3 [Unitary Fund]",
   "language": "python",
   "name": "python3_unitary_j5l7hx"
  },
  "language_info": {
   "codemirror_mode": {
    "name": "ipython",
    "version": 3
   },
   "file_extension": ".py",
   "mimetype": "text/x-python",
   "name": "python",
   "nbconvert_exporter": "python",
   "pygments_lexer": "ipython3",
   "version": "3.9.18"
  }
 },
 "nbformat": 4,
 "nbformat_minor": 5
}
