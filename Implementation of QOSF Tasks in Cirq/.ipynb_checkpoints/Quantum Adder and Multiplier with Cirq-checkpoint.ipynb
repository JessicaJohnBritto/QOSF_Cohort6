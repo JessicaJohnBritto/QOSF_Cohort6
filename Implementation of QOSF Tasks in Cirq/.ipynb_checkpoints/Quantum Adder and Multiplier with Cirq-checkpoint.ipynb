{
 "cells": [
  {
   "cell_type": "code",
   "execution_count": 2,
   "id": "8651040c",
   "metadata": {},
   "outputs": [],
   "source": [
    "## Importing Packages\n",
    "\n",
    "import cirq \n",
    "import numpy as np\n",
    "from cirq.contrib.svg import SVGCircuit\n",
    "import matplotlib.pyplot as plt"
   ]
  },
  {
   "cell_type": "code",
   "execution_count": 88,
   "id": "c59676c4",
   "metadata": {},
   "outputs": [],
   "source": [
    "## Defining QFT and Inverse QFT\n",
    "\n",
    "def qft_rotations(n_qubits):\n",
    "    \"\"\"A circuit performs the QFT rotations on the specified qubits.\n",
    "    \n",
    "    Args:\n",
    "        n_qubits (list): List of qubits.\n",
    "    \"\"\"\n",
    "    n = len(n_qubits)\n",
    "    for i in range(n):\n",
    "        k = 0\n",
    "        yield cirq.H(n_qubits[i])\n",
    "        for jj in range(i+1,n,1):\n",
    "            k = k+1\n",
    "            yield (cirq.CZ ** (1/(2**(k))))(n_qubits[jj], n_qubits[i])\n",
    "    pass\n",
    "\n",
    "def inverse_qft(n_qubits):\n",
    "    \"\"\"A circuit performs the inverse of QFT rotations on the specified qubits.\n",
    "    \n",
    "    Args:\n",
    "        n_qubits (list): List of qubits.\n",
    "    \"\"\"\n",
    "    n = len(n_qubits)\n",
    "    n_qubits1 = np.flip(n_qubits)\n",
    "    for i in range(n):\n",
    "        k = 0\n",
    "        yield cirq.H(n_qubits1[i])\n",
    "        for jj in range(i+1,n,1):\n",
    "            k = k+1\n",
    "            yield (cirq.CZ ** (-1/(2**(k))))(n_qubits1[jj], n_qubits1[i])"
   ]
  },
  {
   "cell_type": "code",
   "execution_count": 104,
   "id": "d1fd542b",
   "metadata": {},
   "outputs": [],
   "source": [
    "# \"\"\"Visually check the inverse QFT circuit.\"\"\"\n",
    "# qubits = cirq.LineQubit.range(4)\n",
    "# qft = cirq.Circuit(inverse_qft(qubits))\n",
    "# SVGCircuit(qft)"
   ]
  },
  {
   "cell_type": "code",
   "execution_count": 105,
   "id": "bc4cb42c",
   "metadata": {
    "scrolled": true
   },
   "outputs": [],
   "source": [
    "# \"\"\"Visually check the QFT circuit.\"\"\"\n",
    "# qubits = cirq.LineQubit.range(4)\n",
    "# qft = cirq.Circuit(qft_rotations(qubits))\n",
    "# SVGCircuit(qft)"
   ]
  },
  {
   "cell_type": "code",
   "execution_count": 106,
   "id": "9563999b",
   "metadata": {},
   "outputs": [],
   "source": [
    "#Defining Quantum Adder\n",
    "\n",
    "def quantum_adder(n_qubits):\n",
    "    ''' A circuit performs addition of two numbers \n",
    "    \n",
    "    Args:\n",
    "        n_qubits (list): list of qubits representing the binary representation of ('binary(a)'+'binary(b)').\n",
    "    '''\n",
    "    n = len(n_qubits)\n",
    "    # Appending the first half of the qubits to list - kk\n",
    "    kk =[n_qubits[i] for i in range(0, int(len(n_qubits)/2),1)]\n",
    "    # Perfoms QFT on the first half of the qubits, i.e, on the first number\n",
    "    yield qft_rotations(kk)\n",
    "    for i in range(0,int(n/2),1):\n",
    "        k=0\n",
    "        for j in range(i+int(n/2),(n),1):\n",
    "            yield (cirq.CZ ** (1/(2**(k))))(n_qubits[j], n_qubits[i])\n",
    "            k+=1\n",
    "    yield inverse_qft(kk)"
   ]
  },
  {
   "cell_type": "code",
   "execution_count": 107,
   "id": "4df5858f",
   "metadata": {},
   "outputs": [
    {
     "name": "stdout",
     "output_type": "stream",
     "text": [
      "Enter the first number: 6\n",
      "Enter the second number: 9\n",
      "15\n"
     ]
    }
   ],
   "source": [
    "circuit = cirq.Circuit()\n",
    "# Inputting the two integers in a and b\n",
    "a = int(input(\"Enter the first number: \"))\n",
    "b = int(input(\"Enter the second number: \"))\n",
    "c = max(len(np.binary_repr(a)), len(np.binary_repr(b))) + 1\n",
    "a_bit = np.binary_repr(a, width = c)\n",
    "b_bit = np.binary_repr(b, width = c)\n",
    "# Combined form of binary(a) and binary(b)\n",
    "c1 = a_bit+b_bit\n",
    "qubits = cirq.LineQubit.range(len(c1))\n",
    "# Preparing Basis State for c1 by applying X-gate on the qubit corresponding to the index of c1 being 1\n",
    "circuit.append(cirq.X(qubits[i]) for i in range(len(c1)) if c1[i]=='1')\n",
    "circuit.append(quantum_adder(qubits))\n",
    "# Measuring the first half of the qubits\n",
    "k = [qubits[i] for i in range(0, int(len(qubits)/2),1)]\n",
    "circuit.append(cirq.measure(k, key = 'ab'))\n",
    "simulator = cirq.Simulator()\n",
    "result = simulator.run(circuit, repetitions=1)\n",
    "# print(result.data)\n",
    "c = result.histogram(key=\"ab\")\n",
    "# Retrieving the result from Counter\n",
    "print(list(c)[0])\n",
    "\n",
    "# print(cirq.ResultDict('ab'))\n",
    "# cirq.plot_state_histogram(result)\n",
    "# SVGCircuit(circuit)"
   ]
  },
  {
   "cell_type": "code",
   "execution_count": 108,
   "id": "0edecdb1",
   "metadata": {},
   "outputs": [],
   "source": [
    "def quantum_multiplier(n_qubits):\n",
    "    ''' A circuit performs multiplication of two numbers \n",
    "    \n",
    "    Args:\n",
    "        n_qubits (list): list of qubits representing the binary representation of ('binary(a)'+'binary(b)').\n",
    "    '''\n",
    "    n = len(n_qubits)\n",
    "    # Appending the first half of the qubits to list - kk\n",
    "    kk =[n_qubits[i] for i in range(0, int(len(n_qubits)/2),1)]\n",
    "    # Perfoms QFT on the first half of the qubits, i.e, on the first number\n",
    "    yield qft_rotations(kk)\n",
    "    for i in range(int(3*n/4), n,1):\n",
    "        for j in range(int(n/2), int(3*n/4),1):\n",
    "            for m in range(int(n/2)):\n",
    "                yield (cirq.CCZ ** (1/(2**(-(5*n/4)-m+j+i+1))))(n_qubits[j], n_qubits[i], n_qubits[m])\n",
    "    yield inverse_qft(kk)\n",
    "    pass"
   ]
  },
  {
   "cell_type": "code",
   "execution_count": 111,
   "id": "063e6080",
   "metadata": {},
   "outputs": [
    {
     "name": "stdout",
     "output_type": "stream",
     "text": [
      "Enter the first number: 2\n",
      "Enter the second number: 3\n",
      "6\n"
     ]
    }
   ],
   "source": [
    "circuit = cirq.Circuit()\n",
    "# Inputting the two integers in a and b\n",
    "a = int(input(\"Enter the first number: \"))\n",
    "b = int(input(\"Enter the second number: \"))\n",
    "c = max(len(np.binary_repr(a)), len(np.binary_repr(b))) + 1\n",
    "a1 = np.binary_repr(0, width = 2*c)\n",
    "a_bit = np.binary_repr(a, width = c)\n",
    "b_bit = np.binary_repr(b, width = c)\n",
    "# Combined form of binary(0), binary(a) and binary(b)\n",
    "c1 = a1 + a_bit+b_bit\n",
    "qubits = cirq.LineQubit.range(len(c1))\n",
    "# Preparing Basis State for c1 by applying X-gate on the qubit corresponding to the index of c1 being 1\n",
    "circuit.append(cirq.X(qubits[i]) for i in range(len(c1)) if c1[i]=='1')\n",
    "circuit.append(quantum_multiplier(qubits))\n",
    "k = [qubits[i] for i in range(0, int(len(qubits)/2),1)]\n",
    "# Measuring the first half of the qubits\n",
    "circuit.append(cirq.measure(k, key = 'ab'))\n",
    "simulator = cirq.Simulator()\n",
    "result = simulator.run(circuit, repetitions=1)\n",
    "# print(result.data)\n",
    "c = result.histogram(key=\"ab\")\n",
    "# Retrieving the result from Counter\n",
    "print(list(c)[0])\n",
    "# SVGCircuit(circuit)"
   ]
  },
  {
   "cell_type": "markdown",
   "id": "d351abe9",
   "metadata": {},
   "source": [
    "# QFT and QMultiplier Gates"
   ]
  },
  {
   "cell_type": "code",
   "execution_count": 13,
   "id": "701c3c62",
   "metadata": {},
   "outputs": [],
   "source": [
    "## QFT gate\n",
    "class QFT(cirq.Gate):\n",
    "    def __init__(self, n_qubits):\n",
    "        super(QFT, self)\n",
    "        self.n_qubits = n_qubits\n",
    "        \n",
    "\n",
    "    def _num_qubits_(self):\n",
    "        return self.n_qubits\n",
    "\n",
    "    def _decompose_(self, n_qubits):\n",
    "        n = len(n_qubits)\n",
    "        for i in range(n):\n",
    "            k = 0\n",
    "            yield cirq.H(n_qubits[i])\n",
    "            for jj in range(i+1,n,1):\n",
    "                k = k+1\n",
    "                yield (cirq.CZ ** (1/(2**(k))))(n_qubits[jj], n_qubits[i])\n",
    "\n",
    "    def _circuit_diagram_info_(self, args):\n",
    "        return [\"QFT\"] * self.num_qubits()\n",
    "    \n",
    "# qubits = cirq.LineQubit.range(2)\n",
    "# circuit = cirq.Circuit(QFT(n_qubits = 2).on(*qubits))\n",
    "# SVGCircuit(circuit)\n",
    "# cirq.unitary(circuit)"
   ]
  },
  {
   "cell_type": "code",
   "execution_count": 14,
   "id": "ebb05efc",
   "metadata": {},
   "outputs": [],
   "source": [
    "## Quantum Multiplier gate\n",
    "\n",
    "class qmulti(cirq.Gate):\n",
    "    def __init__(self, n_qubits):\n",
    "        super(qmulti, self)\n",
    "        self.n_qubits = n_qubits\n",
    "        \n",
    "\n",
    "    def _num_qubits_(self):\n",
    "        return self.n_qubits\n",
    "    \n",
    "    def _decompose_(self, n_qubits):\n",
    "        n = len(n_qubits)\n",
    "        kk =[n_qubits[i] for i in range(0, int(len(n_qubits)/2),1)]\n",
    "        yield QFT(n_qubits = int(n/2)).on(*kk)\n",
    "        for i in range(int(3*n/4), n, 1):\n",
    "            for j in range(int(n/2), int(3*n/4),1):\n",
    "                for m in range(int(n/2)):\n",
    "                    yield (cirq.CCZ ** (1/(2**(-(5*n/4)-m+j+i+1))))(n_qubits[j], n_qubits[i], n_qubits[m])\n",
    "        yield cirq.inverse(QFT(n_qubits = int(n/2)).on(*kk))\n",
    "    \n",
    "    def _circuit_diagram_info_(self, args):\n",
    "        return [\"QMultiplier\"] * self.num_qubits()"
   ]
  },
  {
   "cell_type": "code",
   "execution_count": 17,
   "id": "9ceb9f67",
   "metadata": {},
   "outputs": [
    {
     "name": "stdout",
     "output_type": "stream",
     "text": [
      "Enter the first number: 2\n",
      "Enter the second number: 3\n",
      "6\n"
     ]
    },
    {
     "data": {
      "image/svg+xml": [
       "<svg xmlns=\"http://www.w3.org/2000/svg\" width=\"326.8530859375\" height=\"600.0\"><line x1=\"30.0\" x2=\"296.8530859375\" y1=\"25.0\" y2=\"25.0\" stroke=\"#1967d2\" stroke-width=\"1\" /><line x1=\"30.0\" x2=\"296.8530859375\" y1=\"75.0\" y2=\"75.0\" stroke=\"#1967d2\" stroke-width=\"1\" /><line x1=\"30.0\" x2=\"296.8530859375\" y1=\"125.0\" y2=\"125.0\" stroke=\"#1967d2\" stroke-width=\"1\" /><line x1=\"30.0\" x2=\"296.8530859375\" y1=\"175.0\" y2=\"175.0\" stroke=\"#1967d2\" stroke-width=\"1\" /><line x1=\"30.0\" x2=\"296.8530859375\" y1=\"225.0\" y2=\"225.0\" stroke=\"#1967d2\" stroke-width=\"1\" /><line x1=\"30.0\" x2=\"296.8530859375\" y1=\"275.0\" y2=\"275.0\" stroke=\"#1967d2\" stroke-width=\"1\" /><line x1=\"30.0\" x2=\"296.8530859375\" y1=\"325.0\" y2=\"325.0\" stroke=\"#1967d2\" stroke-width=\"1\" /><line x1=\"30.0\" x2=\"296.8530859375\" y1=\"375.0\" y2=\"375.0\" stroke=\"#1967d2\" stroke-width=\"1\" /><line x1=\"30.0\" x2=\"296.8530859375\" y1=\"425.0\" y2=\"425.0\" stroke=\"#1967d2\" stroke-width=\"1\" /><line x1=\"30.0\" x2=\"296.8530859375\" y1=\"475.0\" y2=\"475.0\" stroke=\"#1967d2\" stroke-width=\"1\" /><line x1=\"30.0\" x2=\"296.8530859375\" y1=\"525.0\" y2=\"525.0\" stroke=\"#1967d2\" stroke-width=\"1\" /><line x1=\"30.0\" x2=\"296.8530859375\" y1=\"575.0\" y2=\"575.0\" stroke=\"#1967d2\" stroke-width=\"1\" /><line x1=\"168.24685546875\" x2=\"168.24685546875\" y1=\"25.0\" y2=\"575.0\" stroke=\"black\" stroke-width=\"3\" /><line x1=\"251.6733984375\" x2=\"251.6733984375\" y1=\"25.0\" y2=\"275.0\" stroke=\"black\" stroke-width=\"3\" /><rect x=\"10.0\" y=\"5.0\" width=\"40\" height=\"40\" stroke=\"black\" fill=\"white\" stroke-width=\"0\" /><text x=\"30.0\" y=\"25.0\" dominant-baseline=\"middle\" text-anchor=\"middle\" font-size=\"14px\" font-family=\"Arial\">0: </text><rect x=\"10.0\" y=\"55.0\" width=\"40\" height=\"40\" stroke=\"black\" fill=\"white\" stroke-width=\"0\" /><text x=\"30.0\" y=\"75.0\" dominant-baseline=\"middle\" text-anchor=\"middle\" font-size=\"14px\" font-family=\"Arial\">1: </text><rect x=\"10.0\" y=\"105.0\" width=\"40\" height=\"40\" stroke=\"black\" fill=\"white\" stroke-width=\"0\" /><text x=\"30.0\" y=\"125.0\" dominant-baseline=\"middle\" text-anchor=\"middle\" font-size=\"14px\" font-family=\"Arial\">2: </text><rect x=\"10.0\" y=\"155.0\" width=\"40\" height=\"40\" stroke=\"black\" fill=\"white\" stroke-width=\"0\" /><text x=\"30.0\" y=\"175.0\" dominant-baseline=\"middle\" text-anchor=\"middle\" font-size=\"14px\" font-family=\"Arial\">3: </text><rect x=\"10.0\" y=\"205.0\" width=\"40\" height=\"40\" stroke=\"black\" fill=\"white\" stroke-width=\"0\" /><text x=\"30.0\" y=\"225.0\" dominant-baseline=\"middle\" text-anchor=\"middle\" font-size=\"14px\" font-family=\"Arial\">4: </text><rect x=\"10.0\" y=\"255.0\" width=\"40\" height=\"40\" stroke=\"black\" fill=\"white\" stroke-width=\"0\" /><text x=\"30.0\" y=\"275.0\" dominant-baseline=\"middle\" text-anchor=\"middle\" font-size=\"14px\" font-family=\"Arial\">5: </text><rect x=\"10.0\" y=\"305.0\" width=\"40\" height=\"40\" stroke=\"black\" fill=\"white\" stroke-width=\"0\" /><text x=\"30.0\" y=\"325.0\" dominant-baseline=\"middle\" text-anchor=\"middle\" font-size=\"14px\" font-family=\"Arial\">6: </text><rect x=\"10.0\" y=\"355.0\" width=\"40\" height=\"40\" stroke=\"black\" fill=\"white\" stroke-width=\"0\" /><text x=\"30.0\" y=\"375.0\" dominant-baseline=\"middle\" text-anchor=\"middle\" font-size=\"14px\" font-family=\"Arial\">7: </text><rect x=\"10.0\" y=\"405.0\" width=\"40\" height=\"40\" stroke=\"black\" fill=\"white\" stroke-width=\"0\" /><text x=\"30.0\" y=\"425.0\" dominant-baseline=\"middle\" text-anchor=\"middle\" font-size=\"14px\" font-family=\"Arial\">8: </text><rect x=\"10.0\" y=\"455.0\" width=\"40\" height=\"40\" stroke=\"black\" fill=\"white\" stroke-width=\"0\" /><text x=\"30.0\" y=\"475.0\" dominant-baseline=\"middle\" text-anchor=\"middle\" font-size=\"14px\" font-family=\"Arial\">9: </text><rect x=\"10.0\" y=\"505.0\" width=\"40\" height=\"40\" stroke=\"black\" fill=\"white\" stroke-width=\"0\" /><text x=\"30.0\" y=\"525.0\" dominant-baseline=\"middle\" text-anchor=\"middle\" font-size=\"14px\" font-family=\"Arial\">10: </text><rect x=\"10.0\" y=\"555.0\" width=\"40\" height=\"40\" stroke=\"black\" fill=\"white\" stroke-width=\"0\" /><text x=\"30.0\" y=\"575.0\" dominant-baseline=\"middle\" text-anchor=\"middle\" font-size=\"14px\" font-family=\"Arial\">11: </text><rect x=\"70.0\" y=\"355.0\" width=\"40\" height=\"40\" stroke=\"black\" fill=\"white\" stroke-width=\"1\" /><text x=\"90.0\" y=\"375.0\" dominant-baseline=\"middle\" text-anchor=\"middle\" font-size=\"18px\" font-family=\"Arial\">X</text><rect x=\"70.0\" y=\"505.0\" width=\"40\" height=\"40\" stroke=\"black\" fill=\"white\" stroke-width=\"1\" /><text x=\"90.0\" y=\"525.0\" dominant-baseline=\"middle\" text-anchor=\"middle\" font-size=\"18px\" font-family=\"Arial\">X</text><rect x=\"70.0\" y=\"555.0\" width=\"40\" height=\"40\" stroke=\"black\" fill=\"white\" stroke-width=\"1\" /><text x=\"90.0\" y=\"575.0\" dominant-baseline=\"middle\" text-anchor=\"middle\" font-size=\"18px\" font-family=\"Arial\">X</text><rect x=\"130.0\" y=\"5.0\" width=\"76.49371093750001\" height=\"40\" stroke=\"black\" fill=\"white\" stroke-width=\"1\" /><text x=\"168.24685546875\" y=\"25.0\" dominant-baseline=\"middle\" text-anchor=\"middle\" font-size=\"14px\" font-family=\"Arial\">QMultiplier</text><rect x=\"130.0\" y=\"55.0\" width=\"76.49371093750001\" height=\"40\" stroke=\"black\" fill=\"white\" stroke-width=\"1\" /><text x=\"168.24685546875\" y=\"75.0\" dominant-baseline=\"middle\" text-anchor=\"middle\" font-size=\"14px\" font-family=\"Arial\">QMultiplier</text><rect x=\"130.0\" y=\"105.0\" width=\"76.49371093750001\" height=\"40\" stroke=\"black\" fill=\"white\" stroke-width=\"1\" /><text x=\"168.24685546875\" y=\"125.0\" dominant-baseline=\"middle\" text-anchor=\"middle\" font-size=\"14px\" font-family=\"Arial\">QMultiplier</text><rect x=\"130.0\" y=\"155.0\" width=\"76.49371093750001\" height=\"40\" stroke=\"black\" fill=\"white\" stroke-width=\"1\" /><text x=\"168.24685546875\" y=\"175.0\" dominant-baseline=\"middle\" text-anchor=\"middle\" font-size=\"14px\" font-family=\"Arial\">QMultiplier</text><rect x=\"130.0\" y=\"205.0\" width=\"76.49371093750001\" height=\"40\" stroke=\"black\" fill=\"white\" stroke-width=\"1\" /><text x=\"168.24685546875\" y=\"225.0\" dominant-baseline=\"middle\" text-anchor=\"middle\" font-size=\"14px\" font-family=\"Arial\">QMultiplier</text><rect x=\"130.0\" y=\"255.0\" width=\"76.49371093750001\" height=\"40\" stroke=\"black\" fill=\"white\" stroke-width=\"1\" /><text x=\"168.24685546875\" y=\"275.0\" dominant-baseline=\"middle\" text-anchor=\"middle\" font-size=\"14px\" font-family=\"Arial\">QMultiplier</text><rect x=\"130.0\" y=\"305.0\" width=\"76.49371093750001\" height=\"40\" stroke=\"black\" fill=\"white\" stroke-width=\"1\" /><text x=\"168.24685546875\" y=\"325.0\" dominant-baseline=\"middle\" text-anchor=\"middle\" font-size=\"14px\" font-family=\"Arial\">QMultiplier</text><rect x=\"130.0\" y=\"355.0\" width=\"76.49371093750001\" height=\"40\" stroke=\"black\" fill=\"white\" stroke-width=\"1\" /><text x=\"168.24685546875\" y=\"375.0\" dominant-baseline=\"middle\" text-anchor=\"middle\" font-size=\"14px\" font-family=\"Arial\">QMultiplier</text><rect x=\"130.0\" y=\"405.0\" width=\"76.49371093750001\" height=\"40\" stroke=\"black\" fill=\"white\" stroke-width=\"1\" /><text x=\"168.24685546875\" y=\"425.0\" dominant-baseline=\"middle\" text-anchor=\"middle\" font-size=\"14px\" font-family=\"Arial\">QMultiplier</text><rect x=\"130.0\" y=\"455.0\" width=\"76.49371093750001\" height=\"40\" stroke=\"black\" fill=\"white\" stroke-width=\"1\" /><text x=\"168.24685546875\" y=\"475.0\" dominant-baseline=\"middle\" text-anchor=\"middle\" font-size=\"14px\" font-family=\"Arial\">QMultiplier</text><rect x=\"130.0\" y=\"505.0\" width=\"76.49371093750001\" height=\"40\" stroke=\"black\" fill=\"white\" stroke-width=\"1\" /><text x=\"168.24685546875\" y=\"525.0\" dominant-baseline=\"middle\" text-anchor=\"middle\" font-size=\"14px\" font-family=\"Arial\">QMultiplier</text><rect x=\"130.0\" y=\"555.0\" width=\"76.49371093750001\" height=\"40\" stroke=\"black\" fill=\"white\" stroke-width=\"1\" /><text x=\"168.24685546875\" y=\"575.0\" dominant-baseline=\"middle\" text-anchor=\"middle\" font-size=\"14px\" font-family=\"Arial\">QMultiplier</text><rect x=\"226.4937109375\" y=\"5.0\" width=\"50.359375\" height=\"40\" stroke=\"black\" fill=\"white\" stroke-width=\"1\" /><text x=\"251.6733984375\" y=\"25.0\" dominant-baseline=\"middle\" text-anchor=\"middle\" font-size=\"14px\" font-family=\"Arial\">M('ab')</text><rect x=\"226.4937109375\" y=\"55.0\" width=\"50.359375\" height=\"40\" stroke=\"black\" fill=\"white\" stroke-width=\"1\" /><text x=\"251.6733984375\" y=\"75.0\" dominant-baseline=\"middle\" text-anchor=\"middle\" font-size=\"18px\" font-family=\"Arial\">M</text><rect x=\"226.4937109375\" y=\"105.0\" width=\"50.359375\" height=\"40\" stroke=\"black\" fill=\"white\" stroke-width=\"1\" /><text x=\"251.6733984375\" y=\"125.0\" dominant-baseline=\"middle\" text-anchor=\"middle\" font-size=\"18px\" font-family=\"Arial\">M</text><rect x=\"226.4937109375\" y=\"155.0\" width=\"50.359375\" height=\"40\" stroke=\"black\" fill=\"white\" stroke-width=\"1\" /><text x=\"251.6733984375\" y=\"175.0\" dominant-baseline=\"middle\" text-anchor=\"middle\" font-size=\"18px\" font-family=\"Arial\">M</text><rect x=\"226.4937109375\" y=\"205.0\" width=\"50.359375\" height=\"40\" stroke=\"black\" fill=\"white\" stroke-width=\"1\" /><text x=\"251.6733984375\" y=\"225.0\" dominant-baseline=\"middle\" text-anchor=\"middle\" font-size=\"18px\" font-family=\"Arial\">M</text><rect x=\"226.4937109375\" y=\"255.0\" width=\"50.359375\" height=\"40\" stroke=\"black\" fill=\"white\" stroke-width=\"1\" /><text x=\"251.6733984375\" y=\"275.0\" dominant-baseline=\"middle\" text-anchor=\"middle\" font-size=\"18px\" font-family=\"Arial\">M</text></svg>"
      ],
      "text/plain": [
       "<cirq.contrib.svg.svg.SVGCircuit at 0x156a269bd30>"
      ]
     },
     "execution_count": 17,
     "metadata": {},
     "output_type": "execute_result"
    }
   ],
   "source": [
    "circuit = cirq.Circuit()\n",
    "# Inputting the two integers in a and b\n",
    "a = int(input(\"Enter the first number: \"))\n",
    "b = int(input(\"Enter the second number: \"))\n",
    "c = max(len(np.binary_repr(a)), len(np.binary_repr(b))) + 1\n",
    "a1 = np.binary_repr(0, width = 2*c)\n",
    "a_bit = np.binary_repr(a, width = c)\n",
    "b_bit = np.binary_repr(b, width = c)\n",
    "# Combined form of binary(0), binary(a) and binary(b)\n",
    "c1 = a1 + a_bit+b_bit\n",
    "qubits = cirq.LineQubit.range(len(c1))\n",
    "# Preparing Basis State for c1 by applying X-gate on the qubit corresponding to the index of c1 being 1\n",
    "circuit.append(cirq.X(qubits[i]) for i in range(len(c1)) if c1[i]=='1')\n",
    "circuit.append(qmulti(n_qubits = len(qubits)).on(*qubits))\n",
    "k = [qubits[i] for i in range(0, int(len(qubits)/2),1)]\n",
    "# Measuring the first half of the qubits\n",
    "circuit.append(cirq.measure(k, key = 'ab'))\n",
    "simulator = cirq.Simulator()\n",
    "result = simulator.run(circuit, repetitions=1)\n",
    "c = result.histogram(key=\"ab\")\n",
    "# Retrieving the result from Counter\n",
    "print(list(c)[0])\n",
    "SVGCircuit(circuit)"
   ]
  }
 ],
 "metadata": {
  "kernelspec": {
   "display_name": "Python 3 (ipykernel)",
   "language": "python",
   "name": "python3"
  },
  "language_info": {
   "codemirror_mode": {
    "name": "ipython",
    "version": 3
   },
   "file_extension": ".py",
   "mimetype": "text/x-python",
   "name": "python",
   "nbconvert_exporter": "python",
   "pygments_lexer": "ipython3",
   "version": "3.9.12"
  }
 },
 "nbformat": 4,
 "nbformat_minor": 5
}
