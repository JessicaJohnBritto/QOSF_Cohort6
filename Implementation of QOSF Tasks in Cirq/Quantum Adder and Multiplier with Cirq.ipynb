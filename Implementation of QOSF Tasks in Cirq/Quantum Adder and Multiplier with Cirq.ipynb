{
 "cells": [
  {
   "cell_type": "code",
   "execution_count": 34,
   "id": "8651040c",
   "metadata": {},
   "outputs": [],
   "source": [
    "## Importing Packages\n",
    "\n",
    "import cirq \n",
    "import numpy as np\n",
    "from cirq.contrib.svg import SVGCircuit\n",
    "import matplotlib.pyplot as plt"
   ]
  },
  {
   "cell_type": "code",
   "execution_count": 88,
   "id": "c59676c4",
   "metadata": {},
   "outputs": [],
   "source": [
    "## Defining QFT and Inverse QFT\n",
    "\n",
    "def qft_rotations(n_qubits):\n",
    "    \"\"\"A circuit performs the QFT rotations on the specified qubits.\n",
    "    \n",
    "    Args:\n",
    "        n_qubits (list): List of qubits.\n",
    "    \"\"\"\n",
    "    n = len(n_qubits)\n",
    "    for i in range(n):\n",
    "        k = 0\n",
    "        yield cirq.H(n_qubits[i])\n",
    "        for jj in range(i+1,n,1):\n",
    "            k = k+1\n",
    "            yield (cirq.CZ ** (1/(2**(k))))(n_qubits[jj], n_qubits[i])\n",
    "    pass\n",
    "\n",
    "def inverse_qft(n_qubits):\n",
    "    \"\"\"A circuit performs the inverse of QFT rotations on the specified qubits.\n",
    "    \n",
    "    Args:\n",
    "        n_qubits (list): List of qubits.\n",
    "    \"\"\"\n",
    "    n = len(n_qubits)\n",
    "    n_qubits1 = np.flip(n_qubits)\n",
    "    for i in range(n):\n",
    "        k = 0\n",
    "        yield cirq.H(n_qubits1[i])\n",
    "        for jj in range(i+1,n,1):\n",
    "            k = k+1\n",
    "            yield (cirq.CZ ** (-1/(2**(k))))(n_qubits1[jj], n_qubits1[i])"
   ]
  },
  {
   "cell_type": "code",
   "execution_count": 104,
   "id": "d1fd542b",
   "metadata": {},
   "outputs": [],
   "source": [
    "# \"\"\"Visually check the inverse QFT circuit.\"\"\"\n",
    "# qubits = cirq.LineQubit.range(4)\n",
    "# qft = cirq.Circuit(inverse_qft(qubits))\n",
    "# SVGCircuit(qft)"
   ]
  },
  {
   "cell_type": "code",
   "execution_count": 105,
   "id": "bc4cb42c",
   "metadata": {
    "scrolled": true
   },
   "outputs": [],
   "source": [
    "# \"\"\"Visually check the QFT circuit.\"\"\"\n",
    "# qubits = cirq.LineQubit.range(4)\n",
    "# qft = cirq.Circuit(qft_rotations(qubits))\n",
    "# SVGCircuit(qft)"
   ]
  },
  {
   "cell_type": "code",
   "execution_count": 106,
   "id": "9563999b",
   "metadata": {},
   "outputs": [],
   "source": [
    "#Defining Quantum Adder\n",
    "\n",
    "def quantum_adder(n_qubits):\n",
    "    ''' A circuit performs addition of two numbers \n",
    "    \n",
    "    Args:\n",
    "        n_qubits (list): list of qubits representing the binary representation of ('binary(a)'+'binary(b)').\n",
    "    '''\n",
    "    n = len(n_qubits)\n",
    "    # Appending the first half of the qubits to list - kk\n",
    "    kk =[n_qubits[i] for i in range(0, int(len(n_qubits)/2),1)]\n",
    "    # Perfoms QFT on the first half of the qubits, i.e, on the first number\n",
    "    yield qft_rotations(kk)\n",
    "    for i in range(0,int(n/2),1):\n",
    "        k=0\n",
    "        for j in range(i+int(n/2),(n),1):\n",
    "            yield (cirq.CZ ** (1/(2**(k))))(n_qubits[j], n_qubits[i])\n",
    "            k+=1\n",
    "    yield inverse_qft(kk)"
   ]
  },
  {
   "cell_type": "code",
   "execution_count": 107,
   "id": "4df5858f",
   "metadata": {},
   "outputs": [
    {
     "name": "stdout",
     "output_type": "stream",
     "text": [
      "Enter the first number: 6\n",
      "Enter the second number: 9\n",
      "15\n"
     ]
    }
   ],
   "source": [
    "circuit = cirq.Circuit()\n",
    "# Inputting the two integers in a and b\n",
    "a = int(input(\"Enter the first number: \"))\n",
    "b = int(input(\"Enter the second number: \"))\n",
    "c = max(len(np.binary_repr(a)), len(np.binary_repr(b))) + 1\n",
    "a_bit = np.binary_repr(a, width = c)\n",
    "b_bit = np.binary_repr(b, width = c)\n",
    "# Combined form of binary(a) and binary(b)\n",
    "c1 = a_bit+b_bit\n",
    "qubits = cirq.LineQubit.range(len(c1))\n",
    "# Preparing Basis State for c1 by applying X-gate on the qubit corresponding to the index of c1 being 1\n",
    "circuit.append(cirq.X(qubits[i]) for i in range(len(c1)) if c1[i]=='1')\n",
    "circuit.append(quantum_adder(qubits))\n",
    "# Measuring the first half of the qubits\n",
    "k = [qubits[i] for i in range(0, int(len(qubits)/2),1)]\n",
    "circuit.append(cirq.measure(k, key = 'ab'))\n",
    "simulator = cirq.Simulator()\n",
    "result = simulator.run(circuit, repetitions=1)\n",
    "# print(result.data)\n",
    "c = result.histogram(key=\"ab\")\n",
    "# Retrieving the result from Counter\n",
    "print(list(c)[0])\n",
    "\n",
    "# print(cirq.ResultDict('ab'))\n",
    "# cirq.plot_state_histogram(result)\n",
    "# SVGCircuit(circuit)"
   ]
  },
  {
   "cell_type": "code",
   "execution_count": 108,
   "id": "0edecdb1",
   "metadata": {},
   "outputs": [],
   "source": [
    "def quantum_multiplier(n_qubits):\n",
    "    ''' A circuit performs multiplication of two numbers \n",
    "    \n",
    "    Args:\n",
    "        n_qubits (list): list of qubits representing the binary representation of ('binary(a)'+'binary(b)').\n",
    "    '''\n",
    "    n = len(n_qubits)\n",
    "    # Appending the first half of the qubits to list - kk\n",
    "    kk =[n_qubits[i] for i in range(0, int(len(n_qubits)/2),1)]\n",
    "    # Perfoms QFT on the first half of the qubits, i.e, on the first number\n",
    "    yield qft_rotations(kk)\n",
    "    for i in range(int(3*n/4), n,1):\n",
    "        for j in range(int(n/2), int(3*n/4),1):\n",
    "            for m in range(int(n/2)):\n",
    "                yield (cirq.CCZ ** (1/(2**(-(5*n/4)-m+j+i+1))))(n_qubits[j], n_qubits[i], n_qubits[m])\n",
    "    yield inverse_qft(kk)\n",
    "    pass"
   ]
  },
  {
   "cell_type": "code",
   "execution_count": 111,
   "id": "063e6080",
   "metadata": {},
   "outputs": [
    {
     "name": "stdout",
     "output_type": "stream",
     "text": [
      "Enter the first number: 2\n",
      "Enter the second number: 3\n",
      "6\n"
     ]
    }
   ],
   "source": [
    "circuit = cirq.Circuit()\n",
    "# Inputting the two integers in a and b\n",
    "a = int(input(\"Enter the first number: \"))\n",
    "b = int(input(\"Enter the second number: \"))\n",
    "c = max(len(np.binary_repr(a)), len(np.binary_repr(b))) + 1\n",
    "a1 = np.binary_repr(0, width = 2*c)\n",
    "a_bit = np.binary_repr(a, width = c)\n",
    "b_bit = np.binary_repr(b, width = c)\n",
    "# Combined form of binary(0), binary(a) and binary(b)\n",
    "c1 = a1 + a_bit+b_bit\n",
    "qubits = cirq.LineQubit.range(len(c1))\n",
    "# Preparing Basis State for c1 by applying X-gate on the qubit corresponding to the index of c1 being 1\n",
    "circuit.append(cirq.X(qubits[i]) for i in range(len(c1)) if c1[i]=='1')\n",
    "circuit.append(quantum_multiplier(qubits))\n",
    "k = [qubits[i] for i in range(0, int(len(qubits)/2),1)]\n",
    "# Measuring the first half of the qubits\n",
    "circuit.append(cirq.measure(k, key = 'ab'))\n",
    "simulator = cirq.Simulator()\n",
    "result = simulator.run(circuit, repetitions=1)\n",
    "# print(result.data)\n",
    "c = result.histogram(key=\"ab\")\n",
    "# Retrieving the result from Counter\n",
    "print(list(c)[0])\n",
    "# SVGCircuit(circuit)"
   ]
  }
 ],
 "metadata": {
  "kernelspec": {
   "display_name": "Python 3 (ipykernel)",
   "language": "python",
   "name": "python3"
  },
  "language_info": {
   "codemirror_mode": {
    "name": "ipython",
    "version": 3
   },
   "file_extension": ".py",
   "mimetype": "text/x-python",
   "name": "python",
   "nbconvert_exporter": "python",
   "pygments_lexer": "ipython3",
   "version": "3.9.12"
  }
 },
 "nbformat": 4,
 "nbformat_minor": 5
}
